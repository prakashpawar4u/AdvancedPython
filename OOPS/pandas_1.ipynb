{
 "cells": [
  {
   "cell_type": "code",
   "execution_count": 1,
   "metadata": {},
   "outputs": [],
   "source": [
    "import pandas as pd\n",
    "import numpy as np\n",
    "import matplotlib.pyplot as plt\n",
    "import seaborn as sns\n"
   ]
  },
  {
   "cell_type": "code",
   "execution_count": 3,
   "metadata": {},
   "outputs": [
    {
     "name": "stdout",
     "output_type": "stream",
     "text": [
      "   Country    Capital  Population\n",
      "0  Belgium   Brussels    11190846\n",
      "1    India  New Delhi  1303171035\n",
      "2   Brazil   Brasilia   207847528\n"
     ]
    }
   ],
   "source": [
    "data = {'Country': ['Belgium',  'India',  'Brazil'],\n",
    "\n",
    "'Capital': ['Brussels',  'New Delhi',  'Brasilia'],\n",
    "\n",
    "'Population': [11190846, 1303171035, 207847528]} \n",
    "\n",
    "df = pd.DataFrame(data,columns=['Country',  'Capital',  'Population'])\n",
    "print(df)"
   ]
  },
  {
   "cell_type": "code",
   "execution_count": null,
   "metadata": {},
   "outputs": [],
   "source": [
    "import pandas as pd\n",
    "from sqlalchemy import create_engine\n",
    "\n",
    "# Define the connection details\n",
    "db = {\n",
    "    \"dialect\": \"postgresql\",\n",
    "    \"username\": \"postgres\",\n",
    "    \"password\": \"postgres\",\n",
    "    \"host\": \"192.168.56.101\",\n",
    "    \"port\": \"5432\",\n",
    "    \"database\": \"otaf\"\n",
    "}\n",
    "\n",
    "# Construct the PostgreSQL database URL for SQLAlchemy\n",
    "db_url = f\"{db['dialect']}://{db['username']}:{db['password']}@{db['host']}:{db['port']}/{db['database']}\"\n",
    "\n",
    "# Create the SQLAlchemy engine\n",
    "engine = create_engine(db_url)\n",
    "\n",
    "# Reading a table directly into a DataFrame using SQLAlchemy\n",
    "df = pd.read_sql_table('my_table', engine)\n",
    "\n",
    "# Alternatively, you can use SQL queries to read data into a DataFrame\n",
    "df = pd.read_sql('SELECT * FROM my_table;', engine)\n",
    "\n",
    "# If you want to execute custom queries\n",
    "df = pd.read_sql_query('SELECT * FROM my_table;', engine)\n",
    "\n",
    "# Writing a DataFrame to a new table\n",
    "df.to_sql('myDf', engine, if_exists='replace', index=False)\n",
    "\n",
    "# Check the DataFrame (optional)\n",
    "print(df)\n"
   ]
  },
  {
   "cell_type": "code",
   "execution_count": 7,
   "metadata": {},
   "outputs": [
    {
     "name": "stdout",
     "output_type": "stream",
     "text": [
      "Job Name: job3, Priority: 5\n",
      "Job Name: job5, Priority: 4\n",
      "Job Name: job1, Priority: 3\n",
      "Job Name: job4, Priority: 2\n",
      "Job Name: job2, Priority: 1\n"
     ]
    }
   ],
   "source": [
    "jobs = [\n",
    "    {\"job_name\": \"job1\", \"priority\": 3},\n",
    "    {\"job_name\": \"job2\", \"priority\": 1},\n",
    "    {\"job_name\": \"job3\", \"priority\": 5},\n",
    "    {\"job_name\": \"job4\", \"priority\": 2},\n",
    "    {\"job_name\": \"job5\", \"priority\": 4},\n",
    "]\n",
    "\n",
    "\n",
    "\n",
    "# Sorting jobs based on priority (Highest to Lowest)\n",
    "sorted_jobs = sorted(jobs, key=lambda x: x[\"priority\"], reverse=True)\n",
    "for job in sorted_jobs:\n",
    "    print(f\"Job Name: {job['job_name']}, Priority: {job['priority']}\")"
   ]
  },
  {
   "cell_type": "code",
   "execution_count": 8,
   "metadata": {},
   "outputs": [
    {
     "name": "stdout",
     "output_type": "stream",
     "text": [
      "Starting task 1\n",
      "Starting task 2\n",
      "Starting task 3\n",
      "Task 1 completed\n",
      "Starting task 4\n",
      "Task 2 completed\n",
      "Starting task 5\n",
      "Task 3 completed\n",
      "Task 4 completed\n",
      "Task 5 completed\n"
     ]
    }
   ],
   "source": [
    "import time\n",
    "from concurrent.futures import ThreadPoolExecutor\n",
    "\n",
    "# Simulate a simple task\n",
    "def process_task(task_id):\n",
    "    print(f\"Starting task {task_id}\")\n",
    "    time.sleep(2)  # Simulate a task taking 2 seconds to complete\n",
    "    print(f\"Task {task_id} completed\")\n",
    "\n",
    "# Main function to use ThreadPoolExecutor\n",
    "def main():\n",
    "    # List of tasks (just numbers for simplicity)\n",
    "    tasks = [1, 2, 3, 4, 5]\n",
    "\n",
    "    # Create a ThreadPoolExecutor with 3 workers (threads)\n",
    "    with ThreadPoolExecutor(max_workers=3) as executor:\n",
    "        # Submit the tasks to the thread pool\n",
    "        for task in tasks:\n",
    "            executor.submit(process_task, task)\n",
    "    \n",
    "    # After all tasks are submitted, the executor will automatically wait for them to complete\n",
    "\n",
    "if __name__ == \"__main__\":\n",
    "    main()\n"
   ]
  },
  {
   "cell_type": "code",
   "execution_count": null,
   "metadata": {},
   "outputs": [],
   "source": []
  }
 ],
 "metadata": {
  "kernelspec": {
   "display_name": "envML",
   "language": "python",
   "name": "python3"
  },
  "language_info": {
   "codemirror_mode": {
    "name": "ipython",
    "version": 3
   },
   "file_extension": ".py",
   "mimetype": "text/x-python",
   "name": "python",
   "nbconvert_exporter": "python",
   "pygments_lexer": "ipython3",
   "version": "3.10.15"
  }
 },
 "nbformat": 4,
 "nbformat_minor": 2
}
