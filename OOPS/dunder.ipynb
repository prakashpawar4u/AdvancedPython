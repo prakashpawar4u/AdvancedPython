{
 "cells": [
  {
   "cell_type": "code",
   "execution_count": 1,
   "metadata": {},
   "outputs": [
    {
     "name": "stdout",
     "output_type": "stream",
     "text": [
      "HelloWorld\n"
     ]
    }
   ],
   "source": [
    "str1 = \"Hello\"\n",
    "str2 = \"World\"\n",
    "print(str1 + str2)"
   ]
  },
  {
   "cell_type": "code",
   "execution_count": 2,
   "metadata": {},
   "outputs": [
    {
     "name": "stdout",
     "output_type": "stream",
     "text": [
      "HelloWorld\n"
     ]
    }
   ],
   "source": [
    "str3 = str1 + str2\n",
    "print(str3)"
   ]
  },
  {
   "cell_type": "code",
   "execution_count": 3,
   "metadata": {},
   "outputs": [
    {
     "name": "stdout",
     "output_type": "stream",
     "text": [
      "HelloWorld\n"
     ]
    }
   ],
   "source": [
    "str3 = str1.__add__(str2)\n",
    "print(str3)\n"
   ]
  },
  {
   "cell_type": "code",
   "execution_count": 4,
   "metadata": {},
   "outputs": [
    {
     "name": "stdout",
     "output_type": "stream",
     "text": [
      "5\n"
     ]
    }
   ],
   "source": [
    "new_str = len(str1)\n",
    "print(new_str)"
   ]
  },
  {
   "cell_type": "code",
   "execution_count": 5,
   "metadata": {},
   "outputs": [
    {
     "name": "stdout",
     "output_type": "stream",
     "text": [
      "5\n"
     ]
    }
   ],
   "source": [
    "new_str = str1.__len__()\n",
    "print(new_str)\n"
   ]
  },
  {
   "cell_type": "code",
   "execution_count": null,
   "metadata": {},
   "outputs": [
    {
     "name": "stdout",
     "output_type": "stream",
     "text": [
      "Toyota Corolla 2021\n"
     ]
    }
   ],
   "source": [
    "class Car:\n",
    "    def __init__(self, make, model, year):\n",
    "        self.model = model\n",
    "        self.year = year\n",
    "        self.make = make\n",
    "    \n",
    "    def __str__(self):\n",
    "        return f\"{self.make} {self.model} {self.year}\"\n",
    "    \n",
    "    def __repr__(self):\n",
    "        return f\"Car(make={self.make}, model={self.model}, year={self.year})\"\n",
    "    \n",
    "my_car = Car(\"Toyota\", \"Corolla\", 2021)\n",
    "\n",
    "print(my_car)"
   ]
  },
  {
   "cell_type": "code",
   "execution_count": 16,
   "metadata": {},
   "outputs": [
    {
     "name": "stdout",
     "output_type": "stream",
     "text": [
      "Toyota Corolla 2021\n",
      "Car(make=Toyota, model=Corolla, year=2021)\n"
     ]
    }
   ],
   "source": [
    "print(str(my_car))\n",
    "print(repr(my_car))"
   ]
  },
  {
   "cell_type": "code",
   "execution_count": 23,
   "metadata": {},
   "outputs": [
    {
     "name": "stdout",
     "output_type": "stream",
     "text": [
      "Count=1 Count=2\n",
      "3\n"
     ]
    }
   ],
   "source": [
    "class Counter:\n",
    "    def __init__(self):\n",
    "        self.value = 0\n",
    "    \n",
    "    def count_up(self):\n",
    "        self.value +=1\n",
    "\n",
    "    def count_down(self):\n",
    "        self.value -=1\n",
    "\n",
    "    def __str__(self):\n",
    "        return f\"Count={self.value}\"\n",
    "    \n",
    "    def __repr__(self):\n",
    "        return f\"Counte(value={self.value})\"\n",
    "    \n",
    "    def __add__(self, other):\n",
    "        if isinstance(other, Counter): #and self.value == other.value:\n",
    "            return self.value + other.value\n",
    "        raise Exception(\"Invalid type\")\n",
    "    \n",
    "    def __sub__(self, other):\n",
    "        if isinstance(other, Counter):\n",
    "            if self.value >= other.value:\n",
    "                return self.value - other.value\n",
    "            raise ValueError(\"Cannot subtract more than the available quantity\")\n",
    "        raise Exception(\"Cannot subtract items of different types\")\n",
    "\n",
    "    def __eq__(self, other):\n",
    "        if isinstance(other, Counter):\n",
    "            return self.value == other.value\n",
    "        return False\n",
    "    \n",
    "    def __lt__(self, other):\n",
    "        if isinstance(other, Counter):\n",
    "            return self.value < other.value\n",
    "        return NotImplemented\n",
    "    def __le__(self, other):\n",
    "        if isinstance(other, Counter):\n",
    "            return self.value <= other.value\n",
    "        return NotImplemented\n",
    "   \n",
    "    def __gt__(self, other):\n",
    "        if isinstance(other, Counter):\n",
    "            return self.value > other.value\n",
    "        return NotImplemented\n",
    "    \n",
    "    def __mul__(self, other):\n",
    "        if isinstance(other, Counter):\n",
    "            return self.value * other.value\n",
    "        raise Exception(\"Invalid type\")\n",
    "\n",
    "count1 = Counter()\n",
    "count2 = Counter()\n",
    "\n",
    "count1.count_up()\n",
    "count2.count_up()\n",
    "count2.count_up()\n",
    "\n",
    "print(count1 , count2)\n",
    "print(count1 + count2)\n",
    "\n"
   ]
  },
  {
   "cell_type": "code",
   "execution_count": 15,
   "metadata": {},
   "outputs": [
    {
     "name": "stdout",
     "output_type": "stream",
     "text": [
      "Toyota Corolla 2021\n",
      "Car(make=Toyota, model=Corolla, year=2021)\n"
     ]
    }
   ],
   "source": []
  },
  {
   "cell_type": "code",
   "execution_count": 24,
   "metadata": {},
   "outputs": [
    {
     "name": "stdout",
     "output_type": "stream",
     "text": [
      "Count=2\n",
      "Count=0\n",
      "Counte(value=2)\n",
      "Counte(value=0)\n",
      "2\n",
      "False\n",
      "True\n",
      "False\n",
      "True\n",
      "False\n",
      "2\n",
      "0\n",
      "unsupported operand type(s) for /: 'Counter' and 'Counter'\n"
     ]
    }
   ],
   "source": [
    "if __name__ == \"__main__\":\n",
    "    # Create two Counter objects\n",
    "    counter1 = Counter()\n",
    "    counter2 = Counter()\n",
    "\n",
    "    # Count up and down\n",
    "    counter1.count_up()\n",
    "    counter1.count_up()\n",
    "    counter2.count_up()\n",
    "    counter2.count_down()\n",
    "\n",
    "    # Print the counters\n",
    "    print(counter1)  # Output: Count=2\n",
    "    print(counter2)  # Output: Count=0\n",
    "\n",
    "    # Use __repr__\n",
    "    print(repr(counter1))  # Output: Counter(value=2)\n",
    "    print(repr(counter2))  # Output: Counter(value=0)\n",
    "\n",
    "    # Test addition\n",
    "    print(counter1 + counter2)  # Output: 2\n",
    "\n",
    "    # Test equality\n",
    "    print(counter1 == counter2)  # Output: False\n",
    "\n",
    "    # Test comparison\n",
    "    print(counter1 > counter2)  # Output: True\n",
    "    print(counter1 < counter2)  # Output: False\n",
    "    print(counter1 >= counter2)  # Output: True\n",
    "    print(counter1 <= counter2)  # Output: False\n",
    "\n",
    "    # Test subtraction\n",
    "    print(counter1 - counter2)  # Output: 2\n",
    "\n",
    "    # Test multiplication\n",
    "    print(counter1 * counter2)  # Output: 0\n",
    "\n",
    "    # Test division\n",
    "    try:\n",
    "        print(counter1 / counter2)  # This will raise an exception because counter2.value is 0\n",
    "    except Exception as e:\n",
    "        print(e)  # Output: division by zero"
   ]
  },
  {
   "cell_type": "code",
   "execution_count": null,
   "metadata": {},
   "outputs": [],
   "source": []
  }
 ],
 "metadata": {
  "kernelspec": {
   "display_name": "envML",
   "language": "python",
   "name": "python3"
  },
  "language_info": {
   "codemirror_mode": {
    "name": "ipython",
    "version": 3
   },
   "file_extension": ".py",
   "mimetype": "text/x-python",
   "name": "python",
   "nbconvert_exporter": "python",
   "pygments_lexer": "ipython3",
   "version": "undefined.undefined.undefined"
  }
 },
 "nbformat": 4,
 "nbformat_minor": 2
}
