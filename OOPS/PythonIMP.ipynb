{
  "cells": [
    {
      "cell_type": "markdown",
      "metadata": {
        "colab_type": "text",
        "id": "view-in-github"
      },
      "source": [
        "<a href=\"https://colab.research.google.com/github/prakashpawar4u/Ciphers/blob/main/PythonIMP.ipynb\" target=\"_parent\"><img src=\"https://colab.research.google.com/assets/colab-badge.svg\" alt=\"Open In Colab\"/></a>"
      ]
    },
    {
      "cell_type": "code",
      "execution_count": null,
      "metadata": {
        "colab": {
          "base_uri": "https://localhost:8080/"
        },
        "id": "Da3sjD-qCX9R",
        "outputId": "43fe4d54-f258-43de-b383-585cb8faf4f3"
      },
      "outputs": [
        {
          "name": "stdout",
          "output_type": "stream",
          "text": [
            "2\n",
            "9\n"
          ]
        }
      ],
      "source": [
        "#sort list:\n",
        "l3 = [4,2,5,7,2,7,9,3]\n",
        "l3.sort()\n",
        "\n",
        "print(min(l3))\n",
        "print(max(l3))"
      ]
    },
    {
      "cell_type": "markdown",
      "metadata": {
        "id": "WnOPfBPUUDP7"
      },
      "source": [
        "# Tupple VS List:\n",
        "Literal\n",
        "someTuple = (1,2)\n",
        "someList  = [1,2]\n",
        "### Size\n",
        "\n",
        "a = tuple(range(1000))\n",
        "b = list(range(1000))\n",
        "\n",
        "a.__sizeof__() # 8024\n",
        "b.__sizeof__() # 9088\n",
        "Due to the smaller size of a tuple operation, it becomes a bit faster, but not that much to mention about until you have a huge number of elements.\n",
        "\n",
        "### Permitted operations\n",
        "b    = [1,2]   \n",
        "b[0] = 3       # [3, 2]\n",
        "\n",
        "a    = (1,2)\n",
        "a[0] = 3       # Error\n",
        "That also means that you can't delete an element or sort a tuple.\n",
        "However, you could add new element to both list and tuple with the only difference that you will change id of the tuple by adding element\n",
        "a     = (1,2)\n",
        "b     = [1,2]  \n",
        "\n",
        "id(a)          # 140230916716520\n",
        "id(b)          # 748527696\n",
        "\n",
        "a   += (3,)    # (1, 2, 3)\n",
        "b   += [3]     # [1, 2, 3]\n",
        "\n",
        "id(a)          # 140230916878160\n",
        "id(b)          # 748527696\n",
        "\n",
        "### Usage\n",
        "As a list is mutable, it can't be used as a key in a dictionary, whereas a tuple can be used.\n",
        "a    = (1,2)\n",
        "b    = [1,2]\n",
        "\n",
        "c = {a: 1}     # OK\n",
        "c = {b: 1}     # Error\n",
        "+++++++++++++++++++++++++++++++++++++++++++++++++++++++++++++++++++++++++++++++++++++++++++++++++++++++++++++++++++++++++++++++++++++++\n",
        "# Range vs XRange()\n",
        "\n",
        "range() vs xrange() in Python\n",
        "1.3\n",
        "range() and xrange() are two functions that could be used to iterate a certain number of times in for loops in Python. In Python 3, there is no xrange , but the range function behaves like xrange in Python 2.If you want to write code that will run on both Python 2 and Python 3, you should use range().\n",
        "\n",
        "range() – This returns a list of numbers created using range() function.\n",
        "xrange() – This function returns the generator object that can be used to display numbers only by looping. Only particular range is displayed on demand and hence called “lazy evaluation“.\n",
        "\n",
        "Both are implemented in different ways and have different characteristics associated with them. The points of comparisons are:\n",
        "\n",
        "Return Type\n",
        "Memory\n",
        "Operation Usage\n",
        "Speed\n",
        "Return Type\n",
        "range() returns – the list as return type.\n",
        "xrange() returns – xrange() object.\n",
        "\n",
        "\n",
        "### Return Type\n",
        "Python code to demonstrate range() vs xrange() on  basis of return type\n",
        "\n",
        "initializing a with range()\n",
        "a = range(1,10000)\n",
        "\n",
        "initializing a with xrange()\n",
        "x = xrange(1,10000)\n",
        "\n",
        "testing the type of a\n",
        "print (\"The return type of range() is : \")\n",
        "print (type(a))\n",
        "\n",
        "testing the type of x\n",
        "print (\"The return type of xrange() is : \")\n",
        "print (type(x))\n",
        "Run on IDE\n",
        "Output:\n",
        "\n",
        "The return type of range() is :\n",
        "\n",
        "The return type of xrange() is :\n",
        "\n",
        "### Memory\n",
        "The variable storing the range created by range() takes more memory as compared to variable storing the range using xrange().\n",
        "The basic reason for this is the return type of range() is list and xrange() is xrange() object.\n",
        "\n",
        "on  basis of memory\n",
        "import sys\n",
        "initializing a with range()\n",
        "a = range(1,10000)\n",
        "\n",
        "initializing a with xrange()\n",
        "x = xrange(1,10000)\n",
        "\n",
        "### testing the size of a\n",
        "range() takes more memory\n",
        "print (\"The size allotted using range() is : \")\n",
        "print (sys.getsizeof(a))\n",
        "\n",
        "### testing the size of a\n",
        "range() takes less memory\n",
        "print (\"The size allotted using xrange() is : \")\n",
        "print (sys.getsizeof(x))\n",
        "Run on IDE\n",
        "Output:\n",
        "\n",
        "The size allotted using range() is :\n",
        "80064\n",
        "The size allotted using xrange() is :\n",
        "40\n",
        "Operations usage\n",
        "As range() returns the list, all the operations that can be applied on the list can be used on it. On the other hand,\n",
        "as xrange() returns the xrange object, operations associated to list cannot be applied on them, hence a disadvantage.\n",
        "\n",
        "### Python code to demonstrate range() vs xrange()\n",
        "on  basis of operations usage\n",
        "\n",
        "initializing a with range()\n",
        "a = range(1,6)\n",
        "\n",
        "initializing a with xrange()\n",
        "x = xrange(1,6)\n",
        "\n",
        "testing usage of slice operation on range()\n",
        "prints without error\n",
        "print (\"The list after slicing using range is : \")\n",
        "print (a[2:5])\n",
        "\n",
        "testing usage of slice operation on xrange()\n",
        "raises error\n",
        "print (\"The list after slicing using xrange is : \")\n",
        "print (x[2:5])\n",
        "Run on IDE\n",
        "Error:\n",
        "\n",
        "Traceback (most recent call last):\n",
        "  File \"1f2d94c59aea6aed795b05a19e44474d.py\", line 18, in\n",
        "    print (x[2:5])\n",
        "TypeError: sequence index must be integer, not 'slice'\n",
        "Output:\n",
        "\n",
        "The list after slicing using range is :\n",
        "[3, 4, 5]\n",
        "The list after slicing using xrange is :\n",
        "\n",
        "\n",
        "### Speed\n",
        "Because of the fact that xrange() evaluates only the generator object containing only the values that are required by lazy evaluation,\n",
        "therefore is faster in implementation than range().\n",
        "\n",
        "### Important Points:\n",
        "If you want to write code that will run on both Python 2 and Python 3, use range() as the xrange funtion is deprecated in Python 3\n",
        "range() is faster if iterating over the same sequence multiple times.\n",
        "xrange() has to reconstruct the integer object every time, but range() will have real integer objects.\n",
        "(It will always perform worse in terms of memory however)"
      ]
    },
    {
      "cell_type": "markdown",
      "metadata": {
        "id": "DKSnvXl_VbSc"
      },
      "source": [
        "List comprehensions perform better here because you don’t need to load the append attribute off of the list (loop program, bytecode\n",
        "28) and call it as a function (loop program, bytecode 38). Instead, in a comprehension, a specialized LIST_APPEND bytecode is\n",
        "generated for a fast append onto the result list (comprehension program, bytecode 33).\n"
      ]
    },
    {
      "cell_type": "code",
      "execution_count": 4,
      "metadata": {},
      "outputs": [
        {
          "data": {
            "text/plain": [
              "[2, 2, 3, 4, 5, 7, 7, 9]"
            ]
          },
          "execution_count": 4,
          "metadata": {},
          "output_type": "execute_result"
        }
      ],
      "source": [
        "#Sort List\n",
        "\n",
        "l = [4,2,5,7,2,7,9,3]\n",
        "l.sort()\n",
        "l"
      ]
    },
    {
      "cell_type": "code",
      "execution_count": 6,
      "metadata": {},
      "outputs": [
        {
          "data": {
            "text/plain": [
              "9"
            ]
          },
          "execution_count": 6,
          "metadata": {},
          "output_type": "execute_result"
        }
      ],
      "source": [
        "max(l)"
      ]
    },
    {
      "cell_type": "code",
      "execution_count": 5,
      "metadata": {},
      "outputs": [
        {
          "data": {
            "text/plain": [
              "2"
            ]
          },
          "execution_count": 5,
          "metadata": {},
          "output_type": "execute_result"
        }
      ],
      "source": [
        "min(l)"
      ]
    },
    {
      "cell_type": "markdown",
      "metadata": {},
      "source": [
        "# Example 1: Squaring Numbers\n",
        "# Using a for loop:"
      ]
    },
    {
      "cell_type": "code",
      "execution_count": 10,
      "metadata": {},
      "outputs": [
        {
          "name": "stdout",
          "output_type": "stream",
          "text": [
            "1\n",
            "4\n",
            "9\n",
            "16\n",
            "25\n",
            "[1, 4, 9, 16, 25]\n"
          ]
        }
      ],
      "source": [
        "numbers = [1, 2, 3, 4, 5]\n",
        "squared_num = []\n",
        "\n",
        "for num in numbers:\n",
        "    print(num**2)\n",
        "    squared_num.append(num**2)\n",
        "print(squared_num)"
      ]
    },
    {
      "cell_type": "markdown",
      "metadata": {},
      "source": [
        "# list comprehension"
      ]
    },
    {
      "cell_type": "code",
      "execution_count": 11,
      "metadata": {},
      "outputs": [
        {
          "name": "stdout",
          "output_type": "stream",
          "text": [
            "[1, 4, 9, 16, 25]\n"
          ]
        }
      ],
      "source": [
        "\n",
        "\n",
        "squared_num = [x**2 for x in numbers]\n",
        "print(squared_num)"
      ]
    },
    {
      "cell_type": "markdown",
      "metadata": {},
      "source": [
        "# Example 2: Filtering Even Numbers\n",
        "# Using a for loop:"
      ]
    },
    {
      "cell_type": "code",
      "execution_count": 13,
      "metadata": {},
      "outputs": [
        {
          "name": "stdout",
          "output_type": "stream",
          "text": [
            "[2, 4, 6, 8, 10]\n"
          ]
        }
      ],
      "source": [
        "numbers = range(1,11)\n",
        "even_numbers = []\n",
        "\n",
        "for num in numbers:\n",
        "    if num % 2 == 0:\n",
        "        even_numbers.append(num)\n",
        "\n",
        "print(even_numbers)\n"
      ]
    },
    {
      "cell_type": "code",
      "execution_count": 14,
      "metadata": {},
      "outputs": [
        {
          "name": "stdout",
          "output_type": "stream",
          "text": [
            "[2, 4, 6, 8, 10]\n"
          ]
        }
      ],
      "source": [
        "even_numbers = [x for x in numbers if x % 2 == 0]\n",
        "print(even_numbers)"
      ]
    },
    {
      "cell_type": "markdown",
      "metadata": {},
      "source": [
        "# Conditional Expressions\n"
      ]
    },
    {
      "cell_type": "code",
      "execution_count": 15,
      "metadata": {},
      "outputs": [
        {
          "name": "stdout",
          "output_type": "stream",
          "text": [
            "['odd', 'even', 'odd', 'even', 'odd', 'even', 'odd', 'even', 'odd', 'even']\n"
          ]
        }
      ],
      "source": [
        "\n",
        "even_odd_list = []\n",
        "\n",
        "for num in numbers:\n",
        "    if num % 2 == 0:\n",
        "        even_odd_list.append('even')\n",
        "    else:\n",
        "        even_odd_list.append('odd')\n",
        "\n",
        "print(even_odd_list)\n"
      ]
    },
    {
      "cell_type": "code",
      "execution_count": 16,
      "metadata": {},
      "outputs": [
        {
          "name": "stdout",
          "output_type": "stream",
          "text": [
            "['Odd', 'Even', 'Odd', 'Even', 'Odd', 'Even', 'Odd', 'Even', 'Odd', 'Even']\n"
          ]
        }
      ],
      "source": [
        "even_odd_list = [\"Even\" if x % 2 == 0 else \"Odd\" for x in numbers]\n",
        "print(even_odd_list)"
      ]
    },
    {
      "cell_type": "markdown",
      "metadata": {},
      "source": [
        "# Nested Loops"
      ]
    },
    {
      "cell_type": "code",
      "execution_count": 17,
      "metadata": {},
      "outputs": [
        {
          "name": "stdout",
          "output_type": "stream",
          "text": [
            "[1, 2, 3, 4, 5, 6, 7, 8, 9]\n"
          ]
        }
      ],
      "source": [
        "matrix = [[1, 2, 3], [4, 5, 6], [7, 8, 9]]\n",
        "flattened = []\n",
        "\n",
        "for row in matrix:\n",
        "    for num in row:\n",
        "        flattened.append(num)\n",
        "\n",
        "print(flattened)"
      ]
    },
    {
      "cell_type": "code",
      "execution_count": 19,
      "metadata": {},
      "outputs": [
        {
          "data": {
            "text/plain": [
              "[1, 2, 3, 4, 5, 6, 7, 8, 9]"
            ]
          },
          "execution_count": 19,
          "metadata": {},
          "output_type": "execute_result"
        }
      ],
      "source": [
        "flat_matrix = [num for row in matrix for num in row]\n",
        "flat_matrix\n"
      ]
    },
    {
      "cell_type": "markdown",
      "metadata": {
        "id": "WCms_DvEVg59"
      },
      "source": [
        "# LAMBDA:\n",
        "simple one liner function:\n",
        "lambda x,y: x+y"
      ]
    },
    {
      "cell_type": "code",
      "execution_count": 1,
      "metadata": {
        "colab": {
          "base_uri": "https://localhost:8080/"
        },
        "id": "kkNNsM6IT-WS",
        "outputId": "066dec46-2eb9-4c43-a471-a95852ca33c4"
      },
      "outputs": [
        {
          "name": "stdout",
          "output_type": "stream",
          "text": [
            "8\n"
          ]
        }
      ],
      "source": [
        "mx= lambda x,y: x if x > y else y\n",
        "print(mx(8,5))"
      ]
    },
    {
      "cell_type": "code",
      "execution_count": 20,
      "metadata": {},
      "outputs": [
        {
          "name": "stdout",
          "output_type": "stream",
          "text": [
            "5\n"
          ]
        }
      ],
      "source": [
        "# Regular function\n",
        "def add(x, y):\n",
        "    return x + y\n",
        "\n",
        "# Lambda function\n",
        "add_lambda = lambda x, y: x + y\n",
        "\n",
        "# Using the lambda function\n",
        "print(add_lambda(2, 3))  # Output: 5\n"
      ]
    },
    {
      "cell_type": "code",
      "execution_count": 2,
      "metadata": {
        "colab": {
          "base_uri": "https://localhost:8080/"
        },
        "id": "eT2fbnNAT-ey",
        "outputId": "91b05d6a-3896-45f2-95e6-7f0f5073f4d2"
      },
      "outputs": [
        {
          "name": "stdout",
          "output_type": "stream",
          "text": [
            "['this', 'is', 'the', 'input', 'String,', 'In', 'this', 'string', 'words', 'should', 'start', 'with', 's']\n",
            "5\n"
          ]
        }
      ],
      "source": [
        "# MAP\n",
        "# apply same functions to each element of a sequence\n",
        "\n",
        "items = [1,2,3,4,5,6]\n",
        "squared = list(map(lambda x : x**2, items))\n",
        "\n",
        "#count no of words starting with S:\n",
        "inp = \"this is the input String, In this string words should start with s\"\n",
        "l = inp.split(' ')\n",
        "print(l)\n",
        "\n",
        "count_word = list(map(lambda x: x[0]==\"s\" or x[0]==\"S\", l)).count(True)\n",
        "print(count_word)"
      ]
    },
    {
      "cell_type": "code",
      "execution_count": 21,
      "metadata": {},
      "outputs": [
        {
          "name": "stdout",
          "output_type": "stream",
          "text": [
            "['HELLO', 'WORLD', 'PYTHON', 'LAMBDA']\n"
          ]
        }
      ],
      "source": [
        "words = ['hello', 'world', 'python', 'lambda']\n",
        "\n",
        "uppercase_words = list(map(lambda x: x.upper(), words))\n",
        "print(uppercase_words)"
      ]
    },
    {
      "cell_type": "code",
      "execution_count": null,
      "metadata": {
        "colab": {
          "base_uri": "https://localhost:8080/"
        },
        "id": "7ixczNjXT-hp",
        "outputId": "43b29ee8-0b57-4a05-8f67-426844abcee1"
      },
      "outputs": [
        {
          "name": "stdout",
          "output_type": "stream",
          "text": [
            "[-5, -4, -3, -2, -1]\n"
          ]
        }
      ],
      "source": [
        "# Filter:\n",
        "\n",
        "number_list = range(-5, 5)\n",
        "less_than_zero = list(filter(lambda x: x < 0, number_list))\n",
        "print(less_than_zero)"
      ]
    },
    {
      "cell_type": "code",
      "execution_count": 22,
      "metadata": {},
      "outputs": [
        {
          "name": "stdout",
          "output_type": "stream",
          "text": [
            "[1, 3, 5, 7, 9]\n"
          ]
        }
      ],
      "source": [
        "numbers = [1, 2, 3, 4, 5, 6, 7, 8, 9, 10]\n",
        "odd_numbers = list(filter(lambda x: x% 2 != 0, numbers))\n",
        "print(odd_numbers)"
      ]
    },
    {
      "cell_type": "code",
      "execution_count": null,
      "metadata": {
        "colab": {
          "base_uri": "https://localhost:8080/"
        },
        "id": "oOkjwXM7T-k1",
        "outputId": "62a13e8f-aae9-4bf1-87c4-65a20a046d4b"
      },
      "outputs": [
        {
          "name": "stdout",
          "output_type": "stream",
          "text": [
            "24\n",
            "397320\n"
          ]
        }
      ],
      "source": [
        "# Reduce:\n",
        "#uses results of operation as first param of next operation.\n",
        "#returns an item, not list.\n",
        "n=[4,3,2,1]\n",
        "\n",
        "from functools import reduce\n",
        "print(reduce(lambda x, y: x*y, n))\n",
        "\n",
        "product = reduce((lambda x,y: x*y), [44,5,6,7,43])\n",
        "print(product)\n"
      ]
    },
    {
      "cell_type": "code",
      "execution_count": 24,
      "metadata": {},
      "outputs": [
        {
          "data": {
            "text/plain": [
              "[{'name': 'Charlie', 'grade': 94},\n",
              " {'name': 'David', 'grade': 88},\n",
              " {'name': 'Alice', 'grade': 85},\n",
              " {'name': 'Bob', 'grade': 72}]"
            ]
          },
          "execution_count": 24,
          "metadata": {},
          "output_type": "execute_result"
        },
        {
          "ename": "",
          "evalue": "",
          "output_type": "error",
          "traceback": [
            "\u001b[1;31mThe Kernel crashed while executing code in the current cell or a previous cell. \n",
            "\u001b[1;31mPlease review the code in the cell(s) to identify a possible cause of the failure. \n",
            "\u001b[1;31mClick <a href='https://aka.ms/vscodeJupyterKernelCrash'>here</a> for more info. \n",
            "\u001b[1;31mView Jupyter <a href='command:jupyter.viewOutput'>log</a> for further details."
          ]
        }
      ],
      "source": [
        "students = [\n",
        "    {'name': 'Alice', 'grade': 85},\n",
        "    {'name': 'Bob', 'grade': 72},\n",
        "    {'name': 'Charlie', 'grade': 94},\n",
        "    {'name': 'David', 'grade': 88}\n",
        "]\n",
        "\n",
        "sorted_student = sorted(students, key=lambda student: student['grade'], reverse=True)\n",
        "sorted_student"
      ]
    },
    {
      "cell_type": "code",
      "execution_count": null,
      "metadata": {
        "colab": {
          "base_uri": "https://localhost:8080/"
        },
        "id": "9cMWHOg4T-pK",
        "outputId": "50bb70aa-d6a8-4836-b53c-54696f17700a"
      },
      "outputs": [
        {
          "name": "stdout",
          "output_type": "stream",
          "text": [
            "ITEMS dict_items([('red', '#FF0000'), ('green', '#008000'), ('blue', '#0000FF')])\n",
            "KEYS dict_keys(['red', 'green', 'blue'])\n",
            "VALUES dict_values(['#FF0000', '#008000', '#0000FF'])\n"
          ]
        }
      ],
      "source": [
        "# Zip\n",
        "# MAP 2 lists\n",
        "keys = ['red', 'green', 'blue']\n",
        "values = ['#FF0000','#008000', '#0000FF']\n",
        "color_dictionary = dict(zip(keys, values))\n",
        "print(\"ITEMS\",color_dictionary.items())\n",
        "print(\"KEYS\", color_dictionary.keys())\n",
        "print(\"VALUES\", color_dictionary.values())"
      ]
    },
    {
      "cell_type": "code",
      "execution_count": null,
      "metadata": {
        "colab": {
          "base_uri": "https://localhost:8080/"
        },
        "id": "Z9uGBoJUT-ue",
        "outputId": "b6fcfedb-a02a-4b29-e066-8a8e804b9fa4"
      },
      "outputs": [
        {
          "name": "stdout",
          "output_type": "stream",
          "text": [
            "<map object at 0x7ae7abef6da0>\n",
            "[1, 5]\n",
            "[2, 6]\n",
            "[3, 7]\n",
            "[4, 8]\n",
            "Transpose list:: [[1, 5], [2, 6], [3, 7], [4, 8]]\n"
          ]
        }
      ],
      "source": [
        "# Transpose\n",
        "l = [[1,2,3,4],[5,6,7,8]]\n",
        "\n",
        "transpose= map(list, zip(*l))\n",
        "print(transpose)\n",
        "for i in transpose:\n",
        "  print(i)\n",
        "\n",
        "transpose_list = list(map(list, zip(*l)))\n",
        "print(\"Transpose list::\",transpose_list)"
      ]
    },
    {
      "cell_type": "code",
      "execution_count": null,
      "metadata": {
        "colab": {
          "base_uri": "https://localhost:8080/"
        },
        "id": "vQczpG0WT-xt",
        "outputId": "6b957382-946f-4f2d-ac25-22c9ce1d5b4a"
      },
      "outputs": [
        {
          "name": "stdout",
          "output_type": "stream",
          "text": [
            "abcd\n",
            "['this', 'is', 'my,', 'fight', 'song']\n",
            "['hello']\n"
          ]
        }
      ],
      "source": [
        "# Join & Split\n",
        "a=[\"a\",\"b\",\"c\",\"d\"]\n",
        "str1=\"\".join(a)\n",
        "print(str1)\n",
        "\n",
        "#Split:\n",
        "str1=\"this is my, fight song\"\n",
        "print(str1.split(\" \"))\n",
        "\n",
        "str2 = \"hello\"\n",
        "print(str2.split())"
      ]
    },
    {
      "cell_type": "code",
      "execution_count": null,
      "metadata": {
        "colab": {
          "base_uri": "https://localhost:8080/"
        },
        "id": "HW2dyRqIEVIp",
        "outputId": "6bcb9d66-8d22-4b26-daf1-69b60ab0c978"
      },
      "outputs": [
        {
          "name": "stdout",
          "output_type": "stream",
          "text": [
            "this is string example....wow!!!0000000\n",
            "0000000this is string example....wow!!!\n",
            "this is string example....wow!!!\n"
          ]
        }
      ],
      "source": [
        "#STRIP:\n",
        "str = \"0000000this is string example....wow!!!0000000\";\n",
        "print(str.lstrip('0')) # left strip\n",
        "\n",
        "print(str.rstrip('0')) # right strip\n",
        "\n",
        "print(str.strip('0'))  # removes completely\n",
        "\n",
        "#removes the char from the begining of the string.\n"
      ]
    },
    {
      "cell_type": "code",
      "execution_count": null,
      "metadata": {
        "colab": {
          "base_uri": "https://localhost:8080/"
        },
        "id": "Vio95MWU2TPM",
        "outputId": "81217acd-d2fe-4292-8113-d6ea6b2ff9cd"
      },
      "outputs": [
        {
          "name": "stdout",
          "output_type": "stream",
          "text": [
            "3\n",
            "1\n"
          ]
        }
      ],
      "source": [
        "#index of item\n",
        "num =[10, 30, 4, -6]\n",
        "print(num.index(-6))\n",
        "print(num.index(30))"
      ]
    },
    {
      "cell_type": "code",
      "execution_count": null,
      "metadata": {
        "colab": {
          "base_uri": "https://localhost:8080/"
        },
        "id": "Ps5MlBA72TbK",
        "outputId": "d2e67ba6-0ed9-427b-c926-d2a579871cb7"
      },
      "outputs": [
        {
          "name": "stdout",
          "output_type": "stream",
          "text": [
            "0\n",
            "23\n"
          ]
        }
      ],
      "source": [
        "print(ord(\"a\")- 97)  # 97\n",
        "\n",
        "print(ord(\"x\")- 97) # 120\n"
      ]
    },
    {
      "cell_type": "markdown",
      "metadata": {
        "id": "lumNZo8bmldi"
      },
      "source": [
        "#List Operations:\n",
        "remove= value          lst.remove(val)\n",
        "\n",
        "del= specific index    del lst[0]\n",
        "\n",
        "pop= specific index    lst.pop(1) 2nd val deletes"
      ]
    },
    {
      "cell_type": "code",
      "execution_count": null,
      "metadata": {
        "colab": {
          "base_uri": "https://localhost:8080/"
        },
        "id": "BKlCCnrMmn4e",
        "outputId": "006030c1-5575-4218-836c-f81a2d46b998"
      },
      "outputs": [
        {
          "name": "stdout",
          "output_type": "stream",
          "text": [
            "['1', '3', '4', '5', '2']\n"
          ]
        }
      ],
      "source": [
        "l = ['1', '2', '3', '4', '5','2']\n",
        "#Remove removes the first matching value, not a specific index & returns nothing\n",
        "\n",
        "l.remove('2')\n",
        "print(l)"
      ]
    },
    {
      "cell_type": "code",
      "execution_count": null,
      "metadata": {
        "colab": {
          "base_uri": "https://localhost:8080/"
        },
        "id": "0WO-yrACmvcX",
        "outputId": "71a6ab92-9786-4ef0-943e-34c8d1dc43ec"
      },
      "outputs": [
        {
          "name": "stdout",
          "output_type": "stream",
          "text": [
            "['3', '4', '5', '2']\n"
          ]
        }
      ],
      "source": [
        "# Del deletes the specific index\n",
        "del l[0]\n",
        "print(l)"
      ]
    },
    {
      "cell_type": "code",
      "execution_count": null,
      "metadata": {
        "colab": {
          "base_uri": "https://localhost:8080/",
          "height": 35
        },
        "id": "vBLqYonlnAy-",
        "outputId": "da0db91b-3178-486c-9c71-822028746b4a"
      },
      "outputs": [
        {
          "data": {
            "application/vnd.google.colaboratory.intrinsic+json": {
              "type": "string"
            },
            "text/plain": [
              "'4'"
            ]
          },
          "execution_count": 6,
          "metadata": {},
          "output_type": "execute_result"
        }
      ],
      "source": [
        "# Pop returns the removed element:\n",
        "l.pop(1)\n"
      ]
    },
    {
      "cell_type": "code",
      "execution_count": null,
      "metadata": {
        "colab": {
          "base_uri": "https://localhost:8080/"
        },
        "id": "E3FCZ5b_nVFX",
        "outputId": "f1601ce9-1bfd-4ee2-d4db-88efa72b0ba2"
      },
      "outputs": [
        {
          "name": "stdout",
          "output_type": "stream",
          "text": [
            "finally list :: ['3', '5']\n"
          ]
        }
      ],
      "source": [
        "print(\"finally list ::\", l)"
      ]
    },
    {
      "cell_type": "code",
      "execution_count": null,
      "metadata": {
        "colab": {
          "base_uri": "https://localhost:8080/"
        },
        "id": "OBZWQJaMn2Kj",
        "outputId": "86c09e4f-3f21-4101-e95a-061108773d47"
      },
      "outputs": [
        {
          "name": "stdout",
          "output_type": "stream",
          "text": [
            "FrameInfo(frame=<frame at 0x7c750401a620, file '<ipython-input-12-64aebbda1cdb>', line 6, code test123>, filename='<ipython-input-12-64aebbda1cdb>', lineno=6, function='test123', code_context=['    print(inspect.stack()[0])\\n'], index=0)\n",
            "test123\n"
          ]
        }
      ],
      "source": [
        "#Inspect:\n",
        "import inspect\n",
        "\n",
        "def test123():\n",
        "    \"\"\"Below statement will print the method name which is called can be very usefull in debugging\"\"\"\n",
        "    print(inspect.stack()[0])\n",
        "    print(inspect.stack()[0][3])\n",
        "test123()"
      ]
    },
    {
      "cell_type": "markdown",
      "metadata": {
        "id": "MZF7MYQ-XpfO"
      },
      "source": [
        "File handling Read, Write & Execute operations:\n"
      ]
    },
    {
      "cell_type": "code",
      "execution_count": null,
      "metadata": {
        "id": "CRnecasEXvDD"
      },
      "outputs": [],
      "source": [
        "#Write Content\n",
        "fp = open(\"f1.txt\",'w')\n",
        "L = [\"This is Delhi \\n\", \"This is Paris \\n\", \"This is London \\n\"]\n",
        "s = \"Hello\\n\"\n",
        "\n",
        "# Writing a string to file\n",
        "fp.write(s)\n",
        "\n",
        "# Writing multiple strings\n",
        "# at a time\n",
        "fp.writelines(L)\n",
        "\n",
        "#close file\n",
        "fp.close()"
      ]
    },
    {
      "cell_type": "code",
      "execution_count": null,
      "metadata": {
        "colab": {
          "base_uri": "https://localhost:8080/"
        },
        "id": "VwngXEw6XxvF",
        "outputId": "8b510039-88d9-4b99-db2b-844dd3db5b10"
      },
      "outputs": [
        {
          "name": "stdout",
          "output_type": "stream",
          "text": [
            "Read Content::  Hello\n",
            "This is Delhi \n",
            "This is Paris \n",
            "This is London \n",
            "\n"
          ]
        }
      ],
      "source": [
        "# Read Content\n",
        "fp = open(\"f1.txt\",'r')\n",
        "\n",
        "print(\"Read Content:: \",fp.read())\n",
        "fp.close()\n"
      ]
    },
    {
      "cell_type": "code",
      "execution_count": null,
      "metadata": {
        "colab": {
          "base_uri": "https://localhost:8080/"
        },
        "id": "18QUSNsQYYJh",
        "outputId": "ce0fa8df-3a8c-49be-c952-947a2ce37218"
      },
      "outputs": [
        {
          "name": "stdout",
          "output_type": "stream",
          "text": [
            "Readline ::  Hello\n",
            "\n"
          ]
        }
      ],
      "source": [
        "fp = open(\"f1.txt\",'r')\n",
        "print(\"Readline :: \",fp.readline())\n",
        "fp.close()"
      ]
    },
    {
      "cell_type": "code",
      "execution_count": null,
      "metadata": {
        "colab": {
          "base_uri": "https://localhost:8080/"
        },
        "id": "atsh0AsOZCdN",
        "outputId": "e7ffc32b-8658-4229-e910-2ef81bef342b"
      },
      "outputs": [
        {
          "name": "stdout",
          "output_type": "stream",
          "text": [
            "Readlines :: ['Hello\\n', 'This is Delhi \\n', 'This is Paris \\n', 'This is London \\n']\n"
          ]
        }
      ],
      "source": [
        "fp = open(\"f1.txt\",'r')\n",
        "print(\"Readlines ::\", fp.readlines())\n",
        "fp.close()"
      ]
    },
    {
      "cell_type": "markdown",
      "metadata": {
        "id": "uU9kslql-dmV"
      },
      "source": [
        "### List Comprehensions:"
      ]
    },
    {
      "cell_type": "code",
      "execution_count": null,
      "metadata": {
        "colab": {
          "base_uri": "https://localhost:8080/"
        },
        "id": "8IM2Uzf5ZGS9",
        "outputId": "341e8391-6ea9-442f-9130-378dc2dab38e"
      },
      "outputs": [
        {
          "name": "stdout",
          "output_type": "stream",
          "text": [
            "[1, 2]\n"
          ]
        }
      ],
      "source": [
        "list1 = [1,2,3,4]\n",
        "list2 = [3,4]\n",
        "s = set(list2)\n",
        "\n",
        "temp=[x for x in list1 if x not in s]\n",
        "print(temp)"
      ]
    },
    {
      "cell_type": "markdown",
      "metadata": {
        "id": "81-7mLv5-3b5"
      },
      "source": [
        "#### Dict Comprehension"
      ]
    },
    {
      "cell_type": "code",
      "execution_count": null,
      "metadata": {
        "colab": {
          "base_uri": "https://localhost:8080/"
        },
        "id": "jkOVbAtG-wmi",
        "outputId": "f53de2c2-c427-4eac-c963-ef63023c9d3a"
      },
      "outputs": [
        {
          "name": "stdout",
          "output_type": "stream",
          "text": [
            "{1: 1, 2: 4, 3: 9, 4: 16}\n"
          ]
        }
      ],
      "source": [
        "sq = {x:x*x for x in list1}\n",
        "print(sq)"
      ]
    },
    {
      "cell_type": "markdown",
      "metadata": {
        "id": "47inVHYu_qOR"
      },
      "source": [
        "d.get() returns nothing if the key is not found,\n",
        "\n",
        "setdefault will be used to assign None if the key is not found.\n"
      ]
    },
    {
      "cell_type": "code",
      "execution_count": null,
      "metadata": {
        "colab": {
          "base_uri": "https://localhost:8080/"
        },
        "id": "uEWpoX3e_Exp",
        "outputId": "21911f9c-7590-4052-827a-6d5055d794da"
      },
      "outputs": [
        {
          "data": {
            "text/plain": [
              "4"
            ]
          },
          "execution_count": 23,
          "metadata": {},
          "output_type": "execute_result"
        }
      ],
      "source": [
        "sq.get(2)"
      ]
    },
    {
      "cell_type": "code",
      "execution_count": null,
      "metadata": {
        "id": "sncXGhom_49l"
      },
      "outputs": [],
      "source": [
        "sq.get(11)"
      ]
    },
    {
      "cell_type": "code",
      "execution_count": null,
      "metadata": {
        "colab": {
          "base_uri": "https://localhost:8080/"
        },
        "id": "vJDL1Hx1_9SC",
        "outputId": "7a63e2f1-acc9-4af5-99a8-475ed8f0ed67"
      },
      "outputs": [
        {
          "name": "stdout",
          "output_type": "stream",
          "text": [
            "{1: 1, 2: 4, 3: 9, 4: 16, 11: None}\n"
          ]
        }
      ],
      "source": [
        "sq.setdefault(11)\n",
        "print(sq)"
      ]
    },
    {
      "cell_type": "markdown",
      "metadata": {
        "id": "yhIo4xwNAG89"
      },
      "source": [
        "Dict Operations:"
      ]
    },
    {
      "cell_type": "code",
      "execution_count": null,
      "metadata": {
        "colab": {
          "base_uri": "https://localhost:8080/"
        },
        "id": "wrIGE-fBACpB",
        "outputId": "552d0825-7c83-4013-d466-d39f86816b43"
      },
      "outputs": [
        {
          "data": {
            "text/plain": [
              "{1: 'one', 2: 'two'}"
            ]
          },
          "execution_count": 26,
          "metadata": {},
          "output_type": "execute_result"
        }
      ],
      "source": [
        "d =  {1: 'one', 2: 'two'}\n",
        "d2 = d #assigning\n",
        "d3 = d.copy() #taking a deepcopy of it, changes won't reflect\n",
        "d3"
      ]
    },
    {
      "cell_type": "code",
      "execution_count": null,
      "metadata": {
        "id": "_LJiftZwAYxq"
      },
      "outputs": [],
      "source": [
        "d[1]=\"ONE\""
      ]
    },
    {
      "cell_type": "code",
      "execution_count": null,
      "metadata": {
        "colab": {
          "base_uri": "https://localhost:8080/"
        },
        "id": "DV3ETE_PAfNQ",
        "outputId": "24ee07d4-e1cf-443e-e6ef-3ed863feba2b"
      },
      "outputs": [
        {
          "data": {
            "text/plain": [
              "{1: 'ONE', 2: 'two'}"
            ]
          },
          "execution_count": 28,
          "metadata": {},
          "output_type": "execute_result"
        }
      ],
      "source": [
        "d2 #changes made on dict is reflecting"
      ]
    },
    {
      "cell_type": "code",
      "execution_count": null,
      "metadata": {
        "colab": {
          "base_uri": "https://localhost:8080/"
        },
        "id": "vQr8e9UzAgKN",
        "outputId": "9acefe79-851b-4043-c787-8070dea3e586"
      },
      "outputs": [
        {
          "data": {
            "text/plain": [
              "{1: 'one', 2: 'two'}"
            ]
          },
          "execution_count": 29,
          "metadata": {},
          "output_type": "execute_result"
        }
      ],
      "source": [
        "d3 #changes made won't be reflected"
      ]
    },
    {
      "cell_type": "code",
      "execution_count": null,
      "metadata": {
        "colab": {
          "base_uri": "https://localhost:8080/"
        },
        "id": "Hd0QMQtCAhHj",
        "outputId": "6b5b8053-25dd-4180-fdde-6d53897f33c3"
      },
      "outputs": [
        {
          "name": "stdout",
          "output_type": "stream",
          "text": [
            "{1: 10, 2: 20, 3: 30, 4: 40, 5: 50, 6: 60}\n"
          ]
        }
      ],
      "source": [
        "# Dict update :\n",
        "dic1={1:10, 2:20}\n",
        "dic2={3:30, 4:40}\n",
        "dic3={5:50,6:60}\n",
        "dic4 = {}\n",
        "\n",
        "for d in (dic1, dic2, dic3):\n",
        "  dic4.update(d)\n",
        "print(dic4)"
      ]
    },
    {
      "cell_type": "code",
      "execution_count": null,
      "metadata": {
        "colab": {
          "base_uri": "https://localhost:8080/"
        },
        "id": "nEFEaax08yNi",
        "outputId": "324720dc-757b-46ab-b955-319faf8f606d"
      },
      "outputs": [
        {
          "name": "stdout",
          "output_type": "stream",
          "text": [
            "x -> 100\n",
            "y -> 400\n",
            "z -> 900\n"
          ]
        }
      ],
      "source": [
        "#loop dict:\n",
        "d = {'x': 10, 'y': 20, 'z': 30}\n",
        "for dict_key, dict_value in d.items():\n",
        "    print(dict_key,'->',dict_value * dict_value)"
      ]
    },
    {
      "cell_type": "code",
      "execution_count": null,
      "metadata": {
        "colab": {
          "base_uri": "https://localhost:8080/"
        },
        "id": "-8-L0oYS9GR2",
        "outputId": "1a08d18d-9870-472f-b5d7-7e3c05699c6a"
      },
      "outputs": [
        {
          "name": "stdout",
          "output_type": "stream",
          "text": [
            "-1000\n"
          ]
        }
      ],
      "source": [
        "#Multiply dict:\n",
        "my_dict = {'data1':10,'data2':-20,'data3':5}\n",
        "result=1\n",
        "for key in my_dict:\n",
        "    result=result * my_dict[key]\n",
        "print(result)"
      ]
    },
    {
      "cell_type": "code",
      "execution_count": null,
      "metadata": {
        "colab": {
          "base_uri": "https://localhost:8080/"
        },
        "id": "-5H6psY69Qai",
        "outputId": "85695ccf-69cc-4175-8495-ebf4301af584"
      },
      "outputs": [
        {
          "name": "stdout",
          "output_type": "stream",
          "text": [
            "{'a': 1, 'b': 2, 'c': 3, 'd': 4}\n",
            "Post Deletion:: {'b': 2, 'c': 3, 'd': 4}\n"
          ]
        }
      ],
      "source": [
        "#Delete key:\n",
        "myDict = {'a':1,'b':2,'c':3,'d':4}\n",
        "print(myDict)\n",
        "if 'a' in myDict:\n",
        "    del myDict['a']\n",
        "print(\"Post Deletion::\", myDict)"
      ]
    },
    {
      "cell_type": "code",
      "execution_count": null,
      "metadata": {
        "colab": {
          "base_uri": "https://localhost:8080/"
        },
        "id": "KRfO3yJJ9gYx",
        "outputId": "66865ccb-2d21-479f-9650-66130ff0a7b4"
      },
      "outputs": [
        {
          "name": "stdout",
          "output_type": "stream",
          "text": [
            "y x\n"
          ]
        }
      ],
      "source": [
        "#Max & Min value in dict:\n",
        "my_dict = {'x':500, 'y':5874, 'z': 560}\n",
        "\n",
        "key_max = max(my_dict.keys(), key=(lambda k: my_dict[k]))\n",
        "key_min = min(my_dict.keys(), key=(lambda k: my_dict[k]))\n",
        "\n",
        "print(key_max, key_min)"
      ]
    },
    {
      "cell_type": "code",
      "execution_count": 182,
      "metadata": {},
      "outputs": [
        {
          "name": "stdout",
          "output_type": "stream",
          "text": [
            "hi\n",
            "bye\n",
            "huh?\n",
            "what....\n"
          ]
        }
      ],
      "source": [
        "# DICTIONARY:\n",
        "# Ordered Dict:\n",
        "test_dict = dict( val1 = \"hi\", val2 = \"bye\", val3 = \"huh?\", val4 = \"what....\")\n",
        "test_tuple = ( 'val1', 'val2', 'val3', 'val4')\n",
        "for key in test_tuple:\n",
        "    print(test_dict[key])"
      ]
    },
    {
      "cell_type": "markdown",
      "metadata": {
        "id": "xPoITKhW-gjC"
      },
      "source": [
        "**Regular Expressions:**\n",
        "\n",
        "Python offers two different primitive operations based on regular expressions: match checks for a match only at the beginning of the string,\n",
        "while search checks for a match anywhere in the string (this is what Perl does by default).\n"
      ]
    },
    {
      "cell_type": "code",
      "execution_count": null,
      "metadata": {
        "colab": {
          "base_uri": "https://localhost:8080/",
          "height": 36
        },
        "id": "s8QrL6bX-AKv",
        "outputId": "1a6f6b9d-fe99-4251-cb57-48860d323167"
      },
      "outputs": [
        {
          "data": {
            "application/vnd.google.colaboratory.intrinsic+json": {
              "type": "string"
            },
            "text/plain": [
              "'2004-959-559 '"
            ]
          },
          "execution_count": 12,
          "metadata": {},
          "output_type": "execute_result"
        }
      ],
      "source": [
        "import re\n",
        "phone = '2004-959-559 #This is Phone Number'\n",
        "num = re.sub(r\"#.*$\",\"\",phone)\n",
        "num  #removed all the characters except number & hyphen"
      ]
    },
    {
      "cell_type": "code",
      "execution_count": null,
      "metadata": {
        "colab": {
          "base_uri": "https://localhost:8080/",
          "height": 36
        },
        "id": "cLPGSTjj-4t8",
        "outputId": "2a769ace-5997-4539-ed1f-5f21a1acb50c"
      },
      "outputs": [
        {
          "data": {
            "application/vnd.google.colaboratory.intrinsic+json": {
              "type": "string"
            },
            "text/plain": [
              "'2004959559'"
            ]
          },
          "execution_count": 14,
          "metadata": {},
          "output_type": "execute_result"
        }
      ],
      "source": [
        "num = re.sub(r'\\D',\"\",phone)\n",
        "num"
      ]
    },
    {
      "cell_type": "code",
      "execution_count": null,
      "metadata": {
        "id": "TEF9qm2M_XlJ"
      },
      "outputs": [],
      "source": [
        "ts = \"apples oranges apples\"\n",
        "\n",
        "match_obj = re.match(\"apple\", ts)\n",
        "search_obj = re.search(\"apples\",ts)\n",
        "findall_obj = re.findall(\"apples\",ts)"
      ]
    },
    {
      "cell_type": "code",
      "execution_count": null,
      "metadata": {
        "colab": {
          "base_uri": "https://localhost:8080/"
        },
        "id": "JGzHRPdhBgaH",
        "outputId": "f3fdf390-8bda-4500-bff2-cba24fa6750f"
      },
      "outputs": [
        {
          "name": "stdout",
          "output_type": "stream",
          "text": [
            "<re.Match object; span=(0, 5), match='apple'>\n",
            "<re.Match object; span=(0, 6), match='apples'>\n",
            "['apples', 'apples']\n"
          ]
        }
      ],
      "source": [
        "print(match_obj)\n",
        "print(search_obj)\n",
        "print(findall_obj)"
      ]
    },
    {
      "cell_type": "code",
      "execution_count": null,
      "metadata": {
        "id": "YIPquvO7BmYS"
      },
      "outputs": [],
      "source": [
        "#substitue:\n",
        "text_after = re.sub(regex_search_term, regex_replacement, text_before)\n"
      ]
    },
    {
      "cell_type": "markdown",
      "metadata": {
        "id": "v6LeCvaFB9HW"
      },
      "source": [
        "IMP REGEX:\n",
        "\n",
        "Email   \\w+[._]*\\w*@\\w+.\\w+\n",
        "\n",
        "Phone No: [789]\\d{9}|\\d{3,}-\\d{6,}\n",
        "\n",
        "IP Address: (\\d+\\.\\d+\\.\\d+\\.\\d+)\n",
        "\n",
        "Valid IP address: ((25[0-5]|2[0-4][0-9]|[01]?[0-9][0-9]?)\\.){3}(25[0-5]|2[0-4][0-9]|[01]?[0-9][0-9]?)\n",
        "((25[0-5]|2[0-4][0-9]|[01]?[0-9][0-9]?)\\.){3}(25[0-5]|2[0-4][0-9]|[01]?[0-9][0-9]?)\n",
        "\n",
        "URL : \\w+://(?:\\w+|[/:;+=*.])+\n",
        "\n",
        "Special Character: /^[-@./#&+\\w\\s]*$/\n",
        "\n",
        "float values: [+-]?([0-9]*[.])?[0-9]+\n",
        "\n",
        "REGEX EMAIL:\n",
        "[\\w.-]+@[\\w.-]+.\\w+\n",
        "\n",
        "\\\"?([-a-zA-Z0-9.`?{}]+@\\w+\\.\\w+)\\\"?\n",
        "\n",
        "('(\\w+[.|\\w])*@(\\w+[.])*\\w+',email4)"
      ]
    },
    {
      "cell_type": "code",
      "execution_count": null,
      "metadata": {
        "colab": {
          "base_uri": "https://localhost:8080/"
        },
        "id": "UolBYY_FB1nV",
        "outputId": "6773eea0-4945-487e-f174-a08b2ab014be"
      },
      "outputs": [
        {
          "name": "stdout",
          "output_type": "stream",
          "text": [
            "Pass\n",
            "You failed to match python-#list@python.org\n",
            "Pass\n"
          ]
        }
      ],
      "source": [
        "import re\n",
        "# here is my function to check for valid email address\n",
        "def test_email(your_pattern):\n",
        "  pattern = re.compile(your_pattern)\n",
        "  # here is an example list of email to check it at the end\n",
        "  emails = [\"john@example.com\", \"python-#list@python.org\", \"wha.t.`1an?ug{}ly@email.com\"]\n",
        "  for email in emails:\n",
        "      if not re.match(pattern, email):\n",
        "        print(\"You failed to match %s\" % (email))\n",
        "      elif not your_pattern:\n",
        "        print(\"Forgot to enter a pattern!\")\n",
        "      else:\n",
        "          print(\"Pass\")\n",
        "# my pattern that is passed as argument in my function is here!\n",
        "pattern = r\"\\\"?([-a-zA-Z0-9.`?{}]+@\\w+\\.\\w+)\\\"?\"\n",
        "# here i test my function passing my pattern\n",
        "test_email(pattern)"
      ]
    },
    {
      "cell_type": "markdown",
      "metadata": {},
      "source": [
        "(\\w+:\\/\\/(\\d+(\\.\\d+){3})\\:(\\d+)\\/\\w+\\.\\w+) group URL, IP & port\n",
        "\n",
        "^\\d{1,3}\\.\\d{1,3}\\.\\d{1,3}\\.\\d{1,3}$\n",
        "\n",
        "\\d{1,3}.\\d{1,3}.\\d{1,3}.\\d{1,3}\n",
        "\n",
        "^\\d{1,3}.\\d{1,3}.\\d{1,3}.\\d{1,3}$\n",
        "\n",
        "\n",
        "(\\w+:\\/\\/(\\d+(\\.\\d+){3})\\:(\\d+)\\/\\w+\\.\\w+) group URL, IP & port\n",
        "\n",
        "^\\d{1,3}\\.\\d{1,3}\\.\\d{1,3}\\.\\d{1,3}$\n",
        "\n",
        "\\d{1,3}.\\d{1,3}.\\d{1,3}.\\d{1,3}\n",
        "\n",
        "^\\d{1,3}.\\d{1,3}.\\d{1,3}.\\d{1,3}$"
      ]
    },
    {
      "cell_type": "code",
      "execution_count": null,
      "metadata": {
        "colab": {
          "base_uri": "https://localhost:8080/"
        },
        "id": "Zm1Y-bDJCvYY",
        "outputId": "5b27546d-5fc6-4d76-f63b-142c4a498b68"
      },
      "outputs": [
        {
          "name": "stdout",
          "output_type": "stream",
          "text": [
            "True\n",
            "False\n"
          ]
        }
      ],
      "source": [
        "import socket\n",
        "def valid_ip(address):\n",
        "    try:\n",
        "        socket.inet_aton(address)\n",
        "        return True\n",
        "    except:\n",
        "        return False\n",
        "print(valid_ip(\"10.10.9.89\"))\n",
        "print(valid_ip(\"10.10.9.899\"))"
      ]
    },
    {
      "cell_type": "code",
      "execution_count": null,
      "metadata": {
        "colab": {
          "base_uri": "https://localhost:8080/"
        },
        "id": "7S1X4Th2DljQ",
        "outputId": "60680626-36b0-4f82-aa58-eb1eeeb3797f"
      },
      "outputs": [
        {
          "name": "stdout",
          "output_type": "stream",
          "text": [
            "5\n"
          ]
        }
      ],
      "source": [
        "import random\n",
        "\n",
        "# Generates a random number between\n",
        "# a given positive range\n",
        "r1 = random.randint(0, 10)\n",
        "print(r1)"
      ]
    },
    {
      "cell_type": "code",
      "execution_count": null,
      "metadata": {
        "colab": {
          "base_uri": "https://localhost:8080/"
        },
        "id": "3ONR7UOHD3af",
        "outputId": "23beb59a-8800-486a-9cf6-7c16c279b785"
      },
      "outputs": [
        {
          "name": "stdout",
          "output_type": "stream",
          "text": [
            "[(2, 1), (1, 2), (2, 3), (4, 4), (2, 5)]\n"
          ]
        }
      ],
      "source": [
        "#Sort tupple by last element:\n",
        "def last(n): return n[-1]\n",
        "\n",
        "def sort_list_last(tuples):\n",
        "  return sorted(tuples, key=last)\n",
        "\n",
        "print(sort_list_last([(2, 5), (1, 2), (4, 4), (2, 3), (2, 1)]))\n"
      ]
    },
    {
      "cell_type": "code",
      "execution_count": null,
      "metadata": {
        "colab": {
          "base_uri": "https://localhost:8080/"
        },
        "id": "2lhrMpJND3dh",
        "outputId": "ed43777a-ecb1-44d7-b30f-f7b04d02ef9f"
      },
      "outputs": [
        {
          "name": "stdout",
          "output_type": "stream",
          "text": [
            "[1, 2, 3, 4, 1, 5, 6, 7, 9, 8, 7, 6]\n"
          ]
        }
      ],
      "source": [
        "#list inside list:\n",
        "e = [[1,2,3,4], [1,5,6,7], [9,8,7,6]]\n",
        "workers=[j for i in e for j in i]\n",
        "print(workers)"
      ]
    },
    {
      "cell_type": "code",
      "execution_count": null,
      "metadata": {
        "colab": {
          "base_uri": "https://localhost:8080/"
        },
        "id": "TY8dsXiND3gk",
        "outputId": "1f756e00-9439-43de-9e07-77984ee70ea2"
      },
      "outputs": [
        {
          "data": {
            "text/plain": [
              "['__add__',\n",
              " '__class__',\n",
              " '__class_getitem__',\n",
              " '__contains__',\n",
              " '__delattr__',\n",
              " '__delitem__',\n",
              " '__dir__',\n",
              " '__doc__',\n",
              " '__eq__',\n",
              " '__format__',\n",
              " '__ge__',\n",
              " '__getattribute__',\n",
              " '__getitem__',\n",
              " '__gt__',\n",
              " '__hash__',\n",
              " '__iadd__',\n",
              " '__imul__',\n",
              " '__init__',\n",
              " '__init_subclass__',\n",
              " '__iter__',\n",
              " '__le__',\n",
              " '__len__',\n",
              " '__lt__',\n",
              " '__mul__',\n",
              " '__ne__',\n",
              " '__new__',\n",
              " '__reduce__',\n",
              " '__reduce_ex__',\n",
              " '__repr__',\n",
              " '__reversed__',\n",
              " '__rmul__',\n",
              " '__setattr__',\n",
              " '__setitem__',\n",
              " '__sizeof__',\n",
              " '__str__',\n",
              " '__subclasshook__',\n",
              " 'append',\n",
              " 'clear',\n",
              " 'copy',\n",
              " 'count',\n",
              " 'extend',\n",
              " 'index',\n",
              " 'insert',\n",
              " 'pop',\n",
              " 'remove',\n",
              " 'reverse',\n",
              " 'sort']"
            ]
          },
          "execution_count": 1,
          "metadata": {},
          "output_type": "execute_result"
        }
      ],
      "source": [
        "#check directories\n",
        "l = []\n",
        "dir(l)"
      ]
    },
    {
      "cell_type": "code",
      "execution_count": null,
      "metadata": {
        "colab": {
          "base_uri": "https://localhost:8080/"
        },
        "id": "b9FcVIN9D3jU",
        "outputId": "1838ba5c-725b-4601-d6c9-21dc17d98035"
      },
      "outputs": [
        {
          "name": "stdout",
          "output_type": "stream",
          "text": [
            "Help on method-wrapper:\n",
            "\n",
            "__len__ = <method-wrapper '__len__' of list object>\n",
            "    Return len(self).\n",
            "\n"
          ]
        }
      ],
      "source": [
        "help(l.__len__)"
      ]
    },
    {
      "cell_type": "code",
      "execution_count": null,
      "metadata": {
        "colab": {
          "base_uri": "https://localhost:8080/",
          "height": 1000
        },
        "id": "wv_1_NKGD3l6",
        "outputId": "1033484d-cb31-494d-925f-0cd83281bff3"
      },
      "outputs": [
        {
          "name": "stderr",
          "output_type": "stream",
          "text": [
            "/usr/local/lib/python3.10/dist-packages/ipykernel/ipkernel.py:283: DeprecationWarning: `should_run_async` will not call `transform_cell` automatically in the future. Please pass the result to `transformed_cell` argument and any exception that happen during thetransform in `preprocessing_exc_tuple` in IPython 7.17 and above.\n"
          ]
        },
        {
          "data": {
            "text/html": [
              "\n",
              "            <style>\n",
              "                .geemap-dark {\n",
              "                    --jp-widgets-color: white;\n",
              "                    --jp-widgets-label-color: white;\n",
              "                    --jp-ui-font-color1: white;\n",
              "                    --jp-layout-color2: #454545;\n",
              "                    background-color: #383838;\n",
              "                }\n",
              "                    \n",
              "                .geemap-dark .jupyter-button {\n",
              "                    --jp-layout-color3: #383838;\n",
              "                }\n",
              "                \n",
              "                .geemap-colab {\n",
              "                    background-color: var(--colab-primary-surface-color, white);\n",
              "                }\n",
              "                    \n",
              "                .geemap-colab .jupyter-button {\n",
              "                    --jp-layout-color3: var(--colab-primary-surface-color, white);\n",
              "                }\n",
              "            </style>\n",
              "            "
            ],
            "text/plain": [
              "<IPython.core.display.HTML object>"
            ]
          },
          "metadata": {},
          "output_type": "display_data"
        },
        {
          "name": "stdout",
          "output_type": "stream",
          "text": [
            "Help on class str in module builtins:\n",
            "\n",
            "class str(object)\n",
            " |  str(object='') -> str\n",
            " |  str(bytes_or_buffer[, encoding[, errors]]) -> str\n",
            " |  \n",
            " |  Create a new string object from the given object. If encoding or\n",
            " |  errors is specified, then the object must expose a data buffer\n",
            " |  that will be decoded using the given encoding and error handler.\n",
            " |  Otherwise, returns the result of object.__str__() (if defined)\n",
            " |  or repr(object).\n",
            " |  encoding defaults to sys.getdefaultencoding().\n",
            " |  errors defaults to 'strict'.\n",
            " |  \n",
            " |  Methods defined here:\n",
            " |  \n",
            " |  __add__(self, value, /)\n",
            " |      Return self+value.\n",
            " |  \n",
            " |  __contains__(self, key, /)\n",
            " |      Return key in self.\n",
            " |  \n",
            " |  __eq__(self, value, /)\n",
            " |      Return self==value.\n",
            " |  \n",
            " |  __format__(self, format_spec, /)\n",
            " |      Return a formatted version of the string as described by format_spec.\n",
            " |  \n",
            " |  __ge__(self, value, /)\n",
            " |      Return self>=value.\n",
            " |  \n",
            " |  __getattribute__(self, name, /)\n",
            " |      Return getattr(self, name).\n",
            " |  \n",
            " |  __getitem__(self, key, /)\n",
            " |      Return self[key].\n",
            " |  \n",
            " |  __getnewargs__(...)\n",
            " |  \n",
            " |  __gt__(self, value, /)\n",
            " |      Return self>value.\n",
            " |  \n",
            " |  __hash__(self, /)\n",
            " |      Return hash(self).\n",
            " |  \n",
            " |  __iter__(self, /)\n",
            " |      Implement iter(self).\n",
            " |  \n",
            " |  __le__(self, value, /)\n",
            " |      Return self<=value.\n",
            " |  \n",
            " |  __len__(self, /)\n",
            " |      Return len(self).\n",
            " |  \n",
            " |  __lt__(self, value, /)\n",
            " |      Return self<value.\n",
            " |  \n",
            " |  __mod__(self, value, /)\n",
            " |      Return self%value.\n",
            " |  \n",
            " |  __mul__(self, value, /)\n",
            " |      Return self*value.\n",
            " |  \n",
            " |  __ne__(self, value, /)\n",
            " |      Return self!=value.\n",
            " |  \n",
            " |  __repr__(self, /)\n",
            " |      Return repr(self).\n",
            " |  \n",
            " |  __rmod__(self, value, /)\n",
            " |      Return value%self.\n",
            " |  \n",
            " |  __rmul__(self, value, /)\n",
            " |      Return value*self.\n",
            " |  \n",
            " |  __sizeof__(self, /)\n",
            " |      Return the size of the string in memory, in bytes.\n",
            " |  \n",
            " |  __str__(self, /)\n",
            " |      Return str(self).\n",
            " |  \n",
            " |  capitalize(self, /)\n",
            " |      Return a capitalized version of the string.\n",
            " |      \n",
            " |      More specifically, make the first character have upper case and the rest lower\n",
            " |      case.\n",
            " |  \n",
            " |  casefold(self, /)\n",
            " |      Return a version of the string suitable for caseless comparisons.\n",
            " |  \n",
            " |  center(self, width, fillchar=' ', /)\n",
            " |      Return a centered string of length width.\n",
            " |      \n",
            " |      Padding is done using the specified fill character (default is a space).\n",
            " |  \n",
            " |  count(...)\n",
            " |      S.count(sub[, start[, end]]) -> int\n",
            " |      \n",
            " |      Return the number of non-overlapping occurrences of substring sub in\n",
            " |      string S[start:end].  Optional arguments start and end are\n",
            " |      interpreted as in slice notation.\n",
            " |  \n",
            " |  encode(self, /, encoding='utf-8', errors='strict')\n",
            " |      Encode the string using the codec registered for encoding.\n",
            " |      \n",
            " |      encoding\n",
            " |        The encoding in which to encode the string.\n",
            " |      errors\n",
            " |        The error handling scheme to use for encoding errors.\n",
            " |        The default is 'strict' meaning that encoding errors raise a\n",
            " |        UnicodeEncodeError.  Other possible values are 'ignore', 'replace' and\n",
            " |        'xmlcharrefreplace' as well as any other name registered with\n",
            " |        codecs.register_error that can handle UnicodeEncodeErrors.\n",
            " |  \n",
            " |  endswith(...)\n",
            " |      S.endswith(suffix[, start[, end]]) -> bool\n",
            " |      \n",
            " |      Return True if S ends with the specified suffix, False otherwise.\n",
            " |      With optional start, test S beginning at that position.\n",
            " |      With optional end, stop comparing S at that position.\n",
            " |      suffix can also be a tuple of strings to try.\n",
            " |  \n",
            " |  expandtabs(self, /, tabsize=8)\n",
            " |      Return a copy where all tab characters are expanded using spaces.\n",
            " |      \n",
            " |      If tabsize is not given, a tab size of 8 characters is assumed.\n",
            " |  \n",
            " |  find(...)\n",
            " |      S.find(sub[, start[, end]]) -> int\n",
            " |      \n",
            " |      Return the lowest index in S where substring sub is found,\n",
            " |      such that sub is contained within S[start:end].  Optional\n",
            " |      arguments start and end are interpreted as in slice notation.\n",
            " |      \n",
            " |      Return -1 on failure.\n",
            " |  \n",
            " |  format(...)\n",
            " |      S.format(*args, **kwargs) -> str\n",
            " |      \n",
            " |      Return a formatted version of S, using substitutions from args and kwargs.\n",
            " |      The substitutions are identified by braces ('{' and '}').\n",
            " |  \n",
            " |  format_map(...)\n",
            " |      S.format_map(mapping) -> str\n",
            " |      \n",
            " |      Return a formatted version of S, using substitutions from mapping.\n",
            " |      The substitutions are identified by braces ('{' and '}').\n",
            " |  \n",
            " |  index(...)\n",
            " |      S.index(sub[, start[, end]]) -> int\n",
            " |      \n",
            " |      Return the lowest index in S where substring sub is found,\n",
            " |      such that sub is contained within S[start:end].  Optional\n",
            " |      arguments start and end are interpreted as in slice notation.\n",
            " |      \n",
            " |      Raises ValueError when the substring is not found.\n",
            " |  \n",
            " |  isalnum(self, /)\n",
            " |      Return True if the string is an alpha-numeric string, False otherwise.\n",
            " |      \n",
            " |      A string is alpha-numeric if all characters in the string are alpha-numeric and\n",
            " |      there is at least one character in the string.\n",
            " |  \n",
            " |  isalpha(self, /)\n",
            " |      Return True if the string is an alphabetic string, False otherwise.\n",
            " |      \n",
            " |      A string is alphabetic if all characters in the string are alphabetic and there\n",
            " |      is at least one character in the string.\n",
            " |  \n",
            " |  isascii(self, /)\n",
            " |      Return True if all characters in the string are ASCII, False otherwise.\n",
            " |      \n",
            " |      ASCII characters have code points in the range U+0000-U+007F.\n",
            " |      Empty string is ASCII too.\n",
            " |  \n",
            " |  isdecimal(self, /)\n",
            " |      Return True if the string is a decimal string, False otherwise.\n",
            " |      \n",
            " |      A string is a decimal string if all characters in the string are decimal and\n",
            " |      there is at least one character in the string.\n",
            " |  \n",
            " |  isdigit(self, /)\n",
            " |      Return True if the string is a digit string, False otherwise.\n",
            " |      \n",
            " |      A string is a digit string if all characters in the string are digits and there\n",
            " |      is at least one character in the string.\n",
            " |  \n",
            " |  isidentifier(self, /)\n",
            " |      Return True if the string is a valid Python identifier, False otherwise.\n",
            " |      \n",
            " |      Call keyword.iskeyword(s) to test whether string s is a reserved identifier,\n",
            " |      such as \"def\" or \"class\".\n",
            " |  \n",
            " |  islower(self, /)\n",
            " |      Return True if the string is a lowercase string, False otherwise.\n",
            " |      \n",
            " |      A string is lowercase if all cased characters in the string are lowercase and\n",
            " |      there is at least one cased character in the string.\n",
            " |  \n",
            " |  isnumeric(self, /)\n",
            " |      Return True if the string is a numeric string, False otherwise.\n",
            " |      \n",
            " |      A string is numeric if all characters in the string are numeric and there is at\n",
            " |      least one character in the string.\n",
            " |  \n",
            " |  isprintable(self, /)\n",
            " |      Return True if the string is printable, False otherwise.\n",
            " |      \n",
            " |      A string is printable if all of its characters are considered printable in\n",
            " |      repr() or if it is empty.\n",
            " |  \n",
            " |  isspace(self, /)\n",
            " |      Return True if the string is a whitespace string, False otherwise.\n",
            " |      \n",
            " |      A string is whitespace if all characters in the string are whitespace and there\n",
            " |      is at least one character in the string.\n",
            " |  \n",
            " |  istitle(self, /)\n",
            " |      Return True if the string is a title-cased string, False otherwise.\n",
            " |      \n",
            " |      In a title-cased string, upper- and title-case characters may only\n",
            " |      follow uncased characters and lowercase characters only cased ones.\n",
            " |  \n",
            " |  isupper(self, /)\n",
            " |      Return True if the string is an uppercase string, False otherwise.\n",
            " |      \n",
            " |      A string is uppercase if all cased characters in the string are uppercase and\n",
            " |      there is at least one cased character in the string.\n",
            " |  \n",
            " |  join(self, iterable, /)\n",
            " |      Concatenate any number of strings.\n",
            " |      \n",
            " |      The string whose method is called is inserted in between each given string.\n",
            " |      The result is returned as a new string.\n",
            " |      \n",
            " |      Example: '.'.join(['ab', 'pq', 'rs']) -> 'ab.pq.rs'\n",
            " |  \n",
            " |  ljust(self, width, fillchar=' ', /)\n",
            " |      Return a left-justified string of length width.\n",
            " |      \n",
            " |      Padding is done using the specified fill character (default is a space).\n",
            " |  \n",
            " |  lower(self, /)\n",
            " |      Return a copy of the string converted to lowercase.\n",
            " |  \n",
            " |  lstrip(self, chars=None, /)\n",
            " |      Return a copy of the string with leading whitespace removed.\n",
            " |      \n",
            " |      If chars is given and not None, remove characters in chars instead.\n",
            " |  \n",
            " |  partition(self, sep, /)\n",
            " |      Partition the string into three parts using the given separator.\n",
            " |      \n",
            " |      This will search for the separator in the string.  If the separator is found,\n",
            " |      returns a 3-tuple containing the part before the separator, the separator\n",
            " |      itself, and the part after it.\n",
            " |      \n",
            " |      If the separator is not found, returns a 3-tuple containing the original string\n",
            " |      and two empty strings.\n",
            " |  \n",
            " |  removeprefix(self, prefix, /)\n",
            " |      Return a str with the given prefix string removed if present.\n",
            " |      \n",
            " |      If the string starts with the prefix string, return string[len(prefix):].\n",
            " |      Otherwise, return a copy of the original string.\n",
            " |  \n",
            " |  removesuffix(self, suffix, /)\n",
            " |      Return a str with the given suffix string removed if present.\n",
            " |      \n",
            " |      If the string ends with the suffix string and that suffix is not empty,\n",
            " |      return string[:-len(suffix)]. Otherwise, return a copy of the original\n",
            " |      string.\n",
            " |  \n",
            " |  replace(self, old, new, count=-1, /)\n",
            " |      Return a copy with all occurrences of substring old replaced by new.\n",
            " |      \n",
            " |        count\n",
            " |          Maximum number of occurrences to replace.\n",
            " |          -1 (the default value) means replace all occurrences.\n",
            " |      \n",
            " |      If the optional argument count is given, only the first count occurrences are\n",
            " |      replaced.\n",
            " |  \n",
            " |  rfind(...)\n",
            " |      S.rfind(sub[, start[, end]]) -> int\n",
            " |      \n",
            " |      Return the highest index in S where substring sub is found,\n",
            " |      such that sub is contained within S[start:end].  Optional\n",
            " |      arguments start and end are interpreted as in slice notation.\n",
            " |      \n",
            " |      Return -1 on failure.\n",
            " |  \n",
            " |  rindex(...)\n",
            " |      S.rindex(sub[, start[, end]]) -> int\n",
            " |      \n",
            " |      Return the highest index in S where substring sub is found,\n",
            " |      such that sub is contained within S[start:end].  Optional\n",
            " |      arguments start and end are interpreted as in slice notation.\n",
            " |      \n",
            " |      Raises ValueError when the substring is not found.\n",
            " |  \n",
            " |  rjust(self, width, fillchar=' ', /)\n",
            " |      Return a right-justified string of length width.\n",
            " |      \n",
            " |      Padding is done using the specified fill character (default is a space).\n",
            " |  \n",
            " |  rpartition(self, sep, /)\n",
            " |      Partition the string into three parts using the given separator.\n",
            " |      \n",
            " |      This will search for the separator in the string, starting at the end. If\n",
            " |      the separator is found, returns a 3-tuple containing the part before the\n",
            " |      separator, the separator itself, and the part after it.\n",
            " |      \n",
            " |      If the separator is not found, returns a 3-tuple containing two empty strings\n",
            " |      and the original string.\n",
            " |  \n",
            " |  rsplit(self, /, sep=None, maxsplit=-1)\n",
            " |      Return a list of the substrings in the string, using sep as the separator string.\n",
            " |      \n",
            " |        sep\n",
            " |          The separator used to split the string.\n",
            " |      \n",
            " |          When set to None (the default value), will split on any whitespace\n",
            " |          character (including \\\\n \\\\r \\\\t \\\\f and spaces) and will discard\n",
            " |          empty strings from the result.\n",
            " |        maxsplit\n",
            " |          Maximum number of splits (starting from the left).\n",
            " |          -1 (the default value) means no limit.\n",
            " |      \n",
            " |      Splitting starts at the end of the string and works to the front.\n",
            " |  \n",
            " |  rstrip(self, chars=None, /)\n",
            " |      Return a copy of the string with trailing whitespace removed.\n",
            " |      \n",
            " |      If chars is given and not None, remove characters in chars instead.\n",
            " |  \n",
            " |  split(self, /, sep=None, maxsplit=-1)\n",
            " |      Return a list of the substrings in the string, using sep as the separator string.\n",
            " |      \n",
            " |        sep\n",
            " |          The separator used to split the string.\n",
            " |      \n",
            " |          When set to None (the default value), will split on any whitespace\n",
            " |          character (including \\\\n \\\\r \\\\t \\\\f and spaces) and will discard\n",
            " |          empty strings from the result.\n",
            " |        maxsplit\n",
            " |          Maximum number of splits (starting from the left).\n",
            " |          -1 (the default value) means no limit.\n",
            " |      \n",
            " |      Note, str.split() is mainly useful for data that has been intentionally\n",
            " |      delimited.  With natural text that includes punctuation, consider using\n",
            " |      the regular expression module.\n",
            " |  \n",
            " |  splitlines(self, /, keepends=False)\n",
            " |      Return a list of the lines in the string, breaking at line boundaries.\n",
            " |      \n",
            " |      Line breaks are not included in the resulting list unless keepends is given and\n",
            " |      true.\n",
            " |  \n",
            " |  startswith(...)\n",
            " |      S.startswith(prefix[, start[, end]]) -> bool\n",
            " |      \n",
            " |      Return True if S starts with the specified prefix, False otherwise.\n",
            " |      With optional start, test S beginning at that position.\n",
            " |      With optional end, stop comparing S at that position.\n",
            " |      prefix can also be a tuple of strings to try.\n",
            " |  \n",
            " |  strip(self, chars=None, /)\n",
            " |      Return a copy of the string with leading and trailing whitespace removed.\n",
            " |      \n",
            " |      If chars is given and not None, remove characters in chars instead.\n",
            " |  \n",
            " |  swapcase(self, /)\n",
            " |      Convert uppercase characters to lowercase and lowercase characters to uppercase.\n",
            " |  \n",
            " |  title(self, /)\n",
            " |      Return a version of the string where each word is titlecased.\n",
            " |      \n",
            " |      More specifically, words start with uppercased characters and all remaining\n",
            " |      cased characters have lower case.\n",
            " |  \n",
            " |  translate(self, table, /)\n",
            " |      Replace each character in the string using the given translation table.\n",
            " |      \n",
            " |        table\n",
            " |          Translation table, which must be a mapping of Unicode ordinals to\n",
            " |          Unicode ordinals, strings, or None.\n",
            " |      \n",
            " |      The table must implement lookup/indexing via __getitem__, for instance a\n",
            " |      dictionary or list.  If this operation raises LookupError, the character is\n",
            " |      left untouched.  Characters mapped to None are deleted.\n",
            " |  \n",
            " |  upper(self, /)\n",
            " |      Return a copy of the string converted to uppercase.\n",
            " |  \n",
            " |  zfill(self, width, /)\n",
            " |      Pad a numeric string with zeros on the left, to fill a field of the given width.\n",
            " |      \n",
            " |      The string is never truncated.\n",
            " |  \n",
            " |  ----------------------------------------------------------------------\n",
            " |  Static methods defined here:\n",
            " |  \n",
            " |  __new__(*args, **kwargs) from builtins.type\n",
            " |      Create and return a new object.  See help(type) for accurate signature.\n",
            " |  \n",
            " |  maketrans(...)\n",
            " |      Return a translation table usable for str.translate().\n",
            " |      \n",
            " |      If there is only one argument, it must be a dictionary mapping Unicode\n",
            " |      ordinals (integers) or characters to Unicode ordinals, strings or None.\n",
            " |      Character keys will be then converted to ordinals.\n",
            " |      If there are two arguments, they must be strings of equal length, and\n",
            " |      in the resulting dictionary, each character in x will be mapped to the\n",
            " |      character at the same position in y. If there is a third argument, it\n",
            " |      must be a string, whose characters will be mapped to None in the result.\n",
            "\n"
          ]
        }
      ],
      "source": [
        "help('str')"
      ]
    },
    {
      "cell_type": "markdown",
      "metadata": {
        "id": "JE_3Pr_NYOkK"
      },
      "source": [
        "#### Erros in python"
      ]
    },
    {
      "cell_type": "code",
      "execution_count": null,
      "metadata": {
        "colab": {
          "base_uri": "https://localhost:8080/",
          "height": 175
        },
        "id": "r8AmeqdhYroD",
        "outputId": "4f614d59-a950-4729-f417-014b4cbf53d8"
      },
      "outputs": [
        {
          "ename": "ZeroDivisionError",
          "evalue": "ignored",
          "output_type": "error",
          "traceback": [
            "\u001b[0;31m---------------------------------------------------------------------------\u001b[0m",
            "\u001b[0;31mZeroDivisionError\u001b[0m                         Traceback (most recent call last)",
            "\u001b[0;32m<ipython-input-2-9e1622b385b6>\u001b[0m in \u001b[0;36m<cell line: 1>\u001b[0;34m()\u001b[0m\n\u001b[0;32m----> 1\u001b[0;31m \u001b[0;36m1\u001b[0m\u001b[0;34m/\u001b[0m\u001b[0;36m0\u001b[0m\u001b[0;34m\u001b[0m\u001b[0;34m\u001b[0m\u001b[0m\n\u001b[0m",
            "\u001b[0;31mZeroDivisionError\u001b[0m: division by zero"
          ]
        }
      ],
      "source": [
        "1/0"
      ]
    },
    {
      "cell_type": "code",
      "execution_count": null,
      "metadata": {
        "colab": {
          "base_uri": "https://localhost:8080/",
          "height": 230
        },
        "id": "7eoENYKk3lYz",
        "outputId": "4cd5c0f5-39ee-42cf-d4be-e66927219391"
      },
      "outputs": [
        {
          "name": "stderr",
          "output_type": "stream",
          "text": [
            "/usr/local/lib/python3.10/dist-packages/ipykernel/ipkernel.py:283: DeprecationWarning: `should_run_async` will not call `transform_cell` automatically in the future. Please pass the result to `transformed_cell` argument and any exception that happen during thetransform in `preprocessing_exc_tuple` in IPython 7.17 and above.\n"
          ]
        },
        {
          "data": {
            "text/html": [
              "\n",
              "            <style>\n",
              "                .geemap-dark {\n",
              "                    --jp-widgets-color: white;\n",
              "                    --jp-widgets-label-color: white;\n",
              "                    --jp-ui-font-color1: white;\n",
              "                    --jp-layout-color2: #454545;\n",
              "                    background-color: #383838;\n",
              "                }\n",
              "                    \n",
              "                .geemap-dark .jupyter-button {\n",
              "                    --jp-layout-color3: #383838;\n",
              "                }\n",
              "                \n",
              "                .geemap-colab {\n",
              "                    background-color: var(--colab-primary-surface-color, white);\n",
              "                }\n",
              "                    \n",
              "                .geemap-colab .jupyter-button {\n",
              "                    --jp-layout-color3: var(--colab-primary-surface-color, white);\n",
              "                }\n",
              "            </style>\n",
              "            "
            ],
            "text/plain": [
              "<IPython.core.display.HTML object>"
            ]
          },
          "metadata": {},
          "output_type": "display_data"
        },
        {
          "ename": "IndexError",
          "evalue": "ignored",
          "output_type": "error",
          "traceback": [
            "\u001b[0;31m---------------------------------------------------------------------------\u001b[0m",
            "\u001b[0;31mIndexError\u001b[0m                                Traceback (most recent call last)",
            "\u001b[0;32m<ipython-input-6-40fa88a72698>\u001b[0m in \u001b[0;36m<cell line: 2>\u001b[0;34m()\u001b[0m\n\u001b[1;32m      1\u001b[0m \u001b[0ml\u001b[0m \u001b[0;34m=\u001b[0m \u001b[0;34m[\u001b[0m\u001b[0;36m1\u001b[0m\u001b[0;34m,\u001b[0m\u001b[0;36m2\u001b[0m\u001b[0;34m,\u001b[0m\u001b[0;36m3\u001b[0m\u001b[0;34m,\u001b[0m\u001b[0;36m4\u001b[0m\u001b[0;34m]\u001b[0m\u001b[0;34m\u001b[0m\u001b[0;34m\u001b[0m\u001b[0m\n\u001b[0;32m----> 2\u001b[0;31m \u001b[0ml\u001b[0m\u001b[0;34m[\u001b[0m\u001b[0;36m10\u001b[0m\u001b[0;34m]\u001b[0m\u001b[0;34m\u001b[0m\u001b[0;34m\u001b[0m\u001b[0m\n\u001b[0m",
            "\u001b[0;31mIndexError\u001b[0m: list index out of range"
          ]
        }
      ],
      "source": [
        "l = [1,2,3,4]\n",
        "l[10]"
      ]
    },
    {
      "cell_type": "code",
      "execution_count": null,
      "metadata": {
        "colab": {
          "base_uri": "https://localhost:8080/",
          "height": 212
        },
        "id": "xgIfZ0KX3lbU",
        "outputId": "5e0a2c73-5f93-4774-c2e0-125ec37247d6"
      },
      "outputs": [
        {
          "name": "stderr",
          "output_type": "stream",
          "text": [
            "/usr/local/lib/python3.10/dist-packages/ipykernel/ipkernel.py:283: DeprecationWarning: `should_run_async` will not call `transform_cell` automatically in the future. Please pass the result to `transformed_cell` argument and any exception that happen during thetransform in `preprocessing_exc_tuple` in IPython 7.17 and above.\n"
          ]
        },
        {
          "data": {
            "text/html": [
              "\n",
              "            <style>\n",
              "                .geemap-dark {\n",
              "                    --jp-widgets-color: white;\n",
              "                    --jp-widgets-label-color: white;\n",
              "                    --jp-ui-font-color1: white;\n",
              "                    --jp-layout-color2: #454545;\n",
              "                    background-color: #383838;\n",
              "                }\n",
              "                    \n",
              "                .geemap-dark .jupyter-button {\n",
              "                    --jp-layout-color3: #383838;\n",
              "                }\n",
              "                \n",
              "                .geemap-colab {\n",
              "                    background-color: var(--colab-primary-surface-color, white);\n",
              "                }\n",
              "                    \n",
              "                .geemap-colab .jupyter-button {\n",
              "                    --jp-layout-color3: var(--colab-primary-surface-color, white);\n",
              "                }\n",
              "            </style>\n",
              "            "
            ],
            "text/plain": [
              "<IPython.core.display.HTML object>"
            ]
          },
          "metadata": {},
          "output_type": "display_data"
        },
        {
          "ename": "NameError",
          "evalue": "ignored",
          "output_type": "error",
          "traceback": [
            "\u001b[0;31m---------------------------------------------------------------------------\u001b[0m",
            "\u001b[0;31mNameError\u001b[0m                                 Traceback (most recent call last)",
            "\u001b[0;32m<ipython-input-7-58305d2308e5>\u001b[0m in \u001b[0;36m<cell line: 1>\u001b[0;34m()\u001b[0m\n\u001b[0;32m----> 1\u001b[0;31m \u001b[0mnl\u001b[0m\u001b[0;34m[\u001b[0m\u001b[0;36m2\u001b[0m\u001b[0;34m]\u001b[0m\u001b[0;34m\u001b[0m\u001b[0;34m\u001b[0m\u001b[0m\n\u001b[0m",
            "\u001b[0;31mNameError\u001b[0m: name 'nl' is not defined"
          ]
        }
      ],
      "source": [
        "nl[2]"
      ]
    },
    {
      "cell_type": "markdown",
      "metadata": {
        "id": "x5gXBFUgjIYM"
      },
      "source": [
        "### Itertools:\n",
        "Count\n",
        "\n",
        "Cycle\n",
        "\n",
        "Repeat\n",
        "\n",
        "Accumulate\n",
        "\n",
        "Chain\n",
        "\n",
        "dropwhile\n",
        "\n",
        "groupby"
      ]
    },
    {
      "cell_type": "code",
      "execution_count": null,
      "metadata": {
        "colab": {
          "base_uri": "https://localhost:8080/"
        },
        "id": "jW5QRE_g3ld7",
        "outputId": "4f1caa49-c5e3-4299-abb6-09895eb7c946"
      },
      "outputs": [
        {
          "name": "stdout",
          "output_type": "stream",
          "text": [
            "1\n",
            "4\n",
            "7\n",
            "10\n",
            "13\n"
          ]
        }
      ],
      "source": [
        "import itertools\n",
        "for i in itertools.count(1,3):\n",
        "  print(i)\n",
        "  if i > 10:\n",
        "    break"
      ]
    },
    {
      "cell_type": "code",
      "execution_count": null,
      "metadata": {
        "colab": {
          "base_uri": "https://localhost:8080/"
        },
        "id": "zVMoxnZOD3oc",
        "outputId": "18a81063-ac91-4045-cbf8-6e2a5fdf71b4"
      },
      "outputs": [
        {
          "name": "stdout",
          "output_type": "stream",
          "text": [
            "red\n",
            "orange\n",
            "yellow\n",
            "green\n",
            "red\n",
            "orange\n",
            "yellow\n",
            "green\n",
            "red\n",
            "orange\n",
            "yellow\n"
          ]
        }
      ],
      "source": [
        "count = 0\n",
        "col = [\"red\", \"orange\", \"yellow\", \"green\"]\n",
        "for i in itertools.cycle(col):\n",
        "  print(i)\n",
        "  count +=1\n",
        "  if count > 10:\n",
        "    break"
      ]
    },
    {
      "cell_type": "code",
      "execution_count": null,
      "metadata": {
        "colab": {
          "base_uri": "https://localhost:8080/"
        },
        "id": "NrzuIX_lD3rH",
        "outputId": "eb48b33b-b8de-47f8-ab61-b64430513e9a"
      },
      "outputs": [
        {
          "name": "stdout",
          "output_type": "stream",
          "text": [
            "spam\n",
            "spam\n",
            "spam\n",
            "spam\n",
            "spam\n"
          ]
        }
      ],
      "source": [
        "food = \"spam\"\n",
        "for i in itertools.repeat(food, 5):\n",
        "\tprint(i)"
      ]
    },
    {
      "cell_type": "code",
      "execution_count": null,
      "metadata": {
        "colab": {
          "base_uri": "https://localhost:8080/"
        },
        "id": "Cv3Hqw7Ik7AW",
        "outputId": "eb5a98c6-c62e-45ef-c360-1d2db913cf90"
      },
      "outputs": [
        {
          "name": "stdout",
          "output_type": "stream",
          "text": [
            "Enter a num :5\n",
            "<class 'itertools.accumulate'>\n",
            "1\n",
            "3\n",
            "6\n",
            "10\n"
          ]
        }
      ],
      "source": [
        "import operator\n",
        "n = input(\"Enter a num :\")\n",
        "data = range(1, int(n))\n",
        "result = itertools.accumulate(data, operator.add)\n",
        "print(type(result))\n",
        "for each in result:\n",
        "  print(each)"
      ]
    },
    {
      "cell_type": "code",
      "execution_count": null,
      "metadata": {
        "colab": {
          "base_uri": "https://localhost:8080/"
        },
        "id": "6ME2P-HAk7IJ",
        "outputId": "cc072844-e6c2-4dd7-879f-31fe61b97e04"
      },
      "outputs": [
        {
          "name": "stdout",
          "output_type": "stream",
          "text": [
            "[2, 4, 3, 1, 5, 6, 9, 7, 9, 0]\n"
          ]
        }
      ],
      "source": [
        "#merge list:\n",
        "original_list = [[2,4,3],[1,5,6], [9], [7,9,0]]\n",
        "new_merged_list = list(itertools.chain(*original_list))\n",
        "print(new_merged_list)"
      ]
    },
    {
      "cell_type": "code",
      "execution_count": null,
      "metadata": {
        "colab": {
          "base_uri": "https://localhost:8080/"
        },
        "id": "Q_VQHRzxk7NG",
        "outputId": "27b447ad-3dae-402e-e0e1-cd70421cf5e6"
      },
      "outputs": [
        {
          "name": "stdout",
          "output_type": "stream",
          "text": [
            "{0, 33, 2, 99, 1, 3, 6, 5, 45}\n"
          ]
        }
      ],
      "source": [
        "import itertools\n",
        "data = [6,2,33,99,0]\n",
        "dat = [1,2,3,45,5]\n",
        "result = set(itertools.chain(data, dat))\n",
        "print (result)"
      ]
    },
    {
      "cell_type": "code",
      "execution_count": null,
      "metadata": {
        "colab": {
          "base_uri": "https://localhost:8080/"
        },
        "id": "7r-kmsSAk7Qi",
        "outputId": "31a89116-e4a5-44ab-f400-6c21675f85af"
      },
      "outputs": [
        {
          "name": "stdout",
          "output_type": "stream",
          "text": [
            "6\n",
            "5\n",
            "7\n",
            "8\n",
            "1\n",
            "2\n",
            "3\n"
          ]
        }
      ],
      "source": [
        "data = [1,2,3,4,2,6, 5,7,8,1,2,3]\n",
        "result = itertools.dropwhile(lambda x: x<5, data)\n",
        "for each in result:\n",
        "  print(each)"
      ]
    },
    {
      "cell_type": "code",
      "execution_count": null,
      "metadata": {
        "colab": {
          "base_uri": "https://localhost:8080/"
        },
        "id": "N_yhZLSck7TX",
        "outputId": "7c89f22e-c96f-4f6d-cc8b-df50e1f7eabb"
      },
      "outputs": [
        {
          "name": "stdout",
          "output_type": "stream",
          "text": [
            "Sorted Data :: [1, 1, 2, 2, 2, 3, 3, 4, 5, 6, 7, 8]\n",
            "Zipped Dict :: {1: 2, 2: 3, 3: 2, 4: 1, 5: 1, 6: 1, 7: 1, 8: 1}\n"
          ]
        }
      ],
      "source": [
        "sorted_data= sorted(data)\n",
        "print(\"Sorted Data ::\", sorted_data)\n",
        "keys=[]\n",
        "groups=[]\n",
        "for k,g in itertools.groupby(sorted_data):\n",
        "  keys.append(k)\n",
        "  groups.append(list(g))\n",
        "cnt = [len(i) for i in groups]\n",
        "zipped = dict(zip(keys, cnt))\n",
        "print(\"Zipped Dict :: {}\".format(zipped))\n"
      ]
    },
    {
      "cell_type": "code",
      "execution_count": null,
      "metadata": {
        "colab": {
          "base_uri": "https://localhost:8080/"
        },
        "id": "ycmQ8dzLk7Wp",
        "outputId": "926b9f84-4942-40d1-b6e4-94394524cc3d"
      },
      "outputs": [
        {
          "name": "stdout",
          "output_type": "stream",
          "text": [
            "12\n",
            "32\n",
            "21\n"
          ]
        }
      ],
      "source": [
        "data = [(2,6), (8,4), (7,3)]\n",
        "result = itertools.starmap(operator.mul, data)\n",
        "for each in result:\n",
        "    print(each)"
      ]
    },
    {
      "cell_type": "code",
      "execution_count": null,
      "metadata": {
        "colab": {
          "base_uri": "https://localhost:8080/"
        },
        "id": "BvNamleRk7ZU",
        "outputId": "46e2b061-d27a-4a2b-9f8c-866fb7091e5c"
      },
      "outputs": [
        {
          "name": "stdout",
          "output_type": "stream",
          "text": [
            "[3, 4]\n"
          ]
        }
      ],
      "source": [
        "list1 = [1, 2, 3, 4]\n",
        "list2 = [1, 2]\n",
        "print(list(set(list1) - set(list2)))"
      ]
    },
    {
      "cell_type": "code",
      "execution_count": null,
      "metadata": {
        "colab": {
          "base_uri": "https://localhost:8080/"
        },
        "id": "xIg1WmLUk7nm",
        "outputId": "204bfb77-b1c2-4cbc-ce3b-9485c72cde45"
      },
      "outputs": [
        {
          "name": "stdout",
          "output_type": "stream",
          "text": [
            "Compare list1 and list2\n",
            "True\n",
            "Compare list1 and list3\n",
            "True\n"
          ]
        }
      ],
      "source": [
        "#circular list\n",
        "\n",
        "list1 = [10, 10, 0, 0, 10]\n",
        "list2 = [10, 10, 10, 0, 0]\n",
        "list3 = [1, 10, 10, 0, 0]\n",
        "\n",
        "print('Compare list1 and list2')\n",
        "print(' '.join(map(str, list2)) in ' '.join(map(str, list1 * 2)))\n",
        "print('Compare list1 and list3')\n",
        "print(' '.join(map(str, list3)) in ' '.join(map(str, list1 * 2)))"
      ]
    },
    {
      "cell_type": "code",
      "execution_count": null,
      "metadata": {
        "colab": {
          "base_uri": "https://localhost:8080/"
        },
        "id": "1ZfWYnFFk7qe",
        "outputId": "83f3e00d-aad1-4c30-c2a3-a4075a063e25"
      },
      "outputs": [
        {
          "name": "stdout",
          "output_type": "stream",
          "text": [
            "10 10 10 0 0\n"
          ]
        }
      ],
      "source": [
        "print(' '.join(map(str, list2)))\n"
      ]
    },
    {
      "cell_type": "code",
      "execution_count": null,
      "metadata": {
        "colab": {
          "base_uri": "https://localhost:8080/"
        },
        "id": "PdwjdLY3D8q8",
        "outputId": "16d3b710-1bea-49e8-9014-6319a5ddaecb"
      },
      "outputs": [
        {
          "name": "stdout",
          "output_type": "stream",
          "text": [
            "At index: 0 character is  w\n",
            "At index: 1 character is  3\n",
            "At index: 2 character is  r\n",
            "At index: 3 character is  e\n",
            "At index: 4 character is  s\n",
            "At index: 5 character is  o\n",
            "At index: 6 character is  u\n",
            "At index: 7 character is  r\n",
            "At index: 8 character is  c\n",
            "At index: 9 character is  e\n"
          ]
        }
      ],
      "source": [
        "#ENUMERATE:\n",
        "\n",
        "str1=\"w3resource\"\n",
        "for index, char in enumerate(str1):\n",
        "    print(\"At index:\", index, \"character is \", char)"
      ]
    },
    {
      "cell_type": "code",
      "execution_count": null,
      "metadata": {
        "colab": {
          "base_uri": "https://localhost:8080/"
        },
        "id": "VN13-5h4rfjm",
        "outputId": "1e6693b0-b50f-4d35-ae9d-4813ec84680a"
      },
      "outputs": [
        {
          "name": "stdout",
          "output_type": "stream",
          "text": [
            "[(1, 'apple'), (2, 'banana'), (3, 'apple'), (4, 'grapes'), (5, 'pear')]\n"
          ]
        }
      ],
      "source": [
        "my_list = ['apple', 'banana', 'apple', 'grapes', 'pear']\n",
        "counter_list = list(enumerate(my_list,1))\n",
        "print(counter_list)"
      ]
    },
    {
      "cell_type": "code",
      "execution_count": null,
      "metadata": {
        "colab": {
          "base_uri": "https://localhost:8080/"
        },
        "id": "oV1G0rrerfnx",
        "outputId": "4e4040d3-2ac6-47ed-f13e-5cf4d8ad8326"
      },
      "outputs": [
        {
          "name": "stdout",
          "output_type": "stream",
          "text": [
            "1 apple\n",
            "2 banana\n",
            "3 grapes\n",
            "4 pear\n"
          ]
        }
      ],
      "source": [
        "my_list = ['apple', 'banana', 'grapes', 'pear']\n",
        "for c, value in enumerate(my_list,1):\n",
        "    print(c, value)"
      ]
    },
    {
      "cell_type": "code",
      "execution_count": null,
      "metadata": {
        "colab": {
          "base_uri": "https://localhost:8080/"
        },
        "id": "XPt8TH5Irfrs",
        "outputId": "a1db43e0-e92a-42d8-f6a3-3636bec48155"
      },
      "outputs": [
        {
          "name": "stdout",
          "output_type": "stream",
          "text": [
            "[7, 25, 27]\n"
          ]
        }
      ],
      "source": [
        "num = [7,8,120,25,44,20,27]\n",
        "mul_of_twos = [x for x in num if x%2!=0]\n",
        "print(mul_of_twos)"
      ]
    },
    {
      "cell_type": "code",
      "execution_count": 1,
      "metadata": {
        "colab": {
          "base_uri": "https://localhost:8080/"
        },
        "id": "kTSuqcYRrf75",
        "outputId": "fc593b4e-f5c3-4b3a-90ae-b46cb65fa00d"
      },
      "outputs": [
        {
          "data": {
            "text/plain": [
              "dict_items([('Age', 7), ('Name', 'Zara')])"
            ]
          },
          "execution_count": 1,
          "metadata": {},
          "output_type": "execute_result"
        }
      ],
      "source": [
        "dict1 = {'Age': 7, 'Name':'Zara'}\n",
        "dict1.items()"
      ]
    },
    {
      "cell_type": "code",
      "execution_count": 2,
      "metadata": {
        "colab": {
          "base_uri": "https://localhost:8080/"
        },
        "id": "JOkb30nfrf_n",
        "outputId": "c0b95564-c248-48a8-b681-871a61aa5849"
      },
      "outputs": [
        {
          "name": "stdout",
          "output_type": "stream",
          "text": [
            "hi\n",
            "bye\n",
            "huh?\n",
            "what....\n"
          ]
        }
      ],
      "source": [
        "#ordered dict\n",
        "test_dict = dict( val1 = \"hi\", val2 = \"bye\", val3 = \"huh?\", val4 = \"what....\")\n",
        "test_tuple = ('val1', 'val2', 'val3', 'val4')\n",
        "for key in test_tuple:\n",
        "  print(test_dict[key])\n"
      ]
    },
    {
      "cell_type": "code",
      "execution_count": null,
      "metadata": {
        "colab": {
          "base_uri": "https://localhost:8080/"
        },
        "id": "BaVZ62V8D3ta",
        "outputId": "d697baba-35e5-406f-b941-7fe26f3db406"
      },
      "outputs": [
        {
          "name": "stdout",
          "output_type": "stream",
          "text": [
            "True\n",
            "False\n"
          ]
        }
      ],
      "source": [
        "#Checking if two words are anagrams\n",
        "from collections import Counter\n",
        "def is_anagram(str1, str2):\n",
        "     return Counter(str1) == Counter(str2)\n",
        "print(is_anagram('geek', 'eegk'))\n",
        "print(is_anagram('geek', 'peek'))"
      ]
    },
    {
      "cell_type": "code",
      "execution_count": null,
      "metadata": {
        "id": "cpfboc33D3vl"
      },
      "outputs": [],
      "source": [
        "#PYTEST:\n",
        "#marker\n",
        "@pytest.mark.math\n",
        "\n",
        "@pytest.mark.skip(reason=\"I dont want to run this \")\n",
        "\n",
        "# pytest -xvrs testing.py \n",
        "# py.test -s -v testing.py -m \"math\"\n",
        "\n",
        "@pytest.fixture\n",
        "def run_mosconfig():\n",
        "   create_publish_templates()\n",
        "   create_header_policies()\n",
        "   return mosconfig\n",
        "  \n",
        "#while calling functions:\n",
        "def test_live(mosconfig):\n",
        "    fail_mosconfig_msg=\"test_live : mosconfig failed cannot continue\"\n",
        "    assert mosconfig == True, fal_mosconfig_msg\n",
        "\n",
        "assert (x > 10)\n",
        "Traceback  (most recent call last):\n",
        "  File \"<pyshell#47>\", line 1, in <module>\n",
        "assert (x > 10)\n",
        "AssertionError\n"
      ]
    },
    {
      "cell_type": "markdown",
      "metadata": {},
      "source": [
        "# Thread:\n",
        "Multiple Thread shares the same address space(), global variables can be accessed by all the threads, \n",
        "heap memory can also be accessed by the threads\n",
        "\n",
        "Multiprocess has different address space, process communicates via file, shared memory, or mesage pipe, \n",
        "Threads are the light weight & Processes are heavy weigh.\n",
        "Error or memory leak in one process wont hurt to another process"
      ]
    },
    {
      "cell_type": "code",
      "execution_count": null,
      "metadata": {},
      "outputs": [],
      "source": [
        "import time\n",
        "import threading\n",
        "def print_sleep(func_to_call,n):\n",
        "    print(\"Thread %s: Starting\", func_to_call)\n",
        "    #robotObj = robotIntegration.robotIntegrationClass()\n",
        "    eval(\"robotObj.{}()\".format(func_to_call))\n",
        "    time.sleep(n)\n",
        "    print(\"Thread %s: Finishing\", func_to_call)\n",
        "\n",
        "\n",
        "if __name__ == \"__main__\":\n",
        "\n",
        "    # creating thread\n",
        "    t1 = threading.Thread(target=print_sleep, args=(\"copy_cu_helm_chart\",2))\n",
        "    t2 = threading.Thread(target=print_sleep, args=(\"copy_du_helm_chart\",2))\n",
        "    t3 = threading.Thread(target=print_sleep, args=(\"docker_cucp_image_load_tag_push\",2))\n",
        "    t4 = threading.Thread(target=print_sleep, args=(\"docker_cuup_image_load_tag_push\",2))\n",
        "    t5 = threading.Thread(target=print_sleep, args=(\"docker_sm_image_load_tag_push\",2))\n",
        "    t6 = threading.Thread(target=print_sleep, args=(\"docker_vdu_image_load_tag_push\",2))\n",
        "    t7 = threading.Thread(target=print_sleep, args=(\"docker_ptp_image_load_tag_push\",2))\n",
        "\n",
        "    #t2 = threading.Thread(target=print_sleep, args=(5,\"*\"))\n",
        "\n",
        "    # starting thread 1print_sleep\n",
        "    t1.start()\n",
        "    # starting thread 2\n",
        "    t2.start()\n",
        "    t3.start()\n",
        "\n",
        "\n",
        "    t1.join()\n",
        "    # wait until thread 2 is completely executed\n",
        "    t2.join()\n",
        "    t3.join()\n",
        "    t4.join()\n",
        "    t5.join()\n",
        "    t6.join()\n",
        "    t7.join()\n",
        "\n",
        "    # both threads completely executed\n",
        "    print(\"Images Pushed SUccessfully, Done!\")"
      ]
    },
    {
      "cell_type": "code",
      "execution_count": null,
      "metadata": {},
      "outputs": [],
      "source": [
        "#!/usr/bin/python\n",
        "\n",
        "import thread\n",
        "import time\n",
        "\n",
        "# Define a function for the thread\n",
        "def print_time( threadName, delay):\n",
        "   count = 0\n",
        "   while count < 5:\n",
        "      time.sleep(delay)\n",
        "      count += 1\n",
        "      print \"%s: %s\" % ( threadName, time.ctime(time.time()))\n"
      ]
    },
    {
      "cell_type": "code",
      "execution_count": null,
      "metadata": {},
      "outputs": [],
      "source": [
        "# Create two threads as follows\n",
        "try:\n",
        "   thread.start_new_thread( print_time, (\"Thread-1\", 2, ) )\n",
        "   thread.start_new_thread( print_time, (\"Thread-2\", 4, ) )\n",
        "except:\n",
        "   print(\"Error: unable to start thread\")\n",
        "\n",
        "while 1:\n",
        "   pass"
      ]
    },
    {
      "cell_type": "code",
      "execution_count": null,
      "metadata": {},
      "outputs": [],
      "source": [
        "t = threading.Thread(target=deployVM,name=\"Thread #%s\" % vm_name,args=(VCENTER, ESXI, vm_type, vm_name, vm_ip, vm, pam_ova, mce_ova, mpe_ova, app_ova, log_ova, callback_when_done, sleeptime))"
      ]
    },
    {
      "cell_type": "code",
      "execution_count": null,
      "metadata": {},
      "outputs": [],
      "source": [
        "import Queue\n",
        "import threading\n",
        "import time\n",
        "\n",
        "exitFlag = 0\n",
        "\n",
        "class myThread (threading.Thread):\n",
        "   def __init__(self, threadID, name, q):\n",
        "      threading.Thread.__init__(self)\n",
        "      self.threadID = threadID\n",
        "      self.name = name\n",
        "      self.q = q\n",
        "   def run(self):\n",
        "      print(\"Starting \" + self.name)\n",
        "      process_data(self.name, self.q)\n",
        "      print(\"Exiting \" + self.name)\n",
        "\n",
        "def process_data(threadName, q):\n",
        "   while not exitFlag:\n",
        "      queueLock.acquire()\n",
        "      if not workQueue.empty():\n",
        "            data = q.get()\n",
        "            queueLock.release()\n",
        "            print(\"%s processing %s\" % (threadName, data))\n",
        "      else:\n",
        "            queueLock.release()\n",
        "      time.sleep(1)\n",
        "\n",
        "threadList = [\"Thread-1\", \"Thread-2\", \"Thread-3\"]\n",
        "nameList = [\"One\", \"Two\", \"Three\", \"Four\", \"Five\"]\n",
        "queueLock = threading.Lock()\n",
        "workQueue = Queue.Queue(10)\n",
        "threads = []\n",
        "threadID = 1\n",
        "\n",
        "# Create new threads\n",
        "for tName in threadList:\n",
        "   thread = myThread(threadID, tName, workQueue)\n",
        "   thread.start()\n",
        "   threads.append(thread)\n",
        "   threadID += 1\n",
        "\n",
        "# Fill the queue\n",
        "queueLock.acquire()\n",
        "for word in nameList:\n",
        "   workQueue.put(word)\n",
        "queueLock.release()\n",
        "\n",
        "# Wait for queue to empty\n",
        "while not workQueue.empty():\n",
        "   pass\n",
        "\n",
        "# Notify threads it's time to exit\n",
        "exitFlag = 1\n",
        "\n",
        "# Wait for all threads to complete\n",
        "for t in threads:\n",
        "   t.join()\n",
        "print(\"Exiting Main Thread\")\n"
      ]
    },
    {
      "cell_type": "code",
      "execution_count": null,
      "metadata": {},
      "outputs": [],
      "source": [
        "if __name__ == \"__main__\":\n",
        "    # creating thread\n",
        "    t1 = threading.Thread(target=print_square, args=(10,))\n",
        "    t2 = threading.Thread(target=print_cube, args=(10,))\n",
        "\n",
        "    # starting thread 1\n",
        "    t1.start()\n",
        "    # starting thread 2\n",
        "    t2.start()\n",
        "\n",
        "    # wait until thread 1 is completely executed\n",
        "    t1.join()\n",
        "    # wait until thread 2 is completely executed\n",
        "    t2.join()\n",
        "\n",
        "    # both threads completely executed\n",
        "    print(\"Done!\")\n",
        "    threads.append(threading.Thread(target=deployVM,\n",
        "                                    name=\"Thread #%s\"\\\n",
        "                                    % vm_name,\n",
        "                                    args=(VCENTER, ESXI, vm_type, vm_name, vm_ip, vm, pam_ova, mce_ova, mpe_ova, app_ova, log_ova, callback_when_done, sleeptime)))\n",
        "\n",
        "    [t.start() for t in threads]\n",
        "    [t.join() for t in threads]\n",
        "    nodes = mosglobals.nodes"
      ]
    },
    {
      "cell_type": "markdown",
      "metadata": {},
      "source": [
        "## Decorators"
      ]
    },
    {
      "cell_type": "code",
      "execution_count": 2,
      "metadata": {},
      "outputs": [
        {
          "name": "stdout",
          "output_type": "stream",
          "text": [
            "<function calc_square at 0x000002855BBF3EC0>\n",
            "<function calc_cube at 0x000002855BBF2840>\n",
            "1714128396.3898914\n",
            "calc_square took 0.0mil sec\n",
            "1714128396.3898914\n",
            "calc_cube took 0.0mil sec\n"
          ]
        }
      ],
      "source": [
        "import time\n",
        "import pdb\n",
        "\n",
        "\n",
        "def time_it(func):\n",
        "    print(func)\n",
        "    def wrapper(*args, **kwargs):\n",
        "        start = time.time()\n",
        "        print(start)\n",
        "        result = func(*args, **kwargs)\n",
        "        end = time.time()\n",
        "        print(func.__name__ + \" took \" + str((end-start)*1000) + \"mil sec\" )\n",
        "        return result\n",
        "    return wrapper\n",
        "\n",
        "\n",
        "@time_it\n",
        "def calc_square(numbers):\n",
        "    result = []\n",
        "    for number in numbers:\n",
        "        result.append(number*number)\n",
        "    return result\n",
        "\n",
        "@time_it\n",
        "def calc_cube(numbers):\n",
        "    result = []\n",
        "    for number in numbers:\n",
        "        result.append(number * number * number)\n",
        "    return result\n",
        "\n",
        "\n",
        "array = range(1,10)\n",
        "out_square = (calc_square(array))\n",
        "out_cube = calc_cube(array)\n"
      ]
    },
    {
      "cell_type": "code",
      "execution_count": 4,
      "metadata": {},
      "outputs": [
        {
          "name": "stdout",
          "output_type": "stream",
          "text": [
            "call this func: <function caller at 0x000002855BBF23E0>\n",
            "[[1, 2], [3, 4]]\n"
          ]
        }
      ],
      "source": [
        "def decorator(func):\n",
        "    def wrapper(*args, **kwargs):\n",
        "        l = [1,2,3,4]\n",
        "        print(\"call this func:\", func)\n",
        "        result = func(l)\n",
        "        print(result)\n",
        "    return wrapper\n",
        "\n",
        "@decorator\n",
        "def caller(l, start = 0, end = 2):\n",
        "    finalList = []\n",
        "    for i in range(start, len(l), end):\n",
        "        finalList.append(l[i:i+end])\n",
        "    return(finalList)\n",
        "\n",
        "\n",
        "#calling    \n",
        "caller()"
      ]
    },
    {
      "cell_type": "code",
      "execution_count": null,
      "metadata": {
        "id": "OqFSLkF7D3y7"
      },
      "outputs": [],
      "source": [
        "#Simple way of creating Iterator is generator:\n",
        "\n",
        "#ITERATOR:\n",
        "class RemoteControl():\n",
        "    def __init__(self):\n",
        "        self.channels = [\"HBO\", \"cnn\", \"abc\", \"espn\"]\n",
        "        self.index = -1\n",
        "\n",
        "    def __iter__(self):\n",
        "        return self\n",
        "\n",
        "    def __next__(self):\n",
        "        self.index += 1\n",
        "        if self.index == len(self.channels):\n",
        "            raise StopIteration\n",
        "        return self.channels[self.index]\n",
        "\n",
        "\n",
        "r = RemoteControl()\n",
        "itr = iter(r)\n",
        "print (next(itr))\n",
        "print (next(itr))\n",
        "print (next(itr))\n",
        "print (next(itr))\n",
        "print (next(itr))"
      ]
    },
    {
      "cell_type": "markdown",
      "metadata": {},
      "source": [
        "# GENERATOR:\n",
        "\n",
        "Iterating over the list and the generator looks completely the same. However, although the generator is iterable, it is not a collection, \n",
        "and thus has no length. Collections (lists, tuples, sets, etc) keep all values in memory and we can access them whenever needed.\n",
        "A generator calculates the values on the fly and forgets them, so it does not have any overview about the own result set.\n",
        "\n",
        "Generators are especially useful for memory-intensive tasks, where there is no need to keep all of the elements of a memory-heavy list \n",
        "accessible at the same time. Calculating a series of values one-by-one can also be useful in situations where the complete result is never needed, \n",
        "yielding intermediate results to the caller until some requirement is satisfied and further processing stops."
      ]
    },
    {
      "cell_type": "code",
      "execution_count": 5,
      "metadata": {},
      "outputs": [
        {
          "data": {
            "text/plain": [
              "'cnn'"
            ]
          },
          "execution_count": 5,
          "metadata": {},
          "output_type": "execute_result"
        }
      ],
      "source": [
        "def remote_control():\n",
        "  yield \"cnn\"\n",
        "  yield \"HBO\"\n",
        "  yield \"MGM\"\n",
        "itr = remote_control()\n",
        "next(itr)"
      ]
    },
    {
      "cell_type": "markdown",
      "metadata": {},
      "source": [
        "# YIELD:\n",
        "A good example is a search task, where typically there is no need to wait for all results to be found. \n",
        "Performing a file-system search, a user would be happier to receive results on-the-fly,\n",
        "rather the wait for a search engine to go through every single file and only afterwards return results. \n",
        "Are there any people who really navigate through all Google search results until the last page?\n",
        "\n",
        "Since a search functionality cannot be created using list-comprehensions, we are going to define a generator using a function\n",
        "with the yield statement/keyword. The yield instruction should be put into a place where the generator returns an intermediate result to the caller and\n",
        "sleeps until the next invocation occurs. Let's define a generator that would search for some keyword in a huge text file line-by-line."
      ]
    },
    {
      "cell_type": "code",
      "execution_count": 9,
      "metadata": {},
      "outputs": [],
      "source": [
        "def search(keyword, filename):\n",
        "    print('generator started')\n",
        "    f = open(filename, 'r')\n",
        "    # Looping through the file line by line\n",
        "    for line in f:\n",
        "        if keyword in line:\n",
        "            # If keyword found, return it\n",
        "            yield line\n",
        "    f.close()\n",
        "\n",
        "def hold_client(name):\n",
        "    yield 'Hello, %s! You will be connected soon' % name\n",
        "    yield 'Dear %s, could you please wait a bit.' % name\n",
        "    yield 'Sorry %s, we will play a nice music for you!' % name\n",
        "    yield '%s, your call is extremely important to us!' % name"
      ]
    },
    {
      "cell_type": "code",
      "execution_count": 10,
      "metadata": {},
      "outputs": [
        {
          "name": "stdout",
          "output_type": "stream",
          "text": [
            "0 1 1 2 3 5 8 13 21 34 55 89 144 233 377 610 987 \n"
          ]
        }
      ],
      "source": [
        "def fib(n):\n",
        "     a, b = 0, 1\n",
        "     while a < n:\n",
        "         print(a, end=' ')\n",
        "         a, b = b, a+b\n",
        "     print()\n",
        "fib(1000)"
      ]
    },
    {
      "cell_type": "code",
      "execution_count": 11,
      "metadata": {},
      "outputs": [
        {
          "name": "stdout",
          "output_type": "stream",
          "text": [
            "0\n",
            "1\n",
            "1\n",
            "2\n",
            "3\n",
            "5\n",
            "8\n",
            "13\n",
            "21\n",
            "34\n",
            "55\n",
            "89\n"
          ]
        }
      ],
      "source": [
        "def fib():\n",
        "    a, b = 0, 1\n",
        "    while True:\n",
        "        yield a\n",
        "        a, b = b, a+b\n",
        "\n",
        "for f in fib():\n",
        "    if f > 100:\n",
        "        break\n",
        "    print(f)\n"
      ]
    },
    {
      "cell_type": "code",
      "execution_count": 15,
      "metadata": {},
      "outputs": [],
      "source": [
        "def fibonacci(n):\n",
        "    curr = 1\n",
        "    prev = 0\n",
        "    counter = 0\n",
        "    while counter < n:\n",
        "        yield curr\n",
        "        prev, curr = curr, prev + curr\n",
        "        counter += 1\n",
        "\n"
      ]
    },
    {
      "cell_type": "code",
      "execution_count": 16,
      "metadata": {},
      "outputs": [
        {
          "name": "stdout",
          "output_type": "stream",
          "text": [
            "Fibonacci sequence upto 20 :\n",
            "0\n",
            "1\n",
            "1\n",
            "2\n",
            "3\n",
            "5\n",
            "8\n",
            "13\n",
            "21\n",
            "34\n",
            "55\n",
            "89\n",
            "144\n",
            "233\n",
            "377\n",
            "610\n",
            "987\n",
            "1597\n",
            "2584\n",
            "4181\n"
          ]
        }
      ],
      "source": [
        "nterms = int(input(\"How many terms ?\"))\n",
        "\n",
        "n1 = 0\n",
        "n2 = 1\n",
        "count = 0\n",
        "if nterms <= 0:\n",
        "    print(\"please enter a positive integer\")\n",
        "elif nterms == 1:\n",
        "    print(\"Fibonacci sequence upto\", nterms, \":\")\n",
        "    print(n1)\n",
        "else:\n",
        "    print(\"Fibonacci sequence upto\",nterms,\":\")\n",
        "    while count < nterms:\n",
        "        print(n1 )\n",
        "        nth = n1 +n2\n",
        "        n1= n2\n",
        "        n2 = nth\n",
        "        count +=1"
      ]
    },
    {
      "cell_type": "markdown",
      "metadata": {},
      "source": [
        "Return:\n",
        "The return statement is where all the local variables are destroyed and the resulting value is given back (returned) to the caller. \n",
        "Should the same function be called some time later, the function will get a fresh new set of variables.\n",
        "\n",
        "Yield\n",
        "But what if the local variables aren't thrown away when we exit a function? This implies that we can  resume the function where we left off.\n",
        "This is where the concept of generators are introduced and the yield statement resumes where the function left off.\n",
        "\n",
        "  def generate_integers(N):\n",
        "    for i in xrange(N):\n",
        "    yield i \n",
        "  In [1]: gen = generate_integers(3)\n",
        "    In [2]: gen\n",
        "    <generator object at 0x8117f90>\n",
        "    In [3]: gen.next()\n",
        "    0\n",
        "    In [4]: gen.next()\n",
        "    1\n",
        "    In [5]: gen.next()\n",
        "So that's the difference between return and yield statements in Python.\n",
        "\n",
        "Simple way of creating Iterator is generator:\n",
        "\n",
        "Yield statement is what makes a function a generator function.\n",
        "So Generators are a simple and powerful tool for creating iterators. \n",
        "They are written like regular functions but use the yield statement whenever they want to return data. Each time next() is called,\n",
        "the generator resumes where it left-off (it remembers all the data values and which statement was last executed)"
      ]
    },
    {
      "cell_type": "code",
      "execution_count": 17,
      "metadata": {},
      "outputs": [
        {
          "name": "stdout",
          "output_type": "stream",
          "text": [
            "first normal arg: yasoob\n",
            "another arg through *argv: python\n",
            "another arg through *argv: eggs\n",
            "another arg through *argv: test\n"
          ]
        }
      ],
      "source": [
        "#ARGS & KWARGS:\n",
        "def test_var_args(f_arg, *argv):\n",
        "    print(\"first normal arg:\", f_arg)\n",
        "    for arg in argv:\n",
        "        print(\"another arg through *argv:\", arg)\n",
        "\n",
        "test_var_args('yasoob', 'python', 'eggs', 'test')\n"
      ]
    },
    {
      "cell_type": "markdown",
      "metadata": {},
      "source": [
        "**kwargs allows you to pass keyworded variable length of arguments to a function. You should use **kwargs if you want to handle \n",
        "named arguments in a function. Here is an example to get you going with it:"
      ]
    },
    {
      "cell_type": "code",
      "execution_count": 19,
      "metadata": {},
      "outputs": [
        {
          "name": "stdout",
          "output_type": "stream",
          "text": [
            "name = yasoob\n"
          ]
        }
      ],
      "source": [
        "def greet_me(**kwargs):\n",
        "    for key, value in kwargs.items():\n",
        "        print(\"{0} = {1}\".format(key, value))\n",
        "\n",
        "greet_me(name=\"yasoob\")"
      ]
    },
    {
      "cell_type": "code",
      "execution_count": 20,
      "metadata": {},
      "outputs": [],
      "source": [
        "def test_args_kwargs(arg1, arg2, arg3):\n",
        "    print(\"arg1:\", arg1)\n",
        "    print(\"arg2:\", arg2)\n",
        "    print(\"arg3:\", arg3)\n",
        "# Now you can use *args or **kwargs to pass arguments to this little function. Here’s how to do it:"
      ]
    },
    {
      "cell_type": "code",
      "execution_count": 22,
      "metadata": {},
      "outputs": [
        {
          "name": "stdout",
          "output_type": "stream",
          "text": [
            "arg1: two\n",
            "arg2: 3\n",
            "arg3: 5\n"
          ]
        }
      ],
      "source": [
        "# first with *args\n",
        "args = (\"two\", 3, 5)\n",
        "test_args_kwargs(*args)"
      ]
    },
    {
      "cell_type": "code",
      "execution_count": 24,
      "metadata": {},
      "outputs": [
        {
          "name": "stdout",
          "output_type": "stream",
          "text": [
            "arg1: 5\n",
            "arg2: two\n",
            "arg3: 3\n"
          ]
        }
      ],
      "source": [
        "# now with **kwargs:\n",
        "kwargs = {\"arg3\": 3, \"arg2\": \"two\", \"arg1\": 5}\n",
        "test_args_kwargs(**kwargs)"
      ]
    },
    {
      "cell_type": "code",
      "execution_count": 25,
      "metadata": {},
      "outputs": [],
      "source": [
        "l = [1,2,3]\n",
        "d = {'a':5, \"b\":8}\n",
        "def f (*args, **kwargs):\n",
        "    print(args, kwargs)"
      ]
    },
    {
      "cell_type": "code",
      "execution_count": 28,
      "metadata": {},
      "outputs": [],
      "source": [
        "def f(*args, **kwargs):\n",
        "    print(args, kwargs)"
      ]
    },
    {
      "cell_type": "code",
      "execution_count": 29,
      "metadata": {},
      "outputs": [
        {
          "name": "stdout",
          "output_type": "stream",
          "text": [
            "(1, 2, 3) {'a': 5, 'b': 8}\n"
          ]
        }
      ],
      "source": [
        "f(*l, **d)"
      ]
    },
    {
      "cell_type": "code",
      "execution_count": 30,
      "metadata": {},
      "outputs": [
        {
          "name": "stdout",
          "output_type": "stream",
          "text": [
            "first\n",
            "() {}\n",
            "second\n",
            "([1, 2, 3],) {}\n",
            "third\n",
            "(1, 2, 3, 'groovy') {}\n",
            "four\n",
            "() {'a': 1, 'b': 2, 'c': 3}\n",
            "five\n",
            "() {'a': 1, 'b': 2, 'c': 3, 'zzz': 'hi'}\n",
            "six\n",
            "(1, 2, 3) {'a': 1, 'b': 2, 'c': 3}\n",
            "seven\n",
            "(1, 2, 3) {'a': 7, 'b': 8, 'c': 9}\n",
            "eight\n",
            "(4, 5, 6) {'a': 7, 'b': 8, 'c': 9}\n",
            "nine\n",
            "(1, 2, 4, 5, 6) {}\n",
            "ten\n",
            "() {'q': 'winning', 'a': 7, 'b': 8, 'c': 9}\n",
            "eleven\n",
            "(1, 2, 4, 5, 6) {'q': 'winning'}\n",
            "twelve\n",
            "(4, 5, 6, 1, 2) {'q': 'winning'}\n",
            "thirteen\n"
          ]
        }
      ],
      "source": [
        "l=[1,2,3]\n",
        "t=(4,5,6)\n",
        "d={'a':7,'b':8,'c':9}\n",
        "def f(*args,**kwargs):\n",
        "    print (args,kwargs)\n",
        "print (\"first\")\n",
        "f()\n",
        "print (\"second\")\n",
        "f([1,2,3])\n",
        "print (\"third\")\n",
        "f(1,2,3,\"groovy\")\n",
        "print (\"four\")\n",
        "f(a=1,b=2,c=3)\n",
        "print (\"five\")\n",
        "f(a=1,b=2,c=3,zzz=\"hi\")\n",
        "print (\"six\")\n",
        "f(1,2,3,a=1,b=2,c=3)\n",
        "print (\"seven\")\n",
        "f(*l,**d)\n",
        "print (\"eight\")\n",
        "f(*t,**d)\n",
        "print (\"nine\")\n",
        "f(1,2,*t)\n",
        "print (\"ten\")\n",
        "f(q=\"winning\",**d)\n",
        "print (\"eleven\")\n",
        "f(1,2,*t,q=\"winning\")\n",
        "print (\"twelve\")\n",
        "f(*t,1,2,q=\"winning\")\n",
        "print (\"thirteen\")\n",
        "#f(**l)"
      ]
    },
    {
      "cell_type": "markdown",
      "metadata": {},
      "source": [
        "# Dictionary"
      ]
    },
    {
      "cell_type": "code",
      "execution_count": 31,
      "metadata": {},
      "outputs": [
        {
          "name": "stdout",
          "output_type": "stream",
          "text": [
            "Original dictionary :  {1: 2, 3: 4, 4: 3, 2: 1, 0: 0}\n",
            "Dictionary in ascending order by value :  [(0, 0), (1, 2), (2, 1), (3, 4), (4, 3)]\n",
            "Dictionary in descending order by value :  [(4, 3), (3, 4), (2, 1), (1, 2), (0, 0)]\n"
          ]
        }
      ],
      "source": [
        "import operator\n",
        "d = {1: 2, 3: 4, 4: 3, 2: 1, 0: 0}\n",
        "print('Original dictionary : ',d)\n",
        "sorted_d = sorted(d.items(), key=operator.itemgetter(0))\n",
        "print('Dictionary in ascending order by value : ',sorted_d)\n",
        "sorted_d = sorted(d.items(), key=operator.itemgetter(0),reverse=True)\n",
        "print('Dictionary in descending order by value : ',sorted_d)\n"
      ]
    },
    {
      "cell_type": "code",
      "execution_count": 35,
      "metadata": {},
      "outputs": [
        {
          "name": "stdout",
          "output_type": "stream",
          "text": [
            "{'x': 'red', 'y': 'Yellow', 'z': 'Green'}\n",
            "red, Yellow, Green\n"
          ]
        }
      ],
      "source": [
        "#Create dict using class:\n",
        "class dictObj(object):\n",
        "     def __init__(self):\n",
        "         self.x = 'red'\n",
        "         self.y = 'Yellow'\n",
        "         self.z = 'Green'\n",
        "     def do_nothing(self):\n",
        "         pass\n",
        "     \n",
        "     def print_me(self):\n",
        "         print(f\"{self.x }, {self.y }, {self.z }\")\n",
        "test = dictObj()\n",
        "print(test.__dict__)\n",
        "test.print_me()"
      ]
    },
    {
      "cell_type": "code",
      "execution_count": null,
      "metadata": {},
      "outputs": [],
      "source": [
        "#key val:\n",
        "for key,value in student_data.items():\n",
        "    if value not in result.values():\n",
        "        result[key] = value"
      ]
    },
    {
      "cell_type": "code",
      "execution_count": 93,
      "metadata": {},
      "outputs": [
        {
          "name": "stdout",
          "output_type": "stream",
          "text": [
            "{1: 10, 2: 20, 3: 30, 4: 40, 5: 50, 6: 60}\n",
            "############################################################\n",
            "{1: 10, 2: 20}\n",
            "{3: 30, 4: 40}\n",
            "{5: 50, 6: 60}\n"
          ]
        }
      ],
      "source": [
        "#Dict update:\n",
        "dic1={1:10, 2:20}\n",
        "dic2={3:30, 4:40}\n",
        "dic3={5:50,6:60}\n",
        "dic4 = {}\n",
        "for d in (dic1, dic2, dic3): dic4.update(d)\n",
        "print(dic4)\n",
        "print(\"##\"*30)\n",
        "for d in (dic1, dic2, dic3):\n",
        "    print(d)"
      ]
    },
    {
      "cell_type": "code",
      "execution_count": 94,
      "metadata": {},
      "outputs": [
        {
          "name": "stdout",
          "output_type": "stream",
          "text": [
            "x -> 100\n",
            "y -> 400\n",
            "z -> 900\n"
          ]
        }
      ],
      "source": [
        "#loop dict:\n",
        "d = {'x': 10, 'y': 20, 'z': 30} \n",
        "for dict_key, dict_value in d.items():\n",
        "    print(dict_key,'->',dict_value * dict_value)"
      ]
    },
    {
      "cell_type": "code",
      "execution_count": null,
      "metadata": {},
      "outputs": [],
      "source": [
        "#loop dict:\n",
        "d = {'x': 10, 'y': 20, 'z': 30} \n",
        "for dict_key, dict_value in d.items():\n",
        "    print(dict_key,'->',dict_value * dict_value)\n"
      ]
    },
    {
      "cell_type": "code",
      "execution_count": 98,
      "metadata": {},
      "outputs": [
        {
          "name": "stdout",
          "output_type": "stream",
          "text": [
            "251\n"
          ]
        }
      ],
      "source": [
        "#Multiply dict:\n",
        "my_dict = {'data1':100,'data2':-50,'data3':200}\n",
        "result=1\n",
        "for key in my_dict:    \n",
        "    result=result + my_dict[key]\n",
        "print(result)"
      ]
    },
    {
      "cell_type": "code",
      "execution_count": 102,
      "metadata": {},
      "outputs": [
        {
          "name": "stdout",
          "output_type": "stream",
          "text": [
            "{'a': 1, 'b': 2, 'c': 3, 'd': 4}\n",
            "{'b': 2, 'c': 3, 'd': 4}\n"
          ]
        }
      ],
      "source": [
        "#Delete key:\n",
        "myDict = {'a':1,'b':2,'c':3,'d':4}\n",
        "print(myDict)\n",
        "if 'a' in myDict: \n",
        "    del myDict['a']\n",
        "print(myDict)"
      ]
    },
    {
      "cell_type": "code",
      "execution_count": 100,
      "metadata": {},
      "outputs": [],
      "source": [
        "#Max & Min value in dict:\n",
        "my_dict = {'x':500, 'y':5874, 'z': 560}\n",
        "\n",
        "key_max = max(my_dict.keys(), key=(lambda k: my_dict[k]))\n",
        "key_min = min(my_dict.keys(), key=(lambda k: my_dict[k]))"
      ]
    },
    {
      "cell_type": "code",
      "execution_count": 36,
      "metadata": {},
      "outputs": [
        {
          "name": "stdout",
          "output_type": "stream",
          "text": [
            "Counter({'a': 400, 'b': 400, 'd': 400, 'c': 300})\n"
          ]
        }
      ],
      "source": [
        "#Add values:\n",
        "from collections import Counter\n",
        "d1 = {'a': 100, 'b': 200, 'c':300}\n",
        "d2 = {'a': 300, 'b': 200, 'd':400}\n",
        "d = Counter(d1) + Counter(d2)\n",
        "print(d)"
      ]
    },
    {
      "cell_type": "code",
      "execution_count": 41,
      "metadata": {},
      "outputs": [
        {
          "name": "stdout",
          "output_type": "stream",
          "text": [
            "Unique numbers: [1, 2, 4, 3, 5, 6, 7, 9]\n"
          ]
        }
      ],
      "source": [
        "l = [1, 2, 4, 3, 4, 5, 6, 7, 4, 3, 4, 5, 6, 7, 4, 4, 5, 6, 9]\n",
        "\n",
        "# Initialize an empty list to store unique numbers\n",
        "unique_numbers = []\n",
        "\n",
        "# Iterate over each number in the list\n",
        "for num in l:\n",
        "    # Check if the number is not already in the unique numbers list\n",
        "    if num not in unique_numbers:\n",
        "        # If not, add it to the unique numbers list\n",
        "        unique_numbers.append(num)\n",
        "\n",
        "# Print the list of unique numbers\n",
        "print(\"Unique numbers:\", unique_numbers)\n"
      ]
    },
    {
      "cell_type": "code",
      "execution_count": 42,
      "metadata": {},
      "outputs": [
        {
          "name": "stdout",
          "output_type": "stream",
          "text": [
            "Unique numbers: [1, 2, 4, 3, 5, 6, 7, 9]\n"
          ]
        }
      ],
      "source": [
        "l = [1, 2, 4, 3, 4, 5, 6, 7, 4, 3, 4, 5, 6, 7, 4, 4, 5, 6, 9]\n",
        "\n",
        "# Initialize an empty dictionary\n",
        "unique_dict = {}\n",
        "\n",
        "# Iterate through the list and add elements as keys to the dictionary\n",
        "for num in l:\n",
        "    unique_dict[num] = None\n",
        "\n",
        "# Get the unique numbers by extracting keys from the dictionary\n",
        "unique_numbers = list(unique_dict.keys())\n",
        "\n",
        "# Print the list of unique numbers\n",
        "print(\"Unique numbers:\", unique_numbers)\n"
      ]
    },
    {
      "cell_type": "code",
      "execution_count": 43,
      "metadata": {},
      "outputs": [
        {
          "name": "stdout",
          "output_type": "stream",
          "text": [
            "Unique numbers: [1, 2, 4, 3, 5, 6, 7, 9]\n"
          ]
        }
      ],
      "source": [
        "l = [1, 2, 4, 3, 4, 5, 6, 7, 4, 3, 4, 5, 6, 7, 4, 4, 5, 6, 9]\n",
        "\n",
        "# Use dictionary comprehension to create a dictionary with unique elements as keys\n",
        "unique_dict = {num: None for num in l}\n",
        "\n",
        "# Get the unique numbers by extracting keys from the dictionary\n",
        "unique_numbers = list(unique_dict.keys())\n",
        "\n",
        "# Print the list of unique numbers\n",
        "print(\"Unique numbers:\", unique_numbers)\n"
      ]
    },
    {
      "cell_type": "code",
      "execution_count": 48,
      "metadata": {},
      "outputs": [
        {
          "name": "stdout",
          "output_type": "stream",
          "text": [
            "Keys [1, 2, 3, 4, 5, 6, 7, 9], groups [[1], [2], [3, 3], [4, 4, 4, 4, 4, 4], [5, 5, 5], [6, 6, 6], [7, 7], [9]]\n"
          ]
        }
      ],
      "source": [
        "import itertools\n",
        "sorted_data= sorted(l)\n",
        "keys=[]\n",
        "groups=[]\n",
        "for k,g in itertools.groupby(sorted_data):\n",
        "    keys.append(k)\n",
        "    groups.append(list(g))\n",
        "\n",
        "print(f\"Keys {keys}, groups {groups}\")\n",
        "\n",
        "# cnt=len(l) \n",
        "# for i in groups:\n",
        "#     zipped= dict(zip(keys, cnt))"
      ]
    },
    {
      "cell_type": "code",
      "execution_count": 183,
      "metadata": {},
      "outputs": [
        {
          "name": "stdout",
          "output_type": "stream",
          "text": [
            "hi\n",
            "bye\n",
            "huh?\n",
            "what....\n"
          ]
        }
      ],
      "source": [
        "# DICTIONARY:\n",
        "# Ordered Dict:\n",
        "test_dict = dict( val1 = \"hi\", val2 = \"bye\", val3 = \"huh?\", val4 = \"what....\")\n",
        "test_tuple = ( 'val1', 'val2', 'val3', 'val4')\n",
        "for key in test_tuple:\n",
        "    print(test_dict[key])"
      ]
    },
    {
      "cell_type": "code",
      "execution_count": 85,
      "metadata": {},
      "outputs": [],
      "source": [
        "str= \"w3resource\"\n",
        "l={x:str.count(x) for x in str}\n",
        "\n",
        "wordsList = ['this','is','this','is','this','mine']\n",
        "l= {x:wordsList.count(x) for x in wordsList}"
      ]
    },
    {
      "cell_type": "code",
      "execution_count": 87,
      "metadata": {},
      "outputs": [
        {
          "data": {
            "text/plain": [
              "['b', 'e', 'c']"
            ]
          },
          "execution_count": 87,
          "metadata": {},
          "output_type": "execute_result"
        }
      ],
      "source": [
        "#3 largest:\n",
        "from heapq import nlargest\n",
        "my_dict = {'a':500, 'b':5874, 'c': 560,'d':400, 'e':5874, 'f': 20}  \n",
        "three_largest = nlargest(3, my_dict, key=my_dict.get)\n",
        "three_largest"
      ]
    },
    {
      "cell_type": "markdown",
      "metadata": {},
      "source": [
        "# Deepcopy Shallow Copy:"
      ]
    },
    {
      "cell_type": "code",
      "execution_count": 70,
      "metadata": {},
      "outputs": [
        {
          "data": {
            "text/plain": [
              "[1, 2, [3, 5], 4]"
            ]
          },
          "execution_count": 70,
          "metadata": {},
          "output_type": "execute_result"
        }
      ],
      "source": [
        "import copy\n",
        "  \n",
        "# initializing list 1 \n",
        "li1 = [1, 2, [3,5], 4]\n",
        "li1"
      ]
    },
    {
      "cell_type": "code",
      "execution_count": 71,
      "metadata": {},
      "outputs": [],
      "source": [
        "# using copy for shallow copy  # Any changes made to original list will be reflected in shallow copy\n",
        "li2 = copy.copy(li1)"
      ]
    },
    {
      "cell_type": "code",
      "execution_count": 72,
      "metadata": {},
      "outputs": [],
      "source": [
        "# using deepcopy for deepcopy  # changes won't reflect\n",
        "li3 = copy.deepcopy(li1) "
      ]
    },
    {
      "cell_type": "code",
      "execution_count": 73,
      "metadata": {},
      "outputs": [],
      "source": [
        "# adding and element to new list\n",
        "li2[2][0] = 7\n"
      ]
    },
    {
      "cell_type": "code",
      "execution_count": 74,
      "metadata": {},
      "outputs": [
        {
          "name": "stdout",
          "output_type": "stream",
          "text": [
            "The original elements before deep copying::[1, 2, [7, 5], 4]\n",
            "The new list of elements after deep copying::[1, 2, [7, 5], 4]\n",
            "The original elements after deep copying::[1, 2, [3, 5], 4]\n"
          ]
        }
      ],
      "source": [
        "print(f\"The original elements before deep copying::{li1}\")\n",
        "print(f\"The new list of elements after deep copying::{li2}\") \n",
        "print(f\"The original elements after deep copying::{li3}\")"
      ]
    },
    {
      "cell_type": "code",
      "execution_count": 75,
      "metadata": {},
      "outputs": [],
      "source": [
        "d =  {1: 'one', 2: 'two'}\n",
        "d2 = d # Assigning \n",
        "d3 = d.copy() #taking a deep copy of it changes won't reflect"
      ]
    },
    {
      "cell_type": "code",
      "execution_count": 76,
      "metadata": {},
      "outputs": [
        {
          "data": {
            "text/plain": [
              "{1: 'ONE', 2: 'two'}"
            ]
          },
          "execution_count": 76,
          "metadata": {},
          "output_type": "execute_result"
        }
      ],
      "source": [
        "d[1]=\"ONE\"\n",
        "d"
      ]
    },
    {
      "cell_type": "code",
      "execution_count": 77,
      "metadata": {},
      "outputs": [
        {
          "data": {
            "text/plain": [
              "{1: 'ONE', 2: 'two'}"
            ]
          },
          "execution_count": 77,
          "metadata": {},
          "output_type": "execute_result"
        }
      ],
      "source": [
        "#exact replica is reflecting\n",
        "d2 #{1: 'ONE', 2: 'two'}"
      ]
    },
    {
      "cell_type": "code",
      "execution_count": 78,
      "metadata": {},
      "outputs": [
        {
          "data": {
            "text/plain": [
              "{1: 'one', 2: 'two'}"
            ]
          },
          "execution_count": 78,
          "metadata": {},
          "output_type": "execute_result"
        }
      ],
      "source": [
        "#no changes are reflected \n",
        "d3\n",
        "#{1: 'one', 2: 'two'}"
      ]
    },
    {
      "cell_type": "markdown",
      "metadata": {},
      "source": [
        "# Regular Expressions:\n",
        "Python offers two different primitive operations based on regular expressions: match checks for a match only at the beginning of the string,\n",
        "while search checks for a match anywhere in the string (this is what Perl does by default)."
      ]
    },
    {
      "cell_type": "code",
      "execution_count": 108,
      "metadata": {},
      "outputs": [
        {
          "name": "stdout",
          "output_type": "stream",
          "text": [
            "2004-959-559 \n"
          ]
        }
      ],
      "source": [
        "import re\n",
        "phone = '2004-959-559 #This is Phone Number'\n",
        "num = re.sub(r\"#.*$\",\"\",phone)\n",
        "print(num)"
      ]
    },
    {
      "cell_type": "code",
      "execution_count": 109,
      "metadata": {},
      "outputs": [
        {
          "data": {
            "text/plain": [
              "'2004-959-559 #This is Phone Number'"
            ]
          },
          "execution_count": 109,
          "metadata": {},
          "output_type": "execute_result"
        }
      ],
      "source": [
        "phone"
      ]
    },
    {
      "cell_type": "code",
      "execution_count": 110,
      "metadata": {},
      "outputs": [
        {
          "data": {
            "text/plain": [
              "'2004959559'"
            ]
          },
          "execution_count": 110,
          "metadata": {},
          "output_type": "execute_result"
        }
      ],
      "source": [
        "num = re.sub(r'\\D',\"\",phone)\n",
        "num"
      ]
    },
    {
      "cell_type": "code",
      "execution_count": 111,
      "metadata": {},
      "outputs": [],
      "source": [
        "ts = \"apples oranges apples\"\n",
        "match_obj = re.match(\"apples\", ts)\n",
        "search_obj = re.search(\"apples\",ts)\n",
        "findall_obj = re.findall(\"apples\",ts)"
      ]
    },
    {
      "cell_type": "code",
      "execution_count": 112,
      "metadata": {},
      "outputs": [
        {
          "data": {
            "text/plain": [
              "<re.Match object; span=(0, 6), match='apples'>"
            ]
          },
          "execution_count": 112,
          "metadata": {},
          "output_type": "execute_result"
        }
      ],
      "source": [
        "match_obj"
      ]
    },
    {
      "cell_type": "code",
      "execution_count": 114,
      "metadata": {},
      "outputs": [
        {
          "data": {
            "text/plain": [
              "<re.Match object; span=(0, 6), match='apples'>"
            ]
          },
          "execution_count": 114,
          "metadata": {},
          "output_type": "execute_result"
        }
      ],
      "source": [
        "search_obj"
      ]
    },
    {
      "cell_type": "code",
      "execution_count": 115,
      "metadata": {},
      "outputs": [
        {
          "data": {
            "text/plain": [
              "['apples', 'apples']"
            ]
          },
          "execution_count": 115,
          "metadata": {},
          "output_type": "execute_result"
        }
      ],
      "source": [
        "findall_obj"
      ]
    },
    {
      "cell_type": "code",
      "execution_count": null,
      "metadata": {},
      "outputs": [],
      "source": [
        "#substitue:\n",
        "#text_after = re.sub(regex_search_term, regex_replacement, text_before)"
      ]
    },
    {
      "cell_type": "code",
      "execution_count": null,
      "metadata": {},
      "outputs": [],
      "source": [
        "#REGEX IP:\n",
        "Email=\"\\w+[._]*\\w*@\\w+.\\w+\"\n",
        "PhoneNo=\"[789]\\d{9}|\\d{3,}-\\d{6,}\"\n",
        "IPAddress=\"(\\d+\\.\\d+\\.\\d+\\.\\d+)\"\n",
        "\n",
        "\n",
        "ValidIPaddress=\"((25[0-5]|2[0-4][0-9]|[01]?[0-9][0-9]?)\\.){3}(25[0-5]|2[0-4][0-9]|[01]?[0-9][0-9]?)\"\n",
        "\"((25[0-5]|2[0-4][0-9]|[01]?[0-9][0-9]?)\\.){3}(25[0-5]|2[0-4][0-9]|[01]?[0-9][0-9]?)\"\n",
        "URL=\"\\w+://(?:\\w+|[/:;+=*.])+\"\n",
        "SpecialCharacter=\"/^[-@./#&+\\w\\s]*$/\"\n",
        "floatvalues=\"[+-]?([0-9]*[.])?[0-9]+\""
      ]
    },
    {
      "cell_type": "markdown",
      "metadata": {},
      "source": [
        "(\\w+:\\/\\/(\\d+(\\.\\d+){3})\\:(\\d+)\\/\\w+\\.\\w+) group URL, IP & port\n",
        "\n",
        "^\\d{1,3}\\.\\d{1,3}\\.\\d{1,3}\\.\\d{1,3}$\n",
        "\n",
        "\\d{1,3}.\\d{1,3}.\\d{1,3}.\\d{1,3}\n",
        "\n",
        "^\\d{1,3}.\\d{1,3}.\\d{1,3}.\\d{1,3}$"
      ]
    },
    {
      "cell_type": "code",
      "execution_count": 119,
      "metadata": {},
      "outputs": [
        {
          "name": "stdout",
          "output_type": "stream",
          "text": [
            "Pass john@example.com\n",
            "Pass python-list@python.org\n",
            "Pass wha.t.`1an?ug{}ly@email.com\n"
          ]
        }
      ],
      "source": [
        "import re\n",
        "# here is my function to check for valid email address\n",
        "def test_email(your_pattern):\n",
        "    pattern = re.compile(your_pattern)\n",
        "    # here is an example list of email to check it at the end\n",
        "    emails = [\"john@example.com\", \"python-list@python.org\", \"wha.t.`1an?ug{}ly@email.com\"]\n",
        "    for email in emails:\n",
        "        if not re.match(pattern, email):\n",
        "            print(\"You failed to match %s\" % (email))\n",
        "        elif not your_pattern:\n",
        "            print(\"Forgot to enter a pattern!\")\n",
        "        else:\n",
        "            print(\"Pass\",email)\n",
        "# my pattern that is passed as argument in my function is here!\n",
        "pattern = r\"\\\"?([-a-zA-Z0-9.`?{}]+@\\w+\\.\\w+)\\\"?\"   \n",
        "# here i test my function passing my pattern\n",
        "test_email(pattern)\n",
        "\n",
        "# REGEX EMAIL:\n",
        "# [\\w.-]+@[\\w.-]+.\\w+\n",
        "# \\\"?([-a-zA-Z0-9.`?{}]+@\\w+\\.\\w+)\\\"?\n",
        "# ('(\\w+[.|\\w])*@(\\w+[.])*\\w+',email4)"
      ]
    },
    {
      "cell_type": "code",
      "execution_count": 120,
      "metadata": {},
      "outputs": [
        {
          "data": {
            "text/plain": [
              "True"
            ]
          },
          "execution_count": 120,
          "metadata": {},
          "output_type": "execute_result"
        }
      ],
      "source": [
        "import socket\n",
        "def valid_ip(address):\n",
        "    try: \n",
        "        socket.inet_aton(address)\n",
        "        return True\n",
        "    except:\n",
        "        return False\n",
        "valid_ip(\"10.10.10.10\")"
      ]
    },
    {
      "cell_type": "code",
      "execution_count": null,
      "metadata": {},
      "outputs": [
        {
          "name": "stdout",
          "output_type": "stream",
          "text": [
            "[(2, 1), (1, 2), (2, 3), (4, 4), (2, 5)]\n"
          ]
        }
      ],
      "source": [
        "#sort tuple by last element:\n",
        "def last(n):\n",
        "   return n[-1]\n",
        "\n",
        "def sort_list_last(tuples):\n",
        "  return sorted(tuples, key=last)\n",
        "\n",
        "print(sort_list_last([(2, 5), (1, 2), (4, 4), (2, 3), (2, 1)]))"
      ]
    },
    {
      "cell_type": "code",
      "execution_count": null,
      "metadata": {},
      "outputs": [
        {
          "name": "stdout",
          "output_type": "stream",
          "text": [
            "[1, 2, 3, 4, 1, 5, 6, 7, 9, 8, 7, 6]\n",
            "[1, 2, 3, 4, 1, 5, 6, 7, 9, 8, 7, 6]\n"
          ]
        }
      ],
      "source": [
        "#list inside list:\n",
        "\n",
        "e = [[1,2,3,4], [1,5,6,7], [9,8,7,6]]\n",
        "workers=[j for i in e for j in i]\n",
        "print(workers)\n"
      ]
    },
    {
      "cell_type": "code",
      "execution_count": null,
      "metadata": {},
      "outputs": [
        {
          "data": {
            "text/plain": [
              "['__add__',\n",
              " '__class__',\n",
              " '__class_getitem__',\n",
              " '__contains__',\n",
              " '__delattr__',\n",
              " '__delitem__',\n",
              " '__dir__',\n",
              " '__doc__',\n",
              " '__eq__',\n",
              " '__format__',\n",
              " '__ge__',\n",
              " '__getattribute__',\n",
              " '__getitem__',\n",
              " '__getstate__',\n",
              " '__gt__',\n",
              " '__hash__',\n",
              " '__iadd__',\n",
              " '__imul__',\n",
              " '__init__',\n",
              " '__init_subclass__',\n",
              " '__iter__',\n",
              " '__le__',\n",
              " '__len__',\n",
              " '__lt__',\n",
              " '__mul__',\n",
              " '__ne__',\n",
              " '__new__',\n",
              " '__reduce__',\n",
              " '__reduce_ex__',\n",
              " '__repr__',\n",
              " '__reversed__',\n",
              " '__rmul__',\n",
              " '__setattr__',\n",
              " '__setitem__',\n",
              " '__sizeof__',\n",
              " '__str__',\n",
              " '__subclasshook__',\n",
              " 'append',\n",
              " 'clear',\n",
              " 'copy',\n",
              " 'count',\n",
              " 'extend',\n",
              " 'index',\n",
              " 'insert',\n",
              " 'pop',\n",
              " 'remove',\n",
              " 'reverse',\n",
              " 'sort']"
            ]
          },
          "metadata": {},
          "output_type": "display_data"
        }
      ],
      "source": [
        "#Check the directories:\n",
        "l = []\n",
        "dir(l)"
      ]
    },
    {
      "cell_type": "code",
      "execution_count": null,
      "metadata": {},
      "outputs": [
        {
          "name": "stdout",
          "output_type": "stream",
          "text": [
            "Help on method-wrapper:\n",
            "\n",
            "__len__()\n",
            "    Return len(self).\n",
            "\n"
          ]
        }
      ],
      "source": [
        "help(l.__len__)"
      ]
    },
    {
      "cell_type": "markdown",
      "metadata": {},
      "source": [
        "## Errors in python:"
      ]
    },
    {
      "cell_type": "code",
      "execution_count": null,
      "metadata": {},
      "outputs": [
        {
          "ename": "ZeroDivisionError",
          "evalue": "division by zero",
          "output_type": "error",
          "traceback": [
            "\u001b[1;31m---------------------------------------------------------------------------\u001b[0m\n",
            "\u001b[1;31mZeroDivisionError\u001b[0m                         Traceback (most recent call last)\n",
            "Cell \u001b[1;32mIn[149], line 1\u001b[0m\n",
            "\u001b[1;32m----> 1\u001b[0m \u001b[38;5;241;43m1\u001b[39;49m\u001b[38;5;241;43m/\u001b[39;49m\u001b[38;5;241;43m0\u001b[39;49m\n",
            "\n",
            "\u001b[1;31mZeroDivisionError\u001b[0m: division by zero"
          ]
        }
      ],
      "source": [
        "1/0"
      ]
    },
    {
      "cell_type": "code",
      "execution_count": null,
      "metadata": {},
      "outputs": [
        {
          "name": "stdout",
          "output_type": "stream",
          "text": [
            "Error: Division by zero\n"
          ]
        }
      ],
      "source": [
        "try:\n",
        "    x = 10\n",
        "    y = 0\n",
        "    z = x / y\n",
        "except ZeroDivisionError:\n",
        "    print(\"Error: Division by zero\")"
      ]
    },
    {
      "cell_type": "code",
      "execution_count": null,
      "metadata": {},
      "outputs": [
        {
          "ename": "IndexError",
          "evalue": "list index out of range",
          "output_type": "error",
          "traceback": [
            "\u001b[1;31m---------------------------------------------------------------------------\u001b[0m\n",
            "\u001b[1;31mIndexError\u001b[0m                                Traceback (most recent call last)\n",
            "Cell \u001b[1;32mIn[150], line 2\u001b[0m\n",
            "\u001b[0;32m      1\u001b[0m l \u001b[38;5;241m=\u001b[39m [\u001b[38;5;241m1\u001b[39m,\u001b[38;5;241m2\u001b[39m,\u001b[38;5;241m3\u001b[39m,\u001b[38;5;241m4\u001b[39m]\n",
            "\u001b[1;32m----> 2\u001b[0m \u001b[43ml\u001b[49m\u001b[43m[\u001b[49m\u001b[38;5;241;43m10\u001b[39;49m\u001b[43m]\u001b[49m\n",
            "\n",
            "\u001b[1;31mIndexError\u001b[0m: list index out of range"
          ]
        }
      ],
      "source": [
        "l = [1,2,3,4]\n",
        "l[10]"
      ]
    },
    {
      "cell_type": "code",
      "execution_count": null,
      "metadata": {},
      "outputs": [
        {
          "ename": "NameError",
          "evalue": "name 'nl' is not defined",
          "output_type": "error",
          "traceback": [
            "\u001b[1;31m---------------------------------------------------------------------------\u001b[0m\n",
            "\u001b[1;31mNameError\u001b[0m                                 Traceback (most recent call last)\n",
            "Cell \u001b[1;32mIn[151], line 1\u001b[0m\n",
            "\u001b[1;32m----> 1\u001b[0m \u001b[43mnl\u001b[49m[\u001b[38;5;241m0\u001b[39m]\n",
            "\n",
            "\u001b[1;31mNameError\u001b[0m: name 'nl' is not defined"
          ]
        }
      ],
      "source": [
        "nl[0]"
      ]
    },
    {
      "cell_type": "code",
      "execution_count": null,
      "metadata": {},
      "outputs": [
        {
          "ename": "KeyError",
          "evalue": "'age'",
          "output_type": "error",
          "traceback": [
            "\u001b[1;31m---------------------------------------------------------------------------\u001b[0m\n",
            "\u001b[1;31mKeyError\u001b[0m                                  Traceback (most recent call last)\n",
            "Cell \u001b[1;32mIn[154], line 2\u001b[0m\n",
            "\u001b[0;32m      1\u001b[0m d \u001b[38;5;241m=\u001b[39m {\u001b[38;5;124m\"\u001b[39m\u001b[38;5;124mname\u001b[39m\u001b[38;5;124m\"\u001b[39m:\u001b[38;5;124m\"\u001b[39m\u001b[38;5;124mRahul\u001b[39m\u001b[38;5;124m\"\u001b[39m}\n",
            "\u001b[1;32m----> 2\u001b[0m \u001b[38;5;28mprint\u001b[39m(\u001b[43md\u001b[49m\u001b[43m[\u001b[49m\u001b[38;5;124;43m\"\u001b[39;49m\u001b[38;5;124;43mage\u001b[39;49m\u001b[38;5;124;43m\"\u001b[39;49m\u001b[43m]\u001b[49m)\n",
            "\n",
            "\u001b[1;31mKeyError\u001b[0m: 'age'"
          ]
        }
      ],
      "source": [
        "d = {\"name\":\"Rahul\"}\n",
        "print(d[\"age\"])"
      ]
    },
    {
      "cell_type": "code",
      "execution_count": null,
      "metadata": {},
      "outputs": [
        {
          "ename": "SyntaxError",
          "evalue": "expected ':' (234453147.py, line 1)",
          "output_type": "error",
          "traceback": [
            "\u001b[1;36m  Cell \u001b[1;32mIn[155], line 1\u001b[1;36m\u001b[0m\n",
            "\u001b[1;33m    if x == 5  # Syntax error: Missing colon\u001b[0m\n",
            "\u001b[1;37m               ^\u001b[0m\n",
            "\u001b[1;31mSyntaxError\u001b[0m\u001b[1;31m:\u001b[0m expected ':'\n"
          ]
        }
      ],
      "source": [
        "if x == 5  # Syntax error: Missing colon\n",
        "    print(\"x is 5\")"
      ]
    },
    {
      "cell_type": "code",
      "execution_count": 124,
      "metadata": {},
      "outputs": [
        {
          "name": "stdout",
          "output_type": "stream",
          "text": [
            "True\n",
            "False\n"
          ]
        }
      ],
      "source": [
        "#Checking if two words are anagrams\n",
        "from collections import Counter\n",
        "def is_anagram(str1, str2):\n",
        "     return Counter(str1) == Counter(str2)\n",
        "print(is_anagram('geek', 'eegk'))\n",
        "print(is_anagram('geek', 'peek'))"
      ]
    },
    {
      "cell_type": "code",
      "execution_count": 122,
      "metadata": {},
      "outputs": [
        {
          "data": {
            "text/plain": [
              "Counter({'e': 2, 'G': 1, 'k': 1})"
            ]
          },
          "execution_count": 122,
          "metadata": {},
          "output_type": "execute_result"
        }
      ],
      "source": [
        "Counter(\"Geek\")"
      ]
    },
    {
      "cell_type": "code",
      "execution_count": 125,
      "metadata": {},
      "outputs": [
        {
          "name": "stdout",
          "output_type": "stream",
          "text": [
            "The strings are anagrams.\n"
          ]
        }
      ],
      "source": [
        "# function to check if two strings are\n",
        "# anagram or not \n",
        "def check(s1, s2):\n",
        "     \n",
        "    # the sorted strings are checked \n",
        "    if(sorted(s1)== sorted(s2)):\n",
        "        print(\"The strings are anagrams.\") \n",
        "    else:\n",
        "        print(\"The strings aren't anagrams.\")         \n",
        "         \n",
        "# driver code  \n",
        "s1 =\"listen\"\n",
        "s2 =\"silent\"\n",
        "check(s1, s2)"
      ]
    },
    {
      "cell_type": "code",
      "execution_count": 132,
      "metadata": {},
      "outputs": [
        {
          "data": {
            "text/plain": [
              "['e', 'i', 'l', 'n', 's', 't']"
            ]
          },
          "execution_count": 132,
          "metadata": {},
          "output_type": "execute_result"
        }
      ],
      "source": [
        "l1 = sorted(\"silent\")\n",
        "l1"
      ]
    },
    {
      "cell_type": "code",
      "execution_count": 133,
      "metadata": {},
      "outputs": [
        {
          "data": {
            "text/plain": [
              "['e', 'i', 'l', 'n', 's', 't']"
            ]
          },
          "execution_count": 133,
          "metadata": {},
          "output_type": "execute_result"
        }
      ],
      "source": [
        "l2 = sorted(\"listen\")\n",
        "l2"
      ]
    },
    {
      "cell_type": "code",
      "execution_count": 137,
      "metadata": {},
      "outputs": [
        {
          "name": "stdout",
          "output_type": "stream",
          "text": [
            "listen\n",
            "silent\n",
            "listen and silent are anagrams\n"
          ]
        }
      ],
      "source": [
        "def anagrams(inp1: str, inp2: str) -> bool:\n",
        "  # if the length of the two strings is not the same, they are not anagrams.\n",
        "  print(inp1)\n",
        "  print(inp2)\n",
        "  if len(inp1) != len(inp2):\n",
        "      return False\n",
        " \n",
        "  # initialize the dictionary\n",
        "  counts = {}\n",
        " \n",
        "  # loop simultaneously through the characters of the two strings.\n",
        "  for c1, c2 in zip(inp1, inp2):\n",
        "    if c1 in counts.keys():\n",
        "      counts[c1] += 1\n",
        "    else:\n",
        "      counts[c1] = 1\n",
        "    if c2 in counts.keys():\n",
        "      counts[c2] -= 1\n",
        "    else:\n",
        "      counts[c2] = -1\n",
        " \n",
        "  # Loop through the dictionary values.\n",
        "  # if the dictionary contains even one value which is \n",
        "  # different than 0, the strings are not anagrams. \n",
        "  for count in counts.values():\n",
        "    if count != 0:\n",
        "      return False\n",
        "  return True\n",
        "  \n",
        "\n",
        "# test the implementation\n",
        "def main():\n",
        "  inp1 = \"listen\"\n",
        "  inp2 = \"silent\"\n",
        "  if anagrams(inp1, inp2):\n",
        "    print(f\"{inp1} and {inp2} are anagrams\")\n",
        "  else:\n",
        "    print(f\"{inp1} and {inp2} are not anagrams\")\n",
        " \n",
        "if __name__ == \"__main__\":\n",
        "  main()\n"
      ]
    },
    {
      "cell_type": "code",
      "execution_count": 142,
      "metadata": {},
      "outputs": [
        {
          "name": "stdout",
          "output_type": "stream",
          "text": [
            "Random number between 0 and 10 is 8\n"
          ]
        }
      ],
      "source": [
        "import random\n",
        "\n",
        "# Generates a random number between\n",
        "# a given positive range\n",
        "r1 = random.randint(0, 10)\n",
        "print(\"Random number between 0 and 10 is % s\" % (r1))"
      ]
    },
    {
      "cell_type": "markdown",
      "metadata": {},
      "source": [
        "# COLLECTIONS:\n",
        "\n",
        "1. Defaultdict\n",
        "2. OrderedDict\n",
        "3. Counter\n",
        "4. Deque\n",
        "5. Namedtuple\n",
        "6. Enum.Enum"
      ]
    },
    {
      "cell_type": "code",
      "execution_count": null,
      "metadata": {},
      "outputs": [
        {
          "name": "stdout",
          "output_type": "stream",
          "text": [
            "defaultdict(<class 'list'>, {'Yasoob': ['Yellow', 'Red'], 'Ali': ['Blue', 'Black'], 'Arham': ['Green'], 'Ahmed': ['Silver']})\n"
          ]
        }
      ],
      "source": [
        "#1Default dict\n",
        "from collections import defaultdict\n",
        "\n",
        "colours = (\n",
        "    ('Yasoob', 'Yellow'),\n",
        "    ('Ali', 'Blue'),\n",
        "    ('Arham', 'Green'),\n",
        "    ('Ali', 'Black'),\n",
        "    ('Yasoob', 'Red'),\n",
        "    ('Ahmed', 'Silver'),\n",
        ")\n",
        "favourite_colours = defaultdict(list)\n",
        "for name, colour in colours:\n",
        "    favourite_colours[name].append(colour)\n",
        "print(favourite_colours)"
      ]
    },
    {
      "cell_type": "code",
      "execution_count": null,
      "metadata": {},
      "outputs": [
        {
          "ename": "KeyError",
          "evalue": "'colours'",
          "output_type": "error",
          "traceback": [
            "\u001b[1;31m---------------------------------------------------------------------------\u001b[0m\n",
            "\u001b[1;31mKeyError\u001b[0m                                  Traceback (most recent call last)\n",
            "Cell \u001b[1;32mIn[51], line 2\u001b[0m\n",
            "\u001b[0;32m      1\u001b[0m some_dict \u001b[38;5;241m=\u001b[39m {}\n",
            "\u001b[1;32m----> 2\u001b[0m \u001b[43msome_dict\u001b[49m\u001b[43m[\u001b[49m\u001b[38;5;124;43m'\u001b[39;49m\u001b[38;5;124;43mcolours\u001b[39;49m\u001b[38;5;124;43m'\u001b[39;49m\u001b[43m]\u001b[49m[\u001b[38;5;124m'\u001b[39m\u001b[38;5;124mfavourite\u001b[39m\u001b[38;5;124m'\u001b[39m] \u001b[38;5;241m=\u001b[39m \u001b[38;5;124m\"\u001b[39m\u001b[38;5;124myellow\u001b[39m\u001b[38;5;124m\"\u001b[39m\n",
            "\n",
            "\u001b[1;31mKeyError\u001b[0m: 'colours'"
          ]
        }
      ],
      "source": [
        "some_dict = {}\n",
        "some_dict['colours']['favourite'] = \"yellow\""
      ]
    },
    {
      "cell_type": "code",
      "execution_count": null,
      "metadata": {},
      "outputs": [
        {
          "name": "stdout",
          "output_type": "stream",
          "text": [
            "defaultdict(<function <lambda> at 0x000002855BD06A20>, {'colours': defaultdict(<function <lambda> at 0x000002855BD06A20>, {'favourite': 'yellow'})})\n"
          ]
        }
      ],
      "source": [
        "import collections\n",
        "tree = lambda: collections.defaultdict(tree)\n",
        "some_dict = tree()\n",
        "some_dict['colours']['favourite'] = \"yellow\"\n",
        "print(some_dict)\n",
        "# Works fine"
      ]
    },
    {
      "cell_type": "code",
      "execution_count": null,
      "metadata": {},
      "outputs": [
        {
          "data": {
            "text/plain": [
              "'Default Value'"
            ]
          },
          "metadata": {},
          "output_type": "display_data"
        }
      ],
      "source": [
        "d=defaultdict(lambda: \"Default Value\")\n",
        "d[\"name\"]"
      ]
    },
    {
      "cell_type": "code",
      "execution_count": null,
      "metadata": {},
      "outputs": [
        {
          "name": "stdout",
          "output_type": "stream",
          "text": [
            "{\"colours\": {\"favourite\": \"yellow\"}}\n"
          ]
        }
      ],
      "source": [
        "import json\n",
        "print(json.dumps(some_dict))"
      ]
    },
    {
      "cell_type": "code",
      "execution_count": null,
      "metadata": {},
      "outputs": [
        {
          "name": "stdout",
          "output_type": "stream",
          "text": [
            "Red 198\n",
            "Green 170\n",
            "Blue 160\n"
          ]
        }
      ],
      "source": [
        "# 2 OrderedDict:\n",
        "from collections import OrderedDict\n",
        "\n",
        "colours = OrderedDict([(\"Red\", 198), (\"Green\", 170), (\"Blue\", 160)])\n",
        "for key, value in colours.items():\n",
        "    print(key, value)"
      ]
    },
    {
      "cell_type": "code",
      "execution_count": null,
      "metadata": {},
      "outputs": [
        {
          "name": "stdout",
          "output_type": "stream",
          "text": [
            "Counter({'Yasoob': 2, 'Ali': 2, 'Arham': 1, 'Ahmed': 1})\n"
          ]
        }
      ],
      "source": [
        "# 3 Counter:\n",
        "from collections import Counter\n",
        "\n",
        "colours = (\n",
        "    ('Yasoob', 'Yellow'),\n",
        "    ('Ali', 'Blue'),\n",
        "    ('Arham', 'Green'),\n",
        "    ('Ali', 'Black'),\n",
        "    ('Yasoob', 'Red'),\n",
        "    ('Ahmed', 'Silver'),\n",
        ")\n",
        "\n",
        "favs = Counter(name for name, colour in colours)\n",
        "print(favs)"
      ]
    },
    {
      "cell_type": "code",
      "execution_count": null,
      "metadata": {},
      "outputs": [
        {
          "name": "stdout",
          "output_type": "stream",
          "text": [
            "5\n"
          ]
        }
      ],
      "source": [
        "#4 DEque:\n",
        "from collections import deque\n",
        "d = deque(range(5))\n",
        "print(len(d))"
      ]
    },
    {
      "cell_type": "code",
      "execution_count": null,
      "metadata": {},
      "outputs": [
        {
          "data": {
            "text/plain": [
              "0"
            ]
          },
          "metadata": {},
          "output_type": "display_data"
        }
      ],
      "source": [
        "d.popleft()\n",
        "# Output: 0"
      ]
    },
    {
      "cell_type": "code",
      "execution_count": null,
      "metadata": {},
      "outputs": [
        {
          "data": {
            "text/plain": [
              "4"
            ]
          },
          "metadata": {},
          "output_type": "display_data"
        }
      ],
      "source": [
        "d.pop()\n",
        "# Output: 4"
      ]
    },
    {
      "cell_type": "code",
      "execution_count": null,
      "metadata": {},
      "outputs": [
        {
          "name": "stdout",
          "output_type": "stream",
          "text": [
            "deque([1, 2, 3])\n"
          ]
        }
      ],
      "source": [
        "print(d)\n",
        "# Output: deque([1, 2, 3])"
      ]
    },
    {
      "cell_type": "code",
      "execution_count": null,
      "metadata": {},
      "outputs": [
        {
          "name": "stdout",
          "output_type": "stream",
          "text": [
            "deque([0, 1, 2, 3, 4, 5, 6, 7, 8])\n"
          ]
        }
      ],
      "source": [
        "d = deque(maxlen=30)\n",
        "#Now whenever you insert values after 30, the leftmost value will be popped from the list. You can also expand the list in any direction with new values:\n",
        "\n",
        "d = deque([1,2,3,4,5])\n",
        "d.extendleft([0])\n",
        "d.extend([6,7,8])\n",
        "print(d)\n",
        "# Output: deque([0, 1, 2, 3, 4, 5, 6, 7, 8])"
      ]
    },
    {
      "cell_type": "code",
      "execution_count": null,
      "metadata": {},
      "outputs": [
        {
          "data": {
            "text/plain": [
              "[1, 2, 3, 5, 5, 55, 66]"
            ]
          },
          "metadata": {},
          "output_type": "display_data"
        }
      ],
      "source": [
        "l1=[1, 2, 3, 5, 5]\n",
        "\n",
        "l1.extend([55 ,66])\n",
        "l1"
      ]
    },
    {
      "cell_type": "code",
      "execution_count": null,
      "metadata": {},
      "outputs": [
        {
          "data": {
            "text/plain": [
              "[1, 2, 3, 5, 5, 55, 66, [33, 44]]"
            ]
          },
          "metadata": {},
          "output_type": "display_data"
        }
      ],
      "source": [
        "l1.append([33,44])\n",
        "#l1.append(33,44) # Error\n",
        "l1"
      ]
    },
    {
      "cell_type": "code",
      "execution_count": null,
      "metadata": {},
      "outputs": [
        {
          "name": "stdout",
          "output_type": "stream",
          "text": [
            "Animal(name='perry', age=31, type='cat')\n",
            "perry\n"
          ]
        }
      ],
      "source": [
        "#5 Named Tuple\n",
        "\n",
        "from collections import namedtuple\n",
        "\n",
        "Animal = namedtuple('Animal', 'name age type')\n",
        "perry = Animal(name=\"perry\", age=31, type=\"cat\")\n",
        "\n",
        "print(perry)\n",
        "# Output: Animal(name='perry', age=31, type='cat')\n",
        "\n",
        "print(perry.name)\n",
        "# Output: 'perry'"
      ]
    },
    {
      "cell_type": "code",
      "execution_count": null,
      "metadata": {},
      "outputs": [
        {
          "name": "stdout",
          "output_type": "stream",
          "text": [
            "{'name': 'Perry', 'age': 31, 'type': 'cat'}\n"
          ]
        }
      ],
      "source": [
        "#convert namedtuple to dict:\n",
        "from collections import namedtuple\n",
        "\n",
        "Animal = namedtuple('Animal', 'name age type')\n",
        "perry = Animal(name=\"Perry\", age=31, type=\"cat\")\n",
        "print(perry._asdict())"
      ]
    },
    {
      "cell_type": "code",
      "execution_count": null,
      "metadata": {},
      "outputs": [
        {
          "name": "stdout",
          "output_type": "stream",
          "text": [
            "defaultdict(<class 'set'>, {'Class-V': {1}, 'Class-VI': {2}, 'Class-VII': {2}, 'Class-VIII': {3}})\n"
          ]
        }
      ],
      "source": [
        "from collections import defaultdict\n",
        "class_list = ['Class-V', 'Class-VI', 'Class-VII', 'Class-VIII']\n",
        "id_list = [1, 2, 2, 3]\n",
        "temp = defaultdict(set)\n",
        "for c, i in zip(class_list, id_list):\n",
        "    temp[c].add(i)\n",
        "print(temp)"
      ]
    },
    {
      "cell_type": "code",
      "execution_count": null,
      "metadata": {},
      "outputs": [],
      "source": [
        "from collections import defaultdict\n",
        "s= \"mississippi\"\n",
        "d = defaultdict(int)\n",
        "for k in s:\n",
        "    d[k]+=1"
      ]
    },
    {
      "cell_type": "code",
      "execution_count": null,
      "metadata": {},
      "outputs": [
        {
          "data": {
            "text/plain": [
              "OrderedDict([('foo', 3), ('aol', 1)])"
            ]
          },
          "metadata": {},
          "output_type": "display_data"
        }
      ],
      "source": [
        "from collections import OrderedDict\n",
        "my_dictionary=OrderedDict()\n",
        "my_dictionary['foo']=3\n",
        "my_dictionary['aol']=1\n",
        "my_dictionary\n",
        "OrderedDict([('foo', 3), ('aol', 1)])"
      ]
    },
    {
      "cell_type": "code",
      "execution_count": null,
      "metadata": {},
      "outputs": [
        {
          "name": "stdout",
          "output_type": "stream",
          "text": [
            "Original List :  [10, 10, 10, 10, 20, 20, 20, 20, 40, 40, 50, 50, 30]\n",
            "Frequency of the elements in the List :  Counter({10: 4, 20: 4, 40: 2, 50: 2, 30: 1})\n"
          ]
        }
      ],
      "source": [
        "import collections\n",
        "my_list = [10,10,10,10,20,20,20,20,40,40,50,50,30]\n",
        "print(\"Original List : \",my_list)\n",
        "ctr = collections.Counter(my_list)\n",
        "print(\"Frequency of the elements in the List : \",ctr)"
      ]
    },
    {
      "cell_type": "markdown",
      "metadata": {},
      "source": [
        "# IterTools\n",
        "\n",
        "1. Count\n",
        "2. Cycle\n",
        "3. Repeat\n",
        "4. Accumulate\n",
        "5. chain\n",
        "6. dropwhile\n",
        "7. groupby\n",
        "\n"
      ]
    },
    {
      "cell_type": "code",
      "execution_count": 160,
      "metadata": {},
      "outputs": [
        {
          "name": "stdout",
          "output_type": "stream",
          "text": [
            "1\n",
            "4\n",
            "7\n",
            "10\n",
            "13\n"
          ]
        }
      ],
      "source": [
        "# count \n",
        "for i in itertools.count(1,3):\n",
        "    print(i)\n",
        "    if i > 10:\n",
        "        break"
      ]
    },
    {
      "cell_type": "code",
      "execution_count": 162,
      "metadata": {},
      "outputs": [
        {
          "name": "stdout",
          "output_type": "stream",
          "text": [
            "1 red\n",
            "2 orange\n",
            "3 yello\n",
            "4 green\n",
            "5 red\n",
            "6 orange\n",
            "7 yello\n",
            "8 green\n",
            "9 red\n",
            "10 orange\n",
            "11 yello\n"
          ]
        }
      ],
      "source": [
        "# cycle\n",
        "import itertools\n",
        "count = 0\n",
        "col = [\"red\", \"orange\", \"yello\", \"green\"]\n",
        "for i in itertools.cycle(col):\n",
        "    count +=1\n",
        "    print(count, i)\n",
        "    if count > 10:\n",
        "        break"
      ]
    },
    {
      "cell_type": "code",
      "execution_count": 163,
      "metadata": {},
      "outputs": [
        {
          "name": "stdout",
          "output_type": "stream",
          "text": [
            "spam\n",
            "spam\n",
            "spam\n",
            "spam\n",
            "spam\n"
          ]
        }
      ],
      "source": [
        "# repeat\n",
        "food = \"spam\"\n",
        "for i in itertools.repeat(food, 5):\n",
        "\tprint(i)"
      ]
    },
    {
      "cell_type": "code",
      "execution_count": null,
      "metadata": {},
      "outputs": [],
      "source": [
        "import itertools\n",
        "import operator\n",
        "n = input(\"Enter a num:\")\n",
        "data= range(1,int(n))\n",
        "result = itertools.accumulate(data, operator.add)\n",
        "for each in result:\n",
        "    print(each)"
      ]
    },
    {
      "cell_type": "code",
      "execution_count": 164,
      "metadata": {},
      "outputs": [
        {
          "name": "stdout",
          "output_type": "stream",
          "text": [
            "[2, 4, 3, 1, 5, 6, 9, 7, 9, 0]\n"
          ]
        }
      ],
      "source": [
        "#merge list:\n",
        "import itertools\n",
        "original_list = [[2,4,3],[1,5,6], [9], [7,9,0]]\n",
        "new_merged_list = list(itertools.chain(*original_list))\n",
        "print(new_merged_list)"
      ]
    },
    {
      "cell_type": "code",
      "execution_count": 165,
      "metadata": {},
      "outputs": [
        {
          "name": "stdout",
          "output_type": "stream",
          "text": [
            "{0, 33, 2, 99, 1, 3, 6, 5, 45}\n"
          ]
        }
      ],
      "source": [
        "import itertools\n",
        "data = [6,2,33,99,0]\n",
        "dat = [1,2,3,45,5]\n",
        "result = set(itertools.chain(data, dat))\n",
        "print (result)"
      ]
    },
    {
      "cell_type": "code",
      "execution_count": 166,
      "metadata": {},
      "outputs": [
        {
          "name": "stdout",
          "output_type": "stream",
          "text": [
            "5\n",
            "6\n",
            "7\n",
            "8\n",
            "1\n",
            "2\n",
            "3\n"
          ]
        }
      ],
      "source": [
        "data = [1,2,3,4,5,6,7,8,1,2,3]\n",
        "\n",
        "result = itertools.dropwhile(lambda x: x<5, data)\n",
        "for each in result:\n",
        "  print(each)"
      ]
    },
    {
      "cell_type": "code",
      "execution_count": 168,
      "metadata": {},
      "outputs": [
        {
          "name": "stdout",
          "output_type": "stream",
          "text": [
            "{1: 2, 2: 2, 3: 2, 4: 1, 5: 1, 6: 1, 7: 1, 8: 1}\n"
          ]
        }
      ],
      "source": [
        "sorted_data= sorted(data)\n",
        "keys=[]\n",
        "groups=[]\n",
        "for k,g in itertools.groupby(sorted_data):\n",
        "    keys.append(k)\n",
        "    groups.append(list(g))\n",
        "cnt=[len(i) for i in groups]\n",
        "zipped= dict(zip(keys, cnt))\n",
        "print(zipped)"
      ]
    },
    {
      "cell_type": "code",
      "execution_count": 170,
      "metadata": {},
      "outputs": [
        {
          "ename": "AttributeError",
          "evalue": "module 'itertools' has no attribute 'isslice'",
          "output_type": "error",
          "traceback": [
            "\u001b[1;31m---------------------------------------------------------------------------\u001b[0m",
            "\u001b[1;31mAttributeError\u001b[0m                            Traceback (most recent call last)",
            "Cell \u001b[1;32mIn[170], line 2\u001b[0m\n\u001b[0;32m      1\u001b[0m col \u001b[38;5;241m=\u001b[39m [\u001b[38;5;124m\"\u001b[39m\u001b[38;5;124mred\u001b[39m\u001b[38;5;124m\"\u001b[39m, \u001b[38;5;124m\"\u001b[39m\u001b[38;5;124morange\u001b[39m\u001b[38;5;124m\"\u001b[39m, \u001b[38;5;124m\"\u001b[39m\u001b[38;5;124myellow\u001b[39m\u001b[38;5;124m\"\u001b[39m, \u001b[38;5;124m\"\u001b[39m\u001b[38;5;124mgreen\u001b[39m\u001b[38;5;124m\"\u001b[39m]\n\u001b[1;32m----> 2\u001b[0m few_col \u001b[38;5;241m=\u001b[39m \u001b[43mitertools\u001b[49m\u001b[38;5;241;43m.\u001b[39;49m\u001b[43misslice\u001b[49m(col,\u001b[38;5;241m1\u001b[39m,\u001b[38;5;241m4\u001b[39m)\n\u001b[0;32m      3\u001b[0m \u001b[38;5;28;01mfor\u001b[39;00m each \u001b[38;5;129;01min\u001b[39;00m few_col:\n\u001b[0;32m      4\u001b[0m     \u001b[38;5;28mprint\u001b[39m(each)\n",
            "\u001b[1;31mAttributeError\u001b[0m: module 'itertools' has no attribute 'isslice'"
          ]
        }
      ],
      "source": [
        "col = [\"red\", \"orange\", \"yellow\", \"green\"]\n",
        "few_col = itertools.isslice(col,1,4)\n",
        "for each in few_col:\n",
        "    print(each)"
      ]
    },
    {
      "cell_type": "code",
      "execution_count": 171,
      "metadata": {},
      "outputs": [
        {
          "name": "stdout",
          "output_type": "stream",
          "text": [
            "12\n",
            "32\n",
            "21\n"
          ]
        }
      ],
      "source": [
        "data = [(2,6), (8,4), (7,3)]\n",
        "result = itertools.starmap(operator.mul, data)\n",
        "for each in result:\n",
        "    print(each)"
      ]
    },
    {
      "cell_type": "code",
      "execution_count": 172,
      "metadata": {},
      "outputs": [
        {
          "name": "stdout",
          "output_type": "stream",
          "text": [
            "[3, 4]\n"
          ]
        }
      ],
      "source": [
        "list1 = [1, 2, 3, 4]\n",
        "list2 = [1, 2]\n",
        "print(list(set(list1) - set(list2)))"
      ]
    },
    {
      "cell_type": "code",
      "execution_count": 174,
      "metadata": {},
      "outputs": [
        {
          "name": "stdout",
          "output_type": "stream",
          "text": [
            "index is: 0 position at  w\n",
            "index is: 1 position at  3\n",
            "index is: 2 position at  r\n",
            "index is: 3 position at  e\n",
            "index is: 4 position at  s\n",
            "index is: 5 position at  o\n",
            "index is: 6 position at  u\n",
            "index is: 7 position at  r\n",
            "index is: 8 position at  c\n",
            "index is: 9 position at  e\n"
          ]
        }
      ],
      "source": [
        "#ENUMERATE:\n",
        "\n",
        "str1=\"w3resource\"\n",
        "for index, char in enumerate(str1):\n",
        "    print(\"index is:\", index, \"position at \", char)"
      ]
    },
    {
      "cell_type": "code",
      "execution_count": 175,
      "metadata": {},
      "outputs": [
        {
          "name": "stdout",
          "output_type": "stream",
          "text": [
            "[(1, 'apple'), (2, 'banana'), (3, 'grapes'), (4, 'pear')]\n"
          ]
        }
      ],
      "source": [
        "my_list = ['apple', 'banana', 'grapes', 'pear']\n",
        "counter_list = list(enumerate(my_list, 1))\n",
        "print(counter_list)"
      ]
    },
    {
      "cell_type": "code",
      "execution_count": 176,
      "metadata": {},
      "outputs": [
        {
          "name": "stdout",
          "output_type": "stream",
          "text": [
            "1 apple\n",
            "2 banana\n",
            "3 grapes\n",
            "4 pear\n"
          ]
        }
      ],
      "source": [
        "my_list = ['apple', 'banana', 'grapes', 'pear']\n",
        "for c, value in enumerate(my_list, 1):\n",
        "    print(c, value)\n"
      ]
    },
    {
      "cell_type": "code",
      "execution_count": 179,
      "metadata": {},
      "outputs": [
        {
          "name": "stdout",
          "output_type": "stream",
          "text": [
            "[7, 25, 27]\n"
          ]
        }
      ],
      "source": [
        "#print list except multiple of 2\n",
        "\n",
        "num = [7,8, 120, 25, 44, 20, 27]\n",
        "num = [x for x in num if x%2!=0]\n",
        "print(num)"
      ]
    },
    {
      "cell_type": "code",
      "execution_count": 181,
      "metadata": {},
      "outputs": [
        {
          "ename": "TypeError",
          "evalue": "unbound method dict.items() needs an argument",
          "output_type": "error",
          "traceback": [
            "\u001b[1;31m---------------------------------------------------------------------------\u001b[0m",
            "\u001b[1;31mTypeError\u001b[0m                                 Traceback (most recent call last)",
            "Cell \u001b[1;32mIn[181], line 1\u001b[0m\n\u001b[1;32m----> 1\u001b[0m \u001b[38;5;28;43mdict\u001b[39;49m\u001b[38;5;241;43m.\u001b[39;49m\u001b[43mitems\u001b[49m\u001b[43m(\u001b[49m\u001b[43m)\u001b[49m \n\u001b[0;32m      3\u001b[0m \u001b[38;5;66;03m#This method returns a list of tuple pairs.\u001b[39;00m\n\u001b[0;32m      4\u001b[0m Value : [(\u001b[38;5;124m'\u001b[39m\u001b[38;5;124mAge\u001b[39m\u001b[38;5;124m'\u001b[39m, \u001b[38;5;241m7\u001b[39m), (\u001b[38;5;124m'\u001b[39m\u001b[38;5;124mName\u001b[39m\u001b[38;5;124m'\u001b[39m, \u001b[38;5;124m'\u001b[39m\u001b[38;5;124mZara\u001b[39m\u001b[38;5;124m'\u001b[39m)]\n",
            "\u001b[1;31mTypeError\u001b[0m: unbound method dict.items() needs an argument"
          ]
        }
      ],
      "source": [
        "dict.items() \n",
        "\n",
        "#This method returns a list of tuple pairs.\n",
        "Value : [('Age', 7), ('Name', 'Zara')]"
      ]
    },
    {
      "cell_type": "markdown",
      "metadata": {},
      "source": [
        "# Pytest\n",
        "\n",
        "marker\n",
        "@pytest.mark.math\n",
        "\n",
        "@pytest.mark.skip(reason=\"I dont want to run this \")\n",
        "\n",
        "pytest -xvrs testing.py \n",
        "py.test -s -v testing.py -m \"math\""
      ]
    },
    {
      "cell_type": "code",
      "execution_count": null,
      "metadata": {},
      "outputs": [],
      "source": [
        "import pytest\n",
        "@pytest.fixture\n",
        "def run_mosconfig():\n",
        "   create_publish_templates()\n",
        "   create_header_policies()\n",
        "   return mosconfig\n",
        "  \n",
        "#while calling functions:\n",
        "def test_live(mosconfig):\n",
        "    fail_mosconfig_msg=\"test_live : mosconfig failed cannot continue\"\n",
        "    assert mosconfig == True, fal_mosconfig_msg\n",
        "\n"
      ]
    },
    {
      "cell_type": "code",
      "execution_count": 185,
      "metadata": {},
      "outputs": [
        {
          "ename": "AssertionError",
          "evalue": "",
          "output_type": "error",
          "traceback": [
            "\u001b[1;31m---------------------------------------------------------------------------\u001b[0m",
            "\u001b[1;31mAssertionError\u001b[0m                            Traceback (most recent call last)",
            "Cell \u001b[1;32mIn[185], line 1\u001b[0m\n\u001b[1;32m----> 1\u001b[0m \u001b[38;5;28;01massert\u001b[39;00m (x \u001b[38;5;241m>\u001b[39m \u001b[38;5;241m10\u001b[39m)\n",
            "\u001b[1;31mAssertionError\u001b[0m: "
          ]
        }
      ],
      "source": [
        "assert (x > 10)\n"
      ]
    },
    {
      "cell_type": "markdown",
      "metadata": {},
      "source": [
        "# Thread:\n",
        "Multiple Thread shares the same address space(), global variables can be accessed by all the threads, \n",
        "heap memory can also be accessed by the threads\n",
        "\n",
        "Multiprocess has different address space, process communicates via file, shared memory, or mesage pipe, \n",
        "Threads are the light weight & Processes are heavy weigh.\n",
        "Error or memory leak in one process wont hurt to another process"
      ]
    },
    {
      "cell_type": "code",
      "execution_count": 188,
      "metadata": {},
      "outputs": [
        {
          "name": "stdout",
          "output_type": "stream",
          "text": [
            "Thread %s: StartingThread %s: Starting copy_du_helm_chart\n",
            " copy_cu_helm_chart\n",
            "Thread %s: Starting docker_cucp_image_load_tag_push\n",
            "Thread %s: FinishingThread %s: Finishing copy_cu_helm_chart\n",
            "Thread %s: Finishing copy_du_helm_chart\n",
            " docker_cucp_image_load_tag_push\n",
            "Images Pushed SUccessfully, Done!\n"
          ]
        }
      ],
      "source": [
        "import threading\n",
        "def print_sleep(func_to_call,n):\n",
        "    print(\"Thread %s: Starting\", func_to_call)\n",
        "    #robotObj = robotIntegration.robotIntegrationClass()\n",
        "    #eval(\"robotObj.{}()\".format(func_to_call))\n",
        "    time.sleep(n)\n",
        "    print(\"Thread %s: Finishing\", func_to_call)\n",
        "\n",
        "if __name__ == \"__main__\":\n",
        "\n",
        "    # creating thread\n",
        "    t1 = threading.Thread(target=print_sleep, args=(\"copy_cu_helm_chart\",2))\n",
        "    t2 = threading.Thread(target=print_sleep, args=(\"copy_du_helm_chart\",2))\n",
        "    t3 = threading.Thread(target=print_sleep, args=(\"docker_cucp_image_load_tag_push\",2))\n",
        "    t4 = threading.Thread(target=print_sleep, args=(\"docker_cuup_image_load_tag_push\",2))\n",
        "    t5 = threading.Thread(target=print_sleep, args=(\"docker_sm_image_load_tag_push\",2))\n",
        "    t6 = threading.Thread(target=print_sleep, args=(\"docker_vdu_image_load_tag_push\",2))\n",
        "    t7 = threading.Thread(target=print_sleep, args=(\"docker_ptp_image_load_tag_push\",2))\n",
        "\n",
        "    #t2 = threading.Thread(target=print_sleep, args=(5,\"*\"))\n",
        "\n",
        "    # starting thread 1print_sleep\n",
        "    t1.start()\n",
        "    # starting thread 2\n",
        "    t2.start()\n",
        "    t3.start()\n",
        "\n",
        "\n",
        "    t1.join()\n",
        "    # wait until thread 2 is completely executed\n",
        "    t2.join()\n",
        "    t3.join()\n",
        "    # t4.join()\n",
        "    # t5.join()\n",
        "    # t6.join()\n",
        "    # t7.join()\n",
        "\n",
        "    # both threads completely executed\n",
        "    print(\"Images Pushed SUccessfully, Done!\")"
      ]
    },
    {
      "cell_type": "code",
      "execution_count": null,
      "metadata": {},
      "outputs": [],
      "source": [
        "t = threading.Thread(target=deployVM,name=\"Thread #%s\" % vm_name,args=(VCENTER, ESXI, vm_type, vm_name, vm_ip, vm, pam_ova, mce_ova, mpe_ova, app_ova, log_ova, callback_when_done, sleeptime))\n"
      ]
    },
    {
      "cell_type": "code",
      "execution_count": null,
      "metadata": {},
      "outputs": [],
      "source": [
        "import threading\n",
        "import time\n",
        "\n",
        "# Define a function for the thread\n",
        "def print_time( threadName, delay):\n",
        "   count = 0\n",
        "   while count < 5:\n",
        "      time.sleep(delay)\n",
        "      count += 1\n",
        "      print(\"%s: %s\" % ( threadName, time.ctime(time.time())))\n",
        "\n",
        "# Create two threads as follows\n",
        "try:\n",
        "   thread.start_new_thread( print_time, (\"Thread-1\", 2, ) )\n",
        "   thread.start_new_thread( print_time, (\"Thread-2\", 4, ) )\n",
        "except:\n",
        "   print(\"Error: unable to start thread\")\n",
        "\n",
        "while 1:\n",
        "   pass"
      ]
    },
    {
      "cell_type": "code",
      "execution_count": null,
      "metadata": {},
      "outputs": [],
      "source": [
        "if __name__ == \"__main__\":\n",
        "    # creating thread\n",
        "    t1 = threading.Thread(target=print_square, args=(10,))\n",
        "    t2 = threading.Thread(target=print_cube, args=(10,))\n",
        "\n",
        "    # starting thread 1\n",
        "    t1.start()\n",
        "    # starting thread 2\n",
        "    t2.start()\n",
        "\n",
        "    # wait until thread 1 is completely executed\n",
        "    t1.join()\n",
        "    # wait until thread 2 is completely executed\n",
        "    t2.join()\n",
        "\n",
        "    # both threads completely executed\n",
        "    print(\"Done!\")\n",
        "\n",
        "\n",
        "\n",
        "\n",
        "\n",
        "\n",
        "    threads.append(threading.Thread(target=deployVM,\n",
        "                                    name=\"Thread #%s\"\\\n",
        "                                    % vm_name,\n",
        "                                    args=(VCENTER, ESXI, vm_type, vm_name, vm_ip, vm, pam_ova, mce_ova, mpe_ova, app_ova, log_ova, callback_when_done, sleeptime)))\n",
        "\n",
        "    [t.start() for t in threads]\n",
        "    [t.join() for t in threads]\n",
        "    nodes = mosglobals.nodes"
      ]
    },
    {
      "cell_type": "markdown",
      "metadata": {},
      "source": [
        "# DECORATOR: "
      ]
    },
    {
      "cell_type": "code",
      "execution_count": 196,
      "metadata": {},
      "outputs": [
        {
          "name": "stdout",
          "output_type": "stream",
          "text": [
            "<function calc_square at 0x000002855BEA5B20>\n",
            "<function calc_cube at 0x000002855BEA4860>\n",
            "1715615398.5740807\n",
            "calc_square took  0.0 mil sec\n",
            "1715615398.5750568\n",
            "calc_cube took  0.0 mil sec\n"
          ]
        }
      ],
      "source": [
        "import time\n",
        "import pdb\n",
        "\n",
        "def time_it(func):\n",
        "    print(func)\n",
        "    def wrapper(*args, **kwargs):\n",
        "        start = time.time()\n",
        "        print(start)\n",
        "        result = func(*args, **kwargs)\n",
        "        end = time.time()\n",
        "        print(f'{func.__name__} took  {(end-start)*1000} mil sec')\n",
        "        return result\n",
        "    return wrapper\n",
        "\n",
        "\n",
        "@time_it\n",
        "def calc_square(numbers):\n",
        "    result = []\n",
        "    for number in numbers:\n",
        "        result.append(number*number)\n",
        "    return result\n",
        "\n",
        "@time_it\n",
        "def calc_cube(numbers):\n",
        "    result = []\n",
        "    for number in numbers:\n",
        "        result.append(number * number * number)\n",
        "    return result\n",
        "\n",
        "\n",
        "\n",
        "array = range(1,10)\n",
        "out_square = (calc_square(array))\n",
        "out_cube = calc_cube(array)"
      ]
    },
    {
      "cell_type": "code",
      "execution_count": 197,
      "metadata": {},
      "outputs": [
        {
          "name": "stdout",
          "output_type": "stream",
          "text": [
            "call this func: <function caller at 0x000002855BBF25C0>\n",
            "[[1, 2], [3, 4]]\n"
          ]
        }
      ],
      "source": [
        "def decorator(func):\n",
        "    def wrapper(*args, **kwargs):\n",
        "        l = [1,2,3,4]\n",
        "        print(\"call this func:\", func)\n",
        "        result = func(l)\n",
        "        print(result)\n",
        "    return wrapper\n",
        "      \n",
        "    \n",
        "@decorator\n",
        "def caller(l, start = 0, end = 2):\n",
        "    finalList = []\n",
        "    for i in range(start, len(l), end):\n",
        "        finalList.append(l[i:i+end])\n",
        "    return(finalList)\n",
        "\n",
        "\n",
        "#calling    \n",
        "caller()\n"
      ]
    },
    {
      "cell_type": "code",
      "execution_count": 199,
      "metadata": {},
      "outputs": [
        {
          "name": "stdout",
          "output_type": "stream",
          "text": [
            "HBO\n",
            "cnn\n",
            "abc\n",
            "espn\n"
          ]
        }
      ],
      "source": [
        "#Simple way of creating Iterator is generator:\n",
        "\n",
        "#ITERATOR:\n",
        "class RemoteControl():\n",
        "    def __init__(self):\n",
        "        self.channels = [\"HBO\", \"cnn\", \"abc\", \"espn\"]\n",
        "        self.index = -1\n",
        "\n",
        "    def __iter__(self):\n",
        "        return self\n",
        "\n",
        "    def __next__(self):\n",
        "        self.index += 1\n",
        "        if self.index == len(self.channels):\n",
        "            raise StopIteration\n",
        "        return self.channels[self.index]\n",
        "\n",
        "\n",
        "r = RemoteControl()\n",
        "itr = iter(r)\n",
        "print (next(itr))\n",
        "print (next(itr))\n",
        "print (next(itr))\n",
        "print (next(itr))\n",
        "#print (next(itr))  #stop Iteration error"
      ]
    },
    {
      "cell_type": "markdown",
      "metadata": {},
      "source": [
        "# GENERATOR:\n",
        "\n",
        "Iterating over the list and the generator looks completely the same. However, although the generator is iterable, it is not a collection, \n",
        "and thus has no length. Collections (lists, tuples, sets, etc) keep all values in memory and we can access them whenever needed.\n",
        "A generator calculates the values on the fly and forgets them, so it does not have any overview about the own result set.\n",
        "\n",
        "Generators are especially useful for memory-intensive tasks, where there is no need to keep all of the elements of a memory-heavy list \n",
        "accessible at the same time. Calculating a series of values one-by-one can also be useful in situations where the complete result is never needed, \n",
        "yielding intermediate results to the caller until some requirement is satisfied and further processing stops.\n"
      ]
    },
    {
      "cell_type": "code",
      "execution_count": 200,
      "metadata": {},
      "outputs": [
        {
          "data": {
            "text/plain": [
              "'cnn'"
            ]
          },
          "execution_count": 200,
          "metadata": {},
          "output_type": "execute_result"
        }
      ],
      "source": [
        "def remote_control():\n",
        "  yield \"cnn\"\n",
        "  yield \"HBO\"\n",
        "  yield \"MGM\"\n",
        "itr = remote_control()\n",
        "next(itr)"
      ]
    },
    {
      "cell_type": "markdown",
      "metadata": {},
      "source": [
        "# YIELD:\n",
        "A good example is a search task, where typically there is no need to wait for all results to be found. \n",
        "Performing a file-system search, a user would be happier to receive results on-the-fly,\n",
        "rather the wait for a search engine to go through every single file and only afterwards return results. \n",
        "Are there any people who really navigate through all Google search results until the last page?\n",
        "\n",
        "Since a search functionality cannot be created using list-comprehensions, we are going to define a generator using a function\n",
        "with the yield statement/keyword. The yield instruction should be put into a place where the generator returns an intermediate result to the caller and\n",
        "sleeps until the next invocation occurs. Let's define a generator that would search for some keyword in a huge text file line-by-line.\n"
      ]
    },
    {
      "cell_type": "code",
      "execution_count": 201,
      "metadata": {},
      "outputs": [],
      "source": [
        "def search(keyword, filename):\n",
        "    print('generator started')\n",
        "    f = open(filename, 'r')\n",
        "    # Looping through the file line by line\n",
        "    for line in f:\n",
        "        if keyword in line:\n",
        "            # If keyword found, return it\n",
        "            yield line\n",
        "    f.close()\n",
        "\n",
        "def hold_client(name):\n",
        "    yield 'Hello, %s! You will be connected soon' % name\n",
        "    yield 'Dear %s, could you please wait a bit.' % name\n",
        "    yield 'Sorry %s, we will play a nice music for you!' % name\n",
        "    yield '%s, your call is extremely important to us!' % name"
      ]
    },
    {
      "cell_type": "code",
      "execution_count": 203,
      "metadata": {},
      "outputs": [
        {
          "name": "stdout",
          "output_type": "stream",
          "text": [
            "0 1 1 2 3 5 8 13 21 34 55 89 144 233 377 610 987 "
          ]
        }
      ],
      "source": [
        "def fib(n):\n",
        "     a, b = 0, 1\n",
        "     while a < n:\n",
        "         print(a, end=' ')\n",
        "         a, b = b, a+b\n",
        "     #print()\n",
        "fib(1000)"
      ]
    },
    {
      "cell_type": "code",
      "execution_count": 204,
      "metadata": {},
      "outputs": [
        {
          "name": "stdout",
          "output_type": "stream",
          "text": [
            "0\n",
            "1\n",
            "1\n",
            "2\n",
            "3\n",
            "5\n",
            "8\n",
            "13\n",
            "21\n",
            "34\n",
            "55\n",
            "89\n"
          ]
        }
      ],
      "source": [
        "def fib():\n",
        "    a, b = 0, 1\n",
        "    while True:\n",
        "        yield a\n",
        "        a, b = b, a+b\n",
        "\n",
        "for f in fib():\n",
        "    if f > 100:\n",
        "        break\n",
        "    print(f)"
      ]
    },
    {
      "cell_type": "code",
      "execution_count": 205,
      "metadata": {},
      "outputs": [],
      "source": [
        "def fibonacci(n):\n",
        "    curr = 1\n",
        "    prev = 0\n",
        "    counter = 0\n",
        "    while counter < n:\n",
        "        yield curr\n",
        "        prev, curr = curr, prev + curr\n",
        "        counter += 1\n"
      ]
    },
    {
      "cell_type": "code",
      "execution_count": 206,
      "metadata": {},
      "outputs": [
        {
          "name": "stdout",
          "output_type": "stream",
          "text": [
            "Fibonacci sequence upto 10 :\n",
            "0\n",
            "1\n",
            "1\n",
            "2\n",
            "3\n",
            "5\n",
            "8\n",
            "13\n",
            "21\n",
            "34\n"
          ]
        }
      ],
      "source": [
        "nterms = int(input(\"How many terms ?\"))\n",
        "\n",
        "n1 = 0\n",
        "n2 = 1\n",
        "count = 0\n",
        "if nterms <= 0:\n",
        "    print(\"please enter a positive integer\")\n",
        "elif nterms == 1:\n",
        "    print(\"Fibonacci sequence upto\", nterms, \":\")\n",
        "    print(n1)\n",
        "else:\n",
        "    print(\"Fibonacci sequence upto\",nterms,\":\")\n",
        "    while count < nterms:\n",
        "        print(n1 )\n",
        "        nth = n1 +n2\n",
        "        n1= n2\n",
        "        n2 = nth\n",
        "        count +=1"
      ]
    },
    {
      "cell_type": "markdown",
      "metadata": {},
      "source": [
        "# Return:\n",
        "The return statement is where all the local variables are destroyed and the resulting value is given back (returned) to the caller. \n",
        "Should the same function be called some time later, the function will get a fresh new set of variables."
      ]
    },
    {
      "cell_type": "markdown",
      "metadata": {},
      "source": [
        "# Yield\n",
        "But what if the local variables aren't thrown away when we exit a function? This implies that we can  resume the function where we left off.\n",
        "This is where the concept of generators are introduced and the yield statement resumes where the function left off.\n",
        "\n",
        "  "
      ]
    },
    {
      "cell_type": "code",
      "execution_count": 210,
      "metadata": {},
      "outputs": [
        {
          "data": {
            "text/plain": [
              "<generator object generate_integers at 0x000002855C998380>"
            ]
          },
          "execution_count": 210,
          "metadata": {},
          "output_type": "execute_result"
        }
      ],
      "source": [
        "def generate_integers(N):\n",
        "    for i in xrange(N):\n",
        "        yield i \n",
        "gen = generate_integers(3)\n",
        "gen\n"
      ]
    },
    {
      "cell_type": "markdown",
      "metadata": {},
      "source": [
        "In [2]: gen\n",
        "<generator object at 0x8117f90>\n",
        "In [3]: gen.next()\n",
        "0\n",
        "In [4]: gen.next()\n",
        "1\n",
        "In [5]: gen.next()\n",
        "So that's the difference between return and yield statements in Python.\n",
        "\n",
        "Simple way of creating Iterator is generator:\n",
        "\n",
        "Yield statement is what makes a function a generator function.\n",
        "So Generators are a simple and powerful tool for creating iterators. \n",
        "They are written like regular functions but use the yield statement whenever they want to return data. Each time next() is called,\n",
        "the generator resumes where it left-off (it remembers all the data values and which statement was last executed)"
      ]
    },
    {
      "cell_type": "markdown",
      "metadata": {},
      "source": [
        "# Args & Kwargs:"
      ]
    },
    {
      "cell_type": "code",
      "execution_count": 214,
      "metadata": {},
      "outputs": [
        {
          "name": "stdout",
          "output_type": "stream",
          "text": [
            "first normal arg: yasoob\n",
            "another arg through *argv: python\n",
            "another arg through *argv: eggs\n",
            "another arg through *argv: test\n"
          ]
        }
      ],
      "source": [
        "def test_var_args(f_arg, *argv):\n",
        "    print(\"first normal arg:\", f_arg)\n",
        "    for arg in argv:\n",
        "        print(\"another arg through *argv:\", arg)\n",
        "\n",
        "test_var_args('yasoob', 'python', 'eggs', 'test')"
      ]
    },
    {
      "cell_type": "markdown",
      "metadata": {},
      "source": [
        "**kwargs allows you to pass keyworded variable length of arguments to a function. You should use **kwargs if you want to handle \n",
        "named arguments in a function. Here is an example to get you going with it:\n",
        "\n"
      ]
    },
    {
      "cell_type": "code",
      "execution_count": 215,
      "metadata": {},
      "outputs": [
        {
          "name": "stdout",
          "output_type": "stream",
          "text": [
            "name = yasoob\n"
          ]
        }
      ],
      "source": [
        "def greet_me(**kwargs):\n",
        "    for key, value in kwargs.items():\n",
        "        print(\"{0} = {1}\".format(key, value))\n",
        "\n",
        "greet_me(name=\"yasoob\")\n"
      ]
    },
    {
      "cell_type": "code",
      "execution_count": 216,
      "metadata": {},
      "outputs": [
        {
          "name": "stdout",
          "output_type": "stream",
          "text": [
            "arg1: two\n",
            "arg2: 3\n",
            "arg3: 5\n"
          ]
        }
      ],
      "source": [
        "def test_args_kwargs(arg1, arg2, arg3):\n",
        "    print(\"arg1:\", arg1)\n",
        "    print(\"arg2:\", arg2)\n",
        "    print(\"arg3:\", arg3)\n",
        "#Now you can use *args or **kwargs to pass arguments to this little function. Here’s how to do it:\n",
        "# first with *args\n",
        "args = (\"two\", 3, 5)\n",
        "\n",
        "test_args_kwargs(*args)\n"
      ]
    },
    {
      "cell_type": "code",
      "execution_count": 217,
      "metadata": {},
      "outputs": [
        {
          "name": "stdout",
          "output_type": "stream",
          "text": [
            "arg1: 5\n",
            "arg2: two\n",
            "arg3: 3\n"
          ]
        }
      ],
      "source": [
        "# now with **kwargs:\n",
        "kwargs = {\"arg3\": 3, \"arg2\": \"two\", \"arg1\": 5}\n",
        "test_args_kwargs(**kwargs)\n"
      ]
    },
    {
      "cell_type": "code",
      "execution_count": 218,
      "metadata": {},
      "outputs": [],
      "source": [
        "l = [1,2,3]\n",
        "d = {'a':5, \"b\":8}\n",
        "def f (*args, **kwargs):\n",
        "    print(args, kwargs)"
      ]
    },
    {
      "cell_type": "code",
      "execution_count": 219,
      "metadata": {},
      "outputs": [
        {
          "name": "stdout",
          "output_type": "stream",
          "text": [
            "(1, 2, 3) {'a': 5, 'b': 8}\n"
          ]
        }
      ],
      "source": [
        "f(*l, **d)"
      ]
    },
    {
      "cell_type": "code",
      "execution_count": 220,
      "metadata": {},
      "outputs": [],
      "source": [
        "l=[1,2,3]\n",
        "t=(4,5,6)\n",
        "d={'a':7,'b':8,'c':9}\n",
        "def f(*args,**kwargs):\n",
        "    print (args,kwargs)"
      ]
    },
    {
      "cell_type": "code",
      "execution_count": 221,
      "metadata": {},
      "outputs": [
        {
          "name": "stdout",
          "output_type": "stream",
          "text": [
            "first\n",
            "() {}\n"
          ]
        }
      ],
      "source": [
        "print (\"first\")\n",
        "f()"
      ]
    },
    {
      "cell_type": "code",
      "execution_count": 222,
      "metadata": {},
      "outputs": [
        {
          "name": "stdout",
          "output_type": "stream",
          "text": [
            "second\n",
            "([1, 2, 3],) {}\n",
            "third\n",
            "(1, 2, 3, 'groovy') {}\n",
            "four\n",
            "() {'a': 1, 'b': 2, 'c': 3}\n",
            "five\n",
            "() {'a': 1, 'b': 2, 'c': 3, 'zzz': 'hi'}\n",
            "six\n",
            "(1, 2, 3) {'a': 1, 'b': 2, 'c': 3}\n",
            "seven\n",
            "(1, 2, 3) {'a': 7, 'b': 8, 'c': 9}\n",
            "eight\n",
            "(4, 5, 6) {'a': 7, 'b': 8, 'c': 9}\n",
            "nine\n",
            "(1, 2, 4, 5, 6) {}\n",
            "ten\n",
            "() {'q': 'winning', 'a': 7, 'b': 8, 'c': 9}\n",
            "eleven\n",
            "(1, 2, 4, 5, 6) {'q': 'winning'}\n",
            "twelve\n",
            "(4, 5, 6, 1, 2) {'q': 'winning'}\n",
            "thirteen\n"
          ]
        }
      ],
      "source": [
        "print (\"second\")\n",
        "f([1,2,3])\n",
        "print (\"third\")\n",
        "f(1,2,3,\"groovy\")\n",
        "print (\"four\")\n",
        "f(a=1,b=2,c=3)\n",
        "print (\"five\")\n",
        "f(a=1,b=2,c=3,zzz=\"hi\")\n",
        "print (\"six\")\n",
        "f(1,2,3,a=1,b=2,c=3)\n",
        "print (\"seven\")\n",
        "f(*l,**d)\n",
        "print (\"eight\")\n",
        "f(*t,**d)\n",
        "print (\"nine\")\n",
        "f(1,2,*t)\n",
        "print (\"ten\")\n",
        "f(q=\"winning\",**d)\n",
        "print (\"eleven\")\n",
        "f(1,2,*t,q=\"winning\")\n",
        "print (\"twelve\")\n",
        "f(*t,1,2,q=\"winning\")\n",
        "print (\"thirteen\")\n",
        "#f(**l)"
      ]
    },
    {
      "cell_type": "code",
      "execution_count": 223,
      "metadata": {},
      "outputs": [
        {
          "name": "stdout",
          "output_type": "stream",
          "text": [
            "Original dictionary :  {1: 2, 3: 4, 4: 3, 2: 1, 0: 0}\n",
            "Dictionary in ascending order by value :  [(0, 0), (1, 2), (2, 1), (3, 4), (4, 3)]\n",
            "Dictionary in descending order by value :  [(4, 3), (3, 4), (2, 1), (1, 2), (0, 0)]\n"
          ]
        }
      ],
      "source": [
        "import operator\n",
        "d = {1: 2, 3: 4, 4: 3, 2: 1, 0: 0}\n",
        "print('Original dictionary : ',d)\n",
        "sorted_d = sorted(d.items(), key=operator.itemgetter(0))\n",
        "print('Dictionary in ascending order by value : ',sorted_d)\n",
        "sorted_d = sorted(d.items(), key=operator.itemgetter(0),reverse=True)\n",
        "print('Dictionary in descending order by value : ',sorted_d)"
      ]
    },
    {
      "cell_type": "code",
      "execution_count": null,
      "metadata": {},
      "outputs": [],
      "source": [
        "#Create dict using class:\n",
        "class dictObj(object):\n",
        "     def __init__(self):\n",
        "         self.x = 'red'\n",
        "         self.y = 'Yellow'\n",
        "         self.z = 'Green'\n",
        "     def do_nothing(self):\n",
        "         pass\n",
        "test = dictObj()\n",
        "print(test.__dict__)"
      ]
    },
    {
      "cell_type": "code",
      "execution_count": 225,
      "metadata": {},
      "outputs": [
        {
          "name": "stdout",
          "output_type": "stream",
          "text": [
            "Counter({'a': 400, 'b': 400, 'd': 400, 'c': 300})\n"
          ]
        }
      ],
      "source": [
        "#Add values:\n",
        "from collections import Counter\n",
        "d1 = {'a': 100, 'b': 200, 'c':300}\n",
        "d2 = {'a': 300, 'b': 200, 'd':400}\n",
        "d = Counter(d1) + Counter(d2)\n",
        "print(d)"
      ]
    },
    {
      "cell_type": "code",
      "execution_count": 227,
      "metadata": {},
      "outputs": [
        {
          "name": "stdout",
          "output_type": "stream",
          "text": [
            "{1: {2: {3: {4: {}}}}}\n"
          ]
        }
      ],
      "source": [
        "#List to dict:\n",
        "\n",
        "num_list = [1, 2, 3, 4]\n",
        "new_dict = current = {}\n",
        "for name in num_list:\n",
        "    current[name] = {}\n",
        "    current = current[name]\n",
        "print(new_dict)\n"
      ]
    },
    {
      "cell_type": "code",
      "execution_count": 229,
      "metadata": {},
      "outputs": [
        {
          "data": {
            "text/plain": [
              "['b', 'e', 'c']"
            ]
          },
          "execution_count": 229,
          "metadata": {},
          "output_type": "execute_result"
        }
      ],
      "source": [
        "#3 largest:\n",
        "from heapq import nlargest\n",
        "my_dict = {'a':500, 'b':5874, 'c': 560,'d':400, 'e':5874, 'f': 20}  \n",
        "three_largest = nlargest(3, my_dict, key=my_dict.get)\n",
        "three_largest"
      ]
    },
    {
      "cell_type": "code",
      "execution_count": 230,
      "metadata": {},
      "outputs": [
        {
          "name": "stdout",
          "output_type": "stream",
          "text": [
            "item4 55\n",
            "item1 45.5\n",
            "item3 41.3\n"
          ]
        }
      ],
      "source": [
        "#largest elemesnt in dict:\n",
        "from heapq import nlargest\n",
        "from operator import itemgetter\n",
        "items = {'item1': 45.50, 'item2':35, 'item3': 41.30, 'item4':55, 'item5': 24}\n",
        "for name, value in nlargest(3, items.items(), key=itemgetter(1)):\n",
        "    print(name, value)"
      ]
    },
    {
      "cell_type": "code",
      "execution_count": 231,
      "metadata": {},
      "outputs": [
        {
          "name": "stdout",
          "output_type": "stream",
          "text": [
            "True\n"
          ]
        }
      ],
      "source": [
        "#key existence:\n",
        "student = {\n",
        "  'name': 'Alex',\n",
        "  'class': 'V',\n",
        "  'roll_id': '2'\n",
        "}\n",
        "print(student.keys() >= {'class', 'name'})"
      ]
    },
    {
      "cell_type": "code",
      "execution_count": 232,
      "metadata": {},
      "outputs": [
        {
          "name": "stdout",
          "output_type": "stream",
          "text": [
            "Counter({'item1': 1150, 'item2': 300})\n"
          ]
        }
      ],
      "source": [
        "#combine python list of dictionaries:\n",
        "\n",
        "from collections import Counter\n",
        "item_list = [{'item': 'item1', 'amount': 400}, {'item': 'item2', 'amount': 300}, {'item': 'item1', 'amount': 750}]\n",
        "result = Counter()\n",
        "for d in item_list:\n",
        "    result[d['item']] += d['amount']\n",
        "print(result) \n",
        "#Counter({'item1': 1150, 'item2': 300})"
      ]
    },
    {
      "cell_type": "code",
      "execution_count": 233,
      "metadata": {},
      "outputs": [
        {
          "data": {
            "text/plain": [
              "{'n1': [1, 2, 3], 'n2': [1, 2, 5], 'n3': [2, 3, 4]}"
            ]
          },
          "execution_count": 233,
          "metadata": {},
          "output_type": "execute_result"
        }
      ],
      "source": [
        "#Sort list alphabetically in dictionary:\n",
        "num = {'n1': [2, 3, 1], 'n2': [5, 1, 2], 'n3': [3, 2, 4]}\n",
        "sorte= {x: sorted(y) for x, y in num.items()}\n",
        "sorte"
      ]
    },
    {
      "cell_type": "code",
      "execution_count": 234,
      "metadata": {},
      "outputs": [
        {
          "name": "stdout",
          "output_type": "stream",
          "text": [
            "5\n"
          ]
        }
      ],
      "source": [
        "dict =  {'Alex': ['subj1', 'subj2', 'subj3'], 'David': ['subj1', 'subj2']}\n",
        "ctr = sum(map(len, dict.values()))\n",
        "print(ctr)"
      ]
    },
    {
      "cell_type": "code",
      "execution_count": 236,
      "metadata": {},
      "outputs": [
        {
          "data": {
            "text/plain": [
              "'y'"
            ]
          },
          "execution_count": 236,
          "metadata": {},
          "output_type": "execute_result"
        }
      ],
      "source": [
        "#dict to tupple\n",
        "n = {'x':500, 'y':5874, 'z': 560}\n",
        "km= max(n.keys(), key=(lambda k: n[k]))\n",
        "km"
      ]
    },
    {
      "cell_type": "code",
      "execution_count": 237,
      "metadata": {},
      "outputs": [
        {
          "name": "stdout",
          "output_type": "stream",
          "text": [
            "{'x': [1]}\n",
            "{'x': [1, 2]}\n",
            "{'x': [1, 2, 3]}\n",
            "{'x': [1, 2, 3], 'y': [1]}\n",
            "{'x': [1, 2, 3], 'y': [1, 2]}\n",
            "{'x': [1, 2, 3], 'y': [1, 2], 'z': [1]}\n"
          ]
        }
      ],
      "source": [
        "#TUPPLE:\n",
        "#tuple to dict\n",
        "l = [(\"x\", 1), (\"x\", 2), (\"x\", 3), (\"y\", 1), (\"y\", 2), (\"z\", 1)]\n",
        "d = {}\n",
        "for a, b in l:\n",
        "   d.setdefault(a, []).append(b)\n",
        "   print (d)"
      ]
    },
    {
      "cell_type": "code",
      "execution_count": 240,
      "metadata": {},
      "outputs": [
        {
          "name": "stdout",
          "output_type": "stream",
          "text": [
            "{'x': [1, 2, 3], 'y': [1, 2], 'z': [1], 'n': ['1', '2', '3', '1', '2', '3']}\n"
          ]
        }
      ],
      "source": [
        "for a , b in sorte:\n",
        "    d.setdefault(a, []).append(b)\n",
        "print(d)\n",
        "#{0: [0], 1: [2], 2: [1], 3: [4], 4: [3]}\n",
        "\n",
        "for a, b in sorte:\n",
        "    d[a]=b"
      ]
    },
    {
      "cell_type": "code",
      "execution_count": 241,
      "metadata": {},
      "outputs": [
        {
          "name": "stdout",
          "output_type": "stream",
          "text": [
            "{1: 2, 3: 4, 4: 3, 2: 1, 0: 0}\n"
          ]
        },
        {
          "data": {
            "text/plain": [
              "[(0, 0), (1, 2), (2, 1), (3, 4), (4, 3)]"
            ]
          },
          "execution_count": 241,
          "metadata": {},
          "output_type": "execute_result"
        }
      ],
      "source": [
        "#dict to tuple:\n",
        "d = {1: 2, 3: 4, 4: 3, 2: 1, 0: 0}\n",
        "print(d)\n",
        "sorted = sorted(d.items(), key= operator.itemgetter(0))\n",
        "sorted"
      ]
    },
    {
      "cell_type": "code",
      "execution_count": 242,
      "metadata": {},
      "outputs": [
        {
          "name": "stdout",
          "output_type": "stream",
          "text": [
            "[(10, 20, 100), (40, 50, 100), (70, 80, 100)]\n"
          ]
        }
      ],
      "source": [
        "#replace last value of tupple:\n",
        "l = [(10, 20, 40), (40, 50, 60), (70, 80, 90)]\n",
        "print([t[:-1] + (100,) for t in l])\n"
      ]
    },
    {
      "cell_type": "code",
      "execution_count": 243,
      "metadata": {},
      "outputs": [
        {
          "ename": "TypeError",
          "evalue": "'list' object is not callable",
          "output_type": "error",
          "traceback": [
            "\u001b[1;31m---------------------------------------------------------------------------\u001b[0m",
            "\u001b[1;31mTypeError\u001b[0m                                 Traceback (most recent call last)",
            "Cell \u001b[1;32mIn[243], line 3\u001b[0m\n\u001b[0;32m      1\u001b[0m \u001b[38;5;66;03m#sort tupple:\u001b[39;00m\n\u001b[0;32m      2\u001b[0m price \u001b[38;5;241m=\u001b[39m [(\u001b[38;5;124m'\u001b[39m\u001b[38;5;124mitem1\u001b[39m\u001b[38;5;124m'\u001b[39m, \u001b[38;5;124m'\u001b[39m\u001b[38;5;124m12.20\u001b[39m\u001b[38;5;124m'\u001b[39m), (\u001b[38;5;124m'\u001b[39m\u001b[38;5;124mitem2\u001b[39m\u001b[38;5;124m'\u001b[39m, \u001b[38;5;124m'\u001b[39m\u001b[38;5;124m15.10\u001b[39m\u001b[38;5;124m'\u001b[39m), (\u001b[38;5;124m'\u001b[39m\u001b[38;5;124mitem3\u001b[39m\u001b[38;5;124m'\u001b[39m, \u001b[38;5;124m'\u001b[39m\u001b[38;5;124m24.5\u001b[39m\u001b[38;5;124m'\u001b[39m)]\n\u001b[1;32m----> 3\u001b[0m \u001b[38;5;28mprint\u001b[39m( \u001b[38;5;28;43msorted\u001b[39;49m\u001b[43m(\u001b[49m\u001b[43mprice\u001b[49m\u001b[43m,\u001b[49m\u001b[43m \u001b[49m\u001b[43mkey\u001b[49m\u001b[38;5;241;43m=\u001b[39;49m\u001b[38;5;28;43;01mlambda\u001b[39;49;00m\u001b[43m \u001b[49m\u001b[43mx\u001b[49m\u001b[43m:\u001b[49m\u001b[43m \u001b[49m\u001b[38;5;28;43mfloat\u001b[39;49m\u001b[43m(\u001b[49m\u001b[43mx\u001b[49m\u001b[43m[\u001b[49m\u001b[38;5;241;43m1\u001b[39;49m\u001b[43m]\u001b[49m\u001b[43m)\u001b[49m\u001b[43m,\u001b[49m\u001b[43m \u001b[49m\u001b[43mreverse\u001b[49m\u001b[38;5;241;43m=\u001b[39;49m\u001b[38;5;28;43;01mTrue\u001b[39;49;00m\u001b[43m)\u001b[49m)\n",
            "\u001b[1;31mTypeError\u001b[0m: 'list' object is not callable"
          ]
        }
      ],
      "source": [
        "#sort tupple:\n",
        "price = [('item1', '12.20'), ('item2', '15.10'), ('item3', '24.5')]\n",
        "print( sorted(price, key=lambda x: float(x[1]), reverse=True))"
      ]
    },
    {
      "cell_type": "code",
      "execution_count": 244,
      "metadata": {},
      "outputs": [
        {
          "ename": "TypeError",
          "evalue": "can only concatenate tuple (not \"str\") to tuple",
          "output_type": "error",
          "traceback": [
            "\u001b[1;31m---------------------------------------------------------------------------\u001b[0m",
            "\u001b[1;31mTypeError\u001b[0m                                 Traceback (most recent call last)",
            "Cell \u001b[1;32mIn[244], line 2\u001b[0m\n\u001b[0;32m      1\u001b[0m julia \u001b[38;5;241m=\u001b[39m (\u001b[38;5;124m\"\u001b[39m\u001b[38;5;124mJulia\u001b[39m\u001b[38;5;124m\"\u001b[39m, \u001b[38;5;124m\"\u001b[39m\u001b[38;5;124mRoberts\u001b[39m\u001b[38;5;124m\"\u001b[39m, \u001b[38;5;241m1967\u001b[39m, \u001b[38;5;124m\"\u001b[39m\u001b[38;5;124mDuplicity\u001b[39m\u001b[38;5;124m\"\u001b[39m, \u001b[38;5;241m2009\u001b[39m, \u001b[38;5;124m\"\u001b[39m\u001b[38;5;124mActress\u001b[39m\u001b[38;5;124m\"\u001b[39m, \u001b[38;5;124m\"\u001b[39m\u001b[38;5;124mAtlanta, Georgia\u001b[39m\u001b[38;5;124m\"\u001b[39m)\n\u001b[1;32m----> 2\u001b[0m julia \u001b[38;5;241m=\u001b[39m \u001b[43mjulia\u001b[49m\u001b[43m[\u001b[49m\u001b[43m:\u001b[49m\u001b[38;5;241;43m3\u001b[39;49m\u001b[43m]\u001b[49m\u001b[43m \u001b[49m\u001b[38;5;241;43m+\u001b[39;49m\u001b[43m \u001b[49m\u001b[43m(\u001b[49m\u001b[38;5;124;43m\"\u001b[39;49m\u001b[38;5;124;43mEat sleep rave repeat\u001b[39;49m\u001b[38;5;124;43m\"\u001b[39;49m\u001b[43m)\u001b[49m \u001b[38;5;241m+\u001b[39m julia[\u001b[38;5;241m5\u001b[39m:]\n",
            "\u001b[1;31mTypeError\u001b[0m: can only concatenate tuple (not \"str\") to tuple"
          ]
        }
      ],
      "source": [
        "julia = (\"Julia\", \"Roberts\", 1967, \"Duplicity\", 2009, \"Actress\", \"Atlanta, Georgia\")\n",
        "julia = julia[:3] + (\"Eat sleep rave repeat\") + julia[5:]"
      ]
    },
    {
      "cell_type": "code",
      "execution_count": 246,
      "metadata": {},
      "outputs": [
        {
          "data": {
            "text/plain": [
              "('Julia', 'Roberts', 1967, 'Eat sleep', 2010, 'Actress', 'Atlanta, Georgia')"
            ]
          },
          "execution_count": 246,
          "metadata": {},
          "output_type": "execute_result"
        }
      ],
      "source": [
        "julia = julia[:3] + (\"Eat sleep\",2010) + julia[5:]\n",
        "julia"
      ]
    },
    {
      "cell_type": "markdown",
      "metadata": {},
      "source": [
        "# String"
      ]
    },
    {
      "cell_type": "code",
      "execution_count": 247,
      "metadata": {},
      "outputs": [
        {
          "name": "stdout",
          "output_type": "stream",
          "text": [
            "> Python is a widely used high-level, general-purpose, interpreted, dynamic programming\n",
            ">language. Its design philosophy emphasizes code readability, and its syntax allows\n",
            ">programmers to express concepts in fewer lines of code than possible in languages such as\n",
            ">C++ or Java.\n"
          ]
        }
      ],
      "source": [
        "import textwrap\n",
        "sample_text = '''\n",
        "    Python is a widely used high-level, general-purpose, interpreted,\n",
        "    dynamic programming language. Its design philosophy emphasizes\n",
        "    code readability, and its syntax allows programmers to express\n",
        "    concepts in fewer lines of code than possible in languages such\n",
        "    as C++ or Java.\n",
        "    '''\n",
        "\n",
        "wt= textwrap.dedent(sample_text)\n",
        "wrap=textwrap.fill(wt, width=90)\n",
        "final=textwrap.indent(wrap, \">\")\n",
        "print(final)"
      ]
    },
    {
      "cell_type": "code",
      "execution_count": 248,
      "metadata": {},
      "outputs": [],
      "source": [
        "#Str Freq:\n",
        "\n",
        "def char_frequency(str1):\n",
        "    dict = {}\n",
        "    for n in str1:\n",
        "        keys = dict.keys()\n",
        "        if n in keys:\n",
        "            dict[n] += 1\n",
        "        else:\n",
        "            dict[n] = 1\n",
        "    return dict"
      ]
    },
    {
      "cell_type": "code",
      "execution_count": 249,
      "metadata": {},
      "outputs": [
        {
          "data": {
            "text/plain": [
              "{'m': 1, 'i': 4, 's': 4, 'p': 2}"
            ]
          },
          "execution_count": 249,
          "metadata": {},
          "output_type": "execute_result"
        }
      ],
      "source": [
        "char_frequency(\"mississippi\")"
      ]
    },
    {
      "cell_type": "code",
      "execution_count": 250,
      "metadata": {},
      "outputs": [
        {
          "name": "stdout",
          "output_type": "stream",
          "text": [
            "[4, 5, 6, 7, 8]\n"
          ]
        }
      ],
      "source": [
        "#Remove duplicates from the list:\n",
        "import collections\n",
        "duplicate = [0,0,0,1,1,2,2,3,3,4,5,6,7,8]\n",
        "uniq = []\n",
        "ctr = collections.Counter(duplicate)\n",
        "for i in ctr:\n",
        "    if ctr[i]==1:\n",
        "        uniq.append(i)\n",
        "print(uniq)\t\n"
      ]
    },
    {
      "cell_type": "code",
      "execution_count": 251,
      "metadata": {},
      "outputs": [
        {
          "name": "stdout",
          "output_type": "stream",
          "text": [
            "Initial list:  [1, 1, 2, 3, 4, 4, 5, 5, 5]\n",
            "non repeatable number in the list  2\n",
            "non repeatable number in the list  3\n"
          ]
        }
      ],
      "source": [
        "a=[1,1,2,3,4,4,5,5,5]\n",
        "j=0\n",
        "print(\"Initial list: \", a)\n",
        "for i in range(len(a)):\n",
        "    k=0\n",
        "    for j in range(len(a)):\n",
        "        if(a[i]==a[j] and i != j):\n",
        "            k=1\n",
        "            break\n",
        "    if not k:\n",
        "        print(\"non repeatable number in the list \", a[i])"
      ]
    },
    {
      "cell_type": "code",
      "execution_count": 252,
      "metadata": {},
      "outputs": [],
      "source": [
        "def chars_mix_up(a, b):\n",
        "  new_a = b[:2] + a[2:]\n",
        "  new_b = a[:2] + b[2:]"
      ]
    },
    {
      "cell_type": "code",
      "execution_count": 253,
      "metadata": {},
      "outputs": [
        {
          "name": "stdout",
          "output_type": "stream",
          "text": [
            "adding\n",
            "addingly\n"
          ]
        }
      ],
      "source": [
        "\n",
        "def add_str(str1):\n",
        "    length= len(str1)\n",
        "    if length > 2:\n",
        "        if str1[-3:]==\"ing\":\n",
        "            str1 += \"ly\"\n",
        "        else:\n",
        "            str1 += \"ing\"\n",
        "    return str1\n",
        "\n",
        "\n",
        "print(add_str(\"add\"))\n",
        "print(add_str(\"adding\"))"
      ]
    },
    {
      "cell_type": "code",
      "execution_count": 254,
      "metadata": {},
      "outputs": [
        {
          "name": "stdout",
          "output_type": "stream",
          "text": [
            "The lyrics is good\n"
          ]
        }
      ],
      "source": [
        "def add_str(str1):\n",
        "    snot = str1.find('not')\n",
        "    sbad = str1.find('poor')\n",
        "\n",
        "    if sbad > snot:\n",
        "        str1 = str1.replace(str1[snot:(sbad + 4)], 'good')\n",
        "\n",
        "    return str1\n",
        "\n",
        "print(add_str(\"The lyrics is not that poor\"))"
      ]
    },
    {
      "cell_type": "code",
      "execution_count": 257,
      "metadata": {},
      "outputs": [
        {
          "name": "stdout",
          "output_type": "stream",
          "text": [
            "0\n"
          ]
        }
      ],
      "source": [
        "# Random:\n",
        "print(random.choice([i for i in range(11) if i%2==0]))"
      ]
    },
    {
      "cell_type": "code",
      "execution_count": 258,
      "metadata": {},
      "outputs": [
        {
          "name": "stdout",
          "output_type": "stream",
          "text": [
            "[83, 78, 72, 41, 60]\n"
          ]
        }
      ],
      "source": [
        "print (random.sample(range(100),5))"
      ]
    },
    {
      "cell_type": "code",
      "execution_count": 259,
      "metadata": {},
      "outputs": [
        {
          "name": "stdout",
          "output_type": "stream",
          "text": [
            "[735, 35, 945, 490, 245]\n"
          ]
        }
      ],
      "source": [
        "print (random.sample([i for i in range(1,1001) if i%5==0 and i%7==0],5))"
      ]
    },
    {
      "cell_type": "code",
      "execution_count": 261,
      "metadata": {},
      "outputs": [
        {
          "name": "stdout",
          "output_type": "stream",
          "text": [
            "False\n",
            "frozenset({1, 2})\n",
            "frozenset({1, 2, 3, 4, 5, 6, 7})\n"
          ]
        }
      ],
      "source": [
        "x = frozenset([1, 2, 3, 4, 5])\n",
        "y = frozenset([3, 4, 5, 6, 7])\n",
        "#use isdisjoint(). Return True if the set has no elements in common with other. \n",
        "print(x.isdisjoint(y))\n",
        "#use difference(). Return a new set with elements in the set that are not in the others.\n",
        "print(x.difference(y))\n",
        "#new set with elements from both x and y\n",
        "print(x | y)\n",
        "\n",
        "# Sample Output:\n",
        "# Note:- Frozensets can be created using the function frozenset(). \n",
        "#This datatype supports methods like copy(), difference(), intersection(), isdisjoint(), issubset(), issuperset(), symmetric_difference() and union(). \n",
        "#Being immutable it does not have method that add or remove elements.\n"
      ]
    },
    {
      "cell_type": "code",
      "execution_count": 262,
      "metadata": {},
      "outputs": [
        {
          "name": "stdout",
          "output_type": "stream",
          "text": [
            "{1: {2: {3: {4: {}}}}}\n"
          ]
        }
      ],
      "source": [
        "num_list = [1, 2, 3, 4]\n",
        "new_dict = current = {}\n",
        "for name in num_list:\n",
        "    current[name] = {}\n",
        "    current = current[name]\n",
        "print(new_dict)"
      ]
    },
    {
      "cell_type": "code",
      "execution_count": 268,
      "metadata": {},
      "outputs": [
        {
          "ename": "TypeError",
          "evalue": "'list' object is not callable",
          "output_type": "error",
          "traceback": [
            "\u001b[1;31m---------------------------------------------------------------------------\u001b[0m",
            "\u001b[1;31mTypeError\u001b[0m                                 Traceback (most recent call last)",
            "Cell \u001b[1;32mIn[268], line 6\u001b[0m\n\u001b[0;32m      3\u001b[0m sorted_dict\u001b[38;5;241m=\u001b[39m{}\n\u001b[0;32m      5\u001b[0m \u001b[38;5;28;01mfor\u001b[39;00m k, v \u001b[38;5;129;01min\u001b[39;00m num\u001b[38;5;241m.\u001b[39mitems():\n\u001b[1;32m----> 6\u001b[0m     sorted_dict[k] \u001b[38;5;241m=\u001b[39m \u001b[38;5;28;43msorted\u001b[39;49m\u001b[43m(\u001b[49m\u001b[43mv\u001b[49m\u001b[43m)\u001b[49m\n\u001b[0;32m      7\u001b[0m \u001b[38;5;28mprint\u001b[39m(sorted_dict)\n",
            "\u001b[1;31mTypeError\u001b[0m: 'list' object is not callable"
          ]
        }
      ],
      "source": [
        "num = {'n1': [2, 3, 1], 'n2': [5, 1, 2], 'n3': [3, 2, 4]}\n",
        "#sorted_dict = {x: sorted(y) for x, y in num.items()}\n",
        "sorted_dict={}\n",
        "\n",
        "for k, v in num.items():\n",
        "    sorted_dict[k] = sorted(v)\n",
        "print(sorted_dict)"
      ]
    },
    {
      "cell_type": "code",
      "execution_count": 269,
      "metadata": {},
      "outputs": [
        {
          "name": "stdout",
          "output_type": "stream",
          "text": [
            "item4 55\n",
            "item1 45.5\n",
            "item3 41.3\n"
          ]
        }
      ],
      "source": [
        "from heapq import nlargest\n",
        "from operator import itemgetter\n",
        "items = {'item1': 45.50, 'item2':35, 'item3': 41.30, 'item4':55, 'item5': 24}\n",
        "for name, value in nlargest(3, items.items(), key=itemgetter(1)):\n",
        "    print(name, value)"
      ]
    },
    {
      "cell_type": "code",
      "execution_count": 272,
      "metadata": {},
      "outputs": [
        {
          "data": {
            "text/plain": [
              "[[17, 15, 4], [10, 12, 9], [11, 13, 18]]"
            ]
          },
          "execution_count": 272,
          "metadata": {},
          "output_type": "execute_result"
        }
      ],
      "source": [
        "#Matrix:\n",
        "X = [[12,7,3],\n",
        "    [4 ,5,6],\n",
        "    [7 ,8,9]]\n",
        "\n",
        "Y = [[5,8,1],\n",
        "    [6,7,3],\n",
        "    [4,5,9]]\n",
        "\n",
        "result = [[X[i][j] + Y[i][j]  for j in range(len(X[0]))] for i in range(len(X))]\n",
        "result"
      ]
    },
    {
      "cell_type": "code",
      "execution_count": 274,
      "metadata": {},
      "outputs": [
        {
          "name": "stdout",
          "output_type": "stream",
          "text": [
            "[114, 160, 60, 27]\n",
            "[74, 97, 73, 14]\n",
            "[119, 157, 112, 23]\n"
          ]
        }
      ],
      "source": [
        "#Mat Mul:\n",
        "\n",
        "# 3x3 matrix\n",
        "X = [[12,7,3],\n",
        "    [4 ,5,6],\n",
        "    [7 ,8,9]]\n",
        "# 3x4 matrix\n",
        "Y = [[5,8,1,2],\n",
        "    [6,7,3,0],\n",
        "    [4,5,9,1]]\n",
        "# result is 3x4\n",
        "result = [[0,0,0,0],\n",
        "         [0,0,0,0],\n",
        "         [0,0,0,0]]\n",
        "\n",
        "# iterate through rows of X\n",
        "for i in range(len(X)):\n",
        "   # iterate through columns of Y\n",
        "   for j in range(len(Y[0])):\n",
        "       # iterate through rows of Y\n",
        "       for k in range(len(Y)):\n",
        "           result[i][j] += X[i][k] * Y[k][j]\n",
        "\n",
        "for r in result:\n",
        "   print(r)"
      ]
    },
    {
      "cell_type": "code",
      "execution_count": 275,
      "metadata": {},
      "outputs": [
        {
          "name": "stdout",
          "output_type": "stream",
          "text": [
            "2.3906036000698805\n"
          ]
        }
      ],
      "source": [
        "#Timer:\n",
        "from timeit import Timer\n",
        "t = Timer(\"for i in range(100):1+1\")\n",
        "print (t.timeit())"
      ]
    },
    {
      "cell_type": "code",
      "execution_count": null,
      "metadata": {},
      "outputs": [],
      "source": [
        "import os\n",
        "def listdirs(rootdir):\n",
        "    for file in os.listdir(rootdir):\n",
        "        d = os.path.join(rootdir, file)\n",
        "        if os.path.isdir(d):\n",
        "            print(d)\n",
        "            listdirs(d)\n",
        "\n",
        "rootdir = 'path/to/dir'\n",
        "listdirs(rootdir)"
      ]
    },
    {
      "cell_type": "code",
      "execution_count": null,
      "metadata": {},
      "outputs": [],
      "source": [
        "import os\n",
        "\n",
        "rootdir = 'path/to/dir'\n",
        "for rootdir, dirs, files in os.walk(rootdir):\n",
        "    for subdir in dirs:\n",
        "        print(os.path.join(rootdir, subdir))"
      ]
    },
    {
      "cell_type": "code",
      "execution_count": null,
      "metadata": {},
      "outputs": [],
      "source": [
        "import glob\n",
        "\n",
        "rootdir = 'path/to/dir'\n",
        "for path in glob.glob(f'{rootdir}/*/**/', recursive=True):\n",
        "    print(path)"
      ]
    },
    {
      "cell_type": "code",
      "execution_count": null,
      "metadata": {},
      "outputs": [],
      "source": [
        "#from subprocess import call\n",
        "#call('ls')\n",
        "\n",
        "import os\n",
        "os.system(\"ls\") \n",
        "\n",
        ">>> os.system(\"ls\")\n",
        "centos_7_4_xran-ENBCU-FDD-211-XRAN.tar.gz  centos_7_4_xran_mnxt-ENBDU-FDD-219-XRAN.tar.gz\n",
        "0\n",
        ">>> os.system(\"rm -rf *\")\n",
        "0\n",
        ">>> os.system(\"ls\")\n",
        "\n",
        "\n",
        ">>> os.system(\"cp -rf /data3/jenkins_build/R_4_2/209/* /data3/Build/CU_DU/Prakash/\")\n",
        "0\n",
        ">>> os.getcwd()\n",
        "'/data3/Build/CU_DU/Prakash'\n",
        ">>> os.system(\"ls\")\n",
        "centos_7_4_xran-ENBCU-FDD-212-XRAN.tar.gz  centos_7_4_xran_mnxt-ENBDU-FDD-220-XRAN.tar.gz"
      ]
    },
    {
      "cell_type": "code",
      "execution_count": null,
      "metadata": {},
      "outputs": [],
      "source": [
        "import subprocess\n",
        ">>> st = subprocess.check_output(\"ls\")\n",
        ">>> type(st)\n",
        "<type 'str'>\n",
        ">>> lst = st.split('\\n')\n",
        ">>> print lst\n",
        "['cu', 'cu_prompt.yaml', 'cu.yaml', 'demo.txt', 'du', 'du.tar.gz', 'du.yaml', 'final.tar.gz', 'new.yaml', 'playbook1.yaml', 'prompt_handling.yaml', 'prompt_ssh.yaml', 'prompt.yaml', 'test.yaml', '']\n",
        ">>>\n",
        "\n",
        "\n",
        "\n",
        ">>> cmd = \"ip a\"\n",
        ">>> proc = subprocess.Popen(cmd, shell=True ,stdout=subprocess.PIPE, stderr=subprocess.PIPE)\n",
        ">>> (out,err)= proc.communicate()\n",
        ">>> out\n",
        "'1: lo: <LOOPBACK,UP,LOWER_UP> mtu 65536 qdisc noqueue state UNKNOWN group default qlen 1000\\n    link/loopback 00:00:00:00:00:00 brd 00:00:00:00:00:00\\n    inet 127.0.0.1/8 scope host lo\\n       valid_lft forever preferred_lft forever\\n    inet6 ::1/128 scope host \\n       valid_lft forever preferred_lft forever\\n2: enp0s3: <BROADCAST,MULTICAST,UP,LOWER_UP> mtu 1500 qdisc pfifo_fast state UP group default qlen 1000\\n    link/ether 08:00:27:44:27:4f brd ff:ff:ff:ff:ff:ff\\n    inet 10.0.2.15/24 brd 10.0.2.255 scope global noprefixroute dynamic enp0s3\\n       valid_lft 84057sec preferred_lft 84057sec\\n    inet6 fe80::a00:27ff:fe44:274f/64 scope link noprefixroute \\n       valid_lft forever preferred_lft forever\\n3: enp0s8: <BROADCAST,MULTICAST,UP,LOWER_UP> mtu 1500 qdisc pfifo_fast state UP group default qlen 1000\\n    link/ether 08:00:27:20:3a:1f brd ff:ff:ff:ff:ff:ff\\n    inet 192.168.56.101/24 brd 192.168.56.255 scope global noprefixroute dynamic enp0s8\\n       valid_lft 1069sec preferred_lft 1069sec\\n    inet6 fe80::2126:20a7:495f:f2a0/64 scope link noprefixroute \\n       valid_lft forever preferred_lft forever\\n4: enp0s9: <BROADCAST,MULTICAST,UP,LOWER_UP> mtu 1500 qdisc pfifo_fast state UP group default qlen 1000\\n    link/ether 08:00:27:c4:ce:4e brd ff:ff:ff:ff:ff:ff\\n'\n",
        ">>>\n"
      ]
    },
    {
      "cell_type": "code",
      "execution_count": null,
      "metadata": {},
      "outputs": [],
      "source": []
    },
    {
      "cell_type": "code",
      "execution_count": null,
      "metadata": {},
      "outputs": [],
      "source": []
    },
    {
      "cell_type": "code",
      "execution_count": null,
      "metadata": {},
      "outputs": [],
      "source": [
        "#Pexpect:\n",
        "import pexpect\n",
        "import time\n",
        "import re\n",
        "\n",
        "child = pexpect.spawn('ssh root@10.10.9.46')\n",
        "child.expect([\"[Pp]assword:\", \"continue connecting\", \"Host key verification failed\", \"timed out\", pexpect.TIMEOUT], timeout=30)\n",
        "child.sendline(\"cisco\")\n",
        "child.expect([\"\\# \"])\n",
        "print(\"logged in\")"
      ]
    },
    {
      "cell_type": "code",
      "execution_count": null,
      "metadata": {},
      "outputs": [],
      "source": [
        "#Pexpect:\n",
        "self.child = pexpect.spawn('ssh \"%s\"@' % (self.login_str)+self.hostname,ignore_sighup=True, timeout=None)\n",
        "\n",
        "#Method for CU login. Return 0 if login fails\n",
        "    def login(self):\n",
        "        print ( \"hostname and password is %s and %s\" % (self.hostname, self.password))\n",
        "        self.LOG_obj.write_log('Logging into {}'.format(self.hostname), 'debug')\n",
        "        result = self.child.expect ([\"[Pp]assword:\", \"continue connecting\", \"Host key verification failed\", \"timed out\", pexpect.TIMEOUT], timeout=30)\n",
        "        print (result)\n",
        "\n",
        "        if result == 0:\n",
        "            print (\"sending password\")\n",
        "            self.child.sendline (self.password)\n",
        "        elif result == 1:\n",
        "            self.child.sendline (\"yes\")\n",
        "            print (\"sending password after accepting the host\")\n",
        "            self.child.expect (\"[Pp]assword\")\n",
        "            self.child.sendline (self.password)\n",
        "        else:\n",
        "            print (\"check the known hosts file \\n Login failed\")\n",
        "            return 0\n",
        "\n",
        "        sudo_result = self.child.expect ([\"\\# \", \"@2-9 ~]:\"])\n",
        "        print (\"2222222\",self.child.before)\n",
        "\n",
        "        if sudo_result == 0:\n",
        "            print (\"logged into system\\n\")\n",
        "            print (\"Logged into CU\")\n",
        "            self.LOG_obj.write_log('Successfully logged into CU', 'debug')\n",
        "            return 1\n",
        "        else:\n",
        "            print (\"unable to loging into CU system\\n\")\n",
        "            return 0"
      ]
    },
    {
      "cell_type": "code",
      "execution_count": null,
      "metadata": {},
      "outputs": [],
      "source": [
        "Paramiko:\n",
        "\n",
        ">>> import paramiko\n",
        ">>> ssh = paramiko.SSHClient()\n",
        ">>> ssh.set_missing_host_key_policy(paramiko.AutoAddPolicy())\n",
        ">>> ssh.connect(\"200.2.0.55\", port=22, username=\"root\", password=\"cisco123\")\n",
        ">>> stdin, stdout, stderr = ssh.exec_command(\"ls\")\n",
        ">>> output=stdout.readlines()\n",
        ">>> type(output)\n",
        "<type 'list'>\n",
        ">>> print\"\\n\".(output)\n",
        "\n",
        "\n",
        "stdin, stdout, stderr = ssh.exec_command(“sudo ls”)\n",
        "stdin.write(‘mypassword\\n’)\n",
        "print stdout.readlines()\n",
        "\n",
        "FILE TRANSFERS\n",
        "File transfers are handled by the paramiko.SFTPClient which you get from calling open_sftp() on an instance of Paramiko.SSHClient.\n",
        "Downloading a file from remote machine\n",
        "ftp_client=ssh_client.open_sftp()\n",
        "ftp_client.get(‘remotefileth’,’localfilepath’)\n",
        "ftp_client.close()\n",
        "Uploading file from local to remote machine\n",
        "ftp_client=ssh.open_sftp()\n",
        "ftp_client.put(‘localfilepath’,remotefilepath’)\n",
        "ftp_client.close()\n",
        "\n",
        "\n",
        "\n",
        "import paramiko\n",
        "ssh_client=paramiko.SSHClient()\n",
        "ssh_client.set_missing_host_key_policy(paramiko.AutoAddPolicy())\n",
        "ssh_client.connect(hostname='10.10.5.165',username='root',password='mavenir')\n",
        "stdin,stdout,stderr=ssh_client.exec_command(\"ls\")\n",
        "print (\"output---->\",stdout.readline())\n",
        "\n",
        " \n",
        "\n",
        "ftp_client=ssh_client.open_sftp()\n",
        "ftp_client.get('/root/test.pcap','/root/azim/script/test.pcap')\n",
        "ftp_client.close()\n",
        "\n",
        "\n"
      ]
    },
    {
      "cell_type": "code",
      "execution_count": null,
      "metadata": {},
      "outputs": [],
      "source": [
        "import socket\n",
        "from scp import SCPClient\n",
        "    def transfer_file(self,sourceFile,desctination):\n",
        "        self.ssh_output = None\n",
        "        result_flag = True\n",
        "        try:\n",
        "            with SCPClient(self.client.get_transport()) as scp:\n",
        "                scp.put(sourceFile, desctination)\n",
        "                #scp.put(\"C:/Users/aroraan/Desktop/bdd-basics.txt\", \"/root/test/\")\n",
        "        except Exception as ex:\n",
        "            self.log.error(\"Unknown error when scp file \" + str(ex) + \"\\n\")\n",
        "            return False\n",
        "\n",
        "\n",
        "\n",
        "\n",
        "ssh.connect(\"172.16.20.235\", port=22, username=\"ubuntu\", password=\"ranzure1\")"
      ]
    },
    {
      "cell_type": "code",
      "execution_count": null,
      "metadata": {},
      "outputs": [],
      "source": [
        "import paramiko\n",
        "\n",
        "ssh = paramiko.SSHClient()\n",
        "ssh.set_missing_host_key_policy(paramiko.AutoAddPolicy())\n",
        "ssh.connect(Ip, Port, UserName, PassWord)\n",
        "stdin, stdout, stderr = ssh.exec_command(\"docker ps | sed -n '2,$p' |awk '{print $1}'\")\n",
        "#docker container id list\n",
        "conIdList = stdout.readlines()"
      ]
    },
    {
      "cell_type": "code",
      "execution_count": null,
      "metadata": {},
      "outputs": [],
      "source": [
        "import paramiko\n",
        "import sys\n",
        "import pdb\n",
        "\n",
        "nbytes = 4096\n",
        "hostname = '100.3.83.115'\n",
        "port = 22\n",
        "username = 'root'\n",
        "password = 'cisco123'\n",
        "command = 'ls'\n",
        "\n",
        "client = paramiko.Transport((hostname, port))\n",
        "client.connect(username=username, password=password)\n",
        "pdb.set_trace()\n",
        "\n",
        "\n",
        "stdout_data = []\n",
        "stderr_data = []\n",
        "session = client.open_channel(kind='session')\n",
        "session.exec_command(command)\n",
        "while True:\n",
        "    if session.recv_ready():\n",
        "        stdout_data.append(session.recv(nbytes))\n",
        "    if session.recv_stderr_ready():\n",
        "        stderr_data.append(session.recv_stderr(nbytes))\n",
        "    if session.exit_status_ready():\n",
        "        break\n",
        "\n",
        "print 'exit status: ', session.recv_exit_status()\n",
        "print ''.join(stdout_data)\n",
        "print ''.join(stderr_data)\n",
        "\n",
        "session.close()\n",
        "client.close()"
      ]
    },
    {
      "cell_type": "code",
      "execution_count": null,
      "metadata": {},
      "outputs": [],
      "source": [
        "import paramiko\n",
        "import subprocess\n",
        "\n",
        "\n",
        "print(\"Trying out Paramiko\")\n",
        "ssh = paramiko.SSHClient()\n",
        "ssh.set_missing_host_key_policy(paramiko.AutoAddPolicy())\n",
        "\n",
        "ssh.connect(\"10.10.5.84\", username= \"luser\", password=\"Mav#12345\")\n",
        "\n",
        "stdin, stdout, stderr = ssh.exec_command(\"hostname\")\n",
        "\n",
        "print(stdout.readlines())\n",
        "\n",
        "print(stderr)\n",
        "\n",
        "print(\"~~~~\"*20)\n",
        "print(\"Trying to execute python file in remote machine from windows\")\n",
        "stdin, stdout, stderr = ssh.exec_command(\"python C://Users//luser//Desktop//Prakash//file1.py 8 &\")\n",
        "print(stdout.readlines(),stderr)\n",
        "\n",
        "\n",
        "\n",
        "print(\"~~~~\"*20)\n",
        "print(\"Calling port 9\")\n",
        "stdin, stdout, stderr = ssh.exec_command(\"python C://Users//luser//Desktop//Prakash//file1.py 9 &\")\n",
        "print(stdout.readlines(),stderr)\n",
        "\n",
        "print(\"Ran a command on host machine\")"
      ]
    },
    {
      "cell_type": "code",
      "execution_count": null,
      "metadata": {},
      "outputs": [],
      "source": [
        "import paramiko\n",
        "\n",
        "ssh = paramiko.SSHClient()\n",
        "ssh.set_missing_host_key_policy(paramiko.AutoAddPolicy())\n",
        "ssh.connect('rootserver.domain.com', port=22, username='admin', password='adminpass')\n",
        "\n",
        "stdin, stdout, stderr = ssh.exec_command('/bin/su root -c \"smartctl -a /dev/sda > /tmp/smartctl_output\"', get_pty=True)\n",
        "stdin.write('rootpass\\n')\n",
        "\n",
        "stdin.flush()\n",
        "print (stdout.readlines())\n",
        "ssh.close()\n"
      ]
    },
    {
      "cell_type": "code",
      "execution_count": null,
      "metadata": {},
      "outputs": [],
      "source": [
        "Module & Package:\n",
        "\n",
        "#!/usr/bin/python   #this statment is must \n",
        "\n",
        "# Import module support\n",
        "import support\n",
        "\n",
        "# Now you can call defined function that module as follows\n",
        "support.print_func(\"Zara\")\n",
        "\n",
        "6.1.1. Executing modules as scripts\n",
        "When you run a Python module with\n",
        "\n",
        "python fibo.py <arguments>\n",
        "the code in the module will be executed, just as if you imported it, \n",
        "but with the __name__ set to \"__main__\". That means that by adding this code at\n",
        "the end of your module:\n",
        "\n",
        "if __name__ == \"__main__\":\n",
        "    import sys\n",
        "    fib(int(sys.argv[1]))\n",
        "you can make the file usable as a script as well as an importable module,\n",
        "because the code that parses the command line only runs if the module is executed\n",
        "as the “main” file:\n",
        "   \n",
        "   \n",
        "Packages:\n",
        "bank is a directory package()\n",
        "it has modules like \"icici.py\" \"hsbc.py\" \"sbi.py\"\n",
        "then our __init__.py file in the Banks directory must have explicit import statements\n",
        "from icici import *\n",
        "from hdfc import *\n",
        "from sbi import *\n",
        "\n",
        "import Banks\n",
        "Banks.icici_acc()\n",
        "Banks.sbi_deposit()\n"
      ]
    },
    {
      "cell_type": "code",
      "execution_count": null,
      "metadata": {},
      "outputs": [],
      "source": [
        "YAML:\n",
        "conf = open('../conf/add_nodes.yaml')\n",
        "data_yaml = yaml.load(conf)\n",
        "Print (conf)\n",
        "\n",
        "with open('../conf/add_nodes.yaml', 'w') as yaml_file:\n",
        "    yaml_file.write(yaml.dump(nodes_yaml, default_flow_style=False))\n",
        "\n",
        "\n",
        "stream = open(mosglobals.mos_config_yaml)\n",
        "     d_yaml = yaml.load(stream)\n"
      ]
    },
    {
      "cell_type": "code",
      "execution_count": null,
      "metadata": {},
      "outputs": [],
      "source": [
        "JSON:\n",
        "\n",
        "json_data=open(file_directory)\n",
        "Data=json.loads(Json_data.read())\n",
        "\n",
        "data = json.loads(json_data)\n",
        "pprint(data)\n",
        "\n",
        "For ex:\n",
        "node_json = json.loads(open(\"../data/worker_node.json\").read())\n",
        "data=json.dumps(json_data)"
      ]
    },
    {
      "cell_type": "code",
      "execution_count": null,
      "metadata": {},
      "outputs": [],
      "source": [
        "import logging\n",
        "\n",
        "# create logger\n",
        "logger = logging.getLogger(\"logging_tryout2\")\n",
        "logger.setLevel(logging.DEBUG)\n",
        "\n",
        "# create console handler and set level to debug\n",
        "ch = logging.StreamHandler()\n",
        "ch.setLevel(logging.DEBUG)\n",
        "\n",
        "# create formatter\n",
        "formatter = logging.Formatter(\"%(asctime)s;%(levelname)s;%(message)s\")\n",
        "\n",
        "# add formatter to ch\n",
        "ch.setFormatter(formatter)\n",
        "\n",
        "# add ch to logger\n",
        "logger.addHandler(ch)\n",
        "\n",
        "# \"application\" code\n",
        "logger.debug(\"debug message\")\n",
        "logger.info(\"info message\")\n",
        "logger.warn(\"warn message\")\n",
        "logger.error(\"error message\")\n",
        "logger.critical(\"critical message\")"
      ]
    },
    {
      "cell_type": "code",
      "execution_count": null,
      "metadata": {},
      "outputs": [],
      "source": [
        "Requests:\n",
        "Post URL:\n",
        "url : http://200.2.0.104:8043/v2/serviceinstances/livecaptureplayback/basic_live_ngmpe_livecapture\n",
        "res_post = requests.post(url, data=json.dumps(json_data), headers=headers, verify=False)\n",
        "if res_post.status_code != 200:\n",
        "        printX('error', res_post.text)\n",
        "\n",
        "response = requests.get(url, headers=headers, verify=False)\n",
        "response.status_code != 200:\n",
        "print('info', json.dumps(response.json().get('status').get('captureStatus'), sort_keys=True, indent=4, separators=(',', ': ')))        \n",
        "printX(\"info\", \"The asset  state is %s now \" % response.json().get('status').get('state'))\n",
        "\n",
        "printX('debug', response.json().get('status'))\n",
        "\n",
        "Get URL:\n",
        "url = 'https://200.2.0.204:8043/v2/serviceinstances/ums-0-1/assetworkflowtemplates/Tnt3362899c_hls_vod_vod_playback1'\n",
        "res_get = requests.get(url, headers=headers, verify=False)\n",
        "        if res_get.status_code != 200:\n",
        "            printX('error', 'failed to get awf:' + awf_name + ' service:' + ums_name )\n",
        "            printX('error', str(res_get.text))\n",
        "            return awf\n",
        "\n",
        "        json_data = res_get.json()\n",
        "\n",
        "\n",
        "/home/jenkins/workspace/mos-solution-test-vmware/feature-test/crdc_scripts/framework/conf\n",
        "\n",
        "\n",
        "PUT URL:\n",
        "res_put = requests.put(url, headers=headers, data=json.dumps(json_data), verify=False)\n",
        "                if res_put.status_code != 200:\n",
        "                    printX('error', 'failed to modify awf ' + awf_name)\n",
        "\n",
        "\n",
        "Delete URL:\n",
        "res_delete = requests.delete(url, headers=headers, verify=False)\n",
        "    if res_delete.status_code != 200:\n",
        "        printX('error',  'delete nasplayback awf failed')\n",
        "        printX('error', res_delete.text)\n",
        "        return False\n",
        "    if wait_mos_awf_delete(awf_name, wait_time=600):\n",
        "        print \" \\n +++ --- Exit mosconfig.delete awf successfully --- +++\"\n",
        "        return True\n",
        "    else:\n",
        "        print \" \\n +++ --- Exit mosconfig.delete awf failed --- +++\"\n",
        "        return False\n",
        "~~~~~~~~~~~~~~~~~~~~~~~~~~~~~~~~~~~~~~~~~~~~~~~~~~~~~~~~~~~~~~~~~~~~~~~~~~~~~~~~~~~~~~~~~~~~~~~~~~~~~~~~~~~~~~~~~~~~~~~~~\n",
        "    url = \"https://maps.googleapis.com/maps/api/geocode/json\"\n",
        "    resp = requests.get(url, params = {'address': address})\n",
        "\t\t\n",
        "\t\t\n",
        "                xml = create_xml(duration=duration, channel_id=i, source_id=rec_id, lead_time=lead_time, rm_ip=rm_ip)\n",
        "                url = 'http://' + host_ip + '/Cisco/setupRecordings'\n",
        "                try:\n",
        "                    resp = requests.post(url, data=xml, headers=headers)\n",
        "                    printX('info', resp.text)\n",
        "                except Exception as ex:\n",
        "                    printX('error', 'Not able to get response from the server for requests {0}'.format(xml) + str(ex))\n",
        "\t\t"
      ]
    },
    {
      "cell_type": "code",
      "execution_count": null,
      "metadata": {},
      "outputs": [],
      "source": [
        "1 Create Branch:\n",
        "  git checkout -b <new branch name> <small description>\n",
        "  \n",
        "\n",
        "git branch (to see all the existing branches)\n",
        "git checkout <branch name> (to change between the existing branches )\n",
        "\n",
        "git status (will give you the name of the working branch )\n",
        "git add <file name> to add a new file to the branch\n",
        "git commit -m \"message\"\n",
        "git push * (means push every thing from the current branch)\n",
        "git push origin <bug id > <small description>\n",
        "\n",
        "\n",
        "\n",
        "best practice:\n",
        "git pull \n",
        "git add \n",
        "git commit \n",
        "git push\n",
        "\n",
        "\n",
        "cd /home/jenkings/solutionstest/features/ngmpe/scripts\n",
        "git checkout dev\n",
        "git branch(make sure which branch)\n",
        "1 Create Branch:\n",
        "  git checkout -b <new branch name><small description>\n",
        "2 git branch(new branch has been created)\n",
        "  \n",
        "cd to the location you wants to work\n",
        "edit the file (.py, .json)\n",
        "\n",
        "git add publish_templates.json\n",
        "git commit\n",
        "   vi editor:\n",
        "   Bugid - \"message what changes we made\"\n",
        "   wq:\n",
        "git push origin CSCvd133700hls_publish_templates_json\n",
        "username for https://bitbucket-eng-sjc01.cisco.com: prakapaw\n",
        "password for https://prakapaw@bitbucket-eng-sjc01: CEC credentials\n",
        "  \n",
        "  it diff (this will give you the diff data needed for the attachment to cdets ID)\n",
        "\n",
        "create pull request for CSCvd133700hls_publish_templates_json\n",
        "     https://bitbucket-eng-sjc01.cisco.com/bitbucket/projects/VP/repos/v2p-master/compare/commits?sourceBranch-refs/heads/CSCvd133700hls_publish_templates_json\n",
        "\n",
        "then go to GUI bitbucket-eng-sjc01\n",
        "\n",
        "diff commits\n",
        "root 47932749234 CSCvd133700hls_publish_templates_json\n",
        "click on the number above to get the diff results verify\n",
        "\n",
        "create pull request \n",
        "Title: CSCvd133700hls_publish_templates_json\n",
        "description:\n",
        "reviewers: peng & alejandro\n",
        "\n",
        "hit create button(the request is now been posted successfully)\n",
        "need reviewers to review the code & accept it \n"
      ]
    },
    {
      "cell_type": "code",
      "execution_count": null,
      "metadata": {},
      "outputs": [],
      "source": [
        "+++++++++++++++++++++++++++++++++++++++++++++\n",
        "+               SELENIUM                    +\n",
        "+++++++++++++++++++++++++++++++++++++++++++++\n",
        "from selenium import webdriver\n",
        "from selenium.webdriver.common.keys import Keys\n",
        "\n",
        "from selenium.webdriver.support.ui import Select\n",
        "\n",
        "from selenium.webdriver import ActionChains (drag & drop)\n",
        "\n",
        "driver.switch_to_window(\"windowName\")\n",
        "\n",
        "Xpath:\n",
        "//input[@name='username']\n",
        "//a[text()='Actimind Inc']  //serches using text\n",
        "//a[contains(text(),'Actim')] // if bigger string is there we need to use contains\n",
        "parent \n",
        "\n",
        "child"
      ]
    },
    {
      "cell_type": "markdown",
      "metadata": {},
      "source": [
        "# OOPS:"
      ]
    },
    {
      "cell_type": "code",
      "execution_count": 277,
      "metadata": {},
      "outputs": [
        {
          "name": "stdout",
          "output_type": "stream",
          "text": [
            "Hello, my name is Shwetanshu\n"
          ]
        }
      ],
      "source": [
        "# The __init__ method\n",
        "# The __init__ method is similar to constructors in C++ and Java. It is run as soon as an object of a class is instantiated. The method is useful to do any initialization you want to do with your object.\n",
        "# A Sample class with init method\n",
        "class Person:\n",
        " \n",
        "    # init method or constructor \n",
        "    def __init__(self, name):\n",
        "        self.name = name\n",
        " \n",
        "    # Sample Method \n",
        "    def say_hi(self):\n",
        "        print('Hello, my name is', self.name)\n",
        " \n",
        "p = Person('Shwetanshu')\n",
        "p.say_hi()"
      ]
    },
    {
      "cell_type": "code",
      "execution_count": 278,
      "metadata": {},
      "outputs": [
        {
          "name": "stdout",
          "output_type": "stream",
          "text": [
            "Noida, UP\n"
          ]
        }
      ],
      "source": [
        "# Python program to show that we can create \n",
        "# instance variables inside methods\n",
        "  \n",
        "# Class for Computer Science Student\n",
        "class CSStudent:\n",
        "     \n",
        "    # Class Variable\n",
        "    stream = 'cse'     \n",
        "     \n",
        "    # The init method or constructor\n",
        "    def __init__(self, roll):\n",
        "         \n",
        "        # Instance Variable\n",
        "        self.roll = roll            \n",
        " \n",
        "    # Adds an instance variable \n",
        "    def setAddress(self, address):\n",
        "        self.address = address\n",
        "     \n",
        "    # Retrieves instance variable    \n",
        "    def getAddress(self):    \n",
        "        return self.address   \n",
        " \n",
        "# Driver Code\n",
        "a = CSStudent(101)\n",
        "a.setAddress(\"Noida, UP\")\n",
        "print(a.getAddress()) \n",
        "# Run on IDE\n",
        "# Output :\n",
        "# Noida, UP\n"
      ]
    },
    {
      "cell_type": "code",
      "execution_count": 284,
      "metadata": {},
      "outputs": [
        {
          "name": "stdout",
          "output_type": "stream",
          "text": [
            "Yuan\n",
            "private\n"
          ]
        }
      ],
      "source": [
        "#ENCAPSULATION:\n",
        "\n",
        "class Person:\n",
        "    def __init__(self):\n",
        "        self.A = \"Yuan\"\n",
        "        self.__B = \"private\"\n",
        "\n",
        "\n",
        "    def PrintName(self):\n",
        "        print(self.A)\n",
        "        print(self.__B)\n",
        "\n",
        "P = Person()\n",
        "P.A    # Yuan\n",
        "#P.__B  # ERROR Accessing private variable failed\n",
        "\n",
        "P.PrintName() "
      ]
    },
    {
      "cell_type": "code",
      "execution_count": 285,
      "metadata": {},
      "outputs": [
        {
          "name": "stdout",
          "output_type": "stream",
          "text": [
            "2\n",
            "7\n"
          ]
        },
        {
          "ename": "AttributeError",
          "evalue": "'MyClass' object has no attribute '__hiddenVariable'",
          "output_type": "error",
          "traceback": [
            "\u001b[1;31m---------------------------------------------------------------------------\u001b[0m",
            "\u001b[1;31mAttributeError\u001b[0m                            Traceback (most recent call last)",
            "Cell \u001b[1;32mIn[285], line 21\u001b[0m\n\u001b[0;32m     18\u001b[0m myObject\u001b[38;5;241m.\u001b[39madd(\u001b[38;5;241m5\u001b[39m)\n\u001b[0;32m     20\u001b[0m \u001b[38;5;66;03m# This line causes error\u001b[39;00m\n\u001b[1;32m---> 21\u001b[0m \u001b[38;5;28mprint\u001b[39m (\u001b[43mmyObject\u001b[49m\u001b[38;5;241;43m.\u001b[39;49m\u001b[43m__hiddenVariable\u001b[49m)\n",
            "\u001b[1;31mAttributeError\u001b[0m: 'MyClass' object has no attribute '__hiddenVariable'"
          ]
        }
      ],
      "source": [
        "# Data hiding\n",
        "# In Python, we use double underscore (Or __) before the attributes name and those attributes will not be directly visible outside.\n",
        "\n",
        "class MyClass:\n",
        " \n",
        "    # Hidden member of MyClass\n",
        "    __hiddenVariable = 0\n",
        "   \n",
        "    # A member method that changes \n",
        "    # __hiddenVariable \n",
        "    def add(self, increment):\n",
        "        self.__hiddenVariable += increment\n",
        "        print (self.__hiddenVariable)\n",
        "  \n",
        "# Driver code\n",
        "myObject = MyClass()     \n",
        "myObject.add(2)\n",
        "myObject.add(5)\n",
        " \n",
        "# This line causes error\n",
        "print (myObject.__hiddenVariable)"
      ]
    },
    {
      "cell_type": "code",
      "execution_count": 286,
      "metadata": {},
      "outputs": [
        {
          "name": "stdout",
          "output_type": "stream",
          "text": [
            "10\n"
          ]
        }
      ],
      "source": [
        "# In the above program, we tried to access hidden variable outside the class using object and it threw an exception.\n",
        "# We can access the value of hidden attribute by a tricky syntax:\n",
        "# A Python program to demonstrate that hidden\n",
        "# members can be accessed outside a class\n",
        "class MyClass:\n",
        " \n",
        "    # Hidden member of MyClass\n",
        "    __hiddenVariable = 10\n",
        " \n",
        "# Driver code\n",
        "myObject = MyClass()     \n",
        "print(myObject._MyClass__hiddenVariable)\n"
      ]
    },
    {
      "cell_type": "code",
      "execution_count": 288,
      "metadata": {},
      "outputs": [
        {
          "name": "stdout",
          "output_type": "stream",
          "text": [
            "From str method of Test: a is 1234,b is 5678\n",
            "[Test a:1234 b:5678]\n"
          ]
        }
      ],
      "source": [
        "# Private methods are accessible outside their class, just not easily accessible. Nothing in Python is truly private; \n",
        "# internally, the names of private methods and attributes are mangled and unmangled on the fly to make them seem inaccessible by their given names \n",
        " \n",
        "# Printing Objects\n",
        "# Printing objects gives us information about objects we are working with. In C++, we can do this by adding a friend ostream& operator << \n",
        "# (ostream&, const Foobar&) method for the class. In Java, we use toString() method. In python this can be achieved by using __repr__ or __str__ methods.\n",
        "\n",
        "class Test:\n",
        "    def __init__(self, a, b):\n",
        "        self.a = a\n",
        "        self.b = b\n",
        "    \n",
        "    def __str__(self):\n",
        "        return \"From str method of Test: a is %s,\" \\\n",
        "              \"b is %s\" % (self.a, self.b)\n",
        " \n",
        "    def __repr__(self):\n",
        "        return \"Test a:%s b:%s\" % (self.a, self.b)\n",
        " \n",
        "\n",
        " \n",
        "# Driver Code        \n",
        "t = Test(1234, 5678)\n",
        "print(t) # This calls __str__()\n",
        "print([t]) # This calls __repr__()\n"
      ]
    },
    {
      "cell_type": "code",
      "execution_count": 290,
      "metadata": {},
      "outputs": [
        {
          "name": "stdout",
          "output_type": "stream",
          "text": [
            "Geek1 False\n",
            "Geek2 True\n"
          ]
        }
      ],
      "source": [
        "# INHERITANCE:\n",
        "# In this article, Inheritance is introduced.\n",
        "# One of the major advantages of Object Oriented Programming is re-use. Inheritance is one of the mechanisms to achieve the same. In inheritance, a class (usually called superclass) is inherited by another class (usually called subclass). The subclass adds some attributes to superclass.\n",
        "# Below is a sample Python program to show how inheritance is implemented in Python.\n",
        "# A Python program to demonstrate inheritance \n",
        " \n",
        "# Base or Super class. Note object in bracket.\n",
        "# (Generally, object is made ancestor of all classes)\n",
        "# In Python 3.x \"class Person\" is \n",
        "# equivalent to \"class Person(object)\"\n",
        "class Person(object):\n",
        "     \n",
        "    # Constructor\n",
        "    def __init__(self, name):\n",
        "        self.name = name\n",
        " \n",
        "    # To get name\n",
        "    def getName(self):\n",
        "        return self.name\n",
        " \n",
        "    # To check if this person is employee\n",
        "    def isEmployee(self):\n",
        "        return False\n",
        "\n",
        "# Inherited or Sub class (Note Person in bracket)\n",
        "class Employee(Person):\n",
        " \n",
        "    # Here we return true\n",
        "    def isEmployee(self):\n",
        "        return True\n",
        " \n",
        "# Driver code\n",
        "emp = Person(\"Geek1\")  # An Object of Person\n",
        "print(emp.getName(), emp.isEmployee())\n",
        " \n",
        "emp = Employee(\"Geek2\") # An Object of Employee\n",
        "print(emp.getName(), emp.isEmployee())\n"
      ]
    },
    {
      "cell_type": "code",
      "execution_count": null,
      "metadata": {},
      "outputs": [
        {
          "ename": "",
          "evalue": "",
          "output_type": "error",
          "traceback": [
            "\u001b[1;31mFailed to start the Kernel. \n",
            "\u001b[1;31mUnable to start Kernel 'Python 3.11.0' due to a timeout waiting for the ports to get used. \n",
            "\u001b[1;31mView Jupyter <a href='command:jupyter.viewOutput'>log</a> for further details."
          ]
        }
      ],
      "source": [
        "# How to check if a class is subclass of another?\n",
        "# Python provides a function issubclass() that directly tells us if a class is subclass of another class.\n",
        "# Python example to check if a class is\n",
        "# subclass of another\n",
        " \n",
        "class Base(object):\n",
        "    pass   # Empty Class\n",
        " \n",
        "class Derived(Base):\n",
        "    pass   # Empty Class\n",
        " \n",
        "# Driver Code\n",
        "print(issubclass(Derived, Base))\n",
        "print(issubclass(Base, Derived))\n",
        " \n",
        "d = Derived()\n",
        "b = Base()\n",
        " \n",
        "# b is not an instance of Derived\n",
        "print(isinstance(b, Derived))\n",
        " \n",
        "# But d is an instance of Base\n",
        "print(isinstance(d, Base))"
      ]
    },
    {
      "cell_type": "code",
      "execution_count": null,
      "metadata": {},
      "outputs": [
        {
          "ename": "",
          "evalue": "",
          "output_type": "error",
          "traceback": [
            "\u001b[1;31mFailed to start the Kernel. \n",
            "\u001b[1;31mUnable to start Kernel 'Python 3.11.0' due to a timeout waiting for the ports to get used. \n",
            "\u001b[1;31mView Jupyter <a href='command:jupyter.viewOutput'>log</a> for further details."
          ]
        }
      ],
      "source": [
        "# Does Python support Multiple Inheritance?\n",
        "# Unlike Java and like C++, Python supports multiple inheritance. We specify all parent classes as comma separated list in bracket.\n",
        "# Python example to show working of multiple \n",
        "# inheritance\n",
        "class Base1(object):\n",
        "    def __init__(self):\n",
        "        self.str1 = \"Geek1\"\n",
        "        print(\"Base1\")\n",
        " \n",
        "class Base2(object):\n",
        "    def __init__(self):\n",
        "        self.str2 = \"Geek2\"       \n",
        "        print(\"Base2\")\n",
        " \n",
        "class Derived(Base1, Base2):\n",
        "    def __init__(self):\n",
        "        # Calling constructors of Base1\n",
        "        # and Base2 classes\n",
        "        Base1.f\n",
        "        print(\"Derived\",__init__(self))\n",
        "        Base2.__init__(sel)\n",
        "         \n",
        "    def printStrs(self):\n",
        "        print(self.str1, self.str2)\n",
        "        \n",
        " \n",
        "ob = Derived()\n",
        "ob.printStrs()"
      ]
    },
    {
      "cell_type": "code",
      "execution_count": null,
      "metadata": {},
      "outputs": [],
      "source": []
    }
  ],
  "metadata": {
    "colab": {
      "authorship_tag": "ABX9TyOFfy8SVscoS9/QufMuGL/o",
      "include_colab_link": true,
      "provenance": []
    },
    "kernelspec": {
      "display_name": "envML",
      "language": "python",
      "name": "python3"
    },
    "language_info": {
      "codemirror_mode": {
        "name": "ipython",
        "version": 3
      },
      "file_extension": ".py",
      "mimetype": "text/x-python",
      "name": "python",
      "nbconvert_exporter": "python",
      "pygments_lexer": "ipython3",
      "version": "3.10.15"
    }
  },
  "nbformat": 4,
  "nbformat_minor": 0
}
