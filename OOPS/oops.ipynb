{
 "cells": [
  {
   "cell_type": "code",
   "execution_count": 2,
   "metadata": {},
   "outputs": [
    {
     "name": "stdout",
     "output_type": "stream",
     "text": [
      "Hello, my name is Shwetanshu\n"
     ]
    }
   ],
   "source": [
    "class Person:\n",
    " \n",
    "    # init method or constructor \n",
    "    def __init__(self, name):\n",
    "        self.name = name\n",
    " \n",
    "    # Sample Method \n",
    "    def say_hi(self):\n",
    "        print('Hello, my name is', self.name)\n",
    " \n",
    "p = Person('Shwetanshu')\n",
    "p.say_hi()"
   ]
  },
  {
   "cell_type": "code",
   "execution_count": 3,
   "metadata": {},
   "outputs": [
    {
     "name": "stdout",
     "output_type": "stream",
     "text": [
      "Noida, UP\n"
     ]
    }
   ],
   "source": [
    "class CSStudent:\n",
    "     \n",
    "    # Class Variable\n",
    "    stream = 'cse'     \n",
    "     \n",
    "    # The init method or constructor\n",
    "    def __init__(self, roll):\n",
    "         \n",
    "        # Instance Variable\n",
    "        self.roll = roll            \n",
    " \n",
    "    # Adds an instance variable \n",
    "    def setAddress(self, address):\n",
    "        self.address = address\n",
    "     \n",
    "    # Retrieves instance variable    \n",
    "    def getAddress(self):    \n",
    "        return self.address   \n",
    " \n",
    "# Driver Code\n",
    "a = CSStudent(101)\n",
    "a.setAddress(\"Noida, UP\")\n",
    "print(a.getAddress()) \n"
   ]
  },
  {
   "cell_type": "code",
   "execution_count": 4,
   "metadata": {},
   "outputs": [
    {
     "name": "stdout",
     "output_type": "stream",
     "text": [
      "Yuan\n",
      "Method calling \n",
      "Yuan\n",
      "Private\n"
     ]
    }
   ],
   "source": [
    "# Encapsulation \n",
    "\n",
    "class Person:\n",
    "    def __init__(self):\n",
    "        self.A = \"Yuan\"\n",
    "        self.__B = \"Private\"\n",
    "\n",
    "    def PrintName(self):\n",
    "        print(self.A)\n",
    "        print(self.__B)\n",
    "        \n",
    "P = Person()\n",
    "print(P.A)\n",
    "print(f\"Method calling \")\n",
    "P.PrintName()    # Yuan    "
   ]
  },
  {
   "cell_type": "code",
   "execution_count": 5,
   "metadata": {},
   "outputs": [
    {
     "ename": "AttributeError",
     "evalue": "'Person' object has no attribute '__B'",
     "output_type": "error",
     "traceback": [
      "\u001b[1;31m---------------------------------------------------------------------------\u001b[0m",
      "\u001b[1;31mAttributeError\u001b[0m                            Traceback (most recent call last)",
      "Cell \u001b[1;32mIn[5], line 1\u001b[0m\n\u001b[1;32m----> 1\u001b[0m \u001b[43mP\u001b[49m\u001b[38;5;241;43m.\u001b[39;49m\u001b[43m__B\u001b[49m  \u001b[38;5;66;03m# ERROR Accessing private variable failed\u001b[39;00m\n",
      "\u001b[1;31mAttributeError\u001b[0m: 'Person' object has no attribute '__B'"
     ]
    }
   ],
   "source": [
    "P.__B  # ERROR Accessing private variable failed"
   ]
  },
  {
   "cell_type": "code",
   "execution_count": 6,
   "metadata": {},
   "outputs": [
    {
     "data": {
      "text/plain": [
       "'Private'"
      ]
     },
     "execution_count": 6,
     "metadata": {},
     "output_type": "execute_result"
    }
   ],
   "source": [
    "P._Person__B  # Accessing private variable using name mangling"
   ]
  },
  {
   "cell_type": "code",
   "execution_count": 7,
   "metadata": {},
   "outputs": [
    {
     "name": "stdout",
     "output_type": "stream",
     "text": [
      "2\n",
      "7\n"
     ]
    },
    {
     "ename": "AttributeError",
     "evalue": "'MyClass' object has no attribute '__hiddenVariable'",
     "output_type": "error",
     "traceback": [
      "\u001b[1;31m---------------------------------------------------------------------------\u001b[0m",
      "\u001b[1;31mAttributeError\u001b[0m                            Traceback (most recent call last)",
      "Cell \u001b[1;32mIn[7], line 14\u001b[0m\n\u001b[0;32m     11\u001b[0m myobject\u001b[38;5;241m.\u001b[39madd(\u001b[38;5;241m2\u001b[39m)\n\u001b[0;32m     12\u001b[0m myobject\u001b[38;5;241m.\u001b[39madd(\u001b[38;5;241m5\u001b[39m)\n\u001b[1;32m---> 14\u001b[0m \u001b[38;5;28mprint\u001b[39m(\u001b[43mmyobject\u001b[49m\u001b[38;5;241;43m.\u001b[39;49m\u001b[43m__hiddenVariable\u001b[49m) \u001b[38;5;66;03m# Error\u001b[39;00m\n",
      "\u001b[1;31mAttributeError\u001b[0m: 'MyClass' object has no attribute '__hiddenVariable'"
     ]
    }
   ],
   "source": [
    "# Data Hiding\n",
    "\n",
    "class MyClass:\n",
    "    __hiddenVariable = 0\n",
    "    \n",
    "    def add(self, increment):\n",
    "        self.__hiddenVariable += increment\n",
    "        print (self.__hiddenVariable)\n",
    "\n",
    "myobject = MyClass()\n",
    "myobject.add(2)\n",
    "myobject.add(5)\n",
    "\n",
    "print(myobject.__hiddenVariable) # Error"
   ]
  },
  {
   "cell_type": "markdown",
   "metadata": {},
   "source": [
    "AttributeError: MyClass instance has \n",
    "no attribute '__hiddenVariable' \n",
    "In the above program, we tried to access hidden variable outside the class using object and it threw an exception.\n",
    "We can access the value of hidden attribute by a tricky syntax:\n",
    "objName._ClassName.__HiddenVariable\n",
    "print(myObject._MyClass__hiddenVariable)\n"
   ]
  },
  {
   "cell_type": "code",
   "execution_count": 8,
   "metadata": {},
   "outputs": [
    {
     "name": "stdout",
     "output_type": "stream",
     "text": [
      "7\n"
     ]
    }
   ],
   "source": [
    "print(myobject._MyClass__hiddenVariable)"
   ]
  },
  {
   "cell_type": "code",
   "execution_count": 9,
   "metadata": {},
   "outputs": [
    {
     "name": "stdout",
     "output_type": "stream",
     "text": [
      "From str method of Test: a is 1, b is 2\n",
      "[Test a:1 b:2]\n"
     ]
    }
   ],
   "source": [
    "#Printing Objects\n",
    "class Test:\n",
    "    def __init__(self, a, b):\n",
    "        self.a = a\n",
    "        self.b = b\n",
    "    \n",
    "    def __repr__(self):\n",
    "        return \"Test a:%s b:%s\" % (self.a, self.b)\n",
    "    def __str__(self):\n",
    "        return \"From str method of Test: a is %s, b is %s\" % (self.a, self.b)\n",
    "\n",
    "# Driver Code\n",
    "t = Test(1, 2)\n",
    "print(t)  # Output: Test a:1 b:2   # This calls __str__\n",
    "\n",
    "print([t]) # Output: [Test a:1 b:2] # This calls __repr__"
   ]
  },
  {
   "cell_type": "markdown",
   "metadata": {},
   "source": [
    "Inheritance:\n",
    "\n",
    "One of the major advantages of Object Oriented Programming is re-use. Inheritance is one of the mechanisms to achieve the same. In inheritance, a class (usually called superclass) is inherited by another class (usually called subclass). The subclass adds some attributes to superclass.\n",
    "Below is a sample Python program to show how inheritance is implemented in Python."
   ]
  },
  {
   "cell_type": "code",
   "execution_count": 10,
   "metadata": {},
   "outputs": [
    {
     "name": "stdout",
     "output_type": "stream",
     "text": [
      "Geek1 False\n"
     ]
    }
   ],
   "source": [
    "class Person(object):\n",
    "    def __init__(self, name):\n",
    "        self.name = name\n",
    "    \n",
    "    def getName(self):\n",
    "        return self.name\n",
    "    \n",
    "    def isEmployee(self):\n",
    "        return False\n",
    "    \n",
    "\n",
    "class Employee(Person):\n",
    "    def isEmployee(self):\n",
    "        return True\n",
    "\n",
    "emp = Person(\"Geek1\")  # An Object of Person   \n",
    "print(emp.getName(), emp.isEmployee())"
   ]
  },
  {
   "cell_type": "code",
   "execution_count": 11,
   "metadata": {},
   "outputs": [
    {
     "name": "stdout",
     "output_type": "stream",
     "text": [
      "Geek2 True\n"
     ]
    }
   ],
   "source": [
    "emp = Employee(\"Geek2\") # An Object of Employee\n",
    "print(emp.getName(), emp.isEmployee())"
   ]
  },
  {
   "cell_type": "markdown",
   "metadata": {},
   "source": [
    "How to check if a class is subclass of another?\n",
    "Python provides a function issubclass() that directly tells us if a class is subclass of another class.\n",
    "##### Python example to check if a class is\n",
    "##### subclass of another"
   ]
  },
  {
   "cell_type": "code",
   "execution_count": 23,
   "metadata": {},
   "outputs": [
    {
     "name": "stdout",
     "output_type": "stream",
     "text": [
      "True\n",
      "False\n"
     ]
    }
   ],
   "source": [
    "class Base:\n",
    "    pass\n",
    "\n",
    "class Derived(Base):\n",
    "    pass\n",
    "\n",
    "print(issubclass(Derived, Base))\n",
    "print(issubclass(Base, Derived))"
   ]
  },
  {
   "cell_type": "markdown",
   "metadata": {},
   "source": []
  },
  {
   "cell_type": "code",
   "execution_count": 25,
   "metadata": {},
   "outputs": [
    {
     "name": "stdout",
     "output_type": "stream",
     "text": [
      "False\n"
     ]
    }
   ],
   "source": [
    "d = Derived()\n",
    "b = Base()\n",
    "# b is not an instance of Derived\n",
    "print(isinstance(b, Derived))"
   ]
  },
  {
   "cell_type": "markdown",
   "metadata": {},
   "source": [
    "Does Python support Multiple Inheritance?\n",
    "Unlike Java and like C++, Python supports multiple inheritance. We specify all parent classes as comma separated list in bracket.\n",
    "Python example to show working of multiple \n",
    "Inheritance"
   ]
  },
  {
   "cell_type": "code",
   "execution_count": 12,
   "metadata": {},
   "outputs": [
    {
     "name": "stdout",
     "output_type": "stream",
     "text": [
      "Base1\n",
      "Base2\n",
      "Derived\n",
      "Geek1 Geek2\n"
     ]
    }
   ],
   "source": [
    "class Base1(object):\n",
    "    def __init__(self):\n",
    "        self.str1 = \"Geek1\"\n",
    "        print(\"Base1\")\n",
    "\n",
    "class Base2(object):\n",
    "    def __init__(self):\n",
    "        self.str2 = \"Geek2\"       \n",
    "        print(\"Base2\")\n",
    "\n",
    "class Derived(Base1, Base2):\n",
    "    def __init__(self):\n",
    "        Base1.__init__(self)\n",
    "        Base2.__init__(self)\n",
    "        print(\"Derived\")\n",
    "\n",
    "    def printStrs(self):\n",
    "        print(self.str1, self.str2)\n",
    "\n",
    "    \n",
    "ob = Derived()\n",
    "ob.printStrs()"
   ]
  },
  {
   "cell_type": "code",
   "execution_count": 13,
   "metadata": {},
   "outputs": [
    {
     "name": "stdout",
     "output_type": "stream",
     "text": [
      "Base1\n",
      "Derived\n",
      "1 2\n"
     ]
    }
   ],
   "source": [
    "class Base(object):\n",
    "    def __init__(self):\n",
    "        self.x = 1\n",
    "        print(\"Base1\")\n",
    "    \n",
    "class Derived(Base):\n",
    "    def __init__(self, y):\n",
    "        Base.__init__(self)\n",
    "        self.y = y\n",
    "        print(\"Derived\")\n",
    "    \n",
    "    def printXY(self):\n",
    "        print(self.x, self.y)\n",
    "\n",
    "d = Derived(2)\n",
    "d.printXY()"
   ]
  },
  {
   "cell_type": "code",
   "execution_count": null,
   "metadata": {},
   "outputs": [],
   "source": []
  },
  {
   "cell_type": "code",
   "execution_count": null,
   "metadata": {},
   "outputs": [],
   "source": []
  },
  {
   "cell_type": "code",
   "execution_count": null,
   "metadata": {},
   "outputs": [],
   "source": []
  },
  {
   "cell_type": "code",
   "execution_count": null,
   "metadata": {},
   "outputs": [],
   "source": []
  },
  {
   "cell_type": "code",
   "execution_count": 2,
   "metadata": {},
   "outputs": [
    {
     "name": "stdout",
     "output_type": "stream",
     "text": [
      "2019 Tesla Model S\n",
      "This car has a 75-kWh battery.\n"
     ]
    }
   ],
   "source": [
    "class Car:\n",
    "    def __init__(self, make, model, year):\n",
    "        self.make = make\n",
    "        self.model = model\n",
    "        self.year = year\n",
    "        self.odometer_reading = 0\n",
    "\n",
    "    def get_descriptive_name(self):\n",
    "        long_name = f\"{self.year} {self.make} {self.model}\"\n",
    "        return long_name.title()\n",
    "\n",
    "    def read_odometer(self):\n",
    "        print(f\"This car has {self.odometer_reading} miles on it.\")\n",
    "    \n",
    "    def update_odometer(self, mileage):\n",
    "        if mileage >= self.odometer_reading:\n",
    "            self.odometer_reading = mileage\n",
    "        else:\n",
    "            print(\"You can't roll back an odometer!\")\n",
    "\n",
    "    def increment_odometer(self, miles):\n",
    "        self.odometer_reading += miles\n",
    "\n",
    "\n",
    "class ElectricCar(Car):\n",
    "    def __init__(self, make, model, year):\n",
    "        super().__init__(make, model, year)\n",
    "        self.battery_size = 75\n",
    "\n",
    "    def describe_battery(self):\n",
    "        print(f\"This car has a {self.battery_size}-kWh battery.\")\n",
    "\n",
    "    def fill_gas_tank(self):\n",
    "        print(\"This car doesn't need a gas tank!\")\n",
    "\n",
    "my_tesla = ElectricCar('tesla', 'model s', 2019)\n",
    "print(my_tesla.get_descriptive_name())\n",
    "\n",
    "my_tesla.describe_battery()\n"
   ]
  },
  {
   "cell_type": "code",
   "execution_count": null,
   "metadata": {},
   "outputs": [],
   "source": []
  },
  {
   "cell_type": "code",
   "execution_count": null,
   "metadata": {},
   "outputs": [],
   "source": []
  },
  {
   "cell_type": "code",
   "execution_count": null,
   "metadata": {},
   "outputs": [],
   "source": []
  },
  {
   "cell_type": "code",
   "execution_count": null,
   "metadata": {},
   "outputs": [],
   "source": []
  },
  {
   "cell_type": "code",
   "execution_count": null,
   "metadata": {},
   "outputs": [],
   "source": []
  },
  {
   "cell_type": "code",
   "execution_count": null,
   "metadata": {},
   "outputs": [],
   "source": []
  },
  {
   "cell_type": "code",
   "execution_count": null,
   "metadata": {},
   "outputs": [],
   "source": []
  },
  {
   "cell_type": "code",
   "execution_count": null,
   "metadata": {},
   "outputs": [],
   "source": []
  },
  {
   "cell_type": "code",
   "execution_count": null,
   "metadata": {},
   "outputs": [],
   "source": []
  },
  {
   "cell_type": "code",
   "execution_count": 4,
   "metadata": {},
   "outputs": [
    {
     "name": "stdout",
     "output_type": "stream",
     "text": [
      "2\n",
      "7\n"
     ]
    },
    {
     "ename": "AttributeError",
     "evalue": "'MyClass' object has no attribute '__hiddenVariable'",
     "output_type": "error",
     "traceback": [
      "\u001b[1;31m---------------------------------------------------------------------------\u001b[0m",
      "\u001b[1;31mAttributeError\u001b[0m                            Traceback (most recent call last)",
      "Cell \u001b[1;32mIn[4], line 18\u001b[0m\n\u001b[0;32m     15\u001b[0m myObject\u001b[38;5;241m.\u001b[39madd(\u001b[38;5;241m5\u001b[39m)\n\u001b[0;32m     17\u001b[0m \u001b[38;5;66;03m# This line causes error\u001b[39;00m\n\u001b[1;32m---> 18\u001b[0m \u001b[38;5;28mprint\u001b[39m (\u001b[43mmyObject\u001b[49m\u001b[38;5;241;43m.\u001b[39;49m\u001b[43m__hiddenVariable\u001b[49m)\n",
      "\u001b[1;31mAttributeError\u001b[0m: 'MyClass' object has no attribute '__hiddenVariable'"
     ]
    }
   ],
   "source": [
    "class MyClass:\n",
    " \n",
    "    # Hidden member of MyClass\n",
    "    __hiddenVariable = 0\n",
    "   \n",
    "    # A member method that changes \n",
    "    # __hiddenVariable \n",
    "    def add(self, increment):\n",
    "        self.__hiddenVariable += increment\n",
    "        print (self.__hiddenVariable)\n",
    "  \n",
    "# Driver code\n",
    "myObject = MyClass()     \n",
    "myObject.add(2)\n",
    "myObject.add(5)\n",
    "\n",
    "# This line causes error\n",
    "print (myObject.__hiddenVariable)"
   ]
  },
  {
   "cell_type": "code",
   "execution_count": 5,
   "metadata": {},
   "outputs": [
    {
     "name": "stdout",
     "output_type": "stream",
     "text": [
      "7\n"
     ]
    }
   ],
   "source": [
    "print(myObject._MyClass__hiddenVariable)"
   ]
  },
  {
   "cell_type": "code",
   "execution_count": 35,
   "metadata": {},
   "outputs": [],
   "source": [
    "from dataclasses import dataclass, field\n",
    "from typing import Any, Optional, Dict\n",
    "\n",
    "@dataclass\n",
    "class InstanceManager:\n",
    "    instances: Dict[str, Any] = field(default_factory=dict)\n",
    "\n",
    "    def add_instance(self, key: str, obj:Any) -> None:\n",
    "        self.instances[key] = obj\n",
    "\n",
    "    def get_instance(self, key: str) -> Optional[Any]:\n",
    "        return self.instances.get(key)\n",
    "    \n",
    "    def update_instance(self, key: str, obj: Any) -> None:\n",
    "        if key in self.instances:\n",
    "            self.instances[key] = obj\n",
    "    \n",
    "    def remove_instance(self, key: str) -> None:\n",
    "        if key in self.instances:\n",
    "            del self.instances[key]\n",
    "\n",
    "    def clear_instances(self) -> None:\n",
    "        \"\"\"Removes all stored objects.\"\"\"\n",
    "        self.instances.clear()\n"
   ]
  },
  {
   "cell_type": "code",
   "execution_count": 36,
   "metadata": {},
   "outputs": [],
   "source": [
    "class MyClass:\n",
    "    def __init__(self, name):\n",
    "        self.name = name\n",
    "\n",
    "    def __repr__(self):\n",
    "        return f\"MyClass({self.name})\"\n",
    "\n"
   ]
  },
  {
   "cell_type": "code",
   "execution_count": 37,
   "metadata": {},
   "outputs": [
    {
     "name": "stdout",
     "output_type": "stream",
     "text": [
      "MyClass(Prakash)\n",
      "Prakash is 30 years old\n"
     ]
    }
   ],
   "source": [
    "mObj = MyClass(\"Prakash\")\n",
    "obj1 = MyClass(\"Object 1\")\n",
    "obj2 = MyClass(\"Object 2\")\n",
    "\n",
    "\n",
    "print(mObj)\n",
    "setattr(mObj, \"age\", 30)\n",
    "print(f\"{mObj.name} is {mObj.age} years old\")"
   ]
  },
  {
   "cell_type": "code",
   "execution_count": 38,
   "metadata": {},
   "outputs": [
    {
     "name": "stdout",
     "output_type": "stream",
     "text": [
      "Prakash is 32 years old\n"
     ]
    }
   ],
   "source": [
    "mObj.age =32\n",
    "print(f\"{mObj.name} is {mObj.age} years old\")"
   ]
  },
  {
   "cell_type": "code",
   "execution_count": 39,
   "metadata": {},
   "outputs": [],
   "source": [
    "# Create an InstanceManager to store instances of MyClass\n",
    "manager = InstanceManager()\n",
    "\n",
    "# Add instances to the manager\n",
    "manager.add_instance(\"prak\", mObj)\n",
    "manager.add_instance(\"key1\", obj1)\n",
    "manager.add_instance(\"key2\", obj2)"
   ]
  },
  {
   "cell_type": "code",
   "execution_count": 40,
   "metadata": {},
   "outputs": [
    {
     "data": {
      "text/plain": [
       "MyClass(Object 1)"
      ]
     },
     "execution_count": 40,
     "metadata": {},
     "output_type": "execute_result"
    }
   ],
   "source": [
    "retrieved_obj = manager.get_instance(\"key1\")\n",
    "retrieved_obj"
   ]
  },
  {
   "cell_type": "code",
   "execution_count": 41,
   "metadata": {},
   "outputs": [
    {
     "data": {
      "text/plain": [
       "32"
      ]
     },
     "execution_count": 41,
     "metadata": {},
     "output_type": "execute_result"
    }
   ],
   "source": [
    "retrieved_obj = manager.get_instance(\"prak\")\n",
    "retrieved_obj.age"
   ]
  },
  {
   "cell_type": "code",
   "execution_count": 42,
   "metadata": {},
   "outputs": [
    {
     "data": {
      "text/plain": [
       "{'prak': MyClass(Prakash),\n",
       " 'key1': MyClass(Object 1),\n",
       " 'key2': MyClass(Object 2)}"
      ]
     },
     "execution_count": 42,
     "metadata": {},
     "output_type": "execute_result"
    }
   ],
   "source": [
    "manager.instances"
   ]
  },
  {
   "cell_type": "code",
   "execution_count": 43,
   "metadata": {},
   "outputs": [],
   "source": [
    "# Update an existing instance\n",
    "updated_obj = MyClass(\"Updated Prak Object \")\n",
    "manager.update_instance(\"prak\", updated_obj)"
   ]
  },
  {
   "cell_type": "code",
   "execution_count": 49,
   "metadata": {},
   "outputs": [
    {
     "name": "stdout",
     "output_type": "stream",
     "text": [
      "Updated Prak Object  is 30 years old\n"
     ]
    }
   ],
   "source": [
    "m = manager.get_instance(\"prak\")\n",
    "m.name\n",
    "setattr(m, \"age\", 30)\n",
    "print(f\"{m.name} is {m.age} years old\")"
   ]
  },
  {
   "cell_type": "code",
   "execution_count": 50,
   "metadata": {},
   "outputs": [],
   "source": [
    "# Remove an instance\n",
    "manager.remove_instance(\"key2\")"
   ]
  },
  {
   "cell_type": "code",
   "execution_count": 51,
   "metadata": {},
   "outputs": [
    {
     "name": "stdout",
     "output_type": "stream",
     "text": [
      "Removed object: None\n"
     ]
    }
   ],
   "source": [
    "# Try retrieving the removed instance (it will return None)\n",
    "removed_obj = manager.get_instance(\"key2\")\n",
    "print(f\"Removed object: {removed_obj}\")  # Output: None"
   ]
  },
  {
   "cell_type": "code",
   "execution_count": 52,
   "metadata": {},
   "outputs": [],
   "source": [
    "# Clear all instances\n",
    "manager.clear_instances()\n"
   ]
  },
  {
   "cell_type": "code",
   "execution_count": 53,
   "metadata": {},
   "outputs": [
    {
     "data": {
      "text/plain": [
       "{}"
      ]
     },
     "execution_count": 53,
     "metadata": {},
     "output_type": "execute_result"
    }
   ],
   "source": [
    "manager.instances"
   ]
  },
  {
   "cell_type": "code",
   "execution_count": 26,
   "metadata": {},
   "outputs": [
    {
     "name": "stdout",
     "output_type": "stream",
     "text": [
      "{'cucp': True, 'cuup': False, 'du': False}\n"
     ]
    }
   ],
   "source": [
    "component_bringup = {\"cucp\": True, \"cuup\": False, \"du\": False}             \n",
    "print(component_bringup)"
   ]
  },
  {
   "cell_type": "code",
   "execution_count": 27,
   "metadata": {},
   "outputs": [
    {
     "data": {
      "text/plain": [
       "dict_keys(['cucp', 'cuup', 'du'])"
      ]
     },
     "execution_count": 27,
     "metadata": {},
     "output_type": "execute_result"
    }
   ],
   "source": [
    "component_bringup.keys()"
   ]
  },
  {
   "cell_type": "code",
   "execution_count": 28,
   "metadata": {},
   "outputs": [
    {
     "data": {
      "text/plain": [
       "dict_values([True, False, False])"
      ]
     },
     "execution_count": 28,
     "metadata": {},
     "output_type": "execute_result"
    }
   ],
   "source": [
    "component_bringup.values()"
   ]
  },
  {
   "cell_type": "code",
   "execution_count": null,
   "metadata": {},
   "outputs": [],
   "source": []
  }
 ],
 "metadata": {
  "kernelspec": {
   "display_name": "envML",
   "language": "python",
   "name": "python3"
  },
  "language_info": {
   "codemirror_mode": {
    "name": "ipython",
    "version": 3
   },
   "file_extension": ".py",
   "mimetype": "text/x-python",
   "name": "python",
   "nbconvert_exporter": "python",
   "pygments_lexer": "ipython3",
   "version": "undefined.undefined.undefined"
  }
 },
 "nbformat": 4,
 "nbformat_minor": 2
}
