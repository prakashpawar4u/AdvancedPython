{
 "cells": [
  {
   "cell_type": "code",
   "execution_count": null,
   "metadata": {},
   "outputs": [],
   "source": [
    "l = [2, 22,22, 33,44,44,5]\n",
    "i = j = 0 \n",
    "while (i < len(a), j < len(b)):"
   ]
  },
  {
   "cell_type": "code",
   "execution_count": 3,
   "metadata": {},
   "outputs": [
    {
     "name": "stdout",
     "output_type": "stream",
     "text": [
      "2 22 33 44 5 "
     ]
    }
   ],
   "source": [
    "l = [2, 22,22, 33,44,44,5]\n",
    "\n",
    "for i in range(len(l)):\n",
    "    if i==0 or l[i] != l[i-1]:\n",
    "        print(l[i], end=\" \")"
   ]
  },
  {
   "cell_type": "code",
   "execution_count": 18,
   "metadata": {},
   "outputs": [
    {
     "name": "stdout",
     "output_type": "stream",
     "text": [
      "[1, 2, 4, 5, 5, 6, 7, 7, 33]\n"
     ]
    }
   ],
   "source": [
    "def mergeList(a,b):\n",
    "    res = []\n",
    "    m = len(a)\n",
    "    n = len(b)\n",
    "    i,j = 0, 0\n",
    "    while i<m and j<n:\n",
    "        if a[i]<b[j]:\n",
    "            res.append(a[i])\n",
    "            i = i+1\n",
    "        else:\n",
    "            res.append(b[j])\n",
    "            j = j+1\n",
    "    \n",
    "    while i < m:\n",
    "        res.append(a[i])\n",
    "        i = i + 1\n",
    "    while j < n:\n",
    "        res.append(b[j])\n",
    "        j = j + 1\n",
    "\n",
    "    return res        \n",
    "   \n",
    "\n",
    "\n",
    "l1 = [1,2,5,33]\n",
    "l2 = [4,5,6,7,7]\n",
    "finaList = mergeList(l1,l2)\n",
    "print(finaList)\n"
   ]
  },
  {
   "cell_type": "code",
   "execution_count": null,
   "metadata": {},
   "outputs": [],
   "source": []
  },
  {
   "cell_type": "code",
   "execution_count": 19,
   "metadata": {},
   "outputs": [],
   "source": [
    "def mergeSubarray(a, low, mid, high):\n",
    "    left = a[low:mid + 1]\n",
    "    right = a[mid + 1:high + 1]\n",
    "\n",
    "    i = j = 0\n",
    "    k = low\n",
    "\n",
    "    while i < len(left) and j < len(right):\n",
    "\n",
    "        if left[i] < right[j]:\n",
    "            a[k] = left[i]\n",
    "\n",
    "            k += 1\n",
    "            i += 1\n",
    "        else:\n",
    "            a[k] = right[j]\n",
    "            k += 1\n",
    "            j += 1\n",
    "\n",
    "    while i < len(left):\n",
    "        a[k] = left[i]\n",
    "        i += 1\n",
    "        k += 1\n",
    "\n",
    "    while j < len(right):\n",
    "        a[k] = right[j]\n",
    "        j += 1\n",
    "        k += 1\n",
    "\n",
    "\n",
    "a = [10, 15, 20, 40, 8, 11, 55]\n",
    "\n",
    "mergeSubarray(a, 0, 3, 6)\n",
    "\n",
    "print(*a)\n"
   ]
  },
  {
   "cell_type": "code",
   "execution_count": 1,
   "metadata": {},
   "outputs": [
    {
     "name": "stdout",
     "output_type": "stream",
     "text": [
      "10 5 30 15 7\n"
     ]
    }
   ],
   "source": [
    "def merge(a, low, mid, high):\n",
    "    left = a[low:mid + 1]\n",
    "    right = a[mid + 1:high + 1]\n",
    "\n",
    "    i = j = 0\n",
    "    k = low\n",
    "\n",
    "    while i < len(left) and j < len(right):\n",
    "\n",
    "        if left[i] < right[j]:\n",
    "            a[k] = left[i]\n",
    "\n",
    "            k += 1\n",
    "            i += 1\n",
    "        else:\n",
    "            a[k] = right[j]\n",
    "            k += 1\n",
    "            j += 1\n",
    "\n",
    "    while i < len(left):\n",
    "        a[k] = left[i]\n",
    "        i += 1\n",
    "        k += 1\n",
    "\n",
    "    while j < len(right):\n",
    "        a[k] = right[j]\n",
    "        j += 1\n",
    "        k += 1\n",
    "\n",
    "\n",
    "def mergeSort(arr, l, r):\n",
    "    if r > l:\n",
    "        m = (r + l) // 2\n",
    "        mergeSort(arr, l, m)\n",
    "        mergeSort(arr, m + 1, r)\n",
    "        merge(arr, l, m, r)\n",
    "\n",
    "\n",
    "arr = [10, 5, 30, 15, 7]\n",
    "\n",
    "mergeSort(arr, 0, 4)\n",
    "print(*arr)\n"
   ]
  },
  {
   "cell_type": "code",
   "execution_count": 10,
   "metadata": {},
   "outputs": [],
   "source": [
    "\n",
    "def merge(a, l, m, r):\n",
    "    left = a[l: m + 1]\n",
    "    right = a[m+1 : r+1]\n",
    "    # print(f\"left {left}\")\n",
    "    # print(f\"right {right}\")\n",
    "\n",
    "    i = j = 0 \n",
    "    k = l\n",
    "    while i < len(left) and j < len(right):\n",
    "        if left[i] < right[j]:\n",
    "            a[k] = left[i]\n",
    "\n",
    "            k += 1\n",
    "            i += 1\n",
    "\n",
    "        else: \n",
    "            a[k]=right[j]\n",
    "            k +=1\n",
    "            j +=1\n",
    "\n",
    "    while i < len(left):\n",
    "        a[k] = left[i]\n",
    "        i += 1\n",
    "        j += 1\n",
    "\n",
    "    while j < len(right):\n",
    "        a[k] = right[j]\n",
    "        j += 1\n",
    "        k += 1\n",
    "\n",
    "\n",
    "def mergeSort(arr, l, r):\n",
    "    if r > l:\n",
    "        m = (r + l) // 2\n",
    "        mergeSort(arr, l, m)\n",
    "        mergeSort(arr, m + 1, r)\n",
    "        merge(arr, l, m, r)\n",
    " \n",
    "\n",
    "arr = [10, 5, 30, 15, 7]\n",
    "mergeSort(arr,0, 4)\n"
   ]
  },
  {
   "cell_type": "code",
   "execution_count": 20,
   "metadata": {},
   "outputs": [
    {
     "name": "stdout",
     "output_type": "stream",
     "text": [
      "[3, 5, 8, 2, 8, 9, 10, 15]\n",
      "2 3 5 8 9 10 15 "
     ]
    }
   ],
   "source": [
    "a = [3,5,8]\n",
    "b = [2,8,9,10,15]\n",
    "\n",
    "c = a + b\n",
    "print(c)\n",
    "\n",
    "c.sort()\n",
    "\n",
    "for i in range(0,len(c)):\n",
    "    if (i==0 or c[i] != c[i-1]):\n",
    "        print(c[i], end=\" \")\n",
    "    # if c[i]==c[i+1]:\n",
    "    #      continue\n",
    "    # else:\n",
    "    #     print(c[i-1])"
   ]
  },
  {
   "cell_type": "markdown",
   "metadata": {},
   "source": []
  },
  {
   "cell_type": "code",
   "execution_count": null,
   "metadata": {},
   "outputs": [],
   "source": [
    "def isPalindrome(x: int) -> bool:\n",
    "    if x < 0 or (x % 10 == 0 and x != 0 ):\n",
    "        return False\n",
    "    reversed_half = 0 \n",
    "    \n",
    "    while x > reversed_half:\n",
    "        reversed_half = reversed_half * 10 + x % 10\n",
    "        x //=10\n",
    "\n",
    "    return x == reversed_half or x == reversed_half // 10"
   ]
  },
  {
   "cell_type": "code",
   "execution_count": 5,
   "metadata": {},
   "outputs": [
    {
     "name": "stdout",
     "output_type": "stream",
     "text": [
      "key 40 is in right side \n",
      "key 40 is in left side \n",
      "3\n"
     ]
    }
   ],
   "source": [
    "def binSearch(l, key):\n",
    "    low = 0\n",
    "    high = len(l)-1\n",
    "\n",
    "    while low <=high:\n",
    "        mid = (low+high)//2\n",
    "        if l[mid]==key:\n",
    "            return mid\n",
    "        elif l[mid]<key:\n",
    "            low = mid + 1\n",
    "            print(f\"key {key} is in right side \")\n",
    "        else:\n",
    "            high = mid - 1\n",
    "            print(f\"key {key} is in left side \")\n",
    "    return -1\n",
    "\n",
    "\n",
    "l = [10,20,30,40,50,60]\n",
    "print(binSearch(l, key=40))"
   ]
  },
  {
   "cell_type": "code",
   "execution_count": 9,
   "metadata": {},
   "outputs": [
    {
     "name": "stdout",
     "output_type": "stream",
     "text": [
      "5 4 3 "
     ]
    },
    {
     "data": {
      "text/plain": [
       "3"
      ]
     },
     "execution_count": 9,
     "metadata": {},
     "output_type": "execute_result"
    }
   ],
   "source": [
    "def lastOccur(l,x):\n",
    "\n",
    "    for i in reversed(range(len(l))):\n",
    "        print(i, end=\" \")\n",
    "\n",
    "        if l[i]==x:\n",
    "            return i\n",
    "    return -1\n",
    "\n",
    "l = [10,15,20,20,40,40]\n",
    "lastOccur(l, 20)"
   ]
  },
  {
   "cell_type": "code",
   "execution_count": 14,
   "metadata": {},
   "outputs": [
    {
     "name": "stdout",
     "output_type": "stream",
     "text": [
      "4\n"
     ]
    }
   ],
   "source": [
    "def lastOccurence(l, x):\n",
    "    low = 0\n",
    "    high = len(l)-1\n",
    "\n",
    "    while low <= high:\n",
    "        mid = (low+high)//2\n",
    "\n",
    "        if l[mid] < x:\n",
    "            low = mid + 1\n",
    "        \n",
    "        elif l[mid] > x:\n",
    "            high = mid -1\n",
    "        \n",
    "        else:\n",
    "            if mid == len(l) -1 or l[mid] != l[mid+1]:\n",
    "                return mid\n",
    "            else:\n",
    "                low = mid +1\n",
    "    return -1\n",
    "\n",
    "l = [5, 10, 10, 10, 10, 20, 20]\n",
    "\n",
    "print(lastOccurence(l, 10))"
   ]
  },
  {
   "cell_type": "code",
   "execution_count": null,
   "metadata": {},
   "outputs": [],
   "source": []
  }
 ],
 "metadata": {
  "kernelspec": {
   "display_name": "Python 3",
   "language": "python",
   "name": "python3"
  },
  "language_info": {
   "codemirror_mode": {
    "name": "ipython",
    "version": 3
   },
   "file_extension": ".py",
   "mimetype": "text/x-python",
   "name": "python",
   "nbconvert_exporter": "python",
   "pygments_lexer": "ipython3",
   "version": "3.11.2"
  },
  "orig_nbformat": 4
 },
 "nbformat": 4,
 "nbformat_minor": 2
}
