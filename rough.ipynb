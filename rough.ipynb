{
 "cells": [
  {
   "cell_type": "code",
   "execution_count": 1,
   "metadata": {},
   "outputs": [],
   "source": [
    "a = [10,15,20,40,8,11] \n",
    "low = 0\n",
    "high = len(a)\n",
    "\n",
    "mid = (low + high) //2\n",
    "\n",
    "left = a[low:mid + 1]\n",
    "right = a[mid + 1:high + 1]"
   ]
  },
  {
   "cell_type": "code",
   "execution_count": 7,
   "metadata": {},
   "outputs": [
    {
     "name": "stdout",
     "output_type": "stream",
     "text": [
      "0 3 6\n",
      "[10, 15, 20, 40] [8, 11]\n",
      "[10, 15, 20, 40, 8, 11]\n",
      "[10, 15, 20, 40]\n",
      "[8, 11]\n"
     ]
    }
   ],
   "source": [
    "print(low, mid, high)\n",
    "print(left, right)\n",
    "print(a)\n",
    "print(a[low:mid+1])\n",
    "print(a[mid+1:high+1])"
   ]
  },
  {
   "cell_type": "code",
   "execution_count": 8,
   "metadata": {},
   "outputs": [
    {
     "name": "stdout",
     "output_type": "stream",
     "text": [
      "[10, 15, 20]\n",
      "[40, 8, 11]\n"
     ]
    }
   ],
   "source": [
    "print(a[:mid])\n",
    "print(a[mid:])"
   ]
  },
  {
   "cell_type": "code",
   "execution_count": 9,
   "metadata": {},
   "outputs": [
    {
     "name": "stdout",
     "output_type": "stream",
     "text": [
      "Sorted array: [3, 9, 10, 27, 38, 43, 82]\n"
     ]
    }
   ],
   "source": [
    "def merge_sort(arr):\n",
    "    # Base case: if the array has 1 or 0 elements, it's already sorted\n",
    "    if len(arr) <= 1:\n",
    "        return arr\n",
    "    \n",
    "    # Divide the array into two halves\n",
    "    mid = len(arr) // 2\n",
    "    left_half = arr[:mid]  # Left half of the array\n",
    "    right_half = arr[mid:]  # Right half of the array\n",
    "    \n",
    "    # Recursively sort both halves\n",
    "    left_half = merge_sort(left_half)\n",
    "    right_half = merge_sort(right_half)\n",
    "    \n",
    "    # Merge the sorted halves\n",
    "    return merge(left_half, right_half)\n",
    "\n",
    "def merge(left, right):\n",
    "    sorted_array = []  # Resultant sorted array\n",
    "    i = j = 0  # Pointers for left and right arrays\n",
    "    \n",
    "    # Merge the two arrays by comparing elements\n",
    "    while i < len(left) and j < len(right):\n",
    "        if left[i] < right[j]:\n",
    "            sorted_array.append(left[i])\n",
    "            i += 1\n",
    "        else:\n",
    "            sorted_array.append(right[j])\n",
    "            j += 1\n",
    "    \n",
    "    # Append any remaining elements from left or right\n",
    "    sorted_array.extend(left[i:])\n",
    "    sorted_array.extend(right[j:])\n",
    "    \n",
    "    return sorted_array\n",
    "\n",
    "# Example usage\n",
    "arr = [38, 27, 43, 3, 9, 82, 10]\n",
    "sorted_arr = merge_sort(arr)\n",
    "print(\"Sorted array:\", sorted_arr)"
   ]
  },
  {
   "cell_type": "code",
   "execution_count": 3,
   "metadata": {},
   "outputs": [
    {
     "name": "stdout",
     "output_type": "stream",
     "text": [
      "2 22 33 44 5 "
     ]
    }
   ],
   "source": [
    "l = [2, 22,22, 33,44,44,5]\n",
    "\n",
    "for i in range(len(l)):\n",
    "    if i==0 or l[i] != l[i-1]:\n",
    "        print(l[i], end=\" \")"
   ]
  },
  {
   "cell_type": "code",
   "execution_count": null,
   "metadata": {},
   "outputs": [
    {
     "data": {
      "text/plain": [
       "9"
      ]
     },
     "execution_count": 2,
     "metadata": {},
     "output_type": "execute_result"
    }
   ],
   "source": []
  },
  {
   "cell_type": "code",
   "execution_count": 18,
   "metadata": {},
   "outputs": [
    {
     "name": "stdout",
     "output_type": "stream",
     "text": [
      "[1, 2, 4, 5, 5, 6, 7, 7, 33]\n"
     ]
    }
   ],
   "source": [
    "def mergeList(a,b):\n",
    "    res = []\n",
    "    m = len(a)\n",
    "    n = len(b)\n",
    "    i,j = 0, 0\n",
    "    while i<m and j<n:\n",
    "        if a[i]<b[j]:\n",
    "            res.append(a[i])\n",
    "            i = i+1\n",
    "        else:\n",
    "            res.append(b[j])\n",
    "            j = j+1\n",
    "    \n",
    "    while i < m:\n",
    "        res.append(a[i])\n",
    "        i = i + 1\n",
    "    while j < n:\n",
    "        res.append(b[j])\n",
    "        j = j + 1\n",
    "\n",
    "    return res        \n",
    "   \n",
    "\n",
    "\n",
    "l1 = [1,2,5,33]\n",
    "l2 = [4,5,6,7,7]\n",
    "finaList = mergeList(l1,l2)\n",
    "print(finaList)\n"
   ]
  },
  {
   "cell_type": "code",
   "execution_count": null,
   "metadata": {},
   "outputs": [],
   "source": []
  },
  {
   "cell_type": "code",
   "execution_count": 19,
   "metadata": {},
   "outputs": [],
   "source": [
    "def mergeSubarray(a, low, mid, high):\n",
    "    left = a[low:mid + 1]\n",
    "    right = a[mid + 1:high + 1]\n",
    "\n",
    "    i = j = 0\n",
    "    k = low\n",
    "\n",
    "    while i < len(left) and j < len(right):\n",
    "\n",
    "        if left[i] < right[j]:\n",
    "            a[k] = left[i]\n",
    "\n",
    "            k += 1\n",
    "            i += 1\n",
    "        else:\n",
    "            a[k] = right[j]\n",
    "            k += 1\n",
    "            j += 1\n",
    "\n",
    "    while i < len(left):\n",
    "        a[k] = left[i]\n",
    "        i += 1\n",
    "        k += 1\n",
    "\n",
    "    while j < len(right):\n",
    "        a[k] = right[j]\n",
    "        j += 1\n",
    "        k += 1\n",
    "\n",
    "\n",
    "a = [10, 15, 20, 40, 8, 11, 55]\n",
    "\n",
    "mergeSubarray(a, 0, 3, 6)\n",
    "\n",
    "print(*a)\n"
   ]
  },
  {
   "cell_type": "code",
   "execution_count": 1,
   "metadata": {},
   "outputs": [
    {
     "name": "stdout",
     "output_type": "stream",
     "text": [
      "10 5 30 15 7\n"
     ]
    }
   ],
   "source": [
    "def merge(a, low, mid, high):\n",
    "    left = a[low:mid + 1]\n",
    "    right = a[mid + 1:high + 1]\n",
    "\n",
    "    i = j = 0\n",
    "    k = low\n",
    "\n",
    "    while i < len(left) and j < len(right):\n",
    "\n",
    "        if left[i] < right[j]:\n",
    "            a[k] = left[i]\n",
    "\n",
    "            k += 1\n",
    "            i += 1\n",
    "        else:\n",
    "            a[k] = right[j]\n",
    "            k += 1\n",
    "            j += 1\n",
    "\n",
    "    while i < len(left):\n",
    "        a[k] = left[i]\n",
    "        i += 1\n",
    "        k += 1\n",
    "\n",
    "    while j < len(right):\n",
    "        a[k] = right[j]\n",
    "        j += 1\n",
    "        k += 1\n",
    "\n",
    "\n",
    "def mergeSort(arr, l, r):\n",
    "    if r > l:\n",
    "        m = (r + l) // 2\n",
    "        mergeSort(arr, l, m)\n",
    "        mergeSort(arr, m + 1, r)\n",
    "        merge(arr, l, m, r)\n",
    "\n",
    "\n",
    "arr = [10, 5, 30, 15, 7]\n",
    "\n",
    "mergeSort(arr, 0, 4)\n",
    "print(*arr)\n"
   ]
  },
  {
   "cell_type": "code",
   "execution_count": 10,
   "metadata": {},
   "outputs": [],
   "source": [
    "\n",
    "def merge(a, l, m, r):\n",
    "    left = a[l: m + 1]\n",
    "    right = a[m+1 : r+1]\n",
    "    # print(f\"left {left}\")\n",
    "    # print(f\"right {right}\")\n",
    "\n",
    "    i = j = 0 \n",
    "    k = l\n",
    "    while i < len(left) and j < len(right):\n",
    "        if left[i] < right[j]:\n",
    "            a[k] = left[i]\n",
    "\n",
    "            k += 1\n",
    "            i += 1\n",
    "\n",
    "        else: \n",
    "            a[k]=right[j]\n",
    "            k +=1\n",
    "            j +=1\n",
    "\n",
    "    while i < len(left):\n",
    "        a[k] = left[i]\n",
    "        i += 1\n",
    "        j += 1\n",
    "\n",
    "    while j < len(right):\n",
    "        a[k] = right[j]\n",
    "        j += 1\n",
    "        k += 1\n",
    "\n",
    "\n",
    "def mergeSort(arr, l, r):\n",
    "    if r > l:\n",
    "        m = (r + l) // 2\n",
    "        mergeSort(arr, l, m)\n",
    "        mergeSort(arr, m + 1, r)\n",
    "        merge(arr, l, m, r)\n",
    " \n",
    "\n",
    "arr = [10, 5, 30, 15, 7]\n",
    "mergeSort(arr,0, 4)\n"
   ]
  },
  {
   "cell_type": "code",
   "execution_count": 20,
   "metadata": {},
   "outputs": [
    {
     "name": "stdout",
     "output_type": "stream",
     "text": [
      "[3, 5, 8, 2, 8, 9, 10, 15]\n",
      "2 3 5 8 9 10 15 "
     ]
    }
   ],
   "source": [
    "a = [3,5,8]\n",
    "b = [2,8,9,10,15]\n",
    "\n",
    "c = a + b\n",
    "print(c)\n",
    "\n",
    "c.sort()\n",
    "\n",
    "for i in range(0,len(c)):\n",
    "    if (i==0 or c[i] != c[i-1]):\n",
    "        print(c[i], end=\" \")\n",
    "    # if c[i]==c[i+1]:\n",
    "    #      continue\n",
    "    # else:\n",
    "    #     print(c[i-1])"
   ]
  },
  {
   "cell_type": "markdown",
   "metadata": {},
   "source": []
  },
  {
   "cell_type": "code",
   "execution_count": null,
   "metadata": {},
   "outputs": [],
   "source": [
    "def isPalindrome(x: int) -> bool:\n",
    "    if x < 0 or (x % 10 == 0 and x != 0 ):\n",
    "        return False\n",
    "    reversed_half = 0 \n",
    "    \n",
    "    while x > reversed_half:\n",
    "        reversed_half = reversed_half * 10 + x % 10\n",
    "        x //=10\n",
    "\n",
    "    return x == reversed_half or x == reversed_half // 10"
   ]
  },
  {
   "cell_type": "code",
   "execution_count": 5,
   "metadata": {},
   "outputs": [
    {
     "name": "stdout",
     "output_type": "stream",
     "text": [
      "key 40 is in right side \n",
      "key 40 is in left side \n",
      "3\n"
     ]
    }
   ],
   "source": [
    "def binSearch(l, key):\n",
    "    low = 0\n",
    "    high = len(l)-1\n",
    "\n",
    "    while low <=high:\n",
    "        mid = (low+high)//2\n",
    "        if l[mid]==key:\n",
    "            return mid\n",
    "        elif l[mid]<key:\n",
    "            low = mid + 1\n",
    "            print(f\"key {key} is in right side \")\n",
    "        else:\n",
    "            high = mid - 1\n",
    "            print(f\"key {key} is in left side \")\n",
    "    return -1\n",
    "\n",
    "\n",
    "l = [10,20,30,40,50,60]\n",
    "print(binSearch(l, key=40))"
   ]
  },
  {
   "cell_type": "code",
   "execution_count": 9,
   "metadata": {},
   "outputs": [
    {
     "name": "stdout",
     "output_type": "stream",
     "text": [
      "5 4 3 "
     ]
    },
    {
     "data": {
      "text/plain": [
       "3"
      ]
     },
     "execution_count": 9,
     "metadata": {},
     "output_type": "execute_result"
    }
   ],
   "source": [
    "def lastOccur(l,x):\n",
    "\n",
    "    for i in reversed(range(len(l))):\n",
    "        print(i, end=\" \")\n",
    "\n",
    "        if l[i]==x:\n",
    "            return i\n",
    "    return -1\n",
    "\n",
    "l = [10,15,20,20,40,40]\n",
    "lastOccur(l, 20)"
   ]
  },
  {
   "cell_type": "code",
   "execution_count": 14,
   "metadata": {},
   "outputs": [
    {
     "name": "stdout",
     "output_type": "stream",
     "text": [
      "4\n"
     ]
    }
   ],
   "source": [
    "def lastOccurence(l, x):\n",
    "    low = 0\n",
    "    high = len(l)-1\n",
    "\n",
    "    while low <= high:\n",
    "        mid = (low+high)//2\n",
    "\n",
    "        if l[mid] < x:\n",
    "            low = mid + 1\n",
    "        \n",
    "        elif l[mid] > x:\n",
    "            high = mid -1\n",
    "        \n",
    "        else:\n",
    "            if mid == len(l) -1 or l[mid] != l[mid+1]:\n",
    "                return mid\n",
    "            else:\n",
    "                low = mid +1\n",
    "    return -1\n",
    "\n",
    "l = [5, 10, 10, 10, 10, 20, 20]\n",
    "\n",
    "print(lastOccurence(l, 10))"
   ]
  },
  {
   "cell_type": "code",
   "execution_count": 3,
   "metadata": {},
   "outputs": [
    {
     "data": {
      "text/plain": [
       "9"
      ]
     },
     "execution_count": 3,
     "metadata": {},
     "output_type": "execute_result"
    }
   ],
   "source": [
    "mx = lambda x, y: x if x > y else y\n",
    "mx(9,4)"
   ]
  },
  {
   "cell_type": "code",
   "execution_count": 6,
   "metadata": {},
   "outputs": [
    {
     "data": {
      "text/plain": [
       "[1, 4, 9, 16, 25, 36]"
      ]
     },
     "execution_count": 6,
     "metadata": {},
     "output_type": "execute_result"
    }
   ],
   "source": [
    "items = [1,2,3,4,5,6]\n",
    "list(map(lambda x: x**2, items))"
   ]
  },
  {
   "cell_type": "code",
   "execution_count": 9,
   "metadata": {},
   "outputs": [
    {
     "name": "stdout",
     "output_type": "stream",
     "text": [
      "['this', 'is', 'the', 'input', 'String,', 'In', 'this', 'string', 'words', 'should', 'start', 'with', 's']\n"
     ]
    },
    {
     "data": {
      "text/plain": [
       "5"
      ]
     },
     "execution_count": 9,
     "metadata": {},
     "output_type": "execute_result"
    }
   ],
   "source": [
    "inp = \"this is the input String, In this string words should start with s\"\n",
    "l = inp.split(' ')\n",
    "print(l)\n",
    "\n",
    "count_word= list(map(lambda x: x[0]==\"s\" or x[0]==\"S\", l)).count(True)\n",
    "count_word"
   ]
  },
  {
   "cell_type": "code",
   "execution_count": 2,
   "metadata": {},
   "outputs": [
    {
     "data": {
      "text/plain": [
       "'abcd'"
      ]
     },
     "execution_count": 2,
     "metadata": {},
     "output_type": "execute_result"
    }
   ],
   "source": [
    "# Join & Split\n",
    "a=[\"a\",\"b\",\"c\",\"d\"]\n",
    "st = \"\".join(a)\n",
    "st"
   ]
  },
  {
   "cell_type": "code",
   "execution_count": 3,
   "metadata": {},
   "outputs": [
    {
     "name": "stdout",
     "output_type": "stream",
     "text": [
      "['this', 'is', 'my,', 'fight', 'song']\n"
     ]
    }
   ],
   "source": [
    "#Split:\n",
    "str1=\"this is my, fight song\"\n",
    "print(str1.split(\" \"))"
   ]
  },
  {
   "cell_type": "code",
   "execution_count": 4,
   "metadata": {},
   "outputs": [
    {
     "name": "stdout",
     "output_type": "stream",
     "text": [
      "this is string example....wow!!!0000000\n",
      "0000000this is string example....wow!!!\n",
      "this is string example....wow!!!\n"
     ]
    }
   ],
   "source": [
    "#STRIP:\n",
    "str = \"0000000this is string example....wow!!!0000000\";\n",
    "print(str.lstrip('0')) # left strip\n",
    "\n",
    "print(str.rstrip('0')) # right strip\n",
    "\n",
    "print(str.strip('0'))  # removes completely"
   ]
  },
  {
   "cell_type": "code",
   "execution_count": 9,
   "metadata": {},
   "outputs": [
    {
     "name": "stdout",
     "output_type": "stream",
     "text": [
      "['1', '3', '4', '5', '2']\n",
      "['1', '3', '5', '2']\n",
      "['1', '5', '2']\n"
     ]
    }
   ],
   "source": [
    "l = ['1', '2', '3', '4', '5','2']\n",
    "l.remove('2')\n",
    "print(l)\n",
    "del l[2]\n",
    "print(l)\n",
    "l.pop(1)\n",
    "print(l)\n"
   ]
  },
  {
   "cell_type": "code",
   "execution_count": 11,
   "metadata": {},
   "outputs": [],
   "source": [
    "#Write Content\n",
    "fp = open(\"f1.txt\",'w')\n",
    "L = [\"This is Delhi \\n\", \"This is Paris \\n\", \"This is London \\n\"]\n",
    "s = \"Hello\\n\"\n",
    "\n",
    "# Writing a string to file\n",
    "fp.write(s)\n",
    "fp.writelines(L)\n",
    "fp.close()"
   ]
  },
  {
   "cell_type": "code",
   "execution_count": 12,
   "metadata": {},
   "outputs": [
    {
     "name": "stdout",
     "output_type": "stream",
     "text": [
      "Read Content::  Hello\n",
      "This is Delhi \n",
      "This is Paris \n",
      "This is London \n",
      "\n"
     ]
    }
   ],
   "source": [
    "# Read Content\n",
    "fp = open(\"f1.txt\",'r')\n",
    "\n",
    "print(\"Read Content:: \",fp.read())\n",
    "fp.close()"
   ]
  },
  {
   "cell_type": "code",
   "execution_count": 15,
   "metadata": {},
   "outputs": [
    {
     "name": "stdout",
     "output_type": "stream",
     "text": [
      "Readline ::  Hello\n",
      "\n",
      "Readlines :: ['This is Delhi \\n', 'This is Paris \\n', 'This is London \\n']\n"
     ]
    }
   ],
   "source": [
    "fp = open(\"f1.txt\",'r')\n",
    "print(\"Readline :: \",fp.readline())\n",
    "# fp.close()\n",
    "# fp = open(\"f1.txt\",'r')\n",
    "print(\"Readlines ::\", fp.readlines())\n",
    "fp.close()"
   ]
  },
  {
   "cell_type": "code",
   "execution_count": 18,
   "metadata": {},
   "outputs": [
    {
     "data": {
      "text/plain": [
       "[1, 2]"
      ]
     },
     "execution_count": 18,
     "metadata": {},
     "output_type": "execute_result"
    }
   ],
   "source": [
    "list1 = [1,2,3,4]\n",
    "list2 = [3,4]\n",
    "s = set(list2)\n",
    "\n",
    "temp = [x for x in list1 if x not in s]\n",
    "temp "
   ]
  },
  {
   "cell_type": "code",
   "execution_count": 22,
   "metadata": {},
   "outputs": [
    {
     "name": "stdout",
     "output_type": "stream",
     "text": [
      "{1: 1, 2: 4, 3: 9, 4: 16}\n"
     ]
    },
    {
     "data": {
      "text/plain": [
       "4"
      ]
     },
     "execution_count": 22,
     "metadata": {},
     "output_type": "execute_result"
    }
   ],
   "source": [
    "sq = {x:x*x for x in list1}\n",
    "print(sq)\n",
    "sq.get(2)"
   ]
  },
  {
   "cell_type": "code",
   "execution_count": 25,
   "metadata": {},
   "outputs": [
    {
     "data": {
      "text/plain": [
       "dict_items([(1, 1), (2, 4), (3, 9), (4, 16)])"
      ]
     },
     "execution_count": 25,
     "metadata": {},
     "output_type": "execute_result"
    }
   ],
   "source": [
    "sq.keys()\n",
    "sq.values()\n",
    "sq.items()\n"
   ]
  },
  {
   "cell_type": "code",
   "execution_count": null,
   "metadata": {},
   "outputs": [],
   "source": [
    "dic1={1:10, 2:20}\n",
    "dic2={3:30, 4:40}\n",
    "dic3={5:50,6:60}\n",
    "dic4 = {}"
   ]
  },
  {
   "cell_type": "code",
   "execution_count": 26,
   "metadata": {},
   "outputs": [
    {
     "name": "stdout",
     "output_type": "stream",
     "text": [
      "y x\n"
     ]
    }
   ],
   "source": [
    "my_dict = {'x':500, 'y':5874, 'z': 560}\n",
    "key_max = max(my_dict.keys(), key=(lambda k: my_dict[k]))\n",
    "key_min = min(my_dict.keys(), key=(lambda k: my_dict[k]))\n",
    "\n",
    "print(key_max, key_min)"
   ]
  },
  {
   "cell_type": "code",
   "execution_count": 29,
   "metadata": {},
   "outputs": [
    {
     "data": {
      "text/plain": [
       "'2004-959-559 '"
      ]
     },
     "execution_count": 29,
     "metadata": {},
     "output_type": "execute_result"
    }
   ],
   "source": [
    "import re\n",
    "phone = '2004-959-559 #This is Phone Number'\n",
    "num = re.sub(r\"#.*$\",\"\",phone)\n",
    "num  #removed all the characters except number & hyphen"
   ]
  },
  {
   "cell_type": "code",
   "execution_count": 31,
   "metadata": {},
   "outputs": [
    {
     "data": {
      "text/plain": [
       "'#Starting of the phone num, 2004-959-559 #This is Phone Number'"
      ]
     },
     "execution_count": 31,
     "metadata": {},
     "output_type": "execute_result"
    }
   ],
   "source": [
    "import re\n",
    "phone = '#Starting of the phone num, 2004-959-559 #This is Phone Number'\n",
    "num = re.sub(r\"#.*\\d^\",\"\",phone)\n",
    "num  #removed all the characters except number & hyphen"
   ]
  },
  {
   "cell_type": "code",
   "execution_count": 9,
   "metadata": {},
   "outputs": [
    {
     "data": {
      "text/plain": [
       "[1, 2, [3, 5], 4]"
      ]
     },
     "execution_count": 9,
     "metadata": {},
     "output_type": "execute_result"
    }
   ],
   "source": [
    "import copy\n",
    "  \n",
    "# initializing list 1 \n",
    "li1 = [1, 2, [3,5], 4]\n",
    "li1"
   ]
  },
  {
   "cell_type": "code",
   "execution_count": 10,
   "metadata": {},
   "outputs": [],
   "source": [
    "li2 = copy.copy(li1)\n",
    "# using deepcopy for deepcopy  # changes won't reflect\n",
    "li3 = copy.deepcopy(li1) "
   ]
  },
  {
   "cell_type": "code",
   "execution_count": 17,
   "metadata": {},
   "outputs": [],
   "source": [
    "# adding and element to new list\n",
    "li2[2][1] = 77\n",
    "li2[3] = 88"
   ]
  },
  {
   "cell_type": "code",
   "execution_count": 18,
   "metadata": {},
   "outputs": [
    {
     "name": "stdout",
     "output_type": "stream",
     "text": [
      "The original elements before deep copying::[1, 2, [7, 77], 4]\n",
      "The new list of elements after deep copying::[22, 2, [7, 77], 88]\n",
      "The original elements after deep copying::[1, 2, [3, 5], 4]\n"
     ]
    }
   ],
   "source": [
    "print(f\"The original elements before deep copying::{li1}\")\n",
    "print(f\"The new list of elements after deep copying::{li2}\") \n",
    "print(f\"The original elements after deep copying::{li3}\")"
   ]
  },
  {
   "cell_type": "code",
   "execution_count": 7,
   "metadata": {},
   "outputs": [],
   "source": [
    "li2[0]=22\n"
   ]
  },
  {
   "cell_type": "code",
   "execution_count": 20,
   "metadata": {},
   "outputs": [
    {
     "name": "stdout",
     "output_type": "stream",
     "text": [
      "{'l': 0, 's': 0, 'i': 0, 't': 0, 'e': 0, 'n': 0}\n"
     ]
    }
   ],
   "source": [
    "inp1 = \"listen\"\n",
    "inp2 = \"silent\"\n",
    "counts = {}\n",
    "\n",
    "for c1, c2 in zip(inp1, inp2):\n",
    "    if c1 in counts.keys():\n",
    "      counts[c1] += 1\n",
    "    else:\n",
    "      counts[c1] = 1\n",
    "    if c2 in counts.keys():\n",
    "      counts[c2] -= 1\n",
    "    else:\n",
    "      counts[c2] = -1\n",
    "print(counts)"
   ]
  },
  {
   "cell_type": "code",
   "execution_count": 21,
   "metadata": {},
   "outputs": [],
   "source": [
    "import collections\n",
    "duplicate = [0,0,0,1,1,2,2,3,3,4,5,6,7,8]\n",
    "uniq = []\n",
    "ctr = collections.Counter(duplicate)"
   ]
  },
  {
   "cell_type": "code",
   "execution_count": 23,
   "metadata": {},
   "outputs": [
    {
     "data": {
      "text/plain": [
       "[4, 5, 6, 7, 8]"
      ]
     },
     "execution_count": 23,
     "metadata": {},
     "output_type": "execute_result"
    }
   ],
   "source": [
    "for i in ctr:\n",
    "    if ctr[i] == 1:\n",
    "        uniq.append(i)\n",
    "uniq"
   ]
  },
  {
   "cell_type": "code",
   "execution_count": 26,
   "metadata": {},
   "outputs": [
    {
     "data": {
      "text/plain": [
       "[8, 7, 6, 5, 4]"
      ]
     },
     "execution_count": 26,
     "metadata": {},
     "output_type": "execute_result"
    }
   ],
   "source": [
    "l = [4, 5, 6, 7, 8]\n",
    "l[::-1]"
   ]
  },
  {
   "cell_type": "code",
   "execution_count": 27,
   "metadata": {},
   "outputs": [
    {
     "data": {
      "text/plain": [
       "6"
      ]
     },
     "execution_count": 27,
     "metadata": {},
     "output_type": "execute_result"
    }
   ],
   "source": [
    "l[2]"
   ]
  },
  {
   "cell_type": "code",
   "execution_count": 30,
   "metadata": {},
   "outputs": [
    {
     "data": {
      "text/plain": [
       "[4, 5]"
      ]
     },
     "execution_count": 30,
     "metadata": {},
     "output_type": "execute_result"
    }
   ],
   "source": [
    "l = [4, 5, 6, 7, 8]\n",
    "l2 = l[:2]\n",
    "l2"
   ]
  },
  {
   "cell_type": "code",
   "execution_count": 31,
   "metadata": {},
   "outputs": [
    {
     "data": {
      "text/plain": [
       "[6, 7, 8]"
      ]
     },
     "execution_count": 31,
     "metadata": {},
     "output_type": "execute_result"
    }
   ],
   "source": [
    "l3 = l[2:]\n",
    "l3"
   ]
  },
  {
   "cell_type": "code",
   "execution_count": 32,
   "metadata": {},
   "outputs": [
    {
     "data": {
      "text/plain": [
       "6"
      ]
     },
     "execution_count": 32,
     "metadata": {},
     "output_type": "execute_result"
    }
   ],
   "source": [
    "st = \"110110011\"\n",
    "#count set bits\n",
    "count = 0\n",
    "for i in range(len(st)):\n",
    "    if st[i]==\"1\":\n",
    "        count += 1\n",
    "count"
   ]
  },
  {
   "cell_type": "code",
   "execution_count": 35,
   "metadata": {},
   "outputs": [
    {
     "name": "stdout",
     "output_type": "stream",
     "text": [
      "Inside Derived.__init__\n",
      "Derived: self.b = 30\n",
      "Inside Base.__init__\n",
      "Base: self.a = 10, self.b = 20\n",
      "Final values: self.a = 10, self.b = 20\n"
     ]
    }
   ],
   "source": [
    "class Base:\n",
    "    def __init__(self, a):\n",
    "        print(\"Inside Base.__init__\")\n",
    "        self.a = a\n",
    "        self.b = 20\n",
    "        print(f\"Base: self.a = {self.a}, self.b = {self.b}\")\n",
    "\n",
    "class Derived(Base):\n",
    "    def __init__(self, a, b):\n",
    "        print(\"Inside Derived.__init__\")\n",
    "        self.b = b\n",
    "        print(f\"Derived: self.b = {self.b}\")\n",
    "        super(Derived, self).__init__(a)\n",
    "    def printMe(self):\n",
    "        print(f\"Final values: self.a = {self.a}, self.b = {self.b}\")\n",
    "\n",
    "# Create an object of the Derived class\n",
    "d = Derived(10, 30)\n",
    "d.printMe()"
   ]
  },
  {
   "cell_type": "code",
   "execution_count": 36,
   "metadata": {},
   "outputs": [
    {
     "name": "stdout",
     "output_type": "stream",
     "text": [
      "10 20\n"
     ]
    }
   ],
   "source": [
    "class Base:\n",
    "    def __init__(self, a):\n",
    "        self.a = a\n",
    "        self.b = 20\n",
    "    \n",
    "class Derived(Base):\n",
    "    def __init__(self, a, b):\n",
    "        self.b = b\n",
    "        super(Derived, self).__init__(a)\n",
    "    def printMe(self):\n",
    "        print(self.a, self.b)\n",
    "    \n",
    "\n",
    "d = Derived(10, 30)\n",
    "d.printMe()"
   ]
  },
  {
   "cell_type": "code",
   "execution_count": null,
   "metadata": {},
   "outputs": [],
   "source": [
    "import pandas as pd\n",
    "import numpy as np\n",
    "s = pd.Series([3, -5, 7, 4],  index=['a',  'b',  'c',  'd'])\n"
   ]
  },
  {
   "cell_type": "code",
   "execution_count": 38,
   "metadata": {},
   "outputs": [
    {
     "name": "stdout",
     "output_type": "stream",
     "text": [
      "a    3\n",
      "b   -5\n",
      "c    7\n",
      "d    4\n",
      "dtype: int64\n"
     ]
    }
   ],
   "source": [
    "print(s)"
   ]
  },
  {
   "cell_type": "code",
   "execution_count": null,
   "metadata": {},
   "outputs": [],
   "source": []
  }
 ],
 "metadata": {
  "kernelspec": {
   "display_name": "envML",
   "language": "python",
   "name": "python3"
  },
  "language_info": {
   "codemirror_mode": {
    "name": "ipython",
    "version": 3
   },
   "file_extension": ".py",
   "mimetype": "text/x-python",
   "name": "python",
   "nbconvert_exporter": "python",
   "pygments_lexer": "ipython3",
   "version": "3.10.15"
  },
  "orig_nbformat": 4
 },
 "nbformat": 4,
 "nbformat_minor": 2
}
