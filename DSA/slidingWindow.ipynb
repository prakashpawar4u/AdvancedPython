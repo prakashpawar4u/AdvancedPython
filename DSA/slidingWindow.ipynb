{
 "cells": [
  {
   "cell_type": "markdown",
   "id": "8cecab49",
   "metadata": {},
   "source": [
    "3. Longest Substring Without Repeating Characters\n",
    "https://leetcode.com/problems/longest-substring-without-repeating-characters/description/"
   ]
  },
  {
   "cell_type": "code",
   "execution_count": null,
   "id": "a95e29e0",
   "metadata": {},
   "outputs": [],
   "source": [
    "print(\"Hello\")"
   ]
  },
  {
   "cell_type": "code",
   "execution_count": null,
   "id": "c15f2ae2",
   "metadata": {},
   "outputs": [],
   "source": [
    "class Solution:\n",
    "    def lengthOfLongestSubstring(self, s: str) -> int:\n",
    "        char_index = {}\n",
    "        start = max_len = 0\n",
    "\n",
    "        for end in range(len(s)):\n",
    "            if s[end] in char_index and char_index[s[end]] >= start:\n",
    "                start = char_index[s[end]] + 1\n",
    "            char_index[s[end]] = end\n",
    "            max_len = max(max_len, end - start + 1)\n",
    "        \n",
    "\n",
    "sobj = Solution()\n",
    "max_len = sobj.lengthOfLongestSubstring(\"abcabcbb\")\n",
    "print(max_len)\n",
    "\n"
   ]
  },
  {
   "cell_type": "code",
   "execution_count": null,
   "id": "1c09267a",
   "metadata": {},
   "outputs": [],
   "source": [
    "s = \"eceba\"\n",
    "\n",
    "char_map = {}\n",
    "\n",
    "for end in range(len(s)):\n",
    "    char = s[end]\n",
    "    char_map[char]= end\n",
    "\n",
    "    if len(char_map) > 2:\n",
    "        del_char = min(char_map, key=char_map.get)\n",
    "        start = char_map[del_chart] + 1\n",
    "        del char_map[del_char]\n",
    "    print(\"END=> \", end, char_map)"
   ]
  },
  {
   "cell_type": "markdown",
   "id": "96675391",
   "metadata": {},
   "source": []
  }
 ],
 "metadata": {
  "kernelspec": {
   "display_name": "Python 3",
   "language": "python",
   "name": "python3"
  },
  "language_info": {
   "name": "python",
   "version": "3.11.2"
  }
 },
 "nbformat": 4,
 "nbformat_minor": 5
}
