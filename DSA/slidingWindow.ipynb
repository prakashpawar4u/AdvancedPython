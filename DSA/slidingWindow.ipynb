{
 "cells": [
  {
   "cell_type": "markdown",
   "id": "8cecab49",
   "metadata": {},
   "source": [
    "3. Longest Substring Without Repeating Characters\n",
    "https://leetcode.com/problems/longest-substring-without-repeating-characters/description/"
   ]
  },
  {
   "cell_type": "markdown",
   "id": "f1dd7f09",
   "metadata": {},
   "source": [
    "| Step | `end` | `s[end]` | `start` | `char_index`       | `end - start + 1` | `max_len` |\n",
    "| ---- | ----- | -------- | ------- | ------------------ | ----------------- | --------- |\n",
    "| 0    | 0     | a        | 0       | {a: 0}             | 1                 | 1         |\n",
    "| 1    | 1     | b        | 0       | {a: 0, b: 1}       | 2                 | 2         |\n",
    "| 2    | 2     | c        | 0       | {a: 0, b: 1, c: 2} | 3                 | 3         |\n",
    "| 3    | 3     | a        | 0 → 1   | {a: 3, b: 1, c: 2} | 3 (3-1+1)         | 3         |\n",
    "| 4    | 4     | b        | 1 → 2   | {a: 3, b: 4, c: 2} | 3 (4-2+1)         | 3         |\n",
    "| 5    | 5     | c        | 2 → 3   | {a: 3, b: 4, c: 5} | 3                 | 3         |\n",
    "| 6    | 6     | b        | 3 → 5   | {a: 3, b: 6, c: 5} | 2 (6-5+1)         | 3         |\n",
    "| 7    | 7     | b        | 5 → 7   | {a: 3, b: 7, c: 5} | 1                 | 3         |\n"
   ]
  },
  {
   "cell_type": "code",
   "execution_count": 3,
   "id": "c15f2ae2",
   "metadata": {},
   "outputs": [
    {
     "name": "stdout",
     "output_type": "stream",
     "text": [
      "3\n"
     ]
    }
   ],
   "source": [
    "class Solution:\n",
    "    def lengthOfLongestSubstring(self, s: str) -> int:\n",
    "        char_index = {}\n",
    "        start = max_len = 0\n",
    "\n",
    "        for end in range(len(s)):\n",
    "            if s[end] in char_index and char_index[s[end]] >= start:\n",
    "                start = char_index[s[end]] + 1\n",
    "            char_index[s[end]] = end\n",
    "            max_len = max(max_len, end - start + 1)\n",
    "        return max_len\n",
    "        \n",
    "\n",
    "sobj = Solution()\n",
    "max_len = sobj.lengthOfLongestSubstring(\"abcabcbb\")\n",
    "print(max_len)\n",
    "\n"
   ]
  },
  {
   "cell_type": "markdown",
   "id": "1a3842ab",
   "metadata": {},
   "source": [
    "159. Longest Substring with At Most Two Distinct Characters (Medium)"
   ]
  },
  {
   "cell_type": "markdown",
   "id": "378696f6",
   "metadata": {},
   "source": [
    "| Step | `right` | `s[right]` | Window         | char\\_count     | Valid? | `max_len` |\n",
    "| ---- | ------- | ---------- | -------------- | --------------- | ------ | --------- |\n",
    "| 0    | 0       | e          | \"e\"            | {e:1}           | ✅      | 1         |\n",
    "| 1    | 1       | c          | \"ec\"           | {e:1, c:1}      | ✅      | 2         |\n",
    "| 2    | 2       | e          | \"ece\"          | {e:2, c:1}      | ✅      | 3         |\n",
    "| 3    | 3       | b          | \"eceb\"         | {e:2, c:1, b:1} | ❌      | -         |\n",
    "|      |         |            | shrink → \"ceb\" | {e:1, c:1, b:1} | ❌      | -         |\n",
    "|      |         |            | shrink → \"eb\"  | {e:1, b:1}      | ✅      | 3         |\n",
    "| 4    | 4       | a          | \"eba\"          | {e:1, b:1, a:1} | ❌      | -         |\n",
    "|      |         |            | shrink → \"ba\"  | {b:1, a:1}      | ✅      | 3         |\n"
   ]
  },
  {
   "cell_type": "code",
   "execution_count": 5,
   "id": "3f10666f",
   "metadata": {},
   "outputs": [
    {
     "name": "stdout",
     "output_type": "stream",
     "text": [
      "3\n"
     ]
    }
   ],
   "source": [
    "def lengthOfLongestSubstringTwoDistinct(s: str) -> int:\n",
    "    from collections import defaultdict\n",
    "    char_count = defaultdict(int)\n",
    "    left = max_len = 0\n",
    "\n",
    "    for right in range(len(s)):\n",
    "        char_count[s[right]] += 1\n",
    "\n",
    "        #shrink window \n",
    "        while len(char_count) > 2:\n",
    "            char_count[s[left]] -=1\n",
    "\n",
    "            if char_count[s[left]] == 0:\n",
    "                del char_count[s[left]]\n",
    "            left += 1\n",
    "\n",
    "        max_len = max(max_len, right - left + 1)\n",
    "    \n",
    "    return max_len \n",
    "\n",
    "print(lengthOfLongestSubstringTwoDistinct(\"eceba\"))\n"
   ]
  },
  {
   "cell_type": "markdown",
   "id": "e3d79b85",
   "metadata": {},
   "source": [
    "| Step | `right` | `s[right]` | Window `s[left:right+1]` | Char Counts | `max_count`   | Replace Count = Window Size - max\\_count | Valid? | `res` |\n",
    "| ---- | ------- | ---------- | ------------------------ | ----------- | ------------- | ---------------------------------------- | ------ | ----- |\n",
    "| 0    | 0       | A          | \"A\"                      | {A:1}       | 1             | 1 - 1 = 0                                | ✅      | 1     |\n",
    "| 1    | 1       | A          | \"AA\"                     | {A:2}       | 2             | 2 - 2 = 0                                | ✅      | 2     |\n",
    "| 2    | 2       | B          | \"AAB\"                    | {A:2, B:1}  | 2             | 3 - 2 = 1                                | ✅      | 3     |\n",
    "| 3    | 3       | A          | \"AABA\"                   | {A:3, B:1}  | 3             | 4 - 3 = 1                                | ✅      | 4     |\n",
    "| 4    | 4       | B          | \"AABAB\"                  | {A:3, B:2}  | 3             | 5 - 3 = 2                                | ❌      |       |\n",
    "|      |         |            | shrink → \"ABAB\" (left=1) | {A:2, B:2}  | 3 (unchanged) | 4 - 2 = 2 (still >1)                     | ❌      |       |\n",
    "|      |         |            | shrink → \"BAB\" (left=2)  | {A:1, B:2}  | 2             | 3 - 2 = 1                                | ✅      | 4     |\n",
    "| 5    | 5       | B          | \"BABB\"                   | {A:1, B:3}  | 3             | 4 - 3 = 1                                | ✅      | 4     |\n",
    "| 6    | 6       | A          | \"BABBA\"                  | {A:2, B:3}  | 3             | 5 - 3 = 2                                | ❌      |       |\n",
    "|      |         |            | shrink → \"ABBA\" (left=3) | {A:2, B:2}  | 3             | 4 - 2 = 2                                | ❌      |       |\n",
    "|      |         |            | shrink → \"BBA\" (left=4)  | {A:1, B:2}  | 3             | 3 - 2 = 1                                | ✅      | 4     |\n"
   ]
  },
  {
   "cell_type": "code",
   "execution_count": null,
   "id": "a780ec6f",
   "metadata": {},
   "outputs": [],
   "source": [
    "def characterReplacement(s: str, k: int) -> int:\n",
    "    from collections import defaultdict\n",
    "\n",
    "    count = defaultdict(int)\n",
    "    max_count = 0\n",
    "    res = 0 \n",
    "    left = 0 \n",
    "\n",
    "    for right in range(len(s)):\n",
    "        count[s[right]] +=1\n",
    "        max_count = max(max_count, count[s[right]])\n",
    "\n",
    "        if (right- left + 1) - max_count > k:\n",
    "            count[s[left]] -= 1\n",
    "            left += 1\n",
    "\n",
    "        res = max(res, right -left + 1)\n",
    "\n",
    "    return res\n",
    "\n",
    "res = characterReplacement(\"AABABBA\", 1)\n",
    "print(res)"
   ]
  },
  {
   "cell_type": "code",
   "execution_count": null,
   "id": "1c09267a",
   "metadata": {},
   "outputs": [],
   "source": [
    "s = \"eceba\"\n",
    "\n",
    "char_map = {}\n",
    "\n",
    "for end in range(len(s)):\n",
    "    char = s[end]\n",
    "    char_map[char]= end\n",
    "\n",
    "    if len(char_map) > 2:\n",
    "        del_char = min(char_map, key=char_map.get)\n",
    "        start = char_map[del_chart] + 1\n",
    "        del char_map[del_char]\n",
    "    print(\"END=> \", end, char_map)"
   ]
  },
  {
   "cell_type": "code",
   "execution_count": null,
   "id": "4b841b1a",
   "metadata": {},
   "outputs": [],
   "source": [
    "def reverseString(s: List[str]) -> None:\n",
    "        \"\"\"\n",
    "        Do not return anything, modify s in-place instead.\n",
    "        \"\"\"\n",
    "        #print(type(s), s)\n",
    "        # return s[::-1]\n",
    "        l = 0 \n",
    "        r = len(s) - 1\n",
    "\n",
    "        while l < r:\n",
    "            s[l], s[r] = s[r], s[l]\n",
    "            l += 1\n",
    "            r -= 1\n",
    "        return s"
   ]
  },
  {
   "cell_type": "markdown",
   "id": "96675391",
   "metadata": {},
   "source": []
  }
 ],
 "metadata": {
  "kernelspec": {
   "display_name": "Python 3",
   "language": "python",
   "name": "python3"
  },
  "language_info": {
   "codemirror_mode": {
    "name": "ipython",
    "version": 3
   },
   "file_extension": ".py",
   "mimetype": "text/x-python",
   "name": "python",
   "nbconvert_exporter": "python",
   "pygments_lexer": "ipython3",
   "version": "3.11.2"
  }
 },
 "nbformat": 4,
 "nbformat_minor": 5
}
