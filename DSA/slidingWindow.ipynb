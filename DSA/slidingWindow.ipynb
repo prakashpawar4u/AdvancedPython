{
 "cells": [
  {
   "cell_type": "markdown",
   "id": "6c7a033e",
   "metadata": {},
   "source": [
    "Maximum points you can obtain from :\n",
    "\n",
    "cardPoints = [1, 2, 3, 4, 5, 6, 1]\n",
    "k = \n",
    "\n",
    "We need to pick 3 cards from either the start or end to maximize points.\n",
    "\n",
    "Step 1: Understand the transformation\n",
    "Instead of directly picking from both ends,\n",
    "\n",
    "Total cards = n = 7\n",
    "\n",
    "If we pick k = 3 cards from ends, we are leaving n - k = 7 - 3 = 4 cards in the middle.\n",
    "\n",
    "So the problem becomes:\n",
    "👉 Find the smallest sum of a subarray of length 4, and subtract it from the total sum.\n",
    "\n",
    "total_sum = 1+2+3+4+5+6+1 = 22\n",
    "\n",
    "Step 3: Sliding window of length n-k = 4\n",
    "We need the minimum sum of a subarray of length 4.\n",
    "\n",
    "Subarray [1,2,3,4] → sum = 10\n",
    "\n",
    "Subarray [2,3,4,5] → sum = 14\n",
    "\n",
    "Subarray [3,4,5,6] → sum = 18\n",
    "\n",
    "Subarray [4,5,6,1] → sum = 16\n",
    "\n",
    "👉 Minimum sum = 10\n",
    "\n",
    "\n",
    "max_score = total_sum - min_sum = 22 - 10 = 12\n",
    "\n",
    "\n",
    "Step 5: Verify manually\n",
    "Pick 3 cards optimally from ends:\n",
    "\n",
    "Take [6, 1, 5] → sum = 12 ✅\n",
    "\n",
    "Any other combination gives ≤ 12.\n",
    "\n",
    "So the answer is 12.\n",
    "\n",
    "✅ Time Complexity:S\n",
    "\n",
    "O(n) → we slide through the array once to find the min sum.\n",
    "\n",
    "✅ Space Complexity:\n",
    "\n",
    "O(1) → only variables used, no extra data structures.\n"
   ]
  },
  {
   "cell_type": "code",
   "execution_count": 22,
   "id": "1f25d5f9",
   "metadata": {},
   "outputs": [
    {
     "name": "stdout",
     "output_type": "stream",
     "text": [
      "Example 1: 12\n"
     ]
    }
   ],
   "source": [
    "\n",
    "from typing import List\n",
    "class Solution:\n",
    "    def maxScore(self, cardPoints: List[int], k: int) -> int:\n",
    "        max_points = sum(cardPoints[:k])\n",
    "        if k == len(cardPoints):\n",
    "            return max_points\n",
    "        \n",
    "        total = max_points \n",
    "\n",
    "        for i in range(1, k+1):\n",
    "            total = total - cardPoints[k-i] + cardPoints[-i]\n",
    "            max_points = max(max_points, total)\n",
    "        return max_points\n",
    "if __name__ == \"__main__\":\n",
    "    sol = Solution()\n",
    "    print(\"Example 1:\", sol.maxScore([1,2,3,4,5,6,1], 3))"
   ]
  },
  {
   "cell_type": "code",
   "execution_count": 21,
   "id": "a5ed3361",
   "metadata": {},
   "outputs": [
    {
     "name": "stdout",
     "output_type": "stream",
     "text": [
      "4:: 14\n",
      "5:: 18\n",
      "6:: 16\n",
      "Example 1: 12\n"
     ]
    }
   ],
   "source": [
    "from typing import List\n",
    "\n",
    "class Solution:\n",
    "    def maxScore(self, cardPoints: List[int], k: int)-> int:\n",
    "        n = len(cardPoints)\n",
    "        windowSize = n - k \n",
    "        total_sum = sum(cardPoints)\n",
    "        if k == n:\n",
    "            return total_sum\n",
    "        \n",
    "\n",
    "        current_window = sum(cardPoints[:windowSize])\n",
    "        min_window = current_window\n",
    "\n",
    "        #slide the window\n",
    "        for i in range(windowSize, n):\n",
    "            current_window += cardPoints[i] -cardPoints[i - windowSize]\n",
    "            print(f\"{i}:: {current_window}\")\n",
    "            min_window = min(min_window, current_window)\n",
    "        \n",
    "        return total_sum - min_window\n",
    "\n",
    "if __name__ == \"__main__\":\n",
    "    sol = Solution()\n",
    "    print(\"Example 1:\", sol.maxScore([1,2,3,4,5,6,1], 3))\n"
   ]
  },
  {
   "cell_type": "markdown",
   "id": "8cecab49",
   "metadata": {},
   "source": [
    "3. Longest Substring Without Repeating Characters\n",
    "https://leetcode.com/problems/longest-substring-without-repeating-characters/description/"
   ]
  },
  {
   "cell_type": "markdown",
   "id": "f1dd7f09",
   "metadata": {},
   "source": [
    "| Step | `end` | `s[end]` | `start` | `char_index`       | `end - start + 1` | `max_len` |\n",
    "| ---- | ----- | -------- | ------- | ------------------ | ----------------- | --------- |\n",
    "| 0    | 0     | a        | 0       | {a: 0}             | 1                 | 1         |\n",
    "| 1    | 1     | b        | 0       | {a: 0, b: 1}       | 2                 | 2         |\n",
    "| 2    | 2     | c        | 0       | {a: 0, b: 1, c: 2} | 3                 | 3         |\n",
    "| 3    | 3     | a        | 0 → 1   | {a: 3, b: 1, c: 2} | 3 (3-1+1)         | 3         |\n",
    "| 4    | 4     | b        | 1 → 2   | {a: 3, b: 4, c: 2} | 3 (4-2+1)         | 3         |\n",
    "| 5    | 5     | c        | 2 → 3   | {a: 3, b: 4, c: 5} | 3                 | 3         |\n",
    "| 6    | 6     | b        | 3 → 5   | {a: 3, b: 6, c: 5} | 2 (6-5+1)         | 3         |\n",
    "| 7    | 7     | b        | 5 → 7   | {a: 3, b: 7, c: 5} | 1                 | 3         |\n"
   ]
  },
  {
   "cell_type": "code",
   "execution_count": 3,
   "id": "c15f2ae2",
   "metadata": {},
   "outputs": [
    {
     "name": "stdout",
     "output_type": "stream",
     "text": [
      "3\n"
     ]
    }
   ],
   "source": [
    "class Solution:\n",
    "    def lengthOfLongestSubstring(self, s: str) -> int:\n",
    "        char_index = {}\n",
    "        start = max_len = 0\n",
    "\n",
    "        for end in range(len(s)):\n",
    "            if s[end] in char_index and char_index[s[end]] >= start:\n",
    "                start = char_index[s[end]] + 1\n",
    "            char_index[s[end]] = end\n",
    "            max_len = max(max_len, end - start + 1)\n",
    "        return max_len\n",
    "        \n",
    "\n",
    "sobj = Solution()\n",
    "max_len = sobj.lengthOfLongestSubstring(\"abcabcbb\")\n",
    "print(max_len)\n",
    "\n"
   ]
  },
  {
   "cell_type": "code",
   "execution_count": 23,
   "id": "afaabddc",
   "metadata": {},
   "outputs": [
    {
     "name": "stdout",
     "output_type": "stream",
     "text": [
      "3\n"
     ]
    }
   ],
   "source": [
    "class Solution:\n",
    "    def lengthOfLongestSubstring(self, s: str) -> int:\n",
    "        char_map = set()\n",
    "        left = 0\n",
    "        max_len = 0\n",
    "\n",
    "        for right in range(len(s)):\n",
    "            while s[right] in char_map:\n",
    "                char_map.remove(s[left])\n",
    "                left +=1\n",
    "            char_map.add(s[right])\n",
    "            max_len = max(max_len, right-left + 1)\n",
    "\n",
    "        return max_len\n",
    "\n",
    "sobj = Solution()\n",
    "max_len = sobj.lengthOfLongestSubstring(\"abcabcbb\")\n",
    "print(max_len)\n"
   ]
  },
  {
   "cell_type": "markdown",
   "id": "1a3842ab",
   "metadata": {},
   "source": [
    "159. Longest Substring with At Most Two Distinct Characters (Medium)"
   ]
  },
  {
   "cell_type": "markdown",
   "id": "378696f6",
   "metadata": {},
   "source": [
    "| Step | `right` | `s[right]` | Window         | char\\_count     | Valid? | `max_len` |\n",
    "| ---- | ------- | ---------- | -------------- | --------------- | ------ | --------- |\n",
    "| 0    | 0       | e          | \"e\"            | {e:1}           | ✅      | 1         |\n",
    "| 1    | 1       | c          | \"ec\"           | {e:1, c:1}      | ✅      | 2         |\n",
    "| 2    | 2       | e          | \"ece\"          | {e:2, c:1}      | ✅      | 3         |\n",
    "| 3    | 3       | b          | \"eceb\"         | {e:2, c:1, b:1} | ❌      | -         |\n",
    "|      |         |            | shrink → \"ceb\" | {e:1, c:1, b:1} | ❌      | -         |\n",
    "|      |         |            | shrink → \"eb\"  | {e:1, b:1}      | ✅      | 3         |\n",
    "| 4    | 4       | a          | \"eba\"          | {e:1, b:1, a:1} | ❌      | -         |\n",
    "|      |         |            | shrink → \"ba\"  | {b:1, a:1}      | ✅      | 3         |\n"
   ]
  },
  {
   "cell_type": "code",
   "execution_count": 5,
   "id": "3f10666f",
   "metadata": {},
   "outputs": [
    {
     "name": "stdout",
     "output_type": "stream",
     "text": [
      "3\n"
     ]
    }
   ],
   "source": [
    "def lengthOfLongestSubstringTwoDistinct(s: str) -> int:\n",
    "    from collections import defaultdict\n",
    "    char_count = defaultdict(int)\n",
    "    left = max_len = 0\n",
    "\n",
    "    for right in range(len(s)):\n",
    "        char_count[s[right]] += 1\n",
    "\n",
    "        #shrink window \n",
    "        while len(char_count) > 2:\n",
    "            char_count[s[left]] -=1\n",
    "\n",
    "            if char_count[s[left]] == 0:\n",
    "                del char_count[s[left]]\n",
    "            left += 1\n",
    "\n",
    "        max_len = max(max_len, right - left + 1)\n",
    "    \n",
    "    return max_len \n",
    "\n",
    "print(lengthOfLongestSubstringTwoDistinct(\"eceba\"))\n"
   ]
  },
  {
   "cell_type": "code",
   "execution_count": 29,
   "id": "3d41eaeb",
   "metadata": {},
   "outputs": [
    {
     "name": "stdout",
     "output_type": "stream",
     "text": [
      "6\n",
      "3\n"
     ]
    }
   ],
   "source": [
    "\n",
    "def longestKSubstr(s, k):\n",
    "    # code here\n",
    "    from collections import defaultdict\n",
    "    \n",
    "    char_count = defaultdict(int)\n",
    "    \n",
    "    left = max_len = 0\n",
    "    \n",
    "    for right in range(len(s)):\n",
    "        char_count[s[right]] +=1\n",
    "        \n",
    "        while len(char_count) > k:\n",
    "            char_count[s[left]] -= 1\n",
    "            \n",
    "            if char_count[s[left]] == 0:\n",
    "                del char_count[s[left]]\n",
    "            left += 1\n",
    "            \n",
    "        max_len = max(max_len, right -left + 1)\n",
    "    return max_len\n",
    "print(longestKSubstr(\"ecebaabab\", k=2))\n",
    "print(longestKSubstr(\"eceba\", k=2))"
   ]
  },
  {
   "cell_type": "markdown",
   "id": "e3d79b85",
   "metadata": {},
   "source": [
    "| Step | `right` | `s[right]` | Window `s[left:right+1]` | Char Counts | `max_count`   | Replace Count = Window Size - max\\_count | Valid? | `res` |\n",
    "| ---- | ------- | ---------- | ------------------------ | ----------- | ------------- | ---------------------------------------- | ------ | ----- |\n",
    "| 0    | 0       | A          | \"A\"                      | {A:1}       | 1             | 1 - 1 = 0                                | ✅      | 1     |\n",
    "| 1    | 1       | A          | \"AA\"                     | {A:2}       | 2             | 2 - 2 = 0                                | ✅      | 2     |\n",
    "| 2    | 2       | B          | \"AAB\"                    | {A:2, B:1}  | 2             | 3 - 2 = 1                                | ✅      | 3     |\n",
    "| 3    | 3       | A          | \"AABA\"                   | {A:3, B:1}  | 3             | 4 - 3 = 1                                | ✅      | 4     |\n",
    "| 4    | 4       | B          | \"AABAB\"                  | {A:3, B:2}  | 3             | 5 - 3 = 2                                | ❌      |       |\n",
    "|      |         |            | shrink → \"ABAB\" (left=1) | {A:2, B:2}  | 3 (unchanged) | 4 - 2 = 2 (still >1)                     | ❌      |       |\n",
    "|      |         |            | shrink → \"BAB\" (left=2)  | {A:1, B:2}  | 2             | 3 - 2 = 1                                | ✅      | 4     |\n",
    "| 5    | 5       | B          | \"BABB\"                   | {A:1, B:3}  | 3             | 4 - 3 = 1                                | ✅      | 4     |\n",
    "| 6    | 6       | A          | \"BABBA\"                  | {A:2, B:3}  | 3             | 5 - 3 = 2                                | ❌      |       |\n",
    "|      |         |            | shrink → \"ABBA\" (left=3) | {A:2, B:2}  | 3             | 4 - 2 = 2                                | ❌      |       |\n",
    "|      |         |            | shrink → \"BBA\" (left=4)  | {A:1, B:2}  | 3             | 3 - 2 = 1                                | ✅      | 4     |\n"
   ]
  },
  {
   "cell_type": "code",
   "execution_count": null,
   "id": "a780ec6f",
   "metadata": {},
   "outputs": [],
   "source": [
    "def characterReplacement(s: str, k: int) -> int:\n",
    "    from collections import defaultdict\n",
    "\n",
    "    count = defaultdict(int)\n",
    "    max_count = 0\n",
    "    res = 0 \n",
    "    left = 0 \n",
    "\n",
    "    for right in range(len(s)):\n",
    "        count[s[right]] +=1\n",
    "        max_count = max(max_count, count[s[right]])\n",
    "\n",
    "        if (right- left + 1) - max_count > k:\n",
    "            count[s[left]] -= 1\n",
    "            left += 1\n",
    "\n",
    "        res = max(res, right -left + 1)\n",
    "\n",
    "    return res\n",
    "\n",
    "res = characterReplacement(\"AABABBA\", 1)\n",
    "print(res)"
   ]
  },
  {
   "cell_type": "code",
   "execution_count": null,
   "id": "1c09267a",
   "metadata": {},
   "outputs": [],
   "source": [
    "s = \"eceba\"\n",
    "\n",
    "char_map = {}\n",
    "\n",
    "for end in range(len(s)):\n",
    "    char = s[end]\n",
    "    char_map[char]= end\n",
    "\n",
    "    if len(char_map) > 2:\n",
    "        del_char = min(char_map, key=char_map.get)\n",
    "        start = char_map[del_chart] + 1\n",
    "        del char_map[del_char]\n",
    "    print(\"END=> \", end, char_map)"
   ]
  },
  {
   "cell_type": "code",
   "execution_count": 4,
   "id": "4b841b1a",
   "metadata": {},
   "outputs": [
    {
     "name": "stdout",
     "output_type": "stream",
     "text": [
      "aylaM\n"
     ]
    }
   ],
   "source": [
    "from typing import List\n",
    "\n",
    "def reverseString(s: List[str]) -> None:\n",
    "    \"\"\"\n",
    "    Reverse a list of characters in place.\n",
    "\n",
    "    Args:\n",
    "        s (List[str]): The list of characters to be reversed.\n",
    "\n",
    "    Returns:\n",
    "        None: The list is modified in place.\n",
    "    \"\"\"\n",
    "    l: int = 0\n",
    "    r: int = len(s) - 1\n",
    "\n",
    "    while l < r:\n",
    "        s[l], s[r] = s[r], s[l]\n",
    "        l += 1\n",
    "        r -= 1\n",
    "\n",
    "\n",
    "# Example usage:\n",
    "chars: List[str] = list(\"Malya\")  # Convert string to list\n",
    "reverseString(chars)\n",
    "print(\"\".join(chars))  # aylaM\n"
   ]
  },
  {
   "cell_type": "markdown",
   "id": "0f3d37f3",
   "metadata": {},
   "source": [
    "1️⃣ Problem\n",
    "\n",
    "Given a string s consisting only of the characters 'a', 'b', and 'c',\n",
    "return the number of substrings that contain at least one 'a', one 'b', and one 'c'."
   ]
  },
  {
   "cell_type": "markdown",
   "id": "691d0710",
   "metadata": {},
   "source": [
    "| i | ch | last\\_seen        | min(last\\_seen) | count addition | total count |\n",
    "| - | -- | ----------------- | --------------- | -------------- | ----------- |\n",
    "| 0 | a  | {a:0, b:-1, c:-1} | —               | —              | 0           |\n",
    "| 1 | b  | {a:0, b:1, c:-1}  | —               | —              | 0           |\n",
    "| 2 | c  | {a:0, b:1, c:2}   | 0               | 0+1 = 1        | 1           |\n",
    "| 3 | a  | {a:3, b:1, c:2}   | 1               | 1+1 = 2        | 3           |\n",
    "| 4 | b  | {a:3, b:4, c:2}   | 2               | 2+1 = 3        | 6           |\n",
    "| 5 | c  | {a:3, b:4, c:5}   | 3               | 3+1 = 4        | 10          |\n",
    "\n"
   ]
  },
  {
   "cell_type": "code",
   "execution_count": 9,
   "id": "74d1e123",
   "metadata": {},
   "outputs": [
    {
     "name": "stdout",
     "output_type": "stream",
     "text": [
      "{'a': 0, 'b': -1, 'c': -1}\n",
      "{'a': 0, 'b': 1, 'c': -1}\n",
      "{'a': 0, 'b': 1, 'c': 2}\n",
      "{'a': 3, 'b': 1, 'c': 2}\n",
      "{'a': 3, 'b': 4, 'c': 2}\n",
      "{'a': 3, 'b': 4, 'c': 5}\n",
      "10\n"
     ]
    }
   ],
   "source": [
    "class Solution:\n",
    "    def numberOfSubstrings(self, s: str) -> int:\n",
    "        last_seen = {'a': -1, 'b':-1, 'c':-1}\n",
    "        count = 0 \n",
    "\n",
    "        for i, ch in enumerate(s):\n",
    "            last_seen[ch] = i\n",
    "\n",
    "            if -1 not in last_seen.values():\n",
    "                count += min(last_seen.values()) + 1\n",
    "            print(last_seen)\n",
    "        return count \n",
    "\n",
    "s = \"abcabc\"\n",
    "sobj = Solution()\n",
    "cnt = sobj.numberOfSubstrings(s)\n",
    "print(cnt)\n",
    "\n"
   ]
  },
  {
   "cell_type": "markdown",
   "id": "176ee997",
   "metadata": {},
   "source": [
    "Max Consecutive ones III"
   ]
  },
  {
   "cell_type": "code",
   "execution_count": 36,
   "id": "a992126f",
   "metadata": {},
   "outputs": [
    {
     "name": "stdout",
     "output_type": "stream",
     "text": [
      "Input: [1, 1, 1, 0, 0, 0, 1, 1, 1, 1, 0] k = 2\n",
      "Output: 6\n"
     ]
    }
   ],
   "source": [
    "class Solution:\n",
    "    def longestOnes(self, nums: List[int], k: int) -> int:\n",
    "        left = right = 0\n",
    "        zeros = 0\n",
    "        max_len = 0\n",
    "\n",
    "        for right in range(len(nums)):\n",
    "            if nums[right] == 0:\n",
    "                zeros += 1\n",
    "            while zeros > k:\n",
    "                if nums[left] == 0:\n",
    "                    zeros-=1\n",
    "                left += 1\n",
    "\n",
    "            if zeros <= k:\n",
    "                max_len = max(max_len, right -left + 1)\n",
    "        return max_len\n",
    "\n",
    "if __name__ == \"__main__\":\n",
    "    sol = Solution()\n",
    "    \n",
    "    # Test case 1\n",
    "    nums = [1,1,1,0,0,0,1,1,1,1,0]\n",
    "    k = 2\n",
    "    print(\"Input:\", nums, \"k =\", k)\n",
    "    print(\"Output:\", sol.longestOnes(nums, k))  # Expected 6"
   ]
  },
  {
   "cell_type": "code",
   "execution_count": 35,
   "id": "ee5427e4",
   "metadata": {},
   "outputs": [
    {
     "name": "stdout",
     "output_type": "stream",
     "text": [
      "Input: [1, 1, 1, 0, 0, 0, 1, 1, 1, 1, 0] k = 2\n",
      "Output: 6\n"
     ]
    }
   ],
   "source": [
    "class Solution:\n",
    "    def longestOnes(self, nums: List[int], k: int) -> int:\n",
    "        left = max_len= 0\n",
    "\n",
    "        for right in range(len(nums)):\n",
    "            if nums[right] == 0:\n",
    "                k -= 1\n",
    "\n",
    "            while k < 0:\n",
    "                if nums[left] == 0:\n",
    "                    k+= 1\n",
    "                left += 1\n",
    "            max_len = max(max_len, right -left + 1)\n",
    "\n",
    "        return max_len\n",
    "\n",
    "if __name__ == \"__main__\":\n",
    "    sol = Solution()\n",
    "    \n",
    "    # Test case 1\n",
    "    nums = [1,1,1,0,0,0,1,1,1,1,0]\n",
    "    k = 2\n",
    "    print(\"Input:\", nums, \"k =\", k)\n",
    "    print(\"Output:\", sol.longestOnes(nums, k))  # Expected 6"
   ]
  },
  {
   "cell_type": "markdown",
   "id": "fa291bea",
   "metadata": {},
   "source": [
    "L5 Fruits into the basket "
   ]
  },
  {
   "cell_type": "code",
   "execution_count": 39,
   "id": "8b745877",
   "metadata": {},
   "outputs": [
    {
     "name": "stdout",
     "output_type": "stream",
     "text": [
      "Example 1: 3\n"
     ]
    }
   ],
   "source": [
    "from collections import defaultdict\n",
    "from typing import List\n",
    "\n",
    "class Solution:\n",
    "    def totalFruit(self, fruits:List[int])-> int:\n",
    "        basket = defaultdict(int)   # fruit -> count\n",
    "        left = max_len = 0\n",
    "        for right in range(len(fruits)):\n",
    "            basket[fruits[right]]+=1\n",
    "            \n",
    "            while len(basket) > 2:\n",
    "                basket[fruits[left]]-=1\n",
    "                if basket[fruits[left]]==0:\n",
    "                    del basket[fruits[left]]\n",
    "                left +=1\n",
    "            \n",
    "            max_len = max(max_len, right-left+1)\n",
    "\n",
    "        return max_len\n",
    "\n",
    "if __name__ == \"__main__\":\n",
    "    sol = Solution()\n",
    "\n",
    "    fruits1 = [1, 2, 1]\n",
    "    print(\"Example 1:\", sol.totalFruit(fruits1))  # Expected 3"
   ]
  },
  {
   "cell_type": "markdown",
   "id": "7049b651",
   "metadata": {},
   "source": [
    "L6 Longest Substring with atmost K Distinct char"
   ]
  },
  {
   "cell_type": "markdown",
   "id": "c2e5f49a",
   "metadata": {},
   "source": [
    "L7 Number of substrings containing all 3 characters "
   ]
  },
  {
   "cell_type": "code",
   "execution_count": null,
   "id": "8839b209",
   "metadata": {},
   "outputs": [],
   "source": []
  },
  {
   "cell_type": "markdown",
   "id": "96675391",
   "metadata": {},
   "source": [
    "L8 Longest repeating characters\n",
    "\n",
    "s = \"AAABBCCD\", k = 2\n",
    "\n",
    "Add As → window \"AAA\" valid → length 3.\n",
    "\n",
    "Add Bs → \"AAABB\", need 2 replacements, still valid → length 5.\n",
    "\n",
    "Add Cs → \"AAABBC\", needs 3 replacements → shrink left.\n",
    "\n",
    "Continue until end.\n",
    "\n",
    "✅ Output: 5 (\"AAABB\")."
   ]
  },
  {
   "cell_type": "code",
   "execution_count": null,
   "id": "0476e819",
   "metadata": {},
   "outputs": [
    {
     "name": "stdout",
     "output_type": "stream",
     "text": [
      "Input: ABAB, k=2 → Output: 4\n",
      "Input: AABABBA, k=1 → Output: 4\n",
      "Input: A, k=1 → Output: 1\n",
      "Input: AAAA, k=2 → Output: 4\n",
      "Input: ABCDEF, k=0 → Output: 1\n"
     ]
    }
   ],
   "source": [
    "class Solution:\n",
    "    def characterReplacement(self, s: str, k: int) -> int:\n",
    "        hash_map = [0] * 26   # frequency of each letter A–Z\n",
    "        l = 0\n",
    "        max_count = 0\n",
    "        res = 0\n",
    "\n",
    "        for r in range(len(s)):\n",
    "            idx = ord(s[r]) - ord('A')\n",
    "            hash_map[idx] += 1\n",
    "\n",
    "            # track max frequency char in window\n",
    "            max_count = max(max_count, hash_map[idx])\n",
    "\n",
    "            # if window is invalid → shrink from left\n",
    "            while (r - l + 1) - max_count > k:\n",
    "                hash_map[ord(s[l]) - ord('A')] -= 1\n",
    "                l += 1\n",
    "\n",
    "            res = max(res, r - l + 1)\n",
    "\n",
    "        return res\n",
    "\n",
    "if __name__ == \"__main__\":\n",
    "    sobj = Solution()\n",
    "\n",
    "    # Example 1\n",
    "    s, k = \"ABAB\", 2\n",
    "    print(f\"Input: {s}, k={k} → Output: {sobj.characterReplacement(s, k)}\")  \n",
    "    # Expected: 4\n",
    "\n",
    "    # Example 2\n",
    "    s, k = \"AABABBA\", 1\n",
    "    print(f\"Input: {s}, k={k} → Output: {sobj.characterReplacement(s, k)}\")  \n",
    "    # Expected: 4\n",
    "\n",
    "    # Example 3 (edge case: single char)\n",
    "    s, k = \"A\", 1\n",
    "    print(f\"Input: {s}, k={k} → Output: {sobj.characterReplacement(s, k)}\")  \n",
    "    # Expected: 1\n",
    "\n",
    "    # Example 4 (all same chars)\n",
    "    s, k = \"AAAA\", 2\n",
    "    print(f\"Input: {s}, k={k} → Output: {sobj.characterReplacement(s, k)}\")  \n",
    "    # Expected: 4\n",
    "\n",
    "    # Example 5 (no replacements allowed)\n",
    "    s, k = \"ABCDEF\", 0\n",
    "    print(f\"Input: {s}, k={k} → Output: {sobj.characterReplacement(s, k)}\")  \n",
    "    # Expected: 1"
   ]
  },
  {
   "cell_type": "markdown",
   "id": "4f4e7cdc",
   "metadata": {},
   "source": [
    "L9 Leetcode 930: Binary Subarrays With Sum.\n",
    "\n",
    "Input: nums = [1,0,1,0,1], goal = 2  \n",
    "Output: 4\n",
    "The subarrays with sum = 2 are:\n",
    "\n",
    "[1,0,1]\n",
    "\n",
    "[0,1,0,1]\n",
    "\n",
    "[1,0,1] (the second one)\n",
    "\n",
    "[1,1]"
   ]
  },
  {
   "cell_type": "code",
   "execution_count": null,
   "id": "e04621c5",
   "metadata": {},
   "outputs": [],
   "source": [
    "from typing import List\n",
    "\n",
    "class Solution: \n",
    "    def numSubarraysWithSum(self, nums: List[int], goal:int) -> int:\n",
    "        def atMost(S:int) -> int:\n",
    "            if S < 0:\n",
    "                return 0\n",
    "            \n",
    "            left, curr_sum, res = 0, 0, 0 \n",
    "            for right in range(len(nums)):\n",
    "                curr_sum += nums[right]"
   ]
  },
  {
   "cell_type": "markdown",
   "id": "5ef2df67",
   "metadata": {},
   "source": [
    "L10 Count number of nice subarrays "
   ]
  },
  {
   "cell_type": "code",
   "execution_count": null,
   "id": "b52190fd",
   "metadata": {},
   "outputs": [
    {
     "name": "stdout",
     "output_type": "stream",
     "text": [
      "2\n"
     ]
    }
   ],
   "source": [
    "class Solution:\n",
    "    def atMost(self, nums: List[int], k: int) -> int:\n",
    "        left = 0\n",
    "        count = 0\n",
    "        odds = 0\n",
    "\n",
    "        for right, num in enumerate(nums):\n",
    "            #print(right, num)\n",
    "            if num % 2 == 1:\n",
    "                odds +=1 \n",
    "            \n",
    "            while odds > k:\n",
    "                if nums[left] %2 == 1:\n",
    "                    odds -=1\n",
    "                left +=1\n",
    "\n",
    "            count +=(right-left + 1)\n",
    "        return count \n",
    "    \n",
    "    def numberOfSubarrays(self, nums, k):\n",
    "        return self.atMost(nums, k) - self.atMost(nums, k-1)\n",
    "        \n",
    "\n",
    "if __name__ == \"__main__\":\n",
    "    sobj = Solution()\n",
    "    nums = [1,1,2,1,1]\n",
    "    k = 3\n",
    "\n",
    "    print(sobj.numberOfSubarrays(nums, 3))\n",
    "    "
   ]
  },
  {
   "cell_type": "markdown",
   "id": "61e089d5",
   "metadata": {},
   "source": [
    "L11 Number of subarrays with K different characters\n",
    "LeetCode 992: Subarrays with K Different Integers"
   ]
  },
  {
   "cell_type": "code",
   "execution_count": 21,
   "id": "806beec8",
   "metadata": {},
   "outputs": [
    {
     "name": "stdout",
     "output_type": "stream",
     "text": [
      "2\n"
     ]
    },
    {
     "data": {
      "text/plain": [
       "defaultdict(int, {2: 2, 1: 1})"
      ]
     },
     "execution_count": 21,
     "metadata": {},
     "output_type": "execute_result"
    }
   ],
   "source": [
    "from collections import defaultdict\n",
    "arr_map= defaultdict(int)\n",
    "nums = [1,2,3,4,2]\n",
    "arr_map[nums[1]] = 1\n",
    "arr_map[nums[4]] += 1\n",
    "arr_map[nums[0]] += 1\n",
    "print(len(arr_map.keys()))\n",
    "arr_map"
   ]
  },
  {
   "cell_type": "code",
   "execution_count": 31,
   "id": "665c21c6",
   "metadata": {},
   "outputs": [
    {
     "name": "stdout",
     "output_type": "stream",
     "text": [
      "3\n",
      "6\n"
     ]
    }
   ],
   "source": [
    "# Brute Force \n",
    "\n",
    "from collections import defaultdict\n",
    "def subarraywithKdistinct(nums, k):\n",
    "    cnt = 0\n",
    "    n = len(nums)\n",
    "    for i in range(n):\n",
    "        arr_map = defaultdict(int)\n",
    "        for j in range(i,n):\n",
    "            arr_map[nums[j]] += 1\n",
    "\n",
    "            if len(arr_map) == k:\n",
    "                cnt +=1\n",
    "            elif len(arr_map) > k:\n",
    "                break\n",
    "    return cnt\n",
    "nums = [1,2,1,3,4]\n",
    "k=3\n",
    "print(subarraywithKdistinct(nums, k))\n",
    "l = [2,1,1,2,3]\n",
    "k = 2\n",
    "print(subarraywithKdistinct(l, k))\n",
    "\n",
    "#TimeComplexity brute force O(n²) approach\n",
    "\n"
   ]
  },
  {
   "cell_type": "code",
   "execution_count": 32,
   "id": "c122fe72",
   "metadata": {},
   "outputs": [
    {
     "data": {
      "text/plain": [
       "6"
      ]
     },
     "execution_count": 32,
     "metadata": {},
     "output_type": "execute_result"
    }
   ],
   "source": [
    "\n",
    "from typing import List\n",
    "from collections import defaultdict\n",
    "class Solution:\n",
    "    def subarraywithKdistinct(nums:List[int], K: int):\n",
    "        def atMost(k):\n",
    "            count = defaultdict(int)\n",
    "            left = res = 0\n",
    "            for right in range(len(nums)):\n",
    "                if count[nums[right]] == 0:\n",
    "                    k -= 1\n",
    "                count[nums[right]] += 1\n",
    "                \n",
    "                while k < 0:  # too many distinct\n",
    "                    count[nums[left]] -= 1\n",
    "                    if count[nums[left]] == 0:\n",
    "                        k += 1\n",
    "                    left += 1\n",
    "                \n",
    "                res += right - left + 1\n",
    "            return res\n",
    "\n",
    "        return atMost(K) - atMost(K - 1)\n",
    "\n",
    "sobj = Solution\n",
    "l = [2,1,1,2,3]\n",
    "k = 2\n",
    "sobj.subarraywithKdistinct(l,k)\n",
    "\n"
   ]
  },
  {
   "cell_type": "code",
   "execution_count": 43,
   "id": "bd246988",
   "metadata": {},
   "outputs": [
    {
     "name": "stdout",
     "output_type": "stream",
     "text": [
      "14\n"
     ]
    }
   ],
   "source": [
    "\n",
    "from typing import List\n",
    "from collections import defaultdict\n",
    "class Solution:\n",
    "    def subarraywithKdistinct(self, nums:List[int], k: int):\n",
    "        l = 0\n",
    "        r = 0 \n",
    "        cnt = 0\n",
    "        mpp =defaultdict(int)\n",
    "        while r < len(nums):\n",
    "            mpp[nums[r]] +=1\n",
    "            while len(mpp) >k:\n",
    "                mpp[nums[l]] -=1\n",
    "\n",
    "                if mpp[nums[l]]==0:\n",
    "                    del mpp[nums[l]]\n",
    "                    l+=1\n",
    "            cnt = cnt + (r- l +1)\n",
    "            r+=1\n",
    "\n",
    "        print(cnt)\n",
    "\n",
    "\n",
    "\n",
    "sobj = Solution()\n",
    "l = [2,1,1,2,3]\n",
    "k = 2\n",
    "sobj.subarraywithKdistinct(l,k)"
   ]
  },
  {
   "cell_type": "markdown",
   "id": "d0d14111",
   "metadata": {},
   "source": [
    "L12 minimum window Substring"
   ]
  },
  {
   "cell_type": "code",
   "execution_count": null,
   "id": "233635e7",
   "metadata": {},
   "outputs": [
    {
     "name": "stdout",
     "output_type": "stream",
     "text": [
      "['A', 'D', 'O', 'B', 'E', 'C', 'O', 'D', 'E', 'B', 'A', 'N', 'C']\n",
      "['D', 'O', 'B', 'E', 'C', 'O', 'D', 'E', 'B', 'A', 'N', 'C']\n",
      "['O', 'B', 'E', 'C', 'O', 'D', 'E', 'B', 'A', 'N', 'C']\n",
      "['B', 'E', 'C', 'O', 'D', 'E', 'B', 'A', 'N', 'C']\n",
      "['E', 'C', 'O', 'D', 'E', 'B', 'A', 'N', 'C']\n",
      "['C', 'O', 'D', 'E', 'B', 'A', 'N', 'C']\n",
      "['O', 'D', 'E', 'B', 'A', 'N', 'C']\n",
      "['D', 'E', 'B', 'A', 'N', 'C']\n",
      "['E', 'B', 'A', 'N', 'C']\n",
      "['B', 'A', 'N', 'C']\n",
      "['A', 'N', 'C']\n",
      "['N', 'C']\n",
      "['C']\n"
     ]
    }
   ],
   "source": [
    "from collections import Counter\n",
    "# Brute Force\n",
    "class Solution:\n",
    "    def minWindow(self, s: str, t: str) -> str:\n",
    "        cnt = 0\n",
    "\n",
    "        need = Counter(t)\n",
    "        missing = len(t)\n",
    "        for i in range(len(s)):\n",
    "            sub_arr = []\n",
    "            for j in range(i, len(s)):\n",
    "                sub_arr.append(s[j])\n",
    "            print(sub_arr)\n",
    "\n",
    "\n",
    "s = \"ADOBECODEBANC\"\n",
    "t = \"ABC\"\n",
    "sobj = Solution()\n",
    "sobj.minWindow(s, t)"
   ]
  },
  {
   "cell_type": "code",
   "execution_count": null,
   "id": "3fde353b",
   "metadata": {},
   "outputs": [],
   "source": [
    "from collections import Counter\n",
    "# Brute Force\n",
    "class Solution:\n",
    "    def minWindow(self, s: str, t: str) -> str:\n",
    "        if not t or len(s) < len(t):\n",
    "            return \"\"\n",
    "        def contains_all_chars(sub, t_count):\n",
    "            temp = t_count.copy()\n",
    "            for char in sub:\n",
    "                if char in temp:\n",
    "                    temp[char] -= 1\n",
    "                    if temp[char] == 0:\n",
    "                        del temp[char]\n",
    "            return len(temp) == 0\n",
    "        \n",
    "\n",
    "        from collections import Counter\n",
    "        t_count = Counter(t)\n",
    "        min_window = \"\"\n",
    "        min_length = float('inf')\n",
    "        \n",
    "        \n",
    "    \n",
    "        for i in range(len(s)):\n",
    "            sub_arr = []\n",
    "            for j in range(i, len(t), len(s) + 1):\n",
    "                sub_arr.append(s[j])\n",
    "            print(sub_arr)\n",
    "\n",
    "\n",
    "s = \"ADOBECODEBANC\"\n",
    "t = \"ABC\"\n",
    "sobj = Solution()\n",
    "sobj.minWindow(s, t)"
   ]
  },
  {
   "cell_type": "code",
   "execution_count": null,
   "id": "2dde8e6c",
   "metadata": {},
   "outputs": [
    {
     "name": "stdout",
     "output_type": "stream",
     "text": [
      "Counter({'A': 1, 'B': 1, 'C': 1})\n"
     ]
    }
   ],
   "source": [
    "from collections import Counter\n",
    "\n",
    "class Solution:\n",
    "    def minWindow(self, s: str, t: str) -> str:\n",
    "        if not s or not t:\n",
    "            return \"\"\n",
    "        \n",
    "        def contains_all_char(sub, t_count )\n",
    "        t_cnt = Counter(t)\n",
    "        required = len(t_cnt)\n",
    "\n",
    "        left = 0\n",
    "        right = 0 \n",
    "        formed = 0 ## how many unique char we have with sufficient freq\n",
    "\n",
    "        window_count = {}\n",
    "\n",
    "        min_len = 0\n",
    "        result = \"\"\n",
    "        while right < len(s):\n",
    "            char = s[right]\n",
    "            window_count[char] += 1\n",
    "\n",
    "            if char in t_cnt and window_count[char] == t_cnt[char]:\n",
    "                formed +=1\n",
    "\n",
    "            while left <= right and formed == required:\n",
    "                current_len = right - left +1 \n",
    "\n",
    "\n",
    "s = \"ADOBECODEBANC\"\n",
    "t = \"ABC\"\n",
    "sobj = Solution()\n",
    "sobj.minWindow(s, t)"
   ]
  },
  {
   "cell_type": "code",
   "execution_count": null,
   "id": "a5e07e18",
   "metadata": {},
   "outputs": [],
   "source": []
  }
 ],
 "metadata": {
  "kernelspec": {
   "display_name": "Python 3",
   "language": "python",
   "name": "python3"
  },
  "language_info": {
   "codemirror_mode": {
    "name": "ipython",
    "version": 3
   },
   "file_extension": ".py",
   "mimetype": "text/x-python",
   "name": "python",
   "nbconvert_exporter": "python",
   "pygments_lexer": "ipython3",
   "version": "3.11.2"
  }
 },
 "nbformat": 4,
 "nbformat_minor": 5
}
