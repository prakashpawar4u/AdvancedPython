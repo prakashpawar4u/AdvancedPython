{
 "cells": [
  {
   "cell_type": "markdown",
   "metadata": {},
   "source": [
    "1768. Merge Strings Alternately\n",
    "You are given two strings word1 and word2. Merge the strings by adding letters in alternating order, starting with word1. If a string is longer than the other, append the additional letters onto the end of the merged string.\n",
    "\n",
    "Return the merged string.\n",
    "\n",
    " \n",
    "\n",
    "Example 1:\n",
    "\n",
    "Input: word1 = \"abc\", word2 = \"pqr\"\n",
    "Output: \"apbqcr\"\n",
    "Explanation: The merged string will be merged as so:\n",
    "word1:  a   b   c\n",
    "word2:    p   q   r\n",
    "merged: a p b q c r "
   ]
  },
  {
   "cell_type": "code",
   "execution_count": 1,
   "metadata": {},
   "outputs": [
    {
     "name": "stdout",
     "output_type": "stream",
     "text": [
      "apbqcrs\n"
     ]
    }
   ],
   "source": [
    "class Solution(object):\n",
    "    def mergeAlternately(self, word1, word2):\n",
    "        \"\"\"\n",
    "        :type word1: str\n",
    "        :type word2: str\n",
    "        :rtype: str\n",
    "        \"\"\"\n",
    "\n",
    "        result = []\n",
    "        i = 0\n",
    "        while i < len(word1) or i < len(word2):\n",
    "            if i < len(word1):\n",
    "                result.append(word1[i])\n",
    "    \n",
    "            if i < len(word2) :\n",
    "                result.append(word2[i])\n",
    "            i +=1\n",
    "        return \"\".join(result)  \n",
    "\n",
    "obj = Solution()\n",
    "output = obj.mergeAlternately(\"abc\", \"pqrs\")\n",
    "print(output)"
   ]
  },
  {
   "cell_type": "code",
   "execution_count": 2,
   "metadata": {},
   "outputs": [
    {
     "name": "stdout",
     "output_type": "stream",
     "text": [
      "apbqcrs\n"
     ]
    }
   ],
   "source": [
    "class Solution(object):\n",
    "    def mergeAlternately(self, word1, word2):\n",
    "        \"\"\"\n",
    "        :type word1: str\n",
    "        :type word2: str\n",
    "        :rtype: str\n",
    "        \"\"\"\n",
    "\n",
    "        result = []\n",
    "        i = 0\n",
    "        while i < len(word1) or i < len(word2):\n",
    "            if i < len(word1):\n",
    "                result.append(word1[i])\n",
    "    \n",
    "            if i < len(word2) :\n",
    "                result.append(word2[i])\n",
    "            i +=1\n",
    "        return \"\".join(result)\n",
    "\n",
    "obj = Solution()\n",
    "output = obj.mergeAlternately(\"abc\", \"pqrs\")\n",
    "print(output)"
   ]
  },
  {
   "cell_type": "markdown",
   "metadata": {},
   "source": [
    "1071. Greatest Common Divisor of Strings\n",
    "\n",
    "For two strings s and t, we say \"t divides s\" if and only if s = t + t + t + ... + t + t (i.e., t is concatenated with itself one or more times).\n",
    "\n",
    "Given two strings str1 and str2, return the largest string x such that x divides both str1 and str2.\n",
    "\n",
    " \n",
    "\n",
    "Example 1:\n",
    "\n",
    "Input: str1 = \"ABCABC\", str2 = \"ABC\"\n",
    "Output: \"ABC\"\n",
    "Example 2:\n",
    "\n",
    "Input: str1 = \"ABABAB\", str2 = \"ABAB\"\n",
    "Output: \"AB\""
   ]
  },
  {
   "cell_type": "code",
   "execution_count": 5,
   "metadata": {},
   "outputs": [
    {
     "name": "stdout",
     "output_type": "stream",
     "text": [
      "Before B value is 3\n",
      "After 3, 0\n",
      "ABC\n"
     ]
    }
   ],
   "source": [
    "class Solution(object):\n",
    "    def gcd_math(self, a, b):\n",
    "        while b:\n",
    "            print(f\"Before B value is {b}\")\n",
    "            a, b = b, a % b\n",
    "            print(f\"After {a}, {b}\")\n",
    "        return a\n",
    "\n",
    "    def gcdOfStrings(self, str1, str2):\n",
    "        \"\"\"\n",
    "        :type str1: str\n",
    "        :type str2: str\n",
    "        :rtype: str\n",
    "        \"\"\"\n",
    "        if str1 + str2 != str2 + str1:\n",
    "            return \"\"\n",
    "\n",
    "        gcd_length = self.gcd_math(len(str1), len(str2))\n",
    "\n",
    "        return(str1[:gcd_length])\n",
    "\n",
    "obj = Solution()\n",
    "str1 = \"ABCABC\"\n",
    "str2 = \"ABC\"\n",
    "output = obj.gcdOfStrings(str1, str2)\n",
    "print(output)\n",
    "        "
   ]
  },
  {
   "cell_type": "code",
   "execution_count": 1,
   "metadata": {},
   "outputs": [
    {
     "name": "stdout",
     "output_type": "stream",
     "text": [
      "(0, 4)\n"
     ]
    }
   ],
   "source": [
    "#Q1 TwoSum Problem\n",
    "class Solution(object):\n",
    "    def twoSum(self, nums, target):\n",
    "        \"\"\"\n",
    "        :type nums: List[int]\n",
    "        :type target: int\n",
    "        :rtype: List[int]\n",
    "        \"\"\"\n",
    "        hashMap = {}\n",
    "        for i, n in enumerate(nums):\n",
    "            diff = target - n\n",
    "            if diff in hashMap:\n",
    "                return (hashMap[diff], i)\n",
    "            hashMap[n] = i\n",
    "        return\n",
    "\n",
    "sObj = Solution()\n",
    "op = sObj.twoSum([2,8,11,15,7], 9)\n",
    "print(op)"
   ]
  },
  {
   "cell_type": "code",
   "execution_count": 2,
   "metadata": {},
   "outputs": [
    {
     "name": "stdout",
     "output_type": "stream",
     "text": [
      "8\n"
     ]
    }
   ],
   "source": [
    "#Q2 : 121. Best Time to Buy and Sell Stock\n",
    "class Solution(object):\n",
    "    def maxProfit(self, prices):\n",
    "        \"\"\"\n",
    "        :type prices: List[int]\n",
    "        :rtype: int\n",
    "        \"\"\"\n",
    "        l, r = 0,1 # left = Buy, right = Sell\n",
    "        maxP = 0\n",
    "        while r < len(prices):\n",
    "            if prices[l] < prices[r]:\n",
    "                profit = prices[r] - prices[l]\n",
    "                maxP = max(maxP, profit)\n",
    "            else:\n",
    "                l = r\n",
    "            r += 1\n",
    "        return maxP\n",
    "\n",
    "sObj = Solution()\n",
    "op = sObj.maxProfit([7,1,5,3,9,4])\n",
    "print(op)"
   ]
  },
  {
   "cell_type": "code",
   "execution_count": 3,
   "metadata": {},
   "outputs": [
    {
     "name": "stdout",
     "output_type": "stream",
     "text": [
      "True\n"
     ]
    }
   ],
   "source": [
    "# Q3 Duplicate in an array :\n",
    "\n",
    "class Solution(object):\n",
    "    def containsDuplicate(self, nums):\n",
    "        \"\"\"\n",
    "        :type nums: List[int]\n",
    "        :rtype: bool\n",
    "        \"\"\"\n",
    "        hashSet = set()\n",
    "        for i in nums:\n",
    "            if i in hashSet:\n",
    "                return True\n",
    "            hashSet.add(i)\n",
    "        return False\n",
    "\n",
    "sObj = Solution()\n",
    "op = sObj.containsDuplicate([7,1,5,3,7,4])\n",
    "print(op)"
   ]
  },
  {
   "cell_type": "code",
   "execution_count": 4,
   "metadata": {},
   "outputs": [
    {
     "name": "stdout",
     "output_type": "stream",
     "text": [
      "Final Res:: [24, 12, 8, 6]\n"
     ]
    },
    {
     "data": {
      "text/plain": [
       "[24, 12, 8, 6]"
      ]
     },
     "execution_count": 4,
     "metadata": {},
     "output_type": "execute_result"
    }
   ],
   "source": [
    "#Q4 Product Except self\n",
    "class Solution:\n",
    "    #def productExceptSelf(self, nums: List[int]) -> List[int]:\n",
    "    def productExceptSelf(self, nums):\n",
    "        res = [1] * (len(nums))\n",
    "\n",
    "        prefix = 1\n",
    "        for i in range(len(nums)):\n",
    "            res[i] = prefix\n",
    "            prefix *= nums[i]\n",
    "\n",
    "        postfix = 1\n",
    "        for i in range(len(nums) -1, -1, -1):\n",
    "            res[i] *= postfix\n",
    "            postfix *= nums[i]\n",
    "        print(\"Final Res::\", res)\n",
    "        return res\n",
    "\n",
    "        print(\"Final : \",prefix)\n",
    "\n",
    "\n",
    "sObj = Solution()\n",
    "sObj.productExceptSelf([1,2,3,4])"
   ]
  },
  {
   "cell_type": "code",
   "execution_count": null,
   "metadata": {},
   "outputs": [],
   "source": []
  }
 ],
 "metadata": {
  "kernelspec": {
   "display_name": "envML",
   "language": "python",
   "name": "python3"
  },
  "language_info": {
   "codemirror_mode": {
    "name": "ipython",
    "version": 3
   },
   "file_extension": ".py",
   "mimetype": "text/x-python",
   "name": "python",
   "nbconvert_exporter": "python",
   "pygments_lexer": "ipython3",
   "version": "3.10.15"
  }
 },
 "nbformat": 4,
 "nbformat_minor": 2
}
