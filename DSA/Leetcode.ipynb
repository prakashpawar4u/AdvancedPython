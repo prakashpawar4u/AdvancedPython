{
 "cells": [
  {
   "cell_type": "markdown",
   "metadata": {},
   "source": [
    "1768. Merge Strings Alternately\n",
    "You are given two strings word1 and word2. Merge the strings by adding letters in alternating order, starting with word1. If a string is longer than the other, append the additional letters onto the end of the merged string.\n",
    "\n",
    "Return the merged string.\n",
    "\n",
    " \n",
    "\n",
    "Example 1:\n",
    "\n",
    "Input: word1 = \"abc\", word2 = \"pqr\"\n",
    "Output: \"apbqcr\"\n",
    "Explanation: The merged string will be merged as so:\n",
    "word1:  a   b   c\n",
    "word2:    p   q   r\n",
    "merged: a p b q c r "
   ]
  },
  {
   "cell_type": "code",
   "execution_count": 1,
   "metadata": {},
   "outputs": [
    {
     "name": "stdout",
     "output_type": "stream",
     "text": [
      "apbqcrs\n"
     ]
    }
   ],
   "source": [
    "class Solution(object):\n",
    "    def mergeAlternately(self, word1, word2):\n",
    "        \"\"\"\n",
    "        :type word1: str\n",
    "        :type word2: str\n",
    "        :rtype: str\n",
    "        \"\"\"\n",
    "\n",
    "        result = []\n",
    "        i = 0\n",
    "        while i < len(word1) or i < len(word2):\n",
    "            if i < len(word1):\n",
    "                result.append(word1[i])\n",
    "    \n",
    "            if i < len(word2) :\n",
    "                result.append(word2[i])\n",
    "            i +=1\n",
    "        return \"\".join(result)  \n",
    "\n",
    "obj = Solution()\n",
    "output = obj.mergeAlternately(\"abc\", \"pqrs\")\n",
    "print(output)"
   ]
  },
  {
   "cell_type": "code",
   "execution_count": 2,
   "metadata": {},
   "outputs": [
    {
     "name": "stdout",
     "output_type": "stream",
     "text": [
      "apbqcrs\n"
     ]
    }
   ],
   "source": [
    "class Solution(object):\n",
    "    def mergeAlternately(self, word1, word2):\n",
    "        \"\"\"\n",
    "        :type word1: str\n",
    "        :type word2: str\n",
    "        :rtype: str\n",
    "        \"\"\"\n",
    "\n",
    "        result = []\n",
    "        i = 0\n",
    "        while i < len(word1) or i < len(word2):\n",
    "            if i < len(word1):\n",
    "                result.append(word1[i])\n",
    "    \n",
    "            if i < len(word2) :\n",
    "                result.append(word2[i])\n",
    "            i +=1\n",
    "        return \"\".join(result)\n",
    "\n",
    "obj = Solution()\n",
    "output = obj.mergeAlternately(\"abc\", \"pqrs\")\n",
    "print(output)"
   ]
  },
  {
   "cell_type": "markdown",
   "metadata": {},
   "source": [
    "1071. Greatest Common Divisor of Strings\n",
    "\n",
    "For two strings s and t, we say \"t divides s\" if and only if s = t + t + t + ... + t + t (i.e., t is concatenated with itself one or more times).\n",
    "\n",
    "Given two strings str1 and str2, return the largest string x such that x divides both str1 and str2.\n",
    "\n",
    " \n",
    "\n",
    "Example 1:\n",
    "\n",
    "Input: str1 = \"ABCABC\", str2 = \"ABC\"\n",
    "Output: \"ABC\"\n",
    "Example 2:\n",
    "\n",
    "Input: str1 = \"ABABAB\", str2 = \"ABAB\"\n",
    "Output: \"AB\""
   ]
  },
  {
   "cell_type": "code",
   "execution_count": 5,
   "metadata": {},
   "outputs": [
    {
     "name": "stdout",
     "output_type": "stream",
     "text": [
      "Before B value is 3\n",
      "After 3, 0\n",
      "ABC\n"
     ]
    }
   ],
   "source": [
    "class Solution(object):\n",
    "    def gcd_math(self, a, b):\n",
    "        while b:\n",
    "            print(f\"Before B value is {b}\")\n",
    "            a, b = b, a % b\n",
    "            print(f\"After {a}, {b}\")\n",
    "        return a\n",
    "\n",
    "    def gcdOfStrings(self, str1, str2):\n",
    "        \"\"\"\n",
    "        :type str1: str\n",
    "        :type str2: str\n",
    "        :rtype: str\n",
    "        \"\"\"\n",
    "        if str1 + str2 != str2 + str1:\n",
    "            return \"\"\n",
    "\n",
    "        gcd_length = self.gcd_math(len(str1), len(str2))\n",
    "\n",
    "        return(str1[:gcd_length])\n",
    "\n",
    "obj = Solution()\n",
    "str1 = \"ABCABC\"\n",
    "str2 = \"ABC\"\n",
    "output = obj.gcdOfStrings(str1, str2)\n",
    "print(output)\n",
    "        "
   ]
  },
  {
   "cell_type": "code",
   "execution_count": 1,
   "metadata": {},
   "outputs": [
    {
     "name": "stdout",
     "output_type": "stream",
     "text": [
      "(0, 4)\n"
     ]
    }
   ],
   "source": [
    "#Q1 TwoSum Problem\n",
    "class Solution(object):\n",
    "    def twoSum(self, nums, target):\n",
    "        \"\"\"\n",
    "        :type nums: List[int]\n",
    "        :type target: int\n",
    "        :rtype: List[int]\n",
    "        \"\"\"\n",
    "        hashMap = {}\n",
    "        for i, n in enumerate(nums):\n",
    "            diff = target - n\n",
    "            if diff in hashMap:\n",
    "                return (hashMap[diff], i)\n",
    "            hashMap[n] = i\n",
    "        return\n",
    "\n",
    "sObj = Solution()\n",
    "op = sObj.twoSum([2,8,11,15,7], 9)\n",
    "print(op)"
   ]
  },
  {
   "cell_type": "code",
   "execution_count": 2,
   "metadata": {},
   "outputs": [
    {
     "name": "stdout",
     "output_type": "stream",
     "text": [
      "8\n"
     ]
    }
   ],
   "source": [
    "#Q2 : 121. Best Time to Buy and Sell Stock\n",
    "class Solution(object):\n",
    "    def maxProfit(self, prices):\n",
    "        \"\"\"\n",
    "        :type prices: List[int]\n",
    "        :rtype: int\n",
    "        \"\"\"\n",
    "        l, r = 0,1 # left = Buy, right = Sell\n",
    "        maxP = 0\n",
    "        while r < len(prices):\n",
    "            if prices[l] < prices[r]:\n",
    "                profit = prices[r] - prices[l]\n",
    "                maxP = max(maxP, profit)\n",
    "            else:\n",
    "                l = r\n",
    "            r += 1\n",
    "        return maxP\n",
    "\n",
    "sObj = Solution()\n",
    "op = sObj.maxProfit([7,1,5,3,9,4])\n",
    "print(op)"
   ]
  },
  {
   "cell_type": "code",
   "execution_count": 3,
   "metadata": {},
   "outputs": [
    {
     "name": "stdout",
     "output_type": "stream",
     "text": [
      "True\n"
     ]
    }
   ],
   "source": [
    "# Q3 Duplicate in an array :\n",
    "\n",
    "class Solution(object):\n",
    "    def containsDuplicate(self, nums):\n",
    "        \"\"\"\n",
    "        :type nums: List[int]\n",
    "        :rtype: bool\n",
    "        \"\"\"\n",
    "        hashSet = set()\n",
    "        for i in nums:\n",
    "            if i in hashSet:\n",
    "                return True\n",
    "            hashSet.add(i)\n",
    "        return False\n",
    "\n",
    "sObj = Solution()\n",
    "op = sObj.containsDuplicate([7,1,5,3,7,4])\n",
    "print(op)"
   ]
  },
  {
   "cell_type": "code",
   "execution_count": 4,
   "metadata": {},
   "outputs": [
    {
     "name": "stdout",
     "output_type": "stream",
     "text": [
      "Final Res:: [24, 12, 8, 6]\n"
     ]
    },
    {
     "data": {
      "text/plain": [
       "[24, 12, 8, 6]"
      ]
     },
     "execution_count": 4,
     "metadata": {},
     "output_type": "execute_result"
    }
   ],
   "source": [
    "#Q4 Product Except self\n",
    "class Solution:\n",
    "    #def productExceptSelf(self, nums: List[int]) -> List[int]:\n",
    "    def productExceptSelf(self, nums):\n",
    "        res = [1] * (len(nums))\n",
    "\n",
    "        prefix = 1\n",
    "        for i in range(len(nums)):\n",
    "            res[i] = prefix\n",
    "            prefix *= nums[i]\n",
    "\n",
    "        postfix = 1\n",
    "        for i in range(len(nums) -1, -1, -1):\n",
    "            res[i] *= postfix\n",
    "            postfix *= nums[i]\n",
    "        print(\"Final Res::\", res)\n",
    "        return res\n",
    "\n",
    "        print(\"Final : \",prefix)\n",
    "\n",
    "\n",
    "sObj = Solution()\n",
    "sObj.productExceptSelf([1,2,3,4])"
   ]
  },
  {
   "cell_type": "markdown",
   "metadata": {},
   "source": [
    "9. Palindrome Number\n",
    "Given an integer x, return true if x is a \n",
    "palindrome\n",
    ", and false otherwise.\n",
    "\n",
    " \n",
    "\n",
    "Example 1:\n",
    "\n",
    "Input: x = 121\n",
    "Output: true\n",
    "Explanation: 121 reads as 121 from left to right and from right to left.\n",
    "Example 2:\n",
    "\n",
    "Input: x = -121\n",
    "Output: false\n",
    "Explanation: From left to right, it reads -121. From right to left, it becomes 121-. Therefore it is not a palindrome."
   ]
  },
  {
   "cell_type": "code",
   "execution_count": 1,
   "metadata": {},
   "outputs": [],
   "source": [
    "class Solution:\n",
    "    def isPalindrome(self, x: int) -> bool:\n",
    "        if x < 0 or (x % 10 == 0 and x != 0 ):\n",
    "            return False\n",
    "        reversed_half = 0 \n",
    "        \n",
    "        while x > reversed_half:\n",
    "            reversed_half = reversed_half * 10 + x % 10\n",
    "            x //=10\n",
    "\n",
    "        return x == reversed_half or x == reversed_half // 10"
   ]
  },
  {
   "cell_type": "markdown",
   "metadata": {},
   "source": [
    "13. Roman to Integer\n",
    "Solved\n",
    "Easy\n",
    "Topics\n",
    "Companies\n",
    "Hint\n",
    "Roman numerals are represented by seven different symbols: I, V, X, L, C, D and M.\n",
    "\n",
    "Symbol       Value\n",
    "I             1\n",
    "V             5\n",
    "X             10\n",
    "L             50\n",
    "C             100\n",
    "D             500\n",
    "M             1000\n",
    "For example, 2 is written as II in Roman numeral, just two ones added together. 12 is written as XII, which is simply X + II. The number 27 is written as XXVII, which is XX + V + II.\n",
    "\n",
    "Roman numerals are usually written largest to smallest from left to right. However, the numeral for four is not IIII. Instead, the number four is written as IV. Because the one is before the five we subtract it making four. The same principle applies to the number nine, which is written as IX. There are six instances where subtraction is used:\n",
    "\n",
    "I can be placed before V (5) and X (10) to make 4 and 9. \n",
    "X can be placed before L (50) and C (100) to make 40 and 90. \n",
    "C can be placed before D (500) and M (1000) to make 400 and 900.\n",
    "Given a roman numeral, convert it to an integer.\n",
    "\n",
    " \n",
    "\n",
    "Example 1:\n",
    "\n",
    "Input: s = \"III\"\n",
    "Output: 3\n",
    "Explanation: III = 3.\n",
    "Example 2:\n",
    "\n",
    "Input: s = \"LVIII\"\n",
    "Output: 58\n",
    "Explanation: L = 50, V= 5, III = 3."
   ]
  },
  {
   "cell_type": "code",
   "execution_count": 2,
   "metadata": {},
   "outputs": [],
   "source": [
    "class Solution(object):\n",
    "    def romanToInt(self, s):\n",
    "        \"\"\"\n",
    "        :type s: str\n",
    "        :rtype: int\n",
    "        \"\"\"\n",
    "        roman_map = {\n",
    "        'I': 1,\n",
    "        'V': 5,\n",
    "        'X': 10,\n",
    "        'L': 50,\n",
    "        'C': 100,\n",
    "        'D': 500,\n",
    "        'M': 1000\n",
    "        }\n",
    "    \n",
    "        total = 0\n",
    "        for i in range(len(s)-1):\n",
    "            current_val = roman_map[s[i]]\n",
    "            next_val = roman_map[s[i+1]]\n",
    "\n",
    "            if current_val < next_val:\n",
    "                total -= current_val\n",
    "            else:\n",
    "                total += current_val\n",
    "\n",
    "        total += roman_map[s[-1]] \n",
    "        return total"
   ]
  },
  {
   "cell_type": "code",
   "execution_count": 7,
   "metadata": {},
   "outputs": [
    {
     "name": "stdout",
     "output_type": "stream",
     "text": [
      "[1, 4, 5, 6, 7, 9, 11, 13, 15]\n"
     ]
    }
   ],
   "source": [
    "def mergeSortedArrays(arr1, arr2):\n",
    "    # Pointers for both arrays\n",
    "    i, j = 0, 0\n",
    "    merged = []\n",
    "\n",
    "    # Traverse both arrays\n",
    "    while i < len(arr1) and j < len(arr2):\n",
    "        if arr1[i] < arr2[j]:\n",
    "            merged.append(arr1[i])\n",
    "            i += 1\n",
    "        else:\n",
    "            merged.append(arr2[j])\n",
    "            j += 1\n",
    "\n",
    "    # If there are remaining elements in arr1\n",
    "    while i < len(arr1):\n",
    "        merged.append(arr1[i])\n",
    "        i += 1\n",
    "\n",
    "    # If there are remaining elements in arr2\n",
    "    while j < len(arr2):\n",
    "        merged.append(arr2[j])\n",
    "        j += 1\n",
    "\n",
    "    return merged\n",
    "\n",
    "\n",
    "l1 = [4,5,6,7]\n",
    "l2 = [1,9,11,13,15]\n",
    "\n",
    "print(mergeSortedArrays(l1,l2))"
   ]
  },
  {
   "cell_type": "markdown",
   "metadata": {},
   "source": []
  },
  {
   "cell_type": "markdown",
   "metadata": {},
   "source": [
    "26th Jan: Remove Duplicates from Sorted Array\n",
    "\n",
    "\n",
    "Given an integer array nums sorted in non-decreasing order, remove the duplicates in-place such that each unique element appears only once. The relative order of the elements should be kept the same. Then return the number of unique elements in nums.\n",
    "\n",
    "Consider the number of unique elements of nums to be k, to get accepted, you need to do the following things:\n",
    "\n",
    "Change the array nums such that the first k elements of nums contain the unique elements in the order they were present in nums initially. The remaining elements of nums are not important as well as the size of nums.\n",
    "Return k.\n",
    "Custom Judge:\n",
    "\n",
    "The judge will test your solution with the following code:\n",
    "\n",
    "int[] nums = [...]; // Input array\n",
    "int[] expectedNums = [...]; // The expected answer with correct length\n",
    "\n",
    "int k = removeDuplicates(nums); // Calls your implementation\n",
    "\n",
    "assert k == expectedNums.length;\n",
    "for (int i = 0; i < k; i++) {\n",
    "    assert nums[i] == expectedNums[i];\n",
    "}\n",
    "If all assertions pass, then your solution will be accepted."
   ]
  },
  {
   "cell_type": "markdown",
   "metadata": {},
   "source": []
  },
  {
   "cell_type": "markdown",
   "metadata": {},
   "source": [
    "https://leetcode.com/problems/reverse-integer/"
   ]
  },
  {
   "cell_type": "code",
   "execution_count": 6,
   "metadata": {},
   "outputs": [
    {
     "name": "stdout",
     "output_type": "stream",
     "text": [
      "321\n",
      "-654\n"
     ]
    }
   ],
   "source": [
    "class Solution:\n",
    "    def reverse(self, x: int) -> int:\n",
    "        int_min = -2 ** 31\n",
    "        int_max = 2 ** 31 -1\n",
    "\n",
    "        sign = -1 if x < 0 else 1\n",
    "        x = abs(x)\n",
    "        \n",
    "        reversed_x = 0\n",
    "        while x != 0:\n",
    "            digit = x % 10\n",
    "            x //= 10\n",
    "\n",
    "            #push th edigit to reversed x \n",
    "            reversed_x = reversed_x * 10  + digit\n",
    "        \n",
    "        reversed_x *= sign\n",
    "\n",
    "        if reversed_x < int_min or reversed_x > int_max:\n",
    "            return 0\n",
    "        return reversed_x\n",
    "    \n",
    "sobj = Solution()\n",
    "print(sobj.reverse(123))\n",
    "print(sobj.reverse(-456))"
   ]
  },
  {
   "cell_type": "markdown",
   "metadata": {},
   "source": [
    " Remove Duplicates from Sorted Array\n",
    "Easy\n",
    "Topics\n",
    "Companies\n",
    "Hint\n",
    "Given an integer array nums sorted in non-decreasing order, remove the duplicates in-place such that each unique element appears only once. The relative order of the elements should be kept the same. Then return the number of unique elements in nums.\n",
    "\n",
    "Consider the number of unique elements of nums to be k, to get accepted, you need to do the following things:\n",
    "\n",
    "Change the array nums such that the first k elements of nums contain the unique elements in the order they were present in nums initially. The remaining elements of nums are not important as well as the size of nums.\n",
    "Return k.\n",
    "Custom Judge:\n",
    "\n",
    "The judge will test your solution with the following code:\n",
    "\n",
    "int[] nums = [...]; // Input array\n",
    "int[] expectedNums = [...]; // The expected answer with correct length\n",
    "\n",
    "int k = removeDuplicates(nums); // Calls your implementation\n",
    "\n",
    "assert k == expectedNums.length;\n",
    "for (int i = 0; i < k; i++) {\n",
    "    assert nums[i] == expectedNums[i];\n",
    "}\n",
    "If all assertions pass, then your solution will be accepted.\n",
    "\n",
    " \n",
    "\n",
    "Example 1:\n",
    "\n",
    "Input: nums = [1,1,2]\n",
    "Output: 2, nums = [1,2,_]\n",
    "Explanation: Your function should return k = 2, with the first two elements of nums being 1 and 2 respectively.\n",
    "It does not matter what you leave beyond the returned k (hence they are underscores).\n",
    "Example 2:\n",
    "\n",
    "Input: nums = [0,0,1,1,1,2,2,3,3,4]\n",
    "Output: 5, nums = [0,1,2,3,4,_,_,_,_,_]\n",
    "Explanation: Your function should return k = 5, with the first five elements of nums being 0, 1, 2, 3, and 4 respectively.\n",
    "It does not matter what you leave beyond the returned k (hence they are underscores)."
   ]
  },
  {
   "cell_type": "markdown",
   "metadata": {},
   "source": [
    "https://leetcode.com/problems/remove-duplicates-from-sorted-array/"
   ]
  },
  {
   "cell_type": "code",
   "execution_count": 5,
   "metadata": {},
   "outputs": [
    {
     "name": "stdout",
     "output_type": "stream",
     "text": [
      "6\n"
     ]
    }
   ],
   "source": [
    "from typing import List\n",
    "class Solution:\n",
    "    def removeDuplicates(self, nums: List[int]) -> int:\n",
    "        if not nums:\n",
    "            return 0\n",
    "\n",
    "        i = 0\n",
    "\n",
    "\n",
    "        for j in range(1, len(nums)):\n",
    "            if nums[j] != nums[i]:\n",
    "                i += 1\n",
    "                nums[i] = nums[j]\n",
    "        return i + 1\n",
    "    \n",
    "sobj = Solution()\n",
    "l = [1,2,2,2,5,7,8,8,8,9]\n",
    "print(sobj.removeDuplicates(l))"
   ]
  },
  {
   "cell_type": "markdown",
   "metadata": {},
   "source": [
    "https://leetcode.com/problems/remove-element/description/\n",
    "\n",
    "\n",
    "# Remove Element\n",
    "\n",
    "Given an integer array nums and an integer val, remove all occurrences of val in nums in-place. The order of the elements may be changed. Then return the number of elements in nums which are not equal to val.\n",
    "\n",
    "Consider the number of elements in nums which are not equal to val be k, to get accepted, you need to do the following things:\n",
    "\n",
    "Change the array nums such that the first k elements of nums contain the elements which are not equal to val. The remaining elements of nums are not important as well as the size of nums.\n",
    "Return k.\n",
    "Custom Judge:\n",
    "\n",
    "The judge will test your solution with the following code:\n",
    "\n",
    "int[] nums = [...]; // Input array\n",
    "int val = ...; // Value to remove\n",
    "int[] expectedNums = [...]; // The expected answer with correct length.\n",
    "                            // It is sorted with no values equaling val.\n",
    "\n",
    "int k = removeElement(nums, val); // Calls your implementation\n",
    "\n",
    "assert k == expectedNums.length;\n",
    "sort(nums, 0, k); // Sort the first k elements of nums\n",
    "for (int i = 0; i < actualLength; i++) {\n",
    "    assert nums[i] == expectedNums[i];\n",
    "}\n",
    "If all assertions pass, then your solution will be accepted.\n",
    "\n",
    " \n",
    "\n",
    "Example 1:\n",
    "\n",
    "Input: nums = [3,2,2,3], val = 3\n",
    "Output: 2, nums = [2,2,_,_]\n",
    "Explanation: Your function should return k = 2, with the first two elements of nums being 2.\n",
    "It does not matter what you leave beyond the returned k (hence they are underscores).\n",
    "Example 2:\n",
    "\n",
    "Input: nums = [0,1,2,2,3,0,4,2], val = 2\n",
    "Output: 5, nums = [0,1,4,0,3,_,_,_]\n",
    "Explanation: Your function should return k = 5, with the first five elements of nums containing 0, 0, 1, 3, and 4.\n",
    "Note that the five elements can be returned in any order.\n",
    "It does not matter what you leave beyond the returned k (hence they are underscores)."
   ]
  },
  {
   "cell_type": "code",
   "execution_count": 6,
   "metadata": {},
   "outputs": [
    {
     "data": {
      "text/plain": [
       "5"
      ]
     },
     "execution_count": 6,
     "metadata": {},
     "output_type": "execute_result"
    }
   ],
   "source": [
    "nums = [0,1,2,2,3,0,4,2]\n",
    "\n",
    "class Solution:\n",
    "    def removeElement(self, nums: List[int], val: int) -> int:\n",
    "        k = 0\n",
    "        for i in range(len(nums)):\n",
    "            if nums[i] != val:\n",
    "                nums[k] = nums[i]\n",
    "                k += 1\n",
    "        return k\n",
    "\n",
    "sobj = Solution()\n",
    "sobj.removeElement(nums, 2)"
   ]
  },
  {
   "cell_type": "code",
   "execution_count": 4,
   "metadata": {},
   "outputs": [
    {
     "data": {
      "text/plain": [
       "[0, 1, 2, 2, 3, 0, 4, 2]"
      ]
     },
     "execution_count": 4,
     "metadata": {},
     "output_type": "execute_result"
    }
   ],
   "source": [
    "nums"
   ]
  },
  {
   "cell_type": "code",
   "execution_count": 17,
   "metadata": {},
   "outputs": [
    {
     "data": {
      "text/plain": [
       "[1, 1, 2, 2, 3, 3]"
      ]
     },
     "execution_count": 17,
     "metadata": {},
     "output_type": "execute_result"
    }
   ],
   "source": [
    "nums = [1, 1, 1, 2, 2, 3]\n",
    "i = 2\n",
    "for j in range(2,len(nums)):\n",
    "    # if nums[j] != nums[i -2]:\n",
    "    # print(j ,'==>', i -2)\n",
    "    if nums[j] != nums[i -2]:\n",
    "        nums[i] = nums[j]\n",
    "        i +=1\n",
    "nums"
   ]
  },
  {
   "cell_type": "code",
   "execution_count": null,
   "metadata": {},
   "outputs": [],
   "source": [
    "s = \"()[]{}\"\n",
    "\n",
    "\n",
    "stack = []\n",
    "    \n",
    "    # Hash map to store the mapping of closing brackets to opening brackets\n",
    "bracket_map = {')': '(', '}': '{', ']': '['}\n",
    "\n",
    "for char in s:\n",
    "    if char in bracket_map:\n",
    "        top_element = stack.pop() \n"
   ]
  },
  {
   "cell_type": "code",
   "execution_count": 19,
   "metadata": {},
   "outputs": [
    {
     "data": {
      "text/plain": [
       "'True'"
      ]
     },
     "execution_count": 19,
     "metadata": {},
     "output_type": "execute_result"
    }
   ],
   "source": [
    "x = 5\n",
    "val = \"True\" if x!=0 else \"False\"\n",
    "val"
   ]
  },
  {
   "cell_type": "code",
   "execution_count": 30,
   "metadata": {},
   "outputs": [
    {
     "data": {
      "text/plain": [
       "False"
      ]
     },
     "execution_count": 30,
     "metadata": {},
     "output_type": "execute_result"
    }
   ],
   "source": [
    "def parenthesis(s):\n",
    "    bracket_map = {')': '(', '}': '{', ']': '['}\n",
    "    stack = []\n",
    "\n",
    "    for char in s:\n",
    "        if char in bracket_map:\n",
    "            top_element = stack.pop() if stack else '#'\n",
    "\n",
    "            if bracket_map[char] != top_element:\n",
    "                return False\n",
    "        else:\n",
    "            stack.append(char)\n",
    "    print(stack)\n",
    "    return not stack\n",
    "\n",
    "parenthesis('([]#)')"
   ]
  },
  {
   "cell_type": "markdown",
   "metadata": {},
   "source": [
    "Given a positive integer n, write a function that returns the number of \n",
    "set bits\n",
    " in its binary representation (also known as the Hamming weight).\n",
    "\n",
    " \n",
    "\n",
    "Example 1:\n",
    "\n",
    "Input: n = 11\n",
    "\n",
    "Output: 3\n",
    "\n",
    "Explanation:\n",
    "\n",
    "The input binary string 1011 has a total of three set bits.\n",
    "\n",
    "Example 2:\n",
    "\n",
    "Input: n = 128\n",
    "\n",
    "Output: 1\n",
    "\n",
    "Explanation:\n",
    "\n",
    "The input binary string 10000000 has a total of one set bit.\n",
    "\n",
    "Example 3:\n",
    "\n",
    "Input: n = 2147483645\n",
    "\n",
    "Output: 30\n",
    "\n",
    "Explanation:"
   ]
  },
  {
   "cell_type": "code",
   "execution_count": 34,
   "metadata": {},
   "outputs": [
    {
     "name": "stdout",
     "output_type": "stream",
     "text": [
      "0\n"
     ]
    },
    {
     "data": {
      "text/plain": [
       "1"
      ]
     },
     "execution_count": 34,
     "metadata": {},
     "output_type": "execute_result"
    }
   ],
   "source": [
    "def hammingWeight(n : int) -> int:\n",
    "    count = 0\n",
    "    while n:\n",
    "        n = n & (n -1)\n",
    "        count +=1\n",
    "    print(n)\n",
    "    return count \n",
    "n = 128\n",
    "hammingWeight(n)"
   ]
  },
  {
   "cell_type": "code",
   "execution_count": 35,
   "metadata": {},
   "outputs": [
    {
     "data": {
      "text/plain": [
       "1"
      ]
     },
     "execution_count": 35,
     "metadata": {},
     "output_type": "execute_result"
    }
   ],
   "source": [
    "def hammingWeight(n: int) -> int:\n",
    "    return bin(n).count('1')\n",
    "hammingWeight(n)"
   ]
  },
  {
   "cell_type": "markdown",
   "metadata": {},
   "source": [
    "125. Valid Palindrome\n",
    "Easy\n",
    "Topics\n",
    "Companies\n",
    "A phrase is a palindrome if, after converting all uppercase letters into lowercase letters and removing all non-alphanumeric characters, it reads the same forward and backward. Alphanumeric characters include letters and numbers.\n",
    "\n",
    "Given a string s, return true if it is a palindrome, or false otherwise.\n",
    "\n",
    " \n",
    "\n",
    "Example 1:\n",
    "\n",
    "Input: s = \"A man, a plan, a canal: Panama\"\n",
    "Output: true\n",
    "Explanation: \"amanaplanacanalpanama\" is a palindrome.\n",
    "Example 2:\n",
    "\n",
    "Input: s = \"race a car\"\n",
    "Output: false\n",
    "Explanation: \"raceacar\" is not a palindrome.\n",
    "Example 3:\n",
    "\n",
    "Input: s = \" \"\n",
    "Output: true\n",
    "Explanation: s is an empty string \"\" after removing non-alphanumeric characters.\n",
    "Since an empty string reads the same forward and backward, it is a palindrome.\n",
    " \n",
    "\n",
    "Constraints:\n",
    "\n",
    "1 <= s.length <= 2 * 105\n",
    "s consists only of printable ASCII characters."
   ]
  },
  {
   "cell_type": "code",
   "execution_count": 41,
   "metadata": {},
   "outputs": [
    {
     "name": "stdout",
     "output_type": "stream",
     "text": [
      "['a', 'm', 'a', 'n', 'a', 'p', 'l', 'a', 'n', 'a', 'c', 'a', 'n', 'a', 'l', 'p', 'a', 'n', 'a', 'm', 'a']\n",
      "amanaplanacanalpanama\n"
     ]
    },
    {
     "data": {
      "text/plain": [
       "True"
      ]
     },
     "execution_count": 41,
     "metadata": {},
     "output_type": "execute_result"
    }
   ],
   "source": [
    "def isPalindrome(s : str) -> bool:\n",
    "    filter_st = []\n",
    "\n",
    "    for char in s: \n",
    "        if char.isalnum():\n",
    "            filter_st.append(char.lower())\n",
    "    print(filter_st)\n",
    "    print(''.join(filter_st))\n",
    "    return ''.join(filter_st) == ''.join(filter_st[::-1])\n",
    "#isPalindrome('Madam')#\n",
    "\n",
    "isPalindrome('A man, a plan, a canal: Panama')"
   ]
  },
  {
   "cell_type": "code",
   "execution_count": 42,
   "metadata": {},
   "outputs": [
    {
     "data": {
      "text/plain": [
       "True"
      ]
     },
     "execution_count": 42,
     "metadata": {},
     "output_type": "execute_result"
    }
   ],
   "source": [
    "def isPalindrome(s : str) -> bool:\n",
    "    filtered_st = ''.join(c.lower() for c in s if c.isalnum())\n",
    "    return filtered_st == filtered_st[::-1]\n",
    "isPalindrome('A man, a plan, a canal: Panama')\n"
   ]
  },
  {
   "cell_type": "markdown",
   "metadata": {},
   "source": [
    " Reverse Bits\n",
    "Easy\n",
    "Topics\n",
    "Companies\n",
    "Reverse bits of a given 32 bits unsigned integer.\n",
    "\n",
    "Note:\n",
    "\n",
    "Note that in some languages, such as Java, there is no unsigned integer type. In this case, both input and output will be given as a signed integer type. They should not affect your implementation, as the integer's internal binary representation is the same, whether it is signed or unsigned.\n",
    "In Java, the compiler represents the signed integers using 2's complement notation. Therefore, in Example 2 above, the input represents the signed integer -3 and the output represents the signed integer -1073741825.\n",
    " \n",
    "\n",
    "Example 1:\n",
    "\n",
    "Input: n = 00000010100101000001111010011100\n",
    "Output:    964176192 (00111001011110000010100101000000)\n",
    "Explanation: The input binary string 00000010100101000001111010011100 represents the unsigned integer 43261596, so return 964176192 which its binary representation is 00111001011110000010100101000000.\n",
    "Example 2:\n",
    "\n",
    "Input: n = 11111111111111111111111111111101\n",
    "Output:   3221225471 (10111111111111111111111111111111)\n",
    "Explanation: The input binary string 11111111111111111111111111111101 represents the unsigned integer 4294967293, so return 3221225471 which its binary representation is 10111111111111111111111111111111.\n",
    " \n",
    "\n",
    "Constraints:\n",
    "\n",
    "The input must be a binary string of length 32"
   ]
  },
  {
   "cell_type": "code",
   "execution_count": 47,
   "metadata": {},
   "outputs": [
    {
     "ename": "SyntaxError",
     "evalue": "invalid token (<ipython-input-47-6eb0a9a5222b>, line 15)",
     "output_type": "error",
     "traceback": [
      "\u001b[0;36m  File \u001b[0;32m\"<ipython-input-47-6eb0a9a5222b>\"\u001b[0;36m, line \u001b[0;32m15\u001b[0m\n\u001b[0;31m    n = 00000010100101000001111010011100\u001b[0m\n\u001b[0m                                       ^\u001b[0m\n\u001b[0;31mSyntaxError\u001b[0m\u001b[0;31m:\u001b[0m invalid token\n"
     ]
    }
   ],
   "source": [
    "def reverseBits(n: int) -> int:\n",
    "    reversed_n = 0\n",
    "    for i in range(32):  # We know the number has exactly 32 bits.\n",
    "        # Get the rightmost bit of n\n",
    "        rightmost_bit = n & 1\n",
    "        # Shift the reversed result to the left by 1 to make space for the new bit\n",
    "        reversed_n = reversed_n << 1\n",
    "        # Add the rightmost bit to reversed_n\n",
    "        reversed_n |= rightmost_bit\n",
    "        # Shift n to the right by 1 to process the next bit\n",
    "        n >>= 1\n",
    "    return reversed_n\n",
    "\n",
    "n = 11111111111111111111111111111101\n",
    "n = 00000010100101000001111010011100\n",
    "reverseBits(n)\n"
   ]
  },
  {
   "cell_type": "code",
   "execution_count": null,
   "metadata": {},
   "outputs": [],
   "source": []
  }
 ],
 "metadata": {
  "kernelspec": {
   "display_name": "base",
   "language": "python",
   "name": "python3"
  },
  "language_info": {
   "codemirror_mode": {
    "name": "ipython",
    "version": 3
   },
   "file_extension": ".py",
   "mimetype": "text/x-python",
   "name": "python",
   "nbconvert_exporter": "python",
   "pygments_lexer": "ipython3",
   "version": "3.7.6"
  }
 },
 "nbformat": 4,
 "nbformat_minor": 2
}
