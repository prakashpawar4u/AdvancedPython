{
 "cells": [
  {
   "cell_type": "markdown",
   "metadata": {},
   "source": [
    "70. Climbing Stairs\n",
    "Easy\n",
    "Topics\n",
    "Companies\n",
    "Hint\n",
    "You are climbing a staircase. It takes n steps to reach the top.\n",
    "\n",
    "Each time you can either climb 1 or 2 steps. In how many distinct ways can you climb to the top?\n",
    "\n",
    " \n",
    "\n",
    "Example 1:\n",
    "\n",
    "Input: n = 2\n",
    "Output: 2\n",
    "Explanation: There are two ways to climb to the top.\n",
    "1. 1 step + 1 step\n",
    "2. 2 steps\n",
    "Example 2:\n",
    "\n",
    "Input: n = 3\n",
    "Output: 3\n",
    "Explanation: There are three ways to climb to the top.\n",
    "1. 1 step + 1 step + 1 step\n",
    "2. 1 step + 2 steps\n",
    "3. 2 steps + 1 step"
   ]
  },
  {
   "cell_type": "code",
   "execution_count": 6,
   "metadata": {},
   "outputs": [
    {
     "data": {
      "text/plain": [
       "21"
      ]
     },
     "execution_count": 6,
     "metadata": {},
     "output_type": "execute_result"
    }
   ],
   "source": [
    "def climbStairs(n: int) -> int:\n",
    "    if n == 1:\n",
    "        return 1\n",
    "    prev2, prev1 = 1, 1\n",
    "\n",
    "    for i in range(2, n+1):\n",
    "        current = prev1 + prev2\n",
    "        prev2 = prev1\n",
    "        prev1 = current\n",
    "    return prev1\n",
    "\n",
    "\n",
    "n = 7\n",
    "climbStairs(n) \n"
   ]
  },
  {
   "cell_type": "markdown",
   "metadata": {},
   "source": [
    "169. Majority Element\n",
    "Solved\n",
    "Easy\n",
    "Topics\n",
    "Companies\n",
    "Given an array nums of size n, return the majority element.\n",
    "\n",
    "The majority element is the element that appears more than ⌊n / 2⌋ times. You may assume that the majority element always exists in the array.\n",
    "\n",
    " \n",
    "\n",
    "Example 1:\n",
    "\n",
    "Input: nums = [3,2,3]\n",
    "Output: 3\n",
    "Example 2:\n",
    "\n",
    "Input: nums = [2,2,1,1,1,2,2]\n",
    "Output: 2\n",
    " \n",
    "\n",
    "Constraints:\n",
    "\n",
    "n == nums.length\n",
    "1 <= n <= 5 * 104\n",
    "-109 <= nums[i] <= 109\n"
   ]
  },
  {
   "cell_type": "code",
   "execution_count": 1,
   "metadata": {},
   "outputs": [
    {
     "name": "stdout",
     "output_type": "stream",
     "text": [
      "-1\n"
     ]
    }
   ],
   "source": [
    "from typing import List\n",
    "from typing import List\n",
    "\n",
    "def majorityElement(nums: List[int]) -> int:\n",
    "    candidate = None\n",
    "    count = 0\n",
    "\n",
    "    for num in nums: \n",
    "        if count == 0:\n",
    "            candidate = num\n",
    "        count += (1 if candidate == num else -1)\n",
    "\n",
    "    # Optional: Verify candidate\n",
    "    if nums.count(candidate) > len(nums) // 2:\n",
    "        return candidate\n",
    "    else:\n",
    "        return -1  # or raise an error or return None\n",
    "\n",
    "print(majorityElement([3,4,5,2,3,4]))"
   ]
  },
  {
   "cell_type": "markdown",
   "metadata": {},
   "source": [
    "344. Reverse String\n",
    "Easy\n",
    "Topics\n",
    "Companies\n",
    "Hint\n",
    "Write a function that reverses a string. The input string is given as an array of characters s.\n",
    "\n",
    "You must do this by modifying the input array in-place with O(1) extra memory.\n",
    "\n",
    " \n",
    "\n",
    "Example 1:\n",
    "\n",
    "Input: s = [\"h\",\"e\",\"l\",\"l\",\"o\"]\n",
    "Output: [\"o\",\"l\",\"l\",\"e\",\"h\"]\n",
    "Example 2:\n",
    "\n",
    "Input: s = [\"H\",\"a\",\"n\",\"n\",\"a\",\"h\"]\n",
    "Output: [\"h\",\"a\",\"n\",\"n\",\"a\",\"H\"]"
   ]
  },
  {
   "cell_type": "code",
   "execution_count": 3,
   "metadata": {},
   "outputs": [
    {
     "data": {
      "text/plain": [
       "['o', 'l', 'l', 'e', 'h']"
      ]
     },
     "execution_count": 3,
     "metadata": {},
     "output_type": "execute_result"
    }
   ],
   "source": [
    "def reverseString(s):\n",
    "        \"\"\"\n",
    "        Do not return anything, modify s in-place instead.\n",
    "        \"\"\"\n",
    "        #print(type(s), s)\n",
    "        # return s[::-1]\n",
    "        l = 0 \n",
    "        r = len(s) - 1\n",
    "\n",
    "        while l < r:\n",
    "            s[l], s[r] = s[r], s[l]\n",
    "            l += 1\n",
    "            r -= 1\n",
    "        return s\n",
    "s = [\"h\",\"e\",\"l\",\"l\",\"o\"]\n",
    "reverseString(s)"
   ]
  },
  {
   "cell_type": "markdown",
   "metadata": {},
   "source": [
    "268. Missing Number\n",
    "Easy\n",
    "Topics\n",
    "Companies\n",
    "Given an array nums containing n distinct numbers in the range [0, n], return the only number in the range that is missing from the array.\n",
    "\n",
    " \n",
    "\n",
    "Example 1:\n",
    "\n",
    "Input: nums = [3,0,1]\n",
    "\n",
    "Output: 2\n",
    "\n",
    "Explanation:\n",
    "\n",
    "n = 3 since there are 3 numbers, so all numbers are in the range [0,3]. 2 is the missing number in the range since it does not appear in nums.\n",
    "\n",
    "Example 2:\n",
    "\n",
    "Input: nums = [0,1]\n",
    "\n",
    "Output: 2\n",
    "\n",
    "Explanation:\n",
    "\n",
    "n = 2 since there are 2 numbers, so all numbers are in the range [0,2]. 2 is the missing number in the range since it does not appear in nums.\n",
    "\n",
    "Example 3:\n",
    "\n",
    "Input: nums = [9,6,4,2,3,5,7,0,1]\n",
    "\n",
    "Output: 8\n",
    "\n",
    "Explanation:\n",
    "\n",
    "n = 9 since there are 9 numbers, so all numbers are in the range [0,9]. 8 is the missing number in the range since it does not appear in nums.\n",
    "\n"
   ]
  },
  {
   "cell_type": "code",
   "execution_count": null,
   "metadata": {},
   "outputs": [],
   "source": [
    "class Solution:\n",
    "    def missingNumber(self, nums: List[int]) -> int:\n",
    "        n = len(nums)  \n",
    "        expected_sums = n * (n + 1)//2\n",
    "\n",
    "        actual_sum = sum(nums)\n",
    "\n",
    "        return expected_sums - actual_sum"
   ]
  },
  {
   "cell_type": "markdown",
   "metadata": {},
   "source": [
    "# 11. Container With Most Water\n",
    "\n",
    "https://leetcode.com/problems/container-with-most-water/description/\n",
    " \n",
    "Medium\n",
    "Topics\n",
    "Companies\n",
    "Hint\n",
    "You are given an integer array height of length n. There are n vertical lines drawn such that the two endpoints of the ith line are (i, 0) and (i, height[i]).\n",
    "\n",
    "Find two lines that together with the x-axis form a container, such that the container contains the most water.\n",
    "\n",
    "Return the maximum amount of water a container can store.\n",
    "\n",
    "Notice that you may not slant the container.\n",
    "\n",
    " \n",
    "\n",
    "Example 1:\n",
    "\n",
    "\n",
    "Input: height = [1,8,6,2,5,4,8,3,7]\n",
    "Output: 49\n",
    "Explanation: The above vertical lines are represented by array [1,8,6,2,5,4,8,3,7]. In this case, the max area of water (blue section) the container can contain is 49.\n",
    "Example 2:\n",
    "\n",
    "Input: height = [1,1]\n",
    "Output: 1\n",
    " \n",
    "\n",
    "Constraints:\n",
    "\n",
    "n == height.length\n",
    "2 <= n <= 105\n",
    "0 <= height[i] <= 104"
   ]
  },
  {
   "cell_type": "code",
   "execution_count": null,
   "metadata": {},
   "outputs": [
    {
     "name": "stdout",
     "output_type": "stream",
     "text": [
      "49\n"
     ]
    }
   ],
   "source": [
    "def maxArea(height):\n",
    "    res = 0\n",
    "    l, r = 0, len(height) - 1  # Left and Right pointers\n",
    "\n",
    "    while l < r:\n",
    "        area = (r - l) * min(height[l], height[r])  # Corrected formula for area\n",
    "        res = max(res, area)  # Update the maximum area if needed\n",
    "\n",
    "        if height[l] < height[r]:  # Move the pointer pointing to the smaller height\n",
    "            l += 1\n",
    "        else:\n",
    "            r -= 1\n",
    "\n",
    "    return res\n",
    "\n",
    "\n",
    "height = [1, 7, 2, 5, 4, 7, 3, 6]\n",
    "print(maxArea(height))\n",
    "\n"
   ]
  },
  {
   "cell_type": "markdown",
   "metadata": {},
   "source": [
    "1768. Merge Strings Alternately\n",
    "You are given two strings word1 and word2. Merge the strings by adding letters in alternating order, starting with word1. If a string is longer than the other, append the additional letters onto the end of the merged string.\n",
    "\n",
    "Return the merged string.\n",
    "\n",
    " \n",
    "\n",
    "Example 1:\n",
    "\n",
    "Input: word1 = \"abc\", word2 = \"pqr\"\n",
    "Output: \"apbqcr\"\n",
    "Explanation: The merged string will be merged as so:\n",
    "word1:  a   b   c\n",
    "word2:    p   q   r\n",
    "merged: a p b q c r "
   ]
  },
  {
   "cell_type": "code",
   "execution_count": 1,
   "metadata": {},
   "outputs": [
    {
     "name": "stdout",
     "output_type": "stream",
     "text": [
      "apbqcrs\n"
     ]
    }
   ],
   "source": [
    "class Solution(object):\n",
    "    def mergeAlternately(self, word1, word2):\n",
    "        \"\"\"\n",
    "        :type word1: str\n",
    "        :type word2: str\n",
    "        :rtype: str\n",
    "        \"\"\"\n",
    "\n",
    "        result = []\n",
    "        i = 0\n",
    "        while i < len(word1) or i < len(word2):\n",
    "            if i < len(word1):\n",
    "                result.append(word1[i])\n",
    "    \n",
    "            if i < len(word2) :\n",
    "                result.append(word2[i])\n",
    "            i +=1\n",
    "        return \"\".join(result)  \n",
    "\n",
    "obj = Solution()\n",
    "output = obj.mergeAlternately(\"abc\", \"pqrs\")\n",
    "print(output)"
   ]
  },
  {
   "cell_type": "markdown",
   "metadata": {},
   "source": [
    "1071. Greatest Common Divisor of Strings\n",
    "\n",
    "For two strings s and t, we say \"t divides s\" if and only if s = t + t + t + ... + t + t (i.e., t is concatenated with itself one or more times).\n",
    "\n",
    "Given two strings str1 and str2, return the largest string x such that x divides both str1 and str2.\n",
    "\n",
    " \n",
    "\n",
    "Example 1:\n",
    "\n",
    "Input: str1 = \"ABCABC\", str2 = \"ABC\"\n",
    "Output: \"ABC\"\n",
    "Example 2:\n",
    "\n",
    "Input: str1 = \"ABABAB\", str2 = \"ABAB\"\n",
    "Output: \"AB\""
   ]
  },
  {
   "cell_type": "code",
   "execution_count": 10,
   "metadata": {},
   "outputs": [
    {
     "name": "stdout",
     "output_type": "stream",
     "text": [
      "Before B value is 3\n",
      "After 3, 0\n",
      "ABC\n"
     ]
    }
   ],
   "source": [
    "class Solution(object):\n",
    "    def gcd_math(self, a, b):\n",
    "        while b:\n",
    "            print(f\"Before B value is {b}\")\n",
    "            a, b = b, a % b\n",
    "            print(f\"After {a}, {b}\")\n",
    "        return a\n",
    "\n",
    "    def gcdOfStrings(self, str1, str2):\n",
    "        \"\"\"\n",
    "        :type str1: str\n",
    "        :type str2: str\n",
    "        :rtype: str\n",
    "        \"\"\"\n",
    "        if str1 + str2 != str2 + str1:\n",
    "            return \"\"\n",
    "\n",
    "        gcd_length = self.gcd_math(len(str1), len(str2))\n",
    "\n",
    "        return(str1[:gcd_length])\n",
    "\n",
    "obj = Solution()\n",
    "str1 = \"ABCABC\"\n",
    "str2 = \"ABC\"\n",
    "output = obj.gcdOfStrings(str1, str2)\n",
    "print(output)\n",
    "        "
   ]
  },
  {
   "cell_type": "code",
   "execution_count": 1,
   "metadata": {},
   "outputs": [
    {
     "name": "stdout",
     "output_type": "stream",
     "text": [
      "(0, 4)\n"
     ]
    }
   ],
   "source": [
    "#Q1 TwoSum Problem\n",
    "class Solution(object):\n",
    "    def twoSum(self, nums, target):\n",
    "        \"\"\"\n",
    "        :type nums: List[int]\n",
    "        :type target: int\n",
    "        :rtype: List[int]\n",
    "        \"\"\"\n",
    "        hashMap = {}\n",
    "        for i, n in enumerate(nums):\n",
    "            diff = target - n\n",
    "            if diff in hashMap:\n",
    "                return (hashMap[diff], i)\n",
    "            hashMap[n] = i\n",
    "        return\n",
    "\n",
    "sObj = Solution()\n",
    "op = sObj.twoSum([2,8,11,15,7], 9)\n",
    "print(op)"
   ]
  },
  {
   "cell_type": "code",
   "execution_count": 2,
   "metadata": {},
   "outputs": [
    {
     "name": "stdout",
     "output_type": "stream",
     "text": [
      "8\n"
     ]
    }
   ],
   "source": [
    "#Q2 : 121. Best Time to Buy and Sell Stock\n",
    "class Solution(object):\n",
    "    def maxProfit(self, prices):\n",
    "        \"\"\"\n",
    "        :type prices: List[int]\n",
    "        :rtype: int\n",
    "        \"\"\"\n",
    "        l, r = 0,1 # left = Buy, right = Sell\n",
    "        maxP = 0\n",
    "        while r < len(prices):\n",
    "            if prices[l] < prices[r]:\n",
    "                profit = prices[r] - prices[l]\n",
    "                maxP = max(maxP, profit)\n",
    "            else:\n",
    "                l = r\n",
    "            r += 1\n",
    "        return maxP\n",
    "\n",
    "sObj = Solution()\n",
    "op = sObj.maxProfit([7,1,5,3,9,4])\n",
    "print(op)"
   ]
  },
  {
   "cell_type": "code",
   "execution_count": 3,
   "metadata": {},
   "outputs": [
    {
     "name": "stdout",
     "output_type": "stream",
     "text": [
      "True\n"
     ]
    }
   ],
   "source": [
    "# Q3 Duplicate in an array :\n",
    "\n",
    "class Solution(object):\n",
    "    def containsDuplicate(self, nums):\n",
    "        \"\"\"\n",
    "        :type nums: List[int]\n",
    "        :rtype: bool\n",
    "        \"\"\"\n",
    "        hashSet = set()\n",
    "        for i in nums:\n",
    "            if i in hashSet:\n",
    "                return True\n",
    "            hashSet.add(i)\n",
    "        return False\n",
    "\n",
    "sObj = Solution()\n",
    "op = sObj.containsDuplicate([7,1,5,3,7,4])\n",
    "print(op)"
   ]
  },
  {
   "cell_type": "markdown",
   "metadata": {},
   "source": [
    "238. Product of Array Except Self\n",
    "Solved\n",
    "Medium\n",
    "Topics\n",
    "Companies\n",
    "Hint\n",
    "Given an integer array nums, return an array answer such that answer[i] is equal to the product of all the elements of nums except nums[i].\n",
    "\n",
    "The product of any prefix or suffix of nums is guaranteed to fit in a 32-bit integer.\n",
    "\n",
    "You must write an algorithm that runs in O(n) time and without using the division operation.\n",
    "\n",
    " \n",
    "\n",
    "Example 1:\n",
    "\n",
    "Input: nums = [1,2,3,4]\n",
    "Output: [24,12,8,6]\n",
    "Example 2:\n",
    "\n",
    "Input: nums = [-1,1,0,-3,3]\n",
    "Output: [0,0,9,0,0]\n",
    " \n",
    "\n",
    "Constraints:\n",
    "\n",
    "2 <= nums.length <= 105\n",
    "-30 <= nums[i] <= 30\n",
    "The input is generated such that answer[i] is guaranteed to fit in a 32-bit integer."
   ]
  },
  {
   "cell_type": "code",
   "execution_count": 4,
   "metadata": {},
   "outputs": [
    {
     "name": "stdout",
     "output_type": "stream",
     "text": [
      "Final Res:: [24, 12, 8, 6]\n"
     ]
    },
    {
     "data": {
      "text/plain": [
       "[24, 12, 8, 6]"
      ]
     },
     "execution_count": 4,
     "metadata": {},
     "output_type": "execute_result"
    }
   ],
   "source": [
    "#Q4 Product Except self\n",
    "class Solution:\n",
    "    #def productExceptSelf(self, nums: List[int]) -> List[int]:\n",
    "    def productExceptSelf(self, nums):\n",
    "        res = [1] * (len(nums))\n",
    "\n",
    "        prefix = 1\n",
    "        for i in range(len(nums)):\n",
    "            res[i] = prefix\n",
    "            prefix *= nums[i]\n",
    "\n",
    "        postfix = 1\n",
    "        for i in range(len(nums) -1, -1, -1):\n",
    "            res[i] *= postfix\n",
    "            postfix *= nums[i]\n",
    "        print(\"Final Res::\", res)\n",
    "        return res\n",
    "\n",
    "        print(\"Final : \",prefix)\n",
    "\n",
    "\n",
    "sObj = Solution()\n",
    "sObj.productExceptSelf([1,2,3,4])"
   ]
  },
  {
   "cell_type": "markdown",
   "metadata": {},
   "source": [
    "9. Palindrome Number\n",
    "Given an integer x, return true if x is a \n",
    "palindrome\n",
    ", and false otherwise.\n",
    "\n",
    " \n",
    "\n",
    "Example 1:\n",
    "\n",
    "Input: x = 121\n",
    "Output: true\n",
    "Explanation: 121 reads as 121 from left to right and from right to left.\n",
    "Example 2:\n",
    "\n",
    "Input: x = -121\n",
    "Output: false\n",
    "Explanation: From left to right, it reads -121. From right to left, it becomes 121-. Therefore it is not a palindrome."
   ]
  },
  {
   "cell_type": "code",
   "execution_count": 7,
   "metadata": {},
   "outputs": [
    {
     "name": "stdout",
     "output_type": "stream",
     "text": [
      "isPalindrome(121) ➞ True\n",
      "isPalindrome(-121) ➞ False\n",
      "isPalindrome(10) ➞ False\n",
      "isPalindrome(12321) ➞ True\n",
      "isPalindrome(0) ➞ True\n",
      "isPalindrome(1221) ➞ True\n",
      "isPalindrome(123) ➞ False\n"
     ]
    }
   ],
   "source": [
    "class Solution:\n",
    "    def isPalindrome(self, x: int) -> bool:\n",
    "        # Negative numbers and numbers ending with 0 (except 0 itself) can't be palindromes\n",
    "        if x < 0 or (x % 10 == 0 and x != 0):\n",
    "            return False\n",
    "\n",
    "        reversed_half: int = 0\n",
    "\n",
    "        # Only reverse half of the number to avoid overflow or unnecessary operations\n",
    "        while x > reversed_half:\n",
    "            reversed_half = reversed_half * 10 + x % 10\n",
    "            x //= 10\n",
    "\n",
    "        # For even digit numbers: x == reversed_half\n",
    "        # For odd digit numbers: x == reversed_half // 10 (middle digit ignored)\n",
    "        return x == reversed_half or x == reversed_half // 10\n",
    "    \n",
    "\n",
    "# Time Complexity: O(log₁₀(n))\n",
    "# We process half of the digits of x\n",
    "\n",
    "# So the number of iterations is ~log₁₀(n)/2 ⇒ O(log n)\n",
    "# 🔹 Driver code\n",
    "if __name__ == \"__main__\":\n",
    "    solution = Solution()\n",
    "    test_cases = [121, -121, 10, 12321, 0, 1221, 123]\n",
    "\n",
    "    for num in test_cases:\n",
    "        result = solution.isPalindrome(num)\n",
    "        print(f\"isPalindrome({num}) ➞ {result}\")\n"
   ]
  },
  {
   "cell_type": "markdown",
   "metadata": {},
   "source": [
    "13. Roman to Integer\n",
    "Solved\n",
    "Easy\n",
    "Topics\n",
    "Companies\n",
    "Hint\n",
    "Roman numerals are represented by seven different symbols: I, V, X, L, C, D and M.\n",
    "\n",
    "Symbol       Value\n",
    "I             1\n",
    "V             5\n",
    "X             10\n",
    "L             50\n",
    "C             100\n",
    "D             500\n",
    "M             1000\n",
    "For example, 2 is written as II in Roman numeral, just two ones added together. 12 is written as XII, which is simply X + II. The number 27 is written as XXVII, which is XX + V + II.\n",
    "\n",
    "Roman numerals are usually written largest to smallest from left to right. However, the numeral for four is not IIII. Instead, the number four is written as IV. Because the one is before the five we subtract it making four. The same principle applies to the number nine, which is written as IX. There are six instances where subtraction is used:\n",
    "\n",
    "I can be placed before V (5) and X (10) to make 4 and 9. \n",
    "X can be placed before L (50) and C (100) to make 40 and 90. \n",
    "C can be placed before D (500) and M (1000) to make 400 and 900.\n",
    "Given a roman numeral, convert it to an integer.\n",
    "\n",
    " \n",
    "\n",
    "Example 1:\n",
    "\n",
    "Input: s = \"III\"\n",
    "Output: 3\n",
    "Explanation: III = 3.\n",
    "Example 2:\n",
    "\n",
    "Input: s = \"LVIII\"\n",
    "Output: 58\n",
    "Explanation: L = 50, V= 5, III = 3."
   ]
  },
  {
   "cell_type": "code",
   "execution_count": 8,
   "metadata": {},
   "outputs": [
    {
     "name": "stdout",
     "output_type": "stream",
     "text": [
      "romanToInt('III') ➞ 3\n",
      "romanToInt('IV') ➞ 4\n",
      "romanToInt('IX') ➞ 9\n",
      "romanToInt('LVIII') ➞ 58\n",
      "romanToInt('MCMXCIV') ➞ 1994\n"
     ]
    }
   ],
   "source": [
    "class Solution:\n",
    "    def romanToInt(self, s: str) -> int:\n",
    "        \"\"\"\n",
    "        Convert a Roman numeral to an integer.\n",
    "        :param s: A string representing a Roman numeral\n",
    "        :return: Integer value of the Roman numeral\n",
    "        \"\"\"\n",
    "        roman_map: dict[str, int] = {\n",
    "            'I': 1,\n",
    "            'V': 5,\n",
    "            'X': 10,\n",
    "            'L': 50,\n",
    "            'C': 100,\n",
    "            'D': 500,\n",
    "            'M': 1000\n",
    "        }\n",
    "\n",
    "        total: int = 0\n",
    "\n",
    "        # Traverse from left to second last character\n",
    "        for i in range(len(s) - 1):\n",
    "            current_val = roman_map[s[i]]\n",
    "            next_val = roman_map[s[i + 1]]\n",
    "\n",
    "            if current_val < next_val:\n",
    "                total -= current_val\n",
    "            else:\n",
    "                total += current_val\n",
    "\n",
    "        total += roman_map[s[-1]]  # Add the last character's value\n",
    "        return total\n",
    "\n",
    "\n",
    "# 🔹 Driver Code\n",
    "if __name__ == \"__main__\":\n",
    "    solution = Solution()\n",
    "    test_cases = [\"III\", \"IV\", \"IX\", \"LVIII\", \"MCMXCIV\"]\n",
    "\n",
    "    for roman in test_cases:\n",
    "        result = solution.romanToInt(roman)\n",
    "        print(f\"romanToInt('{roman}') ➞ {result}\")\n"
   ]
  },
  {
   "cell_type": "code",
   "execution_count": 7,
   "metadata": {},
   "outputs": [
    {
     "name": "stdout",
     "output_type": "stream",
     "text": [
      "[1, 4, 5, 6, 7, 9, 11, 13, 15]\n"
     ]
    }
   ],
   "source": [
    "def mergeSortedArrays(arr1, arr2):\n",
    "    # Pointers for both arrays\n",
    "    i, j = 0, 0\n",
    "    merged = []\n",
    "\n",
    "    # Traverse both arrays\n",
    "    while i < len(arr1) and j < len(arr2):\n",
    "        if arr1[i] < arr2[j]:\n",
    "            merged.append(arr1[i])\n",
    "            i += 1\n",
    "        else:\n",
    "            merged.append(arr2[j])\n",
    "            j += 1\n",
    "\n",
    "    # If there are remaining elements in arr1\n",
    "    while i < len(arr1):\n",
    "        merged.append(arr1[i])\n",
    "        i += 1\n",
    "\n",
    "    # If there are remaining elements in arr2\n",
    "    while j < len(arr2):\n",
    "        merged.append(arr2[j])\n",
    "        j += 1\n",
    "\n",
    "    return merged\n",
    "\n",
    "\n",
    "l1 = [4,5,6,7]\n",
    "l2 = [1,9,11,13,15]\n",
    "\n",
    "print(mergeSortedArrays(l1,l2))"
   ]
  },
  {
   "cell_type": "markdown",
   "metadata": {},
   "source": []
  },
  {
   "cell_type": "markdown",
   "metadata": {},
   "source": [
    "26th Jan: Remove Duplicates from Sorted Array\n",
    "\n",
    "\n",
    "Given an integer array nums sorted in non-decreasing order, remove the duplicates in-place such that each unique element appears only once. The relative order of the elements should be kept the same. Then return the number of unique elements in nums.\n",
    "\n",
    "Consider the number of unique elements of nums to be k, to get accepted, you need to do the following things:\n",
    "\n",
    "Change the array nums such that the first k elements of nums contain the unique elements in the order they were present in nums initially. The remaining elements of nums are not important as well as the size of nums.\n",
    "Return k.\n",
    "Custom Judge:\n",
    "\n",
    "The judge will test your solution with the following code:\n",
    "\n",
    "int[] nums = [...]; // Input array\n",
    "int[] expectedNums = [...]; // The expected answer with correct length\n",
    "\n",
    "int k = removeDuplicates(nums); // Calls your implementation\n",
    "\n",
    "assert k == expectedNums.length;\n",
    "for (int i = 0; i < k; i++) {\n",
    "    assert nums[i] == expectedNums[i];\n",
    "}\n",
    "If all assertions pass, then your solution will be accepted."
   ]
  },
  {
   "cell_type": "markdown",
   "metadata": {},
   "source": []
  },
  {
   "cell_type": "markdown",
   "metadata": {},
   "source": [
    "https://leetcode.com/problems/reverse-integer/"
   ]
  },
  {
   "cell_type": "code",
   "execution_count": 6,
   "metadata": {},
   "outputs": [
    {
     "name": "stdout",
     "output_type": "stream",
     "text": [
      "321\n",
      "-654\n"
     ]
    }
   ],
   "source": [
    "class Solution:\n",
    "    def reverse(self, x: int) -> int:\n",
    "        int_min = -2 ** 31\n",
    "        int_max = 2 ** 31 -1\n",
    "\n",
    "        sign = -1 if x < 0 else 1\n",
    "        x = abs(x)\n",
    "        \n",
    "        reversed_x = 0\n",
    "        while x != 0:\n",
    "            digit = x % 10\n",
    "            x //= 10\n",
    "\n",
    "            #push th edigit to reversed x \n",
    "            reversed_x = reversed_x * 10  + digit\n",
    "        \n",
    "        reversed_x *= sign\n",
    "\n",
    "        if reversed_x < int_min or reversed_x > int_max:\n",
    "            return 0\n",
    "        return reversed_x\n",
    "    \n",
    "sobj = Solution()\n",
    "print(sobj.reverse(123))\n",
    "print(sobj.reverse(-456))"
   ]
  },
  {
   "cell_type": "markdown",
   "metadata": {},
   "source": [
    " Remove Duplicates from Sorted Array\n",
    "Easy\n",
    "Topics\n",
    "Companies\n",
    "Hint\n",
    "Given an integer array nums sorted in non-decreasing order, remove the duplicates in-place such that each unique element appears only once. The relative order of the elements should be kept the same. Then return the number of unique elements in nums.\n",
    "\n",
    "Consider the number of unique elements of nums to be k, to get accepted, you need to do the following things:\n",
    "\n",
    "Change the array nums such that the first k elements of nums contain the unique elements in the order they were present in nums initially. The remaining elements of nums are not important as well as the size of nums.\n",
    "Return k.\n",
    "Custom Judge:\n",
    "\n",
    "The judge will test your solution with the following code:\n",
    "\n",
    "int[] nums = [...]; // Input array\n",
    "int[] expectedNums = [...]; // The expected answer with correct length\n",
    "\n",
    "int k = removeDuplicates(nums); // Calls your implementation\n",
    "\n",
    "assert k == expectedNums.length;\n",
    "for (int i = 0; i < k; i++) {\n",
    "    assert nums[i] == expectedNums[i];\n",
    "}\n",
    "If all assertions pass, then your solution will be accepted.\n",
    "\n",
    " \n",
    "\n",
    "Example 1:\n",
    "\n",
    "Input: nums = [1,1,2]\n",
    "Output: 2, nums = [1,2,_]\n",
    "Explanation: Your function should return k = 2, with the first two elements of nums being 1 and 2 respectively.\n",
    "It does not matter what you leave beyond the returned k (hence they are underscores).\n",
    "Example 2:\n",
    "\n",
    "Input: nums = [0,0,1,1,1,2,2,3,3,4]\n",
    "Output: 5, nums = [0,1,2,3,4,_,_,_,_,_]\n",
    "Explanation: Your function should return k = 5, with the first five elements of nums being 0, 1, 2, 3, and 4 respectively.\n",
    "It does not matter what you leave beyond the returned k (hence they are underscores)."
   ]
  },
  {
   "cell_type": "markdown",
   "metadata": {},
   "source": [
    "https://leetcode.com/problems/remove-duplicates-from-sorted-array/"
   ]
  },
  {
   "cell_type": "code",
   "execution_count": 2,
   "metadata": {},
   "outputs": [
    {
     "name": "stdout",
     "output_type": "stream",
     "text": [
      "6\n"
     ]
    }
   ],
   "source": [
    "from typing import List\n",
    "class Solution:\n",
    "    def removeDuplicates(self, nums: List[int]) -> int:\n",
    "        if not nums:\n",
    "            return 0\n",
    "\n",
    "        i = 0\n",
    "\n",
    "\n",
    "        for j in range(1, len(nums)):\n",
    "            if nums[j] != nums[i]:\n",
    "                i += 1\n",
    "                nums[i] = nums[j]\n",
    "        return i + 1\n",
    "    \n",
    "sobj = Solution()\n",
    "l = [1,2,2,2,5,7,8,8,8,9]\n",
    "print(sobj.removeDuplicates(l))"
   ]
  },
  {
   "cell_type": "markdown",
   "metadata": {},
   "source": [
    "https://leetcode.com/problems/remove-element/description/\n",
    "\n",
    "\n",
    "# Remove Element\n",
    "\n",
    "Given an integer array nums and an integer val, remove all occurrences of val in nums in-place. The order of the elements may be changed. Then return the number of elements in nums which are not equal to val.\n",
    "\n",
    "Consider the number of elements in nums which are not equal to val be k, to get accepted, you need to do the following things:\n",
    "\n",
    "Change the array nums such that the first k elements of nums contain the elements which are not equal to val. The remaining elements of nums are not important as well as the size of nums.\n",
    "Return k.\n",
    "Custom Judge:\n",
    "\n",
    "The judge will test your solution with the following code:\n",
    "\n",
    "int[] nums = [...]; // Input array\n",
    "int val = ...; // Value to remove\n",
    "int[] expectedNums = [...]; // The expected answer with correct length.\n",
    "                            // It is sorted with no values equaling val.\n",
    "\n",
    "int k = removeElement(nums, val); // Calls your implementation\n",
    "\n",
    "assert k == expectedNums.length;\n",
    "sort(nums, 0, k); // Sort the first k elements of nums\n",
    "for (int i = 0; i < actualLength; i++) {\n",
    "    assert nums[i] == expectedNums[i];\n",
    "}\n",
    "If all assertions pass, then your solution will be accepted.\n",
    "\n",
    " \n",
    "\n",
    "Example 1:\n",
    "\n",
    "Input: nums = [3,2,2,3], val = 3\n",
    "Output: 2, nums = [2,2,_,_]\n",
    "Explanation: Your function should return k = 2, with the first two elements of nums being 2.\n",
    "It does not matter what you leave beyond the returned k (hence they are underscores).\n",
    "Example 2:\n",
    "\n",
    "Input: nums = [0,1,2,2,3,0,4,2], val = 2\n",
    "Output: 5, nums = [0,1,4,0,3,_,_,_]\n",
    "Explanation: Your function should return k = 5, with the first five elements of nums containing 0, 0, 1, 3, and 4.\n",
    "Note that the five elements can be returned in any order.\n",
    "It does not matter what you leave beyond the returned k (hence they are underscores)."
   ]
  },
  {
   "cell_type": "markdown",
   "metadata": {},
   "source": []
  },
  {
   "cell_type": "code",
   "execution_count": null,
   "metadata": {},
   "outputs": [
    {
     "data": {
      "text/plain": [
       "5"
      ]
     },
     "execution_count": 6,
     "metadata": {},
     "output_type": "execute_result"
    }
   ],
   "source": [
    "nums = [0,1,2,2,3,0,4,2]\n",
    "\n",
    "from typing import List\n",
    "\n",
    "class Solution:\n",
    "    def removeElement(self, nums: List[int], val: int) -> int:\n",
    "        k = 0  # pointer for position of next non-val element\n",
    "\n",
    "        for i in range(len(nums)):\n",
    "            if nums[i] != val:\n",
    "                nums[k] = nums[i]  # move the non-val element to front\n",
    "                k += 1\n",
    "\n",
    "        return k  # length of array without val\n",
    "\n",
    "\n",
    "sobj = Solution()\n",
    "sobj.removeElement(nums, 2)"
   ]
  },
  {
   "cell_type": "code",
   "execution_count": 4,
   "metadata": {},
   "outputs": [
    {
     "data": {
      "text/plain": [
       "[0, 1, 2, 2, 3, 0, 4, 2]"
      ]
     },
     "execution_count": 4,
     "metadata": {},
     "output_type": "execute_result"
    }
   ],
   "source": [
    "nums"
   ]
  },
  {
   "cell_type": "code",
   "execution_count": 13,
   "metadata": {},
   "outputs": [
    {
     "data": {
      "text/plain": [
       "[1, 1, 2, 2, 3, 4, 4]"
      ]
     },
     "execution_count": 13,
     "metadata": {},
     "output_type": "execute_result"
    }
   ],
   "source": [
    "nums = [1, 1, 1, 2, 2, 3, 4]\n",
    "i = 2\n",
    "for j in range(2,len(nums)):\n",
    "    # if nums[j] != nums[i -2]:\n",
    "    # print(j ,'==>', i -2)\n",
    "    if nums[j] != nums[i -2]:\n",
    "        nums[i] = nums[j]\n",
    "        i +=1\n",
    "nums"
   ]
  },
  {
   "cell_type": "code",
   "execution_count": 14,
   "metadata": {},
   "outputs": [
    {
     "data": {
      "text/plain": [
       "'True'"
      ]
     },
     "execution_count": 14,
     "metadata": {},
     "output_type": "execute_result"
    }
   ],
   "source": [
    "x = 5\n",
    "val = \"True\" if x!=0 else \"False\"\n",
    "val"
   ]
  },
  {
   "cell_type": "code",
   "execution_count": 15,
   "metadata": {},
   "outputs": [
    {
     "name": "stdout",
     "output_type": "stream",
     "text": [
      "[]\n"
     ]
    },
    {
     "data": {
      "text/plain": [
       "True"
      ]
     },
     "execution_count": 15,
     "metadata": {},
     "output_type": "execute_result"
    }
   ],
   "source": [
    "def parenthesis(s: str) -> bool:\n",
    "    bracket_map = {')': '(', '}': '{', ']': '['}\n",
    "    stack = []\n",
    "\n",
    "    for char in s:\n",
    "        if char in bracket_map:\n",
    "            top_element = stack.pop() if stack else '#'\n",
    "\n",
    "            if bracket_map[char] != top_element:\n",
    "                print(f\"WRONG::{char}\")\n",
    "                return False\n",
    "        else:\n",
    "            stack.append(char)\n",
    "    print(stack)\n",
    "    return not stack\n",
    "\n",
    "parenthesis('([])')\n",
    "\n",
    "\n",
    "# Summary of Time Complexity:\n",
    "# Loop over each character: O(n)\n",
    "# Stack operations (push and pop): Each operation is O(1).\n",
    "# Dictionary lookups: Each lookup is O(1).\n",
    "# Thus, the overall time complexity of the function is O(n), where n is the number of characters in the input string.\n",
    "\n",
    "# Space Complexity:\n",
    "# The space complexity of this function is O(n) because, in the worst case, you may need to store all the opening brackets (if there are no matching closing brackets) in the stack. Therefore, the space complexity is proportional to the number of opening brackets in the string, which can be as large as the length of the string itself in the worst case."
   ]
  },
  {
   "cell_type": "code",
   "execution_count": 17,
   "metadata": {},
   "outputs": [
    {
     "name": "stdout",
     "output_type": "stream",
     "text": [
      "True\n"
     ]
    }
   ],
   "source": [
    "stack = []\n",
    "print(not stack)"
   ]
  },
  {
   "cell_type": "markdown",
   "metadata": {},
   "source": [
    "# 22. Generate Parentheses\n",
    "Medium\n",
    "\n",
    "Given n pairs of parentheses, write a function to generate all combinations of well-formed parentheses.\n",
    "\n",
    " \n",
    "\n",
    "Example 1:\n",
    "\n",
    "Input: n = 3\n",
    "Output: [\"((()))\",\"(()())\",\"(())()\",\"()(())\",\"()()()\"]\n",
    "Example 2:\n",
    "\n",
    "Input: n = 1\n",
    "Output: [\"()\"]\n",
    " \n",
    "\n",
    "Constraints:\n",
    "\n",
    "1 <= n <= 8"
   ]
  },
  {
   "cell_type": "code",
   "execution_count": 5,
   "metadata": {},
   "outputs": [
    {
     "name": "stdout",
     "output_type": "stream",
     "text": [
      "['()']\n",
      "['(())', '()()']\n",
      "['((()))', '(()())', '(())()', '()(())', '()()()']\n"
     ]
    }
   ],
   "source": [
    "def generateParenthesis(n: int):\n",
    "    def backtrace(current, open_count, close_count):\n",
    "        if len(current) == 2 * n:\n",
    "            result.append(\"\".join(current))\n",
    "            return\n",
    "        \n",
    "        if open_count < n:\n",
    "            current.append('(')\n",
    "            backtrace(current, open_count + 1, close_count)\n",
    "            current.pop()\n",
    "        \n",
    "        if close_count < open_count:\n",
    "            current.append(')')\n",
    "            backtrace(current, open_count, close_count + 1)\n",
    "            current.pop()\n",
    "    result = []\n",
    "    backtrace([], 0, 0)\n",
    "    return result\n",
    "\n",
    "print(generateParenthesis(1))\n",
    "print(generateParenthesis(2))\n",
    "print(generateParenthesis(3))"
   ]
  },
  {
   "cell_type": "code",
   "execution_count": 11,
   "metadata": {},
   "outputs": [
    {
     "name": "stdout",
     "output_type": "stream",
     "text": [
      "['((()))', '(()())', '(())()', '()(())', '()()()']\n"
     ]
    }
   ],
   "source": [
    "def generateParenthesis(n):\n",
    "    def backtrace(current, open_count, close_count):\n",
    "        # Base case: if the current combination is of length 2*n, it's valid\n",
    "        if len(current) == 2 * n:\n",
    "            result.append(\"\".join(current))  # Join and append to result\n",
    "            return\n",
    "        \n",
    "        # Add an opening parenthesis if we haven't used up all the opening parentheses\n",
    "        if open_count < n:\n",
    "            current.append('(')\n",
    "            backtrace(current, open_count + 1, close_count)  # Recurse with an added '('\n",
    "            current.pop()  # Backtrack to remove the last added '('\n",
    "        \n",
    "        # Add a closing parenthesis if the number of closing parentheses is less than opening ones\n",
    "        if close_count < open_count:\n",
    "            current.append(')')\n",
    "            backtrace(current, open_count, close_count + 1)  # Recurse with an added ')'\n",
    "            current.pop()  # Backtrack to remove the last added ')'\n",
    "\n",
    "    result = []\n",
    "    backtrace([], 0, 0)  # Initial call with empty current list, 0 open and 0 close counts\n",
    "    return result\n",
    "    \n",
    "print(generateParenthesis(3))\n"
   ]
  },
  {
   "cell_type": "markdown",
   "metadata": {},
   "source": [
    "# 2116. Check if a Parentheses String Can Be Valid\n",
    "Medium\n",
    "Topics\n",
    "Companies\n",
    "Hint\n",
    "A parentheses string is a non-empty string consisting only of '(' and ')'. It is valid if any of the following conditions is true:\n",
    "\n",
    "It is ().\n",
    "It can be written as AB (A concatenated with B), where A and B are valid parentheses strings.\n",
    "It can be written as (A), where A is a valid parentheses string.\n",
    "You are given a parentheses string s and a string locked, both of length n. locked is a binary string consisting only of '0's and '1's. For each index i of locked,\n",
    "\n",
    "If locked[i] is '1', you cannot change s[i].\n",
    "But if locked[i] is '0', you can change s[i] to either '(' or ')'.\n",
    "Return true if you can make s a valid parentheses string. Otherwise, return false.\n",
    "\n",
    " \n",
    "\n",
    "Example 1:\n",
    "\n",
    "\n",
    "Input: s = \"))()))\", locked = \"010100\"\n",
    "Output: true\n",
    "Explanation: locked[1] == '1' and locked[3] == '1', so we cannot change s[1] or s[3].\n",
    "We change s[0] and s[4] to '(' while leaving s[2] and s[5] unchanged to make s valid.\n",
    "Example 2:\n",
    "\n",
    "Input: s = \"()()\", locked = \"0000\"\n",
    "Output: true\n",
    "Explanation: We do not need to make any changes because s is already valid.\n",
    "Example 3:\n",
    "\n",
    "Input: s = \")\", locked = \"0\"\n",
    "Output: false\n",
    "Explanation: locked permits us to change s[0]. \n",
    "Changing s[0] to either '(' or ')' will not make s valid.\n",
    " \n",
    "\n",
    "Constraints:\n",
    "\n",
    "n == s.length == locked.length\n",
    "1 <= n <= 105\n",
    "s[i] is either '(' or ')'.\n",
    "locked[i] is either '0' or '1'."
   ]
  },
  {
   "cell_type": "markdown",
   "metadata": {},
   "source": [
    "Given a positive integer n, write a function that returns the number of \n",
    "set bits\n",
    " in its binary representation (also known as the Hamming weight).\n",
    "\n",
    " \n",
    "\n",
    "Example 1:\n",
    "\n",
    "Input: n = 11\n",
    "\n",
    "Output: 3\n",
    "\n",
    "Explanation:\n",
    "\n",
    "The input binary string 1011 has a total of three set bits.\n",
    "\n",
    "Example 2:\n",
    "\n",
    "Input: n = 128\n",
    "\n",
    "Output: 1\n",
    "\n",
    "Explanation:\n",
    "\n",
    "The input binary string 10000000 has a total of one set bit.\n",
    "\n",
    "Example 3:\n",
    "\n",
    "Input: n = 2147483645\n",
    "\n",
    "Output: 30\n",
    "\n",
    "Explanation:"
   ]
  },
  {
   "cell_type": "code",
   "execution_count": null,
   "metadata": {},
   "outputs": [
    {
     "data": {
      "text/plain": [
       "True"
      ]
     },
     "execution_count": 14,
     "metadata": {},
     "output_type": "execute_result"
    }
   ],
   "source": [
    "# https://leetcode.com/problems/check-if-a-parentheses-string-can-be-valid/description/\n",
    "\n",
    "def canBeValid(s, locked):\n",
    "    if len(s) % 2 != 0:\n",
    "        return False\n",
    "    \n",
    "    #First Pass\n",
    "    open_count = 0 #count of opening parenthesis\n",
    "    wild_card = 0 # count of changebale parenthesis that we can treat as '('\n",
    "\n",
    "\n",
    "    for i in range(len(s)):\n",
    "        if s[i]=='(' or locked[i] == '0':\n",
    "            open_count +=1\n",
    "            if locked[i] == '0': # we can flip this to ')'\n",
    "                wild_card += 1\n",
    "        \n",
    "        else:\n",
    "            open_count -= 1\n",
    "            if open_count < 0:\n",
    "                if wild_card > 0:\n",
    "                    wild_card -= 1\n",
    "                else:\n",
    "                    return False\n",
    "                \n",
    "    \n",
    "    # Second Pass: right to left to check balance in the reverse direction\n",
    "    open_count = 0\n",
    "    wild_card = 0\n",
    "\n",
    "    for i in range(len(s)-1, -1, -1):\n",
    "        if s[i] == ')' or locked[i]== '0':\n",
    "            open_count += 1\n",
    "            if locked[i] == '0':\n",
    "                wild_card +=1\n",
    "\n",
    "        else:\n",
    "            open_count -=1\n",
    "            if open_count < 0:\n",
    "                wild_card -= 1\n",
    "            else:\n",
    "                return False\n",
    "    return True     \n",
    "\n",
    "    \n",
    "s = \"))()))\"\n",
    "locked = \"010100\"\n",
    "canBeValid(s, locked)\n",
    "    "
   ]
  },
  {
   "cell_type": "code",
   "execution_count": null,
   "metadata": {},
   "outputs": [],
   "source": [
    "def canBeValid(s, locked):\n",
    "    if len(s) % 2 == 1:\n",
    "        return False\n",
    "    \n",
    "    stack_locked = []\n",
    "    stack_unlocked = []\n",
    "\n",
    "    for i in range(len(s)):\n",
    "        if locked[i] == '0':\n",
    "            stack_unlocked.append(i)\n",
    "        elif s[i] == \"(\":\n",
    "            stack_locked.append(i)\n",
    "        else:\n",
    "            if stack_locked:\n",
    "                stack_locked.pop()\n",
    "            elif stack_unlocked:\n",
    "                stack_unlocked.pop()\n",
    "            else:\n",
    "                return False\n",
    "    \n",
    "    while stack_locked and stack_unlocked and stack_unlocked[-1] < stack_unlocked[-1]:\n",
    "        stack_locked.pop()\n",
    "        stack_unlocked.pop()\n",
    "    if stack_locked:\n",
    "        return False\n",
    "    return True"
   ]
  },
  {
   "cell_type": "markdown",
   "metadata": {},
   "source": [
    "# 32. Longest Valid Parentheses\n",
    "Hard\n",
    "\n",
    "Given a string containing just the characters '(' and ')', return the length of the longest valid (well-formed) parentheses \n",
    "substring\n",
    ".\n",
    "\n",
    " \n",
    "\n",
    "Example 1:\n",
    "\n",
    "Input: s = \"(()\"\n",
    "Output: 2\n",
    "Explanation: The longest valid parentheses substring is \"()\".\n",
    "Example 2:\n",
    "\n",
    "Input: s = \")()())\"\n",
    "Output: 4\n",
    "Explanation: The longest valid parentheses substring is \"()()\".\n",
    "Example 3:\n",
    "\n",
    "Input: s = \"\"\n",
    "Output: 0\n",
    " \n",
    "\n",
    "Constraints:\n",
    "\n",
    "0 <= s.length <= 3 * 104\n",
    "s[i] is '(', or ')'."
   ]
  },
  {
   "cell_type": "code",
   "execution_count": 15,
   "metadata": {},
   "outputs": [
    {
     "name": "stdout",
     "output_type": "stream",
     "text": [
      "0 ) -> [-1] 0\n",
      "1 ( -> [0] 0\n",
      "2 ) -> [0, 1] 0\n",
      "3 ( -> [0] 2\n",
      "4 ) -> [0, 3] 2\n",
      "5 ) -> [0] 4\n"
     ]
    },
    {
     "data": {
      "text/plain": [
       "4"
      ]
     },
     "execution_count": 15,
     "metadata": {},
     "output_type": "execute_result"
    }
   ],
   "source": [
    "def LongestValParenthesis(s):\n",
    "    stack = [-1]\n",
    "    max_len = 0\n",
    "\n",
    "    for i, char in enumerate(s):\n",
    "        print(i, char, '->', stack, max_len)\n",
    "        if char == '(':\n",
    "            stack.append(i)\n",
    "        else:\n",
    "            stack.pop()\n",
    "\n",
    "            if not stack:\n",
    "                stack.append(i)\n",
    "            else:\n",
    "                max_len = max(max_len, i - stack[-1])\n",
    "    return max_len\n",
    "\n",
    "s = \")()())\"\n",
    "LongestValParenthesis(s)"
   ]
  },
  {
   "cell_type": "markdown",
   "metadata": {},
   "source": [
    "# 66. Plus One\n",
    "Easy\n",
    "\n",
    "You are given a large integer represented as an integer array digits, where each digits[i] is the ith digit of the integer. The digits are ordered from most significant to least significant in left-to-right order. The large integer does not contain any leading 0's.\n",
    "\n",
    "Increment the large integer by one and return the resulting array of digits.\n",
    "\n",
    " \n",
    "\n",
    "Example 1:\n",
    "\n",
    "Input: digits = [1,2,3]\n",
    "Output: [1,2,4]\n",
    "Explanation: The array represents the integer 123.\n",
    "Incrementing by one gives 123 + 1 = 124.\n",
    "Thus, the result should be [1,2,4].\n",
    "Example 2:\n",
    "\n",
    "Input: digits = [4,3,2,1]\n",
    "Output: [4,3,2,2]\n",
    "Explanation: The array represents the integer 4321.\n",
    "Incrementing by one gives 4321 + 1 = 4322.\n",
    "Thus, the result should be [4,3,2,2].\n",
    "Example 3:\n",
    "\n",
    "Input: digits = [9]\n",
    "Output: [1,0]\n",
    "Explanation: The array represents the integer 9.\n",
    "Incrementing by one gives 9 + 1 = 10.\n",
    "Thus, the result should be [1,0].\n",
    " \n",
    "\n",
    "Constraints:\n",
    "\n",
    "1 <= digits.length <= 100\n",
    "0 <= digits[i] <= 9\n",
    "digits does not contain any leading 0's."
   ]
  },
  {
   "cell_type": "code",
   "execution_count": 18,
   "metadata": {},
   "outputs": [
    {
     "name": "stdout",
     "output_type": "stream",
     "text": [
      "[1, 2, 4]\n",
      "[1, 0, 0, 0]\n",
      "[1, 0]\n"
     ]
    }
   ],
   "source": [
    "def plusOne(digits):\n",
    "    # Start from the last digit\n",
    "    for i in range(len(digits) - 1, -1, -1):\n",
    "        # If current digit is less than 9, just add 1 and return the result\n",
    "        if digits[i] < 9:\n",
    "            digits[i] += 1\n",
    "            return digits\n",
    "        \n",
    "        # If current digit is 9, set it to 0 and carry over\n",
    "        digits[i] = 0\n",
    "    \n",
    "    # If we have gone through all digits and need to add a carry to the next most significant place\n",
    "    return [1] + digits  # This adds a 1 at the start of the array\n",
    "\n",
    "print(plusOne([1,2,3]))\n",
    "print(plusOne([9,9,9]))\n",
    "print(plusOne([9]))"
   ]
  },
  {
   "cell_type": "markdown",
   "metadata": {},
   "source": [
    "#70. Climbing Stairs\n",
    "Easy\n",
    "Topics\n",
    "Companies\n",
    "Hint\n",
    "You are climbing a staircase. It takes n steps to reach the top.\n",
    "\n",
    "Each time you can either climb 1 or 2 steps. In how many distinct ways can you climb to the top?\n",
    "\n",
    " \n",
    "\n",
    "Example 1:\n",
    "\n",
    "Input: n = 2\n",
    "Output: 2\n",
    "Explanation: There are two ways to climb to the top.\n",
    "1. 1 step + 1 step\n",
    "2. 2 steps\n",
    "Example 2:\n",
    "\n",
    "Input: n = 3\n",
    "Output: 3\n",
    "Explanation: There are three ways to climb to the top.\n",
    "1. 1 step + 1 step + 1 step\n",
    "2. 1 step + 2 steps\n",
    "3. 2 steps + 1 step"
   ]
  },
  {
   "cell_type": "code",
   "execution_count": 19,
   "metadata": {},
   "outputs": [
    {
     "name": "stdout",
     "output_type": "stream",
     "text": [
      "2\n",
      "3\n"
     ]
    }
   ],
   "source": [
    "def climbStairs(n):\n",
    "    if n == 1:\n",
    "        return 1\n",
    "    prev2, prev1 = 1, 1\n",
    "\n",
    "    for i in range(2, n+1):\n",
    "        current = prev1 + prev2\n",
    "        prev2 = prev1\n",
    "        prev1 = current\n",
    "    return prev1\n",
    "\n",
    "# Example usage:\n",
    "print(climbStairs(2))  # Output: 2\n",
    "print(climbStairs(3))  # Output: 3"
   ]
  },
  {
   "cell_type": "code",
   "execution_count": 26,
   "metadata": {},
   "outputs": [
    {
     "name": "stdout",
     "output_type": "stream",
     "text": [
      "Initial stones::[-8, -7, -4, -1, -2, -1]\n",
      "8 7\n",
      "[-4, -2, -1, -1]\n",
      "4 2\n",
      "[-1, -1, -1]\n",
      "2 1\n",
      "[-1, -1]\n",
      "1 1\n",
      "[-1]\n"
     ]
    },
    {
     "data": {
      "text/plain": [
       "1"
      ]
     },
     "execution_count": 26,
     "metadata": {},
     "output_type": "execute_result"
    }
   ],
   "source": [
    "import heapq\n",
    "\n",
    "\n",
    "def lastStoneWeight(stones):\n",
    "    # Convert stones to a max-heap by negating each value\n",
    "        stones = [-stone for stone in stones]\n",
    "        heapq.heapify(stones)  # Heapify the list into a max-heap\n",
    "        \n",
    "        print(f\"Initial stones::{stones}\")\n",
    "        # Continue until there is at most one stone\n",
    "        while len(stones) > 1:\n",
    "            # Get the two largest stones (remember to negate them back to positive)\n",
    "            stone1 = -heapq.heappop(stones)  # Negate to get original values\n",
    "            stone2 = -heapq.heappop(stones)  # Negate to get original values\n",
    "            \n",
    "            print(stone1, stone2)\n",
    "            print(stones)\n",
    "            if stone1 != stone2:\n",
    "                # If they are not equal, push the difference back into the heap\n",
    "                heapq.heappush(stones, -(stone1 - stone2))  # Push the negative difference\n",
    "        \n",
    "        # If there is a stone left, return its weight, else return 0\n",
    "        return -stones[0] if stones else 0\n",
    "\n",
    "stones = [2,7,4,1,8,1]\n",
    "lastStoneWeight(stones)"
   ]
  },
  {
   "cell_type": "code",
   "execution_count": 25,
   "metadata": {},
   "outputs": [
    {
     "name": "stdout",
     "output_type": "stream",
     "text": [
      "[-8, -7, -4, -1, -2, -1]\n"
     ]
    }
   ],
   "source": [
    "stones = [2,7,4,1,8,1]\n",
    "stones = [-stone for stone in stones]\n",
    "heapq.heapify(stones)  # Heapify the list into a max-heap\n",
    "print(stones)\n"
   ]
  },
  {
   "cell_type": "code",
   "execution_count": 34,
   "metadata": {},
   "outputs": [
    {
     "name": "stdout",
     "output_type": "stream",
     "text": [
      "0\n"
     ]
    },
    {
     "data": {
      "text/plain": [
       "1"
      ]
     },
     "execution_count": 34,
     "metadata": {},
     "output_type": "execute_result"
    }
   ],
   "source": [
    "def hammingWeight(n : int) -> int:\n",
    "    count = 0\n",
    "    while n:\n",
    "        n = n & (n -1)\n",
    "        count +=1\n",
    "    print(n)\n",
    "    return count \n",
    "n = 128\n",
    "hammingWeight(n)"
   ]
  },
  {
   "cell_type": "code",
   "execution_count": 35,
   "metadata": {},
   "outputs": [
    {
     "data": {
      "text/plain": [
       "1"
      ]
     },
     "execution_count": 35,
     "metadata": {},
     "output_type": "execute_result"
    }
   ],
   "source": [
    "def hammingWeight(n: int) -> int:\n",
    "    return bin(n).count('1')\n",
    "hammingWeight(n)"
   ]
  },
  {
   "cell_type": "markdown",
   "metadata": {},
   "source": [
    "125. Valid Palindrome\n",
    "Easy\n",
    "Topics\n",
    "Companies\n",
    "A phrase is a palindrome if, after converting all uppercase letters into lowercase letters and removing all non-alphanumeric characters, it reads the same forward and backward. Alphanumeric characters include letters and numbers.\n",
    "\n",
    "Given a string s, return true if it is a palindrome, or false otherwise.\n",
    "\n",
    " \n",
    "\n",
    "Example 1:\n",
    "\n",
    "Input: s = \"A man, a plan, a canal: Panama\"\n",
    "Output: true\n",
    "Explanation: \"amanaplanacanalpanama\" is a palindrome.\n",
    "Example 2:\n",
    "\n",
    "Input: s = \"race a car\"\n",
    "Output: false\n",
    "Explanation: \"raceacar\" is not a palindrome.\n",
    "Example 3:\n",
    "\n",
    "Input: s = \" \"\n",
    "Output: true\n",
    "Explanation: s is an empty string \"\" after removing non-alphanumeric characters.\n",
    "Since an empty string reads the same forward and backward, it is a palindrome.\n",
    " \n",
    "\n",
    "Constraints:\n",
    "\n",
    "1 <= s.length <= 2 * 105\n",
    "s consists only of printable ASCII characters."
   ]
  },
  {
   "cell_type": "code",
   "execution_count": 41,
   "metadata": {},
   "outputs": [
    {
     "name": "stdout",
     "output_type": "stream",
     "text": [
      "['a', 'm', 'a', 'n', 'a', 'p', 'l', 'a', 'n', 'a', 'c', 'a', 'n', 'a', 'l', 'p', 'a', 'n', 'a', 'm', 'a']\n",
      "amanaplanacanalpanama\n"
     ]
    },
    {
     "data": {
      "text/plain": [
       "True"
      ]
     },
     "execution_count": 41,
     "metadata": {},
     "output_type": "execute_result"
    }
   ],
   "source": [
    "def isPalindrome(s : str) -> bool:\n",
    "    filter_st = []\n",
    "\n",
    "    for char in s: \n",
    "        if char.isalnum():\n",
    "            filter_st.append(char.lower())\n",
    "    print(filter_st)\n",
    "    print(''.join(filter_st))\n",
    "    return ''.join(filter_st) == ''.join(filter_st[::-1])\n",
    "#isPalindrome('Madam')#\n",
    "\n",
    "isPalindrome('A man, a plan, a canal: Panama')"
   ]
  },
  {
   "cell_type": "code",
   "execution_count": 42,
   "metadata": {},
   "outputs": [
    {
     "data": {
      "text/plain": [
       "True"
      ]
     },
     "execution_count": 42,
     "metadata": {},
     "output_type": "execute_result"
    }
   ],
   "source": [
    "def isPalindrome(s : str) -> bool:\n",
    "    filtered_st = ''.join(c.lower() for c in s if c.isalnum())\n",
    "    return filtered_st == filtered_st[::-1]\n",
    "isPalindrome('A man, a plan, a canal: Panama')\n"
   ]
  },
  {
   "cell_type": "markdown",
   "metadata": {},
   "source": [
    " Reverse Bits\n",
    "Easy\n",
    "Topics\n",
    "Companies\n",
    "Reverse bits of a given 32 bits unsigned integer.\n",
    "\n",
    "Note:\n",
    "\n",
    "Note that in some languages, such as Java, there is no unsigned integer type. In this case, both input and output will be given as a signed integer type. They should not affect your implementation, as the integer's internal binary representation is the same, whether it is signed or unsigned.\n",
    "In Java, the compiler represents the signed integers using 2's complement notation. Therefore, in Example 2 above, the input represents the signed integer -3 and the output represents the signed integer -1073741825.\n",
    " \n",
    "\n",
    "Example 1:\n",
    "\n",
    "Input: n = 00000010100101000001111010011100\n",
    "Output:    964176192 (00111001011110000010100101000000)\n",
    "Explanation: The input binary string 00000010100101000001111010011100 represents the unsigned integer 43261596, so return 964176192 which its binary representation is 00111001011110000010100101000000.\n",
    "Example 2:\n",
    "\n",
    "Input: n = 11111111111111111111111111111101\n",
    "Output:   3221225471 (10111111111111111111111111111111)\n",
    "Explanation: The input binary string 11111111111111111111111111111101 represents the unsigned integer 4294967293, so return 3221225471 which its binary representation is 10111111111111111111111111111111.\n",
    " \n",
    "\n",
    "Constraints:\n",
    "\n",
    "The input must be a binary string of length 32"
   ]
  },
  {
   "cell_type": "code",
   "execution_count": null,
   "metadata": {},
   "outputs": [
    {
     "ename": "SyntaxError",
     "evalue": "invalid token (<ipython-input-47-6eb0a9a5222b>, line 15)",
     "output_type": "error",
     "traceback": [
      "\u001b[0;36m  File \u001b[0;32m\"<ipython-input-47-6eb0a9a5222b>\"\u001b[0;36m, line \u001b[0;32m15\u001b[0m\n\u001b[0;31m    n = 00000010100101000001111010011100\u001b[0m\n\u001b[0m                                       ^\u001b[0m\n\u001b[0;31mSyntaxError\u001b[0m\u001b[0;31m:\u001b[0m invalid token\n"
     ]
    }
   ],
   "source": [
    "def reverseBits(n: int) -> int:\n",
    "    reversed_n = 0\n",
    "    for i in range(32):  # We know the number has exactly 32 bits.\n",
    "        # Get the rightmost bit of n\n",
    "        rightmost_bit = n & 1\n",
    "        # Shift the reversed result to the left by 1 to make space for the new bit\n",
    "        reversed_n = reversed_n << 1\n",
    "        # Add the rightmost bit to reversed_n\n",
    "        reversed_n |= rightmost_bit\n",
    "        # Shift n to the right by 1 to process the next bit\n",
    "        n >>= 1\n",
    "    return reversed_n\n",
    "\n",
    "n = 11111111111111111111111111111101\n",
    "n = 00000010100101000001111010011100\n",
    "reverseBits(n)\n"
   ]
  },
  {
   "cell_type": "markdown",
   "metadata": {},
   "source": [
    "# 136. Single Number\n",
    "Easy\n",
    "Topics\n",
    "Companies\n",
    "Hint\n",
    "Given a non-empty array of integers nums, every element appears twice except for one. Find that single one.\n",
    "\n",
    "You must implement a solution with a linear runtime complexity and use only constant extra space.\n",
    "\n",
    " \n",
    "\n",
    "Example 1:\n",
    "\n",
    "Input: nums = [2,2,1]\n",
    "\n",
    "Output: 1\n",
    "\n",
    "Example 2:\n",
    "\n",
    "Input: nums = [4,1,2,1,2]\n",
    "\n",
    "Output: 4\n",
    "\n",
    "Example 3:\n",
    "\n",
    "Input: nums = [1]\n",
    "\n",
    "Output: 1\n",
    "\n",
    " \n",
    "\n",
    "Constraints:\n",
    "\n",
    "1 <= nums.length <= 3 * 104\n",
    "-3 * 104 <= nums[i] <= 3 * 104\n",
    "Each element in the array appears twice except for one element which appears only once."
   ]
  },
  {
   "cell_type": "code",
   "execution_count": 1,
   "metadata": {},
   "outputs": [
    {
     "name": "stdout",
     "output_type": "stream",
     "text": [
      "4 4\n",
      "1 5\n",
      "2 7\n",
      "1 6\n",
      "2 4\n"
     ]
    },
    {
     "data": {
      "text/plain": [
       "4"
      ]
     },
     "execution_count": 1,
     "metadata": {},
     "output_type": "execute_result"
    }
   ],
   "source": [
    "def SingleNumber(nums):\n",
    "    result = 0\n",
    "    for num in nums:\n",
    "        result ^= num\n",
    "        print(num, result)\n",
    "    return result\n",
    "\n",
    "inp = [4, 1, 2, 1, 2]\n",
    "SingleNumber(inp)"
   ]
  },
  {
   "cell_type": "markdown",
   "metadata": {},
   "source": [
    "#92. Reverse Linked List II\n",
    "Medium\n",
    "Topics\n",
    "Companies\n",
    "Given the head of a singly linked list and two integers left and right where left <= right, reverse the nodes of the list from position left to position right, and return the reversed list.\n",
    "\n",
    " \n",
    "\n",
    "Example 1:\n",
    "\n",
    "\n",
    "Input: head = [1,2,3,4,5], left = 2, right = 4\n",
    "Output: [1,4,3,2,5]\n",
    "Example 2:\n",
    "\n",
    "Input: head = [5], left = 1, right = 1\n",
    "Output: [5]\n",
    " \n",
    "\n",
    "Constraints:\n",
    "\n",
    "The number of nodes in the list is n.\n",
    "1 <= n <= 500\n",
    "-500 <= Node.val <= 500\n",
    "1 <= left <= right <= n\n"
   ]
  },
  {
   "cell_type": "code",
   "execution_count": null,
   "metadata": {},
   "outputs": [],
   "source": [
    "from typing import List\n",
    "class Node:\n",
    "    def __init__(self, data):\n",
    "        self.key = data\n",
    "        self.next = None\n",
    "    \n",
    "\n",
    "def reverseBetween(head: Node, left: int, right: int) -> Node:\n",
    "    if not head or left == right:\n",
    "        return head"
   ]
  },
  {
   "cell_type": "markdown",
   "metadata": {},
   "source": [
    "525. Contiguous Array\n",
    "Medium\n",
    "Topics\n",
    "Companies\n",
    "Given a binary array nums, return the maximum length of a contiguous subarray with an equal number of 0 and 1.\n",
    "\n",
    " \n",
    "\n",
    "Example 1:\n",
    "\n",
    "Input: nums = [0,1]\n",
    "Output: 2\n",
    "Explanation: [0, 1] is the longest contiguous subarray with an equal number of 0 and 1.\n",
    "Example 2:\n",
    "\n",
    "Input: nums = [0,1,0]\n",
    "Output: 2\n",
    "Explanation: [0, 1] (or [1, 0]) is a longest contiguous subarray with equal number of 0 and 1.\n",
    " \n",
    "\n",
    "Constraints:\n",
    "\n",
    "1 <= nums.length <= 105\n",
    "nums[i] is either 0 or 1."
   ]
  },
  {
   "cell_type": "markdown",
   "metadata": {},
   "source": [
    "121. Best Time to Buy and Sell Stock\n",
    "Solved\n",
    "Easy\n",
    "Topics\n",
    "Companies\n",
    "You are given an array prices where prices[i] is the price of a given stock on the ith day.\n",
    "\n",
    "You want to maximize your profit by choosing a single day to buy one stock and choosing a different day in the future to sell that stock.\n",
    "\n",
    "Return the maximum profit you can achieve from this transaction. If you cannot achieve any profit, return 0.\n",
    "\n",
    " \n",
    "\n",
    "Example 1:\n",
    "\n",
    "Input: prices = [7,1,5,3,6,4]\n",
    "Output: 5\n",
    "Explanation: Buy on day 2 (price = 1) and sell on day 5 (price = 6), profit = 6-1 = 5.\n",
    "Note that buying on day 2 and selling on day 1 is not allowed because you must buy before you sell.\n",
    "Example 2:\n",
    "\n",
    "Input: prices = [7,6,4,3,1]\n",
    "Output: 0\n",
    "Explanation: In this case, no transactions are done and the max profit = 0.\n"
   ]
  },
  {
   "cell_type": "code",
   "execution_count": 4,
   "metadata": {},
   "outputs": [
    {
     "name": "stdout",
     "output_type": "stream",
     "text": [
      "5\n"
     ]
    }
   ],
   "source": [
    "from typing import List\n",
    "def maxProfit(prices: List[int]) -> int:\n",
    "    l, r = 0, 1\n",
    "    maxP = 0\n",
    "\n",
    "    while r < len(prices):\n",
    "        if prices[l] < prices[r]:\n",
    "            profit = prices[r] - prices[l]\n",
    "            maxP = max(maxP, profit)\n",
    "        else:\n",
    "            l += 1\n",
    "        r += 1\n",
    "    return maxP\n",
    "\n",
    "l = [7,1,5,3,6,4]\n",
    "print(maxProfit(l))\n"
   ]
  },
  {
   "cell_type": "code",
   "execution_count": 5,
   "metadata": {},
   "outputs": [
    {
     "name": "stdout",
     "output_type": "stream",
     "text": [
      "5\n"
     ]
    }
   ],
   "source": [
    "def maxProfit(prices: List[int]) -> int:\n",
    "        # Initialize variables\n",
    "        min_price = float('inf')  # set to infinity initially\n",
    "        max_profit = 0\n",
    "\n",
    "        # Iterate over each price in the array\n",
    "        for price in prices:\n",
    "            # Update the min_price if the current price is lower\n",
    "            if price < min_price:\n",
    "                min_price = price\n",
    "            # Calculate the potential profit and update max_profit if needed\n",
    "            else:\n",
    "                max_profit = max(max_profit, price - min_price)\n",
    "        return max_profit\n",
    "\n",
    "l = [7,1,5,3,6,4]\n",
    "print(maxProfit(l))\n"
   ]
  },
  {
   "cell_type": "markdown",
   "metadata": {},
   "source": [
    "# 3. Longest Substring Without Repeating Characters\n",
    "Medium\n",
    "Topics\n",
    "Companies\n",
    "Hint\n",
    "Given a string s, find the length of the longest substring without duplicate characters.\n",
    "\n",
    " \n",
    "\n",
    "Example 1:\n",
    "\n",
    "Input: s = \"abcabcbb\"\n",
    "Output: 3\n",
    "Explanation: The answer is \"abc\", with the length of 3.\n",
    "Example 2:\n",
    "\n",
    "Input: s = \"bbbbb\"\n",
    "Output: 1\n",
    "Explanation: The answer is \"b\", with the length of 1.\n",
    "Example 3:\n",
    "\n",
    "Input: s = \"pwwkew\"\n",
    "Output: 3\n",
    "Explanation: The answer is \"wke\", with the length of 3.\n",
    "Notice that the answer must be a substring, \"pwke\" is a subsequence and not a substring.\n",
    " \n",
    "\n",
    "Constraints:\n",
    "\n",
    "0 <= s.length <= 5 * 104\n",
    "s consists of English letters, digits, symbols and spaces."
   ]
  },
  {
   "cell_type": "markdown",
   "metadata": {},
   "source": []
  },
  {
   "cell_type": "markdown",
   "metadata": {},
   "source": [
    "# 525. Contiguous Array\n",
    "Medium\n",
    "\n",
    "https://leetcode.com/problems/contiguous-array/description/\n",
    "\n",
    "Given a binary array nums, return the maximum length of a contiguous subarray with an equal number of 0 and 1.\n",
    "\n",
    " \n",
    "\n",
    "Example 1:\n",
    "\n",
    "Input: nums = [0,1]\n",
    "Output: 2\n",
    "Explanation: [0, 1] is the longest contiguous subarray with an equal number of 0 and 1.\n",
    "Example 2:\n",
    "\n",
    "Input: nums = [0,1,0]\n",
    "Output: 2\n",
    "Explanation: [0, 1] (or [1, 0]) is a longest contiguous subarray with equal number of 0 and 1.\n",
    "Example 3:\n",
    "\n",
    "Input: nums = [0,1,1,1,1,1,0,0,0]\n",
    "Output: 6\n",
    "Explanation: [1,1,1,0,0,0] is the longest contiguous subarray with equal number of 0 and 1.\n",
    " \n",
    "\n",
    "Constraints:\n",
    "\n",
    "1 <= nums.length <= 105\n",
    "nums[i] is either 0 or 1."
   ]
  },
  {
   "cell_type": "code",
   "execution_count": 2,
   "metadata": {},
   "outputs": [
    {
     "name": "stdout",
     "output_type": "stream",
     "text": [
      "0 0\n",
      "1 1\n",
      "2 1\n",
      "3 1\n",
      "4 1\n",
      "5 1\n",
      "6 0\n",
      "7 0\n",
      "8 0\n"
     ]
    }
   ],
   "source": [
    "nums = [0, 1, 1, 1, 1, 1, 0, 0, 0]\n",
    "\n",
    "for i, num in enumerate(nums):\n",
    "    print(i, nums[i])"
   ]
  },
  {
   "cell_type": "code",
   "execution_count": 3,
   "metadata": {},
   "outputs": [
    {
     "name": "stdout",
     "output_type": "stream",
     "text": [
      "6\n"
     ]
    }
   ],
   "source": [
    "def findMaxLength(nums):\n",
    "    sum_index_map = {0: -1}\n",
    "    prefix_sum = 0\n",
    "    max_length = 0\n",
    "\n",
    "    for i, num in enumerate(nums):\n",
    "        prefix_sum +=1 if num==1 else -1\n",
    "\n",
    "        #if prefix_sum has been seen before calculate the length of subarray\n",
    "        if prefix_sum in sum_index_map:\n",
    "            max_length = max(max_length, i - sum_index_map[prefix_sum])\n",
    "        else:\n",
    "            sum_index_map[prefix_sum] = i \n",
    "    \n",
    "    return max_length\n",
    "\n",
    "nums = [0,1,1,1,1,1,0,0,0]\n",
    "print(findMaxLength(nums))"
   ]
  },
  {
   "cell_type": "markdown",
   "metadata": {},
   "source": [
    "92. Reverse Linked List II\n",
    "Medium\n",
    "Topics\n",
    "Companies\n",
    "Given the head of a singly linked list and two integers left and right where left <= right, reverse the nodes of the list from position left to position right, and return the reversed list.\n",
    "\n",
    " \n",
    "\n",
    "Example 1:\n",
    "\n",
    "\n",
    "Input: head = [1,2,3,4,5], left = 2, right = 4\n",
    "Output: [1,4,3,2,5]\n",
    "Example 2:\n",
    "\n",
    "Input: head = [5], left = 1, right = 1\n",
    "Output: [5]\n",
    " \n",
    "\n",
    "Constraints:\n",
    "\n",
    "The number of nodes in the list is n.\n",
    "1 <= n <= 500\n",
    "-500 <= Node.val <= 500\n",
    "1 <= left <= right <= n\n",
    " \n",
    "\n",
    "Follow up: Could you do it in one pass?"
   ]
  },
  {
   "cell_type": "code",
   "execution_count": 1,
   "metadata": {},
   "outputs": [
    {
     "name": "stdout",
     "output_type": "stream",
     "text": [
      "1 -> 4 -> 3 -> 2 -> 5\n"
     ]
    }
   ],
   "source": [
    "class ListNode:\n",
    "    def __init__(self, val=0, next=None):\n",
    "        self.val = val\n",
    "        self.next = next\n",
    "\n",
    "def reverseBetween(head: ListNode, left: int, right: int) -> ListNode:\n",
    "    if not head or left == right:\n",
    "        return head\n",
    "    \n",
    "    # Create a dummy node to simplify edge cases where left = 1\n",
    "    dummy = ListNode(0)\n",
    "    dummy.next = head\n",
    "    prev = dummy\n",
    "    \n",
    "    # Move `prev` to the node just before the `left`-th node\n",
    "    for _ in range(left - 1):\n",
    "        prev = prev.next\n",
    "    \n",
    "    # `start` is the first node to be reversed\n",
    "    start = prev.next\n",
    "    # `then` is the node that will be reversed\n",
    "    then = start.next\n",
    "    \n",
    "    # Perform the reversal between `left` and `right`\n",
    "    for _ in range(right - left):\n",
    "        start.next = then.next\n",
    "        then.next = prev.next\n",
    "        prev.next = then\n",
    "        then = start.next\n",
    "    \n",
    "    return dummy.next\n",
    "\n",
    "# Helper function to print the linked list\n",
    "def printList(head: ListNode):\n",
    "    curr = head\n",
    "    while curr:\n",
    "        print(curr.val, end=\" -> \" if curr.next else \"\\n\")\n",
    "        curr = curr.next\n",
    "\n",
    "# Example Usage\n",
    "# Creating a linked list: 1 -> 2 -> 3 -> 4 -> 5\n",
    "node1 = ListNode(1)\n",
    "node2 = ListNode(2)\n",
    "node3 = ListNode(3)\n",
    "node4 = ListNode(4)\n",
    "node5 = ListNode(5)\n",
    "node1.next = node2\n",
    "node2.next = node3\n",
    "node3.next = node4\n",
    "node4.next = node5\n",
    "\n",
    "# Reversing nodes between position 2 and 4\n",
    "reversed_head = reverseBetween(node1, 2, 4)\n",
    "printList(reversed_head)  # Output: 1 -> 4 -> 3 -> 2 -> 5\n"
   ]
  },
  {
   "cell_type": "code",
   "execution_count": null,
   "metadata": {},
   "outputs": [],
   "source": []
  }
 ],
 "metadata": {
  "kernelspec": {
   "display_name": "base",
   "language": "python",
   "name": "python3"
  },
  "language_info": {
   "codemirror_mode": {
    "name": "ipython",
    "version": 3
   },
   "file_extension": ".py",
   "mimetype": "text/x-python",
   "name": "python",
   "nbconvert_exporter": "python",
   "pygments_lexer": "ipython3",
   "version": "3.7.6"
  }
 },
 "nbformat": 4,
 "nbformat_minor": 2
}
