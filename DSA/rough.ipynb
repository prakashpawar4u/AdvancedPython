{
 "cells": [
  {
   "cell_type": "code",
   "execution_count": 1,
   "metadata": {},
   "outputs": [],
   "source": [
    "# Merge Sort Trial;"
   ]
  },
  {
   "cell_type": "code",
   "execution_count": 18,
   "metadata": {},
   "outputs": [
    {
     "name": "stdout",
     "output_type": "stream",
     "text": [
      "[1, 2, 4, 5, 5, 6, 7, 7, 33]\n"
     ]
    }
   ],
   "source": [
    "def mergeList(a,b):\n",
    "    res = []\n",
    "    m = len(a)\n",
    "    n = len(b)\n",
    "    i,j = 0, 0\n",
    "    while i<m and j<n:\n",
    "        if a[i]<b[j]:\n",
    "            res.append(a[i])\n",
    "            i = i+1\n",
    "        else:\n",
    "            res.append(b[j])\n",
    "            j = j+1\n",
    "    \n",
    "    while i < m:\n",
    "        res.append(a[i])\n",
    "        i = i + 1\n",
    "    while j < n:\n",
    "        res.append(b[j])\n",
    "        j = j + 1\n",
    "\n",
    "    return res        \n",
    "   \n",
    "\n",
    "\n",
    "l1 = [1,2,5,33]\n",
    "l2 = [4,5,6,7,7]\n",
    "finaList = mergeList(l1,l2)\n",
    "print(finaList)\n"
   ]
  },
  {
   "cell_type": "code",
   "execution_count": 19,
   "metadata": {},
   "outputs": [],
   "source": [
    "def mergeSubarray(a, low, mid, high):\n",
    "    left = a[low:mid + 1]\n",
    "    right = a[mid + 1:high + 1]\n",
    "\n",
    "    i = j = 0\n",
    "    k = low\n",
    "\n",
    "    while i < len(left) and j < len(right):\n",
    "\n",
    "        if left[i] < right[j]:\n",
    "            a[k] = left[i]\n",
    "\n",
    "            k += 1\n",
    "            i += 1\n",
    "        else:\n",
    "            a[k] = right[j]\n",
    "            k += 1\n",
    "            j += 1\n",
    "\n",
    "    while i < len(left):\n",
    "        a[k] = left[i]\n",
    "        i += 1\n",
    "        k += 1\n",
    "\n",
    "    while j < len(right):\n",
    "        a[k] = right[j]\n",
    "        j += 1\n",
    "        k += 1\n",
    "\n",
    "\n",
    "a = [10, 15, 20, 40, 8, 11, 55]\n",
    "\n",
    "mergeSubarray(a, 0, 3, 6)\n",
    "\n",
    "print(*a)\n"
   ]
  },
  {
   "cell_type": "code",
   "execution_count": 1,
   "metadata": {},
   "outputs": [
    {
     "name": "stdout",
     "output_type": "stream",
     "text": [
      "10 5 30 15 7\n"
     ]
    }
   ],
   "source": [
    "def merge(a, low, mid, high):\n",
    "    left = a[low:mid + 1]\n",
    "    right = a[mid + 1:high + 1]\n",
    "\n",
    "    i = j = 0\n",
    "    k = low\n",
    "\n",
    "    while i < len(left) and j < len(right):\n",
    "\n",
    "        if left[i] < right[j]:\n",
    "            a[k] = left[i]\n",
    "\n",
    "            k += 1\n",
    "            i += 1\n",
    "        else:\n",
    "            a[k] = right[j]\n",
    "            k += 1\n",
    "            j += 1\n",
    "\n",
    "    while i < len(left):\n",
    "        a[k] = left[i]\n",
    "        i += 1\n",
    "        k += 1\n",
    "\n",
    "    while j < len(right):\n",
    "        a[k] = right[j]\n",
    "        j += 1\n",
    "        k += 1\n",
    "\n",
    "\n",
    "def mergeSort(arr, l, r):\n",
    "    if r > l:\n",
    "        m = (r + l) // 2\n",
    "        mergeSort(arr, l, m)\n",
    "        mergeSort(arr, m + 1, r)\n",
    "        merge(arr, l, m, r)\n",
    "\n",
    "\n",
    "arr = [10, 5, 30, 15, 7]\n",
    "\n",
    "mergeSort(arr, 0, 4)\n",
    "print(*arr)\n"
   ]
  },
  {
   "cell_type": "code",
   "execution_count": 10,
   "metadata": {},
   "outputs": [],
   "source": [
    "\n",
    "def merge(a, l, m, r):\n",
    "    left = a[l: m + 1]\n",
    "    right = a[m+1 : r+1]\n",
    "    # print(f\"left {left}\")\n",
    "    # print(f\"right {right}\")\n",
    "\n",
    "    i = j = 0 \n",
    "    k = l\n",
    "    while i < len(left) and j < len(right):\n",
    "        if left[i] < right[j]:\n",
    "            a[k] = left[i]\n",
    "\n",
    "            k += 1\n",
    "            i += 1\n",
    "\n",
    "        else: \n",
    "            a[k]=right[j]\n",
    "            k +=1\n",
    "            j +=1\n",
    "\n",
    "    while i < len(left):\n",
    "        a[k] = left[i]\n",
    "        i += 1\n",
    "        j += 1\n",
    "\n",
    "    while j < len(right):\n",
    "        a[k] = right[j]\n",
    "        j += 1\n",
    "        k += 1\n",
    "\n",
    "\n",
    "def mergeSort(arr, l, r):\n",
    "    if r > l:\n",
    "        m = (r + l) // 2\n",
    "        mergeSort(arr, l, m)\n",
    "        mergeSort(arr, m + 1, r)\n",
    "        merge(arr, l, m, r)\n",
    " \n",
    "\n",
    "arr = [10, 5, 30, 15, 7]\n",
    "mergeSort(arr,0, 4)\n"
   ]
  },
  {
   "cell_type": "code",
   "execution_count": 20,
   "metadata": {},
   "outputs": [
    {
     "name": "stdout",
     "output_type": "stream",
     "text": [
      "[3, 5, 8, 2, 8, 9, 10, 15]\n",
      "2 3 5 8 9 10 15 "
     ]
    }
   ],
   "source": [
    "a = [3,5,8]\n",
    "b = [2,8,9,10,15]\n",
    "\n",
    "c = a + b\n",
    "print(c)\n",
    "\n",
    "c.sort()\n",
    "\n",
    "for i in range(0,len(c)):\n",
    "    if (i==0 or c[i] != c[i-1]):\n",
    "        print(c[i], end=\" \")\n",
    "    # if c[i]==c[i+1]:\n",
    "    #      continue\n",
    "    # else:\n",
    "    #     print(c[i-1])"
   ]
  },
  {
   "cell_type": "code",
   "execution_count": null,
   "metadata": {},
   "outputs": [],
   "source": []
  }
 ],
 "metadata": {
  "interpreter": {
   "hash": "aee8b7b246df8f9039afb4144a1f6fd8d2ca17a180786b69acc140d282b71a49"
  },
  "kernelspec": {
   "display_name": "Python 3.11.2 64-bit",
   "language": "python",
   "name": "python3"
  },
  "language_info": {
   "codemirror_mode": {
    "name": "ipython",
    "version": 3
   },
   "file_extension": ".py",
   "mimetype": "text/x-python",
   "name": "python",
   "nbconvert_exporter": "python",
   "pygments_lexer": "ipython3",
   "version": "3.11.2"
  },
  "orig_nbformat": 4
 },
 "nbformat": 4,
 "nbformat_minor": 2
}
