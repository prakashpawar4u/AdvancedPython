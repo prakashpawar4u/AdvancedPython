{
 "cells": [
  {
   "cell_type": "code",
   "execution_count": 26,
   "metadata": {},
   "outputs": [
    {
     "name": "stdout",
     "output_type": "stream",
     "text": [
      "97\n",
      "65\n",
      "a\n",
      "A\n"
     ]
    }
   ],
   "source": [
    "print(ord(\"a\"))\n",
    "print(ord(\"A\"))\n",
    "\n",
    "print(chr(97))\n",
    "print(chr(65))"
   ]
  },
  {
   "cell_type": "code",
   "execution_count": 27,
   "metadata": {},
   "outputs": [
    {
     "name": "stdout",
     "output_type": "stream",
     "text": [
      "string\n",
      "s\n",
      "g\n",
      "t\n",
      "n\n"
     ]
    }
   ],
   "source": [
    "s = \"string\"\n",
    "\n",
    "print(s)\n",
    "print(s[0])\n",
    "print(s[-1])\n",
    "print(s[1])\n",
    "print(s[-2])\n"
   ]
  },
  {
   "cell_type": "code",
   "execution_count": 28,
   "metadata": {},
   "outputs": [
    {
     "name": "stdout",
     "output_type": "stream",
     "text": [
      "0\n",
      "11\n",
      "11\n"
     ]
    }
   ],
   "source": [
    "s1 = \"Hello!Jack,Hello\"\n",
    "s2 = \"Hello\"\n",
    "\n",
    "print(s1.index(s2))\n",
    "print(s1.rindex(s2))\n",
    "\n",
    "print(s1.index(s2,1,len(s1)+1))"
   ]
  },
  {
   "cell_type": "code",
   "execution_count": 29,
   "metadata": {},
   "outputs": [
    {
     "name": "stdout",
     "output_type": "stream",
     "text": [
      "HELLO\n",
      "hello\n",
      "True\n",
      "False\n"
     ]
    }
   ],
   "source": [
    "s1 = \"Hello\"\n",
    "s2 = s1.upper()\n",
    "\n",
    "print(s1.upper())\n",
    "print(s1.lower())\n",
    "\n",
    "print(s2.isupper())\n",
    "print(s2.islower())"
   ]
  },
  {
   "cell_type": "code",
   "execution_count": 30,
   "metadata": {},
   "outputs": [
    {
     "name": "stdout",
     "output_type": "stream",
     "text": [
      "True\n",
      "True\n",
      "False\n",
      "True\n"
     ]
    }
   ],
   "source": [
    "s = \"Welcome to python\"\n",
    "\n",
    "print(s.startswith('Welcome'))\n",
    "print(s.endswith(\"python\"))\n",
    "print(s.endswith(\"Python\"))\n",
    "\n",
    "print(s.startswith('to', 8, len(s)))\n",
    "\n"
   ]
  },
  {
   "cell_type": "code",
   "execution_count": 31,
   "metadata": {},
   "outputs": [
    {
     "name": "stdout",
     "output_type": "stream",
     "text": [
      "['welcome', 'to', 'python']\n",
      "['Welcome', ' to', ' Python']\n",
      "welcome to python\n",
      "welcome,to,python\n"
     ]
    }
   ],
   "source": [
    "s1 = \"welcome to python\"\n",
    "\n",
    "print(s1.split()) #returns a list\n",
    "\n",
    "s2 = \"Welcome, to, Python\"\n",
    "print(s2.split(','))\n",
    "\n",
    "l1 = ['welcome', 'to', 'python']\n",
    "print(' '.join(l1)) # joins a list to make a string\n",
    "print(','.join(l1))\n"
   ]
  },
  {
   "cell_type": "code",
   "execution_count": 32,
   "metadata": {},
   "outputs": [
    {
     "name": "stdout",
     "output_type": "stream",
     "text": [
      "remo-ved\n",
      "remo-ved---\n",
      "--remo-ved\n"
     ]
    }
   ],
   "source": [
    "#strip \n",
    "\n",
    "s = \"--remo-ved---\"\n",
    "print(s.strip('-'))\n",
    "print(s.lstrip('-'))\n",
    "\n",
    "print(s.rstrip('-'))"
   ]
  },
  {
   "cell_type": "code",
   "execution_count": 33,
   "metadata": {},
   "outputs": [
    {
     "name": "stdout",
     "output_type": "stream",
     "text": [
      "11\n",
      "-1\n",
      "11\n"
     ]
    }
   ],
   "source": [
    "s1 = \"Welcome to python\"\n",
    "s2 = 'python'\n",
    "\n",
    "print(s1.find(s2))\n",
    "print(s1.find(\"other\")) #return -1 but in index function it will throw error\n",
    "\n",
    "n = len(s1)\n",
    "print(s1.find(s2,1,n))"
   ]
  },
  {
   "cell_type": "code",
   "execution_count": 34,
   "metadata": {},
   "outputs": [
    {
     "name": "stdout",
     "output_type": "stream",
     "text": [
      "\n"
     ]
    }
   ],
   "source": [
    "#reverse a string\n",
    "\n",
    "s = input(\"Enter a string\")\n",
    "rev = \"\"\n",
    "for i in s:\n",
    "    rev = i + rev\n",
    "print(rev)"
   ]
  },
  {
   "cell_type": "markdown",
   "metadata": {},
   "source": [
    "## rotation of each other"
   ]
  },
  {
   "cell_type": "code",
   "execution_count": 35,
   "metadata": {},
   "outputs": [
    {
     "name": "stdout",
     "output_type": "stream",
     "text": [
      "concatenated str abababba and find sub string s2 abba\n",
      "True\n"
     ]
    }
   ],
   "source": [
    "s1 = \"abab\"\n",
    "s2 = \"abba\"\n",
    "\n",
    "def areRotation(s1,s2):\n",
    "    if len(s1)!=len(s2):\n",
    "        return False\n",
    "    tmp = ''\n",
    "    tmp = s1+s2\n",
    "    print(f\"concatenated str {tmp} and find sub string s2 {s2}\")\n",
    "    return tmp.find(s2)!=-1\n",
    "\n",
    "print(areRotation(s1,s2))\n"
   ]
  },
  {
   "cell_type": "code",
   "execution_count": 36,
   "metadata": {},
   "outputs": [
    {
     "name": "stdout",
     "output_type": "stream",
     "text": [
      "eksforGeeksGe\n",
      "ksGeeksforGee\n"
     ]
    }
   ],
   "source": [
    "# In-place rotates s towards left by d\n",
    "def leftrotate(s, d):\n",
    "    tmp = s[d : ] + s[0 : d]\n",
    "    return tmp\n",
    "   \n",
    "# In-place rotates s\n",
    "# towards right by d\n",
    "def rightrotate(s, d):\n",
    "   \n",
    "   return leftrotate(s, len(s) - d)\n",
    " \n",
    "# Driver code\n",
    "if __name__==\"__main__\":\n",
    "     \n",
    "    str1 = \"GeeksforGeeks\"\n",
    "    print(leftrotate(str1, 2))\n",
    "  \n",
    "    str2 = \"GeeksforGeeks\"\n",
    "    print(rightrotate(str2, 2))\n",
    " "
   ]
  },
  {
   "cell_type": "code",
   "execution_count": 1,
   "metadata": {},
   "outputs": [
    {
     "name": "stdout",
     "output_type": "stream",
     "text": [
      "Yes\n",
      "True\n"
     ]
    }
   ],
   "source": [
    "# Palindrome\n",
    "\n",
    "def checkPalindrom(st):\n",
    "    low = 0\n",
    "    high = len(st)-1\n",
    "    while low < high:\n",
    "        if st[low]!=st[high]:\n",
    "            print(\"Not a palindrome\")\n",
    "            return False\n",
    "        low = low + 1\n",
    "        high = high -1\n",
    "    else:\n",
    "        print(\"Yes\")\n",
    "        return True\n",
    "\n",
    "inp = input(\"Enter a string:\")\n",
    "print(checkPalindrom(inp))\n",
    "\n"
   ]
  },
  {
   "cell_type": "code",
   "execution_count": 2,
   "metadata": {},
   "outputs": [
    {
     "name": "stdout",
     "output_type": "stream",
     "text": [
      "Palindrome\n"
     ]
    }
   ],
   "source": [
    "st = input(\"Enter a str to check if is palindrome\")\n",
    "\n",
    "if st == st[::-1]:\n",
    "    print(\"Palindrome\")\n",
    "else:\n",
    "    print(\"Not a Palindrome\")"
   ]
  },
  {
   "cell_type": "code",
   "execution_count": 39,
   "metadata": {},
   "outputs": [
    {
     "data": {
      "text/plain": [
       "False"
      ]
     },
     "execution_count": 39,
     "metadata": {},
     "output_type": "execute_result"
    }
   ],
   "source": [
    "# subsequence of a string \n",
    "\n",
    "def subseq(s1,s2):\n",
    "    i = j = 0\n",
    "    if len(s2) > len(s1):\n",
    "        print(\"Cannot be a subsequence\")\n",
    "        return False\n",
    "    while i < len(s1) and j < len(s2):\n",
    "        if s1[i]==s2[j]:\n",
    "            #i = i +1 \n",
    "            j = j + 1\n",
    "        i = i + 1\n",
    "    if j ==len(s2):\n",
    "        return True\n",
    "    else:\n",
    "        return False\n",
    "        \n",
    "\n",
    "s1 = \"ABCDEF\"\n",
    "s2 = \"ADEB\"\n",
    "subseq(s1,s2) \n",
    "\n",
    "\n"
   ]
  },
  {
   "cell_type": "code",
   "execution_count": 47,
   "metadata": {},
   "outputs": [
    {
     "data": {
      "text/plain": [
       "False"
      ]
     },
     "execution_count": 47,
     "metadata": {},
     "output_type": "execute_result"
    }
   ],
   "source": [
    "# Anagram Naive Solution\n",
    "#Timecomplexity O(nlogn)\n",
    "\n",
    "def checkAnagram(s1,s2):\n",
    "    if len(s1)!=len(s2):\n",
    "        return False\n",
    "    s1 = sorted(s1)\n",
    "    s2 = sorted(s2)\n",
    "\n",
    "    if s1==s2:\n",
    "        print(\"Both strings are Anagram to each other\")\n",
    "        return True\n",
    "\n",
    "s1 = \"listen\"\n",
    "s2 = \"silently\"\n",
    "checkAnagram(s1,s2)\n",
    "\n"
   ]
  },
  {
   "cell_type": "code",
   "execution_count": 59,
   "metadata": {},
   "outputs": [
    {
     "data": {
      "text/plain": [
       "True"
      ]
     },
     "execution_count": 59,
     "metadata": {},
     "output_type": "execute_result"
    }
   ],
   "source": [
    "#Efficient Solution\n",
    "\n",
    "def areAnagram(s1,s2):\n",
    "    if len(s1) != len(s2):\n",
    "        return False\n",
    "    count=[0]*256\n",
    "    for i in range(len(s1)):\n",
    "        count[ord(s1[i])]+=1\n",
    "        count[ord(s2[i])]-=1\n",
    "    for x in count:\n",
    "        if x!=0:\n",
    "            return False\n",
    "    return True\n",
    "\n",
    "s1 = \"listen\"\n",
    "s2 = \"silent\"\n",
    "areAnagram(s1,s2)\n"
   ]
  },
  {
   "cell_type": "code",
   "execution_count": 51,
   "metadata": {},
   "outputs": [
    {
     "name": "stdout",
     "output_type": "stream",
     "text": [
      "108\n"
     ]
    }
   ],
   "source": [
    "s1 = \"listen\"\n",
    "print(ord(s1[0]))"
   ]
  },
  {
   "cell_type": "code",
   "execution_count": 60,
   "metadata": {},
   "outputs": [
    {
     "name": "stdout",
     "output_type": "stream",
     "text": [
      "True\n",
      "False\n"
     ]
    }
   ],
   "source": [
    "from collections import Counter\n",
    "def is_anagram(str1, str2):\n",
    "     return Counter(str1) == Counter(str2)\n",
    "print(is_anagram('geek', 'eegk'))\n",
    "print(is_anagram('geek', 'peek'))   "
   ]
  },
  {
   "cell_type": "markdown",
   "metadata": {},
   "source": [
    "# Left most char that repeats"
   ]
  },
  {
   "cell_type": "code",
   "execution_count": 16,
   "metadata": {},
   "outputs": [
    {
     "name": "stdout",
     "output_type": "stream",
     "text": [
      "5 <class 'str'>\n",
      "b\n"
     ]
    },
    {
     "data": {
      "text/plain": [
       "True"
      ]
     },
     "execution_count": 16,
     "metadata": {},
     "output_type": "execute_result"
    }
   ],
   "source": [
    "#Naive approach\n",
    "\n",
    "def leftmost(st):\n",
    "    #st = st.split()\n",
    "    print(len(st), type(st))\n",
    "    for i in range(len(st)):\n",
    "        for j in range(i+1, len(st)):\n",
    "            if st[i]==st[j]:\n",
    "                print(st[i])\n",
    "                return True\n",
    "    return False\n",
    "        #print(i, st[i])\n",
    "\n",
    "\n",
    "st = \"abbcd\"\n",
    "leftmost(st)"
   ]
  },
  {
   "cell_type": "code",
   "execution_count": 6,
   "metadata": {},
   "outputs": [
    {
     "name": "stdout",
     "output_type": "stream",
     "text": [
      "[0, 0, 0, 0, 0, 0, 0, 0, 0, 0, 0, 0, 0, 0, 0, 0, 0, 0, 0, 0, 0, 0, 0, 0, 0, 0, 0, 0, 0, 0, 0, 0, 0, 0, 0, 0, 0, 0, 0, 0, 0, 0, 0, 0, 0, 0, 0, 0, 0, 0, 0, 0, 0, 0, 0, 0, 0, 0, 0, 0, 0, 0, 0, 0, 0, 0, 0, 0, 1, 0, 0, 0, 0, 0, 0, 0, 0, 0, 0, 0, 0, 0, 0, 0, 0, 0, 0, 0, 0, 0, 1, 0, 0, 0, 0, 0, 0, 2, 2, 1, 0, 0, 0, 0, 0, 0, 0, 0, 0, 1, 1, 0, 0, 0, 0, 0, 0, 0, 0, 0, 0, 0, 2, 0, 0, 0, 0, 0, 0, 0, 0, 0, 0, 0, 0, 0, 0, 0, 0, 0, 0, 0, 0, 0, 0, 0, 0, 0, 0, 0, 0, 0, 0, 0, 0, 0, 0, 0, 0, 0, 0, 0, 0, 0, 0, 0, 0, 0, 0, 0, 0, 0, 0, 0, 0, 0, 0, 0, 0, 0, 0, 0, 0, 0, 0, 0, 0, 0, 0, 0, 0, 0, 0, 0, 0, 0, 0, 0, 0, 0, 0, 0, 0, 0, 0, 0, 0, 0, 0, 0, 0, 0, 0, 0, 0, 0, 0, 0, 0, 0, 0, 0, 0, 0, 0, 0, 0, 0, 0, 0, 0, 0, 0, 0, 0, 0, 0, 0, 0, 0, 0, 0, 0, 0, 0, 0, 0, 0, 0, 0, 0, 0, 0, 0, 0, 0] <class 'list'>\n"
     ]
    },
    {
     "data": {
      "text/plain": [
       "2"
      ]
     },
     "execution_count": 6,
     "metadata": {},
     "output_type": "execute_result"
    }
   ],
   "source": [
    "import sys\n",
    "CHAR = 256\n",
    "\n",
    "def leftmostChar(st):\n",
    "    count = [0] * CHAR\n",
    "    for i in range(len(st)):\n",
    "        count[ord(st[i])] += 1\n",
    "    for i in range(len(st)):\n",
    "        if count[ord(st[i])] > 1:\n",
    "\n",
    "            print(count, type(count))\n",
    "    \n",
    "            return i\n",
    "    return -1\n",
    "\n",
    "st = \"mnzabbaczDZ\"\n",
    "leftmostChar(st)\n",
    "            "
   ]
  },
  {
   "cell_type": "code",
   "execution_count": 8,
   "metadata": {},
   "outputs": [
    {
     "data": {
      "text/plain": [
       "3"
      ]
     },
     "execution_count": 8,
     "metadata": {},
     "output_type": "execute_result"
    }
   ],
   "source": [
    "# Non repeating element\n",
    "\n",
    "import sys\n",
    "CHAR = 256\n",
    "\n",
    "def nonrep(st):\n",
    "    fi = [-1]*CHAR\n",
    "    for i in range(len(st)):\n",
    "        if fi[ord(st[i])]== -1:\n",
    "            fi[ord(st[i])]= i\n",
    "        else:\n",
    "            fi[ord(st[i])]= -2\n",
    "    res = sys.maxsize\n",
    "    for i in range(CHAR):\n",
    "        if fi[i] >= 0:\n",
    "            res = min(res,fi[i])\n",
    "    if res == sys.maxsize:\n",
    "        return -1\n",
    "    else:\n",
    "        return res\n",
    "\n",
    "\n",
    "st = \"abbcbda\"\n",
    "nonrep(st)"
   ]
  },
  {
   "cell_type": "code",
   "execution_count": 9,
   "metadata": {},
   "outputs": [
    {
     "name": "stdout",
     "output_type": "stream",
     "text": [
      "ads to welcome\n"
     ]
    }
   ],
   "source": [
    "#reverse words\n",
    "\n",
    "def revst(st,b,e):\n",
    "    while (b < e):\n",
    "        st[b], st[e] = st[e], st[b]\n",
    "        b +=1\n",
    "        e -=1\n",
    "\n",
    "def reversewords(st):\n",
    "    st = list(st)\n",
    "    n = len(st)\n",
    "    b = 0\n",
    "    for e in range(n):\n",
    "        if (st[e]==' '):\n",
    "            #print(st[b:e-1])\n",
    "            revst(st,b,e-1)\n",
    "            b = e+1\n",
    "            \n",
    "    revst(st, b, e-1) #will reverse last element which doesn't have a space\n",
    "    revst(st,0,n-1) #will reverse entire string\n",
    "    print(\"\".join(st))\n",
    "\n",
    "st = \"welcome to dsa\"\n",
    "reversed  = reversewords(st)\n",
    "#print(\"After reversig the string: {}\".format(st))"
   ]
  },
  {
   "cell_type": "code",
   "execution_count": 17,
   "metadata": {},
   "outputs": [
    {
     "name": "stdout",
     "output_type": "stream",
     "text": [
      "dsa to Welcome\n"
     ]
    }
   ],
   "source": [
    "# Reverse words in a string\n",
    "\n",
    "\n",
    "def reverse_word(s, start, end):\n",
    "\twhile start < end:\n",
    "\t\ts[start], s[end] = s[end], s[start]\n",
    "\t\tstart = start + 1\n",
    "\t\tend -= 1\n",
    "\n",
    "\n",
    "s = \"Welcome to dsa\"\n",
    "\n",
    "\n",
    "s = list(s)\n",
    "start = 0\n",
    "while True:\n",
    "\t\n",
    "\ttry:\n",
    "\t\tend = s.index(' ', start)\n",
    "\n",
    "\t\treverse_word(s, start, end - 1)\n",
    "\n",
    "\t\tstart = end + 1\n",
    "\n",
    "\texcept ValueError:\n",
    "\n",
    "\t\treverse_word(s, start, len(s) - 1)\n",
    "\t\tbreak\n",
    "\n",
    "s.reverse()\n",
    "\n",
    "s = \"\".join(s)\n",
    "\n",
    "print(s)\n",
    "\n"
   ]
  },
  {
   "cell_type": "code",
   "execution_count": null,
   "metadata": {},
   "outputs": [],
   "source": []
  }
 ],
 "metadata": {
  "interpreter": {
   "hash": "aee8b7b246df8f9039afb4144a1f6fd8d2ca17a180786b69acc140d282b71a49"
  },
  "kernelspec": {
   "display_name": "Python 3.11.2 64-bit",
   "language": "python",
   "name": "python3"
  },
  "language_info": {
   "codemirror_mode": {
    "name": "ipython",
    "version": 3
   },
   "file_extension": ".py",
   "mimetype": "text/x-python",
   "name": "python",
   "nbconvert_exporter": "python",
   "pygments_lexer": "ipython3",
   "version": "3.11.2"
  },
  "orig_nbformat": 4
 },
 "nbformat": 4,
 "nbformat_minor": 2
}
