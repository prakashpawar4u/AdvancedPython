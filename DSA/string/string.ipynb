{
 "cells": [
  {
   "cell_type": "code",
   "execution_count": 3,
   "metadata": {},
   "outputs": [
    {
     "name": "stdout",
     "output_type": "stream",
     "text": [
      "97\n",
      "65\n",
      "a\n",
      "A\n"
     ]
    }
   ],
   "source": [
    "print(ord(\"a\"))\n",
    "print(ord(\"A\"))\n",
    "\n",
    "print(chr(97))\n",
    "print(chr(65))"
   ]
  },
  {
   "cell_type": "code",
   "execution_count": 4,
   "metadata": {},
   "outputs": [
    {
     "name": "stdout",
     "output_type": "stream",
     "text": [
      "string\n",
      "s\n",
      "g\n",
      "t\n",
      "n\n"
     ]
    }
   ],
   "source": [
    "s = \"string\"\n",
    "\n",
    "print(s)\n",
    "print(s[0])\n",
    "print(s[-1])\n",
    "print(s[1])\n",
    "print(s[-2])\n"
   ]
  },
  {
   "cell_type": "code",
   "execution_count": 11,
   "metadata": {},
   "outputs": [
    {
     "name": "stdout",
     "output_type": "stream",
     "text": [
      "0\n",
      "11\n",
      "11\n"
     ]
    }
   ],
   "source": [
    "s1 = \"Hello!Jack,Hello\"\n",
    "s2 = \"Hello\"\n",
    "\n",
    "print(s1.index(s2))\n",
    "print(s1.rindex(s2))\n",
    "\n",
    "print(s1.index(s2,1,len(s1)+1))"
   ]
  },
  {
   "cell_type": "code",
   "execution_count": 13,
   "metadata": {},
   "outputs": [
    {
     "name": "stdout",
     "output_type": "stream",
     "text": [
      "HELLO\n",
      "hello\n",
      "False\n",
      "False\n"
     ]
    }
   ],
   "source": [
    "s1 = \"Hello\"\n",
    "s2 = s1.upper()\n",
    "\n",
    "print(s1.upper())\n",
    "print(s1.lower())\n",
    "\n",
    "print(s2.isupper())\n",
    "print(s2.islower())"
   ]
  },
  {
   "cell_type": "code",
   "execution_count": 15,
   "metadata": {},
   "outputs": [
    {
     "name": "stdout",
     "output_type": "stream",
     "text": [
      "True\n",
      "True\n",
      "False\n",
      "True\n"
     ]
    }
   ],
   "source": [
    "s = \"Welcome to python\"\n",
    "\n",
    "print(s.startswith('Welcome'))\n",
    "print(s.endswith(\"python\"))\n",
    "print(s.endswith(\"Python\"))\n",
    "\n",
    "print(s.startswith('to', 8, len(s)))\n",
    "\n"
   ]
  },
  {
   "cell_type": "code",
   "execution_count": 19,
   "metadata": {},
   "outputs": [
    {
     "name": "stdout",
     "output_type": "stream",
     "text": [
      "['welcome', 'to', 'python']\n",
      "['Welcome', ' to', ' Python']\n",
      "welcome to python\n",
      "welcome,to,python\n"
     ]
    }
   ],
   "source": [
    "s1 = \"welcome to python\"\n",
    "\n",
    "print(s1.split()) #returns a list\n",
    "\n",
    "s2 = \"Welcome, to, Python\"\n",
    "print(s2.split(','))\n",
    "\n",
    "l1 = ['welcome', 'to', 'python']\n",
    "print(' '.join(l1)) # joins a list to make a string\n",
    "print(','.join(l1))\n"
   ]
  },
  {
   "cell_type": "code",
   "execution_count": 23,
   "metadata": {},
   "outputs": [
    {
     "name": "stdout",
     "output_type": "stream",
     "text": [
      "remo-ved\n",
      "remo-ved---\n",
      "--remo-ved\n"
     ]
    }
   ],
   "source": [
    "#strip \n",
    "\n",
    "s = \"--remo-ved---\"\n",
    "print(s.strip('-'))\n",
    "print(s.lstrip('-'))\n",
    "\n",
    "print(s.rstrip('-'))"
   ]
  },
  {
   "cell_type": "code",
   "execution_count": 26,
   "metadata": {},
   "outputs": [
    {
     "name": "stdout",
     "output_type": "stream",
     "text": [
      "11\n",
      "-1\n",
      "11\n"
     ]
    }
   ],
   "source": [
    "s1 = \"Welcome to python\"\n",
    "s2 = 'python'\n",
    "\n",
    "print(s1.find(s2))\n",
    "print(s1.find(\"other\")) #return -1 but in index function it will throw error\n",
    "\n",
    "n = len(s1)\n",
    "print(s1.find(s2,1,n))"
   ]
  },
  {
   "cell_type": "code",
   "execution_count": 30,
   "metadata": {},
   "outputs": [
    {
     "name": "stdout",
     "output_type": "stream",
     "text": [
      "olleh\n"
     ]
    }
   ],
   "source": [
    "#reverse a string\n",
    "\n",
    "s = input(\"Enter a string\")\n",
    "rev = \"\"\n",
    "for i in s:\n",
    "    rev = i + rev\n",
    "print(rev)"
   ]
  },
  {
   "cell_type": "markdown",
   "metadata": {},
   "source": [
    "## rotation of each other"
   ]
  },
  {
   "cell_type": "code",
   "execution_count": 1,
   "metadata": {},
   "outputs": [
    {
     "name": "stdout",
     "output_type": "stream",
     "text": [
      "concatenated str abababba and find sub string s2 abba\n",
      "True\n"
     ]
    }
   ],
   "source": [
    "s1 = \"abab\"\n",
    "s2 = \"abba\"\n",
    "\n",
    "def areRotation(s1,s2):\n",
    "    if len(s1)!=len(s2):\n",
    "        return False\n",
    "    tmp = ''\n",
    "    tmp = s1+s2\n",
    "    print(f\"concatenated str {tmp} and find sub string s2 {s2}\")\n",
    "    return tmp.find(s2)!=-1\n",
    "\n",
    "print(areRotation(s1,s2))\n"
   ]
  },
  {
   "cell_type": "code",
   "execution_count": 2,
   "metadata": {},
   "outputs": [
    {
     "name": "stdout",
     "output_type": "stream",
     "text": [
      "eksforGeeksGe\n",
      "ksGeeksforGee\n"
     ]
    }
   ],
   "source": [
    "# In-place rotates s towards left by d\n",
    "def leftrotate(s, d):\n",
    "    tmp = s[d : ] + s[0 : d]\n",
    "    return tmp\n",
    "   \n",
    "# In-place rotates s\n",
    "# towards right by d\n",
    "def rightrotate(s, d):\n",
    "   \n",
    "   return leftrotate(s, len(s) - d)\n",
    " \n",
    "# Driver code\n",
    "if __name__==\"__main__\":\n",
    "     \n",
    "    str1 = \"GeeksforGeeks\"\n",
    "    print(leftrotate(str1, 2))\n",
    "  \n",
    "    str2 = \"GeeksforGeeks\"\n",
    "    print(rightrotate(str2, 2))\n",
    " "
   ]
  },
  {
   "cell_type": "code",
   "execution_count": 8,
   "metadata": {},
   "outputs": [
    {
     "name": "stdout",
     "output_type": "stream",
     "text": [
      "Yes\n",
      "True\n"
     ]
    }
   ],
   "source": [
    "# Palindrome\n",
    "\n",
    "def checkPalindrom(st):\n",
    "    low = 0\n",
    "    high = len(st)-1\n",
    "    while low < high:\n",
    "        if st[low]!=st[high]:\n",
    "            print(\"Not a palindrome\")\n",
    "            return False\n",
    "        low = low + 1\n",
    "        high = high -1\n",
    "    else:\n",
    "        print(\"Yes\")\n",
    "        return True\n",
    "\n",
    "inp = input(\"Enter a string:\")\n",
    "print(checkPalindrom(inp))\n",
    "\n"
   ]
  },
  {
   "cell_type": "code",
   "execution_count": 9,
   "metadata": {},
   "outputs": [
    {
     "name": "stdout",
     "output_type": "stream",
     "text": [
      "Palindrome\n"
     ]
    }
   ],
   "source": [
    "st = input(\"Enter a str to check if is palindrome\")\n",
    "\n",
    "if st == st[::-1]:\n",
    "    print(\"Palindrome\")\n",
    "else:\n",
    "    print(\"Not a Palindrome\")"
   ]
  },
  {
   "cell_type": "code",
   "execution_count": 11,
   "metadata": {},
   "outputs": [
    {
     "data": {
      "text/plain": [
       "False"
      ]
     },
     "execution_count": 11,
     "metadata": {},
     "output_type": "execute_result"
    }
   ],
   "source": [
    "# subsequence of a string \n",
    "\n",
    "def subseq(s1,s2):\n",
    "    i = j = 0\n",
    "    if len(s2) > len(s1):\n",
    "        print(\"Cannot be a subsequence\")\n",
    "        return False\n",
    "    while i < len(s1) and j < len(s2):\n",
    "        if s1[i]==s2[j]:\n",
    "            #i = i +1 \n",
    "            j = j + 1\n",
    "        i = i + 1\n",
    "    if j ==len(s2):\n",
    "        return True\n",
    "    else:\n",
    "        return False\n",
    "        \n",
    "\n",
    "s1 = \"ABCDEF\"\n",
    "s2 = \"ADEB\"\n",
    "subseq(s1,s2) \n",
    "\n",
    "\n"
   ]
  },
  {
   "cell_type": "code",
   "execution_count": null,
   "metadata": {},
   "outputs": [],
   "source": []
  }
 ],
 "metadata": {
  "interpreter": {
   "hash": "aee8b7b246df8f9039afb4144a1f6fd8d2ca17a180786b69acc140d282b71a49"
  },
  "kernelspec": {
   "display_name": "Python 3.11.2 64-bit",
   "language": "python",
   "name": "python3"
  },
  "language_info": {
   "codemirror_mode": {
    "name": "ipython",
    "version": 3
   },
   "file_extension": ".py",
   "mimetype": "text/x-python",
   "name": "python",
   "nbconvert_exporter": "python",
   "pygments_lexer": "ipython3",
   "version": "3.11.2"
  },
  "orig_nbformat": 4
 },
 "nbformat": 4,
 "nbformat_minor": 2
}
