{
 "cells": [
  {
   "cell_type": "markdown",
   "id": "050c9f1f",
   "metadata": {},
   "source": [
    "THE ULTIMATE INTERVIEWS GUIDE\n",
    "Interview Master 100\n",
    "1. Two Sum  \n",
    "2. Valid Parentheses  \n",
    "3. Merge Two Sorted Lists  \n",
    "4. Best Time to Buy and Sell Stock  \n",
    "5. Valid Palindrome  \n",
    "6. Invert Binary Tree  \n",
    "7. Valid Anagram  \n",
    "8. Binary Search  \n",
    "9. Linked List Cycle  \n",
    "10. Maximum Depth of Binary Tree  \n",
    "11. Single Number  \n",
    "12. Reverse Linked List  \n",
    "13. Majority Element  \n",
    "14. Missing Number  \n",
    "15. Reverse String  \n",
    "16. Diameter of Binary Tree  \n",
    "17. Middle of the Linked List  \n",
    "18. Convert Sorted Array to Binary Search Tree  \n",
    "19. Maximum Subarray  \n",
    "20. Climbing Stairs  \n",
    "21. Symmetric Tree  \n",
    "22. Product of Array Except Self  \n",
    "23. Best Time to Buy and Sell Stock II  \n",
    "24. House Robber  \n",
    "25. Number of 1 Bits  \n",
    "26. Validate Binary Search Tree  \n",
    "27. Min Stack  \n",
    "28. Contains Duplicate  \n",
    "29. Kth Smallest Element in a BST  \n",
    "30. Merge Intervals  \n",
    "31. Set Matrix Zeroes  \n",
    "32. Spiral Matrix  \n",
    "33. 3Sum  \n",
    "34. Binary Tree Zigzag Level Order Traversal  \n",
    "35. Construct Binary Tree from Preorder and Inorder Traversal  \n",
    "36. Container With Most Water  \n",
    "37. Flatten Binary Tree to Linked List  \n",
    "38. Group Anagrams  \n",
    "39. Implement Trie (Prefix Tree)  \n",
    "40. Kth Largest Element in an Array  \n",
    "41. Longest Palindromic Substring  \n",
    "42. Longest Substring Without Repeating Characters  \n",
    "43. Maximal Square  \n",
    "44. Maximum Product Subarray  \n",
    "45. Minimum Window Substring  \n",
    "46. Number of Islands  \n",
    "47. Permutations  \n",
    "48. Remove Nth Node From End of List  \n",
    "49. Rotate Image  \n",
    "50. Search a 2D Matrix  \n",
    "51. Search in Rotated Sorted Array  \n",
    "52. Subsets  \n",
    "53. Top K Frequent Elements  \n",
    "54. Trapping Rain Water  \n",
    "55. Two Sum II - Input Array Is Sorted  \n",
    "56. Unique Paths  \n",
    "57. Valid Sudoku  \n",
    "58. Word Break  \n",
    "59. Word Search  \n",
    "60. Add Two Numbers  \n",
    "61. Basic Calculator  \n",
    "62. Coin Change  \n",
    "63. Combination Sum  \n",
    "64. Copy List with Random Pointer  \n",
    "65. Course Schedule  \n",
    "66. Design Add and Search Words Data Structure  \n",
    "67. Merge Sorted Array  \n",
    "68. Find Median from Data Stream  \n",
    "69. Game of Life  \n",
    "70. Jump Game  \n",
    "71. Letter Combinations of a Phone Number  \n",
    "72. Longest Consecutive Sequence  \n",
    "73. Longest Increasing Subsequence  \n",
    "74. Median of Two Sorted Arrays  \n",
    "75. Merge k Sorted Lists  \n",
    "76. Minimum Path Sum  \n",
    "77. Word Search II  \n",
    "78. Reverse Nodes in k-Group  \n",
    "79. Course Schedule II  \n",
    "80. Remove Element  \n",
    "81. Rotate Array  \n",
    "82. Bitwise AND of Numbers Range  \n",
    "83. Palindrome Number  \n",
    "84. Plus One  \n",
    "85. Sqrt(x)  \n",
    "86. Pow(x, n)  \n",
    "87. Construct Binary Tree from Inorder and Postorder Traversal  \n",
    "88. Path Sum  \n",
    "89. Binary Tree Right Side View  \n",
    "90. Binary Tree Level Order Traversal  \n",
    "91. Minimum Absolute Difference in BST  \n",
    "92. Surrounded Regions  \n",
    "93. Clone Graph  \n",
    "94. Evaluate Division  \n",
    "95. Generate Parentheses  \n",
    "96. Sort List  \n",
    "97. Maximum Sum Circular Subarray  \n",
    "98. Find Peak Element  \n",
    "99. Find Minimum in Rotated Sorted Array  \n",
    "100. Remove Duplicates from Sorted Array\n"
   ]
  },
  {
   "cell_type": "markdown",
   "id": "2620f95c",
   "metadata": {},
   "source": [
    "1. Two Sum\n",
    "Description: Given an array of integers and a target value, determine if there are two numbers in the array that add up to the target. This problem tests your ability to use hash maps for efficient lookups.​\n",
    "\n",
    "2. Valid Parentheses\n",
    "Description: Check if a string containing just the characters '(', ')', '{', '}', '[' and ']' is valid. An input string is valid if the brackets are closed in the correct order. This problem assesses your understanding of stack data structures.​\n",
    "\n",
    "3. Merge Two Sorted Lists\n",
    "Description: Given two sorted linked lists, merge them into a single sorted list. This problem evaluates your ability to manipulate linked lists and understand merging algorithms.​\n",
    "\n",
    "4. Best Time to Buy and Sell Stock\n",
    "Description: Find the maximum profit you can achieve from a single buy and sell operation on a given list of stock prices. This problem tests your understanding of dynamic programming and greedy algorithms.​\n",
    "\n",
    "5. Valid Palindrome\n",
    "Description: Determine if a string is a palindrome, considering only alphanumeric characters and ignoring cases. This problem checks your ability to handle string manipulation and character comparison.​\n",
    "\n",
    "6. Invert Binary Tree\n",
    "Description: Invert a binary tree, swapping the left and right children of all nodes. This problem assesses your understanding of tree traversal and recursion.​\n",
    "\n",
    "7. Valid Anagram\n",
    "Description: Given two strings, determine if one is an anagram of the other. This problem evaluates your ability to count character frequencies and compare them efficiently.​\n",
    "\n",
    "8. Binary Search\n",
    "Description: Implement binary search on a sorted array to find the index of a target value. This problem tests your understanding of divide-and-conquer algorithms.​\n",
    "\n",
    "9. Linked List Cycle\n",
    "Description: Detect if a linked list has a cycle in it. This problem assesses your knowledge of Floyd's Cycle-Finding Algorithm (Tortoise and Hare).​\n",
    "\n",
    "10. Maximum Depth of Binary Tree\n",
    "Description: Find the maximum depth (or height) of a binary tree. This problem evaluates your understanding of tree traversal techniques.​\n",
    "\n",
    "11. Single Number\n",
    "Description: Given a non-empty array of integers, every element appears twice except for one. Find that single one. This problem tests your ability to use bitwise XOR operations.​\n",
    "\n",
    "12. Reverse Linked List\n",
    "Description: Reverse a singly linked list. This problem assesses your understanding of pointer manipulation and iterative/recursive techniques.​\n",
    "\n",
    "13. Majority Element\n",
    "Description: Given an array of size n, find the majority element (element that appears more than n/2 times). This problem tests your ability to use the Boyer-Moore Voting Algorithm.​\n",
    "\n",
    "14. Missing Number\n",
    "Description: Given an array containing n distinct numbers taken from 0, 1, 2, ..., n, find the one that is missing. This problem evaluates your understanding of mathematical formulas and XOR operations.​\n",
    "\n",
    "15. Reverse String\n",
    "Description: Write a function that reverses a string. This problem tests your ability to manipulate strings and use two-pointer techniques.​\n",
    "\n",
    "16. Diameter of Binary Tree\n",
    "Description: Find the diameter of a binary tree, which is the length of the longest path between any two nodes. This problem assesses your understanding of tree traversal and depth calculation.​\n",
    "\n",
    "17. Middle of the Linked List\n",
    "Description: Find the middle node of a linked list. This problem evaluates your ability to use the slow and fast pointer technique.​\n",
    "\n",
    "18. Convert Sorted Array to Binary Search Tree\n",
    "Description: Convert a sorted array into a height-balanced binary search tree. This problem tests your understanding of binary search trees and recursion.​\n",
    "\n",
    "19. Maximum Subarray\n",
    "Description: Find the contiguous subarray (containing at least one number) which has the largest sum. This problem evaluates your understanding of dynamic programming and Kadane's Algorithm.​\n",
    "\n",
    "20. Climbing Stairs\n",
    "Description: You are climbing a staircase. It takes n steps to reach the top. Each time you can either climb 1 or 2 steps. In how many distinct ways can you climb to the top? This problem tests your understanding of dynamic programming.​\n",
    "\n",
    "21. Symmetric Tree\n",
    "Description: Check whether a binary tree is symmetric around its center. This problem assesses your understanding of tree traversal and recursion.​\n",
    "\n",
    "22. Product of Array Except Self\n",
    "Description: Given an array nums, return an array such that each element at index i is the product of all the numbers in the array except the one at i. This problem tests your ability to solve problems without using division.​\n",
    "\n",
    "23. Best Time to Buy and Sell Stock II\n",
    "Description: You are given an array where each element is the price of a stock on a given day. You want to maximize your profit by choosing a single day to buy one stock and choosing a different day in the future to sell that stock. This problem evaluates your understanding of greedy algorithms.​\n",
    "\n",
    "24. House Robber\n",
    "Description: You are a professional robber planning to rob houses along a street. Each house has a certain amount of money stashed, the only constraint stopping you from robbing each of them is that adjacent houses have security systems connected and it will automatically contact the police if two adjacent houses were robbed on the same night. This problem tests your understanding of dynamic programming.​\n",
    "\n",
    "25. Number of 1 Bits\n",
    "Description: Write a function that takes an unsigned integer and returns the number of '1' bits it has. This problem evaluates your understanding of bit manipulation.​\n",
    "\n",
    "26. Validate Binary Search Tree\n",
    "Description: Given a binary tree, determine if it is a valid binary search tree (BST). This problem assesses your understanding of tree properties and recursion.​\n",
    "\n",
    "27. Min Stack\n",
    "Description: Design a stack that supports push, pop, top, and retrieving the minimum element following operations in O(1) time\n",
    "\n",
    "28. Contains Duplicate\n",
    "Description: Determine if a given array contains any duplicates. This problem evaluates your ability to use hash sets for efficient lookups.​\n",
    "\n",
    "29. Kth Smallest Element in a BST\n",
    "Description: Given a binary search tree, find the kth smallest element in it. This problem tests your understanding of in-order traversal and BST properties.​\n",
    "\n",
    "30. Merge Intervals\n",
    "Description: Given a collection of intervals, merge all overlapping intervals. This problem assesses your ability to sort and process intervals efficiently.​\n",
    "\n",
    "31. Set Matrix Zeroes\n",
    "Description: Given an m x n matrix, if an element is 0, set its entire row and column to 0. This problem tests your ability to manipulate matrices in-place.​\n",
    "\n",
    "32. Spiral Matrix\n",
    "Description: Given an m x n matrix, return all elements of the matrix in spiral order. This problem evaluates your understanding of matrix traversal.​\n",
    "\n",
    "33. 3Sum\n",
    "Description: Given an array, find all unique triplets in the array which gives the sum of zero. This problem tests your ability to handle sorting and two-pointer techniques.​\n",
    "\n",
    "34. Binary Tree Zigzag Level Order Traversal\n",
    "Description: Given a binary tree, return the zigzag level order traversal of its nodes' values. This problem assesses your understanding of tree traversal and deque usage.​\n",
    "\n",
    "35. Construct Binary Tree from Preorder and Inorder Traversal\n",
    "Description: Given preorder and inorder traversal of a tree, construct the binary tree. This problem tests your understanding of tree construction from traversal data.​\n",
    "\n",
    "36. Container With Most Water\n",
    "Description: Given n non-negative integers a1, a2, ..., an, where each represents a point at coordinate (i, ai), find two lines that together with the x-axis form a container, such that the container contains the most water. This problem evaluates your ability to use the two-pointer technique.​\n",
    "\n",
    "37. Flatten Binary Tree to Linked List\n",
    "Description: Given a binary tree, flatten it to a linked list in-place. This problem assesses your understanding of tree manipulation and recursion.​\n",
    "\n",
    "38. Group Anagrams\n",
    "Description: Given an array of strings, group the anagrams together. This problem tests your ability to use hash maps for grouping.​\n",
    "\n",
    "39. Implement Trie (Prefix Tree)\n",
    "Description: Implement a trie with insert, search, and startsWith methods. This problem evaluates your understanding of prefix trees and string manipulation.​\n",
    "\n",
    "40. Kth Largest Element in an Array\n",
    "Description: Find the kth largest element in an unsorted array. This problem tests your ability to use heap data structures.​\n",
    "\n",
    "41. Longest Palindromic Substring\n",
    "Description: Given a string s, return the longest palindromic substring. This problem evaluates your understanding of dynamic programming and string manipulation.​\n",
    "\n",
    "42. Longest Substring Without Repeating Characters\n",
    "Description: Given a string, find the length of the longest substring without repeating characters. This problem tests your ability to use sliding window techniques.​\n",
    "\n",
    "43. Maximal Square\n",
    "Description: Given a 2D binary matrix filled with 0's and 1's, find the largest square containing only 1's and return its area. This problem assesses your understanding of dynamic programming.​\n",
    "\n",
    "44. Maximum Product Subarray\n",
    "Description: Given an integer array nums, find the contiguous subarray within an array (containing at least one number) which has the largest product. This problem tests your ability to handle dynamic programming with negative numbers.​\n",
    "\n",
    "45. Minimum Window Substring\n",
    "Description: Given two strings s and t, return the minimum window in s which will contain all the characters in t. This problem evaluates your understanding of sliding window techniques.​\n",
    "\n",
    "46. Number of Islands\n",
    "Description: Given a 2D grid map of '1's (land) and '0's (water), count the number of islands. This problem tests your ability to use depth-first search (DFS) or breadth-first search (BFS).​\n",
    "\n",
    "47. Permutations\n",
    "Description: Given a collection of distinct integers, return all possible permutations. This problem evaluates your understanding of backtracking.​\n",
    "\n",
    "48. Remove Nth Node From End of List\n",
    "Description: Given a linked list, remove the n-th node from the end of the list and return its head. This problem tests your ability to use two-pointer techniques.​\n",
    "\n",
    "49. Rotate Image\n",
    "Description: You are given an n x n 2D matrix representing an image. Rotate the image by 90 degrees (clockwise). This problem assesses your understanding of matrix manipulation.​\n",
    "\n",
    "50. Search a 2D Matrix\n",
    "Description: Write an efficient algorithm that searches for a value in an m x n matrix. This problem tests your ability to apply binary search in a 2D matrix.​\n",
    "\n",
    "51. Search in Rotated Sorted Array\n",
    "Description: Suppose an array sorted in ascending order is rotated at some pivot unknown to you beforehand. You need to search for a target value. This problem evaluates your understanding of binary search in rotated arrays.​\n",
    "\n",
    "52. Subsets\n",
    "Description: Given a set of distinct integers, nums, return all possible subsets (the power set). This problem tests your ability to use backtracking.​\n",
    "\n",
    "53. Top K Frequent Elements\n",
    "Description: Given a non-empty array of integers, return the k most frequent elements. This problem assesses your ability to use hash maps and heaps.​\n",
    "\n",
    "54. Trapping Rain Water\n",
    "Description: Given n non-negative integers representing the elevation of each bar, compute how much water it is able to trap after raining. This problem evaluates your understanding of dynamic programming and two-pointer techniques.​\n",
    "\n",
    "55. Two Sum II - Input Array Is Sorted\n",
    "Description: Given a sorted array, return the indices of the two numbers that add up to a target value. Uses the two-pointer approach for an efficient O(n) solution.\n",
    "\n",
    "56. Unique Paths\n",
    "Description: A robot can only move right or down in a m x n grid. Count how many unique paths exist from the top-left to bottom-right. A classic dynamic programming problem.\n",
    "\n",
    "57. Valid Sudoku\n",
    "Description: Check whether a partially filled 9x9 Sudoku board is valid according to Sudoku rules. Focuses on set usage and checking row, column, and box constraints.\n",
    "\n",
    "58. Word Break\n",
    "Description: Given a string and a dictionary of words, determine if the string can be segmented into a sequence of one or more dictionary words. Classic dynamic programming challenge.\n",
    "\n",
    "59. Word Search\n",
    "Description: Given a 2D board and a word, determine if the word exists in the grid. It uses backtracking and DFS to search in four directions.\n",
    "\n",
    "60. Add Two Numbers\n",
    "Description: Add two non-empty linked lists representing non-negative integers. The digits are stored in reverse order. Tests your linked list manipulation skills.\n",
    "\n",
    "61. Basic Calculator\n",
    "Description: Implement a basic calculator to evaluate a simple string expression with integers, +, -, parentheses. Requires understanding of stack-based parsing.\n",
    "\n",
    "62. Coin Change\n",
    "Description: Given coins of different denominations and a total amount, compute the fewest coins needed. Classic dynamic programming problem.\n",
    "\n",
    "63. Combination Sum\n",
    "Description: Find all unique combinations of numbers that sum up to a target. You may use each number unlimited times. Uses backtracking.\n",
    "\n",
    "64. Copy List with Random Pointer\n",
    "Description: Clone a linked list with a random pointer in O(n) time and space. Requires careful handling of pointers and hashing.\n",
    "\n",
    "65. Course Schedule\n",
    "Description: Given course prerequisites, determine if it’s possible to finish all courses. Detects cycles in a graph using topological sort / DFS.\n",
    "\n",
    "66. Design Add and Search Words Data Structure\n",
    "Description: Design a data structure that supports adding new words and searching with wildcards (e.g., \".\"). Tests Trie and recursive search logic.\n",
    "\n",
    "67. Merge Sorted Array\n",
    "Description: Merge two sorted arrays into one sorted array in-place. Tests efficient merging logic and pointer techniques.\n",
    "\n",
    "68. Find Median from Data Stream\n",
    "Description: Add numbers to a data stream and get the median at any time. Uses two heaps: a max-heap and a min-heap for balance.\n",
    "\n",
    "69. Game of Life\n",
    "Description: Implement Conway's Game of Life for a 2D board. Requires understanding of state transitions and in-place updates.\n",
    "\n",
    "70. Jump Game\n",
    "Description: Given an array where each element represents your max jump length, determine if you can reach the last index. Solved using greedy or DP.\n",
    "\n",
    "71. Letter Combinations of a Phone Number\n",
    "Description: Return all possible letter combinations that the number could represent (like a phone keypad). Uses backtracking.\n",
    "\n",
    "72. Longest Consecutive Sequence\n",
    "Description: Find the length of the longest consecutive elements sequence. Solved in O(n) using hash sets.\n",
    "\n",
    "73. Longest Increasing Subsequence\n",
    "Description: Find the length of the longest increasing subsequence in an array. Solved with dynamic programming or binary search for optimization.\n",
    "\n",
    "74. Median of Two Sorted Arrays\n",
    "Description: Find the median of two sorted arrays in O(log(min(n, m))) time. Involves binary search and partitioning logic.\n",
    "\n",
    "75. Merge k Sorted Lists\n",
    "Description: Merge k sorted linked lists and return one sorted list. Uses min-heap (priority queue) for efficient merging.\n",
    "\n",
    "76. Minimum Path Sum\n",
    "Description: Find the path with the minimum sum from top-left to bottom-right in a grid. Solved using dynamic programming.\n",
    "\n",
    "77. Word Search II\n",
    "Description: Like Word Search, but with a dictionary of words. Solve using Trie + DFS to optimize searching.\n",
    "\n",
    "78. Reverse Nodes in k-Group\n",
    "Description: Reverse nodes in a linked list k at a time. Requires careful handling of pointer updates and recursive thinking.\n",
    "\n",
    "79. Course Schedule II\n",
    "Description: Like Course Schedule, but you must return the course order. Uses topological sorting.\n",
    "\n",
    "80. Remove Element\n",
    "Description: Remove all instances of a value in-place from an array and return the new length. Tests in-place array manipulation.\n",
    "\n",
    "81. Rotate Array\n",
    "Description: Rotate an array to the right by k steps. Can be done with reverse operations or cyclic replacements.\n",
    "\n",
    "82. Bitwise AND of Numbers Range\n",
    "Description: Compute bitwise AND of all numbers in a given range. Requires bit manipulation and pattern observation.\n",
    "\n",
    "83. Palindrome Number\n",
    "Description: Check if an integer is a palindrome. Do it without converting to a string for an extra challenge.\n",
    "\n",
    "84. Plus One\n",
    "Description: Add one to an integer represented as an array of digits. Simple array manipulation task.\n",
    "\n",
    "85. Sqrt(x)\n",
    "Description: Compute the integer part of the square root of x. Use binary search to find the solution efficiently.\n",
    "\n",
    "86. Pow(x, n)\n",
    "Description: Implement x raised to the power n (xⁿ). Solved efficiently using fast exponentiation.\n",
    "\n",
    "87. Construct Binary Tree from Inorder and Postorder Traversal\n",
    "Description: Construct a binary tree from its inorder and postorder traversals. Similar to preorder/inorder construction, but order reversed.\n",
    "\n",
    "88. Path Sum\n",
    "Description: Determine if the binary tree has a root-to-leaf path summing to a given value. Uses DFS and recursion.\n",
    "\n",
    "89. Binary Tree Right Side View\n",
    "Description: Return the values of nodes visible from the right side of a binary tree. Solved via level-order traversal.\n",
    "\n",
    "90. Binary Tree Level Order Traversal\n",
    "Description: Return level-order (breadth-first) traversal of a binary tree. Uses queues for traversal.\n",
    "\n",
    "91. Minimum Absolute Difference in BST\n",
    "Description: Find the minimum absolute difference between values of any two nodes in a BST. Use in-order traversal for sorted order.\n",
    "\n",
    "92. Surrounded Regions\n",
    "Description: Flip all 'O's to 'X's that are surrounded by 'X's. Uses DFS/BFS with boundary checks.\n",
    "\n",
    "93. Clone Graph\n",
    "Description: Deep copy a graph. Requires understanding of DFS with visited tracking using hash maps.\n",
    "\n",
    "94. Evaluate Division\n",
    "Description: Given equations like a/b = 2.0, evaluate queries. Solved with DFS on graphs or Union-Find.\n",
    "\n",
    "95. Generate Parentheses\n",
    "Description: Generate all combinations of well-formed parentheses for a given number of pairs. Classic backtracking problem.\n",
    "\n",
    "96. Sort List\n",
    "Description: Sort a linked list in O(n log n) time and constant space. Typically solved using merge sort.\n",
    "\n",
    "97. Maximum Sum Circular Subarray\n",
    "Description: Given a circular array, find the subarray with the maximum sum. Uses Kadane’s algorithm with a twist.\n",
    "\n",
    "98. Find Peak Element\n",
    "Description: Find a peak element in the array (greater than neighbors). Solved with binary search for O(log n) efficiency.\n",
    "\n",
    "99. Find Minimum in Rotated Sorted Array\n",
    "Description: Find the minimum element in a rotated sorted array. Uses binary search.\n",
    "\n",
    "100. Remove Duplicates from Sorted Array\n",
    "Description: Remove duplicates in-place from a sorted array and return the new length. Uses the two-pointer technique."
   ]
  },
  {
   "cell_type": "code",
   "execution_count": 3,
   "id": "29865514",
   "metadata": {},
   "outputs": [
    {
     "data": {
      "text/plain": [
       "(0, 1)"
      ]
     },
     "execution_count": 3,
     "metadata": {},
     "output_type": "execute_result"
    }
   ],
   "source": [
    "# 1. Two Sum\n",
    "# Solved\n",
    "# Easy\n",
    "# Topics\n",
    "# Companies\n",
    "# Hint\n",
    "# Given an array of integers nums and an integer target, return indices of the two numbers such that they add up to target.\n",
    "\n",
    "# You may assume that each input would have exactly one solution, and you may not use the same element twice.\n",
    "\n",
    "# You can return the answer in any order.\n",
    "from typing import List\n",
    "def twoSum(nums: List , target: int):\n",
    "    \"\"\"\n",
    "    :type nums: List[int]\n",
    "    :type target: int\n",
    "    :rtype: List[int]\n",
    "    \"\"\"\n",
    "    hashMap = {}\n",
    "    for i, n in enumerate(nums):\n",
    "        diff = target - n\n",
    "        if diff in hashMap:\n",
    "            return(hashMap[diff], i)\n",
    "        hashMap[n] = i\n",
    "    return\n",
    "\n",
    "twoSum([2,7,11,15], 9)"
   ]
  },
  {
   "cell_type": "code",
   "execution_count": 4,
   "id": "2e41335b",
   "metadata": {},
   "outputs": [
    {
     "data": {
      "text/plain": [
       "True"
      ]
     },
     "execution_count": 4,
     "metadata": {},
     "output_type": "execute_result"
    }
   ],
   "source": [
    "#2 Valid Parentheses\n",
    "def isValid(s: str) -> bool:\n",
    "    stack = []\n",
    "    bracket_map = {')': '(', '}': '{', ']': '['}\n",
    "\n",
    "    for char in s:\n",
    "        if char in bracket_map:\n",
    "            top_element = stack.pop() if stack else '#'\n",
    "            \n",
    "            if bracket_map[char] != top_element:\n",
    "                return False\n",
    "        else:\n",
    "            stack.append(char)\n",
    "    return not stack\n",
    "\n",
    "isValid(\"([{}])\")"
   ]
  },
  {
   "cell_type": "code",
   "execution_count": null,
   "id": "e694d554",
   "metadata": {},
   "outputs": [
    {
     "name": "stdout",
     "output_type": "stream",
     "text": [
      "Test 1: [1, 2, 4] + [1, 3, 4] → [1, 1, 2, 3, 4, 4] | Expected: [1, 1, 2, 3, 4, 4] ✅\n",
      "Test 2: [] + [] → [] | Expected: [] ✅\n",
      "Test 3: [] + [0] → [0] | Expected: [0] ✅\n",
      "Test 4: [5] + [1, 2, 3] → [1, 2, 3, 5] | Expected: [1, 2, 3, 5] ✅\n",
      "Test 5: [1, 2, 3] + [] → [1, 2, 3] | Expected: [1, 2, 3] ✅\n",
      "Test 6: [1, 3, 5] + [2, 4, 6] → [1, 2, 3, 4, 5, 6] | Expected: [1, 2, 3, 4, 5, 6] ✅\n"
     ]
    }
   ],
   "source": [
    "# 3 Merge Two Sorted Lists\n",
    "# Definition for singly-linked list.\n",
    "from typing import Optional\n",
    "# Definition for singly-linked list.\n",
    "from typing import Optional, List\n",
    "\n",
    "# Node definition\n",
    "class ListNode:\n",
    "    def __init__(self, val=0, next=None):\n",
    "        self.val = val\n",
    "        self.next = next\n",
    "\n",
    "# Merge function\n",
    "class Solution:\n",
    "    def mergeTwoLists(self, list1: Optional[ListNode], list2: Optional[ListNode]) -> Optional[ListNode]:\n",
    "        dummy = ListNode()\n",
    "        current = dummy\n",
    "\n",
    "        while list1 and list2:\n",
    "            if list1.val < list2.val:\n",
    "                current.next = list1\n",
    "                list1 = list1.next\n",
    "            else:\n",
    "                current.next = list2\n",
    "                list2 = list2.next\n",
    "            current = current.next\n",
    "        \n",
    "        if list1:\n",
    "            current.next = list1\n",
    "        elif list2:\n",
    "            current.next = list2\n",
    "        \n",
    "        return dummy.next\n",
    "\n",
    "# Helper: build linked list from Python list\n",
    "def build_linked_list(values: List[int]) -> Optional[ListNode]:\n",
    "    dummy = ListNode()\n",
    "    current = dummy\n",
    "    for val in values:\n",
    "        current.next = ListNode(val)\n",
    "        current = current.next\n",
    "    return dummy.next\n",
    "\n",
    "# Helper: convert linked list to Python list\n",
    "def linked_list_to_list(head: Optional[ListNode]) -> List[int]:\n",
    "    result = []\n",
    "    while head:\n",
    "        result.append(head.val)\n",
    "        head = head.next\n",
    "    return result\n",
    "\n",
    "# 🔁 Driver Code (Test Cases)\n",
    "def run_tests():\n",
    "    sol = Solution()\n",
    "    test_cases = [\n",
    "        ([1, 2, 4], [1, 3, 4], [1, 1, 2, 3, 4, 4]),\n",
    "        ([], [], []),\n",
    "        ([], [0], [0]),\n",
    "        ([5], [1, 2, 3], [1, 2, 3, 5]),\n",
    "        ([1, 2, 3], [], [1, 2, 3]),\n",
    "        ([1, 3, 5], [2, 4, 6], [1, 2, 3, 4, 5, 6]),\n",
    "    ]\n",
    "\n",
    "    for i, (l1, l2, expected) in enumerate(test_cases, 1):\n",
    "        head1 = build_linked_list(l1)\n",
    "        head2 = build_linked_list(l2)\n",
    "        merged = sol.mergeTwoLists(head1, head2)\n",
    "        result = linked_list_to_list(merged)\n",
    "        status = \"✅\" if result == expected else \"❌\"\n",
    "        print(f\"Test {i}: {l1} + {l2} → {result} | Expected: {expected} {status}\")\n",
    "\n",
    "run_tests()\n"
   ]
  },
  {
   "cell_type": "code",
   "execution_count": 13,
   "id": "27249390",
   "metadata": {},
   "outputs": [
    {
     "data": {
      "text/plain": [
       "5"
      ]
     },
     "execution_count": 13,
     "metadata": {},
     "output_type": "execute_result"
    }
   ],
   "source": [
    "#4 Best Time to Buy and Sell Stock\n",
    "\n",
    "def maxProfit(prices: List[int]) -> int:\n",
    "\n",
    "    l, r = 0, 1\n",
    "\n",
    "    maxP = 0 \n",
    "\n",
    "    while r < len(prices):\n",
    "        if prices[l] < prices[r]:\n",
    "            profit = prices[r] - prices[l]\n",
    "            maxP = max(maxP, profit)\n",
    "        else:\n",
    "            l = r\n",
    "        r+=1\n",
    "    return maxP\n",
    "\n",
    "maxProfit([7,1,5,3,6,4])"
   ]
  },
  {
   "cell_type": "code",
   "execution_count": null,
   "id": "a64ef038",
   "metadata": {},
   "outputs": [
    {
     "data": {
      "text/plain": [
       "True"
      ]
     },
     "execution_count": 14,
     "metadata": {},
     "output_type": "execute_result"
    }
   ],
   "source": [
    "# 5 Valid Palindrome\n",
    "\n",
    "def ValidPalindrome(s):\n",
    "    filter_st = []\n",
    "    for c in s:\n",
    "        if c.isalnum():\n",
    "            filter_st.append(c.lower())\n",
    "\n",
    "    filter_st = \"\".join(filter_st)\n",
    "    return filter_st==filter_st[::-1]\n",
    "\n",
    "ValidPalindrome(\"malayalam\")"
   ]
  },
  {
   "cell_type": "code",
   "execution_count": 16,
   "id": "c68b6d63",
   "metadata": {},
   "outputs": [
    {
     "data": {
      "text/plain": [
       "True"
      ]
     },
     "execution_count": 16,
     "metadata": {},
     "output_type": "execute_result"
    }
   ],
   "source": [
    "ValidPalindrome(str(121))"
   ]
  },
  {
   "cell_type": "code",
   "execution_count": 20,
   "id": "5491e948",
   "metadata": {},
   "outputs": [],
   "source": [
    "#6  Invert Binary subtree\n",
    "\n",
    "class TreeNode:\n",
    "    def __init__(self, val: int = 0, left: Optional['TreeNode']=None, right: Optional['TreeNode']=None):\n",
    "        self.val = val\n",
    "        self.left = left\n",
    "        self.right = right \n",
    "\n",
    "class Solution: \n",
    "    def invertTree(self, root: Optional[TreeNode]) -> Optional[TreeNode]:\n",
    "        if root is None:\n",
    "            return None\n",
    "        \n",
    "        # swap left and right children\n",
    "        root.left, root.right = root.right, root.left\n",
    "\n",
    "        self.invertTree(root.left)\n",
    "        self.invertTree(root.right)\n",
    "\n",
    "        return root"
   ]
  },
  {
   "cell_type": "code",
   "execution_count": 21,
   "id": "a54c9a1b",
   "metadata": {},
   "outputs": [
    {
     "name": "stdout",
     "output_type": "stream",
     "text": [
      "Test 1: Input: [4, 2, 7, 1, 3, 6, 9] | Output: [4, 7, 2, 9, 6, 3, 1] | Expected: [4, 7, 2, 9, 6, 3, 1] ✅\n",
      "Test 2: Input: [2, 1, 3] | Output: [2, 3, 1] | Expected: [2, 3, 1] ✅\n",
      "Test 3: Input: [] | Output: [] | Expected: [] ✅\n",
      "Test 4: Input: [1] | Output: [1] | Expected: [1] ✅\n",
      "Test 5: Input: [1, 2, None, 3] | Output: [1, None, 2, None, 3] | Expected: [1, None, 2, None, 3] ✅\n"
     ]
    }
   ],
   "source": [
    "# Build tree from list (level order)\n",
    "from collections import deque\n",
    "\n",
    "def build_tree(values: list) -> Optional[TreeNode]:\n",
    "    if not values:\n",
    "        return None\n",
    "    root = TreeNode(values[0])\n",
    "    queue = deque([root])\n",
    "    index = 1\n",
    "    while queue and index < len(values):\n",
    "        node = queue.popleft()\n",
    "        if values[index] is not None:\n",
    "            node.left = TreeNode(values[index])\n",
    "            queue.append(node.left)\n",
    "        index += 1\n",
    "        if index < len(values) and values[index] is not None:\n",
    "            node.right = TreeNode(values[index])\n",
    "            queue.append(node.right)\n",
    "        index += 1\n",
    "    return root\n",
    "\n",
    "# Convert tree to list (level order)\n",
    "def tree_to_list(root: Optional[TreeNode]) -> list:\n",
    "    if not root:\n",
    "        return []\n",
    "    result = []\n",
    "    queue = deque([root])\n",
    "    while queue:\n",
    "        node = queue.popleft()\n",
    "        if node:\n",
    "            result.append(node.val)\n",
    "            queue.append(node.left)\n",
    "            queue.append(node.right)\n",
    "        else:\n",
    "            result.append(None)\n",
    "\n",
    "    # Trim trailing None values\n",
    "    while result and result[-1] is None:\n",
    "        result.pop()\n",
    "\n",
    "    return result\n",
    "\n",
    "# Run tests\n",
    "def run_tests():\n",
    "    sol = Solution()\n",
    "    test_cases = [\n",
    "        ([4,2,7,1,3,6,9], [4,7,2,9,6,3,1]),\n",
    "        ([2,1,3], [2,3,1]),\n",
    "        ([], []),\n",
    "        ([1], [1]),\n",
    "        ([1,2,None,3], [1,None,2,None,3]),  # skewed left\n",
    "    ]\n",
    "\n",
    "    for i, (inp, expected) in enumerate(test_cases, 1):\n",
    "        tree = build_tree(inp)\n",
    "        inverted = sol.invertTree(tree)\n",
    "        result = tree_to_list(inverted)\n",
    "        status = \"✅\" if result == expected else \"❌\"\n",
    "        print(f\"Test {i}: Input: {inp} | Output: {result} | Expected: {expected} {status}\")\n",
    "\n",
    "run_tests()\n"
   ]
  },
  {
   "cell_type": "code",
   "execution_count": null,
   "id": "1a3427e2",
   "metadata": {},
   "outputs": [],
   "source": [
    "from collections import Counter\n",
    "\n",
    "def isAnagram(s: str, t: str) -> bool:\n",
    "    return Counter(s) == Counter(t)"
   ]
  },
  {
   "cell_type": "code",
   "execution_count": 31,
   "id": "a037b5f5",
   "metadata": {},
   "outputs": [
    {
     "data": {
      "text/plain": [
       "True"
      ]
     },
     "execution_count": 31,
     "metadata": {},
     "output_type": "execute_result"
    }
   ],
   "source": [
    "# 7 ValidAnagram\n",
    "\n",
    "def isAnagram(s, t) -> bool:\n",
    "    if len(s) != len(t):\n",
    "        return False\n",
    "    count_s = [0] * 26\n",
    "    count_t = [0] * 26\n",
    "\n",
    "    for i in range(len(s)):\n",
    "        pos_s = ord(s[i])-97\n",
    "        count_s[pos_s] +=1\n",
    "\n",
    "        pos_t = ord(t[i])-97\n",
    "        count_t[pos_t] +=1\n",
    "    \n",
    "    for j in range(26):\n",
    "        if count_s[j]!=count_t[j]:\n",
    "            return False\n",
    "    return True\n",
    "\n",
    "isAnagram(s='geek', t='keeg')\n"
   ]
  },
  {
   "cell_type": "code",
   "execution_count": 27,
   "id": "7df0b6f5",
   "metadata": {},
   "outputs": [
    {
     "data": {
      "text/plain": [
       "2"
      ]
     },
     "execution_count": 27,
     "metadata": {},
     "output_type": "execute_result"
    }
   ],
   "source": [
    "\n",
    "ord('c')-97"
   ]
  },
  {
   "cell_type": "code",
   "execution_count": 34,
   "id": "52397135",
   "metadata": {},
   "outputs": [
    {
     "data": {
      "text/plain": [
       "4"
      ]
     },
     "execution_count": 34,
     "metadata": {},
     "output_type": "execute_result"
    }
   ],
   "source": [
    "# Binary Search \n",
    "\n",
    "def binSearch(nums: List, target: int) -> int:\n",
    "    l = 0\n",
    "    h = len(nums) -1\n",
    "    \n",
    "    # for i in range(len(nums-1)):\n",
    "    while l <= h:\n",
    "        mid = (l+h)//2\n",
    "\n",
    "        if nums[mid] == target:\n",
    "            return mid\n",
    "        \n",
    "        elif target <= nums[mid]:\n",
    "            h = mid - 1\n",
    "        else:\n",
    "            l = mid + 1\n",
    "\n",
    "    return -1\n",
    "\n",
    "\n",
    "\n",
    "binSearch(nums = [-1,0,3,5,9,12], target = 9)"
   ]
  },
  {
   "cell_type": "code",
   "execution_count": 37,
   "id": "66d4f47d",
   "metadata": {},
   "outputs": [],
   "source": [
    "#9 LinkedList Cycle\n",
    "\n",
    "class ListNode:\n",
    "    def __init__(self, data, next=None):\n",
    "        self.val = data\n",
    "        self.next = next\n",
    "\n",
    "class Solution(object):\n",
    "    def hasCycle(self, head):\n",
    "        slow = head\n",
    "        fast = head\n",
    "        while fast and fast.next:\n",
    "            slow = slow.next\n",
    "            fast = fast.next.next\n",
    "            \n",
    "            if slow == fast:\n",
    "                return True\n",
    "            \n",
    "            return False\n",
    "        "
   ]
  },
  {
   "cell_type": "code",
   "execution_count": 38,
   "id": "87170a1a",
   "metadata": {},
   "outputs": [
    {
     "name": "stdout",
     "output_type": "stream",
     "text": [
      "Test 1: values=[3, 2, 0, -4], cycle_at=1 → False | Expected: True ❌\n",
      "Test 2: values=[1, 2], cycle_at=0 → False | Expected: True ❌\n",
      "Test 3: values=[1], cycle_at=-1 → None | Expected: False ❌\n",
      "Test 4: values=[1, 2, 3, 4, 5], cycle_at=-1 → False | Expected: False ✅\n",
      "Test 5: values=[], cycle_at=-1 → None | Expected: False ❌\n"
     ]
    }
   ],
   "source": [
    "def create_linked_list_with_cycle(values, pos):\n",
    "    \"\"\"\n",
    "    Create a linked list with a cycle.\n",
    "    :param values: List of node values\n",
    "    :param pos: Position (0-indexed) where the cycle starts. If -1, no cycle.\n",
    "    \"\"\"\n",
    "    if not values:\n",
    "        return None\n",
    "\n",
    "    head = ListNode(values[0])\n",
    "    current = head\n",
    "    nodes = [head]\n",
    "\n",
    "    for val in values[1:]:\n",
    "        node = ListNode(val)\n",
    "        current.next = node\n",
    "        current = node\n",
    "        nodes.append(node)\n",
    "\n",
    "    if pos != -1:\n",
    "        current.next = nodes[pos]  # Creating the cycle\n",
    "\n",
    "    return head\n",
    "\n",
    "def run_tests():\n",
    "    sol = Solution()\n",
    "\n",
    "    test_cases = [\n",
    "        # (values, cycle_position, expected_result)\n",
    "        ([3, 2, 0, -4], 1, True),     # cycle at position 1\n",
    "        ([1, 2], 0, True),           # cycle at position 0\n",
    "        ([1], -1, False),            # single node, no cycle\n",
    "        ([1, 2, 3, 4, 5], -1, False),# no cycle\n",
    "        ([], -1, False),             # empty list\n",
    "    ]\n",
    "\n",
    "    for i, (values, pos, expected) in enumerate(test_cases, 1):\n",
    "        head = create_linked_list_with_cycle(values, pos)\n",
    "        result = sol.hasCycle(head)\n",
    "        status = \"✅\" if result == expected else \"❌\"\n",
    "        print(f\"Test {i}: values={values}, cycle_at={pos} → {result} | Expected: {expected} {status}\")\n",
    "\n",
    "run_tests()\n"
   ]
  },
  {
   "cell_type": "code",
   "execution_count": 39,
   "id": "5460dbed",
   "metadata": {},
   "outputs": [],
   "source": [
    "test_cases = [\n",
    "        # (values, cycle_position, expected_result)\n",
    "        ([3, 2, 0, -4], 1, True),     # cycle at position 1\n",
    "        ([1, 2], 0, True),           # cycle at position 0\n",
    "        ([1], -1, False),            # single node, no cycle\n",
    "        ([1, 2, 3, 4, 5], -1, False),# no cycle\n",
    "        ([], -1, False),             # empty list\n",
    "    ]"
   ]
  },
  {
   "cell_type": "code",
   "execution_count": 45,
   "id": "6f5494ba",
   "metadata": {},
   "outputs": [
    {
     "name": "stdout",
     "output_type": "stream",
     "text": [
      "1 [3, 2, 0, -4] 1 True\n",
      "2 [1, 2] 0 True\n",
      "3 [1] -1 False\n",
      "4 [1, 2, 3, 4, 5] -1 False\n",
      "5 [] -1 False\n"
     ]
    }
   ],
   "source": [
    "for idx, (val, pos, expected) in enumerate(test_cases,1):\n",
    "    print(idx, val, pos, expected)"
   ]
  },
  {
   "cell_type": "code",
   "execution_count": 46,
   "id": "25d83515",
   "metadata": {},
   "outputs": [],
   "source": [
    "# 10 Max Depth of Binary Tree\n",
    "\n",
    "class TreeNode(object):\n",
    "    def __init__(self, val=0, left=None, right=None):\n",
    "        self.val = val\n",
    "        self.left = left\n",
    "        self.right = right\n",
    "\n",
    "\n",
    "class Solution(object):\n",
    "    def maxDepth(self, root):\n",
    "        if not root:\n",
    "            return 0\n",
    "        \n",
    "        left_depth = self.maxDepth(root.left)\n",
    "        right_depth = self.maxDepth(root.right)\n",
    "\n",
    "        return max(left_depth, right_depth) + 1\n",
    "    \n",
    "    \n",
    "    \n"
   ]
  },
  {
   "cell_type": "code",
   "execution_count": 48,
   "id": "decfb331",
   "metadata": {},
   "outputs": [
    {
     "name": "stdout",
     "output_type": "stream",
     "text": [
      "Test 1: Input: [3, 9, 20, None, None, 15, 7] → Output: 3 | Expected: 3 ✅\n",
      "Test 2: Input: [1, None, 2] → Output: 2 | Expected: 2 ✅\n",
      "Test 3: Input: [] → Output: 0 | Expected: 0 ✅\n",
      "Test 4: Input: [0] → Output: 1 | Expected: 1 ✅\n",
      "Test 5: Input: [1, 2, 3, 4, None, None, 5] → Output: 3 | Expected: 3 ✅\n",
      "Test 6: Input: [1, 2, None, 3, None, 4] → Output: 4 | Expected: 4 ✅\n"
     ]
    }
   ],
   "source": [
    "def build_tree(values):\n",
    "    if not values:\n",
    "        return None\n",
    "    root = TreeNode(values[0])\n",
    "    queue = deque([root])\n",
    "    idx = 1\n",
    "\n",
    "    while queue and idx < len(values):\n",
    "        node = queue.popleft()\n",
    "\n",
    "        # Left child\n",
    "        if idx < len(values) and values[idx] is not None:\n",
    "            node.left = TreeNode(values[idx])\n",
    "            queue.append(node.left)\n",
    "        idx += 1\n",
    "\n",
    "        # Right child\n",
    "        if idx < len(values) and values[idx] is not None:\n",
    "            node.right = TreeNode(values[idx])\n",
    "            queue.append(node.right)\n",
    "        idx += 1\n",
    "\n",
    "    return root\n",
    "\n",
    "def run_tests():\n",
    "    sol = Solution()\n",
    "    test_cases = [\n",
    "        ([3, 9, 20, None, None, 15, 7], 3),\n",
    "        ([1, None, 2], 2),\n",
    "        ([], 0),\n",
    "        ([0], 1),\n",
    "        ([1, 2, 3, 4, None, None, 5], 3),\n",
    "        ([1, 2, None, 3, None, 4], 4)  # left skewed\n",
    "    ]\n",
    "\n",
    "    for i, (tree_list, expected) in enumerate(test_cases, 1):\n",
    "        root = build_tree(tree_list)\n",
    "        result = sol.maxDepth(root)\n",
    "        status = \"✅\" if result == expected else \"❌\"\n",
    "        print(f\"Test {i}: Input: {tree_list} → Output: {result} | Expected: {expected} {status}\")\n",
    "\n",
    "run_tests()\n",
    "\n"
   ]
  },
  {
   "cell_type": "markdown",
   "id": "112f9666",
   "metadata": {},
   "source": [
    "11. Single Number\n",
    "Easy\n",
    "Topics\n",
    "Companies\n",
    "Hint\n",
    "Given a non-empty array of integers nums, every element appears twice except for one. Find that single one.\n",
    "\n",
    "You must implement a solution with a linear runtime complexity and use only constant extra space.\n",
    "\n",
    " \n",
    "\n",
    "Example 1:\n",
    "\n",
    "Input: nums = [2,2,1]\n",
    "\n",
    "Output: 1\n",
    "\n"
   ]
  },
  {
   "cell_type": "code",
   "execution_count": 49,
   "id": "ca916b34",
   "metadata": {},
   "outputs": [
    {
     "data": {
      "text/plain": [
       "4"
      ]
     },
     "execution_count": 49,
     "metadata": {},
     "output_type": "execute_result"
    }
   ],
   "source": [
    "def singleNumber(nums):\n",
    "    result = 0\n",
    "    for num in nums:\n",
    "        result ^= num\n",
    "    return result\n",
    "\n",
    "nums = [4, 1, 2, 1, 2]\n",
    "singleNumber(nums)"
   ]
  },
  {
   "cell_type": "code",
   "execution_count": 59,
   "id": "53adb50e",
   "metadata": {},
   "outputs": [],
   "source": [
    "# 12 class Solution:\n",
    "class Solution:\n",
    "    def reverseList(self, head: Optional[ListNode]) -> Optional[ListNode]:\n",
    "        prev = None          # This will become the new tail\n",
    "        curr = head          # Start from the head\n",
    "\n",
    "        while curr:\n",
    "            next_node = curr.next   # Save next node\n",
    "            curr.next = prev        # Reverse the link\n",
    "            prev = curr             # Move prev forward\n",
    "            curr = next_node        # Move curr forward\n",
    "\n",
    "        return prev                 # New head of the reversed list\n"
   ]
  },
  {
   "cell_type": "code",
   "execution_count": 60,
   "id": "d6fa6902",
   "metadata": {},
   "outputs": [
    {
     "name": "stdout",
     "output_type": "stream",
     "text": [
      "Test 1: Input: [1, 2, 3, 4, 5] → Output: [5, 4, 3, 2, 1] | Expected: [5, 4, 3, 2, 1] ✅\n",
      "Test 2: Input: [1, 2] → Output: [2, 1] | Expected: [2, 1] ✅\n",
      "Test 3: Input: [1] → Output: [1] | Expected: [1] ✅\n",
      "Test 4: Input: [] → Output: [] | Expected: [] ✅\n"
     ]
    }
   ],
   "source": [
    "class ListNode:\n",
    "    def __init__(self, val=0, next=None):\n",
    "        self.val = val\n",
    "        self.next = next\n",
    "\n",
    "def list_to_linkedlist(values):\n",
    "    head = ListNode(values[0]) if values else None\n",
    "    curr = head\n",
    "    for val in values[1:]:\n",
    "        curr.next = ListNode(val)\n",
    "        curr = curr.next\n",
    "    return head\n",
    "\n",
    "def linkedlist_to_list(head):\n",
    "    result = []\n",
    "    while head:\n",
    "        result.append(head.val)\n",
    "        head = head.next\n",
    "    return result\n",
    "\n",
    "# Test runner\n",
    "def run_tests():\n",
    "    sol = Solution()\n",
    "    test_cases = [\n",
    "        ([1, 2, 3, 4, 5], [5, 4, 3, 2, 1]),\n",
    "        ([1, 2], [2, 1]),\n",
    "        ([1], [1]),\n",
    "        ([], []),\n",
    "    ]\n",
    "\n",
    "    for i, (inp, expected) in enumerate(test_cases, 1):\n",
    "        head = list_to_linkedlist(inp)\n",
    "        reversed_head = sol.reverseList(head)\n",
    "        result = linkedlist_to_list(reversed_head)\n",
    "        status = \"✅\" if result == expected else \"❌\"\n",
    "        print(f\"Test {i}: Input: {inp} → Output: {result} | Expected: {expected} {status}\")\n",
    "\n",
    "run_tests()\n"
   ]
  },
  {
   "cell_type": "code",
   "execution_count": null,
   "id": "b5b4f1d6",
   "metadata": {},
   "outputs": [],
   "source": [
    "# 13 Majority element \n",
    "class Solution:\n",
    "    def majorityElement(self, nums: List[int]) -> int:\n",
    "        candidate = None\n",
    "        count = 0\n",
    "\n",
    "        for num in nums:\n",
    "            if count == 0:\n",
    "                candidate = num\n",
    "            count += (1 if candidate == num else -1)\n",
    "        return candidate\n"
   ]
  },
  {
   "cell_type": "code",
   "execution_count": 64,
   "id": "d33bb6d6",
   "metadata": {},
   "outputs": [
    {
     "name": "stdout",
     "output_type": "stream",
     "text": [
      "-2\n"
     ]
    }
   ],
   "source": [
    "# 14 Missing Element from the array\n",
    "\n",
    "def missingNumber(nums: List[int]) -> int:\n",
    "        n = len(nums)\n",
    "        expected_sums = n * (n + 1)//2\n",
    "\n",
    "        actual_sum = sum(nums)\n",
    "\n",
    "        return expected_sums - actual_sum\n",
    "print(missingNumber([1,2,4,5]))"
   ]
  },
  {
   "cell_type": "code",
   "execution_count": 16,
   "id": "059cb9d1",
   "metadata": {},
   "outputs": [
    {
     "name": "stdout",
     "output_type": "stream",
     "text": [
      "['H', 'e', 'l', 'l', 'o']\n",
      "['o', 'l', 'l', 'e', 'H']\n"
     ]
    }
   ],
   "source": [
    "# 15 344. Reverse String\n",
    "# Write a function that reverses a string. The input string is given as an array of characters s.\n",
    "\n",
    "# You must do this by modifying the input array in-place with O(1) extra memory.\n",
    "\n",
    " \n",
    "\n",
    "# Example 1:\n",
    "\n",
    "# Input: s = [\"h\",\"e\",\"l\",\"l\",\"o\"]\n",
    "# Output: [\"o\",\"l\",\"l\",\"e\",\"h\"]\n",
    "# Example 2:\n",
    "\n",
    "# Input: s = [\"H\",\"a\",\"n\",\"n\",\"a\",\"h\"]\n",
    "# Output: [\"h\",\"a\",\"n\",\"n\",\"a\",\"H\"]\n",
    "\n",
    "from typing import List\n",
    "def reverseString(s: List) -> None:\n",
    "    l = 0 \n",
    "    r = len(s) -1\n",
    "\n",
    "    while l < r:\n",
    "        s[l], s[r] = s[r], s[l]\n",
    "        l +=1\n",
    "        r -= 1\n",
    "\n",
    "    return s\n",
    "l1= \"Hello\"\n",
    "print(list(l1))\n",
    "\n",
    "print(reverseString(list(l1)))\n",
    "\n"
   ]
  },
  {
   "cell_type": "code",
   "execution_count": 5,
   "id": "2f84ac50",
   "metadata": {},
   "outputs": [
    {
     "name": "stdout",
     "output_type": "stream",
     "text": [
      "['H', 'e', 'l', 'l', 'o']\n"
     ]
    }
   ],
   "source": [
    "# 16 Diameter of Binary Tree\n",
    "\n",
    "class TreeNode:\n",
    "    def __init__(self, val=0, left=None, right=None):\n",
    "        self.val = val\n",
    "        self.left = left\n",
    "        self.right = right \n",
    "\n",
    "class Solution:\n",
    "    def diameterOfBinaryTree(self, root: TreeNode) -> int:\n",
    "        self.max_diameter = 0 \n",
    "\n",
    "        def dfs(node):\n",
    "            if not node:\n",
    "                return 0\n",
    "            \n",
    "            left = dfs(node.left)\n",
    "            right = dfs(node.right)\n",
    "\n",
    "            #update max diameter\n",
    "            self.max_diameter = max(self.max_diameter, left + right)\n",
    "\n",
    "\n",
    "            #return the height of the current node\n",
    "            return 1 + max(left, right)\n",
    "        dfs(root)\n",
    "        return self.max_diameter\n",
    "\n"
   ]
  },
  {
   "cell_type": "code",
   "execution_count": 21,
   "id": "5c537e3e",
   "metadata": {},
   "outputs": [
    {
     "name": "stdout",
     "output_type": "stream",
     "text": [
      "1 -> 2 -> 3 -> 4 -> 5 -> 6 -> None\n",
      "Middle node and the rest of the list:\n",
      "4 -> 5 -> 6 -> None\n"
     ]
    }
   ],
   "source": [
    "#17. Middle of the Linked List\n",
    "# Definition for singly-linked list.\n",
    "from typing import Optional\n",
    "class ListNode:\n",
    "    def __init__(self, val=0, next=None):\n",
    "        self.val = val\n",
    "        self.next = next\n",
    "class Solution:\n",
    "    def middleNode(self, head: Optional[ListNode]) -> Optional[ListNode]:\n",
    "        #curr = head\n",
    "        slow = head\n",
    "        fast = head\n",
    "        \n",
    "        while fast and fast.next != None:\n",
    "            slow = slow.next\n",
    "            fast = fast.next.next\n",
    "        return slow\n",
    "\n",
    "def create_linked_list(values):\n",
    "    dummy = ListNode()\n",
    "    current = dummy\n",
    "    for val in values:\n",
    "        current.next = ListNode(val)\n",
    "        current = current.next\n",
    "    return dummy.next\n",
    "\n",
    "def print_linked_list(node):\n",
    "    while node:\n",
    "        print(node.val, end=\" -> \")\n",
    "        node = node.next\n",
    "\n",
    "    print(\"None\")\n",
    "\n",
    "values = [1,2,3,4,5,6]\n",
    "head = create_linked_list(values)\n",
    "\n",
    "print_linked_list(head)\n",
    "sol = Solution()\n",
    "middle = sol.middleNode(head)\n",
    "\n",
    "print(\"Middle node and the rest of the list:\")\n",
    "print_linked_list(middle)\n",
    "\n"
   ]
  },
  {
   "cell_type": "code",
   "execution_count": 24,
   "id": "395f0288",
   "metadata": {},
   "outputs": [
    {
     "name": "stdout",
     "output_type": "stream",
     "text": [
      "Preorder traversal of constructed BST:\n",
      "0 -3 -10 9 5 "
     ]
    }
   ],
   "source": [
    "# 18 Convert Sorted Array to Binary Search Tree\n",
    "\n",
    "class TreeNode:\n",
    "    def __init__(self, val=0, left=None, right=None):\n",
    "        self.val = val\n",
    "        self.left = left\n",
    "        self.right = right \n",
    "\n",
    "    \n",
    "class Solution:\n",
    "    def sortedArrayToBST(self, nums: List[int]) -> Optional[TreeNode]:\n",
    "        if not nums:\n",
    "            return None\n",
    "        \n",
    "        mid = len(nums) // 2\n",
    "        node = TreeNode(nums[mid])\n",
    "\n",
    "        node.left = self.sortedArrayToBST(nums[:mid])\n",
    "        node.right = self.sortedArrayToBST(nums[mid+1:])\n",
    "\n",
    "        return node\n",
    "\n",
    "\n",
    "# Optional: Pre-order traversal to print tree\n",
    "def preorder(node):\n",
    "    if not node:\n",
    "        return\n",
    "    print(node.val, end=' ')\n",
    "    preorder(node.left)\n",
    "    preorder(node.right)\n",
    "\n",
    "# Test the code\n",
    "nums = [-10, -3, 0, 5, 9]\n",
    "sol = Solution()\n",
    "tree = sol.sortedArrayToBST(nums)\n",
    "\n",
    "print(\"Preorder traversal of constructed BST:\")\n",
    "preorder(tree)\n"
   ]
  },
  {
   "cell_type": "code",
   "execution_count": 26,
   "id": "5a8fbae4",
   "metadata": {},
   "outputs": [
    {
     "name": "stdout",
     "output_type": "stream",
     "text": [
      "Test Case 1: [-2, 1, -3, 4, -1, 2, 1, -5, 4] → Max Subarray Sum = 6\n",
      "Test Case 2: [1] → Max Subarray Sum = 1\n",
      "Test Case 3: [5, 4, -1, 7, 8] → Max Subarray Sum = 23\n",
      "Test Case 4: [-1, -2, -3] → Max Subarray Sum = -1\n",
      "Test Case 5: [0, -3, 5, -2, 1, 3, -1] → Max Subarray Sum = 7\n"
     ]
    }
   ],
   "source": [
    "#19 Maximum Subarray\n",
    "from typing import List\n",
    "\n",
    "from typing import List\n",
    "\n",
    "class Solution:\n",
    "    def maxSubArray(self, nums: List[int]) -> int:\n",
    "        max_sum = current_sum = nums[0]\n",
    "\n",
    "        for num in nums[1:]:\n",
    "            current_sum = max(num, current_sum + num)\n",
    "            max_sum = max(max_sum, current_sum)\n",
    "\n",
    "        return max_sum\n",
    "\n",
    "# Driver code\n",
    "if __name__ == \"__main__\":\n",
    "    test_cases = [\n",
    "        [-2, 1, -3, 4, -1, 2, 1, -5, 4],  # Expected: 6\n",
    "        [1],                             # Expected: 1\n",
    "        [5, 4, -1, 7, 8],                # Expected: 23\n",
    "        [-1, -2, -3],                    # Expected: -1\n",
    "        [0, -3, 5, -2, 1, 3, -1]         # Expected: 7\n",
    "    ]\n",
    "\n",
    "    for i, nums in enumerate(test_cases, 1):\n",
    "        sol = Solution()\n",
    "        result = sol.maxSubArray(nums)\n",
    "        print(f\"Test Case {i}: {nums} → Max Subarray Sum = {result}\")\n",
    "\n"
   ]
  },
  {
   "cell_type": "code",
   "execution_count": 27,
   "id": "90e9b96d",
   "metadata": {},
   "outputs": [
    {
     "name": "stdout",
     "output_type": "stream",
     "text": [
      "Number of ways to climb 1 stairs: 1\n",
      "Number of ways to climb 2 stairs: 2\n",
      "Number of ways to climb 3 stairs: 3\n",
      "Number of ways to climb 4 stairs: 5\n",
      "Number of ways to climb 5 stairs: 8\n",
      "Number of ways to climb 10 stairs: 89\n"
     ]
    }
   ],
   "source": [
    "#20 Climbing Stairs\n",
    "\n",
    "class Solution:\n",
    "    def climbStairs(self, n: int) -> int:\n",
    "        if n == 1:\n",
    "            return 1\n",
    "        \n",
    "        prev2, prev1 = 1, 1  # Ways to climb 0 and 1 stairs\n",
    "\n",
    "        for i in range(2, n + 1):\n",
    "            current = prev1 + prev2  # Sum of previous two steps\n",
    "            prev2 = prev1\n",
    "            prev1 = current\n",
    "        \n",
    "        return prev1\n",
    "\n",
    "# Driver code\n",
    "if __name__ == \"__main__\":\n",
    "    test_cases = [1, 2, 3, 4, 5, 10]\n",
    "\n",
    "    sol = Solution()\n",
    "    for n in test_cases:\n",
    "        ways = sol.climbStairs(n)\n",
    "        print(f\"Number of ways to climb {n} stairs: {ways}\")\n",
    "\n"
   ]
  },
  {
   "cell_type": "code",
   "execution_count": 28,
   "id": "45f42296",
   "metadata": {},
   "outputs": [
    {
     "name": "stdout",
     "output_type": "stream",
     "text": [
      "Is the tree symmetric? True\n"
     ]
    }
   ],
   "source": [
    "# 21 Symmetric Tree\n",
    "class TreeNode:\n",
    "    def __init__(self, val=0, left=None, right=None):\n",
    "        self.val = val\n",
    "        self.left = left\n",
    "        self.right = right\n",
    "\n",
    "class Solution:\n",
    "    def isSymmetric(self, root: Optional[TreeNode]) -> bool:\n",
    "        def isMirror(t1, t2):\n",
    "            if not t1 and not t2:\n",
    "                return True\n",
    "            if not t1 or not t2:\n",
    "                return False\n",
    "            return (\n",
    "                t1.val == t2.val and\n",
    "                isMirror(t1.left, t2.right) and\n",
    "                isMirror(t1.right, t2.left)\n",
    "            )\n",
    "\n",
    "        return isMirror(root.left, root.right) if root else True\n",
    "\n",
    "def build_tree():\n",
    "    # Builds the symmetric tree: [1,2,2,3,4,4,3]\n",
    "    root = TreeNode(1)\n",
    "    root.left = TreeNode(2, TreeNode(3), TreeNode(4))\n",
    "    root.right = TreeNode(2, TreeNode(4), TreeNode(3))\n",
    "    return root\n",
    "\n",
    "sol = Solution()\n",
    "tree = build_tree()\n",
    "print(\"Is the tree symmetric?\", sol.isSymmetric(tree))  # Output: True\n"
   ]
  },
  {
   "cell_type": "code",
   "execution_count": 29,
   "id": "816ae983",
   "metadata": {},
   "outputs": [
    {
     "name": "stdout",
     "output_type": "stream",
     "text": [
      "Final Res:: [24, 12, 8, 6]\n"
     ]
    },
    {
     "data": {
      "text/plain": [
       "[24, 12, 8, 6]"
      ]
     },
     "execution_count": 29,
     "metadata": {},
     "output_type": "execute_result"
    }
   ],
   "source": [
    "#22 238. Product of Array Except Self\n",
    "\n",
    "def productExceptSelf(nums: List) -> List:\n",
    "    res = [1] * (len(nums))\n",
    "    prefix = 1\n",
    "    for i in range(len(nums)):\n",
    "        res[i] = prefix\n",
    "        prefix *= nums[i]\n",
    "\n",
    "    postfix = 1\n",
    "    for i in range(len(nums)-1, -1, -1):\n",
    "        res[i] *= postfix\n",
    "        postfix *= nums[i]\n",
    "\n",
    "    print(\"Final Res::\", res)\n",
    "    return res\n",
    "\n",
    "productExceptSelf([1,2,3,4])\n",
    "\n",
    "\n",
    "\n",
    "    "
   ]
  },
  {
   "cell_type": "code",
   "execution_count": null,
   "id": "528ef9f8",
   "metadata": {},
   "outputs": [],
   "source": [
    "# 23 Best time to buy and sell stock 2\n",
    "\n",
    "\n",
    "class Solution:\n",
    "    def maxProfit(self, prices: List[int]) -> int:\n",
    "        profit = 0 \n",
    "\n",
    "        for i in range(1, len(prices)):\n",
    "            if prices[i] > prices[i-1]:\n",
    "                profit += prices[i] - prices[i-1]\n",
    "        return profit"
   ]
  },
  {
   "cell_type": "code",
   "execution_count": 31,
   "id": "bf71a290",
   "metadata": {},
   "outputs": [
    {
     "name": "stdout",
     "output_type": "stream",
     "text": [
      "Houses: [1, 2, 3, 1] → Max Robbed Amount: 4\n",
      "Houses: [2, 7, 9, 3, 1] → Max Robbed Amount: 12\n"
     ]
    }
   ],
   "source": [
    "#24 House Robber\n",
    "class Solution(object):\n",
    "    def rob(self, nums):\n",
    "        \"\"\"\n",
    "        :type nums: List[int]\n",
    "        :rtype: int\n",
    "        \"\"\"\n",
    "        n = len(nums)\n",
    "        if n == 0:\n",
    "            return 0\n",
    "        if n == 1:\n",
    "            return nums[0]\n",
    "\n",
    "        prev = 0\n",
    "        curr = nums[0]\n",
    "\n",
    "        for i in range(1, n):\n",
    "            new_curr = max(curr, prev + nums[i])\n",
    "            prev = curr\n",
    "            curr = new_curr\n",
    "\n",
    "        return curr\n",
    "\n",
    "if __name__ == \"__main__\":\n",
    "    sol = Solution()\n",
    "    test_cases = [\n",
    "        [1,2,3,1],        # Expected: 4 (rob 1 and 3)\n",
    "        [2,7,9,3,1]]\n",
    "    for nums in test_cases:\n",
    "        result = sol.rob(nums)\n",
    "        print(f\"Houses: {nums} → Max Robbed Amount: {result}\")"
   ]
  },
  {
   "cell_type": "code",
   "execution_count": 32,
   "id": "dbaa70db",
   "metadata": {},
   "outputs": [
    {
     "name": "stdout",
     "output_type": "stream",
     "text": [
      "Input: 11 (binary: 1011) → Hamming Weight: 3\n",
      "Input: 128 (binary: 10000000) → Hamming Weight: 1\n",
      "Input: 4294967293 (binary: 0b11111111111111111111111111111101) → Hamming Weight: 31\n",
      "Input: 0 (binary: 0) → Hamming Weight: 0\n",
      "Input: 15 (binary: 1111) → Hamming Weight: 4\n"
     ]
    }
   ],
   "source": [
    "# Hammin weight number of 1 Bits\n",
    "class Solution:\n",
    "    def hammingWeight(self, n: int) -> int:\n",
    "        count = 0\n",
    "        while n:\n",
    "            n = n & (n - 1)\n",
    "            count += 1\n",
    "        return count\n",
    "\n",
    "if __name__ == \"__main__\":\n",
    "    sol = Solution()\n",
    "    test_cases = [\n",
    "        (11, '1011'),    # Output: 3\n",
    "        (128, '10000000'),  # Output: 1\n",
    "        (4294967293, bin(4294967293)),  # Output: 31\n",
    "        (0, '0'),        # Output: 0\n",
    "        (15, '1111')     # Output: 4\n",
    "    ]\n",
    "\n",
    "    for num, binary in test_cases:\n",
    "        print(f\"Input: {num} (binary: {binary}) → Hamming Weight: {sol.hammingWeight(num)}\")\n"
   ]
  },
  {
   "cell_type": "code",
   "execution_count": 33,
   "id": "cb830caa",
   "metadata": {},
   "outputs": [
    {
     "name": "stdout",
     "output_type": "stream",
     "text": [
      "n = 11 (binary = 0b1011)\n",
      "  → Bitwise method: 3\n",
      "  → Built-in method: 3\n",
      "===\n",
      "n = 128 (binary = 0b10000000)\n",
      "  → Bitwise method: 1\n",
      "  → Built-in method: 1\n",
      "===\n",
      "n = 4294967293 (binary = 0b11111111111111111111111111111101)\n",
      "  → Bitwise method: 31\n",
      "  → Built-in method: 31\n",
      "===\n",
      "n = 0 (binary = 0b0)\n",
      "  → Bitwise method: 0\n",
      "  → Built-in method: 0\n",
      "===\n",
      "n = 15 (binary = 0b1111)\n",
      "  → Bitwise method: 4\n",
      "  → Built-in method: 4\n",
      "===\n"
     ]
    }
   ],
   "source": [
    "class Solution:\n",
    "    def hammingWeight_bitwise(self, n: int) -> int:\n",
    "        count = 0\n",
    "        while n:\n",
    "            n = n & (n - 1)\n",
    "            count += 1\n",
    "        return count\n",
    "\n",
    "    def hammingWeight_builtin(self, n: int) -> int:\n",
    "        return bin(n).count('1')\n",
    "\n",
    "if __name__ == \"__main__\":\n",
    "    sol = Solution()\n",
    "    test_cases = [\n",
    "        11,         # 0b1011 → 3\n",
    "        128,        # 0b10000000 → 1\n",
    "        4294967293, # almost all bits set in 32-bit → 31\n",
    "        0,          # → 0\n",
    "        15          # 0b1111 → 4\n",
    "    ]\n",
    "\n",
    "    for n in test_cases:\n",
    "        bitwise_result = sol.hammingWeight_bitwise(n)\n",
    "        builtin_result = sol.hammingWeight_builtin(n)\n",
    "        print(f\"n = {n} (binary = {bin(n)})\")\n",
    "        print(f\"  → Bitwise method: {bitwise_result}\")\n",
    "        print(f\"  → Built-in method: {builtin_result}\")\n",
    "        print(\"===\")\n"
   ]
  },
  {
   "cell_type": "code",
   "execution_count": 34,
   "id": "2daca77a",
   "metadata": {},
   "outputs": [],
   "source": [
    "# 26 Validate Binary Search Tree\n",
    "\n",
    "class TreeNode:\n",
    "    def __init__(self, val = 0, left=None, right=None):\n",
    "        self.val = val\n",
    "        self.left = left\n",
    "        self.right = right \n",
    "\n",
    "    \n",
    "\n",
    "class Solution:\n",
    "    def isValidBST(self, root: Optional[TreeNode]) -> bool:\n",
    "        def is_valid(node, low, high):\n",
    "            if not node:\n",
    "                return True\n",
    "            if not (low < node.val < high):\n",
    "                return False\n",
    "            return (is_valid(node.left, low, node.val) and\n",
    "                    is_valid(node.right, node.val, high))\n",
    "        \n",
    "        return is_valid(root, float('-inf'), float('inf'))\n",
    "    "
   ]
  },
  {
   "cell_type": "code",
   "execution_count": 35,
   "id": "5611cf50",
   "metadata": {},
   "outputs": [
    {
     "name": "stdout",
     "output_type": "stream",
     "text": [
      "Tree 1 is valid BST? True\n",
      "Tree 2 is valid BST? False\n"
     ]
    }
   ],
   "source": [
    "def build_tree_1():\n",
    "    # Valid BST: [2,1,3]\n",
    "    return TreeNode(2, TreeNode(1), TreeNode(3))\n",
    "\n",
    "def build_tree_2():\n",
    "    # Invalid BST: [5,1,4,null,null,3,6]\n",
    "    root = TreeNode(5)\n",
    "    root.left = TreeNode(1)\n",
    "    root.right = TreeNode(4, TreeNode(3), TreeNode(6))\n",
    "    return root\n",
    "\n",
    "sol = Solution()\n",
    "print(\"Tree 1 is valid BST?\", sol.isValidBST(build_tree_1()))  # True\n",
    "print(\"Tree 2 is valid BST?\", sol.isValidBST(build_tree_2()))  # False\n"
   ]
  },
  {
   "cell_type": "code",
   "execution_count": 36,
   "id": "4919bed1",
   "metadata": {},
   "outputs": [
    {
     "name": "stdout",
     "output_type": "stream",
     "text": [
      "-3\n",
      "0\n",
      "0\n"
     ]
    }
   ],
   "source": [
    "# 27 Min Stack \n",
    "# Design a stack that supports push, pop, top, and retrieving the minimum element in constant time.\n",
    "\n",
    "# Implement the MinStack class:\n",
    "\n",
    "# MinStack() initializes the stack object.\n",
    "# void push(int val) pushes the element val onto the stack.\n",
    "# void pop() removes the element on the top of the stack.\n",
    "# int top() gets the top element of the stack.\n",
    "# int getMin() retrieves the minimum element in the stack.\n",
    "# You must implement a solution with O(1) time complexity for each function.\n",
    "\n",
    " \n",
    "\n",
    "# Example 1:\n",
    "\n",
    "# Input\n",
    "# [\"MinStack\",\"push\",\"push\",\"push\",\"getMin\",\"pop\",\"top\",\"getMin\"]\n",
    "# [[],[-2],[0],[-3],[],[],[],[]]\n",
    "\n",
    "# Output\n",
    "# [null,null,null,null,-3,null,0,-2]\n",
    "\n",
    "class MinStack:\n",
    "    def __init__(self):\n",
    "        self.stack = []\n",
    "        self.min_stack = []\n",
    "    \n",
    "    def push(self, val: int) -> None:\n",
    "        self.stack.append(val)\n",
    "        if not self.min_stack:\n",
    "            self.min_stack.append(val)\n",
    "        else:\n",
    "            self.min_stack.append(val)\n",
    "        \n",
    "    def pop(self) -> None:\n",
    "        self.stack.pop()\n",
    "        self.min_stack.pop()\n",
    "    \n",
    "    def top(self)-> None:\n",
    "        return self.stack[-1]\n",
    "    \n",
    "    def getMin(self) -> int:\n",
    "        return self.min_stack[-1]\n",
    "    \n",
    "if __name__ == \"__main__\":\n",
    "    minStack = MinStack()\n",
    "    minStack.push(-2)\n",
    "    minStack.push(0)\n",
    "    minStack.push(-3)\n",
    "    print(minStack.getMin())  # Output: -3\n",
    "    minStack.pop()\n",
    "    print(minStack.top())     # Output: 0\n",
    "    print(minStack.getMin())  # Output: -2\n"
   ]
  },
  {
   "cell_type": "code",
   "execution_count": 41,
   "id": "1ade2300",
   "metadata": {},
   "outputs": [
    {
     "data": {
      "text/plain": [
       "True"
      ]
     },
     "execution_count": 41,
     "metadata": {},
     "output_type": "execute_result"
    }
   ],
   "source": [
    "# 28 Contains Duplicates\n",
    "\n",
    "def ContainsDuplicate(nums: List[int]):\n",
    "    nums.sort()\n",
    "    for i in range(1, len(nums)):\n",
    "        if nums[i] == nums[i-1]:\n",
    "            return True\n",
    "ContainsDuplicate([1,3,7,6,87,4,2,1])"
   ]
  },
  {
   "cell_type": "code",
   "execution_count": 42,
   "id": "7101697d",
   "metadata": {},
   "outputs": [
    {
     "data": {
      "text/plain": [
       "True"
      ]
     },
     "execution_count": 42,
     "metadata": {},
     "output_type": "execute_result"
    }
   ],
   "source": [
    "def ContainsDuplicate(nums: List[int]):\n",
    "    nums_set = set(nums)\n",
    "    return len(nums_set) != len(nums)\n",
    "    \n",
    "ContainsDuplicate([1,3,7,6,87,4,2,1])"
   ]
  },
  {
   "cell_type": "code",
   "execution_count": 43,
   "id": "c902688a",
   "metadata": {},
   "outputs": [
    {
     "name": "stdout",
     "output_type": "stream",
     "text": [
      "Kth smallest element: 3\n"
     ]
    }
   ],
   "source": [
    "#29 Kth Smallest Element \n",
    "class TreeNode(object):\n",
    "    def __init__(self, val=0, left=None, right=None):\n",
    "        self.val = val\n",
    "        self.left = left\n",
    "        self.right = right\n",
    "class Solution(object):\n",
    "    def kthSmallest(self, root, k):\n",
    "        \"\"\"\n",
    "        :type root: Optional[TreeNode]\n",
    "        :type k: int\n",
    "        :rtype: int\n",
    "        \"\"\"\n",
    "        stack = []\n",
    "        while True:\n",
    "            while root:\n",
    "                stack.append(root)\n",
    "                root = root.left\n",
    "\n",
    "            root = stack.pop()\n",
    "            k -= 1\n",
    "\n",
    "            if k == 0:\n",
    "                return root.val\n",
    "            \n",
    "            #move to the right subtree\n",
    "            root = root.right\n",
    "\n",
    "def build_sample_bst():\n",
    "    # BST from example: [5,3,6,2,4,null,null,1]\n",
    "    root = TreeNode(5)\n",
    "    root.left = TreeNode(3)\n",
    "    root.right = TreeNode(6)\n",
    "    root.left.left = TreeNode(2)\n",
    "    root.left.right = TreeNode(4)\n",
    "    root.left.left.left = TreeNode(1)\n",
    "    return root\n",
    "\n",
    "if __name__ == \"__main__\":\n",
    "    sol = Solution()\n",
    "    root = build_sample_bst()\n",
    "    k = 3\n",
    "    print(\"Kth smallest element:\", sol.kthSmallest(root, k))  # Output: 3\n",
    "\n",
    "\n",
    "\n",
    "#        5\n",
    "#       / \\\n",
    "#      3   6\n",
    "#     / \\\n",
    "#    2   4\n",
    "#   /\n",
    "#  1\n",
    "\n"
   ]
  },
  {
   "cell_type": "code",
   "execution_count": 45,
   "id": "1595a2b8",
   "metadata": {},
   "outputs": [
    {
     "data": {
      "text/plain": [
       "[[1, 10], [15, 18]]"
      ]
     },
     "execution_count": 45,
     "metadata": {},
     "output_type": "execute_result"
    }
   ],
   "source": [
    "# 30 Merge Intervals\n",
    "\n",
    "# Given an array of intervals where intervals[i] = [starti, endi], merge all overlapping intervals, and return an array of the non-overlapping intervals that cover all the intervals in the input.\n",
    " \n",
    "# Example 1:\n",
    "\n",
    "# Input: intervals = [[1,3],[2,6],[8,10],[15,18]]\n",
    "# Output: [[1,6],[8,10],[15,18]]\n",
    "# Explanation: Since intervals [1,3] and [2,6] overlap, merge them into [1,6].\n",
    "\n",
    "\n",
    "def mergeInterval(intervals: List[int]) -> List:\n",
    "    merged = []\n",
    "    intervals.sort(key=lambda x : x[0])\n",
    "    for interval in intervals:\n",
    "        if not merged or merged[-1][1] < interval[0]:\n",
    "            merged.append(interval)\n",
    "        else:\n",
    "            merged[-1][1]= max(merged[-1][1], interval[1])\n",
    "\n",
    "    return merged \n",
    "\n",
    "intervals = [[1,3],[2,6],[5,10],[15,18]]\n",
    "mergeInterval(intervals)"
   ]
  },
  {
   "cell_type": "code",
   "execution_count": 47,
   "id": "f70d8384",
   "metadata": {},
   "outputs": [],
   "source": [
    "# 31 Set Matrix Zeroes\n",
    "\n",
    "def setZeroes(matrix: List[List[int]]) -> None:\n",
    "    rows, cols = len(matrix), len(matrix[0])\n",
    "\n",
    "    first_row_zero= any(matrix[0][j] == 0 for j in range(cols))\n",
    "    first_col_zero = any(matrix[i][0] == 0 for i in range(rows))\n",
    "\n",
    "    #Use first row and colum to mark Zeros\n",
    "    for i in range(1, rows):\n",
    "        for j in range(1,cols):\n",
    "            if matrix[i][j] == 0:\n",
    "               matrix[i][0] = 0\n",
    "               matrix[0][j] = 0\n",
    "    \n",
    "    for i in range(1, rows):\n",
    "        for j in range(1, cols):\n",
    "            if matrix[i][0] == 0 or matrix[0][j] == 0:\n",
    "                matrix[i][j] = 0\n",
    "\n",
    "    #Zero out first row if needed\n",
    "    if first_row_zero:\n",
    "        for j in range(cols):\n",
    "            matrix[0][j] = 0\n",
    "\n",
    "    #Zero out first column \n",
    "    if first_col_zero:\n",
    "        for i in range(rows):\n",
    "            matrix[i][0]=0\n",
    "        "
   ]
  },
  {
   "cell_type": "code",
   "execution_count": 48,
   "id": "b9ac9d57",
   "metadata": {},
   "outputs": [
    {
     "name": "stdout",
     "output_type": "stream",
     "text": [
      "[[1, 0, 1], [0, 0, 0], [1, 0, 1]]\n"
     ]
    }
   ],
   "source": [
    "matrix = [[1,1,1],[1,0,1],[1,1,1]]\n",
    "setZeroes(matrix)\n",
    "print(matrix)  # Output: [[1,0,1],[0,0,0],[1,0,1]]"
   ]
  },
  {
   "cell_type": "code",
   "execution_count": 49,
   "id": "75482ac6",
   "metadata": {},
   "outputs": [
    {
     "name": "stdout",
     "output_type": "stream",
     "text": [
      "[1, 2, 3, 6, 9, 8, 7, 4, 5]\n"
     ]
    }
   ],
   "source": [
    "# 32 Spiral Matrix \n",
    "def spiralOrder(matrix):\n",
    "    if not matrix:\n",
    "        return []\n",
    "\n",
    "    result = []\n",
    "    top, bottom = 0, len(matrix) - 1\n",
    "    left, right = 0, len(matrix[0]) - 1\n",
    "\n",
    "    while top <= bottom and left <= right:\n",
    "\n",
    "        # Move left to right\n",
    "        for col in range(left, right + 1):\n",
    "            result.append(matrix[top][col])\n",
    "        top += 1\n",
    "\n",
    "        # Move top to bottom\n",
    "        for row in range(top, bottom + 1):\n",
    "            result.append(matrix[row][right])\n",
    "        right -= 1\n",
    "\n",
    "        # Move right to left (check if top <= bottom)\n",
    "        if top <= bottom:\n",
    "            for col in range(right, left - 1, -1):\n",
    "                result.append(matrix[bottom][col])\n",
    "            bottom -= 1\n",
    "\n",
    "        # Move bottom to top (check if left <= right)\n",
    "        if left <= right:\n",
    "            for row in range(bottom, top - 1, -1):\n",
    "                result.append(matrix[row][left])\n",
    "            left += 1\n",
    "\n",
    "    return result\n",
    "\n",
    "matrix = [[1,2,3],[4,5,6],[7,8,9]]\n",
    "print(spiralOrder(matrix))  # ➞ [1,2,3,6,9,8,7,4,5]\n"
   ]
  },
  {
   "cell_type": "code",
   "execution_count": 52,
   "id": "15244b20",
   "metadata": {},
   "outputs": [
    {
     "data": {
      "text/plain": [
       "'Given an integer array nums, return all the triplets [nums[i], nums[j], nums[k]] such that i != j, i != k, and j != k, and nums[i] + nums[j] + nums[k] == 0.\\n\\nNotice that the solution set must not contain duplicate triplets.\\n\\n \\n\\nExample 1:\\n\\nInput: nums = [-1,0,1,2,-1,-4]\\nOutput: [[-1,-1,2],[-1,0,1]]'"
      ]
     },
     "execution_count": 52,
     "metadata": {},
     "output_type": "execute_result"
    }
   ],
   "source": [
    "# 33  3 SUM \n",
    "\"\"\"Given an integer array nums, return all the triplets [nums[i], nums[j], nums[k]] such that i != j, i != k, and j != k, and nums[i] + nums[j] + nums[k] == 0.\n",
    "\n",
    "Notice that the solution set must not contain duplicate triplets.\n",
    "\n",
    " \n",
    "\n",
    "Example 1:\n",
    "\n",
    "Input: nums = [-1,0,1,2,-1,-4]\n",
    "Output: [[-1,-1,2],[-1,0,1]]\"\"\""
   ]
  },
  {
   "cell_type": "code",
   "execution_count": 59,
   "id": "4489fe01",
   "metadata": {},
   "outputs": [],
   "source": [
    "def threeSum(nums: List[int]) -> List[List[int]]:\n",
    "    res = []\n",
    "    nums.sort()\n",
    "    for i, a in enumerate(nums):\n",
    "        if i > 0 and a==nums[i-1]:\n",
    "            continue\n",
    "        l, r = i+1, len(nums)-1\n",
    "        while l < r:\n",
    "            threeSum = a + nums[l] + nums[r]\n",
    "            if threeSum > 0:\n",
    "                r -=1\n",
    "            elif threeSum < 0:\n",
    "                l +=1\n",
    "            else:\n",
    "                res.append([a, nums[l], nums[r]])\n",
    "                l +=1\n",
    "                while nums[i] == nums[l -1] and l < r:\n",
    "                    l +=1    \n",
    "    return res\n",
    "\n"
   ]
  },
  {
   "cell_type": "code",
   "execution_count": 60,
   "id": "0845c97b",
   "metadata": {},
   "outputs": [
    {
     "name": "stdout",
     "output_type": "stream",
     "text": [
      "[[-1, -1, 2]]\n"
     ]
    }
   ],
   "source": [
    "nums = [-1,0,1,2,-1,-4]\n",
    "print(threeSum(nums))"
   ]
  },
  {
   "cell_type": "code",
   "execution_count": 61,
   "id": "2f1c6a56",
   "metadata": {},
   "outputs": [
    {
     "name": "stdout",
     "output_type": "stream",
     "text": [
      "[[0, 0, 0]]\n"
     ]
    }
   ],
   "source": [
    "print(threeSum([0,0,0]))"
   ]
  },
  {
   "cell_type": "code",
   "execution_count": 62,
   "id": "a4d8391d",
   "metadata": {},
   "outputs": [],
   "source": [
    "# 34 Binary Tree Zigzag Level Order Traversal\n",
    "from collections import deque\n",
    "\n",
    "class TreeNode:\n",
    "    def __init__(self, val=0, left=None, right=None):\n",
    "        self.val = val\n",
    "        self.left = left\n",
    "        self.right = right\n",
    "\n",
    "class Solution:\n",
    "    def zigzagLevelOrder(self, root):\n",
    "        if not root:\n",
    "            return []\n",
    "\n",
    "        result = []\n",
    "        queue = deque([root])\n",
    "        left_to_right = True\n",
    "\n",
    "        while queue:\n",
    "            level = []\n",
    "            for _ in range(len(queue)):\n",
    "                node = queue.popleft()\n",
    "\n",
    "                # Insert based on direction\n",
    "                if left_to_right:\n",
    "                    level.append(node.val)\n",
    "                else:\n",
    "                    level.insert(0, node.val)  # reverse insert\n",
    "\n",
    "                if node.left:\n",
    "                    queue.append(node.left)\n",
    "                if node.right:\n",
    "                    queue.append(node.right)\n",
    "\n",
    "            result.append(level)\n",
    "            left_to_right = not left_to_right  # toggle direction\n",
    "\n",
    "        return result\n"
   ]
  },
  {
   "cell_type": "code",
   "execution_count": 63,
   "id": "6a369024",
   "metadata": {},
   "outputs": [
    {
     "name": "stdout",
     "output_type": "stream",
     "text": [
      "[[3], [20, 9], [15, 7]]\n"
     ]
    }
   ],
   "source": [
    "# Output:\n",
    "print(Solution().zigzagLevelOrder(TreeNode(3,\n",
    "        TreeNode(9),\n",
    "        TreeNode(20, TreeNode(15), TreeNode(7))\n",
    ")))  \n",
    "# ➞ [[3], [20, 9], [15, 7]]"
   ]
  },
  {
   "cell_type": "code",
   "execution_count": 64,
   "id": "685a5432",
   "metadata": {},
   "outputs": [],
   "source": [
    "#35 105. Construct Binary Tree from Preorder and Inorder"
   ]
  },
  {
   "cell_type": "code",
   "execution_count": 67,
   "id": "d4fd3e50",
   "metadata": {},
   "outputs": [
    {
     "data": {
      "text/plain": [
       "49"
      ]
     },
     "execution_count": 67,
     "metadata": {},
     "output_type": "execute_result"
    }
   ],
   "source": [
    "# 36 Container with most water \n",
    "class Solution:\n",
    "    def maxArea(self, heights: List[int]) -> int:\n",
    "        res = 0\n",
    "        l, r = 0, len(heights)-1\n",
    "\n",
    "        while l < r:\n",
    "            area = (r-l) * min(heights[l], heights[r])\n",
    "            res = max(res, area)\n",
    "\n",
    "            if heights[l] < heights[r]:\n",
    "                l +=1\n",
    "            else:\n",
    "                r -=1\n",
    "        return res\n",
    "height = [1,8,6,2,5,4,8,3,7]\n",
    "sol = Solution()\n",
    "sol.maxArea(height)"
   ]
  },
  {
   "cell_type": "code",
   "execution_count": 69,
   "id": "e505d9e9",
   "metadata": {},
   "outputs": [],
   "source": [
    "# 37 Flatten Binary Tree to Linked list\n",
    "\n",
    "class TreeNode:\n",
    "    def __init__(self, val=0, left=None, right=None):\n",
    "        self.val = val\n",
    "        self.left = left\n",
    "        self.right = right\n",
    "    \n",
    "class Solution:\n",
    "    def flatten(self, root):\n",
    "        self.prev = None #Tracks previously visited node\n",
    "\n",
    "        def helper(node):\n",
    "            if not node:\n",
    "                return \n",
    "            \n",
    "            helper(node.right)\n",
    "            helper(node.left)\n",
    "\n",
    "            node.right = self.prev\n",
    "            node.left = None\n",
    "            self.prev = node\n",
    "\n",
    "        helper(root)\n",
    "\n",
    "root = TreeNode(1,\n",
    "        TreeNode(2, TreeNode(3), TreeNode(4)),\n",
    "        TreeNode(5, None, TreeNode(6)))\n",
    "Solution().flatten(root)\n"
   ]
  },
  {
   "cell_type": "code",
   "execution_count": 70,
   "id": "9c71dc04",
   "metadata": {},
   "outputs": [
    {
     "name": "stdout",
     "output_type": "stream",
     "text": [
      "[1, 2, 3, 4, 5, 6]\n"
     ]
    }
   ],
   "source": [
    "def print_flattened_tree(root):\n",
    "    \"\"\"Print the flattened tree as a list from root to rightmost node.\"\"\"\n",
    "    result = []\n",
    "    while root:\n",
    "        result.append(root.val)\n",
    "        root = root.right\n",
    "    print(result)\n",
    "\n",
    "\n",
    "# Constructing the example tree: [1,2,5,3,4,null,6]\n",
    "root = TreeNode(1,\n",
    "    TreeNode(2,\n",
    "        TreeNode(3),\n",
    "        TreeNode(4)\n",
    "    ),\n",
    "    TreeNode(5,\n",
    "        None,\n",
    "        TreeNode(6)\n",
    "    )\n",
    ")\n",
    "\n",
    "# Flatten and print\n",
    "solution = Solution()\n",
    "solution.flatten(root)\n",
    "print_flattened_tree(root)"
   ]
  },
  {
   "cell_type": "code",
   "execution_count": 74,
   "id": "43affa9b",
   "metadata": {},
   "outputs": [
    {
     "data": {
      "text/plain": [
       "[['eat', 'tea', 'ate'], ['tan', 'nat'], ['bat']]"
      ]
     },
     "execution_count": 74,
     "metadata": {},
     "output_type": "execute_result"
    }
   ],
   "source": [
    "# 38 Group Anagrams\n",
    "\n",
    "from collections import defaultdict\n",
    "\n",
    "class Solution:\n",
    "    def groupAnagrams(self, strs: List[str]) -> List[List[str]]:\n",
    "        anagrams_map = defaultdict(list)\n",
    "\n",
    "        for word in strs:\n",
    "            key = tuple(sorted(word))\n",
    "            anagrams_map[key].append(word)\n",
    "        \n",
    "        return list(anagrams_map.values())\n",
    "    \n",
    "# Metric\tValue\n",
    "# Time\tO(n * k log k)\n",
    "strs = [\"eat\", \"tea\", \"tan\", \"ate\", \"nat\", \"bat\"]\n",
    "sol = Solution()\n",
    "sol.groupAnagrams(strs= strs)"
   ]
  },
  {
   "cell_type": "code",
   "execution_count": null,
   "id": "92c217a5",
   "metadata": {},
   "outputs": [],
   "source": [
    "class Solution:\n",
    "    def groupAnagrams(self, strs: List[str]) -> List[List[str]]:\n",
    "        # strs = [\"eat\",\"tea\",\"tan\",\"ate\",\"nat\",\"bat\"]\n",
    "\n",
    "        res = defaultdict(list)\n",
    "\n",
    "        for s in strs:\n",
    "            count = [0]*26\n",
    "            for c in s:\n",
    "                count[ord(c)-ord('a')] +=1\n",
    "            res[tuple(count)].append(s)\n",
    "\n",
    "        #print(\"keys\",res.keys())\n",
    "        return(list(res.values()))\n",
    "    \n",
    "strs = [\"eat\", \"tea\", \"tan\", \"ate\", \"nat\", \"bat\"]\n",
    "sol = Solution()\n",
    "sol.groupAnagrams(strs= strs)\n",
    "        "
   ]
  },
  {
   "cell_type": "code",
   "execution_count": 81,
   "id": "51c729fd",
   "metadata": {},
   "outputs": [
    {
     "name": "stdout",
     "output_type": "stream",
     "text": [
      "[1, 0, 0, 0, 1, 0, 0, 0, 0, 0, 0, 0, 0, 0, 0, 0, 0, 0, 0, 1, 0, 0, 0, 0, 0, 0]\n",
      "[1, 0, 0, 0, 2, 0, 0, 0, 0, 0, 0, 0, 0, 0, 0, 0, 0, 0, 0, 1, 0, 0, 0, 0, 0, 0]\n",
      "[1, 0, 0, 0, 0, 0, 0, 0, 0, 0, 0, 0, 0, 1, 0, 0, 0, 0, 0, 1, 0, 0, 0, 0, 0, 0]\n",
      "[1, 0, 0, 0, 2, 0, 0, 0, 0, 0, 0, 0, 0, 0, 0, 0, 0, 0, 0, 1, 0, 0, 0, 0, 0, 0]\n",
      "[1, 0, 0, 0, 0, 0, 0, 0, 0, 0, 0, 0, 0, 1, 0, 0, 0, 0, 0, 1, 0, 0, 0, 0, 0, 0]\n",
      "[1, 1, 0, 0, 0, 0, 0, 0, 0, 0, 0, 0, 0, 0, 0, 0, 0, 0, 0, 1, 0, 0, 0, 0, 0, 0]\n",
      "defaultdict(<class 'list'>, {(1, 0, 0, 0, 1, 0, 0, 0, 0, 0, 0, 0, 0, 0, 0, 0, 0, 0, 0, 1, 0, 0, 0, 0, 0, 0): ['eat'], (1, 0, 0, 0, 2, 0, 0, 0, 0, 0, 0, 0, 0, 0, 0, 0, 0, 0, 0, 1, 0, 0, 0, 0, 0, 0): ['teae', 'atee'], (1, 0, 0, 0, 0, 0, 0, 0, 0, 0, 0, 0, 0, 1, 0, 0, 0, 0, 0, 1, 0, 0, 0, 0, 0, 0): ['tan', 'nat'], (1, 1, 0, 0, 0, 0, 0, 0, 0, 0, 0, 0, 0, 0, 0, 0, 0, 0, 0, 1, 0, 0, 0, 0, 0, 0): ['bat']})\n"
     ]
    }
   ],
   "source": [
    "strs = [\"eat\", \"teae\", \"tan\", \"atee\", \"nat\", \"bat\"]\n",
    "\n",
    "res = defaultdict(list)\n",
    "for word in strs:\n",
    "    count = [0]*26\n",
    "    #print(count)\n",
    "    for char in word:\n",
    "        count[ord(char)-ord('a')] +=1\n",
    "    print(count)\n",
    "    res[tuple(count)].append(word)\n",
    "print(res)"
   ]
  },
  {
   "cell_type": "code",
   "execution_count": 79,
   "id": "b8729a20",
   "metadata": {},
   "outputs": [
    {
     "data": {
      "text/plain": [
       "4"
      ]
     },
     "execution_count": 79,
     "metadata": {},
     "output_type": "execute_result"
    }
   ],
   "source": [
    "ord('e') - ord('a')"
   ]
  },
  {
   "cell_type": "code",
   "execution_count": null,
   "id": "8556e087",
   "metadata": {},
   "outputs": [],
   "source": [
    "# 39 Implement Trie (Prefix Tree)\n",
    "class TrieNode:\n",
    "    def __init__(self):\n",
    "        self.children = {}\n",
    "        self.isEnd = False\n",
    "\n",
    "class Trie:\n",
    "    def __init__(self):\n",
    "        self.root = TrieNode()\n",
    "\n",
    "    def insert(self, word: str) -> None:\n",
    "        node = self.root\n",
    "        for char in word:\n",
    "            if char not in node.children:\n",
    "                node.children[char] = TrieNode()\n",
    "            node = node.children[char]\n",
    "        node.isEnd = True\n",
    "\n",
    "    def search(self, word: str) -> bool:\n",
    "        node = self._find_node(word)\n",
    "        return node is not None and node.isEnd\n",
    "\n",
    "    def startsWith(self, prefix: str) -> bool:\n",
    "        return self._find_node(prefix) is not None\n",
    "\n",
    "    def _find_node(self, prefix: str):\n",
    "        node = self.root\n",
    "        for char in prefix:\n",
    "            if char not in node.children:\n",
    "                return None\n",
    "            node = node.children[char]\n",
    "        return node\n"
   ]
  },
  {
   "cell_type": "code",
   "execution_count": 84,
   "id": "d6887f86",
   "metadata": {},
   "outputs": [
    {
     "name": "stdout",
     "output_type": "stream",
     "text": [
      "5\n"
     ]
    }
   ],
   "source": [
    "# 40 Kth Largest Element in an Array\n",
    "\n",
    "import random\n",
    "\n",
    "class Solution:\n",
    "    def findKthLargest(self, nums: List[int], k: int) -> int:\n",
    "        def partition(left, right):\n",
    "            pivot_idx = random.randint(left, right)\n",
    "            pivot = nums[pivot_idx]\n",
    "            \n",
    "            # Move pivot to the end\n",
    "            nums[pivot_idx], nums[right] = nums[right], nums[pivot_idx]\n",
    "            store_idx = left\n",
    "\n",
    "            for i in range(left, right):\n",
    "                if nums[i] > pivot:\n",
    "                    nums[store_idx], nums[i] = nums[i], nums[store_idx]\n",
    "                    store_idx += 1\n",
    "\n",
    "            nums[store_idx], nums[right] = nums[right], nums[store_idx]\n",
    "            return store_idx\n",
    "\n",
    "        left, right = 0, len(nums) - 1\n",
    "        k_index = k - 1  # kth largest means index k-1 after sorting descending\n",
    "\n",
    "        while True:\n",
    "            pos = partition(left, right)\n",
    "            if pos == k_index:\n",
    "                return nums[pos]\n",
    "            elif pos < k_index:\n",
    "                left = pos + 1\n",
    "            else:\n",
    "                right = pos - 1\n",
    "\n",
    "nums = [3,2,1,5,6,4]\n",
    "k = 2\n",
    "\n",
    "# nums = [1]*1000000 + [2, 3, 4, 5,-5,-4,-3,-2,-1]\n",
    "# k = 50000\n",
    "\n",
    "s = Solution()\n",
    "#print(s.findKthLargest([3,2,1,5,5,6, 6,4], 2)) \n",
    "\n",
    "print(s.findKthLargest(nums, k)) "
   ]
  },
  {
   "cell_type": "code",
   "execution_count": 85,
   "id": "84b7efe9",
   "metadata": {},
   "outputs": [
    {
     "name": "stdout",
     "output_type": "stream",
     "text": [
      "5\n"
     ]
    }
   ],
   "source": [
    "import heapq\n",
    "\n",
    "class Solution:\n",
    "    def findKthLargest(self, nums: List[int], k: int) -> int:\n",
    "        min_heap = nums[:k]\n",
    "        heapq.heapify(min_heap)\n",
    "\n",
    "        for num in nums[k:]:\n",
    "            if num > min_heap[0]:\n",
    "                heapq.heappop(min_heap)\n",
    "                heapq.heappush(min_heap, num)\n",
    "\n",
    "        return min_heap[0]\n",
    "\n",
    "nums = [3,2,1,5,6,4]\n",
    "k = 2\n",
    "s = Solution()\n",
    "print(s.findKthLargest(nums, k)) "
   ]
  },
  {
   "cell_type": "code",
   "execution_count": 87,
   "id": "45b2a2dd",
   "metadata": {},
   "outputs": [
    {
     "name": "stdout",
     "output_type": "stream",
     "text": [
      "aba\n",
      "bb\n",
      "a\n",
      "racecar\n",
      "\n",
      "e\n",
      "aaaaa\n"
     ]
    }
   ],
   "source": [
    "#41 Longest Palindromic string \n",
    "\n",
    "class Solution:\n",
    "    def longestPalindrome(self, s: str) -> str:\n",
    "        if len(s) < 2:\n",
    "            return s\n",
    "\n",
    "        start, end = 0, 0\n",
    "\n",
    "        for i in range(len(s)):\n",
    "            # Try to expand from single character (odd-length)\n",
    "            len1 = self.expand_from_center(s, i, i)\n",
    "            # Try to expand from a pair of characters (even-length)\n",
    "            len2 = self.expand_from_center(s, i, i + 1)\n",
    "            max_len = max(len1, len2)\n",
    "\n",
    "            if max_len > end - start:\n",
    "                # Update the start and end indices of longest palindrome\n",
    "                start = i - (max_len - 1) // 2\n",
    "                end = i + max_len // 2\n",
    "\n",
    "        return s[start:end + 1]\n",
    "\n",
    "    def expand_from_center(self, s, left, right):\n",
    "        # Expand while it's a palindrome\n",
    "        while left >= 0 and right < len(s) and s[left] == s[right]:\n",
    "            left -= 1\n",
    "            right += 1\n",
    "        return right - left - 1  # Length of palindrome\n",
    "\n",
    "\n",
    "s = Solution()\n",
    "\n",
    "# Positive cases\n",
    "print(s.longestPalindrome(\"babad\"))  # \"bab\" or \"aba\"\n",
    "print(s.longestPalindrome(\"cbbd\"))   # \"bb\"\n",
    "print(s.longestPalindrome(\"a\"))      # \"a\"\n",
    "print(s.longestPalindrome(\"racecar\")) # \"racecar\"\n",
    "\n",
    "# Negative / Edge cases\n",
    "print(s.longestPalindrome(\"\"))        # \"\"\n",
    "print(s.longestPalindrome(\"abcde\"))   # any single char\n",
    "print(s.longestPalindrome(\"aaaaa\"))   # \"aaaaa\"\n"
   ]
  },
  {
   "cell_type": "code",
   "execution_count": 89,
   "id": "673f7771",
   "metadata": {},
   "outputs": [
    {
     "name": "stdout",
     "output_type": "stream",
     "text": [
      "Input: 'abcabcbb', Output: 3\n",
      "Input: 'bbbbb', Output: 1\n",
      "Input: 'pwwkew', Output: 3\n",
      "Input: '', Output: 0\n",
      "Input: ' ', Output: 1\n",
      "Input: 'au', Output: 2\n",
      "Input: 'dvdf', Output: 3\n"
     ]
    }
   ],
   "source": [
    "# 42 3. Longest Substring Without Repeating Characters\n",
    "class Solution:\n",
    "    def lenOfLongestSubstring(self, s: str) -> int:\n",
    "        char_index = {}\n",
    "        start = max_len = 0\n",
    "\n",
    "        for end in range(len(s)):\n",
    "            if s[end] in char_index and char_index[s[end]] >= start:\n",
    "                start = char_index[s[end]] + 1  # move start past the duplicate\n",
    "            char_index[s[end]] = end  # update the last seen index\n",
    "            max_len = max(max_len, end - start + 1)\n",
    "\n",
    "        return max_len\n",
    "\n",
    "# Driver code\n",
    "if __name__ == \"__main__\":\n",
    "    sol = Solution()\n",
    "\n",
    "    test_cases = [\n",
    "        \"abcabcbb\",   # Output: 3 (\"abc\")\n",
    "        \"bbbbb\",      # Output: 1 (\"b\")\n",
    "        \"pwwkew\",     # Output: 3 (\"wke\")\n",
    "        \"\",           # Output: 0\n",
    "        \" \",          # Output: 1\n",
    "        \"au\",         # Output: 2\n",
    "        \"dvdf\",       # Output: 3 (\"vdf\")\n",
    "    ]\n",
    "\n",
    "    for s in test_cases:\n",
    "        print(f\"Input: {s!r}, Output: {sol.lenOfLongestSubstring(s)}\")"
   ]
  },
  {
   "cell_type": "code",
   "execution_count": 90,
   "id": "b07a05a7",
   "metadata": {},
   "outputs": [
    {
     "name": "stdout",
     "output_type": "stream",
     "text": [
      "Input: [['1', '0', '1', '0', '0'], ['1', '0', '1', '1', '1'], ['1', '1', '1', '1', '1'], ['1', '0', '0', '1', '0']]\n",
      "Output: 4, Expected: 4\n",
      "\n",
      "Input: [['0', '1'], ['1', '0']]\n",
      "Output: 1, Expected: 1\n",
      "\n",
      "Input: [['0']]\n",
      "Output: 0, Expected: 0\n",
      "\n",
      "Input: [['1', '1', '1', '1'], ['1', '1', '1', '1'], ['1', '1', '1', '1']]\n",
      "Output: 9, Expected: 9\n",
      "\n"
     ]
    }
   ],
   "source": [
    "# 43 Maximal Square\n",
    "def maximalSquare(matrix):\n",
    "    if not matrix or not matrix[0]:\n",
    "        return 0\n",
    "\n",
    "    rows, cols = len(matrix), len(matrix[0])\n",
    "    dp = [[0] * cols for _ in range(rows)]\n",
    "    max_side = 0\n",
    "\n",
    "    for i in range(rows):\n",
    "        for j in range(cols):\n",
    "            if matrix[i][j] == \"1\":\n",
    "                if i == 0 or j == 0:\n",
    "                    dp[i][j] = 1\n",
    "                else:\n",
    "                    dp[i][j] = min(\n",
    "                        dp[i-1][j],\n",
    "                        dp[i][j-1],\n",
    "                        dp[i-1][j-1]\n",
    "                    ) + 1\n",
    "                max_side = max(max_side, dp[i][j])\n",
    "\n",
    "    return max_side * max_side\n",
    "\n",
    "\n",
    "# Driver Code\n",
    "if __name__ == \"__main__\":\n",
    "    test_cases = [\n",
    "        ([[\"1\",\"0\",\"1\",\"0\",\"0\"],\n",
    "          [\"1\",\"0\",\"1\",\"1\",\"1\"],\n",
    "          [\"1\",\"1\",\"1\",\"1\",\"1\"],\n",
    "          [\"1\",\"0\",\"0\",\"1\",\"0\"]], 4),\n",
    "\n",
    "        ([[\"0\",\"1\"],\n",
    "          [\"1\",\"0\"]], 1),\n",
    "\n",
    "        ([[\"0\"]], 0),\n",
    "\n",
    "        ([[\"1\",\"1\",\"1\",\"1\"],\n",
    "          [\"1\",\"1\",\"1\",\"1\"],\n",
    "          [\"1\",\"1\",\"1\",\"1\"]], 9),\n",
    "    ]\n",
    "\n",
    "    for matrix, expected in test_cases:\n",
    "        result = maximalSquare(matrix)\n",
    "        print(f\"Input: {matrix}\\nOutput: {result}, Expected: {expected}\\n\")\n"
   ]
  },
  {
   "cell_type": "code",
   "execution_count": null,
   "id": "66f5468c",
   "metadata": {},
   "outputs": [
    {
     "name": "stdout",
     "output_type": "stream",
     "text": [
      "Test Case 1: Pass ✅ | Output: 6, Expected: 6\n",
      "Test Case 2: Pass ✅ | Output: 0, Expected: 0\n",
      "Test Case 3: Pass ✅ | Output: 2, Expected: 2\n",
      "Test Case 4: Pass ✅ | Output: 24, Expected: 24\n",
      "Test Case 5: Fail ❌ | Output: 24, Expected: 240\n"
     ]
    }
   ],
   "source": [
    "# 44 Maximum sub array\n",
    "\n",
    "\n",
    "def maxProduct(nums):\n",
    "    if not nums:\n",
    "        return 0\n",
    "\n",
    "    max_prod = min_prod = result = nums[0]\n",
    "\n",
    "    for num in nums[1:]:\n",
    "        if num < 0:\n",
    "            max_prod, min_prod = min_prod, max_prod\n",
    "\n",
    "        max_prod = max(num, max_prod * num)\n",
    "        min_prod = min(num, min_prod * num)\n",
    "\n",
    "        result = max(result, max_prod)\n",
    "\n",
    "    return result\n",
    "\n",
    "\n",
    "# --------- DRIVER CODE ------------\n",
    "if __name__ == \"__main__\":\n",
    "    test_cases = [\n",
    "        ([2, 3, -2, 4], 6),\n",
    "        ([-2, 0, -1], 0),\n",
    "        ([0, 2], 2),\n",
    "        ([-2, 3, -4], 24),\n",
    "        ([2, -5, -2, -4, 3], 240)\n",
    "    ]\n",
    "\n",
    "    for i, (nums, expected) in enumerate(test_cases):\n",
    "        result = maxProduct(nums)\n",
    "        print(f\"Test Case {i + 1}: {'Pass ✅' if result == expected else 'Fail ❌'} | Output: {result}, Expected: {expected}\")\n"
   ]
  },
  {
   "cell_type": "code",
   "execution_count": 92,
   "id": "b40d5e32",
   "metadata": {},
   "outputs": [
    {
     "data": {
      "text/plain": [
       "24"
      ]
     },
     "execution_count": 92,
     "metadata": {},
     "output_type": "execute_result"
    }
   ],
   "source": [
    "class Solution:\n",
    "    def maxProduct(self, nums: List[int]) -> int:\n",
    "        res = max(nums)\n",
    "        curMin, curMax = 1,1\n",
    "        \n",
    "        for n in nums:\n",
    "            if n == 0:\n",
    "                curMin, curMax = 1,1\n",
    "                continue\n",
    "            tmp = curMax * n\n",
    "            curMax = max(n * curMax, n * curMin, n)\n",
    "            curMin = min(tmp, n * curMin, n)\n",
    "            res = max(res, curMax, curMin)\n",
    "        return res\n",
    "sol = Solution()\n",
    "sol.maxProduct([-2, 3, -4])      "
   ]
  },
  {
   "cell_type": "code",
   "execution_count": null,
   "id": "fe9af1a2",
   "metadata": {},
   "outputs": [
    {
     "name": "stdout",
     "output_type": "stream",
     "text": [
      "BANC\n",
      "a\n"
     ]
    }
   ],
   "source": [
    "# 45 Minimum window substring \n",
    "from collections import Counter\n",
    "\n",
    "def minWindow(s: str, t: str) -> str:\n",
    "    if not s or not t:\n",
    "        return \"\"\n",
    "\n",
    "    t_count = Counter(t)  # Frequency map of characters in t\n",
    "    window_count = {}     # Current window character frequencies\n",
    "    have, need = 0, len(t_count)  # How many unique chars matched\n",
    "\n",
    "    res = [-1, -1]\n",
    "    res_len = float('inf')\n",
    "    l = 0  # Left pointer of window\n",
    "\n",
    "    for r in range(len(s)):  # r is the right pointer\n",
    "        char = s[r]\n",
    "        window_count[char] = window_count.get(char, 0) + 1\n",
    "\n",
    "        if char in t_count and window_count[char] == t_count[char]:\n",
    "            have += 1\n",
    "\n",
    "        while have == need:\n",
    "            # Update result if this window is smaller\n",
    "            if (r - l + 1) < res_len:\n",
    "                res = [l, r]\n",
    "                res_len = r - l + 1\n",
    "\n",
    "            # Shrink from the left\n",
    "            window_count[s[l]] -= 1\n",
    "            if s[l] in t_count and window_count[s[l]] < t_count[s[l]]:\n",
    "                have -= 1\n",
    "            l += 1\n",
    "\n",
    "    l, r = res\n",
    "    return s[l:r+1] if res_len != float('inf') else \"\"\n",
    "print(minWindow(\"ADOBECODEBANC\", \"ABC\"))  # Output: \"BANC\"\n",
    "print(minWindow(\"a\", \"a\"))                # Output: \"a\""
   ]
  },
  {
   "cell_type": "code",
   "execution_count": null,
   "id": "47bad4d1",
   "metadata": {},
   "outputs": [],
   "source": [
    "# 46. Number of Islands\n",
    "# Description: Given a 2D grid map of '1's (land) and '0's (water), count the number of islands. This problem tests your ability to use depth-first search (DFS) or breadth-first search (BFS).​\n",
    "\n",
    "\n",
    "\n",
    "\n",
    "print(\"Hello\")\n",
    "\n"
   ]
  },
  {
   "cell_type": "code",
   "execution_count": null,
   "id": "63adcf44",
   "metadata": {},
   "outputs": [],
   "source": [
    "# 47. Permutations\n",
    "# Description: Given a collection of distinct integers, return all possible permutations. This problem evaluates your understanding of backtracking.​\n"
   ]
  },
  {
   "cell_type": "code",
   "execution_count": null,
   "id": "7b4146b6",
   "metadata": {},
   "outputs": [],
   "source": [
    "# 48. Remove Nth Node From End of List\n",
    "# Description: Given a linked list, remove the n-th node from the end of the list and return its head. This problem tests your ability to use two-pointer techniques.​\n"
   ]
  },
  {
   "cell_type": "code",
   "execution_count": null,
   "id": "27e2751d",
   "metadata": {},
   "outputs": [],
   "source": [
    "\n",
    "# 49. Rotate Image\n",
    "# Description: You are given an n x n 2D matrix representing an image. Rotate the image by 90 degrees (clockwise). This problem assesses your understanding of matrix manipulation.​\n"
   ]
  },
  {
   "cell_type": "code",
   "execution_count": null,
   "id": "59826987",
   "metadata": {},
   "outputs": [],
   "source": [
    "# 50. Search a 2D Matrix\n",
    "# Description: Write an efficient algorithm that searches for a value in an m x n matrix. This problem tests your ability to apply binary search in a 2D matrix.​\n"
   ]
  },
  {
   "cell_type": "code",
   "execution_count": null,
   "id": "729ad891",
   "metadata": {},
   "outputs": [],
   "source": [
    "\n",
    "# 51. Search in Rotated Sorted Array\n",
    "# Description: Suppose an array sorted in ascending order is rotated at some pivot unknown to you beforehand. You need to search for a target value. This problem evaluates your understanding of binary search in rotated arrays.​\n"
   ]
  },
  {
   "cell_type": "code",
   "execution_count": null,
   "id": "6c74449f",
   "metadata": {},
   "outputs": [],
   "source": [
    "\n",
    "# 52. Subsets\n",
    "# Description: Given a set of distinct integers, nums, return all possible subsets (the power set). This problem tests your ability to use backtracking.​\n"
   ]
  },
  {
   "cell_type": "code",
   "execution_count": null,
   "id": "50ea34b4",
   "metadata": {},
   "outputs": [],
   "source": [
    "# 53. Top K Frequent Elements\n",
    "# Description: Given a non-empty array of integers, return the k most frequent elements. This problem assesses your ability to use hash maps and heaps.​\n"
   ]
  },
  {
   "cell_type": "code",
   "execution_count": null,
   "id": "175949fe",
   "metadata": {},
   "outputs": [],
   "source": [
    "# 54. Trapping Rain Water\n",
    "# Description: Given n non-negative integers representing the elevation of each bar, compute how much water it is able to trap after raining. This problem evaluates your understanding of dynamic programming and two-pointer techniques.​\n"
   ]
  },
  {
   "cell_type": "code",
   "execution_count": null,
   "id": "c44f2877",
   "metadata": {},
   "outputs": [],
   "source": [
    "# 55. Two Sum II - Input Array Is Sorted\n",
    "# Description: Given a sorted array, return the indices of the two numbers that add up to a target value. Uses the two-pointer approach for an efficient O(n) solution.\n"
   ]
  },
  {
   "cell_type": "code",
   "execution_count": null,
   "id": "3a35953b",
   "metadata": {},
   "outputs": [],
   "source": [
    "\n",
    "# 56. Unique Paths\n",
    "# Description: A robot can only move right or down in a m x n grid. Count how many unique paths exist from the top-left to bottom-right. A classic dynamic programming problem.\n"
   ]
  },
  {
   "cell_type": "code",
   "execution_count": null,
   "id": "d750311a",
   "metadata": {},
   "outputs": [],
   "source": [
    "\n",
    "# 57. Valid Sudoku\n",
    "# Description: Check whether a partially filled 9x9 Sudoku board is valid according to Sudoku rules. Focuses on set usage and checking row, column, and box constraints.\n"
   ]
  },
  {
   "cell_type": "code",
   "execution_count": null,
   "id": "db4193d7",
   "metadata": {},
   "outputs": [],
   "source": [
    "# 58. Word Break\n",
    "# Description: Given a string and a dictionary of words, determine if the string can be segmented into a sequence of one or more dictionary words. Classic dynamic programming challenge.\n"
   ]
  },
  {
   "cell_type": "code",
   "execution_count": null,
   "id": "f1e45461",
   "metadata": {},
   "outputs": [],
   "source": [
    "\n",
    "# 59. Word Search\n",
    "# Description: Given a 2D board and a word, determine if the word exists in the grid. It uses backtracking and DFS to search in four directions.\n"
   ]
  },
  {
   "cell_type": "code",
   "execution_count": null,
   "id": "dd664539",
   "metadata": {},
   "outputs": [],
   "source": [
    "\n",
    "# 60. Add Two Numbers\n",
    "# Description: Add two non-empty linked lists representing non-negative integers. The digits are stored in reverse order. Tests your linked list manipulation skills.\n"
   ]
  },
  {
   "cell_type": "code",
   "execution_count": null,
   "id": "cadf85ce",
   "metadata": {},
   "outputs": [],
   "source": [
    "\n",
    "# 61. Basic Calculator\n",
    "# Description: Implement a basic calculator to evaluate a simple string expression with integers, +, -, parentheses. Requires understanding of stack-based parsing.\n"
   ]
  },
  {
   "cell_type": "code",
   "execution_count": null,
   "id": "24f498f7",
   "metadata": {},
   "outputs": [],
   "source": [
    "# 62. Coin Change\n",
    "# Description: Given coins of different denominations and a total amount, compute the fewest coins needed. Classic dynamic programming problem.\n"
   ]
  },
  {
   "cell_type": "code",
   "execution_count": null,
   "id": "d6577cc3",
   "metadata": {},
   "outputs": [],
   "source": [
    "\n",
    "# 63. Combination Sum\n",
    "# Description: Find all unique combinations of numbers that sum up to a target. You may use each number unlimited times. Uses backtracking.\n"
   ]
  },
  {
   "cell_type": "code",
   "execution_count": null,
   "id": "2d188b04",
   "metadata": {},
   "outputs": [],
   "source": [
    "\n",
    "# 64. Copy List with Random Pointer\n",
    "# Description: Clone a linked list with a random pointer in O(n) time and space. Requires careful handling of pointers and hashing.\n"
   ]
  },
  {
   "cell_type": "code",
   "execution_count": null,
   "id": "0f38eee9",
   "metadata": {},
   "outputs": [],
   "source": [
    "# 65. Course Schedule\n",
    "# Description: Given course prerequisites, determine if it’s possible to finish all courses. Detects cycles in a graph using topological sort / DFS.\n"
   ]
  },
  {
   "cell_type": "code",
   "execution_count": null,
   "id": "0d7be540",
   "metadata": {},
   "outputs": [],
   "source": [
    "\n",
    "# 66. Design Add and Search Words Data Structure\n",
    "# Description: Design a data structure that supports adding new words and searching with wildcards (e.g., \".\"). Tests Trie and recursive search logic.\n"
   ]
  },
  {
   "cell_type": "code",
   "execution_count": null,
   "id": "5c88679b",
   "metadata": {},
   "outputs": [],
   "source": [
    "\n",
    "\n",
    "# 67. Merge Sorted Array\n",
    "# Description: Merge two sorted arrays into one sorted array in-place. Tests efficient merging logic and pointer techniques.\n"
   ]
  },
  {
   "cell_type": "code",
   "execution_count": null,
   "id": "52f4a707",
   "metadata": {},
   "outputs": [],
   "source": [
    "# 68. Find Median from Data Stream\n",
    "# Description: Add numbers to a data stream and get the median at any time. Uses two heaps: a max-heap and a min-heap for balance.\n"
   ]
  },
  {
   "cell_type": "code",
   "execution_count": null,
   "id": "a8dd59d7",
   "metadata": {},
   "outputs": [],
   "source": [
    "# 69. Game of Life\n",
    "# Description: Implement Conway's Game of Life for a 2D board. Requires understanding of state transitions and in-place updates.\n"
   ]
  },
  {
   "cell_type": "code",
   "execution_count": null,
   "id": "cafb853d",
   "metadata": {},
   "outputs": [],
   "source": [
    "\n",
    "# 70. Jump Game\n",
    "# Description: Given an array where each element represents your max jump length, determine if you can reach the last index. Solved using greedy or DP.\n"
   ]
  },
  {
   "cell_type": "code",
   "execution_count": null,
   "id": "e576df00",
   "metadata": {},
   "outputs": [],
   "source": [
    "\n",
    "# 71. Letter Combinations of a Phone Number\n",
    "# Description: Return all possible letter combinations that the number could represent (like a phone keypad). Uses backtracking.\n"
   ]
  },
  {
   "cell_type": "code",
   "execution_count": null,
   "id": "215c8092",
   "metadata": {},
   "outputs": [],
   "source": [
    "\n",
    "# 72. Longest Consecutive Sequence\n",
    "# Description: Find the length of the longest consecutive elements sequence. Solved in O(n) using hash sets.\n"
   ]
  },
  {
   "cell_type": "code",
   "execution_count": null,
   "id": "3597c7dc",
   "metadata": {},
   "outputs": [],
   "source": [
    "\n",
    "# 73. Longest Increasing Subsequence\n",
    "# Description: Find the length of the longest increasing subsequence in an array. Solved with dynamic programming or binary search for optimization.\n"
   ]
  },
  {
   "cell_type": "code",
   "execution_count": null,
   "id": "f52b6b5c",
   "metadata": {},
   "outputs": [],
   "source": [
    "\n",
    "# 74. Median of Two Sorted Arrays\n",
    "# Description: Find the median of two sorted arrays in O(log(min(n, m))) time. Involves binary search and partitioning logic.\n"
   ]
  },
  {
   "cell_type": "code",
   "execution_count": null,
   "id": "ebbcfa98",
   "metadata": {},
   "outputs": [],
   "source": [
    "\n",
    "# 75. Merge k Sorted Lists\n",
    "# Description: Merge k sorted linked lists and return one sorted list. Uses min-heap (priority queue) for efficient merging.\n"
   ]
  },
  {
   "cell_type": "code",
   "execution_count": 1,
   "id": "463fab95",
   "metadata": {},
   "outputs": [],
   "source": [
    "# 76. Minimum Path Sum\n",
    "# Description: Find the path with the minimum sum from top-left to bottom-right in a grid. Solved using dynamic programming.\n",
    "\n",
    "# 77. Word Search II\n",
    "# Description: Like Word Search, but with a dictionary of words. Solve using Trie + DFS to optimize searching.\n",
    "\n",
    "# 78. Reverse Nodes in k-Group\n",
    "# Description: Reverse nodes in a linked list k at a time. Requires careful handling of pointer updates and recursive thinking.\n",
    "\n",
    "# 79. Course Schedule II\n",
    "# Description: Like Course Schedule, but you must return the course order. Uses topological sorting.\n",
    "\n",
    "# 80. Remove Element\n",
    "# Description: Remove all instances of a value in-place from an array and return the new length. Tests in-place array manipulation.\n",
    "\n",
    "# 81. Rotate Array\n",
    "# Description: Rotate an array to the right by k steps. Can be done with reverse operations or cyclic replacements.\n",
    "\n",
    "# 82. Bitwise AND of Numbers Range\n",
    "# Description: Compute bitwise AND of all numbers in a given range. Requires bit manipulation and pattern observation.\n",
    "\n",
    "# 83. Palindrome Number\n",
    "# Description: Check if an integer is a palindrome. Do it without converting to a string for an extra challenge.\n",
    "\n",
    "# 84. Plus One\n",
    "# Description: Add one to an integer represented as an array of digits. Simple array manipulation task.\n",
    "\n",
    "# 85. Sqrt(x)\n",
    "# Description: Compute the integer part of the square root of x. Use binary search to find the solution efficiently.\n",
    "\n",
    "# 86. Pow(x, n)\n",
    "# Description: Implement x raised to the power n (xⁿ). Solved efficiently using fast exponentiation.\n",
    "\n",
    "# 87. Construct Binary Tree from Inorder and Postorder Traversal\n",
    "# Description: Construct a binary tree from its inorder and postorder traversals. Similar to preorder/inorder construction, but order reversed.\n",
    "\n",
    "# 88. Path Sum\n",
    "# Description: Determine if the binary tree has a root-to-leaf path summing to a given value. Uses DFS and recursion.\n",
    "\n",
    "# 89. Binary Tree Right Side View\n",
    "# Description: Return the values of nodes visible from the right side of a binary tree. Solved via level-order traversal.\n",
    "\n",
    "# 90. Binary Tree Level Order Traversal\n",
    "# Description: Return level-order (breadth-first) traversal of a binary tree. Uses queues for traversal.\n",
    "\n",
    "# 91. Minimum Absolute Difference in BST\n",
    "# Description: Find the minimum absolute difference between values of any two nodes in a BST. Use in-order traversal for sorted order.\n",
    "\n",
    "# 92. Surrounded Regions\n",
    "# Description: Flip all 'O's to 'X's that are surrounded by 'X's. Uses DFS/BFS with boundary checks.\n",
    "\n",
    "# 93. Clone Graph\n",
    "# Description: Deep copy a graph. Requires understanding of DFS with visited tracking using hash maps.\n",
    "\n",
    "# 94. Evaluate Division\n",
    "# Description: Given equations like a/b = 2.0, evaluate queries. Solved with DFS on graphs or Union-Find.\n",
    "\n",
    "# 95. Generate Parentheses\n",
    "# Description: Generate all combinations of well-formed parentheses for a given number of pairs. Classic backtracking problem.\n",
    "\n",
    "# 96. Sort List\n",
    "# Description: Sort a linked list in O(n log n) time and constant space. Typically solved using merge sort.\n",
    "\n",
    "# 97. Maximum Sum Circular Subarray\n",
    "# Description: Given a circular array, find the subarray with the maximum sum. Uses Kadane’s algorithm with a twist.\n",
    "\n",
    "# 98. Find Peak Element\n",
    "# Description: Find a peak element in the array (greater than neighbors). Solved with binary search for O(log n) efficiency.\n",
    "\n",
    "# 99. Find Minimum in Rotated Sorted Array\n",
    "# Description: Find the minimum element in a rotated sorted array. Uses binary search.\n",
    "\n",
    "# 100. Remove Duplicates from Sorted Array\n",
    "# Description: Remove duplicates in-place from a sorted array and return the new length. Uses the two-pointer technique."
   ]
  },
  {
   "cell_type": "code",
   "execution_count": null,
   "id": "269eed07",
   "metadata": {},
   "outputs": [],
   "source": []
  },
  {
   "cell_type": "code",
   "execution_count": null,
   "id": "1f1670db",
   "metadata": {},
   "outputs": [],
   "source": []
  },
  {
   "cell_type": "code",
   "execution_count": null,
   "id": "d226052d",
   "metadata": {},
   "outputs": [],
   "source": []
  }
 ],
 "metadata": {
  "kernelspec": {
   "display_name": "Python 3",
   "language": "python",
   "name": "python3"
  },
  "language_info": {
   "codemirror_mode": {
    "name": "ipython",
    "version": 3
   },
   "file_extension": ".py",
   "mimetype": "text/x-python",
   "name": "python",
   "nbconvert_exporter": "python",
   "pygments_lexer": "ipython3",
   "version": "3.11.2"
  }
 },
 "nbformat": 4,
 "nbformat_minor": 5
}
