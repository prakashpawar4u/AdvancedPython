{
 "cells": [
  {
   "cell_type": "markdown",
   "metadata": {},
   "source": [
    "1. Reverse a linked list.\n",
    "2. Find the middle element of a linked list.\n",
    "3. Implement a stack using arrays/linked list.\n",
    "4. Implement a queue using arrays/linked list.\n",
    "5. Find the factorial of a number using recursion.\n",
    "6. Implement binary search in an array.\n",
    "7. Find the largest/smallest element in an array.\n",
    "8. Implement merge sort.\n",
    "9. Implement quick sort.\n",
    "10. Detect a cycle in a linked list.\n",
    "11. Find the intersection point of two linked lists.\n",
    "12. Check if a binary tree is a binary search tree (BST).\n",
    "13. Print all leaf nodes of a binary tree.\n",
    "14. Reverse a binary tree.\n",
    "15. Find the height of a binary tree.\n",
    "16. Implement depth-first search (DFS) on a graph.\n",
    "17. Implement breadth-first search (BFS) on a graph.\n",
    "18. Check if a graph is connected.\n",
    "19. Implement Dijkstra's algorithm for shortest path.\n",
    "20. Implement Prim's algorithm for minimum spanning tree.\n",
    "21. Implement Kruskal's algorithm for minimum spanning tree.\n",
    "22. Find the longest common subsequence of two strings.\n",
    "23. Find the longest increasing subsequence of an array.\n",
    "24. Implement the Knuth–Morris–Pratt (KMP) algorithm for string matching.\n",
    "25. Implement the Rabin-Karp algorithm for string matching.\n",
    "26. Check if a string is a palindrome.\n",
    "27. Check if two strings are anagrams of each other.\n",
    "28. Find the next greater element in an array.\n",
    "29. Find the kth smallest/largest element in an array.\n",
    "30. Find the median of two sorted arrays.\n",
    "31. Implement a trie (prefix tree).\n",
    "32. Find all subsets of a set.\n",
    "33. Find all permutations of a string.\n",
    "34. Implement the Josephus Problem.\n",
    "35. Implement an LRU (Least Recently Used) Cache.\n",
    "36. Find the longest palindrome substring in a string.\n",
    "37. Implement a priority queue.\n",
    "38. Implement a hashmap (dictionary).\n",
    "39. Count the number of inversions in an array.\n",
    "40. Find the shortest path in a maze."
   ]
  },
  {
   "cell_type": "code",
   "execution_count": null,
   "metadata": {},
   "outputs": [],
   "source": [
    "#1. Reverse a linked list\n",
    "class Node:\n",
    "    def __init__(self, data):\n",
    "        self.key = data\n",
    "        self.next = None\n",
    "    \n",
    "class linkedList:\n",
    "    def __init__(self):\n",
    "        self.head = None\n",
    "    \n",
    "    def append(self, data):\n",
    "        new_node = Node(data)\n",
    "        if not self.head:\n",
    "            self.head = new_node\n",
    "        \n",
    "        else:\n",
    "            last = self.head\n",
    "            while last.next:\n",
    "                last = last.next\n",
    "            last.next = new_node\n",
    "\n",
    "    def reverse_list(self, curr, prev = None):\n",
    "        if curr == None:\n",
    "            return prev\n",
    "        \n",
    "        next = curr.next\n",
    "        curr.next = prev\n",
    "\n",
    "        return self.reveseList(next, curr)\n",
    "    \n",
    "    \n",
    "        \n",
    "    \n",
    "    def printlist(self):\n",
    "        curr = self.head\n",
    "        while curr:\n",
    "            print(curr.key, end=\" \")\n",
    "            curr = curr.next\n",
    "        print(\"None\")\n",
    "\n",
    "    def reverse(self):\n",
    "        self.head = self.reverseList(self.head)\n"
   ]
  },
  {
   "cell_type": "code",
   "execution_count": null,
   "metadata": {},
   "outputs": [],
   "source": [
    "# 2 Find middle eleement of a linked list\n",
    "\n",
    "from typing import Optional\n",
    "\n",
    "class Node:\n",
    "    def __init__(self, data: int):\n",
    "        self.data: int = data\n",
    "        self.next: Optional['Node'] = None  # 'Optional' because the last node points to None\n",
    "\n",
    "def find_middle(head: Optional[Node]) -> Optional[int]:\n",
    "    \"\"\"\n",
    "    Returns the middle element's value of a singly linked list.\n",
    "    If the list is empty, returns None.\n",
    "    \"\"\"\n",
    "    if not head:\n",
    "        return None\n",
    "\n",
    "    slow: Node = head\n",
    "    fast: Node = head\n",
    "\n",
    "    while fast and fast.next:\n",
    "        slow = slow.next\n",
    "        fast = fast.next.next\n",
    "\n",
    "    return slow.data\n"
   ]
  },
  {
   "cell_type": "code",
   "execution_count": 10,
   "metadata": {},
   "outputs": [],
   "source": [
    "# 3. Implement a stack using arrays/linked list.\n",
    "class StackArray:\n",
    "    def __init__(self):\n",
    "        self.stack = []\n",
    "\n",
    "    def push(self, value: int) -> None:\n",
    "        \"\"\"Push a value onto the stack.\"\"\"\n",
    "        self.stack.append(value)  # O(1)\n",
    "\n",
    "    def pop(self) -> int:\n",
    "        \"\"\"Remove and return the top element. Raises IndexError if empty.\"\"\"\n",
    "        if self.is_empty():\n",
    "            raise IndexError(\"Pop from empty stack\")\n",
    "        return self.stack.pop()  # O(1)\n",
    "\n",
    "    def peek(self) -> int:\n",
    "        \"\"\"Return the top element without removing it.\"\"\"\n",
    "        if self.is_empty():\n",
    "            raise IndexError(\"Peek from empty stack\")\n",
    "        return self.stack[-1]  # O(1)\n",
    "\n",
    "    def is_empty(self) -> bool:\n",
    "        \"\"\"Check if the stack is empty.\"\"\"\n",
    "        return len(self.stack) == 0\n"
   ]
  },
  {
   "cell_type": "code",
   "execution_count": 12,
   "metadata": {},
   "outputs": [
    {
     "name": "stdout",
     "output_type": "stream",
     "text": [
      "Top element: 20\n",
      "Popped: 20\n",
      "Is empty? False\n"
     ]
    }
   ],
   "source": [
    "s = StackArray()  # or StackLinkedList()\n",
    "s.push(10)\n",
    "s.push(20)\n",
    "print(\"Top element:\", s.peek())  # 20\n",
    "print(\"Popped:\", s.pop())        # 20\n",
    "print(\"Is empty?\", s.is_empty()) # False"
   ]
  },
  {
   "cell_type": "code",
   "execution_count": null,
   "metadata": {},
   "outputs": [
    {
     "name": "stdout",
     "output_type": "stream",
     "text": [
      "Top element: 20\n",
      "Popped: 20\n",
      "Is empty? False\n"
     ]
    }
   ],
   "source": [
    "class Node:\n",
    "    def __init__(self, data: int):\n",
    "        self.data = data\n",
    "        self.next = None\n",
    "\n",
    "class StackLinkedList:\n",
    "    def __init__(self):\n",
    "        self.top: Node | None = None\n",
    "\n",
    "    def push(self, value: int) -> None:\n",
    "        \"\"\"Push a value onto the stack.\"\"\"\n",
    "        new_node = Node(value)\n",
    "        new_node.next = self.top\n",
    "        self.top = new_node  # O(1)\n",
    "\n",
    "    def pop(self) -> int:\n",
    "        \"\"\"Remove and return the top element. Raises IndexError if empty.\"\"\"\n",
    "        if self.is_empty():\n",
    "            raise IndexError(\"Pop from empty stack\")\n",
    "        popped_value = self.top.data\n",
    "        self.top = self.top.next  # O(1)\n",
    "        return popped_value\n",
    "\n",
    "    def peek(self) -> int:\n",
    "        \"\"\"Return the top element without removing it.\"\"\"\n",
    "        if self.is_empty():\n",
    "            raise IndexError(\"Peek from empty stack\")\n",
    "        return self.top.data\n",
    "\n",
    "    def is_empty(self) -> bool:\n",
    "        \"\"\"Check if the stack is empty.\"\"\"\n",
    "        return self.top is None\n",
    "\n",
    "\n",
    "\n",
    "\n"
   ]
  },
  {
   "cell_type": "code",
   "execution_count": null,
   "metadata": {},
   "outputs": [],
   "source": [
    "# 4 Implement a queue using arrays/linked list.\n",
    "class QueueArray:\n",
    "    def __init__(self):\n",
    "        self.queue = []\n",
    "\n",
    "    def enqueue(self, value: int) -> None:\n",
    "        \"\"\"Add a value to the end of the queue.\"\"\"\n",
    "        self.queue.append(value)  # O(1)\n",
    "\n",
    "    def dequeue(self) -> int:\n",
    "        \"\"\"Remove and return the front element. Raises IndexError if empty.\"\"\"\n",
    "        if self.is_empty():\n",
    "            raise IndexError(\"Dequeue from empty queue\")\n",
    "        return self.queue.pop(0)  # O(n)\n",
    "\n",
    "    def peek(self) -> int:\n",
    "        \"\"\"Return the front element without removing it.\"\"\"\n",
    "        if self.is_empty():\n",
    "            raise IndexError(\"Peek from empty queue\")\n",
    "        return self.queue[0]  # O(1)\n",
    "\n",
    "    def is_empty(self) -> bool:\n",
    "        \"\"\"Check if the queue is empty.\"\"\"\n",
    "        return len(self.queue) == 0\n"
   ]
  },
  {
   "cell_type": "code",
   "execution_count": 1,
   "metadata": {},
   "outputs": [
    {
     "data": {
      "text/plain": [
       "0"
      ]
     },
     "execution_count": 1,
     "metadata": {},
     "output_type": "execute_result"
    }
   ],
   "source": [
    "0%5"
   ]
  },
  {
   "cell_type": "code",
   "execution_count": 2,
   "metadata": {},
   "outputs": [
    {
     "data": {
      "text/plain": [
       "1"
      ]
     },
     "execution_count": 2,
     "metadata": {},
     "output_type": "execute_result"
    }
   ],
   "source": [
    "1%5\n"
   ]
  },
  {
   "cell_type": "code",
   "execution_count": 3,
   "metadata": {},
   "outputs": [
    {
     "data": {
      "text/plain": [
       "5"
      ]
     },
     "execution_count": 3,
     "metadata": {},
     "output_type": "execute_result"
    }
   ],
   "source": [
    "15%10"
   ]
  },
  {
   "cell_type": "code",
   "execution_count": 4,
   "metadata": {},
   "outputs": [
    {
     "data": {
      "text/plain": [
       "0"
      ]
     },
     "execution_count": 4,
     "metadata": {},
     "output_type": "execute_result"
    }
   ],
   "source": [
    "100%10"
   ]
  },
  {
   "cell_type": "code",
   "execution_count": 11,
   "metadata": {},
   "outputs": [
    {
     "name": "stdout",
     "output_type": "stream",
     "text": [
      "12\n"
     ]
    }
   ],
   "source": [
    "n = 121\n",
    "rev = 0\n",
    "rev - rev * 10 + n % 10 \n",
    "n //= 10 \n",
    "print(n)"
   ]
  },
  {
   "cell_type": "code",
   "execution_count": 9,
   "metadata": {},
   "outputs": [],
   "source": [
    "n = 121"
   ]
  },
  {
   "cell_type": "code",
   "execution_count": 10,
   "metadata": {},
   "outputs": [
    {
     "data": {
      "text/plain": [
       "12"
      ]
     },
     "execution_count": 10,
     "metadata": {},
     "output_type": "execute_result"
    }
   ],
   "source": [
    "n // 10 "
   ]
  },
  {
   "cell_type": "code",
   "execution_count": 12,
   "metadata": {},
   "outputs": [
    {
     "name": "stdout",
     "output_type": "stream",
     "text": [
      "7430\n"
     ]
    }
   ],
   "source": [
    "def max_number_from_digits(s: str) -> int:\n",
    "    digit_count = [0] * 10\n",
    "    for ch in s:\n",
    "        digit_count[int(ch)] += 1\n",
    "    result = []\n",
    "    for digit in range(9, -1, -1):\n",
    "        result.extend([str(digit)] * digit_count[digit])\n",
    "    return int(''.join(result))\n",
    "\n",
    "\n",
    "\n",
    "inp = \"3407\"\n",
    "out = max_number_from_digits(inp)\n",
    "print(out)"
   ]
  },
  {
   "cell_type": "code",
   "execution_count": 24,
   "metadata": {},
   "outputs": [
    {
     "ename": "TypeError",
     "evalue": "can't multiply sequence by non-int of type 'str'",
     "output_type": "error",
     "traceback": [
      "\u001b[0;31m---------------------------------------------------------------------------\u001b[0m",
      "\u001b[0;31mTypeError\u001b[0m                                 Traceback (most recent call last)",
      "Cell \u001b[0;32mIn[24], line 6\u001b[0m\n\u001b[1;32m      3\u001b[0m \u001b[38;5;28;01mfor\u001b[39;00m i \u001b[38;5;129;01min\u001b[39;00m \u001b[38;5;28mrange\u001b[39m(\u001b[38;5;241m9\u001b[39m, \u001b[38;5;241m-\u001b[39m\u001b[38;5;241m1\u001b[39m, \u001b[38;5;241m-\u001b[39m\u001b[38;5;241m1\u001b[39m):\n\u001b[1;32m      4\u001b[0m     \u001b[38;5;28;01mif\u001b[39;00m li[i] \u001b[38;5;241m!=\u001b[39m \u001b[38;5;241m0\u001b[39m:\n\u001b[1;32m      5\u001b[0m         \u001b[38;5;66;03m#print(li[i], i * li[i])\u001b[39;00m\n\u001b[0;32m----> 6\u001b[0m         res\u001b[38;5;241m.\u001b[39mextend(\u001b[43m[\u001b[49m\u001b[43mi\u001b[49m\u001b[43m]\u001b[49m\u001b[43m \u001b[49m\u001b[38;5;241;43m*\u001b[39;49m\u001b[43m \u001b[49m\u001b[38;5;28;43mstr\u001b[39;49m\u001b[43m(\u001b[49m\u001b[43mli\u001b[49m\u001b[43m[\u001b[49m\u001b[43mi\u001b[49m\u001b[43m]\u001b[49m\u001b[43m)\u001b[49m)\n\u001b[1;32m      7\u001b[0m \u001b[38;5;28mprint\u001b[39m(\u001b[38;5;28mint\u001b[39m(\u001b[38;5;124m\"\u001b[39m\u001b[38;5;124m\"\u001b[39m\u001b[38;5;241m.\u001b[39mjoin(res)))\n",
      "\u001b[0;31mTypeError\u001b[0m: can't multiply sequence by non-int of type 'str'"
     ]
    }
   ],
   "source": [
    "li = [1, 0, 0, 2, 1, 0, 0, 1, 0, 0]\n",
    "res = []\n",
    "for i in range(9, -1, -1):\n",
    "    if li[i] != 0:\n",
    "        #print(li[i], i * li[i])\n",
    "        res.extend([i] * str(li[i]))\n",
    "print(int(\"\".join(res)))"
   ]
  },
  {
   "cell_type": "code",
   "execution_count": null,
   "metadata": {},
   "outputs": [],
   "source": []
  },
  {
   "cell_type": "code",
   "execution_count": null,
   "metadata": {},
   "outputs": [],
   "source": []
  },
  {
   "cell_type": "code",
   "execution_count": null,
   "metadata": {},
   "outputs": [],
   "source": []
  },
  {
   "cell_type": "code",
   "execution_count": null,
   "metadata": {},
   "outputs": [],
   "source": []
  },
  {
   "cell_type": "code",
   "execution_count": null,
   "metadata": {},
   "outputs": [],
   "source": []
  },
  {
   "cell_type": "code",
   "execution_count": 3,
   "metadata": {},
   "outputs": [
    {
     "name": "stdout",
     "output_type": "stream",
     "text": [
      "{'a': 'physics', 'b': 'Maths', 'return': <class 'int'>}\n"
     ]
    },
    {
     "data": {
      "text/plain": [
       "30"
      ]
     },
     "execution_count": 3,
     "metadata": {},
     "output_type": "execute_result"
    }
   ],
   "source": [
    "def myfunction(a: \"physics\", b:\"Maths\" = 20) -> int:\n",
    "   c = a+b\n",
    "   return c\n",
    "print (myfunction.__annotations__)\n",
    "myfunction(10)"
   ]
  },
  {
   "cell_type": "code",
   "execution_count": 4,
   "metadata": {},
   "outputs": [
    {
     "name": "stdout",
     "output_type": "stream",
     "text": [
      "{'num': {'type': <class 'float'>, 'msg': 'numerator'}, 'den': {'type': <class 'float'>, 'msg': 'denominator'}, 'return': <class 'float'>}\n"
     ]
    }
   ],
   "source": [
    "def division(num: dict(type=float, msg='numerator'), den: dict(type=float, msg='denominator')) -> float:\n",
    "    return num/den\n",
    "print(division.__annotations__)"
   ]
  },
  {
   "cell_type": "code",
   "execution_count": 5,
   "metadata": {},
   "outputs": [
    {
     "name": "stdout",
     "output_type": "stream",
     "text": [
      "{}\n"
     ]
    }
   ],
   "source": [
    "class Base:\n",
    "    a: int = 3\n",
    "    b: str = 'abc'\n",
    "\n",
    "class Derived(Base):\n",
    "    pass\n",
    "\n",
    "print(Derived.__annotations__)"
   ]
  },
  {
   "cell_type": "code",
   "execution_count": 8,
   "metadata": {},
   "outputs": [
    {
     "name": "stdout",
     "output_type": "stream",
     "text": [
      "<class 'typing.NewType'>\n"
     ]
    }
   ],
   "source": [
    "from typing import NewType\n",
    "\n",
    "UserId = NewType('UserId', int)\n",
    "some_id = UserId(524313)\n",
    "print(type(UserId))"
   ]
  },
  {
   "cell_type": "code",
   "execution_count": 2,
   "metadata": {},
   "outputs": [
    {
     "data": {
      "text/plain": [
       "['1', '2', '3', '4', '5']"
      ]
     },
     "execution_count": 2,
     "metadata": {},
     "output_type": "execute_result"
    }
   ],
   "source": [
    "l = \"1,2,3,4,5\".split(',')\n",
    "l"
   ]
  },
  {
   "cell_type": "code",
   "execution_count": 14,
   "metadata": {},
   "outputs": [
    {
     "name": "stdout",
     "output_type": "stream",
     "text": [
      "0 3 6\n",
      "[1, 2, 3]\n",
      "[4, 5, 6, 7]\n"
     ]
    }
   ],
   "source": [
    "arr = list(map(int, \"1,2,3,4,5,6,7\".split(',')))\n",
    "\n",
    "low = 0\n",
    "high = len(arr)-1\n",
    "mid = (low+high)//2\n",
    "print(low,mid, high)\n",
    "\n",
    "left = arr[:mid]\n",
    "right = arr[mid:]\n",
    "\n",
    "print(left)\n",
    "print(right)"
   ]
  },
  {
   "cell_type": "code",
   "execution_count": 15,
   "metadata": {},
   "outputs": [
    {
     "name": "stdout",
     "output_type": "stream",
     "text": [
      "[1, 2, 3]\n",
      "[5, 6]\n"
     ]
    }
   ],
   "source": [
    "print(arr[low:mid])\n",
    "print(arr[mid+1: high])"
   ]
  },
  {
   "cell_type": "code",
   "execution_count": 17,
   "metadata": {},
   "outputs": [
    {
     "name": "stdout",
     "output_type": "stream",
     "text": [
      "[1, 1, 2, 6]\n",
      "Input: [1, 2, 3, 4], Output: [24, 12, 8, 6]\n",
      "[1, -1, -1, 0, 0]\n",
      "Input: [-1, 1, 0, -3, 3], Output: [0, 0, 9, 0, 0]\n",
      "[1]\n",
      "Input: [1], Output: [1]\n",
      "[1, 2, 4, 8]\n",
      "Input: [2, 2, 2, 2], Output: [8, 8, 8, 8]\n"
     ]
    }
   ],
   "source": [
    "class Solution(object):\n",
    "    def productExceptSelf(self, nums):\n",
    "        \"\"\"\n",
    "        :type nums: List[int]\n",
    "        :rtype: List[int]\n",
    "        \"\"\"\n",
    "        res = [1] * (len(nums))\n",
    "        prefix = 1\n",
    "        for i in range(len(nums)):\n",
    "            res[i] = prefix\n",
    "            prefix *= nums[i]\n",
    "        print(res)\n",
    "        postfix = 1\n",
    "        for i in range(len(nums) - 1, -1, -1):\n",
    "            res[i] *= postfix\n",
    "            postfix *= nums[i]\n",
    "        return res\n",
    "\n",
    "# Driver code\n",
    "if __name__ == \"__main__\":\n",
    "    solution = Solution()\n",
    "\n",
    "    # Test case 1\n",
    "    nums1 = [1, 2, 3, 4]\n",
    "    result1 = solution.productExceptSelf(nums1)\n",
    "    print(f\"Input: {nums1}, Output: {result1}\")  # Expected output: [24, 12, 8, 6]\n",
    "\n",
    "    # Test case 2\n",
    "    nums2 = [-1, 1, 0, -3, 3]\n",
    "    result2 = solution.productExceptSelf(nums2)\n",
    "    print(f\"Input: {nums2}, Output: {result2}\") # Expected output: [0, 0, 9, 0, 0]\n",
    "\n",
    "    # Test case 3\n",
    "    nums3 = [1]\n",
    "    result3 = solution.productExceptSelf(nums3)\n",
    "    print(f\"Input: {nums3}, Output: {result3}\") # Expected output: [1]\n",
    "\n",
    "    # Test case 4\n",
    "    nums4 = [2,2,2,2]\n",
    "    result4 = solution.productExceptSelf(nums4)\n",
    "    print(f\"Input: {nums4}, Output: {result4}\") #Expected output: [8, 8, 8, 8]"
   ]
  },
  {
   "cell_type": "code",
   "execution_count": 13,
   "metadata": {},
   "outputs": [
    {
     "name": "stdout",
     "output_type": "stream",
     "text": [
      "20 3\n",
      "0 can\n",
      "3  a \n",
      "6 cat\n",
      "9  ea\n",
      "12 t g\n",
      "15 ras\n",
      "18 s?\n"
     ]
    }
   ],
   "source": [
    "s = \"can a cat eat grass?\"\n",
    "ss = \"cat\"\n",
    "n = len(s)\n",
    "m = len(ss)\n",
    "print(n , m)\n",
    "\n",
    "\n",
    "for i in range(0, n, m):\n",
    "    print(i, s[i:i+ m])"
   ]
  },
  {
   "cell_type": "code",
   "execution_count": 16,
   "metadata": {},
   "outputs": [
    {
     "name": "stdout",
     "output_type": "stream",
     "text": [
      "6\n"
     ]
    }
   ],
   "source": [
    "for i in range(n -m +1):\n",
    "    #print(i)\n",
    "    if s[i:i+m]== ss:\n",
    "        print(i)"
   ]
  },
  {
   "cell_type": "code",
   "execution_count": 17,
   "metadata": {},
   "outputs": [
    {
     "data": {
      "text/plain": [
       "6"
      ]
     },
     "execution_count": 17,
     "metadata": {},
     "output_type": "execute_result"
    }
   ],
   "source": [
    "l1 = [20, 5, 40, 60, 10, 30]\n",
    "\n",
    "len(l1)"
   ]
  },
  {
   "cell_type": "code",
   "execution_count": 31,
   "metadata": {},
   "outputs": [],
   "source": [
    "from typing import List\n",
    "def bubble_sort(l1 : List[int]) -> bool:\n",
    "    for i in range(len(l1)-1):\n",
    "        swapped = False\n",
    "        print(i, l1)\n",
    "        for j in range(len(l1)-i-1):\n",
    "            if l1[j] > l1[j+1]:\n",
    "                l1[j],l1[j+1] = l1[j+1], l1[j]\n",
    "                swapped = True\n",
    "        if swapped == False:\n",
    "            break        \n",
    "    return l1"
   ]
  },
  {
   "cell_type": "code",
   "execution_count": 34,
   "metadata": {},
   "outputs": [
    {
     "name": "stdout",
     "output_type": "stream",
     "text": [
      "0 [1, 2, 3, 4, 5]\n",
      "✅ Test 1 passed.\n",
      "0 [5, 4, 3, 2, 1]\n",
      "1 [4, 3, 2, 1, 5]\n",
      "2 [3, 2, 1, 4, 5]\n",
      "3 [2, 1, 3, 4, 5]\n",
      "✅ Test 2 passed.\n",
      "0 [3, 1, 4, 5, 2]\n",
      "1 [1, 3, 4, 2, 5]\n",
      "2 [1, 3, 2, 4, 5]\n",
      "3 [1, 2, 3, 4, 5]\n",
      "✅ Test 3 passed.\n",
      "0 [4, 2, 2, 8, 3, 3, 1]\n",
      "1 [2, 2, 4, 3, 3, 1, 8]\n",
      "2 [2, 2, 3, 3, 1, 4, 8]\n",
      "3 [2, 2, 3, 1, 3, 4, 8]\n",
      "4 [2, 2, 1, 3, 3, 4, 8]\n",
      "5 [2, 1, 2, 3, 3, 4, 8]\n",
      "✅ Test 4 passed.\n",
      "0 [7, 7, 7, 7]\n",
      "✅ Test 5 passed.\n",
      "✅ Test 6 passed.\n",
      "✅ Test 7 passed.\n",
      "0 [0, -1, 5, -10, 8]\n",
      "1 [-1, 0, -10, 5, 8]\n",
      "2 [-1, -10, 0, 5, 8]\n",
      "3 [-10, -1, 0, 5, 8]\n",
      "✅ Test 8 passed.\n",
      "0 [9, 3, 1]\n",
      "1 [3, 1, 9]\n",
      "✅ Test 9 passed.\n",
      "0 [1, 2, 3]\n",
      "❌ Test 10 failed. Input: [1, 2, 3] | Expected: [1, 2, 4] | Got: [1, 2, 3]\n",
      "\n",
      "=== Test Summary ===\n",
      "Passed: 9\n",
      "Failed: 1\n",
      "====================\n"
     ]
    }
   ],
   "source": [
    "def run_tests():\n",
    "    test_cases = [\n",
    "        {\"input\": [1, 2, 3, 4, 5], \"expected\": [1, 2, 3, 4, 5]},\n",
    "        {\"input\": [5, 4, 3, 2, 1], \"expected\": [1, 2, 3, 4, 5]},\n",
    "        {\"input\": [3, 1, 4, 5, 2], \"expected\": [1, 2, 3, 4, 5]},\n",
    "        {\"input\": [4, 2, 2, 8, 3, 3, 1], \"expected\": [1, 2, 2, 3, 3, 4, 8]},\n",
    "        {\"input\": [7, 7, 7, 7], \"expected\": [7, 7, 7, 7]},\n",
    "        {\"input\": [], \"expected\": []},\n",
    "        {\"input\": [42], \"expected\": [42]},\n",
    "        {\"input\": [0, -1, 5, -10, 8], \"expected\": [-10, -1, 0, 5, 8]},\n",
    "        {\"input\": [9, 3, 1], \"expected\": [1, 3, 9]},  # Should pass\n",
    "        {\"input\": [1, 2, 3], \"expected\": [1, 2, 4]},  # Should FAIL\n",
    "    ]\n",
    "\n",
    "    passed = 0\n",
    "    failed = 0\n",
    "\n",
    "    for i, case in enumerate(test_cases):\n",
    "        try:\n",
    "            result = bubble_sort(case[\"input\"].copy())\n",
    "            assert result == case[\"expected\"]\n",
    "            print(f\"✅ Test {i+1} passed.\")\n",
    "            passed += 1\n",
    "        except AssertionError:\n",
    "            print(f\"❌ Test {i+1} failed. Input: {case['input']} | Expected: {case['expected']} | Got: {result}\")\n",
    "            failed += 1\n",
    "\n",
    "    print(\"\\n=== Test Summary ===\")\n",
    "    print(f\"Passed: {passed}\")\n",
    "    print(f\"Failed: {failed}\")\n",
    "    print(\"====================\")\n",
    "\n",
    "# Run test runner\n",
    "run_tests()"
   ]
  },
  {
   "cell_type": "code",
   "execution_count": 6,
   "metadata": {},
   "outputs": [
    {
     "name": "stdout",
     "output_type": "stream",
     "text": [
      "l s\n",
      "i i\n",
      "s l\n",
      "t e\n",
      "e n\n",
      "n t\n"
     ]
    }
   ],
   "source": [
    "inp1 = \"listen\"\n",
    "inp2 = \"silent\"\n",
    "\n",
    "\n",
    "\n",
    "for k, v in zip(inp1, inp2):\n",
    "    print(k, v)"
   ]
  },
  {
   "cell_type": "code",
   "execution_count": 10,
   "metadata": {},
   "outputs": [
    {
     "name": "stdout",
     "output_type": "stream",
     "text": [
      "2\n",
      "1\n"
     ]
    }
   ],
   "source": [
    "class Stack:\n",
    "    def __init__(self):\n",
    "        self.stack = []\n",
    "\n",
    "    def push(self, value):\n",
    "        self.stack.append(value)\n",
    "\n",
    "    def pop(self):\n",
    "        return self.stack.pop() if not self.is_empty() else None\n",
    "\n",
    "    def peek(self):\n",
    "        return self.stack[-1] if not self.is_empty() else None\n",
    "\n",
    "    def is_empty(self):\n",
    "        return len(self.stack) == 0\n",
    "\n",
    "s = Stack()\n",
    "s.push(1)\n",
    "s.push(2)\n",
    "print(s.pop())   # 2\n",
    "print(s.peek())  # 1\n"
   ]
  },
  {
   "cell_type": "code",
   "execution_count": 11,
   "metadata": {},
   "outputs": [
    {
     "name": "stdout",
     "output_type": "stream",
     "text": [
      "deque([20])\n",
      "10\n"
     ]
    }
   ],
   "source": [
    "from collections import deque\n",
    "\n",
    "queue = deque()\n",
    "\n",
    "# Enqueue (add to the end)\n",
    "queue.append(10)\n",
    "queue.append(20)\n",
    "\n",
    "# Dequeue (remove from the front)\n",
    "front = queue.popleft()\n",
    "\n",
    "print(queue)  # Output: deque([20])\n",
    "print(front)  # Output: 10\n"
   ]
  },
  {
   "cell_type": "code",
   "execution_count": null,
   "metadata": {},
   "outputs": [],
   "source": [
    "class Queue:\n",
    "    def __init__(self):\n",
    "        self.queue = deque()\n",
    "\n",
    "    def enqueue(self, value):\n",
    "        self.queue.append(value)\n",
    "\n",
    "    def dequeue(self):\n",
    "        return self.queue.popleft() if not self.is_empty() else None\n",
    "\n",
    "    def peek(self):\n",
    "        return self.queue[0] if not self.is_empty() else None\n",
    "\n",
    "    def is_empty(self):\n",
    "        return len(self.queue) == 0\n",
    "\n",
    "q = Queue()\n",
    "q.enqueue(1)\n",
    "q.enqueue(2)\n",
    "print(q.dequeue())  # Output: 1\n",
    "print(q.peek())     # Output: 2\n"
   ]
  },
  {
   "cell_type": "code",
   "execution_count": 1,
   "metadata": {},
   "outputs": [
    {
     "name": "stdout",
     "output_type": "stream",
     "text": [
      "List iteration: 0.02818918228149414\n",
      "Tuple iteration: 0.027065277099609375\n"
     ]
    }
   ],
   "source": [
    "import time\n",
    "\n",
    "lst = list(range(1000000))\n",
    "tpl = tuple(range(1000000))\n",
    "\n",
    "start = time.time()\n",
    "for item in lst:\n",
    "    pass\n",
    "print(\"List iteration:\", time.time() - start)\n",
    "\n",
    "start = time.time()\n",
    "for item in tpl:\n",
    "    pass\n",
    "print(\"Tuple iteration:\", time.time() - start)\n"
   ]
  },
  {
   "cell_type": "code",
   "execution_count": 8,
   "metadata": {},
   "outputs": [
    {
     "name": "stdout",
     "output_type": "stream",
     "text": [
      "1\n",
      "2\n",
      "3\n",
      "4\n",
      "5\n"
     ]
    }
   ],
   "source": [
    "class Myqueue:\n",
    "    def __init__(self):\n",
    "        self.stack_in = []\n",
    "        self.stack_out = []\n",
    "    \n",
    "    def push(self, x):\n",
    "        self.stack_in.append(x)\n",
    "\n",
    "    \n",
    "    def pop(self):\n",
    "        if not self.stack_out:\n",
    "            while self.stack_in:\n",
    "                self.stack_out.append(self.stack_in.pop())\n",
    "        return self.stack_out.pop()\n",
    "\n",
    "q = Myqueue()\n",
    "q.push(1)\n",
    "q.push(2)\n",
    "q.push(3)\n",
    "print(q.pop())  # 1\n",
    "q.push(4)\n",
    "q.push(5)\n",
    "print(q.pop())  # 2\n",
    "print(q.pop())  # 3\n",
    "print(q.pop())\n",
    "print(q.pop())\n"
   ]
  },
  {
   "cell_type": "code",
   "execution_count": 5,
   "metadata": {},
   "outputs": [
    {
     "name": "stdout",
     "output_type": "stream",
     "text": [
      "10\n",
      "10\n",
      "False\n",
      "True\n",
      "1\n",
      "2\n",
      "3\n",
      "4\n"
     ]
    }
   ],
   "source": [
    "class MyQueue:\n",
    "    def __init__(self):\n",
    "        self.stack_in = []\n",
    "        self.stack_out = []\n",
    "\n",
    "    def push(self, x):\n",
    "        self.stack_in.append(x)\n",
    "\n",
    "    def pop(self):\n",
    "        self._transfer_if_needed()\n",
    "        return self.stack_out.pop()\n",
    "\n",
    "    def peek(self):\n",
    "        self._transfer_if_needed()\n",
    "        return self.stack_out[-1]\n",
    "\n",
    "    def empty(self):\n",
    "        return not self.stack_in and not self.stack_out\n",
    "\n",
    "    def _transfer_if_needed(self):\n",
    "        if not self.stack_out:\n",
    "            while self.stack_in:\n",
    "                self.stack_out.append(self.stack_in.pop())\n",
    "\n",
    "q = MyQueue()\n",
    "q.push(10)\n",
    "q.push(20)\n",
    "print(q.peek())   # Output: 10\n",
    "print(q.pop())    # Output: 10\n",
    "print(q.empty())  # Output: False\n",
    "q.pop()\n",
    "print(q.empty())  # Output: True\n",
    "\n",
    "q.push(1)\n",
    "q.push(2)\n",
    "q.push(3)\n",
    "print(q.pop())  # 1\n",
    "q.push(4)\n",
    "print(q.pop())  # 2\n",
    "print(q.pop())  # 3\n",
    "print(q.pop())\n",
    "\n"
   ]
  },
  {
   "cell_type": "code",
   "execution_count": null,
   "metadata": {},
   "outputs": [
    {
     "name": "stdout",
     "output_type": "stream",
     "text": [
      "[[19, 22], [43, 50]]\n"
     ]
    }
   ],
   "source": [
    "# A = m * n \n",
    "# B = n * p\n",
    "\n",
    "# C = m * p\n",
    "def matrix_multiply(A, B):\n",
    "    m, n = len(A), len(A[0])\n",
    "    n2, p = len(B), len(B[0])\n",
    "    if n != n2:\n",
    "        raise ValueError(\"A's columns must equal B's rows\")\n",
    "\n",
    "    # Initialize result matrix C with zeros\n",
    "    C = [[0 for _ in range(p)] for _ in range(m)]\n",
    "\n",
    "    for i in range(m):        # For each row in A\n",
    "        for j in range(p):    # For each column in B\n",
    "            for k in range(n):  # For each element in row A and column B\n",
    "                C[i][j] += A[i][k] * B[k][j]\n",
    "    \n",
    "    return C\n",
    "\n",
    "A = [[1, 2],\n",
    "     [3, 4]]\n",
    "\n",
    "B = [[5, 6],\n",
    "     [7, 8]]\n",
    "\n",
    "result = matrix_multiply(A, B)\n",
    "print(result)  # Output: [[19, 22], [43, 50]]\n",
    "\n"
   ]
  },
  {
   "cell_type": "code",
   "execution_count": 12,
   "metadata": {},
   "outputs": [
    {
     "name": "stdout",
     "output_type": "stream",
     "text": [
      "[0, 0, 0]\n",
      "[0, 0, 0]\n"
     ]
    }
   ],
   "source": [
    "# Matrix dimensions\n",
    "m = 2  # number of rows\n",
    "p = 3  # number of columns\n",
    "\n",
    "# Initialize an empty matrix\n",
    "C = []\n",
    "\n",
    "# Outer loop for rows\n",
    "for row_index in range(m):\n",
    "    row = []\n",
    "    # Inner loop for columns\n",
    "    for col_index in range(p):\n",
    "        row.append(0)  # Fill each cell with 0\n",
    "    C.append(row)  # Add the row to the matrix\n",
    "\n",
    "# Print the result\n",
    "for row in C:\n",
    "    print(row)\n"
   ]
  },
  {
   "cell_type": "code",
   "execution_count": null,
   "metadata": {},
   "outputs": [],
   "source": [
    "# ⏱️ Time Complexity:\n",
    "# Triple loop → O(m × n × p)\n",
    "\n",
    "# m: rows of A\n",
    "\n",
    "# n: columns of A = rows of B\n",
    "\n",
    "# p: columns of B\n",
    "\n",
    "# For square matrices of size n × n, it's O(n³) in the naive approach."
   ]
  },
  {
   "cell_type": "code",
   "execution_count": 10,
   "metadata": {},
   "outputs": [
    {
     "name": "stdout",
     "output_type": "stream",
     "text": [
      "[1, 2, 7, 4]\n",
      "1\n"
     ]
    }
   ],
   "source": [
    "\n",
    "import heapq\n",
    "\n",
    "nums = [4, 2, 7, 1]\n",
    "heapq.heapify(nums)\n",
    "print(nums)  # Heap: [1, 2, 7, 4]\n",
    "print(heapq.heappop(nums))  # 1"
   ]
  },
  {
   "cell_type": "code",
   "execution_count": 14,
   "metadata": {},
   "outputs": [
    {
     "data": {
      "text/plain": [
       "[2, 3]"
      ]
     },
     "execution_count": 14,
     "metadata": {},
     "output_type": "execute_result"
    }
   ],
   "source": [
    "merged = [[1, 3], [2,3]]\n",
    "merged[-1]"
   ]
  },
  {
   "cell_type": "code",
   "execution_count": 4,
   "metadata": {},
   "outputs": [
    {
     "name": "stdout",
     "output_type": "stream",
     "text": [
      "[4276]\n",
      "4276\n"
     ]
    }
   ],
   "source": [
    "import re\n",
    "st1=\"4276\"\n",
    "nums1 = list(map(int, re.findall(r'\\d+', st1)))\n",
    "print(nums1)\n",
    "max1 = max(nums1) if nums1 else float('-inf')\n",
    "print(max1)"
   ]
  },
  {
   "cell_type": "code",
   "execution_count": 6,
   "metadata": {},
   "outputs": [
    {
     "data": {
      "text/plain": [
       "10"
      ]
     },
     "execution_count": 6,
     "metadata": {},
     "output_type": "execute_result"
    }
   ],
   "source": [
    "n = 4\n",
    "expected_sums = n * (n + 1)//2\n",
    "expected_sums\n",
    " "
   ]
  },
  {
   "cell_type": "code",
   "execution_count": 7,
   "metadata": {},
   "outputs": [
    {
     "data": {
      "text/plain": [
       "5"
      ]
     },
     "execution_count": 7,
     "metadata": {},
     "output_type": "execute_result"
    }
   ],
   "source": [
    "15 % 10 "
   ]
  },
  {
   "cell_type": "code",
   "execution_count": 8,
   "metadata": {},
   "outputs": [
    {
     "data": {
      "text/plain": [
       "1"
      ]
     },
     "execution_count": 8,
     "metadata": {},
     "output_type": "execute_result"
    }
   ],
   "source": [
    "1221 % 10"
   ]
  },
  {
   "cell_type": "code",
   "execution_count": 9,
   "metadata": {},
   "outputs": [
    {
     "data": {
      "text/plain": [
       "122"
      ]
     },
     "execution_count": 9,
     "metadata": {},
     "output_type": "execute_result"
    }
   ],
   "source": [
    "1221 // 10 "
   ]
  },
  {
   "cell_type": "code",
   "execution_count": null,
   "metadata": {},
   "outputs": [],
   "source": [
    "my_list = []\n",
    "if not my_list:\n",
    "    print(\"The list is empty.\")"
   ]
  }
 ],
 "metadata": {
  "kernelspec": {
   "display_name": "Python 3",
   "language": "python",
   "name": "python3"
  },
  "language_info": {
   "codemirror_mode": {
    "name": "ipython",
    "version": 3
   },
   "file_extension": ".py",
   "mimetype": "text/x-python",
   "name": "python",
   "nbconvert_exporter": "python",
   "pygments_lexer": "ipython3",
   "version": "3.11.2"
  }
 },
 "nbformat": 4,
 "nbformat_minor": 2
}
