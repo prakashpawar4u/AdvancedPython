{
 "cells": [
  {
   "cell_type": "markdown",
   "metadata": {},
   "source": [
    "1. Reverse a linked list.\n",
    "2. Find the middle element of a linked list.\n",
    "3. Implement a stack using arrays/linked list.\n",
    "4. Implement a queue using arrays/linked list.\n",
    "5. Find the factorial of a number using recursion.\n",
    "6. Implement binary search in an array.\n",
    "7. Find the largest/smallest element in an array.\n",
    "8. Implement merge sort.\n",
    "9. Implement quick sort.\n",
    "10. Detect a cycle in a linked list.\n",
    "11. Find the intersection point of two linked lists.\n",
    "12. Check if a binary tree is a binary search tree (BST).\n",
    "13. Print all leaf nodes of a binary tree.\n",
    "14. Reverse a binary tree.\n",
    "15. Find the height of a binary tree.\n",
    "16. Implement depth-first search (DFS) on a graph.\n",
    "17. Implement breadth-first search (BFS) on a graph.\n",
    "18. Check if a graph is connected.\n",
    "19. Implement Dijkstra's algorithm for shortest path.\n",
    "20. Implement Prim's algorithm for minimum spanning tree.\n",
    "21. Implement Kruskal's algorithm for minimum spanning tree.\n",
    "22. Find the longest common subsequence of two strings.\n",
    "23. Find the longest increasing subsequence of an array.\n",
    "24. Implement the Knuth–Morris–Pratt (KMP) algorithm for string matching.\n",
    "25. Implement the Rabin-Karp algorithm for string matching.\n",
    "26. Check if a string is a palindrome.\n",
    "27. Check if two strings are anagrams of each other.\n",
    "28. Find the next greater element in an array.\n",
    "29. Find the kth smallest/largest element in an array.\n",
    "30. Find the median of two sorted arrays.\n",
    "31. Implement a trie (prefix tree).\n",
    "32. Find all subsets of a set.\n",
    "33. Find all permutations of a string.\n",
    "34. Implement the Josephus Problem.\n",
    "35. Implement an LRU (Least Recently Used) Cache.\n",
    "36. Find the longest palindrome substring in a string.\n",
    "37. Implement a priority queue.\n",
    "38. Implement a hashmap (dictionary).\n",
    "39. Count the number of inversions in an array.\n",
    "40. Find the shortest path in a maze."
   ]
  },
  {
   "cell_type": "code",
   "execution_count": null,
   "metadata": {},
   "outputs": [],
   "source": [
    "#1. Reverse a linked list\n",
    "class Node:\n",
    "    def __init__(self, data):\n",
    "        self.key = data\n",
    "        self.next = None\n",
    "    \n",
    "class linkedList:\n",
    "    def __init__(self):\n",
    "        self.head = None\n",
    "    \n",
    "    def append(self, data):\n",
    "        new_node = Node(data)\n",
    "        if not self.head:\n",
    "            self.head = new_node\n",
    "        \n",
    "        else:\n",
    "            last = self.head\n",
    "            while last.next:\n",
    "                last = last.next\n",
    "            last.next = new_node\n",
    "\n",
    "    def reverse_list(self, curr, prev = None):\n",
    "        if curr == None:\n",
    "            return prev\n",
    "        \n",
    "        next = curr.next\n",
    "        curr.next = prev\n",
    "\n",
    "        return self.reveseList(next, curr)\n",
    "    \n",
    "    \n",
    "        \n",
    "    \n",
    "    def printlist(self):\n",
    "        curr = self.head\n",
    "        while curr:\n",
    "            print(curr.key, end=\" \")\n",
    "            curr = curr.next\n",
    "        print(\"None\")\n",
    "\n",
    "    def reverse(self):\n",
    "        self.head = self.reverseList(self.head)\n"
   ]
  },
  {
   "cell_type": "code",
   "execution_count": 3,
   "metadata": {},
   "outputs": [
    {
     "name": "stdout",
     "output_type": "stream",
     "text": [
      "{'a': 'physics', 'b': 'Maths', 'return': <class 'int'>}\n"
     ]
    },
    {
     "data": {
      "text/plain": [
       "30"
      ]
     },
     "execution_count": 3,
     "metadata": {},
     "output_type": "execute_result"
    }
   ],
   "source": [
    "def myfunction(a: \"physics\", b:\"Maths\" = 20) -> int:\n",
    "   c = a+b\n",
    "   return c\n",
    "print (myfunction.__annotations__)\n",
    "myfunction(10)"
   ]
  },
  {
   "cell_type": "code",
   "execution_count": 4,
   "metadata": {},
   "outputs": [
    {
     "name": "stdout",
     "output_type": "stream",
     "text": [
      "{'num': {'type': <class 'float'>, 'msg': 'numerator'}, 'den': {'type': <class 'float'>, 'msg': 'denominator'}, 'return': <class 'float'>}\n"
     ]
    }
   ],
   "source": [
    "def division(num: dict(type=float, msg='numerator'), den: dict(type=float, msg='denominator')) -> float:\n",
    "    return num/den\n",
    "print(division.__annotations__)"
   ]
  },
  {
   "cell_type": "code",
   "execution_count": 5,
   "metadata": {},
   "outputs": [
    {
     "name": "stdout",
     "output_type": "stream",
     "text": [
      "{}\n"
     ]
    }
   ],
   "source": [
    "class Base:\n",
    "    a: int = 3\n",
    "    b: str = 'abc'\n",
    "\n",
    "class Derived(Base):\n",
    "    pass\n",
    "\n",
    "print(Derived.__annotations__)"
   ]
  },
  {
   "cell_type": "code",
   "execution_count": 8,
   "metadata": {},
   "outputs": [
    {
     "name": "stdout",
     "output_type": "stream",
     "text": [
      "<class 'typing.NewType'>\n"
     ]
    }
   ],
   "source": [
    "from typing import NewType\n",
    "\n",
    "UserId = NewType('UserId', int)\n",
    "some_id = UserId(524313)\n",
    "print(type(UserId))"
   ]
  },
  {
   "cell_type": "code",
   "execution_count": 2,
   "metadata": {},
   "outputs": [
    {
     "data": {
      "text/plain": [
       "['1', '2', '3', '4', '5']"
      ]
     },
     "execution_count": 2,
     "metadata": {},
     "output_type": "execute_result"
    }
   ],
   "source": [
    "l = \"1,2,3,4,5\".split(',')\n",
    "l"
   ]
  },
  {
   "cell_type": "code",
   "execution_count": 14,
   "metadata": {},
   "outputs": [
    {
     "name": "stdout",
     "output_type": "stream",
     "text": [
      "0 3 6\n",
      "[1, 2, 3]\n",
      "[4, 5, 6, 7]\n"
     ]
    }
   ],
   "source": [
    "arr = list(map(int, \"1,2,3,4,5,6,7\".split(',')))\n",
    "\n",
    "low = 0\n",
    "high = len(arr)-1\n",
    "mid = (low+high)//2\n",
    "print(low,mid, high)\n",
    "\n",
    "left = arr[:mid]\n",
    "right = arr[mid:]\n",
    "\n",
    "print(left)\n",
    "print(right)"
   ]
  },
  {
   "cell_type": "code",
   "execution_count": 15,
   "metadata": {},
   "outputs": [
    {
     "name": "stdout",
     "output_type": "stream",
     "text": [
      "[1, 2, 3]\n",
      "[5, 6]\n"
     ]
    }
   ],
   "source": [
    "print(arr[low:mid])\n",
    "print(arr[mid+1: high])"
   ]
  },
  {
   "cell_type": "code",
   "execution_count": 17,
   "metadata": {},
   "outputs": [
    {
     "name": "stdout",
     "output_type": "stream",
     "text": [
      "[1, 1, 2, 6]\n",
      "Input: [1, 2, 3, 4], Output: [24, 12, 8, 6]\n",
      "[1, -1, -1, 0, 0]\n",
      "Input: [-1, 1, 0, -3, 3], Output: [0, 0, 9, 0, 0]\n",
      "[1]\n",
      "Input: [1], Output: [1]\n",
      "[1, 2, 4, 8]\n",
      "Input: [2, 2, 2, 2], Output: [8, 8, 8, 8]\n"
     ]
    }
   ],
   "source": [
    "class Solution(object):\n",
    "    def productExceptSelf(self, nums):\n",
    "        \"\"\"\n",
    "        :type nums: List[int]\n",
    "        :rtype: List[int]\n",
    "        \"\"\"\n",
    "        res = [1] * (len(nums))\n",
    "        prefix = 1\n",
    "        for i in range(len(nums)):\n",
    "            res[i] = prefix\n",
    "            prefix *= nums[i]\n",
    "        print(res)\n",
    "        postfix = 1\n",
    "        for i in range(len(nums) - 1, -1, -1):\n",
    "            res[i] *= postfix\n",
    "            postfix *= nums[i]\n",
    "        return res\n",
    "\n",
    "# Driver code\n",
    "if __name__ == \"__main__\":\n",
    "    solution = Solution()\n",
    "\n",
    "    # Test case 1\n",
    "    nums1 = [1, 2, 3, 4]\n",
    "    result1 = solution.productExceptSelf(nums1)\n",
    "    print(f\"Input: {nums1}, Output: {result1}\")  # Expected output: [24, 12, 8, 6]\n",
    "\n",
    "    # Test case 2\n",
    "    nums2 = [-1, 1, 0, -3, 3]\n",
    "    result2 = solution.productExceptSelf(nums2)\n",
    "    print(f\"Input: {nums2}, Output: {result2}\") # Expected output: [0, 0, 9, 0, 0]\n",
    "\n",
    "    # Test case 3\n",
    "    nums3 = [1]\n",
    "    result3 = solution.productExceptSelf(nums3)\n",
    "    print(f\"Input: {nums3}, Output: {result3}\") # Expected output: [1]\n",
    "\n",
    "    # Test case 4\n",
    "    nums4 = [2,2,2,2]\n",
    "    result4 = solution.productExceptSelf(nums4)\n",
    "    print(f\"Input: {nums4}, Output: {result4}\") #Expected output: [8, 8, 8, 8]"
   ]
  },
  {
   "cell_type": "code",
   "execution_count": null,
   "metadata": {},
   "outputs": [],
   "source": []
  }
 ],
 "metadata": {
  "kernelspec": {
   "display_name": "Python 3",
   "language": "python",
   "name": "python3"
  },
  "language_info": {
   "codemirror_mode": {
    "name": "ipython",
    "version": 3
   },
   "file_extension": ".py",
   "mimetype": "text/x-python",
   "name": "python",
   "nbconvert_exporter": "python",
   "pygments_lexer": "ipython3",
   "version": "3.11.2"
  }
 },
 "nbformat": 4,
 "nbformat_minor": 2
}
