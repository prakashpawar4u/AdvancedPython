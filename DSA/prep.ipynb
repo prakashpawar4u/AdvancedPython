{
 "cells": [
  {
   "cell_type": "markdown",
   "metadata": {},
   "source": [
    "1. Reverse a linked list.\n",
    "2. Find the middle element of a linked list.\n",
    "3. Implement a stack using arrays/linked list.\n",
    "4. Implement a queue using arrays/linked list.\n",
    "5. Find the factorial of a number using recursion.\n",
    "6. Implement binary search in an array.\n",
    "7. Find the largest/smallest element in an array.\n",
    "8. Implement merge sort.\n",
    "9. Implement quick sort.\n",
    "10. Detect a cycle in a linked list.\n",
    "11. Find the intersection point of two linked lists.\n",
    "12. Check if a binary tree is a binary search tree (BST).\n",
    "13. Print all leaf nodes of a binary tree.\n",
    "14. Reverse a binary tree.\n",
    "15. Find the height of a binary tree.\n",
    "16. Implement depth-first search (DFS) on a graph.\n",
    "17. Implement breadth-first search (BFS) on a graph.\n",
    "18. Check if a graph is connected.\n",
    "19. Implement Dijkstra's algorithm for shortest path.\n",
    "20. Implement Prim's algorithm for minimum spanning tree.\n",
    "21. Implement Kruskal's algorithm for minimum spanning tree.\n",
    "22. Find the longest common subsequence of two strings.\n",
    "23. Find the longest increasing subsequence of an array.\n",
    "24. Implement the Knuth–Morris–Pratt (KMP) algorithm for string matching.\n",
    "25. Implement the Rabin-Karp algorithm for string matching.\n",
    "26. Check if a string is a palindrome.\n",
    "27. Check if two strings are anagrams of each other.\n",
    "28. Find the next greater element in an array.\n",
    "29. Find the kth smallest/largest element in an array.\n",
    "30. Find the median of two sorted arrays.\n",
    "31. Implement a trie (prefix tree).\n",
    "32. Find all subsets of a set.\n",
    "33. Find all permutations of a string.\n",
    "34. Implement the Josephus Problem.\n",
    "35. Implement an LRU (Least Recently Used) Cache.\n",
    "36. Find the longest palindrome substring in a string.\n",
    "37. Implement a priority queue.\n",
    "38. Implement a hashmap (dictionary).\n",
    "39. Count the number of inversions in an array.\n",
    "40. Find the shortest path in a maze."
   ]
  },
  {
   "cell_type": "code",
   "execution_count": null,
   "metadata": {},
   "outputs": [],
   "source": [
    "#1. Reverse a linked list\n",
    "class Node:\n",
    "    def __init__(self, data):\n",
    "        self.key = data\n",
    "        self.next = None\n",
    "    \n",
    "class linkedList:\n",
    "    def "
   ]
  }
 ],
 "metadata": {
  "kernelspec": {
   "display_name": "envML",
   "language": "python",
   "name": "python3"
  },
  "language_info": {
   "name": "python",
   "version": "3.10.15"
  }
 },
 "nbformat": 4,
 "nbformat_minor": 2
}
