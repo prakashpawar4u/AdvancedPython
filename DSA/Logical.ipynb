{
 "cells": [
  {
   "cell_type": "code",
   "execution_count": null,
   "metadata": {
    "colab": {
     "base_uri": "https://localhost:8080/"
    },
    "id": "9Hhx6gV5JreK",
    "outputId": "17fb9bfa-ab75-4366-e478-ee49515f4b75"
   },
   "outputs": [
    {
     "name": "stdout",
     "output_type": "stream",
     "text": [
      "3\n",
      "4\n",
      "[114, 160, 60, 27]\n",
      "[74, 97, 73, 14]\n",
      "[119, 157, 112, 23]\n"
     ]
    }
   ],
   "source": [
    "# Program to multiply two matrices using nested loops\n",
    "\n",
    "# 3x3 matrix\n",
    "X = [[12,7,3],\n",
    "    [4 ,5,6],\n",
    "    [7 ,8,9]]\n",
    "# 3x4 matrix\n",
    "Y = [[5,8,1,2],\n",
    "    [6,7,3,0],\n",
    "    [4,5,9,1]]\n",
    "\n",
    "# result will be 3x4(3 rows from first Matrix & 4 coloumns from second Matrix)\n",
    "result = [[0,0,0,0],\n",
    "         [0,0,0,0],\n",
    "         [0,0,0,0]]\n",
    "\n",
    "\n",
    "print(len(X))\n",
    "print(len(Y[0]))\n",
    "\n",
    "#iterate through rows of X\n",
    "for i in range(len(X)):\n",
    "  #iterate through Columns of Y\n",
    "  for j in range(len(Y[0])):\n",
    "    #iterate through rows of Y\n",
    "    for k in range(len(Y)):\n",
    "      #print(f\"Each Item :: {X[i][k] * Y[k][j]}\")\n",
    "      result[i][j] += X[i][k] * Y[k][j]\n",
    "\n",
    "\n",
    "for p in result:\n",
    "  print(p)\n"
   ]
  },
  {
   "cell_type": "code",
   "execution_count": null,
   "metadata": {
    "colab": {
     "base_uri": "https://localhost:8080/"
    },
    "id": "RnZ2L1pzt9yW",
    "outputId": "a69ab7b6-2d78-463d-8a05-a1f54786ba60"
   },
   "outputs": [
    {
     "name": "stdout",
     "output_type": "stream",
     "text": [
      "The square root of 18 is approximately 4.242640687119335\n"
     ]
    }
   ],
   "source": [
    "#square root with sqrt method:\n",
    "def sqrt_newton_raphson(number, epsilon=1e-6, max_iterations=100):\n",
    "    if number < 0:\n",
    "        raise ValueError(\"Cannot calculate the square root of a negative number\")\n",
    "\n",
    "    guess = number / 2.0  # Initial guess\n",
    "    for _ in range(max_iterations):\n",
    "        next_guess = 0.5 * (guess + number / guess)\n",
    "        if abs(next_guess - guess) < epsilon:\n",
    "            return next_guess  # Converged to an acceptable approximation\n",
    "        guess = next_guess\n",
    "\n",
    "    return guess  # Return the best approximation after max_iterations\n",
    "\n",
    "# Example usage\n",
    "number = 18  # Change this to the number for which you want to calculate the square root\n",
    "result = sqrt_newton_raphson(number)\n",
    "print(f\"The square root of {number} is approximately {result}\")"
   ]
  },
  {
   "cell_type": "code",
   "execution_count": null,
   "metadata": {
    "id": "Ncw1qDW_sn0F"
   },
   "outputs": [],
   "source": [
    "class Solution:\n",
    "    #def productExceptSelf(self, nums: List[int]) -> List[int]:\n",
    "    def productExceptSelf(self, nums):\n",
    "        res = [1] * (len(nums))\n",
    "\n",
    "        prefix = 1\n",
    "        for i in range(len(nums)):\n",
    "            res[i] = prefix\n",
    "            prefix *= nums[i]\n",
    "\n",
    "        postfix = 1\n",
    "        for i in range(len(nums) -1, -1, -1):\n",
    "            res[i] *= postfix\n",
    "            postfix *= nums[i]\n",
    "        print(\"Final Res::\", res)\n",
    "        return res\n",
    "\n",
    "        print(\"Final : \",prefix)\n",
    "\n",
    "\n",
    "sObj = Solution()\n",
    "sObj.productExceptSelf([1,2,3,4])"
   ]
  },
  {
   "cell_type": "code",
   "execution_count": 1,
   "metadata": {},
   "outputs": [
    {
     "name": "stdout",
     "output_type": "stream",
     "text": [
      "{'this': 3, 'is': 2, 'mine': 1}\n"
     ]
    }
   ],
   "source": [
    "wordsList = ['this','is','this','is','this','mine']\n",
    "\n",
    "dictWords = {x:wordsList.count(x) for x in wordsList}\n",
    "print(dictWords)"
   ]
  },
  {
   "cell_type": "code",
   "execution_count": 5,
   "metadata": {},
   "outputs": [
    {
     "data": {
      "text/plain": [
       "{'this': 3, 'is': 2, 'mine': 1}"
      ]
     },
     "execution_count": 5,
     "metadata": {},
     "output_type": "execute_result"
    }
   ],
   "source": [
    "dictwords = {}\n",
    "for i in wordsList:\n",
    "    if i in dictwords:\n",
    "        dictwords[i] += 1\n",
    "    else:\n",
    "        dictwords[i] = 1\n",
    "dictWords"
   ]
  },
  {
   "cell_type": "code",
   "execution_count": 6,
   "metadata": {},
   "outputs": [
    {
     "name": "stdout",
     "output_type": "stream",
     "text": [
      "{'g': 2, 'o': 3, 'l': 1, 'e': 1, '.': 1, 'c': 1, 'm': 1}\n"
     ]
    }
   ],
   "source": [
    "# char frequency\n",
    "\n",
    "def charFrequency(str1):\n",
    "    frequency = {}\n",
    "    for char in str1:\n",
    "        keys = frequency.keys()\n",
    "        if char in keys:\n",
    "            frequency[char] += 1\n",
    "        else:\n",
    "            frequency[char] = 1\n",
    "    return frequency\n",
    "\n",
    "print(charFrequency('google.com'))"
   ]
  },
  {
   "cell_type": "code",
   "execution_count": 4,
   "metadata": {},
   "outputs": [
    {
     "name": "stdout",
     "output_type": "stream",
     "text": [
      "cbafedgh\n"
     ]
    }
   ],
   "source": [
    "'''Q2:\n",
    "input = \"abcdefgh\"\n",
    "output - \"cba fed gh\"\n",
    "Here split the string for every 3 letters and reverse each word'''\n",
    "\n",
    "str1 = 'abcdefgh'\n",
    "result = []\n",
    "\n",
    "for i in range(0, len(str1), 3):\n",
    "    chunk = str1[i:i+3]\n",
    "    if len(chunk) == 3:\n",
    "        # print(st2[::-1], end=' ')\n",
    "        result.append(chunk[:: -1])\n",
    "    else:\n",
    "        result.append(chunk)\n",
    "        \n",
    "print(\"\".join(result))\n",
    "# input = \"abcdefgh\"\n"
   ]
  },
  {
   "cell_type": "markdown",
   "metadata": {},
   "source": [
    "Q3:get the ip address & port & the page its accessing from the URL of below format:\n",
    "http://10.10.200.1:99/index.html"
   ]
  },
  {
   "cell_type": "code",
   "execution_count": null,
   "metadata": {},
   "outputs": [
    {
     "name": "stdout",
     "output_type": "stream",
     "text": [
      "IP Address: 10.10.200.1\n",
      "Port: 99\n"
     ]
    }
   ],
   "source": [
    "import re\n",
    "def extract_ip_and_port(url: str) -> tuple[str, str] | None:\n",
    "    match = re.search(r\"http://([\\d\\.]+):(\\d+)/\", url)\n",
    "    if match:\n",
    "        return match.group(1), match.group(2)\n",
    "    return None\n",
    "\n",
    "input1 = \"get the ip address & port & the page its accessing from the URL of below format http://10.10.200.1:99/index.html\"\n",
    "\n",
    "result = extract_ip_and_port(input1)\n",
    "\n",
    "if result:\n",
    "    ip_address, port = result\n",
    "    print(f\"IP Address: {ip_address}\")\n",
    "    print(f\"Port: {port}\")\n",
    "else:\n",
    "    print(\"No match found\")"
   ]
  },
  {
   "cell_type": "markdown",
   "metadata": {},
   "source": [
    "\"Q4\":\n",
    "l1 = ['User1', 'User2', 'User3']\n",
    "l2 = ['Pass1', 'Pass2', 'Pass3']\n",
    "\n",
    "Output:  [['User1', 'Pass1'], ['User2', 'Pass2'], ['User3', 'Pass3']]"
   ]
  },
  {
   "cell_type": "code",
   "execution_count": 7,
   "metadata": {},
   "outputs": [
    {
     "name": "stdout",
     "output_type": "stream",
     "text": [
      "[['User1', 'Pass1'], ['User2', 'Pass2'], ['User3', 'Pass3']]\n"
     ]
    }
   ],
   "source": [
    "l1 = ['User1', 'User2', 'User3']\n",
    "l2 = ['Pass1', 'Pass2', 'Pass3']\n",
    "\n",
    "#Output:  [['User1', 'Pass1'], ['User2', 'Pass2'], ['User3', 'Pass3']]\n",
    "if len(l1) != len(l2):\n",
    "    raise ValueError(\"Input lists must have the same length.\")\n",
    "final = []\n",
    "for i in range(len(l1)):\n",
    "    l3 = l1[i], l2[i]\n",
    "    final.append(list(l3))\n",
    "print(final)"
   ]
  },
  {
   "cell_type": "code",
   "execution_count": 6,
   "metadata": {},
   "outputs": [
    {
     "name": "stdout",
     "output_type": "stream",
     "text": [
      "[['User1', 'Pass1'], ['User2', 'Pass2'], ['User3', 'Pass3']]\n"
     ]
    }
   ],
   "source": [
    "from typing import List, Tuple\n",
    "\n",
    "def zip_lists(list1: List[str], list2: List[str]) -> List[List[str]]:\n",
    "    \"\"\"\n",
    "    Zips two lists together, creating a list of lists where each inner list contains corresponding elements from the input lists.\n",
    "\n",
    "    Args:\n",
    "        list1: The first list of strings.\n",
    "        list2: The second list of strings.\n",
    "\n",
    "    Returns:\n",
    "        A list of lists, where each inner list contains a pair of elements from the input lists.\n",
    "    \"\"\"\n",
    "    if len(list1) != len(list2):\n",
    "        raise ValueError(\"Input lists must have the same length.\")\n",
    "\n",
    "    return [[list1[i], list2[i]] for i in range(len(list1))]\n",
    "\n",
    "# Example usage:\n",
    "l1 = ['User1', 'User2', 'User3']\n",
    "l2 = ['Pass1', 'Pass2', 'Pass3']\n",
    "\n",
    "result = zip_lists(l1, l2)\n",
    "print(result) # Output: [['User1', 'Pass1'], ['User2', 'Pass2'], ['User3', 'Pass3']]"
   ]
  },
  {
   "cell_type": "code",
   "execution_count": 8,
   "metadata": {},
   "outputs": [
    {
     "name": "stdout",
     "output_type": "stream",
     "text": [
      "{'User1': 'Pass1', 'User2': 'Pass2', 'User3': 'Pass3'}\n"
     ]
    }
   ],
   "source": [
    "from typing import List, Dict\n",
    "\n",
    "def lists_to_dict(keys: List[str], values: List[str]) -> Dict[str, str]:\n",
    "    \"\"\"\n",
    "    Converts two lists into a dictionary, where the first list provides the keys and the second list provides the values.\n",
    "\n",
    "    Args:\n",
    "        keys: The list of keys.\n",
    "        values: The list of values.\n",
    "\n",
    "    Returns:\n",
    "        A dictionary with keys from the first list and values from the second list.\n",
    "    \"\"\"\n",
    "    if len(keys) != len(values):\n",
    "        raise ValueError(\"Input lists must have the same length.\")\n",
    "\n",
    "    return dict(zip(keys, values))\n",
    "\n",
    "# Example usage:\n",
    "l1 = ['User1', 'User2', 'User3']\n",
    "l2 = ['Pass1', 'Pass2', 'Pass3']\n",
    "\n",
    "result = lists_to_dict(l1, l2)\n",
    "print(result) # Output: {'User1': 'Pass1', 'User2': 'Pass2', 'User3': 'Pass3'}"
   ]
  },
  {
   "cell_type": "markdown",
   "metadata": {},
   "source": [
    "# Prefix Sum\n",
    "\n",
    "Prefix Sum involves preprocessing an array to create a new array where each element at index i represents the sum of the array from the start up to i. This allows for efficient sum queries on subarrays.\n",
    "\n",
    "Use this pattern when you need to perform multiple sum queries on a subarray or need to calculate cumulative sums.\n",
    "\n",
    "Sample Problem:\n",
    "Given an array nums, answer multiple queries about the sum of elements within a specific range [i, j].\n",
    "\n",
    "Example:\n",
    "\n",
    "Input: nums = [1, 2, 3, 4, 5, 6], i = 1, j = 3\n",
    "\n",
    "Output: 9\n",
    "\n",
    "Explanation:\n",
    "Preprocess the array A to create a prefix sum array: P = [1, 3, 6, 10, 15, 21].\n",
    "\n",
    "To find the sum between indices i and j, use the formula: P[j] - P[i-1].\n",
    "\n",
    "LeetCode Problems:\n",
    "Range Sum Query - Immutable (LeetCode #303)\n",
    "\n",
    "Contiguous Array (LeetCode #525)\n",
    "\n",
    "Subarray Sum Equals K (LeetCode #560)\n"
   ]
  },
  {
   "cell_type": "code",
   "execution_count": 5,
   "metadata": {},
   "outputs": [
    {
     "name": "stdout",
     "output_type": "stream",
     "text": [
      "1 [1, 3, 0, 0, 0, 0]\n",
      "2 [1, 3, 6, 0, 0, 0]\n",
      "3 [1, 3, 6, 10, 0, 0]\n",
      "4 [1, 3, 6, 10, 15, 0]\n",
      "5 [1, 3, 6, 10, 15, 21]\n"
     ]
    },
    {
     "data": {
      "text/plain": [
       "9"
      ]
     },
     "execution_count": 5,
     "metadata": {},
     "output_type": "execute_result"
    }
   ],
   "source": [
    "class PrefixSum:\n",
    "    def __init__(self, nums):\n",
    "        self.prefix_sum = [0] * len(nums)\n",
    "        self.prefix_sum[0] = nums[0]\n",
    "       \n",
    "        for i in range(1, len(nums)):\n",
    "            self.prefix_sum[i] = self.prefix_sum[i-1] + nums[i]\n",
    "            print(i , self.prefix_sum)\n",
    "\n",
    "    def range_sum(self, i, j):\n",
    "        if i == 0:\n",
    "            return self.prefix_sum[j]\n",
    "        else:\n",
    "            return self.prefix_sum[j] - self.prefix_sum[i-1]\n",
    "    \n",
    "\n",
    "\n",
    "\n",
    "nums = [1, 2, 3, 4, 5, 6]\n",
    "prefix_sum = PrefixSum(nums)\n",
    "\n",
    "result = prefix_sum.range_sum(1,3)\n",
    "result "
   ]
  },
  {
   "cell_type": "markdown",
   "metadata": {},
   "source": [
    "# 2 Two Pointers\n",
    "\n",
    "The Two Pointers pattern involves using two pointers to iterate through an array or list, often used to find pairs or elements that meet specific criteria.\n",
    "\n",
    "Use this pattern when dealing with sorted arrays or lists where you need to find pairs that satisfy a specific condition.\n",
    "\n",
    "Sample Problem:\n",
    "Find two numbers in a sorted array that add up to a target value.\n",
    "\n",
    "Example:\n",
    "\n",
    "Input: nums = [1, 2, 3, 4, 6], target = 6\n",
    "\n",
    "Output: [1, 3]\n",
    "\n",
    "Explanation:\n",
    "Initialize two pointers, one at the start (left) and one at the end (right) of the array.\n",
    "\n",
    "Check the sum of the elements at the two pointers.\n",
    "\n",
    "If the sum equals the target, return the indices.\n",
    "\n",
    "If the sum is less than the target, move the left pointer to the right.\n",
    "\n",
    "If the sum is greater than the target, move the right pointer to the left.\n",
    "\n",
    "LeetCode Problems:\n",
    "Two Sum II - Input Array is Sorted (LeetCode #167)\n",
    "\n",
    "3Sum (LeetCode #15)\n",
    "\n",
    "Container With Most Water (LeetCode #11)"
   ]
  },
  {
   "cell_type": "code",
   "execution_count": null,
   "metadata": {},
   "outputs": [
    {
     "name": "stdout",
     "output_type": "stream",
     "text": [
      "[2, 4]\n"
     ]
    }
   ],
   "source": [
    "def two_sum(nums, target):\n",
    "    # Initialize two pointers: one at the beginning, one at the end\n",
    "    left = 0\n",
    "    right = len(nums) - 1\n",
    "    \n",
    "    while left < right:\n",
    "        current_sum = nums[left] + nums[right]\n",
    "        \n",
    "        if current_sum == target:\n",
    "            return [nums[left], nums[right]]  # Found the pair\n",
    "        elif current_sum < target:\n",
    "            left += 1  # Move the left pointer to the right to increase the sum\n",
    "        else:\n",
    "            right -= 1  # Move the right pointer to the left to decrease the sum\n",
    "    \n",
    "    return [] \n",
    "\n",
    "nums = [1,2,3,4,6]\n",
    "target = 6\n",
    "print(two_sum(nums, target))\n"
   ]
  },
  {
   "cell_type": "markdown",
   "metadata": {},
   "source": [
    "# 3. Sliding Window\n",
    "\n",
    "The Sliding Window pattern is used to find a subarray or substring that satisfies a specific condition, optimizing the time complexity by maintaining a window of elements.\n",
    "\n",
    "Use this pattern when dealing with problems involving contiguous subarrays or substrings.\n",
    "\n",
    "Sample Problem:\n",
    "Find the maximum sum of a subarray of size k.\n",
    "\n",
    "Example:\n",
    "\n",
    "Input: nums = [2, 1, 5, 1, 3, 2], k = 3\n",
    "\n",
    "Output: 9\n",
    "\n",
    "Explanation:\n",
    "Start with the sum of the first k elements.\n",
    "\n",
    "Slide the window one element at a time, subtracting the element that goes out of the window and adding the new element.\n",
    "\n",
    "Keep track of the maximum sum encountered.\n",
    "\n",
    "LeetCode Problems:\n",
    "Maximum Average Subarray I (LeetCode #643)\n",
    "\n",
    "Longest Substring Without Repeating Characters (LeetCode #3)\n",
    "\n",
    "Minimum Window Substring (LeetCode #76)"
   ]
  },
  {
   "cell_type": "code",
   "execution_count": 4,
   "metadata": {},
   "outputs": [
    {
     "name": "stdout",
     "output_type": "stream",
     "text": [
      "9\n"
     ]
    }
   ],
   "source": [
    "def max_sum_subarray(nums, k):\n",
    "    if len(nums) < k:\n",
    "        return 0\n",
    "    \n",
    "    #Calculate the sum of the first window\n",
    "    current_sum = sum(nums[:k])\n",
    "    max_sum = current_sum\n",
    "\n",
    "    for i in range(k, len(nums)):\n",
    "        current_sum += nums[i] - nums[i-k]\n",
    "\n",
    "        max_sum = max(max_sum, current_sum)\n",
    "    return max_sum\n",
    "\n",
    "nums = [2, 1, 5, 1, 3, 2]\n",
    "k = 3\n",
    "print(max_sum_subarray(nums, k))  # Output: 9\n",
    "    "
   ]
  },
  {
   "cell_type": "markdown",
   "metadata": {},
   "source": [
    "# 4 Fast & Slow Pointers\n",
    "\n",
    "The Fast & Slow Pointers (Tortoise and Hare) pattern is used to detect cycles in linked lists and other similar structures.\n",
    "\n",
    "Sample Problem:\n",
    "Detect if a linked list has a cycle.\n",
    "\n",
    "Explanation:\n",
    "Initialize two pointers, one moving one step at a time (slow) and the other moving two steps at a time (fast).\n",
    "\n",
    "If there is a cycle, the fast pointer will eventually meet the slow pointer.\n",
    "\n",
    "If the fast pointer reaches the end of the list, there is no cycle.\n",
    "\n",
    "LeetCode Problems:\n",
    "Linked List Cycle (LeetCode #141)\n",
    "\n",
    "Happy Number (LeetCode #202)\n",
    "\n",
    "Find the Duplicate Number (LeetCode #287)"
   ]
  },
  {
   "cell_type": "code",
   "execution_count": 6,
   "metadata": {},
   "outputs": [
    {
     "name": "stdout",
     "output_type": "stream",
     "text": [
      "True\n"
     ]
    }
   ],
   "source": [
    "class ListNode:\n",
    "    def __init__(self, val: int = 0, next: 'ListNode' = None):\n",
    "        self.val = val\n",
    "        self.next = next\n",
    "\n",
    "def hasCycle(head: ListNode) -> bool:\n",
    "    # If the list is empty or has only one node, it cannot have a cycle\n",
    "    if not head or not head.next:\n",
    "        return False\n",
    "\n",
    "    # Initialize two pointers: slow moves 1 step, fast moves 2 steps\n",
    "    slow = head\n",
    "    fast = head\n",
    "\n",
    "    # Traverse the list with the two pointers\n",
    "    while fast and fast.next:\n",
    "        slow = slow.next           # Move slow by 1 step\n",
    "        fast = fast.next.next      # Move fast by 2 steps\n",
    "\n",
    "        if slow == fast:\n",
    "            # If the two pointers meet, a cycle exists\n",
    "            return True\n",
    "\n",
    "    # If we reach the end of the list, there's no cycle\n",
    "    return False\n",
    "\n",
    "# Sample test case\n",
    "node1 = ListNode(1)\n",
    "node2 = ListNode(2)\n",
    "node3 = ListNode(3)\n",
    "node4 = ListNode(4)\n",
    "\n",
    "# Creating a cycle: 1 → 2 → 3 → 4 → 1 ...\n",
    "node1.next = node2\n",
    "node2.next = node3\n",
    "node3.next = node4\n",
    "node4.next = node1\n",
    "\n",
    "# Check for cycle starting from node2\n",
    "print(hasCycle(node2))  # Output: True"
   ]
  },
  {
   "cell_type": "code",
   "execution_count": null,
   "metadata": {},
   "outputs": [],
   "source": [
    "#LeetCode #287 - Find the Duplicate Number is a classic and very popular coding interview problem\n",
    "def findDuplicate(nums):\n",
    "    # Step 1: Use Floyd's Cycle Detection to find the intersection point\n",
    "    slow = nums[0]\n",
    "    fast = nums[0]\n",
    "\n",
    "    while True:\n",
    "        slow = nums[slow]         # move one step\n",
    "        fast = nums[nums[fast]]   # move two steps\n",
    "        if slow == fast:\n",
    "            break\n",
    "\n",
    "    # Step 2: Move one pointer to the start to find cycle entrance\n",
    "    slow = nums[0]\n",
    "    while slow != fast:\n",
    "        slow = nums[slow]\n",
    "        fast = nums[fast]\n",
    "\n",
    "    return slow\n"
   ]
  },
  {
   "cell_type": "code",
   "execution_count": 8,
   "metadata": {},
   "outputs": [
    {
     "name": "stdout",
     "output_type": "stream",
     "text": [
      "1\n"
     ]
    }
   ],
   "source": [
    "from typing import List\n",
    "\n",
    "def firstOccurrence(arr: List[int], n: int, x: int) -> int:\n",
    "    \"\"\"\n",
    "    Finds the first occurrence of x in a sorted array arr of length n.\n",
    "    \n",
    "    :param arr: A sorted list of integers\n",
    "    :param n: Length of the array\n",
    "    :param x: The target integer to find\n",
    "    :return: The index of the first occurrence of x, or -1 if not found\n",
    "    \"\"\"\n",
    "    low: int = 0\n",
    "    high: int = n - 1\n",
    "    result: int = -1\n",
    "\n",
    "    while low <= high:\n",
    "        mid: int = (low + high) // 2\n",
    "\n",
    "        if arr[mid] == x:\n",
    "            result = mid\n",
    "            high = mid - 1  # Continue searching in the left half\n",
    "        elif arr[mid] < x:\n",
    "            low = mid + 1\n",
    "        else:\n",
    "            high = mid - 1\n",
    "\n",
    "    return result\n",
    "\n",
    "\n",
    "arr = [1,10,10,10,20,20,40]\n",
    "x = 10\n",
    "print(firstOccurrence(arr,len(arr),x))\n",
    "#Time Complexity: O(log n)\n",
    "#n is the size of the input array"
   ]
  },
  {
   "cell_type": "code",
   "execution_count": null,
   "metadata": {},
   "outputs": [
    {
     "name": "stdout",
     "output_type": "stream",
     "text": [
      "6\n"
     ]
    }
   ],
   "source": [
    "from typing import List\n",
    "\n",
    "def lastOccurrence(l: List[int], x: int) -> int:\n",
    "    \"\"\"\n",
    "    Finds the last occurrence of x in a sorted list l.\n",
    "\n",
    "    :param l: A sorted list of integers\n",
    "    :param x: The target integer to find\n",
    "    :return: The index of the last occurrence of x, or -1 if not found\n",
    "    \"\"\"\n",
    "    low: int = 0\n",
    "    high: int = len(l) - 1\n",
    "\n",
    "    while low <= high:\n",
    "        mid: int = (low + high) // 2\n",
    "\n",
    "        if l[mid] < x:\n",
    "            low = mid + 1  # Search in the right half\n",
    "        elif l[mid] > x:\n",
    "            high = mid - 1  # Search in the left half\n",
    "        else:\n",
    "            # If it's the last element or the next one is different, return mid\n",
    "            if mid == len(l) - 1 or l[mid] != l[mid + 1]:\n",
    "                return mid\n",
    "            else:\n",
    "                # Keep looking to the right\n",
    "                low = mid + 1\n",
    "\n",
    "    return -1  # Element not found\n"
   ]
  },
  {
   "cell_type": "markdown",
   "metadata": {},
   "source": [
    "# 5 LinkedList In-place Reversal\n"
   ]
  },
  {
   "cell_type": "code",
   "execution_count": null,
   "metadata": {},
   "outputs": [],
   "source": [
    "class Solution:\n",
    "    def reverseList(self, head: Optional[ListNode]) -> Optional[ListNode]:\n",
    "        prev = None\n",
    "        curr = head\n",
    "\n",
    "        while curr:\n",
    "            next_node = curr.next\n",
    "            curr.next = prev\n",
    "            prev = curr\n",
    "            curr = next_node\n",
    "        return prev\n",
    "             "
   ]
  },
  {
   "cell_type": "code",
   "execution_count": 9,
   "metadata": {},
   "outputs": [
    {
     "name": "stdout",
     "output_type": "stream",
     "text": [
      "Original list:\n",
      "1 -> 2 -> 3 -> 4 -> 5 -> None\n",
      "\n",
      "Reversed list:\n",
      "5 -> 4 -> 3 -> 2 -> 1 -> None\n"
     ]
    }
   ],
   "source": [
    "from typing import Optional\n",
    "\n",
    "# Definition for singly-linked list.\n",
    "class ListNode:\n",
    "    def __init__(self, val: int = 0, next: Optional['ListNode'] = None):\n",
    "        self.val = val\n",
    "        self.next = next\n",
    "\n",
    "class Solution:\n",
    "    def reverseList(self, head: Optional[ListNode]) -> Optional[ListNode]:\n",
    "        \"\"\"\n",
    "        Reverses a singly linked list.\n",
    "\n",
    "        :param head: Head of the original linked list\n",
    "        :return: Head of the reversed linked list\n",
    "        \"\"\"\n",
    "        prev: Optional[ListNode] = None\n",
    "        curr: Optional[ListNode] = head\n",
    "\n",
    "        while curr:\n",
    "            next_node: Optional[ListNode] = curr.next  # Store next node\n",
    "            curr.next = prev        # Reverse current node's pointer\n",
    "            prev = curr             # Move prev forward\n",
    "            curr = next_node        # Move curr forward\n",
    "        return prev\n",
    "\n",
    "# Helper function to print linked list\n",
    "def printList(head: Optional[ListNode]) -> None:\n",
    "    current = head\n",
    "    while current:\n",
    "        print(current.val, end=\" -> \")\n",
    "        current = current.next\n",
    "    print(\"None\")\n",
    "\n",
    "# Driver code\n",
    "if __name__ == \"__main__\":\n",
    "    # Creating linked list: 1 -> 2 -> 3 -> 4 -> 5 -> None\n",
    "    node1 = ListNode(1)\n",
    "    node2 = ListNode(2)\n",
    "    node3 = ListNode(3)\n",
    "    node4 = ListNode(4)\n",
    "    node5 = ListNode(5)\n",
    "\n",
    "    node1.next = node2\n",
    "    node2.next = node3\n",
    "    node3.next = node4\n",
    "    node4.next = node5\n",
    "\n",
    "    print(\"Original list:\")\n",
    "    printList(node1)\n",
    "\n",
    "    # Reverse the linked list\n",
    "    sol = Solution()\n",
    "    reversed_head = sol.reverseList(node1)\n",
    "\n",
    "    print(\"\\nReversed list:\")\n",
    "    printList(reversed_head)\n"
   ]
  },
  {
   "cell_type": "markdown",
   "metadata": {},
   "source": [
    "# 6 Monotonic Stack\n",
    "\n",
    "The Monotonic Stack pattern uses a stack to maintain a sequence of elements in a specific order (increasing or decreasing).\n",
    "\n",
    "Use this pattern for problems that require finding the next greater or smaller element.\n",
    "\n",
    "Sample Problem:\n",
    "Find the next greater element for each element in an array. Output -1 if the greater element doesn’t exist.\n",
    "\n",
    "Example:\n",
    "\n",
    "Input: nums = [2, 1, 2, 4, 3]\n",
    "\n",
    "Output: [4, 2, 4, -1, -1]\n",
    "\n",
    "Explanation:\n",
    "Use a stack to keep track of elements for which we haven't found the next greater element yet.\n",
    "\n",
    "Iterate through the array, and for each element, pop elements from the stack until you find a greater element.\n",
    "\n",
    "If the stack is not empty, set the result for index at the top of the stack to current element.\n",
    "\n",
    "Push the current element onto the stack."
   ]
  },
  {
   "cell_type": "code",
   "execution_count": 10,
   "metadata": {},
   "outputs": [
    {
     "data": {
      "text/plain": [
       "2"
      ]
     },
     "execution_count": 10,
     "metadata": {},
     "output_type": "execute_result"
    }
   ],
   "source": [
    "7 % 5\n"
   ]
  },
  {
   "cell_type": "code",
   "execution_count": null,
   "metadata": {},
   "outputs": [
    {
     "name": "stdout",
     "output_type": "stream",
     "text": [
      "[4, 2, 4, -1, 4]\n"
     ]
    }
   ],
   "source": [
    "from typing import List\n",
    "\n",
    "def nextGreaterElements(nums: List[int]) -> List[int]:\n",
    "    \"\"\"\n",
    "    Finds the next greater element for each element in a circular array.\n",
    "\n",
    "    :param nums: A list of integers representing the circular array\n",
    "    :return: A list where each element is the next greater element in the circular array\n",
    "             or -1 if no such element exists\n",
    "    \"\"\"\n",
    "    n: int = len(nums)\n",
    "    stack: List[int] = []             # Stack to store indices\n",
    "    res: List[int] = [-1] * n         # Initialize result list with -1\n",
    "\n",
    "    # Traverse the array twice to simulate circular behavior\n",
    "    for i in range(2 * n):\n",
    "        num: int = nums[i % n]        # Circular access using modulo\n",
    "\n",
    "        # If current number is greater than stack top, update result for that index\n",
    "        while stack and nums[stack[-1]] < num:\n",
    "            index = stack.pop()\n",
    "            res[index] = num\n",
    "\n",
    "        # Only push indices during the first pass\n",
    "        if i < n:\n",
    "            stack.append(i)\n",
    "\n",
    "    return res\n",
    "\n",
    "nums = [2, 1, 2, 4, 3]\n",
    "print(nextGreaterElements(nums))  # Output: [4, 2, 4, -1, -1]\n",
    "\n",
    "\n",
    "# Final Time Complexity: O(n)\n",
    "# Even though it loops 2n times, each index is pushed and popped only once — making the actual time complexity linear.\n",
    "\n",
    "# 📦 Space Complexity: O(n)\n",
    "# res array stores n results → O(n)\n",
    "\n",
    "# stack can store up to n indices → O(n)\n",
    "\n",
    "# ✅ Overall space: O(n)"
   ]
  },
  {
   "cell_type": "code",
   "execution_count": 14,
   "metadata": {},
   "outputs": [
    {
     "name": "stdout",
     "output_type": "stream",
     "text": [
      "[1, -1, -1, 3, -1]\n"
     ]
    }
   ],
   "source": [
    "from typing import List\n",
    "\n",
    "def nextSmallerElem(nums: List[int]) -> List[int]:\n",
    "    \"\"\"\n",
    "    Finds the next smaller element for each element in the list.\n",
    "    \n",
    "    :param nums: A list of integers\n",
    "    :return: A list where each element is the next smaller element to the right in the original list,\n",
    "             or -1 if no such element exists\n",
    "    \"\"\"\n",
    "    n: int = len(nums)\n",
    "    result: List[int] = [-1] * n  # Initialize the result array with -1\n",
    "    stack: List[int] = []        # Stack to store indices of elements\n",
    "\n",
    "    for i in range(n):\n",
    "        # While the stack is not empty and current number is smaller than the number at stack's top index\n",
    "        while stack and nums[stack[-1]] > nums[i]:\n",
    "            result[stack.pop()] = nums[i]\n",
    "\n",
    "        # Push current index onto the stack\n",
    "        stack.append(i)\n",
    "\n",
    "    return result\n",
    "\n",
    "\n",
    "# Example usage\n",
    "nums = [2, 1, 2, 4, 3]\n",
    "print(nextSmallerElem(nums))  # Output: [1, -1, -1, 3, -1]"
   ]
  },
  {
   "cell_type": "markdown",
   "metadata": {},
   "source": [
    " # 7 Top 'K' Elements\n",
    " Problem: Kth Largest Element in an Array (LeetCode #215)\n",
    "🧠 Approach: Min-Heap of Size k\n",
    "To find the k-th largest element:\n",
    "\n",
    "Use a min-heap to keep the k largest elements seen so far.\n",
    "\n",
    "As you iterate:\n",
    "\n",
    "Add the current number to the heap.\n",
    "\n",
    "If heap size > k, pop the smallest (which is the root).\n",
    "\n",
    "After the loop, the root of the heap is the k-th largest element."
   ]
  },
  {
   "cell_type": "code",
   "execution_count": null,
   "metadata": {},
   "outputs": [
    {
     "name": "stdout",
     "output_type": "stream",
     "text": [
      "5\n"
     ]
    }
   ],
   "source": [
    "import heapq\n",
    "from typing import List\n",
    "\n",
    "def findKthLargest(nums: List[int], k: int) -> int:\n",
    "    minHeap = []\n",
    "\n",
    "    for num in nums:\n",
    "        heapq.heappush(minHeap, num)\n",
    "\n",
    "        if len(minHeap) > k:\n",
    "            heapq.heappop(minHeap)\n",
    "    \n",
    "    return minHeap[0]\n",
    "\n",
    "nums = [3,2,1,5,6,4]\n",
    "k = 2\n",
    "print(findKthLargest(nums, k))\n",
    "\n",
    "# 🧠 Time Complexity Analysis\n",
    "# Let’s say:\n",
    "\n",
    "# n = total number of elements in nums\n",
    "\n",
    "# k = size of the heap we're maintaining\n",
    "\n",
    "# Step-by-step:\n",
    "# For each number (num) in nums:\n",
    "\n",
    "# heapq.heappush(minHeap, num) → O(log k)\n",
    "\n",
    "# If heap size > k, we pop → heapq.heappop(minHeap) → also O(log k)\n",
    "\n",
    "# Both operations happen per element, so per iteration cost = O(log k)\n",
    "\n",
    "# We do this for all n elements:\n",
    "\n",
    "# So total = n × O(log k) = O(n log k)"
   ]
  },
  {
   "cell_type": "code",
   "execution_count": null,
   "metadata": {},
   "outputs": [
    {
     "name": "stdout",
     "output_type": "stream",
     "text": [
      "freq map :: Counter({1: 3, 2: 2, 3: 1})\n",
      "1 [(3, 1)]\n",
      "2 [(2, 2), (3, 1)]\n",
      "3 [(1, 3), (3, 1), (2, 2)]\n",
      "[2, 1]\n"
     ]
    }
   ],
   "source": [
    "import heapq\n",
    "from typing import List\n",
    "from collections import Counter\n",
    "\n",
    "def topKFrequent(nums: List[int], k: int) -> List[int]:\n",
    "    # Step 1: Count frequencies\n",
    "    freq_map = Counter(nums)\n",
    "    print(f\"freq map :: {freq_map}\")\n",
    "    \n",
    "    # Step 2: Min-heap of (freq, num)\n",
    "    min_heap = []\n",
    "    for num, freq in freq_map.items():\n",
    "        heapq.heappush(min_heap, (freq, num))\n",
    "        print(num, min_heap)\n",
    "        if len(min_heap) > k:\n",
    "            heapq.heappop(min_heap)\n",
    "    \n",
    "    # Step 3: Extract numbers from heap\n",
    "    return [num for freq, num in min_heap]\n",
    "\n",
    "nums = [1,1,1,2,2,3]\n",
    "k = 2\n",
    "print(topKFrequent(nums, k))  # Output: [1, 2]\n",
    "\n",
    "#  Time Complexity:\n",
    "# Counting frequencies: O(n)\n",
    "\n",
    "# Building heap of size k: O(n log k)\n",
    "\n",
    "# Final output: O(k)\n",
    "\n",
    "# Total: O(n log k)"
   ]
  },
  {
   "cell_type": "markdown",
   "metadata": {},
   "source": [
    "# 8. Overlapping Intervals\n",
    "\n",
    "The Overlapping Intervals pattern is used to merge or handle overlapping intervals in an array.\n",
    "\n",
    "In an interval array sorted by start time, two intervals [a, b] and [c, d] overlap if b >= c (i.e., the end time of the first interval is greater than or equal to the start time of the second interval).\n",
    "\n",
    "Sample Problem:\n",
    "Problem Statement: Merge all overlapping intervals.\n",
    "\n",
    "Example:\n",
    "\n",
    "Input: intervals = [[1, 3], [2, 6], [8, 10], [15, 18]]\n",
    "\n",
    "Output: [[1, 6], [8, 10], [15, 18]]\n",
    "\n",
    "Explanation:\n",
    "Sort the intervals by their start time.\n",
    "\n",
    "Create an empty list called merged to store the merged intervals.\n",
    "\n",
    "Iterate through the intervals and check if it overlaps with the last interval in the merged list.\n",
    "\n",
    "If it overlaps, merge the intervals by updating the end time of the last interval in merged.\n",
    "\n",
    "If it does not overlap, simply add the current interval to the merged list.\n",
    "\n",
    "LeetCode Problems:\n",
    "Merge Intervals (LeetCode #56)\n",
    "\n",
    "Insert Interval (LeetCode #57)\n",
    "\n",
    "Non-Overlapping Intervals (LeetCode #435)"
   ]
  },
  {
   "cell_type": "code",
   "execution_count": 7,
   "metadata": {},
   "outputs": [
    {
     "name": "stdout",
     "output_type": "stream",
     "text": [
      "[[1, 5], [6, 9], [11, 5]]\n"
     ]
    }
   ],
   "source": [
    "def merge(intervals):\n",
    "    intervals.sort(key=lambda x: x[0])\n",
    "    merged = []\n",
    "\n",
    "    for interval in intervals:\n",
    "        if not merged or merged[-1][-1] < interval[0]:\n",
    "            merged.append(interval)\n",
    "        else:\n",
    "            merged[-1][1] =max(merged[-1][1], interval[1])\n",
    "    return merged\n",
    "\n",
    "intervals = [[1,3],[2,5],[6,9], [11,5]]\n",
    "print(merge(intervals))"
   ]
  },
  {
   "cell_type": "code",
   "execution_count": null,
   "metadata": {},
   "outputs": [],
   "source": []
  },
  {
   "cell_type": "code",
   "execution_count": null,
   "metadata": {},
   "outputs": [],
   "source": []
  },
  {
   "cell_type": "code",
   "execution_count": null,
   "metadata": {},
   "outputs": [],
   "source": []
  },
  {
   "cell_type": "code",
   "execution_count": null,
   "metadata": {},
   "outputs": [],
   "source": []
  },
  {
   "cell_type": "code",
   "execution_count": 2,
   "metadata": {},
   "outputs": [
    {
     "name": "stdout",
     "output_type": "stream",
     "text": [
      "[0, 1]\n"
     ]
    }
   ],
   "source": [
    "class Solution(object):\n",
    "    def twoSum(self, nums, target):\n",
    "        \"\"\"\n",
    "        :type nums: List[int]\n",
    "        :type target: int\n",
    "        :rtype: List[int]\n",
    "        \"\"\"\n",
    "        hashMap = {}\n",
    "        for i, n in enumerate(nums):\n",
    "            diff = target - n\n",
    "            if diff in hashMap:\n",
    "                return [hashMap[diff], i]\n",
    "            hashMap[n] = i\n",
    "        return []\n",
    "\n",
    "# Driver code\n",
    "if __name__ == \"__main__\":\n",
    "    solution = Solution()\n",
    "    \n",
    "    # Test case 1\n",
    "    nums1 = [2, 7, 11, 15]\n",
    "    target1 = 9\n",
    "    print(solution.twoSum(nums1, target1))  # Output: [0, 1]\n",
    "    "
   ]
  },
  {
   "cell_type": "code",
   "execution_count": 15,
   "metadata": {},
   "outputs": [
    {
     "name": "stdout",
     "output_type": "stream",
     "text": [
      "Pairs that sum to 15 : {(5, 10), (7, 8)}\n"
     ]
    }
   ],
   "source": [
    "from typing import List, Set, Tuple\n",
    "\n",
    "def find_pairs_with(nums: List[int], k: int) -> Set[Tuple[int, int]]:\n",
    "    \"\"\"\n",
    "    Finds all unique pairs of integers in the list that sum up to k.\n",
    "\n",
    "    :param nums: A list of integers\n",
    "    :param k: Target sum for pairs\n",
    "    :return: A set of tuples, each containing a unique pair that adds up to k\n",
    "    \"\"\"\n",
    "    pairs: Set[Tuple[int, int]] = set()\n",
    "    visited: Set[int] = set()\n",
    "\n",
    "    for num in nums:\n",
    "        complement = k - num\n",
    "        if complement in visited:\n",
    "            # Use min/max to avoid duplicates like (3, 7) and (7, 3)\n",
    "            pairs.add((min(num, complement), max(num, complement)))\n",
    "        visited.add(num)\n",
    "\n",
    "    return pairs\n",
    "\n",
    "nums = [4, 5, 7, 8, 10]\n",
    "k = 15\n",
    "\n",
    "result = find_pairs_with(nums, k)\n",
    "print(\"Pairs that sum to\", k, \":\", result)\n"
   ]
  },
  {
   "cell_type": "code",
   "execution_count": 8,
   "metadata": {},
   "outputs": [
    {
     "name": "stdout",
     "output_type": "stream",
     "text": [
      "1 2\n",
      "2 7\n",
      "3 11\n",
      "4 15\n"
     ]
    }
   ],
   "source": [
    "nums1 = [2, 7, 11, 15]\n",
    "for i, n in enumerate(nums1, start=1):\n",
    "    print(i, n)\n"
   ]
  },
  {
   "cell_type": "code",
   "execution_count": 9,
   "metadata": {},
   "outputs": [
    {
     "name": "stdout",
     "output_type": "stream",
     "text": [
      "can\n",
      " a \n",
      "cat\n",
      " ea\n",
      "t g\n",
      "ras\n",
      "s?\n",
      "\n"
     ]
    }
   ],
   "source": [
    "s = \"can a cat eat grass?\"\n",
    "ss = \"cat\"\n",
    "\n",
    "n = len(s)\n",
    "m = len(ss)\n",
    "\n",
    "for i in range(0, n+m -1, m):\n",
    "    print(s[i:i+m])"
   ]
  },
  {
   "cell_type": "code",
   "execution_count": 6,
   "metadata": {},
   "outputs": [
    {
     "name": "stdout",
     "output_type": "stream",
     "text": [
      "'cat' found at index 6\n"
     ]
    }
   ],
   "source": [
    "def find_substring_index(str1: str, sub_str: str) -> int:\n",
    "    # Lengths of the string and substring\n",
    "    n = len(str1)\n",
    "    m = len(sub_str)\n",
    "\n",
    "    # Iterate through the string\n",
    "    for i in range(n - m + 1):\n",
    "        # Check if the substring matches starting at index i\n",
    "        if str1[i:i + m] == sub_str:\n",
    "            return i  # Return the index if found\n",
    "\n",
    "    return -1  # Return -1 if the substring is not found\n",
    "\n",
    "# Example usage\n",
    "s = \"can a cat eat grass?\"\n",
    "ss = \"cat\"\n",
    "\n",
    "index = find_substring_index(s, ss)\n",
    "\n",
    "if index != -1:\n",
    "    print(f\"'{ss}' found at index {index}\")\n",
    "else:\n",
    "    print(f\"'{ss}' not found in the string\")"
   ]
  },
  {
   "cell_type": "markdown",
   "metadata": {},
   "source": [
    "Compare 2 software version 1.3.3 & 1.4 comparison if v1 is greater return  1  if v1 <  v2 return -1"
   ]
  },
  {
   "cell_type": "code",
   "execution_count": 17,
   "metadata": {},
   "outputs": [
    {
     "name": "stdout",
     "output_type": "stream",
     "text": [
      "1.5.3 1.4\n",
      "[1, 5, 3] [1, 4]\n",
      "3\n",
      "Version 1.5.3 is greater than 1.4\n"
     ]
    }
   ],
   "source": [
    "def compare_versions(v1,v2):\n",
    "    v1_parts = list(map(int, v1.split('.')))\n",
    "    v2_parts = list(map(int, v2.split('.')))\n",
    "\n",
    "    print(v1, v2) \n",
    "    print(v1_parts, v2_parts)\n",
    "    length = max(len(v1_parts), len(v2_parts))\n",
    "    print(length)\n",
    "\n",
    "    v1_parts.extend([0] * (length -len(v1_parts)))\n",
    "    v2_parts.extend([0] * (length -len(v2_parts)))    \n",
    "    \n",
    "    for i in range(length):\n",
    "        if v1_parts[i] > v2_parts[i]:\n",
    "            return 1 \n",
    "        elif v1_parts[i] < v2_parts[i]:\n",
    "            return -1\n",
    "    return 0\n",
    "    print(\"after extending::\")\n",
    "    print(v1_parts)\n",
    "    print(v2_parts)\n",
    "# Example usage\n",
    "v1 = \"1.5.3\"\n",
    "v2 = \"1.4\"\n",
    "\n",
    "result = compare_versions(v1, v2)\n",
    "#result = compare_versions(\"\", \"1.0\") # should handle empty strings\n",
    "#result = compare_versions(v1, v2)\n",
    "# compare_versions(\"1.a.2\", \"1.2\")\n",
    "# compare_versions(\"-1.2.3\", \"1.2.3\")\n",
    "# compare_versions(\"1.-2.3\", \"1.2.3\")  \n",
    "#compare_versions(\"1.02\", \"1.2\")\n",
    "#compare_versions(\"1.0\", \"1.0.0\")  # This could be problematic if extra zeros cause confusion.\n",
    "\n",
    "\n",
    "\n",
    "\n",
    "if result == 1:\n",
    "    print(f\"Version {v1} is greater than {v2}\")\n",
    "elif result == -1:\n",
    "    print(f\"Version {v1} is less than {v2}\")\n",
    "else:\n",
    "    print(f\"Version {v1} is equal to {v2}\")"
   ]
  },
  {
   "cell_type": "code",
   "execution_count": 24,
   "metadata": {},
   "outputs": [
    {
     "name": "stdout",
     "output_type": "stream",
     "text": [
      "Error: Invalid version string '1.3.3a' (contains non-numeric characters).\n"
     ]
    },
    {
     "data": {
      "text/plain": [
       "0"
      ]
     },
     "execution_count": 24,
     "metadata": {},
     "output_type": "execute_result"
    }
   ],
   "source": [
    "def compare_versions(v1, v2):\n",
    "    # Function to check if a string contains only numeric characters and dots\n",
    "    def is_valid_version(version):\n",
    "        # Check if the version string contains only digits and dots\n",
    "        for char in version:\n",
    "            if not (char.isdigit() or char == '.'):\n",
    "                return False\n",
    "        return True\n",
    "    \n",
    "    # Check if both version strings are valid\n",
    "    if not is_valid_version(v1):\n",
    "        print(f\"Error: Invalid version string '{v1}' (contains non-numeric characters).\")\n",
    "        return None  # Return None to indicate an error\n",
    "    if not is_valid_version(v2):\n",
    "        print(f\"Error: Invalid version string '{v2}' (contains non-numeric characters).\")\n",
    "        return None  # Return None to indicate an error\n",
    "\n",
    "    # Split version strings by '.'\n",
    "    v1_parts = list(map(int, v1.split('.')))\n",
    "    v2_parts = list(map(int, v2.split('.')))\n",
    "    \n",
    "    # Compare the two version parts\n",
    "    # Make both lists the same length by padding with zeros\n",
    "    length = max(len(v1_parts), len(v2_parts))\n",
    "    v1_parts.extend([0] * (length - len(v1_parts)))\n",
    "    v2_parts.extend([0] * (length - len(v2_parts)))\n",
    "\n",
    "    # Compare each part\n",
    "    for i in range(length):\n",
    "        if v1_parts[i] > v2_parts[i]:\n",
    "            return 1  # v1 is greater\n",
    "        elif v1_parts[i] < v2_parts[i]:\n",
    "            return -1  # v1 is less\n",
    "    \n",
    "    return 0  # Versions are equal\n",
    "\n",
    "\n",
    "# Example usage with invalid characters\n",
    "v1 = \"1.3.3a\"  # Invalid version (contains a non-numeric character 'a')\n",
    "v2 = \"1.4\"\n",
    "result = compare_versions(v1, v2)\n",
    "if result is not None:\n",
    "    if result == 1:\n",
    "        print(f\"Version {v1} is greater than {v2}\")\n",
    "    elif result == -1:\n",
    "        print(f\"Version {v1} is less than {v2}\")\n",
    "    else:\n",
    "        print(f\"Version {v1} is equal to {v2}\")\n",
    "\n",
    "v1 = \"1.5.3\"\n",
    "v2 = \"1.4\"\n",
    "\n",
    "# result = compare_versions(v1, v2)\n",
    "#result = compare_versions(\"\", \"1.0\") # should handle empty strings\n",
    "#result = compare_versions(v1, v2)\n",
    "# compare_versions(\"1.a.2\", \"1.2\")\n",
    "# compare_versions(\"-1.2.3\", \"1.2.3\")\n",
    "# compare_versions(\"1.-2.3\", \"1.2.3\")  \n",
    "#compare_versions(\"1.02\", \"1.2\")\n",
    "compare_versions(\"1.0\", \"1.0.0\")  # This could be problematic if extra zeros cause confusion.\n",
    "\n"
   ]
  },
  {
   "cell_type": "code",
   "execution_count": 18,
   "metadata": {},
   "outputs": [
    {
     "name": "stdout",
     "output_type": "stream",
     "text": [
      "[0, 1, 4]\n",
      "[1, 2, 3, 0, 1]\n",
      "[0, 1, 4, 0, 1, 4]\n"
     ]
    }
   ],
   "source": [
    "def f(a, l=[]):\n",
    "    for i in range(a):\n",
    "          l.append(i * i)\n",
    "    print(l)\n",
    "\n",
    "f(3)\n",
    "f(2,l=[1,2,3])\n",
    "f(3)\n",
    "# f(3,l=[1,2,3])\n",
    "# f(3)"
   ]
  },
  {
   "cell_type": "code",
   "execution_count": 41,
   "metadata": {},
   "outputs": [
    {
     "name": "stdout",
     "output_type": "stream",
     "text": [
      "18 9\n",
      "18 9\n",
      "The result of 18 divided by 9 is: 2\n"
     ]
    }
   ],
   "source": [
    "def divide(dividend, divisor):\n",
    "\n",
    "    #Wdge case: Division by zero\n",
    "    if divisor == 0 :\n",
    "        raise ValueError(\"Cannot divide by zero\")\n",
    "    \n",
    "    print(dividend, divisor)\n",
    "    negative = (dividend < 0) != (divisor < 0)\n",
    "\n",
    "\n",
    "    dividend = abs(dividend)\n",
    "    divisor = abs(divisor)\n",
    "\n",
    "\n",
    "    print(dividend, divisor)\n",
    "\n",
    "    quotient = 0 \n",
    "    while dividend >= divisor:\n",
    "        dividend -=divisor\n",
    "        quotient +=1\n",
    "\n",
    "    # Apply the negative sign if needed\n",
    "    if negative:\n",
    "        quotient = -quotient\n",
    "    return quotient\n",
    "        \n",
    "dividend = 18\n",
    "divisor = 9\n",
    "result = divide(dividend, divisor)\n",
    "print(f\"The result of {dividend} divided by {divisor} is: {result}\")\n"
   ]
  },
  {
   "cell_type": "code",
   "execution_count": 6,
   "metadata": {},
   "outputs": [],
   "source": [
    "import logging\n",
    "from dataclasses import dataclass, field\n",
    "from typing import Any, Optional, Dict\n",
    "\n",
    "# create logger object\n",
    "log = logging.getLogger(__name__)\n",
    "\n",
    "\n",
    "@dataclass\n",
    "class InstanceManager:\n",
    "    instances: Dict[str, Any] = field(default_factory=dict)\n",
    "\n",
    "    def add_instance(self, key: str, obj: Any) -> None:\n",
    "        \"\"\"Adds an object with a unique key.\"\"\"\n",
    "        if key in self.instances:\n",
    "            log.warning(\n",
    "                f\"Key '{key}' already exists. Use a different key or update the instance.\"\n",
    "            )\n",
    "        self.instances[key] = obj\n",
    "\n",
    "    def get_instance(self, key: str) -> Optional[Any]:\n",
    "        \"\"\"Retrieves an object by its key.\"\"\"\n",
    "        return self.instances.get(key)\n",
    "\n",
    "    def update_instance(self, key: str, obj: Any) -> None:\n",
    "        \"\"\"Updates an object for the given key.\"\"\"\n",
    "        if key not in self.instances:\n",
    "            raise KeyError(f\"Key '{key}' not found. Use add_instance to add it first.\")\n",
    "        self.instances[key] = obj\n",
    "\n",
    "    def remove_instance(self, key: str) -> None:\n",
    "        \"\"\"Removes an object by its key.\"\"\"\n",
    "        if key in self.instances:\n",
    "            del self.instances[key]\n",
    "        else:\n",
    "            raise KeyError(f\"Key '{key}' not found.\")\n",
    "\n",
    "    def clear_instances(self) -> None:\n",
    "        \"\"\"Removes all stored objects.\"\"\"\n",
    "        self.instances.clear()\n",
    "\n",
    "\n",
    "manager = InstanceManager()\n",
    "\n",
    "\n",
    "class AppConfig:\n",
    "    def __init__(self, env: str, debug: bool):\n",
    "        self.env = env\n",
    "        self.debug = debug\n",
    "\n",
    "config = AppConfig(env=\"production\", debug=False)\n",
    "manager.add_instance('config', config)"
   ]
  },
  {
   "cell_type": "code",
   "execution_count": 10,
   "metadata": {},
   "outputs": [],
   "source": [
    "class ServiceA:\n",
    "    def __init__(self):\n",
    "        self.config = manager.get_instance(\"config\")\n",
    "\n",
    "    def run(self):\n",
    "        print(f\"[ServiceA] Environment: {self.config.env}, Debug Mode: {self.config.debug}\")\n",
    "\n",
    "class ServiceB:\n",
    "    def __init__(self):\n",
    "        self.config = manager.get_instance(\"config\")\n",
    "\n",
    "    def is_debug_enabled(self):\n",
    "        return self.config.debug\n"
   ]
  },
  {
   "cell_type": "code",
   "execution_count": 13,
   "metadata": {},
   "outputs": [
    {
     "name": "stderr",
     "output_type": "stream",
     "text": [
      "Key 'config' already exists. Use a different key or update the instance.\n"
     ]
    },
    {
     "name": "stdout",
     "output_type": "stream",
     "text": [
      "[ServiceA] Environment: staging, Debug Mode: True\n",
      "ServiceB Debug Mode: True\n"
     ]
    }
   ],
   "source": [
    "def main():\n",
    "    # Add shared instance\n",
    "    config = AppConfig(env=\"staging\", debug=True)\n",
    "    manager.add_instance(\"config\", config)\n",
    "\n",
    "    # Use it in different classes\n",
    "    a = ServiceA()\n",
    "    b = ServiceB()\n",
    "\n",
    "    a.run()\n",
    "    print(\"ServiceB Debug Mode:\", b.is_debug_enabled())\n",
    "# Update config at runtime\n",
    "#manager.update_instance(\"config\", AppConfig(env=\"prod\", debug=False))\n",
    "\n",
    "\n",
    "main()\n"
   ]
  },
  {
   "cell_type": "code",
   "execution_count": 14,
   "metadata": {},
   "outputs": [
    {
     "name": "stdout",
     "output_type": "stream",
     "text": [
      "[ServiceA] Env: staging, Debug: True\n",
      "ServiceB Debug Mode: True\n",
      "\n",
      "--- Updating config at runtime ---\n",
      "[ServiceA] Env: production, Debug: False\n",
      "ServiceB Debug Mode: False\n"
     ]
    }
   ],
   "source": [
    "import logging\n",
    "from dataclasses import dataclass, field\n",
    "from typing import Any, Optional, Dict\n",
    "\n",
    "# Logger setup\n",
    "logging.basicConfig(level=logging.INFO)\n",
    "log = logging.getLogger(__name__)\n",
    "\n",
    "# --- InstanceManager ---\n",
    "@dataclass\n",
    "class InstanceManager:\n",
    "    instances: Dict[str, Any] = field(default_factory=dict)\n",
    "\n",
    "    def add_instance(self, key: str, obj: Any) -> None:\n",
    "        if key in self.instances:\n",
    "            log.warning(f\"Key '{key}' already exists. Overwriting.\")\n",
    "        self.instances[key] = obj\n",
    "\n",
    "    def get_instance(self, key: str) -> Optional[Any]:\n",
    "        return self.instances.get(key)\n",
    "\n",
    "    def update_instance(self, key: str, obj: Any) -> None:\n",
    "        if key not in self.instances:\n",
    "            raise KeyError(f\"Key '{key}' not found.\")\n",
    "        self.instances[key] = obj\n",
    "\n",
    "manager = InstanceManager()\n",
    "\n",
    "# --- AppConfig class ---\n",
    "class AppConfig:\n",
    "    def __init__(self, env: str, debug: bool):\n",
    "        self.env = env\n",
    "        self.debug = debug\n",
    "\n",
    "# --- Service classes using config ---\n",
    "class ServiceA:\n",
    "    def __init__(self):\n",
    "        self.config = manager.get_instance(\"config\")\n",
    "\n",
    "    def print_config(self):\n",
    "        print(f\"[ServiceA] Env: {self.config.env}, Debug: {self.config.debug}\")\n",
    "\n",
    "class ServiceB:\n",
    "    def __init__(self):\n",
    "        self.config = manager.get_instance(\"config\")\n",
    "\n",
    "    def is_debug_mode(self):\n",
    "        return self.config.debug\n",
    "\n",
    "# --- Main logic ---\n",
    "def main():\n",
    "    # 1. Add shared config\n",
    "    config = AppConfig(env=\"staging\", debug=True)\n",
    "    manager.add_instance(\"config\", config)\n",
    "\n",
    "    # 2. Use config in multiple services\n",
    "    a = ServiceA()\n",
    "    b = ServiceB()\n",
    "\n",
    "    a.print_config()\n",
    "    print(\"ServiceB Debug Mode:\", b.is_debug_mode())\n",
    "\n",
    "    # 3. Update config at runtime\n",
    "    print(\"\\n--- Updating config at runtime ---\")\n",
    "    manager.update_instance(\"config\", AppConfig(env=\"production\", debug=False))\n",
    "\n",
    "    # 4. Re-initialize services to pick up new config\n",
    "    a = ServiceA()\n",
    "    b = ServiceB()\n",
    "    \n",
    "    a.print_config()\n",
    "    print(\"ServiceB Debug Mode:\", b.is_debug_mode())\n",
    "\n",
    "main()\n"
   ]
  },
  {
   "cell_type": "code",
   "execution_count": null,
   "metadata": {},
   "outputs": [],
   "source": []
  }
 ],
 "metadata": {
  "colab": {
   "provenance": []
  },
  "kernelspec": {
   "display_name": "Python 3",
   "language": "python",
   "name": "python3"
  },
  "language_info": {
   "codemirror_mode": {
    "name": "ipython",
    "version": 3
   },
   "file_extension": ".py",
   "mimetype": "text/x-python",
   "name": "python",
   "nbconvert_exporter": "python",
   "pygments_lexer": "ipython3",
   "version": "3.11.2"
  }
 },
 "nbformat": 4,
 "nbformat_minor": 0
}
