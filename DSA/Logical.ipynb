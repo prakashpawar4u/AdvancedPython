{
  "cells": [
    {
      "cell_type": "code",
      "execution_count": null,
      "metadata": {
        "colab": {
          "base_uri": "https://localhost:8080/"
        },
        "id": "9Hhx6gV5JreK",
        "outputId": "17fb9bfa-ab75-4366-e478-ee49515f4b75"
      },
      "outputs": [
        {
          "name": "stdout",
          "output_type": "stream",
          "text": [
            "3\n",
            "4\n",
            "[114, 160, 60, 27]\n",
            "[74, 97, 73, 14]\n",
            "[119, 157, 112, 23]\n"
          ]
        }
      ],
      "source": [
        "# Program to multiply two matrices using nested loops\n",
        "\n",
        "# 3x3 matrix\n",
        "X = [[12,7,3],\n",
        "    [4 ,5,6],\n",
        "    [7 ,8,9]]\n",
        "# 3x4 matrix\n",
        "Y = [[5,8,1,2],\n",
        "    [6,7,3,0],\n",
        "    [4,5,9,1]]\n",
        "\n",
        "# result will be 3x4(3 rows from first Matrix & 4 coloumns from second Matrix)\n",
        "result = [[0,0,0,0],\n",
        "         [0,0,0,0],\n",
        "         [0,0,0,0]]\n",
        "\n",
        "\n",
        "print(len(X))\n",
        "print(len(Y[0]))\n",
        "\n",
        "#iterate through rows of X\n",
        "for i in range(len(X)):\n",
        "  #iterate through Columns of Y\n",
        "  for j in range(len(Y[0])):\n",
        "    #iterate through rows of Y\n",
        "    for k in range(len(Y)):\n",
        "      #print(f\"Each Item :: {X[i][k] * Y[k][j]}\")\n",
        "      result[i][j] += X[i][k] * Y[k][j]\n",
        "\n",
        "\n",
        "for p in result:\n",
        "  print(p)\n"
      ]
    },
    {
      "cell_type": "code",
      "execution_count": null,
      "metadata": {
        "colab": {
          "base_uri": "https://localhost:8080/"
        },
        "id": "RnZ2L1pzt9yW",
        "outputId": "a69ab7b6-2d78-463d-8a05-a1f54786ba60"
      },
      "outputs": [
        {
          "name": "stdout",
          "output_type": "stream",
          "text": [
            "The square root of 18 is approximately 4.242640687119335\n"
          ]
        }
      ],
      "source": [
        "#square root with sqrt method:\n",
        "def sqrt_newton_raphson(number, epsilon=1e-6, max_iterations=100):\n",
        "    if number < 0:\n",
        "        raise ValueError(\"Cannot calculate the square root of a negative number\")\n",
        "\n",
        "    guess = number / 2.0  # Initial guess\n",
        "    for _ in range(max_iterations):\n",
        "        next_guess = 0.5 * (guess + number / guess)\n",
        "        if abs(next_guess - guess) < epsilon:\n",
        "            return next_guess  # Converged to an acceptable approximation\n",
        "        guess = next_guess\n",
        "\n",
        "    return guess  # Return the best approximation after max_iterations\n",
        "\n",
        "# Example usage\n",
        "number = 18  # Change this to the number for which you want to calculate the square root\n",
        "result = sqrt_newton_raphson(number)\n",
        "print(f\"The square root of {number} is approximately {result}\")"
      ]
    },
    {
      "cell_type": "code",
      "execution_count": null,
      "metadata": {
        "id": "Ncw1qDW_sn0F"
      },
      "outputs": [],
      "source": [
        "class Solution:\n",
        "    #def productExceptSelf(self, nums: List[int]) -> List[int]:\n",
        "    def productExceptSelf(self, nums):\n",
        "        res = [1] * (len(nums))\n",
        "\n",
        "        prefix = 1\n",
        "        for i in range(len(nums)):\n",
        "            res[i] = prefix\n",
        "            prefix *= nums[i]\n",
        "\n",
        "        postfix = 1\n",
        "        for i in range(len(nums) -1, -1, -1):\n",
        "            res[i] *= postfix\n",
        "            postfix *= nums[i]\n",
        "        print(\"Final Res::\", res)\n",
        "        return res\n",
        "\n",
        "        print(\"Final : \",prefix)\n",
        "\n",
        "\n",
        "sObj = Solution()\n",
        "sObj.productExceptSelf([1,2,3,4])"
      ]
    },
    {
      "cell_type": "code",
      "execution_count": 1,
      "metadata": {},
      "outputs": [
        {
          "name": "stdout",
          "output_type": "stream",
          "text": [
            "{'this': 3, 'is': 2, 'mine': 1}\n"
          ]
        }
      ],
      "source": [
        "wordsList = ['this','is','this','is','this','mine']\n",
        "\n",
        "dictWords = {x:wordsList.count(x) for x in wordsList}\n",
        "print(dictWords)"
      ]
    },
    {
      "cell_type": "code",
      "execution_count": 5,
      "metadata": {},
      "outputs": [
        {
          "data": {
            "text/plain": [
              "{'this': 3, 'is': 2, 'mine': 1}"
            ]
          },
          "execution_count": 5,
          "metadata": {},
          "output_type": "execute_result"
        }
      ],
      "source": [
        "dictwords = {}\n",
        "for i in wordsList:\n",
        "    if i in dictwords:\n",
        "        dictwords[i] += 1\n",
        "    else:\n",
        "        dictwords[i] = 1\n",
        "dictWords"
      ]
    },
    {
      "cell_type": "code",
      "execution_count": 6,
      "metadata": {},
      "outputs": [
        {
          "name": "stdout",
          "output_type": "stream",
          "text": [
            "{'g': 2, 'o': 3, 'l': 1, 'e': 1, '.': 1, 'c': 1, 'm': 1}\n"
          ]
        }
      ],
      "source": [
        "# char frequency\n",
        "\n",
        "def charFrequency(str1):\n",
        "    frequency = {}\n",
        "    for char in str1:\n",
        "        keys = frequency.keys()\n",
        "        if char in keys:\n",
        "            frequency[char] += 1\n",
        "        else:\n",
        "            frequency[char] = 1\n",
        "    return frequency\n",
        "\n",
        "print(charFrequency('google.com'))"
      ]
    },
    {
      "cell_type": "code",
      "execution_count": 8,
      "metadata": {},
      "outputs": [
        {
          "name": "stdout",
          "output_type": "stream",
          "text": [
            "gh\n"
          ]
        }
      ],
      "source": [
        "'''Q2:\n",
        "input = \"abcdefgh\"\n",
        "output - \"cba fed gh\"\n",
        "Here split the string for every 3 letters and reverse each word'''\n",
        "\n",
        "str1 = 'abcdefgh'\n",
        "\n",
        "for i in range(0, len(str1), 3):\n",
        "    st2 = str1[i:i+3]\n",
        "    if len(st2) > 3:\n",
        "        # print(st2[::-1], end=' ')\n",
        "        str3=st2[:: -1]\n",
        "    else:\n",
        "        str3 = ''.join(st2)\n",
        "        # print(str3[::-1], end=' ')\n",
        "\n",
        "print(str3)\n",
        "# input = \"abcdefgh\"\n"
      ]
    },
    {
      "cell_type": "markdown",
      "metadata": {},
      "source": [
        "Q3:get the ip address & port & the page its accessing from the URL of below format:\n",
        "http://10.10.200.1:99/index.html"
      ]
    },
    {
      "cell_type": "code",
      "execution_count": 9,
      "metadata": {},
      "outputs": [
        {
          "name": "stdout",
          "output_type": "stream",
          "text": [
            "IP Address: 10.10.200.1\n",
            "Port: 99\n"
          ]
        }
      ],
      "source": [
        "import re\n",
        "\n",
        "input1 = \"get the ip address & port & the page its accessing from the URL of below format http://10.10.200.1:99/index.html\"\n",
        "\n",
        "# Regular expression to match the IP address and port\n",
        "pattern = r\"http://([\\d\\.]+):(\\d+)/\"\n",
        "\n",
        "match = re.search(pattern, input1)\n",
        "if match:\n",
        "    ip_address = match.group(1)\n",
        "    port = match.group(2)\n",
        "    print(f\"IP Address: {ip_address}\")\n",
        "    print(f\"Port: {port}\")\n",
        "else:\n",
        "    print(\"No match found\")\n"
      ]
    },
    {
      "cell_type": "markdown",
      "metadata": {},
      "source": [
        "\"Q4\":\n",
        "l1 = ['User1', 'User2', 'User3']\n",
        "l2 = ['Pass1', 'Pass2', 'Pass3']\n",
        "\n",
        "Output:  [['User1', 'Pass1'], ['User2', 'Pass2'], ['User3', 'Pass3']]"
      ]
    },
    {
      "cell_type": "code",
      "execution_count": 10,
      "metadata": {},
      "outputs": [
        {
          "name": "stdout",
          "output_type": "stream",
          "text": [
            "[['User1', 'Pass1'], ['User2', 'Pass2'], ['User3', 'Pass3']]\n"
          ]
        }
      ],
      "source": [
        "l1 = ['User1', 'User2', 'User3']\n",
        "l2 = ['Pass1', 'Pass2', 'Pass3']\n",
        "\n",
        "#Output:  [['User1', 'Pass1'], ['User2', 'Pass2'], ['User3', 'Pass3']]\n",
        "final = []\n",
        "for i in range(len(l1)):\n",
        "    l3 = l1[i], l2[i]\n",
        "    final.append(list(l3))\n",
        "print(final)"
      ]
    },
    {
      "cell_type": "code",
      "execution_count": null,
      "metadata": {},
      "outputs": [],
      "source": []
    }
  ],
  "metadata": {
    "colab": {
      "provenance": []
    },
    "kernelspec": {
      "display_name": "envML",
      "language": "python",
      "name": "python3"
    },
    "language_info": {
      "codemirror_mode": {
        "name": "ipython",
        "version": 3
      },
      "file_extension": ".py",
      "mimetype": "text/x-python",
      "name": "python",
      "nbconvert_exporter": "python",
      "pygments_lexer": "ipython3",
      "version": "3.10.15"
    }
  },
  "nbformat": 4,
  "nbformat_minor": 0
}
