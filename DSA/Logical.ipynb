{
 "cells": [
  {
   "cell_type": "code",
   "execution_count": null,
   "metadata": {
    "colab": {
     "base_uri": "https://localhost:8080/"
    },
    "id": "9Hhx6gV5JreK",
    "outputId": "17fb9bfa-ab75-4366-e478-ee49515f4b75"
   },
   "outputs": [
    {
     "name": "stdout",
     "output_type": "stream",
     "text": [
      "3\n",
      "4\n",
      "[114, 160, 60, 27]\n",
      "[74, 97, 73, 14]\n",
      "[119, 157, 112, 23]\n"
     ]
    }
   ],
   "source": [
    "# Program to multiply two matrices using nested loops\n",
    "\n",
    "# 3x3 matrix\n",
    "X = [[12,7,3],\n",
    "    [4 ,5,6],\n",
    "    [7 ,8,9]]\n",
    "# 3x4 matrix\n",
    "Y = [[5,8,1,2],\n",
    "    [6,7,3,0],\n",
    "    [4,5,9,1]]\n",
    "\n",
    "# result will be 3x4(3 rows from first Matrix & 4 coloumns from second Matrix)\n",
    "result = [[0,0,0,0],\n",
    "         [0,0,0,0],\n",
    "         [0,0,0,0]]\n",
    "\n",
    "\n",
    "print(len(X))\n",
    "print(len(Y[0]))\n",
    "\n",
    "#iterate through rows of X\n",
    "for i in range(len(X)):\n",
    "  #iterate through Columns of Y\n",
    "  for j in range(len(Y[0])):\n",
    "    #iterate through rows of Y\n",
    "    for k in range(len(Y)):\n",
    "      #print(f\"Each Item :: {X[i][k] * Y[k][j]}\")\n",
    "      result[i][j] += X[i][k] * Y[k][j]\n",
    "\n",
    "\n",
    "for p in result:\n",
    "  print(p)\n"
   ]
  },
  {
   "cell_type": "code",
   "execution_count": null,
   "metadata": {
    "colab": {
     "base_uri": "https://localhost:8080/"
    },
    "id": "RnZ2L1pzt9yW",
    "outputId": "a69ab7b6-2d78-463d-8a05-a1f54786ba60"
   },
   "outputs": [
    {
     "name": "stdout",
     "output_type": "stream",
     "text": [
      "The square root of 18 is approximately 4.242640687119335\n"
     ]
    }
   ],
   "source": [
    "#square root with sqrt method:\n",
    "def sqrt_newton_raphson(number, epsilon=1e-6, max_iterations=100):\n",
    "    if number < 0:\n",
    "        raise ValueError(\"Cannot calculate the square root of a negative number\")\n",
    "\n",
    "    guess = number / 2.0  # Initial guess\n",
    "    for _ in range(max_iterations):\n",
    "        next_guess = 0.5 * (guess + number / guess)\n",
    "        if abs(next_guess - guess) < epsilon:\n",
    "            return next_guess  # Converged to an acceptable approximation\n",
    "        guess = next_guess\n",
    "\n",
    "    return guess  # Return the best approximation after max_iterations\n",
    "\n",
    "# Example usage\n",
    "number = 18  # Change this to the number for which you want to calculate the square root\n",
    "result = sqrt_newton_raphson(number)\n",
    "print(f\"The square root of {number} is approximately {result}\")"
   ]
  },
  {
   "cell_type": "code",
   "execution_count": null,
   "metadata": {
    "id": "Ncw1qDW_sn0F"
   },
   "outputs": [],
   "source": [
    "class Solution:\n",
    "    #def productExceptSelf(self, nums: List[int]) -> List[int]:\n",
    "    def productExceptSelf(self, nums):\n",
    "        res = [1] * (len(nums))\n",
    "\n",
    "        prefix = 1\n",
    "        for i in range(len(nums)):\n",
    "            res[i] = prefix\n",
    "            prefix *= nums[i]\n",
    "\n",
    "        postfix = 1\n",
    "        for i in range(len(nums) -1, -1, -1):\n",
    "            res[i] *= postfix\n",
    "            postfix *= nums[i]\n",
    "        print(\"Final Res::\", res)\n",
    "        return res\n",
    "\n",
    "        print(\"Final : \",prefix)\n",
    "\n",
    "\n",
    "sObj = Solution()\n",
    "sObj.productExceptSelf([1,2,3,4])"
   ]
  },
  {
   "cell_type": "code",
   "execution_count": 1,
   "metadata": {},
   "outputs": [
    {
     "name": "stdout",
     "output_type": "stream",
     "text": [
      "{'this': 3, 'is': 2, 'mine': 1}\n"
     ]
    }
   ],
   "source": [
    "wordsList = ['this','is','this','is','this','mine']\n",
    "\n",
    "dictWords = {x:wordsList.count(x) for x in wordsList}\n",
    "print(dictWords)"
   ]
  },
  {
   "cell_type": "code",
   "execution_count": 5,
   "metadata": {},
   "outputs": [
    {
     "data": {
      "text/plain": [
       "{'this': 3, 'is': 2, 'mine': 1}"
      ]
     },
     "execution_count": 5,
     "metadata": {},
     "output_type": "execute_result"
    }
   ],
   "source": [
    "dictwords = {}\n",
    "for i in wordsList:\n",
    "    if i in dictwords:\n",
    "        dictwords[i] += 1\n",
    "    else:\n",
    "        dictwords[i] = 1\n",
    "dictWords"
   ]
  },
  {
   "cell_type": "code",
   "execution_count": 6,
   "metadata": {},
   "outputs": [
    {
     "name": "stdout",
     "output_type": "stream",
     "text": [
      "{'g': 2, 'o': 3, 'l': 1, 'e': 1, '.': 1, 'c': 1, 'm': 1}\n"
     ]
    }
   ],
   "source": [
    "# char frequency\n",
    "\n",
    "def charFrequency(str1):\n",
    "    frequency = {}\n",
    "    for char in str1:\n",
    "        keys = frequency.keys()\n",
    "        if char in keys:\n",
    "            frequency[char] += 1\n",
    "        else:\n",
    "            frequency[char] = 1\n",
    "    return frequency\n",
    "\n",
    "print(charFrequency('google.com'))"
   ]
  },
  {
   "cell_type": "code",
   "execution_count": 8,
   "metadata": {},
   "outputs": [
    {
     "name": "stdout",
     "output_type": "stream",
     "text": [
      "gh\n"
     ]
    }
   ],
   "source": [
    "'''Q2:\n",
    "input = \"abcdefgh\"\n",
    "output - \"cba fed gh\"\n",
    "Here split the string for every 3 letters and reverse each word'''\n",
    "\n",
    "str1 = 'abcdefgh'\n",
    "\n",
    "for i in range(0, len(str1), 3):\n",
    "    st2 = str1[i:i+3]\n",
    "    if len(st2) > 3:\n",
    "        # print(st2[::-1], end=' ')\n",
    "        str3=st2[:: -1]\n",
    "    else:\n",
    "        str3 = ''.join(st2)\n",
    "        # print(str3[::-1], end=' ')\n",
    "\n",
    "print(str3)\n",
    "# input = \"abcdefgh\"\n"
   ]
  },
  {
   "cell_type": "markdown",
   "metadata": {},
   "source": [
    "Q3:get the ip address & port & the page its accessing from the URL of below format:\n",
    "http://10.10.200.1:99/index.html"
   ]
  },
  {
   "cell_type": "code",
   "execution_count": 9,
   "metadata": {},
   "outputs": [
    {
     "name": "stdout",
     "output_type": "stream",
     "text": [
      "IP Address: 10.10.200.1\n",
      "Port: 99\n"
     ]
    }
   ],
   "source": [
    "import re\n",
    "\n",
    "input1 = \"get the ip address & port & the page its accessing from the URL of below format http://10.10.200.1:99/index.html\"\n",
    "\n",
    "# Regular expression to match the IP address and port\n",
    "pattern = r\"http://([\\d\\.]+):(\\d+)/\"\n",
    "\n",
    "match = re.search(pattern, input1)\n",
    "if match:\n",
    "    ip_address = match.group(1)\n",
    "    port = match.group(2)\n",
    "    print(f\"IP Address: {ip_address}\")\n",
    "    print(f\"Port: {port}\")\n",
    "else:\n",
    "    print(\"No match found\")\n"
   ]
  },
  {
   "cell_type": "markdown",
   "metadata": {},
   "source": [
    "\"Q4\":\n",
    "l1 = ['User1', 'User2', 'User3']\n",
    "l2 = ['Pass1', 'Pass2', 'Pass3']\n",
    "\n",
    "Output:  [['User1', 'Pass1'], ['User2', 'Pass2'], ['User3', 'Pass3']]"
   ]
  },
  {
   "cell_type": "code",
   "execution_count": 10,
   "metadata": {},
   "outputs": [
    {
     "name": "stdout",
     "output_type": "stream",
     "text": [
      "[['User1', 'Pass1'], ['User2', 'Pass2'], ['User3', 'Pass3']]\n"
     ]
    }
   ],
   "source": [
    "l1 = ['User1', 'User2', 'User3']\n",
    "l2 = ['Pass1', 'Pass2', 'Pass3']\n",
    "\n",
    "#Output:  [['User1', 'Pass1'], ['User2', 'Pass2'], ['User3', 'Pass3']]\n",
    "final = []\n",
    "for i in range(len(l1)):\n",
    "    l3 = l1[i], l2[i]\n",
    "    final.append(list(l3))\n",
    "print(final)"
   ]
  },
  {
   "cell_type": "markdown",
   "metadata": {},
   "source": [
    "# Prefix Sum\n",
    "\n",
    "Prefix Sum involves preprocessing an array to create a new array where each element at index i represents the sum of the array from the start up to i. This allows for efficient sum queries on subarrays.\n",
    "\n",
    "Use this pattern when you need to perform multiple sum queries on a subarray or need to calculate cumulative sums.\n",
    "\n",
    "Sample Problem:\n",
    "Given an array nums, answer multiple queries about the sum of elements within a specific range [i, j].\n",
    "\n",
    "Example:\n",
    "\n",
    "Input: nums = [1, 2, 3, 4, 5, 6], i = 1, j = 3\n",
    "\n",
    "Output: 9\n",
    "\n",
    "Explanation:\n",
    "Preprocess the array A to create a prefix sum array: P = [1, 3, 6, 10, 15, 21].\n",
    "\n",
    "To find the sum between indices i and j, use the formula: P[j] - P[i-1].\n",
    "\n",
    "LeetCode Problems:\n",
    "Range Sum Query - Immutable (LeetCode #303)\n",
    "\n",
    "Contiguous Array (LeetCode #525)\n",
    "\n",
    "Subarray Sum Equals K (LeetCode #560)\n"
   ]
  },
  {
   "cell_type": "code",
   "execution_count": 1,
   "metadata": {},
   "outputs": [
    {
     "name": "stdout",
     "output_type": "stream",
     "text": [
      "[1, 3, 0, 0, 0, 0]\n",
      "[1, 3, 6, 0, 0, 0]\n",
      "[1, 3, 6, 10, 0, 0]\n",
      "[1, 3, 6, 10, 15, 0]\n",
      "[1, 3, 6, 10, 15, 21]\n"
     ]
    },
    {
     "data": {
      "text/plain": [
       "9"
      ]
     },
     "execution_count": 1,
     "metadata": {},
     "output_type": "execute_result"
    }
   ],
   "source": [
    "class PrefixSum:\n",
    "    def __init__(self, nums):\n",
    "        self.prefix_sum = [0] * len(nums)\n",
    "        self.prefix_sum[0] = nums[0]\n",
    "       \n",
    "        for i in range(1, len(nums)):\n",
    "            self.prefix_sum[i] = self.prefix_sum[i-1] + nums[i]\n",
    "            print(self.prefix_sum)\n",
    "\n",
    "    def range_sum(self, i, j):\n",
    "        if i == 0:\n",
    "            return self.prefix_sum[j]\n",
    "        else:\n",
    "            return self.prefix_sum[j] - self.prefix_sum[i-1]\n",
    "    \n",
    "\n",
    "\n",
    "\n",
    "nums = [1, 2, 3, 4, 5, 6]\n",
    "prefix_sum = PrefixSum(nums)\n",
    "\n",
    "result = prefix_sum.range_sum(1,3)\n",
    "result "
   ]
  },
  {
   "cell_type": "markdown",
   "metadata": {},
   "source": [
    "# 2 Two Pointers\n",
    "\n",
    "The Two Pointers pattern involves using two pointers to iterate through an array or list, often used to find pairs or elements that meet specific criteria.\n",
    "\n",
    "Use this pattern when dealing with sorted arrays or lists where you need to find pairs that satisfy a specific condition.\n",
    "\n",
    "Sample Problem:\n",
    "Find two numbers in a sorted array that add up to a target value.\n",
    "\n",
    "Example:\n",
    "\n",
    "Input: nums = [1, 2, 3, 4, 6], target = 6\n",
    "\n",
    "Output: [1, 3]\n",
    "\n",
    "Explanation:\n",
    "Initialize two pointers, one at the start (left) and one at the end (right) of the array.\n",
    "\n",
    "Check the sum of the elements at the two pointers.\n",
    "\n",
    "If the sum equals the target, return the indices.\n",
    "\n",
    "If the sum is less than the target, move the left pointer to the right.\n",
    "\n",
    "If the sum is greater than the target, move the right pointer to the left.\n",
    "\n",
    "LeetCode Problems:\n",
    "Two Sum II - Input Array is Sorted (LeetCode #167)\n",
    "\n",
    "3Sum (LeetCode #15)\n",
    "\n",
    "Container With Most Water (LeetCode #11)"
   ]
  },
  {
   "cell_type": "code",
   "execution_count": 8,
   "metadata": {},
   "outputs": [
    {
     "name": "stdout",
     "output_type": "stream",
     "text": [
      "[2, 4]\n"
     ]
    }
   ],
   "source": [
    "def two_sum(nums, target):\n",
    "    # Initialize two pointers: one at the beginning, one at the end\n",
    "    left = 0\n",
    "    right = len(nums) - 1\n",
    "    \n",
    "    while left < right:\n",
    "        current_sum = nums[left] + nums[right]\n",
    "        \n",
    "        if current_sum == target:\n",
    "            return [nums[left], nums[right]]  # Found the pair\n",
    "        elif current_sum < target:\n",
    "            left += 1  # Move the left pointer to the right to increase the sum\n",
    "        else:\n",
    "            right -= 1  # Move the right pointer to the left to decrease the sum\n",
    "    \n",
    "    return [] \n",
    "\n",
    "nums = [1,2,3,4,6]\n",
    "target = 6\n",
    "print(two_sum(nums, target))\n"
   ]
  },
  {
   "cell_type": "markdown",
   "metadata": {},
   "source": [
    "# 3. Sliding Window\n",
    "\n",
    "The Sliding Window pattern is used to find a subarray or substring that satisfies a specific condition, optimizing the time complexity by maintaining a window of elements.\n",
    "\n",
    "Use this pattern when dealing with problems involving contiguous subarrays or substrings.\n",
    "\n",
    "Sample Problem:\n",
    "Find the maximum sum of a subarray of size k.\n",
    "\n",
    "Example:\n",
    "\n",
    "Input: nums = [2, 1, 5, 1, 3, 2], k = 3\n",
    "\n",
    "Output: 9\n",
    "\n",
    "Explanation:\n",
    "Start with the sum of the first k elements.\n",
    "\n",
    "Slide the window one element at a time, subtracting the element that goes out of the window and adding the new element.\n",
    "\n",
    "Keep track of the maximum sum encountered.\n",
    "\n",
    "LeetCode Problems:\n",
    "Maximum Average Subarray I (LeetCode #643)\n",
    "\n",
    "Longest Substring Without Repeating Characters (LeetCode #3)\n",
    "\n",
    "Minimum Window Substring (LeetCode #76)"
   ]
  },
  {
   "cell_type": "code",
   "execution_count": 4,
   "metadata": {},
   "outputs": [
    {
     "name": "stdout",
     "output_type": "stream",
     "text": [
      "9\n"
     ]
    }
   ],
   "source": [
    "def max_sum_subarray(nums, k):\n",
    "    if len(nums) < k:\n",
    "        return 0\n",
    "    \n",
    "    #Calculate the sum of the first window\n",
    "    current_sum = sum(nums[:k])\n",
    "    max_sum = current_sum\n",
    "\n",
    "    for i in range(k, len(nums)):\n",
    "        current_sum += nums[i] - nums[i-k]\n",
    "\n",
    "        max_sum = max(max_sum, current_sum)\n",
    "    return max_sum\n",
    "\n",
    "nums = [2, 1, 5, 1, 3, 2]\n",
    "k = 3\n",
    "print(max_sum_subarray(nums, k))  # Output: 9\n",
    "    "
   ]
  },
  {
   "cell_type": "markdown",
   "metadata": {},
   "source": [
    "# 4 Fast & Slow Pointers\n",
    "\n",
    "The Fast & Slow Pointers (Tortoise and Hare) pattern is used to detect cycles in linked lists and other similar structures.\n",
    "\n",
    "Sample Problem:\n",
    "Detect if a linked list has a cycle.\n",
    "\n",
    "Explanation:\n",
    "Initialize two pointers, one moving one step at a time (slow) and the other moving two steps at a time (fast).\n",
    "\n",
    "If there is a cycle, the fast pointer will eventually meet the slow pointer.\n",
    "\n",
    "If the fast pointer reaches the end of the list, there is no cycle.\n",
    "\n",
    "LeetCode Problems:\n",
    "Linked List Cycle (LeetCode #141)\n",
    "\n",
    "Happy Number (LeetCode #202)\n",
    "\n",
    "Find the Duplicate Number (LeetCode #287)"
   ]
  },
  {
   "cell_type": "code",
   "execution_count": 16,
   "metadata": {},
   "outputs": [
    {
     "name": "stdout",
     "output_type": "stream",
     "text": [
      "True\n"
     ]
    }
   ],
   "source": [
    "class ListNode:\n",
    "    def __init__(self, val= 0, next= None):\n",
    "        self.val = val\n",
    "        self.next = next\n",
    "    \n",
    "def hasCycle(head):\n",
    "    if not head or not head.next:\n",
    "        return False\n",
    "    \n",
    "    slow = head\n",
    "    fast = head\n",
    "    \n",
    "    while fast and fast.next:\n",
    "        slow = slow.next\n",
    "        fast = fast.next.next\n",
    "        \n",
    "        if slow == fast:\n",
    "            return True\n",
    "    return False\n",
    "\n",
    "node1 = ListNode(1)\n",
    "node2 = ListNode(2)\n",
    "node3 = ListNode(3)\n",
    "node4 = ListNode(4)\n",
    "\n",
    "node1.next = node2\n",
    "node2.next = node3\n",
    "node3.next = node4\n",
    "node4.next = node1\n",
    "\n",
    "\n",
    "print(hasCycle(node2))"
   ]
  },
  {
   "cell_type": "code",
   "execution_count": 2,
   "metadata": {},
   "outputs": [
    {
     "name": "stdout",
     "output_type": "stream",
     "text": [
      "1\n"
     ]
    }
   ],
   "source": [
    "#optimized code\n",
    "def firstOccurence(l, n, x):\n",
    "    low = 0\n",
    "    high = n - 1\n",
    "    while(low<=high):\n",
    "        mid=(low+high)//2\n",
    "        if x > arr[mid]:\n",
    "            low = low + 1\n",
    "        elif x < arr[mid]:\n",
    "            high = mid -1\n",
    "        else:\n",
    "            if mid==0 or arr[mid-1] != arr[mid]:\n",
    "                return mid\n",
    "            else:\n",
    "                high=mid-1\n",
    "    return -1\n",
    "\n",
    "\n",
    "arr = [1,10,10,10,20,20,40]\n",
    "x = 10\n",
    "print(firstOccurence(arr,len(arr),x))"
   ]
  },
  {
   "cell_type": "code",
   "execution_count": 1,
   "metadata": {},
   "outputs": [
    {
     "name": "stdout",
     "output_type": "stream",
     "text": [
      "6\n"
     ]
    }
   ],
   "source": [
    "def lastOccurence(l, x):\n",
    "    low = 0\n",
    "    high = len(l)-1\n",
    "\n",
    "    while low <= high:\n",
    "        mid = (low+high)//2\n",
    "\n",
    "        if l[mid] < x:\n",
    "            low = mid + 1\n",
    "        \n",
    "        elif l[mid] > x:\n",
    "            high = mid -1\n",
    "        \n",
    "        else:\n",
    "            if mid == len(l) -1 or l[mid] != l[mid+1]:\n",
    "                return mid\n",
    "            else:\n",
    "                low = mid +1\n",
    "    return -1\n",
    "\n",
    "l = [5, 10, 10, 10, 10, 20, 20]\n",
    "\n",
    "print(lastOccurence(l, 20))"
   ]
  },
  {
   "cell_type": "markdown",
   "metadata": {},
   "source": [
    "LinkedList In-place Reversal\n"
   ]
  },
  {
   "cell_type": "code",
   "execution_count": null,
   "metadata": {},
   "outputs": [],
   "source": [
    "class Solution:\n",
    "    def reverseList(self, head: Optional[ListNode]) -> Optional[ListNode]:\n",
    "        prev = None\n",
    "        curr = head\n",
    "\n",
    "        while curr:\n",
    "            next_node = curr.next\n",
    "            curr.next = prev\n",
    "            prev = curr\n",
    "            curr = next_node\n",
    "        return prev\n",
    "             "
   ]
  },
  {
   "cell_type": "markdown",
   "metadata": {},
   "source": [
    "Monotonic Stack\n",
    "\n",
    "The Monotonic Stack pattern uses a stack to maintain a sequence of elements in a specific order (increasing or decreasing).\n",
    "\n",
    "Use this pattern for problems that require finding the next greater or smaller element.\n",
    "\n",
    "Sample Problem:\n",
    "Find the next greater element for each element in an array. Output -1 if the greater element doesn’t exist.\n",
    "\n",
    "Example:\n",
    "\n",
    "Input: nums = [2, 1, 2, 4, 3]\n",
    "\n",
    "Output: [4, 2, 4, -1, -1]\n",
    "\n",
    "Explanation:\n",
    "Use a stack to keep track of elements for which we haven't found the next greater element yet.\n",
    "\n",
    "Iterate through the array, and for each element, pop elements from the stack until you find a greater element.\n",
    "\n",
    "If the stack is not empty, set the result for index at the top of the stack to current element.\n",
    "\n",
    "Push the current element onto the stack."
   ]
  },
  {
   "cell_type": "code",
   "execution_count": 3,
   "metadata": {},
   "outputs": [
    {
     "data": {
      "text/plain": [
       "1"
      ]
     },
     "execution_count": 3,
     "metadata": {},
     "output_type": "execute_result"
    }
   ],
   "source": [
    "1 % 5"
   ]
  },
  {
   "cell_type": "code",
   "execution_count": 10,
   "metadata": {},
   "outputs": [
    {
     "data": {
      "text/plain": [
       "2"
      ]
     },
     "execution_count": 10,
     "metadata": {},
     "output_type": "execute_result"
    }
   ],
   "source": [
    "7 % 5\n"
   ]
  },
  {
   "cell_type": "code",
   "execution_count": 13,
   "metadata": {},
   "outputs": [
    {
     "name": "stdout",
     "output_type": "stream",
     "text": [
      "[4, 2, 4, -1, 4]\n"
     ]
    }
   ],
   "source": [
    "def nextGreatedElements(nums):\n",
    "    n = len(nums)\n",
    "    stack = []\n",
    "    res = [-1]* n \n",
    "\n",
    "    for i in range(2 * n):\n",
    "        num = nums[i % n]\n",
    "\n",
    "        while stack and nums[stack[-1]] < num :\n",
    "            index = stack.pop()\n",
    "            res[index] = num\n",
    "        \n",
    "        if i < n:\n",
    "            stack.append(i)\n",
    "    return res\n",
    "\n",
    "nums = [2, 1, 2, 4, 3]\n",
    "print(nextGreatedElements(nums))  # Output: [4, 2, 4, -1, -1]\n"
   ]
  },
  {
   "cell_type": "code",
   "execution_count": null,
   "metadata": {},
   "outputs": [],
   "source": []
  }
 ],
 "metadata": {
  "colab": {
   "provenance": []
  },
  "kernelspec": {
   "display_name": "Python 3",
   "language": "python",
   "name": "python3"
  },
  "language_info": {
   "codemirror_mode": {
    "name": "ipython",
    "version": 3
   },
   "file_extension": ".py",
   "mimetype": "text/x-python",
   "name": "python",
   "nbconvert_exporter": "python",
   "pygments_lexer": "ipython3",
   "version": "3.11.2"
  }
 },
 "nbformat": 4,
 "nbformat_minor": 0
}
