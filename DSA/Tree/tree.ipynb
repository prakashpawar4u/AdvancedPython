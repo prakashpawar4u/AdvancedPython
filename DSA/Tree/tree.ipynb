{
 "cells": [
  {
   "cell_type": "markdown",
   "metadata": {},
   "source": [
    "In Python, a tree is a hierarchical data structure that consists of nodes connected by edges. It is used to represent data with a parent-child relationship. A tree structure has several properties:\n",
    "\n",
    "Root: The top node in a tree. It does not have a parent node.\n",
    "Nodes: Each element in the tree that contains data.\n",
    "Edges: The connections between nodes.\n",
    "Parent-Child Relationship: A parent node has one or more child nodes, and each child node has only one parent.\n",
    "Leaf Node: A node that has no children (i.e., the end nodes).\n",
    "Subtree: A tree formed by a node and all its descendants.\n",
    "\n",
    "# Basic Terminology:\n",
    "Root: The starting point of the tree, which has no parent.\n",
    "Parent: A node that has one or more children.\n",
    "Child: A node that is the descendant of another node (its parent).\n",
    "Leaf: A node with no children.\n",
    "Depth: The level of a node in the tree (the root is at level 0).\n",
    "Height: The number of edges on the longest path from a node to a leaf.\n",
    "\n",
    "# Types of Trees:\n",
    "Binary Tree: Each node has at most two children (left and right).\n",
    "Binary Search Tree (BST): A binary tree where the left child’s value is less than its parent node, and the right child’s value is greater than its parent node.\n",
    "AVL Tree: A self-balancing binary search tree where the difference in heights of left and right subtrees is at most one.\n",
    "Heap: A binary tree used to implement a priority queue. A max-heap has the largest value at the root, and a min-heap has the smallest value at the root.\n",
    "Tree Implementation in Python:\n",
    "You can implement a tree using classes in Python. Here's an example of a simple binary tree:"
   ]
  },
  {
   "cell_type": "markdown",
   "metadata": {},
   "source": []
  },
  {
   "cell_type": "code",
   "execution_count": null,
   "metadata": {},
   "outputs": [],
   "source": [
    "class Node:\n",
    "    def __init__(self, data):\n",
    "        self.data = data  # Data of the node\n",
    "        self.left = None  # Left child\n",
    "        self.right = None  # Right child\n",
    "\n",
    "class BinaryTree:\n",
    "    def __init__(self):\n",
    "        self.root = None  # The root node of the tree\n",
    "\n",
    "    def insert(self, data):\n",
    "        if self.root is None:\n",
    "            self.root = Node(data)  # If tree is empty, insert the root\n",
    "        else:\n",
    "            self._insert_recursive(self.root, data)\n",
    "\n",
    "    def _insert_recursive(self, node, data):\n",
    "        # Helper method for recursive insertion\n",
    "        if data < node.data:\n",
    "            if node.left is None:\n",
    "                node.left = Node(data)  # Insert at the left of the current node\n",
    "            else:\n",
    "                self._insert_recursive(node.left, data)  # Recursively insert in the left subtree\n",
    "        else:\n",
    "            if node.right is None:\n",
    "                node.right = Node(data)  # Insert at the right of the current node\n",
    "            else:\n",
    "                self._insert_recursive(node.right, data)  # Recursively insert in the right subtree\n",
    "\n",
    "    def inorder_traversal(self, node):\n",
    "        # Perform inorder traversal (left, root, right)\n",
    "        if node:\n",
    "            self.inorder_traversal(node.left)  # Traverse left subtree\n",
    "            print(node.data, end=\" \")  # Visit root\n",
    "            self.inorder_traversal(node.right)  # Traverse right subtree\n",
    "\n",
    "# Example usage:\n",
    "tree = BinaryTree()\n",
    "tree.insert(10)\n",
    "tree.insert(5)\n",
    "tree.insert(15)\n",
    "tree.insert(2)\n",
    "\n",
    "# Inorder Traversal\n",
    "tree.inorder_traversal(tree.root)  # Output: 2 5 10 15\n"
   ]
  },
  {
   "cell_type": "code",
   "execution_count": null,
   "metadata": {},
   "outputs": [],
   "source": []
  }
 ],
 "metadata": {
  "kernelspec": {
   "display_name": "Python 3",
   "language": "python",
   "name": "python3"
  },
  "language_info": {
   "name": "python",
   "version": "3.11.2"
  }
 },
 "nbformat": 4,
 "nbformat_minor": 2
}
