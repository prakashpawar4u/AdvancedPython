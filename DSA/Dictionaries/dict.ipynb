{
 "cells": [
  {
   "cell_type": "code",
   "execution_count": 2,
   "metadata": {},
   "outputs": [
    {
     "data": {
      "text/plain": [
       "{110: 'abc', 101: 'xyz', 105: 'pqr'}"
      ]
     },
     "execution_count": 2,
     "metadata": {},
     "output_type": "execute_result"
    }
   ],
   "source": [
    "d = {110:\"abc\", 101:\"xyz\", 105:\"pqr\"}\n",
    "d"
   ]
  },
  {
   "cell_type": "code",
   "execution_count": 19,
   "metadata": {},
   "outputs": [
    {
     "name": "stdout",
     "output_type": "stream",
     "text": [
      "{'Laptop': 60000, 'mobile': 30000, 'earphones': 1500}\n",
      "None\n"
     ]
    }
   ],
   "source": [
    "d = {}\n",
    "d[\"Laptop\"] = 60000\n",
    "d[\"mobile\"] = 30000\n",
    "d[\"earphones\"]= 1500\n",
    "print(d)\n",
    "print(d.get(101))"
   ]
  },
  {
   "cell_type": "code",
   "execution_count": 20,
   "metadata": {},
   "outputs": [
    {
     "name": "stdout",
     "output_type": "stream",
     "text": [
      "KeyNotAvailable\n",
      "Not present \n"
     ]
    }
   ],
   "source": [
    "print(d.get(125,\"KeyNotAvailable\"))\n",
    "\n",
    "if 125 in d:\n",
    "    print(d[125])\n",
    "else:\n",
    "    print(\"Not present \")"
   ]
  },
  {
   "cell_type": "code",
   "execution_count": 21,
   "metadata": {},
   "outputs": [
    {
     "name": "stdout",
     "output_type": "stream",
     "text": [
      "None\n",
      "{'Laptop': 60000, 'mobile': 30000, 'earphones': 1500, 110: 'abc', 101: 'xyz', 105: 'pqr'}\n"
     ]
    }
   ],
   "source": [
    "print(d.update({110:\"abc\", 101:\"xyz\", 105:\"pqr\"}))\n",
    "print(d)"
   ]
  },
  {
   "cell_type": "code",
   "execution_count": 24,
   "metadata": {},
   "outputs": [
    {
     "data": {
      "text/plain": [
       "'abc'"
      ]
     },
     "execution_count": 24,
     "metadata": {},
     "output_type": "execute_result"
    }
   ],
   "source": [
    "d[110]"
   ]
  },
  {
   "cell_type": "code",
   "execution_count": 28,
   "metadata": {},
   "outputs": [
    {
     "name": "stdout",
     "output_type": "stream",
     "text": [
      "4\n",
      "{110: 'abc', 101: 'wxy', 105: 'pqr', 106: 'bcd'}\n",
      "returning and removing 105 pqr\n",
      "after removing 105 {110: 'abc', 101: 'wxy', 106: 'bcd'}\n",
      "{110: 'abc', 101: 'wxy'}\n",
      "returning and removing last inserted (108, 'cde')\n",
      "{110: 'abc', 101: 'wxy'}\n"
     ]
    },
    {
     "ename": "TypeError",
     "evalue": "pop expected at least 1 argument, got 0",
     "output_type": "error",
     "traceback": [
      "\u001b[0;31m---------------------------------------------------------------------------\u001b[0m",
      "\u001b[0;31mTypeError\u001b[0m                                 Traceback (most recent call last)",
      "Cell \u001b[0;32mIn[28], line 21\u001b[0m\n\u001b[1;32m     19\u001b[0m \u001b[38;5;28mprint\u001b[39m(\u001b[38;5;124m'\u001b[39m\u001b[38;5;124mreturning and removing last inserted\u001b[39m\u001b[38;5;124m'\u001b[39m, d\u001b[38;5;241m.\u001b[39mpopitem())\n\u001b[1;32m     20\u001b[0m \u001b[38;5;28mprint\u001b[39m(d)\n\u001b[0;32m---> 21\u001b[0m \u001b[38;5;28mprint\u001b[39m(\u001b[43md\u001b[49m\u001b[38;5;241;43m.\u001b[39;49m\u001b[43mpop\u001b[49m\u001b[43m(\u001b[49m\u001b[43m)\u001b[49m)\n\u001b[1;32m     22\u001b[0m \u001b[38;5;28mprint\u001b[39m(d)\n",
      "\u001b[0;31mTypeError\u001b[0m: pop expected at least 1 argument, got 0"
     ]
    }
   ],
   "source": [
    "d = {110: 'abc', 101: 'xyz', 105: 'pqr', 106: 'bcd'}\n",
    "\n",
    "d[101] = 'wxy'\n",
    "\n",
    "print(len(d))\n",
    "\n",
    "print(d)\n",
    "\n",
    "print('returning and removing 105', d.pop(105))\n",
    "\n",
    "print('after removing 105', d)\n",
    "\n",
    "del d[106]\n",
    "\n",
    "print(d)\n",
    "\n",
    "d[108] = 'cde'\n",
    "\n",
    "print('returning and removing last inserted', d.popitem())\n",
    "print(d)\n",
    "print(d.pop())\n",
    "print(d)\n",
    "\n"
   ]
  },
  {
   "cell_type": "code",
   "execution_count": 32,
   "metadata": {},
   "outputs": [
    {
     "name": "stdout",
     "output_type": "stream",
     "text": [
      "[12, 4]\n"
     ]
    }
   ],
   "source": [
    "# pop works on index\n",
    "l = [12,3,4,5]\n",
    "l.pop()\n",
    "l.pop(1)\n",
    "print(l)"
   ]
  },
  {
   "cell_type": "code",
   "execution_count": 36,
   "metadata": {},
   "outputs": [
    {
     "name": "stdout",
     "output_type": "stream",
     "text": [
      "6\n",
      "2\n",
      "3\n",
      "4\n",
      "5\n",
      "6\n",
      "6\n"
     ]
    }
   ],
   "source": [
    "#Distinct item in the list\n",
    "\n",
    "ip = [10,20,10,30,30,20]\n",
    "print(len(ip))\n",
    "res = 1\n",
    "for i in range(1,len(ip)):\n",
    "    if ip[i] not in l[0:i]:\n",
    "        res = res + 1\n",
    "        print(res)\n",
    "print(res)\n",
    "\n"
   ]
  },
  {
   "cell_type": "code",
   "execution_count": null,
   "metadata": {},
   "outputs": [],
   "source": []
  }
 ],
 "metadata": {
  "interpreter": {
   "hash": "949777d72b0d2535278d3dc13498b2535136f6dfe0678499012e853ee9abcab1"
  },
  "kernelspec": {
   "display_name": "Python 3.11.2 64-bit",
   "language": "python",
   "name": "python3"
  },
  "language_info": {
   "codemirror_mode": {
    "name": "ipython",
    "version": 3
   },
   "file_extension": ".py",
   "mimetype": "text/x-python",
   "name": "python",
   "nbconvert_exporter": "python",
   "pygments_lexer": "ipython3",
   "version": "3.11.2"
  },
  "orig_nbformat": 4
 },
 "nbformat": 4,
 "nbformat_minor": 2
}
