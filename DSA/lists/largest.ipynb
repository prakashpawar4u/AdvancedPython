{
 "cells": [
  {
   "cell_type": "markdown",
   "metadata": {},
   "source": [
    "# Largest element in a list"
   ]
  },
  {
   "cell_type": "code",
   "execution_count": 87,
   "metadata": {},
   "outputs": [
    {
     "name": "stdout",
     "output_type": "stream",
     "text": [
      "101\n",
      "comparing 101 with 101\n",
      "comparing 101 with 102\n",
      "102\n",
      "comparing 102 with 101\n",
      "comparing 102 with 102\n",
      "comparing 102 with 200\n",
      "200\n",
      "comparing 200 with 101\n",
      "comparing 200 with 102\n",
      "comparing 200 with 200\n",
      "comparing 200 with 103\n",
      "comparing 200 with 10\n",
      "200\n"
     ]
    }
   ],
   "source": [
    "\n",
    "l1=[101,102,200, 103, 10]\n",
    "def getMax(l1):\n",
    "    for x in l1:\n",
    "        print(x)\n",
    "        for y in l1:\n",
    "            print(f'comparing {x} with {y}')\n",
    "            if y > x:\n",
    "                break\n",
    "        else:\n",
    "            return x\n",
    "    return None\n",
    "\n",
    "print(getMax(l1))\n"
   ]
  },
  {
   "cell_type": "code",
   "execution_count": 88,
   "metadata": {},
   "outputs": [
    {
     "data": {
      "text/plain": [
       "200"
      ]
     },
     "execution_count": 88,
     "metadata": {},
     "output_type": "execute_result"
    }
   ],
   "source": [
    "#Q(n)\n",
    "l1=[101,102,200, 103, 10]\n",
    "\n",
    "def getMaxOptimized(l):\n",
    "    if not l1:\n",
    "        return None\n",
    "    else:\n",
    "        res = l1[0]\n",
    "        for i in range(1,len(l1)):\n",
    "            if l[i]> res:\n",
    "                res=l1[i]\n",
    "\n",
    "        return res\n",
    "getMaxOptimized(l1)"
   ]
  },
  {
   "cell_type": "markdown",
   "metadata": {},
   "source": [
    "# 2nd Largest Element\n",
    "### Naive Solution 2 iteration"
   ]
  },
  {
   "cell_type": "code",
   "execution_count": 89,
   "metadata": {},
   "outputs": [
    {
     "name": "stdout",
     "output_type": "stream",
     "text": [
      "101\n",
      "comparing 101 with 101\n",
      "comparing 101 with 102\n",
      "102\n",
      "comparing 102 with 101\n",
      "comparing 102 with 102\n",
      "comparing 102 with 200\n",
      "200\n",
      "comparing 200 with 101\n",
      "comparing 200 with 102\n",
      "comparing 200 with 200\n",
      "comparing 200 with 103\n",
      "comparing 200 with 10\n",
      "103\n"
     ]
    }
   ],
   "source": [
    "\n",
    "l1=[101,102,200, 103, 10]\n",
    "\n",
    "def getSecMax(l1):\n",
    "    if len(l1) <=1:\n",
    "        return None\n",
    "    lar=getMax(l1)\n",
    "    slar = None\n",
    "    for x in l1:\n",
    "        if x !=lar:\n",
    "            if slar==None:\n",
    "                slar = x\n",
    "            else:\n",
    "                slar = max(slar,x)\n",
    "    return slar\n",
    "\n",
    "print(getSecMax(l1))"
   ]
  },
  {
   "cell_type": "markdown",
   "metadata": {},
   "source": [
    "# optimized second largest"
   ]
  },
  {
   "cell_type": "code",
   "execution_count": 90,
   "metadata": {},
   "outputs": [
    {
     "name": "stdout",
     "output_type": "stream",
     "text": [
      "121\n"
     ]
    }
   ],
   "source": [
    "l1=[101,121, 102,117, 200, 103, 10]\n",
    "\n",
    "def getOptSecMax(l1):\n",
    "    if len(l1) <=1:\n",
    "        return None\n",
    "    lar=l1[0]\n",
    "    slar = None\n",
    "    for x in l1[1:]:\n",
    "        if x > lar:\n",
    "            slar = lar\n",
    "            lar = x\n",
    "        elif x !=lar:\n",
    "            if slar ==None  or slar < x:\n",
    "                slar = x\n",
    "    return slar\n",
    "\n",
    "print(getOptSecMax(l1))\n"
   ]
  },
  {
   "cell_type": "markdown",
   "metadata": {},
   "source": [
    "# Check if a list is sorted or not "
   ]
  },
  {
   "cell_type": "code",
   "execution_count": 91,
   "metadata": {},
   "outputs": [
    {
     "name": "stdout",
     "output_type": "stream",
     "text": [
      "True Comparing 101 & 121\n",
      "False Comparing 121 & 102\n",
      "True Comparing 102 & 117\n",
      "True Comparing 117 & 200\n",
      "False Comparing 200 & 103\n",
      "False Comparing 103 & 10\n"
     ]
    }
   ],
   "source": [
    "\n",
    "\n",
    "l1=[101,121, 102,117, 200, 103, 10]\n",
    "\n",
    "for i in range(1,len(l1)):\n",
    "    if l1[i-1] < l1[i]:\n",
    "        print(f\"True Comparing {l1[i-1]} & {l1[i]}\")\n",
    "    else:\n",
    "        print(f\"False Comparing {l1[i-1]} & {l1[i]}\")\n"
   ]
  },
  {
   "cell_type": "markdown",
   "metadata": {},
   "source": [
    "# With While Loop"
   ]
  },
  {
   "cell_type": "code",
   "execution_count": 92,
   "metadata": {},
   "outputs": [
    {
     "name": "stdout",
     "output_type": "stream",
     "text": [
      "Sorted List\n"
     ]
    }
   ],
   "source": [
    "def isSorted(l):\n",
    "    i = 1\n",
    "    while i < len(l):\n",
    "        if l[i] < l[i-1]:\n",
    "            return False\n",
    "        i = i + 1\n",
    "    return True\n",
    "\n",
    "#l = [11,10,20,30]\n",
    "l=[10]\n",
    "if isSorted(l):\n",
    "    print(\"Sorted List\")\n",
    "else:\n",
    "    print(\"List is not sorted\")"
   ]
  },
  {
   "cell_type": "markdown",
   "metadata": {},
   "source": [
    "# sorted function"
   ]
  },
  {
   "cell_type": "code",
   "execution_count": 93,
   "metadata": {},
   "outputs": [
    {
     "name": "stdout",
     "output_type": "stream",
     "text": [
      "Not Sorted\n"
     ]
    }
   ],
   "source": [
    "l = [11,10,20,30]\n",
    "sl = sorted(l)\n",
    "if  sl == l:\n",
    "    print(\"Sorted\")\n",
    "else: \n",
    "    print(\"Not Sorted\")"
   ]
  },
  {
   "cell_type": "markdown",
   "metadata": {},
   "source": [
    "# reverse & reversed\n"
   ]
  },
  {
   "cell_type": "code",
   "execution_count": 94,
   "metadata": {},
   "outputs": [
    {
     "name": "stdout",
     "output_type": "stream",
     "text": [
      "[30, 20, 10, 11]\n",
      "[101, 121, 102, 117, 200, 103, 10]\n",
      "[10, 103, 200, 117, 102, 121, 101]\n"
     ]
    }
   ],
   "source": [
    "\n",
    "l = [11,10,20,30]\n",
    "l.reverse()\n",
    "print(l)\n",
    "\n",
    "rev = reversed(l1)\n",
    "print(l1)\n",
    "print([x for x in rev])\n",
    "\n"
   ]
  },
  {
   "cell_type": "markdown",
   "metadata": {},
   "source": [
    "# Reverse a list"
   ]
  },
  {
   "cell_type": "code",
   "execution_count": 95,
   "metadata": {},
   "outputs": [
    {
     "name": "stdout",
     "output_type": "stream",
     "text": [
      "[30, 50, 40, 20, 10]\n",
      "[10, 20, 40, 50, 30]\n",
      "[30, 50, 40, 20, 10]\n"
     ]
    }
   ],
   "source": [
    "\n",
    "l = [10,20,40,50,30]\n",
    "l.reverse()\n",
    "print(l)\n",
    "\n",
    "rev_list = list(reversed(l))\n",
    "print(rev_list)\n",
    "\n",
    "print(rev_list[::-1])\n",
    "\n",
    "\n",
    "l2 = [\"geeks\", \"ide\", \"courses\"]\n"
   ]
  },
  {
   "cell_type": "markdown",
   "metadata": {},
   "source": [
    "# write your own reverse list method"
   ]
  },
  {
   "cell_type": "code",
   "execution_count": 96,
   "metadata": {},
   "outputs": [
    {
     "name": "stdout",
     "output_type": "stream",
     "text": [
      "[11, 30, 50, 40, 20, 10]\n"
     ]
    }
   ],
   "source": [
    "\n",
    "l = [10, 20, 40, 50, 30, 11]\n",
    "\n",
    "def reverseMethod(l):\n",
    "   s = 0\n",
    "   e = len(l)-1\n",
    "   while s < e:\n",
    "       l[s], l[e] = l[e], l[s]\n",
    "       s = s+1\n",
    "       e = e-1\n",
    "\n",
    "reverseMethod(l)\n",
    "print(l)"
   ]
  },
  {
   "cell_type": "markdown",
   "metadata": {},
   "source": [
    "## Remove duplicates from array"
   ]
  },
  {
   "cell_type": "code",
   "execution_count": 2,
   "metadata": {},
   "outputs": [
    {
     "name": "stdout",
     "output_type": "stream",
     "text": [
      "arr:: [10, 20, 30, 40, 30, 30, 30, 40]\n",
      "temp :: [10, 20, 30, 40, 0, 0, 0, 0]\n"
     ]
    },
    {
     "data": {
      "text/plain": [
       "4"
      ]
     },
     "execution_count": 2,
     "metadata": {},
     "output_type": "execute_result"
    }
   ],
   "source": [
    "#Naive approach\n",
    "\n",
    "def remDup(arr, n):\n",
    "    temp = [0] * n\n",
    "    temp[0]= arr[0]\n",
    "    res = 1\n",
    "    for i in range(1,n):\n",
    "        if temp[res-1]!=arr[i]:\n",
    "            temp[res]=arr[i]\n",
    "            res +=1\n",
    "    for i in range(0,res):\n",
    "        arr[i]=temp[i]\n",
    "    print(f\"arr:: {arr}\")\n",
    "    print(f\"temp :: {temp}\")\n",
    "    return res\n",
    "\n",
    "arr = [10, 20, 20, 20,30, 30, 30, 40]\n",
    "\n",
    "remDup(arr, len(arr))\n"
   ]
  },
  {
   "cell_type": "code",
   "execution_count": 6,
   "metadata": {},
   "outputs": [
    {
     "name": "stdout",
     "output_type": "stream",
     "text": [
      "[10, 20, 30, 40, 30, 40, 30, 40]\n",
      "6\n"
     ]
    }
   ],
   "source": [
    "#optimized code for removing duplicates\n",
    "\n",
    "def remDup1(arr, n):\n",
    "    res = 1\n",
    "    for i in range(1,n):\n",
    "        if arr[res-1]!=arr[i]:\n",
    "            arr[res]=arr[i]\n",
    "            res+=1\n",
    "    print(arr)\n",
    "    return res\n",
    "\n",
    "arr = [10, 20, 30, 40, 30, 30, 30, 40]\n",
    "print(remDup1(arr, len(arr)))\n",
    "\n"
   ]
  },
  {
   "cell_type": "code",
   "execution_count": 13,
   "metadata": {},
   "outputs": [
    {
     "name": "stdout",
     "output_type": "stream",
     "text": [
      "[20, 30, 40, 10]\n"
     ]
    }
   ],
   "source": [
    "l = [10, 20, 30, 40]\n",
    "\n",
    "l = l[1:] + l[:1]\n",
    "print(l)"
   ]
  },
  {
   "cell_type": "code",
   "execution_count": 14,
   "metadata": {},
   "outputs": [
    {
     "name": "stdout",
     "output_type": "stream",
     "text": [
      "[20, 30, 40, 10]\n"
     ]
    }
   ],
   "source": [
    "l = [10, 20, 30, 40]\n",
    "l.append(l.pop(0))\n",
    "print(l)"
   ]
  },
  {
   "cell_type": "code",
   "execution_count": 20,
   "metadata": {},
   "outputs": [
    {
     "name": "stdout",
     "output_type": "stream",
     "text": [
      "40\n",
      "40\n",
      "[20, 30, 40, 10]\n"
     ]
    }
   ],
   "source": [
    "#Rotate a list\n",
    "def rotate(l):\n",
    "    x = l[0]\n",
    "    n = len(l)\n",
    "    for i in range(1,n):\n",
    "        l[i-1]=l[i]\n",
    "    print(l[n-1])\n",
    "    print(l[-1])\n",
    "    l[n-1]=x\n",
    "    print(l)\n",
    "l = [10, 20, 30, 40]\n",
    "rotate(l)"
   ]
  },
  {
   "cell_type": "code",
   "execution_count": null,
   "metadata": {},
   "outputs": [],
   "source": []
  }
 ],
 "metadata": {
  "interpreter": {
   "hash": "aee8b7b246df8f9039afb4144a1f6fd8d2ca17a180786b69acc140d282b71a49"
  },
  "kernelspec": {
   "display_name": "Python 3.6.8 64-bit",
   "language": "python",
   "name": "python3"
  },
  "language_info": {
   "codemirror_mode": {
    "name": "ipython",
    "version": 3
   },
   "file_extension": ".py",
   "mimetype": "text/x-python",
   "name": "python",
   "nbconvert_exporter": "python",
   "pygments_lexer": "ipython3",
   "version": "3.11.2"
  },
  "orig_nbformat": 4
 },
 "nbformat": 4,
 "nbformat_minor": 2
}
