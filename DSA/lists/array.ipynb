{
 "cells": [
  {
   "cell_type": "markdown",
   "metadata": {},
   "source": [
    "1. Reverse a String Without Using Built-in Functions\n",
    "2. Check if a String is a Palindrome, Ignoring Case\n",
    "3. Count the Number of Vowels and Consonants in a String\n",
    "4. Find the Longest Substring Without Repeating Characters\n",
    "5. Check if a String Contains Only Digits\n",
    "6. Remove All Punctuation from a String\n",
    "7. Swap Case of Each Character in a String\n",
    "8. Find the First Non-Repeating Character in a String\n",
    "9. Convert a String to a Character Array and Back\n",
    "10. Count the Number of Words in a String Using Regex\n",
    "11. Implement String Compression Using Counts of Repeated Characters\n",
    "12. Extract a Substring Between Two Characters\n",
    "13. Check if Two Strings are Rotations of Each Other\n",
    "14. Find All Permutations of a Given String\n",
    "15. Find the Minimum Number of Steps to Convert One String to Another\n",
    "16. Count the Frequency of Each Character in a String\n",
    "17. Create a New String by Removing All Occurrences of a Given Character\n",
    "18. Determine if a String is a Valid Number (Integer/Float)\n",
    "19. Check if a String is an Isogram (No Repeated Characters)\n",
    "20. Implement a Method to Compare Two Strings for Equality (Without Using\n",
    ".equals())\n",
    "21. Rotate a String to the Left by a Given Number of Characters\n",
    "22. Replace All Instances of a Substring with Another Substring\n",
    "23. Check if a String is a Subsequence of Another String\n",
    "24. Find All Unique Characters in a String\n",
    "25. Convert a Given String to Camel Case\n",
    "26. Count the Number of Times One String Occurs in Another\n",
    "27. Extract Numbers from a String and Return as a List\n",
    "28. Validate a String as a Proper Email Address\n",
    "29. Find the Position of a Substring in a String\n",
    "30. Merge Two Strings Alternately"
   ]
  },
  {
   "cell_type": "markdown",
   "metadata": {},
   "source": [
    "Easy Level:\n",
    "1. Two Sum – Amazon, Microsoft, Google, Adobe, Facebook\n",
    "2. Find the Missing Number (1 to N) – Amazon, Microsoft, Walmart, Oracle\n",
    "3. Find the Largest and Smallest Element in an Array – TCS, Infosys, Wipro\n",
    "4. Reverse an Array – Amazon, Flipkart, Cognizant\n",
    "5. Remove Duplicates from a Sorted Array – Amazon, Microsoft, Adobe\n",
    "6. Move Zeroes to the End of the Array – Google, Microsoft, Amazon\n",
    "7. Check if an Array is Sorted – TCS, Infosys, Accenture\n",
    "8. Intersection and Union of Two Arrays – Amazon, Google, Flipkart\n",
    "9. Rotate an Array (Cyclic Rotation) – Amazon, Microsoft, Adobe, Flipkart\n",
    "10. Find the First and Second Smallest Element in an Array – Google, Amazon, Cognizant\n",
    "\n",
    "\n",
    "🔹 Medium Level:\n",
    "1. Maximum Subarray Sum (Kadane’s Algorithm) – Google, Amazon, Bloomberg, Adobe\n",
    "2. Best Time to Buy and Sell Stock – Google, Apple, Amazon, Goldman Sachs\n",
    "3. Sort an Array of 0s, 1s, and 2s (Dutch National Flag Problem) – Amazon, Flipkart, Microsoft\n",
    "4. Find the Majority Element (Moore’s Voting Algorithm) – Google, Facebook, Amazon, Adobe\n",
    "5. Kth Largest and Smallest Element in an Array – Amazon, Google, Facebook, Microsoft\n",
    "6. Find All Pairs in an Array That Sum to a Given Value – Google, Amazon, Goldman Sachs\n",
    "7. Rearrange an Array with Alternating Positive and Negative Numbers – Amazon, Google, Paytm\n",
    "8. Find the Longest Consecutive Sequence – Google, Facebook, Amazon, Microsoft\n",
    "9. Next Greater Element – Amazon, Google, Facebook, Microsoft\n",
    "10. Sliding Window Maximum – Google, Facebook, Amazon, Bloomberg\n",
    "\n",
    "🔹 Hard Level:\n",
    "\n",
    "1. Merge Overlapping Intervals – Facebook, Google, Microsoft, Uber\n",
    "\n",
    "\n",
    "2. Trapping Rain Water – Google, Facebook, Adobe, Amazon\n",
    "\n",
    "\n",
    "3. Product of Array Except Self – Amazon, Google, Facebook, Apple\n",
    "\n",
    "\n",
    "4. Find the Median of Two Sorted Arrays – Google, Microsoft, Facebook, Uber\n",
    "\n",
    "\n",
    "5. Count Inversions in an Array – Microsoft, Google, Adobe, Amazon\n",
    "\n",
    "\n",
    "6. Subarray Sum Equals K – Amazon, Google, Facebook, Microsoft\n",
    "\n",
    "\n",
    "7. Find the Maximum Product Subarray – Amazon, Google, Apple, Bloomberg\n",
    "\n",
    "\n",
    "8. Smallest Subarray with a Sum Greater Than X – Amazon, Google, Facebook\n",
    "\n",
    "\n",
    "9. Rearrange Array to Form the Largest Number – Google, Facebook, Adobe\n",
    "\n",
    "\n",
    "10. Find the Longest Subarray with Sum K –\n"
   ]
  },
  {
   "cell_type": "code",
   "execution_count": 7,
   "metadata": {},
   "outputs": [
    {
     "name": "stdout",
     "output_type": "stream",
     "text": [
      "[5, 4, 3, 2, 1]\n"
     ]
    }
   ],
   "source": [
    "#1. Reverse a String Without Using Built-in Functions\n",
    "\n",
    "l = [1,2,3,4,5]\n",
    "\n",
    "# print(l[::-1])\n",
    "def reverseList(l):\n",
    "    s = 0\n",
    "    e = len(l)-1\n",
    "    # print(s, e)\n",
    "    while s < e:\n",
    "        l[s], l[e] = l[e], l[s]\n",
    "        s = s+1\n",
    "        e = e-1\n",
    "\n",
    "reverseList(l)\n",
    "print(l)"
   ]
  },
  {
   "cell_type": "code",
   "execution_count": 10,
   "metadata": {},
   "outputs": [
    {
     "data": {
      "text/plain": [
       "True"
      ]
     },
     "execution_count": 10,
     "metadata": {},
     "output_type": "execute_result"
    }
   ],
   "source": [
    "#2. Check if a String is a Palindrome, Ignoring Case\n",
    "def isPalindrome(s: str) -> bool:\n",
    "    filtered_st = \"\".join(c.lower() for c in s if c.isalnum())\n",
    "    return filtered_st == filtered_st[::-1]\n",
    "\n",
    "isPalindrome('A man, a plan, a canal: Panama')\n"
   ]
  },
  {
   "cell_type": "code",
   "execution_count": null,
   "metadata": {},
   "outputs": [],
   "source": []
  },
  {
   "cell_type": "code",
   "execution_count": null,
   "metadata": {},
   "outputs": [],
   "source": [
    "#3. Count the Number of Vowels and Consonants in a String\n"
   ]
  },
  {
   "cell_type": "code",
   "execution_count": null,
   "metadata": {},
   "outputs": [],
   "source": [
    "# 4. Find the Longest Substring Without Repeating Characters"
   ]
  },
  {
   "cell_type": "markdown",
   "metadata": {},
   "source": []
  },
  {
   "cell_type": "code",
   "execution_count": 8,
   "metadata": {},
   "outputs": [],
   "source": [
    "#5. Check if a String Contains Only Digits"
   ]
  },
  {
   "cell_type": "code",
   "execution_count": null,
   "metadata": {},
   "outputs": [],
   "source": [
    "#6. Remove All Punctuation from a String"
   ]
  }
 ],
 "metadata": {
  "kernelspec": {
   "display_name": "Python 3",
   "language": "python",
   "name": "python3"
  },
  "language_info": {
   "codemirror_mode": {
    "name": "ipython",
    "version": 3
   },
   "file_extension": ".py",
   "mimetype": "text/x-python",
   "name": "python",
   "nbconvert_exporter": "python",
   "pygments_lexer": "ipython3",
   "version": "3.11.2"
  }
 },
 "nbformat": 4,
 "nbformat_minor": 2
}
