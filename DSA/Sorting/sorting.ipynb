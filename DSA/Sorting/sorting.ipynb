{
 "cells": [
  {
   "cell_type": "code",
   "execution_count": null,
   "metadata": {},
   "outputs": [
    {
     "name": "stdout",
     "output_type": "stream",
     "text": [
      "[1, 5, 7, 10, 15]\n"
     ]
    }
   ],
   "source": [
    "l1 = [5,10,15,1,7]\n",
    "\n",
    "l1.sort()\n",
    "print(l1)"
   ]
  },
  {
   "cell_type": "code",
   "execution_count": null,
   "metadata": {},
   "outputs": [
    {
     "name": "stdout",
     "output_type": "stream",
     "text": [
      "[15, 10, 7, 5, 1]\n"
     ]
    }
   ],
   "source": [
    "l1 = [5,10,15,1,7]\n",
    "l1.sort(reverse = True)\n",
    "print(l1)"
   ]
  },
  {
   "cell_type": "code",
   "execution_count": null,
   "metadata": {},
   "outputs": [
    {
     "name": "stdout",
     "output_type": "stream",
     "text": [
      "['c', 'java', 'python']\n"
     ]
    }
   ],
   "source": [
    "l = [\"python\", \"java\", \"c\"]\n",
    "l.sort()\n",
    "print(l)"
   ]
  },
  {
   "cell_type": "code",
   "execution_count": null,
   "metadata": {},
   "outputs": [
    {
     "name": "stdout",
     "output_type": "stream",
     "text": [
      "['c', 'go', 'php', 'cpp', 'java', 'python']\n"
     ]
    }
   ],
   "source": [
    "\n",
    "def myFun(s):\n",
    "    return len(s)\n",
    "\n",
    "l = [\"python\", \"java\", \"c\", 'go', 'php', 'cpp']\n",
    "l.sort(key=myFun)\n",
    "print(l)"
   ]
  },
  {
   "cell_type": "code",
   "execution_count": null,
   "metadata": {},
   "outputs": [
    {
     "name": "stdout",
     "output_type": "stream",
     "text": [
      "['python', 'java', 'php', 'cpp', 'go', 'c']\n"
     ]
    }
   ],
   "source": [
    "l = [\"python\", \"java\", \"c\", 'go', 'php', 'cpp']\n",
    "l.sort(key=myFun, reverse=True)\n",
    "print(l)"
   ]
  },
  {
   "cell_type": "code",
   "execution_count": null,
   "metadata": {},
   "outputs": [
    {
     "name": "stdout",
     "output_type": "stream",
     "text": [
      "1 15\n",
      "1 8\n",
      "10 5\n"
     ]
    }
   ],
   "source": [
    "#Sorting user defined\n",
    "class Point():\n",
    "    def __init__(self, x, y):\n",
    "        self.x = x\n",
    "        self.y = y\n",
    "def myFun(p):\n",
    "    return p.x\n",
    "    \n",
    "l = [Point(1,15), Point(10,5), Point(1,8)]\n",
    "l.sort(key=myFun)\n",
    "\n",
    "for i in l:\n",
    "    print(i.x, i.y)\n"
   ]
  },
  {
   "cell_type": "code",
   "execution_count": null,
   "metadata": {},
   "outputs": [
    {
     "name": "stdout",
     "output_type": "stream",
     "text": [
      "1 8\n",
      "1 15\n",
      "10 5\n"
     ]
    }
   ],
   "source": [
    "#Sorting user defined\n",
    "class Point():\n",
    "    def __init__(self, x, y):\n",
    "        self.x = x\n",
    "        self.y = y\n",
    "    def __lt__(self, other):\n",
    "        if self.x == other.x:\n",
    "            return self.y < other.y\n",
    "        else:\n",
    "            return self.x < other.x\n",
    "         \n",
    "\n",
    "    \n",
    "l = [Point(1,15), Point(10,5), Point(1,8)]\n",
    "l.sort()\n",
    "\n",
    "for i in l:\n",
    "    print(i.x, i.y)"
   ]
  },
  {
   "cell_type": "markdown",
   "metadata": {},
   "source": [
    "### Bubble Sort\n"
   ]
  },
  {
   "cell_type": "code",
   "execution_count": null,
   "metadata": {},
   "outputs": [
    {
     "name": "stdout",
     "output_type": "stream",
     "text": [
      "[5, 8, 10, 20]\n"
     ]
    }
   ],
   "source": [
    "#Naive Approach\n",
    "\n",
    "def bubbleSort(l):\n",
    "    n = len(l)\n",
    "    for i in range(n-1):\n",
    "        for j in range(n-i-1):\n",
    "            if l[j] > l[j+1]:\n",
    "                l[j], l[j+1] = l[j+1], l[j]\n",
    "    #return l\n",
    "\n",
    "\n",
    "\n",
    "l = [10, 8, 20, 5]\n",
    "bubbleSort(l)\n",
    "print(l)"
   ]
  },
  {
   "cell_type": "code",
   "execution_count": 10,
   "metadata": {},
   "outputs": [
    {
     "name": "stdout",
     "output_type": "stream",
     "text": [
      "[5, 8, 10, 20]\n",
      "[10, 20, 30, 40, 50]\n",
      "[10, 20, 20, 40, 40, 50]\n"
     ]
    }
   ],
   "source": [
    "#Optimized Bubble Sort\n",
    "def bubbleSort(l):\n",
    "    n = len(l)\n",
    "    \n",
    "\n",
    "    for i in range(n-1):\n",
    "        swapped = False \n",
    "        for j in range(n -i -1):\n",
    "            if l[j]>l[j+1]:\n",
    "                l[j], l[j+1] = l[j+1], l[j]\n",
    "                swapped = True\n",
    "        if swapped == False:\n",
    "            return\n",
    "l = [10, 8, 20, 5]\n",
    "bubbleSort(l)\n",
    "print(l)\n",
    "l2 = [10,20,30,40,50]\n",
    "bubbleSort(l2)\n",
    "print(l2)\n",
    "l3 = [10,20,20,50,40,40]\n",
    "bubbleSort(l3)\n",
    "print(l3)"
   ]
  },
  {
   "cell_type": "markdown",
   "metadata": {},
   "source": [
    "### Selection Sort"
   ]
  },
  {
   "cell_type": "code",
   "execution_count": 13,
   "metadata": {},
   "outputs": [
    {
     "name": "stdout",
     "output_type": "stream",
     "text": [
      "[2, 5, 8, 10, 18, 20]\n"
     ]
    }
   ],
   "source": [
    "def selectionSort(l):\n",
    "    n = len(l)\n",
    "    for i in range(n-1):\n",
    "        min_ind = i\n",
    "        for j in range(i+1,n):\n",
    "            if l[j] < l[min_ind]:\n",
    "                min_ind = j\n",
    "        l[min_ind], l[i] = l[i], l[min_ind]\n",
    "    \n",
    "l = [10,5,8,20,2,18]\n",
    "selectionSort(l)\n",
    "print(l)"
   ]
  },
  {
   "cell_type": "markdown",
   "metadata": {},
   "source": [
    "### Selection Sort\n",
    "\n"
   ]
  },
  {
   "cell_type": "code",
   "execution_count": 16,
   "metadata": {},
   "outputs": [],
   "source": [
    "def selectionSort(l):\n",
    "    for i in range(1, len(l)):\n",
    "        x = l[i]\n",
    "        j = i-1\n",
    "\n",
    "        while j>=0 and x<l[j]:\n",
    "            l[j+1] = l[j]\n",
    "            j = j-1\n",
    "        l[j+1] = x\n",
    "\n",
    "\n",
    "l = [20,5,40,60,10,30]\n",
    "selectionSort(l)\n",
    "\n"
   ]
  },
  {
   "cell_type": "code",
   "execution_count": null,
   "metadata": {},
   "outputs": [],
   "source": [
    "### Merge Sort \n"
   ]
  },
  {
   "cell_type": "code",
   "execution_count": null,
   "metadata": {},
   "outputs": [],
   "source": []
  }
 ],
 "metadata": {
  "interpreter": {
   "hash": "949777d72b0d2535278d3dc13498b2535136f6dfe0678499012e853ee9abcab1"
  },
  "kernelspec": {
   "display_name": "Python 3.11.2 64-bit",
   "language": "python",
   "name": "python3"
  },
  "language_info": {
   "codemirror_mode": {
    "name": "ipython",
    "version": 3
   },
   "file_extension": ".py",
   "mimetype": "text/x-python",
   "name": "python",
   "nbconvert_exporter": "python",
   "pygments_lexer": "ipython3",
   "version": "3.11.2"
  },
  "orig_nbformat": 4
 },
 "nbformat": 4,
 "nbformat_minor": 2
}
