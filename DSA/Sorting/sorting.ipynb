{
 "cells": [
  {
   "cell_type": "code",
   "execution_count": 9,
   "metadata": {},
   "outputs": [
    {
     "name": "stdout",
     "output_type": "stream",
     "text": [
      "[1, 5, 7, 10, 15]\n"
     ]
    }
   ],
   "source": [
    "l1 = [5,10,15,1,7]\n",
    "\n",
    "l1.sort()\n",
    "print(l1)"
   ]
  },
  {
   "cell_type": "code",
   "execution_count": 10,
   "metadata": {},
   "outputs": [
    {
     "name": "stdout",
     "output_type": "stream",
     "text": [
      "[15, 10, 7, 5, 1]\n"
     ]
    }
   ],
   "source": [
    "l1 = [5,10,15,1,7]\n",
    "l1.sort(reverse = True)\n",
    "print(l1)"
   ]
  },
  {
   "cell_type": "code",
   "execution_count": 11,
   "metadata": {},
   "outputs": [
    {
     "name": "stdout",
     "output_type": "stream",
     "text": [
      "['c', 'java', 'python']\n"
     ]
    }
   ],
   "source": [
    "l = [\"python\", \"java\", \"c\"]\n",
    "l.sort()\n",
    "print(l)"
   ]
  },
  {
   "cell_type": "code",
   "execution_count": 12,
   "metadata": {},
   "outputs": [
    {
     "name": "stdout",
     "output_type": "stream",
     "text": [
      "['c', 'go', 'php', 'cpp', 'java', 'python']\n"
     ]
    }
   ],
   "source": [
    "\n",
    "def myFun(s):\n",
    "    return len(s)\n",
    "\n",
    "l = [\"python\", \"java\", \"c\", 'go', 'php', 'cpp']\n",
    "l.sort(key=myFun)\n",
    "print(l)"
   ]
  },
  {
   "cell_type": "code",
   "execution_count": 13,
   "metadata": {},
   "outputs": [
    {
     "name": "stdout",
     "output_type": "stream",
     "text": [
      "['python', 'java', 'php', 'cpp', 'go', 'c']\n"
     ]
    }
   ],
   "source": [
    "l = [\"python\", \"java\", \"c\", 'go', 'php', 'cpp']\n",
    "l.sort(key=myFun, reverse=True)\n",
    "print(l)"
   ]
  },
  {
   "cell_type": "code",
   "execution_count": 14,
   "metadata": {},
   "outputs": [
    {
     "name": "stdout",
     "output_type": "stream",
     "text": [
      "1 15\n",
      "1 8\n",
      "10 5\n"
     ]
    }
   ],
   "source": [
    "#Sorting user defined\n",
    "class Point():\n",
    "    def __init__(self, x, y):\n",
    "        self.x = x\n",
    "        self.y = y\n",
    "def myFun(p):\n",
    "    return p.x\n",
    "    \n",
    "l = [Point(1,15), Point(10,5), Point(1,8)]\n",
    "l.sort(key=myFun)\n",
    "\n",
    "for i in l:\n",
    "    print(i.x, i.y)\n"
   ]
  },
  {
   "cell_type": "code",
   "execution_count": 15,
   "metadata": {},
   "outputs": [
    {
     "name": "stdout",
     "output_type": "stream",
     "text": [
      "1 8\n",
      "1 15\n",
      "10 5\n"
     ]
    }
   ],
   "source": [
    "#Sorting user defined\n",
    "class Point():\n",
    "    def __init__(self, x, y):\n",
    "        self.x = x\n",
    "        self.y = y\n",
    "    def __lt__(self, other):\n",
    "        if self.x == other.x:\n",
    "            return self.y < other.y\n",
    "        else:\n",
    "            return self.x < other.x\n",
    "         \n",
    "\n",
    "    \n",
    "l = [Point(1,15), Point(10,5), Point(1,8)]\n",
    "l.sort()\n",
    "\n",
    "for i in l:\n",
    "    print(i.x, i.y)"
   ]
  },
  {
   "cell_type": "markdown",
   "metadata": {},
   "source": [
    "### Bubble Sort\n"
   ]
  },
  {
   "cell_type": "code",
   "execution_count": 16,
   "metadata": {},
   "outputs": [
    {
     "name": "stdout",
     "output_type": "stream",
     "text": [
      "[5, 8, 10, 20]\n"
     ]
    }
   ],
   "source": [
    "#Naive Approach\n",
    "\n",
    "def bubbleSort(l):\n",
    "    n = len(l)\n",
    "    for i in range(n-1):\n",
    "        for j in range(n-i-1):\n",
    "            if l[j] > l[j+1]:\n",
    "                l[j], l[j+1] = l[j+1], l[j]\n",
    "    #return l\n",
    "\n",
    "\n",
    "\n",
    "l = [10, 8, 20, 5]\n",
    "bubbleSort(l)\n",
    "print(l)"
   ]
  },
  {
   "cell_type": "code",
   "execution_count": 19,
   "metadata": {},
   "outputs": [
    {
     "name": "stdout",
     "output_type": "stream",
     "text": [
      "[5, 8, 10, 20]\n",
      "[10, 20, 30, 40, 50]\n",
      "[10, 20, 20, 40, 40, 50]\n"
     ]
    }
   ],
   "source": [
    "#Optimized Bubble Sort\n",
    "def bubbleSort(l):\n",
    "    n = len(l)\n",
    "    \n",
    "\n",
    "    for i in range(n-1):\n",
    "        swapped = False \n",
    "        for j in range(n -i -1):\n",
    "            if l[j]>l[j+1]:\n",
    "                l[j], l[j+1] = l[j+1], l[j]\n",
    "                swapped = True\n",
    "        if swapped == False:\n",
    "            return\n",
    "l = [10, 8, 20, 5]\n",
    "bubbleSort(l)\n",
    "print(l)\n",
    "l2 = [10,20,30,40,50]\n",
    "bubbleSort(l2)\n",
    "print(l2)\n",
    "l3 = [10,20,20,50,40,40]\n",
    "bubbleSort(l3)\n",
    "print(l3)"
   ]
  },
  {
   "cell_type": "markdown",
   "metadata": {},
   "source": [
    "### Selection Sort"
   ]
  },
  {
   "cell_type": "code",
   "execution_count": 13,
   "metadata": {},
   "outputs": [
    {
     "name": "stdout",
     "output_type": "stream",
     "text": [
      "[2, 5, 8, 10, 18, 20]\n"
     ]
    }
   ],
   "source": [
    "def selectionSort(l):\n",
    "    n = len(l)\n",
    "    for i in range(n-1):\n",
    "        min_ind = i\n",
    "        for j in range(i+1,n):\n",
    "            if l[j] < l[min_ind]:\n",
    "                min_ind = j\n",
    "        l[min_ind], l[i] = l[i], l[min_ind]\n",
    "    \n",
    "l = [10,5,8,20,2,18]\n",
    "selectionSort(l)\n",
    "print(l)"
   ]
  },
  {
   "cell_type": "markdown",
   "metadata": {},
   "source": [
    "### Selection Sort\n",
    "\n"
   ]
  },
  {
   "cell_type": "code",
   "execution_count": 14,
   "metadata": {},
   "outputs": [],
   "source": [
    "def selectionSort(l):\n",
    "    for i in range(1, len(l)):\n",
    "        x = l[i]\n",
    "        j = i-1\n",
    "\n",
    "        while j>=0 and x<l[j]:\n",
    "            l[j+1] = l[j]\n",
    "            j = j-1\n",
    "        l[j+1] = x\n",
    "\n",
    "\n",
    "l = [20,5,40,60,10,30]\n",
    "selectionSort(l)\n",
    "\n"
   ]
  },
  {
   "cell_type": "markdown",
   "metadata": {},
   "source": [
    "### Insertion Sort"
   ]
  },
  {
   "cell_type": "code",
   "execution_count": 21,
   "metadata": {},
   "outputs": [
    {
     "name": "stdout",
     "output_type": "stream",
     "text": [
      "Before sorting: [20, 5, 40, 60, 10, 30]\n",
      "5 10 20 30 40 60\n",
      "After sorting: [5, 10, 20, 30, 40, 60]\n"
     ]
    }
   ],
   "source": [
    "def insertionSort(l):\n",
    "\n",
    "    for i in range(1,len(l)):\n",
    "        x = l[i]\n",
    "        j = i-1\n",
    "\n",
    "        while j>=0 and x<l[j]:\n",
    "            l[j+1] = l[j]\n",
    "            j = j-1\n",
    "\n",
    "        l[j+1] = x\n",
    "\n",
    "\n",
    "\n",
    "l = [20, 5, 40, 60, 10, 30]\n",
    "print(f\"Before sorting: {l}\")\n",
    "\n",
    "insertionSort(l)\n",
    "print(*l)\n",
    "\n",
    "print(f\"After sorting: {l}\")\n"
   ]
  },
  {
   "cell_type": "markdown",
   "metadata": {},
   "source": [
    "### Merge Sort "
   ]
  },
  {
   "cell_type": "code",
   "execution_count": 1,
   "metadata": {},
   "outputs": [
    {
     "name": "stdout",
     "output_type": "stream",
     "text": [
      "Merge sort is called\n",
      "[5, 6, 6, 10, 15, 30, 40]\n"
     ]
    }
   ],
   "source": [
    "### Merge Sort 2 arrays\n",
    "\n",
    "def mergeSortTwoarrays(a,b):\n",
    "    res = []\n",
    "    m = len(a)\n",
    "    n = len(b)\n",
    "    i = 0\n",
    "    j = 0\n",
    "    print(\"Merge sort is called\")\n",
    "    while i < m and j < n:\n",
    "        if a[i] < b[j]:\n",
    "            res.append(a[i])\n",
    "            i = i+1\n",
    "        else:\n",
    "            res.append(b[j])\n",
    "            j= j+1\n",
    "    while i < m:\n",
    "        res.append(a[i])\n",
    "        i=+1\n",
    "    while j < n:\n",
    "        res.append(b[j])\n",
    "        j+=1\n",
    "    return res\n",
    "    \n",
    "a = [10,15]\n",
    "b = [5,6,6,30,40]\n",
    "sor = mergeSortTwoarrays(a,b)\n",
    "print(sor)"
   ]
  },
  {
   "cell_type": "code",
   "execution_count": 12,
   "metadata": {},
   "outputs": [
    {
     "name": "stdout",
     "output_type": "stream",
     "text": [
      "Sorted array is :[8, 10, 11, 15, 20, 40]\n"
     ]
    }
   ],
   "source": [
    "#Sort SubArray\n",
    "\n",
    "def mergeSubarray(a, low, mid, high):\n",
    "    left = a[low:mid + 1]\n",
    "    right = a[mid + 1:high + 1]\n",
    "\n",
    "    i = j = 0\n",
    "    k = low\n",
    "\n",
    "    while i < len(left) and j < len(right):\n",
    "\n",
    "        if left[i] < right[j]:\n",
    "            a[k] = left[i]\n",
    "\n",
    "            k += 1\n",
    "            i += 1\n",
    "        else:\n",
    "            a[k] = right[j]\n",
    "            k += 1\n",
    "            j += 1\n",
    "\n",
    "    while i < len(left):\n",
    "        a[k] = left[i]\n",
    "        i += 1\n",
    "        k += 1\n",
    "\n",
    "    while j < len(right):\n",
    "        a[k] = right[j]\n",
    "        j += 1\n",
    "        k += 1\n",
    "\n",
    "a = [10,15,20,40,8,11] \n",
    "low = 0\n",
    "high = len(a)\n",
    "\n",
    "mid = (low + high) //2\n",
    "sor = mergeSubarray(a, low, mid, high)\n",
    "print(f\"Sorted array is :{a}\")\n",
    "# left = a[low:mid+1]\n",
    "# right = a[mid+1:high]\n",
    "\n"
   ]
  },
  {
   "cell_type": "markdown",
   "metadata": {},
   "source": [
    "## Merge Sort Algorithm"
   ]
  },
  {
   "cell_type": "code",
   "execution_count": 3,
   "metadata": {},
   "outputs": [
    {
     "name": "stdout",
     "output_type": "stream",
     "text": [
      "Before Merge Sort: [10, 5, 30, 15, 7]\n",
      "5 7 10 15 30\n"
     ]
    }
   ],
   "source": [
    "def merge(a, low, mid, high):\n",
    "    left = a[low:mid + 1]\n",
    "    right = a[mid + 1:high + 1]\n",
    "\n",
    "    i = j = 0\n",
    "    k = low\n",
    "\n",
    "    while i < len(left) and j < len(right):\n",
    "\n",
    "        if left[i] < right[j]:\n",
    "            a[k] = left[i]\n",
    "\n",
    "            k += 1\n",
    "            i += 1\n",
    "        else:\n",
    "            a[k] = right[j]\n",
    "            k += 1\n",
    "            j += 1\n",
    "\n",
    "    while i < len(left):\n",
    "        a[k] = left[i]\n",
    "        i += 1\n",
    "        k += 1\n",
    "\n",
    "    while j < len(right):\n",
    "        a[k] = right[j]\n",
    "        j += 1\n",
    "        k += 1\n",
    "\n",
    "\n",
    "def mergeSort(arr, l, r):\n",
    "    if r > l:\n",
    "        m = (r + l) // 2\n",
    "        mergeSort(arr, l, m)\n",
    "        mergeSort(arr, m + 1, r)\n",
    "        merge(arr, l, m, r)\n",
    "\n",
    "\n",
    "arr = [10, 5, 30, 15, 7]\n",
    "print(f\"Before Merge Sort: {arr}\")\n",
    "\n",
    "mergeSort(arr, 0, 4)\n",
    "print(*arr)\n"
   ]
  },
  {
   "cell_type": "markdown",
   "metadata": {},
   "source": [
    "### Union of an array"
   ]
  },
  {
   "cell_type": "code",
   "execution_count": 4,
   "metadata": {},
   "outputs": [
    {
     "name": "stdout",
     "output_type": "stream",
     "text": [
      "[3, 5, 8, 2, 8, 9, 10, 15]\n",
      "2 3 5 8 9 10 15 "
     ]
    }
   ],
   "source": [
    "#Naive approach\n",
    "a = [3,5,8]\n",
    "b = [2,8,9,10,15]\n",
    "\n",
    "c = a + b\n",
    "print(c)\n",
    "\n",
    "c.sort()\n",
    "\n",
    "for i in range(0,len(c)):\n",
    "    if (i==0 or c[i] != c[i-1]):\n",
    "        print(c[i], end=\" \")"
   ]
  },
  {
   "cell_type": "code",
   "execution_count": 7,
   "metadata": {},
   "outputs": [
    {
     "name": "stdout",
     "output_type": "stream",
     "text": [
      "2 3 5 8 9 10 15 "
     ]
    }
   ],
   "source": [
    "# optimized approach\n",
    "\n",
    "def printUnion(a,b):\n",
    "    i = j = 0 \n",
    "    while(i<len(a) and j<len(b)):\n",
    "        if (i>0 and a[i]==a[i-1]):\n",
    "            i = i + 1\n",
    "        elif (j>0 and b[j]==b[j-1]):\n",
    "            j = j + 1\n",
    "        elif(a[i] < b[j]):\n",
    "            print(a[i], end=\" \")\n",
    "            i = i+1\n",
    "        elif (a[i] > b[j]):\n",
    "            print(b[j], end=\" \")\n",
    "            j = j+1\n",
    "        else:\n",
    "            print(a[i], end=\" \")\n",
    "            i = i+1\n",
    "            j = j+1\n",
    "    while (i<len(a)):\n",
    "        if(i>0 and a[i]!=a[i-1]):\n",
    "            print(a[i], end=\" \")\n",
    "        i = i+1\n",
    "    while (j <len(b)):\n",
    "        if (j > 0 and b[j]!= b[j-1]):\n",
    "            print(b[j], end=\" \")\n",
    "        j = j+1           \n",
    "\n",
    "\n",
    "a = [3,5,8]\n",
    "b = [2,8,9,10,15]\n",
    "printUnion(a,b)"
   ]
  },
  {
   "cell_type": "markdown",
   "metadata": {},
   "source": [
    "## Intersection of two sorted Arrays"
   ]
  },
  {
   "cell_type": "code",
   "execution_count": 8,
   "metadata": {},
   "outputs": [
    {
     "name": "stdout",
     "output_type": "stream",
     "text": [
      "20 "
     ]
    }
   ],
   "source": [
    "#Optimized approach\n",
    "\n",
    "def printIntersection(a,b,m,n):\n",
    "    i = 0\n",
    "    j = 0\n",
    "    while i<m and j<n:\n",
    "        if i>0 and a[i-1] == a[i]:\n",
    "            i+=1\n",
    "            continue\n",
    "        if a[i]<b[j]:\n",
    "            i+=1\n",
    "        elif b[j]<a[i]:\n",
    "            j+=1\n",
    "        else:\n",
    "            print(a[i], end=\" \")\n",
    "            i+=1\n",
    "            j+=1\n",
    "            \n",
    "\n",
    "\n",
    "a = [1,20,20,40,60]\n",
    "b = [2,20,20,20]\n",
    "printIntersection(a,b,len(a), len(b))"
   ]
  },
  {
   "cell_type": "markdown",
   "metadata": {},
   "source": [
    "## Inversion of array"
   ]
  },
  {
   "cell_type": "code",
   "execution_count": 9,
   "metadata": {},
   "outputs": [
    {
     "name": "stdout",
     "output_type": "stream",
     "text": [
      "3\n"
     ]
    }
   ],
   "source": [
    "# Count inversions in Array\n",
    "# Naive Approach\n",
    "\n",
    "def invcount(arr) :\n",
    "    n = len(arr) \n",
    "    res = 0\n",
    "    for i in range (n - 1) :\n",
    "        for j in range(i + 1,n) :\n",
    "            if arr[i] > arr[j]:\n",
    "                res += 1 \n",
    "    print(res)\n",
    "    \n",
    "    \n",
    "arr = [2,4,1,3,5]\n",
    "invcount(arr)"
   ]
  },
  {
   "cell_type": "code",
   "execution_count": 12,
   "metadata": {},
   "outputs": [
    {
     "name": "stdout",
     "output_type": "stream",
     "text": [
      "Number of inversions are 5\n"
     ]
    }
   ],
   "source": [
    "# Python 3 program to count inversions in an array\n",
    "\n",
    "def mergeSort(arr, n):\n",
    "\ttemp_arr = [0]*n\n",
    "\treturn _mergeSort(arr, temp_arr, 0, n-1)\n",
    "\n",
    "def _mergeSort(arr, temp_arr, left, right):\n",
    "\n",
    "\tinv_count = 0\n",
    "\n",
    "\tif left < right:\n",
    "\n",
    "\t\tmid = (left + right)//2\n",
    "\n",
    "\t\tinv_count += _mergeSort(arr, temp_arr,\n",
    "\t\t\t\t\t\t\t\tleft, mid)\n",
    "\n",
    "\t\tinv_count += _mergeSort(arr, temp_arr,\n",
    "\t\t\t\t\t\t\t\tmid + 1, right)\n",
    "\n",
    "\n",
    "\t\tinv_count += merge(arr, temp_arr, left, mid, right)\n",
    "\treturn inv_count\n",
    "\n",
    "\n",
    "def merge(arr, temp_arr, left, mid, right):\n",
    "\ti = left\t \n",
    "\tj = mid + 1 \n",
    "\tk = left\t \n",
    "\tinv_count = 0\n",
    "\n",
    "\twhile i <= mid and j <= right:\n",
    "\n",
    "\t\tif arr[i] <= arr[j]:\n",
    "\t\t\ttemp_arr[k] = arr[i]\n",
    "\t\t\tk += 1\n",
    "\t\t\ti += 1\n",
    "\t\telse:\n",
    "\t\t\ttemp_arr[k] = arr[j]\n",
    "\t\t\tinv_count += (mid-i + 1)\n",
    "\t\t\tk += 1\n",
    "\t\t\tj += 1\n",
    "\n",
    "\twhile i <= mid:\n",
    "\t\ttemp_arr[k] = arr[i]\n",
    "\t\tk += 1\n",
    "\t\ti += 1\n",
    "\n",
    "\twhile j <= right:\n",
    "\t\ttemp_arr[k] = arr[j]\n",
    "\t\tk += 1\n",
    "\t\tj += 1\n",
    "\n",
    "\tfor loop_var in range(left, right + 1):\n",
    "\t\tarr[loop_var] = temp_arr[loop_var]\n",
    "\n",
    "\treturn inv_count\n",
    "\n",
    "\n",
    "arr = [1, 20, 6, 4, 5]\n",
    "n = len(arr)\n",
    "result = mergeSort(arr, n)\n",
    "print(\"Number of inversions are\", result)\n"
   ]
  },
  {
   "cell_type": "code",
   "execution_count": null,
   "metadata": {},
   "outputs": [],
   "source": []
  }
 ],
 "metadata": {
  "interpreter": {
   "hash": "949777d72b0d2535278d3dc13498b2535136f6dfe0678499012e853ee9abcab1"
  },
  "kernelspec": {
   "display_name": "Python 3.11.2 64-bit",
   "language": "python",
   "name": "python3"
  },
  "language_info": {
   "codemirror_mode": {
    "name": "ipython",
    "version": 3
   },
   "file_extension": ".py",
   "mimetype": "text/x-python",
   "name": "python",
   "nbconvert_exporter": "python",
   "pygments_lexer": "ipython3",
   "version": "3.11.2"
  },
  "orig_nbformat": 4
 },
 "nbformat": 4,
 "nbformat_minor": 2
}
