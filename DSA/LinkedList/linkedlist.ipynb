{
 "cells": [
  {
   "cell_type": "code",
   "execution_count": 3,
   "metadata": {},
   "outputs": [
    {
     "name": "stdout",
     "output_type": "stream",
     "text": [
      "<__main__.Node object at 0x10b902d90>\n",
      "10 20 25 30 "
     ]
    }
   ],
   "source": [
    "#linked list with 3 nodes\n",
    "\n",
    "class Node:\n",
    "    def __init__(self, key):\n",
    "        self.key = key\n",
    "        self.next = None\n",
    "    \n",
    "def printlist(head):\n",
    "    curr = head\n",
    "    while curr != None:\n",
    "        print(curr.key, end=\" \")\n",
    "        curr = curr.next\n",
    "        \n",
    "\n",
    "head = Node(10)\n",
    "head.next= Node(20)\n",
    "head.next.next= Node(25)\n",
    "head.next.next.next = Node(30)\n",
    "print(head)\n",
    "printlist(head)\n",
    "\n",
    "#Time complexity Q(n)\n",
    "#Aux Space : O(1)\n",
    "\n"
   ]
  },
  {
   "cell_type": "code",
   "execution_count": 7,
   "metadata": {},
   "outputs": [
    {
     "name": "stdout",
     "output_type": "stream",
     "text": [
      "3\n",
      "10 15 20 35 "
     ]
    }
   ],
   "source": [
    "#Search in a linked list\n",
    "class Node:\n",
    "    def __init__(self, k):\n",
    "        self.key = k\n",
    "        self.next = None\n",
    "def search(head, x):\n",
    "    curr = head\n",
    "    pos = 1\n",
    "    while curr != None:\n",
    "        if curr.key == x:\n",
    "            return pos\n",
    "        pos = pos + 1\n",
    "        curr = curr.next\n",
    "    return -1 \n",
    "\n",
    "def printlist(head):\n",
    "    curr = head\n",
    "    while curr != None:\n",
    "        print(curr.key, end=\" \")\n",
    "        curr = curr.next\n",
    "\n",
    "head = Node(10)\n",
    "head.next= Node(15)\n",
    "head.next.next= Node(20)\n",
    "head.next.next.next = Node(35)\n",
    "x = 20\n",
    "print(search(head,x))\n",
    "#o/p = 3\n",
    "\n",
    "printlist(head)\n",
    "#Time Complexity = O(n)\n",
    "#Aux Space O(1)\n",
    "\n"
   ]
  },
  {
   "cell_type": "code",
   "execution_count": 8,
   "metadata": {},
   "outputs": [
    {
     "name": "stdout",
     "output_type": "stream",
     "text": [
      "30 20 10 "
     ]
    }
   ],
   "source": [
    "#Insert Beginning linked list\n",
    "class Node:\n",
    "    def __init__(self, k):\n",
    "        self.key = k\n",
    "        self.next = None\n",
    "def insertbegin(head, key):\n",
    "    temp = Node(key)\n",
    "    temp.next = head\n",
    "    return temp\n",
    "\n",
    "\n",
    "\n",
    "def printlist(head):\n",
    "    curr = head\n",
    "    while curr != None:\n",
    "        print(curr.key, end=\" \")\n",
    "        curr = curr.next\n",
    "    \n",
    "\n",
    "head = Node(10)\n",
    "head = insertbegin(head, 20)\n",
    "head = insertbegin(head, 30)\n",
    "# head.next.next.next = Node(40)\n",
    "printlist(head)\n",
    "\n",
    "#search(head, x)"
   ]
  },
  {
   "cell_type": "code",
   "execution_count": null,
   "metadata": {},
   "outputs": [
    {
     "name": "stdout",
     "output_type": "stream",
     "text": [
      "30 20 10 "
     ]
    }
   ],
   "source": [
    "#Insert End linked list\n",
    "class Node:\n",
    "    def __init__(self, k):\n",
    "        self.key = k\n",
    "        self.next = None\n",
    "\n",
    "\n",
    "def insertEnd(head, key):\n",
    "    if head == None:\n",
    "        return Node(key)\n",
    "    \n",
    "    curr = head\n",
    "    while curr.next != None:\n",
    "        curr = curr.next\n",
    "    curr.next = Node(key)\n",
    "    return head\n",
    "\n",
    "\n",
    "\n",
    "def printlist(head):\n",
    "    curr = head\n",
    "    while curr != None:\n",
    "        print(curr.key, end=\" \")\n",
    "        curr = curr.next\n",
    "    \n",
    "\n",
    "head = Node(10)\n",
    "head = insertEnd(head, 20)\n",
    "head = insertEnd(head, 30)\n",
    "# head.next.next.next = Node(40)\n",
    "printlist(head)\n",
    "\n",
    "#search(head, x)"
   ]
  },
  {
   "cell_type": "code",
   "execution_count": null,
   "metadata": {},
   "outputs": [
    {
     "name": "stdout",
     "output_type": "stream",
     "text": [
      "30 20 10 "
     ]
    }
   ],
   "source": [
    "#Insert at position linked list\n",
    "class Node:\n",
    "    def __init__(self, k):\n",
    "        self.key = k\n",
    "        self.next = None\n",
    "\n",
    "\n",
    "def insertEnd(head, key):\n",
    "    if head == None:\n",
    "        return Node(key)\n",
    "    \n",
    "    curr = head\n",
    "    while curr.next != None:\n",
    "        curr = curr.next\n",
    "    curr.next = Node(key)\n",
    "    return head\n",
    "\n",
    "\n",
    "\n",
    "def printlist(head):\n",
    "    curr = head\n",
    "    while curr != None:\n",
    "        print(curr.key, end=\" \")\n",
    "        curr = curr.next\n",
    "    \n",
    "\n",
    "head = Node(10)\n",
    "head = insertEnd(head, 20)\n",
    "head = insertEnd(head, 30)\n",
    "# head.next.next.next = Node(40)\n",
    "printlist(head)\n",
    "\n",
    "#search(head, x)"
   ]
  },
  {
   "cell_type": "code",
   "execution_count": null,
   "metadata": {},
   "outputs": [],
   "source": []
  }
 ],
 "metadata": {
  "interpreter": {
   "hash": "aee8b7b246df8f9039afb4144a1f6fd8d2ca17a180786b69acc140d282b71a49"
  },
  "kernelspec": {
   "display_name": "Python 3.11.2 64-bit",
   "language": "python",
   "name": "python3"
  },
  "language_info": {
   "codemirror_mode": {
    "name": "ipython",
    "version": 3
   },
   "file_extension": ".py",
   "mimetype": "text/x-python",
   "name": "python",
   "nbconvert_exporter": "python",
   "pygments_lexer": "ipython3",
   "version": "3.11.2"
  },
  "orig_nbformat": 4
 },
 "nbformat": 4,
 "nbformat_minor": 2
}
