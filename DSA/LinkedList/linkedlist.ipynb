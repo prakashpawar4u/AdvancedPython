{
 "cells": [
  {
   "cell_type": "code",
   "execution_count": 3,
   "metadata": {},
   "outputs": [
    {
     "name": "stdout",
     "output_type": "stream",
     "text": [
      "<__main__.Node object at 0x10409af50>\n",
      "10 20 25 30 "
     ]
    }
   ],
   "source": [
    "#linked list with 3 nodes\n",
    "\n",
    "class Node:\n",
    "    def __init__(self, key):\n",
    "        self.key = key\n",
    "        self.next = None\n",
    "    \n",
    "def printlist(head):\n",
    "    curr = head\n",
    "    while curr != None:\n",
    "        print(curr.key, end=\" \")\n",
    "        curr = curr.next\n",
    "        \n",
    "\n",
    "head = Node(10)\n",
    "head.next= Node(20)\n",
    "head.next.next= Node(25)\n",
    "head.next.next.next = Node(30)\n",
    "print(head)\n",
    "printlist(head)\n",
    "\n",
    "#Time complexity Q(n)\n",
    "#Aux Space : O(1)\n",
    "\n"
   ]
  },
  {
   "cell_type": "code",
   "execution_count": 4,
   "metadata": {},
   "outputs": [
    {
     "name": "stdout",
     "output_type": "stream",
     "text": [
      "3\n",
      "10 15 20 35 "
     ]
    }
   ],
   "source": [
    "#Search in a linked list\n",
    "class Node:\n",
    "    def __init__(self, k):\n",
    "        self.key = k\n",
    "        self.next = None\n",
    "def search(head, x):\n",
    "    curr = head\n",
    "    pos = 1\n",
    "    while curr != None:\n",
    "        if curr.key == x:\n",
    "            return pos\n",
    "        pos = pos + 1\n",
    "        curr = curr.next\n",
    "    return -1 \n",
    "\n",
    "def printlist(head):\n",
    "    curr = head\n",
    "    while curr != None:\n",
    "        print(curr.key, end=\" \")\n",
    "        curr = curr.next\n",
    "\n",
    "head = Node(10)\n",
    "head.next= Node(15)\n",
    "head.next.next= Node(20)\n",
    "head.next.next.next = Node(35)\n",
    "x = 20\n",
    "print(search(head,x))\n",
    "#o/p = 3\n",
    "\n",
    "printlist(head)\n",
    "#Time Complexity = O(n)\n",
    "#Aux Space O(1)\n",
    "\n"
   ]
  },
  {
   "cell_type": "code",
   "execution_count": 5,
   "metadata": {},
   "outputs": [
    {
     "name": "stdout",
     "output_type": "stream",
     "text": [
      "<__main__.Node object at 0x103d0a010>\n",
      "<__main__.Node object at 0x103d1ed50>\n",
      "<__main__.Node object at 0x104099fd0>\n",
      "30 20 10 "
     ]
    }
   ],
   "source": [
    "#Insert Beginning linked list\n",
    "class Node:\n",
    "    def __init__(self, k):\n",
    "        self.key = k\n",
    "        self.next = None\n",
    "\n",
    "def insertbegin(head, key):\n",
    "    temp = Node(key)\n",
    "    temp.next = head\n",
    "    return temp\n",
    "\n",
    "def printlist(head):\n",
    "    curr = head\n",
    "    while curr != None:\n",
    "        print(curr.key, end=\" \")\n",
    "        curr = curr.next\n",
    "    \n",
    "\n",
    "head = Node(10)\n",
    "print(head)\n",
    "head = insertbegin(head, 20)\n",
    "print(head)\n",
    "head = insertbegin(head, 30)\n",
    "\n",
    "print(head)\n",
    "# head.next.next.next = Node(40)\n",
    "printlist(head)\n",
    "\n",
    "#search(head, x)"
   ]
  },
  {
   "cell_type": "code",
   "execution_count": 7,
   "metadata": {},
   "outputs": [
    {
     "name": "stdout",
     "output_type": "stream",
     "text": [
      "10 20 30 "
     ]
    }
   ],
   "source": [
    "#Insert End linked list\n",
    "class Node:\n",
    "    def __init__(self, k):\n",
    "        self.key = k\n",
    "        self.next = None\n",
    "\n",
    "\n",
    "def insertEnd(head, key):\n",
    "    if head == None:\n",
    "        return Node(key)\n",
    "    \n",
    "    curr = head\n",
    "    while curr.next != None:\n",
    "        curr = curr.next\n",
    "    curr.next = Node(key)\n",
    "    return head\n",
    "\n",
    "\n",
    "\n",
    "def printlist(head):\n",
    "    curr = head\n",
    "    while curr != None:\n",
    "        print(curr.key, end=\" \")\n",
    "        curr = curr.next\n",
    "    \n",
    "\n",
    "head = Node(10)\n",
    "head = insertEnd(head, 20)\n",
    "head = insertEnd(head, 30)\n",
    "# head.next.next.next = Node(40)\n",
    "printlist(head)\n",
    "\n",
    "#search(head, x)"
   ]
  },
  {
   "cell_type": "code",
   "execution_count": 13,
   "metadata": {},
   "outputs": [
    {
     "name": "stdout",
     "output_type": "stream",
     "text": [
      "10 20 30 40 50 \n",
      "10 20 30 45 40 50 \n"
     ]
    }
   ],
   "source": [
    "# Insert at given position\n",
    "class Node:\n",
    "    def __init__(self, k):\n",
    "        self.key = k\n",
    "        self.next = None\n",
    "\n",
    "\n",
    "def insertPos(head,data,pos):\n",
    "\n",
    "    temp = Node(data)\n",
    "\n",
    "    if pos ==1:\n",
    "        temp.next = head\n",
    "        return temp\n",
    "    curr = head\n",
    "\n",
    "    for i in range(pos-2):\n",
    "        curr = curr.next\n",
    "        if curr == None:\n",
    "            return head\n",
    "\n",
    "    temp.next = curr.next\n",
    "    curr.next = temp\n",
    "\n",
    "    return head\n",
    "\n",
    "\n",
    "def printList(head):\n",
    "    curr = head\n",
    "    while curr != None:\n",
    "        print(curr.key, end=\" \")\n",
    "        curr = curr.next\n",
    "    print()\n",
    "\n",
    "\n",
    "head = Node(10)\n",
    "head.next = Node(20)\n",
    "head.next.next = Node(30)\n",
    "head.next.next.next = Node(40)\n",
    "head.next.next.next.next = Node(50)\n",
    "\n",
    "printList(head)\n",
    "\n",
    "head = insertPos(head,45,4)\n",
    "\n",
    "printList(head)\n"
   ]
  },
  {
   "cell_type": "code",
   "execution_count": 14,
   "metadata": {},
   "outputs": [
    {
     "name": "stdout",
     "output_type": "stream",
     "text": [
      "10 20 30 40 \n",
      "20 30 40 \n"
     ]
    }
   ],
   "source": [
    "# del first\n",
    "class Node:\n",
    "    def __init__(self, k):\n",
    "        self.key = k\n",
    "        self.next = None\n",
    "\n",
    "\n",
    "def delFirst(head):\n",
    "    if head == None:\n",
    "        return None\n",
    "    else:\n",
    "        return head.next\n",
    "\n",
    "\n",
    "def printList(head):\n",
    "    curr = head\n",
    "    while curr != None:\n",
    "        print(curr.key, end=\" \")\n",
    "        curr = curr.next\n",
    "    #print()\n",
    "\n",
    "\n",
    "head = Node(10)\n",
    "head.next = Node(20)\n",
    "head.next.next = Node(30)\n",
    "head.next.next.next = Node(40)\n",
    "\n",
    "printList(head)\n",
    "\n",
    "head = delFirst(head)\n",
    "\n",
    "printList(head)\n"
   ]
  },
  {
   "cell_type": "code",
   "execution_count": 9,
   "metadata": {},
   "outputs": [
    {
     "name": "stdout",
     "output_type": "stream",
     "text": [
      "0\n",
      "1\n"
     ]
    }
   ],
   "source": [
    "#insert given\n",
    "pos = 4\n",
    "for i in range(pos-2):\n",
    "    print(i)"
   ]
  },
  {
   "cell_type": "code",
   "execution_count": null,
   "metadata": {},
   "outputs": [],
   "source": [
    "# Del Last Node\n"
   ]
  },
  {
   "cell_type": "code",
   "execution_count": null,
   "metadata": {},
   "outputs": [],
   "source": [
    "# Delete a node with pointer given to it"
   ]
  },
  {
   "cell_type": "code",
   "execution_count": null,
   "metadata": {},
   "outputs": [],
   "source": [
    "# Sorted insert linked list"
   ]
  },
  {
   "cell_type": "code",
   "execution_count": 18,
   "metadata": {},
   "outputs": [
    {
     "name": "stdout",
     "output_type": "stream",
     "text": [
      "10 20 30 40 50 \n"
     ]
    }
   ],
   "source": [
    "# Middle of the linked list\n",
    "class Node:\n",
    "    def __init__(self, k):\n",
    "        self.data = k\n",
    "        self.next = None\n",
    "\n",
    "def printList(head):\n",
    "    curr = head\n",
    "    while curr != None:\n",
    "        print(curr.data, end=\" \")\n",
    "        curr = curr.next\n",
    "    print()\n",
    "\n",
    "def printMiddle(head):\n",
    "    \n",
    "\n",
    "head = Node(10)\n",
    "head.next = Node(20)\n",
    "head.next.next = Node(30)\n",
    "head.next.next.next = Node(40)\n",
    "head.next.next.next.next = Node(50)\n",
    "\n",
    "printList(head)"
   ]
  },
  {
   "cell_type": "code",
   "execution_count": null,
   "metadata": {},
   "outputs": [],
   "source": [
    "# Nth Node from end of linked list\n",
    "\n",
    "class Node:\n",
    "    def __init__(self,k):\n",
    "        self.data = k\n",
    "        self.next = None\n",
    "\n",
    "def printList(head):\n",
    "    curr = head\n",
    "    while curr != None:\n",
    "        print(curr.data, end=\" \")\n",
    "        curr = curr.next\n",
    "    print()\n",
    "\n",
    "def printNthfromEnd(head, n):\n",
    "    if head == None:\n",
    "        return\n",
    "    first = head\n",
    "    for i in range(n):\n",
    "        if first == None:\n",
    "            return\n",
    "        first = first.next\n",
    "    second = head\n",
    "    while first != None:\n",
    "        second = second.next\n",
    "        first = first.next\n",
    "    print(second.data)\n",
    "head = Node(10)\n",
    "head.next = Node(20)\n",
    "head.next.next = Node(30)\n",
    "head.next.next.next = Node(40)\n",
    "head.next.next.next.next = Node(50)\n",
    "head.next.next.next.next.next = Node(60)\n",
    "\n",
    "printList(head)\n",
    "printNthfromEnd(head, 2)\n",
    "printList(head)\n",
    "\n"
   ]
  },
  {
   "cell_type": "code",
   "execution_count": 15,
   "metadata": {},
   "outputs": [
    {
     "name": "stdout",
     "output_type": "stream",
     "text": [
      "10 20 20 30 30 30 \n",
      "10 20 30 \n"
     ]
    }
   ],
   "source": [
    "# Remove Duplicates from a sorted Singly linked list\n",
    "class Node:\n",
    "    def __init__(self,k):\n",
    "        self.data = k\n",
    "        self.next = None\n",
    "\n",
    "def printList(head):\n",
    "    curr = head\n",
    "    while curr != None:\n",
    "        print(curr.data, end=\" \")\n",
    "        curr = curr.next\n",
    "    print()\n",
    "\n",
    "def removeDups(head):\n",
    "    curr = head\n",
    "    while curr != None and curr.next != None:\n",
    "        if curr.data == curr.next.data:\n",
    "            curr.next = curr.next.next\n",
    "        else:\n",
    "            curr = curr.next\n",
    "\n",
    "head = Node(10)\n",
    "head.next = Node(20)\n",
    "head.next.next = Node(20)\n",
    "head.next.next.next = Node(30)\n",
    "head.next.next.next.next = Node(30)\n",
    "head.next.next.next.next.next = Node(30)\n",
    "\n",
    "printList(head)\n",
    "removeDups(head)\n",
    "printList(head)\n",
    "\n"
   ]
  },
  {
   "cell_type": "code",
   "execution_count": null,
   "metadata": {},
   "outputs": [],
   "source": [
    "# Recursive Reverse a linked list"
   ]
  },
  {
   "cell_type": "code",
   "execution_count": null,
   "metadata": {},
   "outputs": [],
   "source": [
    "# Recursive Reverse A linked list\n"
   ]
  },
  {
   "cell_type": "code",
   "execution_count": null,
   "metadata": {},
   "outputs": [],
   "source": []
  }
 ],
 "metadata": {
  "interpreter": {
   "hash": "aee8b7b246df8f9039afb4144a1f6fd8d2ca17a180786b69acc140d282b71a49"
  },
  "kernelspec": {
   "display_name": "Python 3.11.2 64-bit",
   "language": "python",
   "name": "python3"
  },
  "language_info": {
   "codemirror_mode": {
    "name": "ipython",
    "version": 3
   },
   "file_extension": ".py",
   "mimetype": "text/x-python",
   "name": "python",
   "nbconvert_exporter": "python",
   "pygments_lexer": "ipython3",
   "version": "3.11.2"
  },
  "orig_nbformat": 4
 },
 "nbformat": 4,
 "nbformat_minor": 2
}
