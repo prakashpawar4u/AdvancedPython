{
 "cells": [
  {
   "cell_type": "code",
   "execution_count": 4,
   "metadata": {},
   "outputs": [],
   "source": [
    "class Node:\n",
    "    def __init__(self, key):\n",
    "        self.data = key\n",
    "        self.next = None\n"
   ]
  },
  {
   "cell_type": "code",
   "execution_count": 5,
   "metadata": {},
   "outputs": [
    {
     "name": "stdout",
     "output_type": "stream",
     "text": [
      "Circular Linked List:\n",
      "10 -> 20 -> 30 -> ... (circular)\n",
      "After deleting 20:\n",
      "10 -> 30 -> ... (circular)\n"
     ]
    }
   ],
   "source": [
    "class CircularLinkedList:\n",
    "    def  __init__(self):\n",
    "        self.head = None\n",
    "    \n",
    "    def append(self, data):\n",
    "        new_node = Node(data)\n",
    "        if self.head is None:\n",
    "            self.head = new_node\n",
    "            new_node.next = self.head\n",
    "        else:\n",
    "            current= self.head\n",
    "            while current.next != self.head:\n",
    "                current = current.next\n",
    "            current.next = new_node\n",
    "            new_node.next = self.head\n",
    "    \n",
    "    # Method to display the circular linked list\n",
    "    def display(self):\n",
    "        if self.head is None:\n",
    "            print(\"The list is empty.\")\n",
    "            return\n",
    "        current = self.head\n",
    "        while True:\n",
    "            print(current.data, end=\" -> \")\n",
    "            current = current.next\n",
    "            if current == self.head:\n",
    "                break\n",
    "        print(\"... (circular)\")\n",
    "\n",
    "    # Method to delete a node from the list\n",
    "    def delete(self, key):\n",
    "        if self.head is None:\n",
    "            print(\"The list is empty.\")\n",
    "            return\n",
    "\n",
    "        current = self.head\n",
    "        prev = None\n",
    "\n",
    "        # If the head node contains the data\n",
    "        if current.data == key:\n",
    "            if current.next == self.head:  # If there's only one node in the list\n",
    "                self.head = None\n",
    "            else:\n",
    "                # Find the last node and update its next to the second node\n",
    "                while current.next != self.head:\n",
    "                    current = current.next\n",
    "                current.next = self.head.next\n",
    "                self.head = self.head.next\n",
    "            return\n",
    "\n",
    "        # Traverse the list to find the node to delete\n",
    "        while current.next != self.head:\n",
    "            prev = current\n",
    "            current = current.next\n",
    "            if current.data == key:\n",
    "                prev.next = current.next\n",
    "                current = None\n",
    "                return\n",
    "        print(\"Node with data\", key, \"not found.\")\n",
    "\n",
    "# Example Usage\n",
    "cll = CircularLinkedList()\n",
    "cll.append(10)\n",
    "cll.append(20)\n",
    "cll.append(30)\n",
    "\n",
    "print(\"Circular Linked List:\")\n",
    "cll.display()\n",
    "\n",
    "cll.delete(20)\n",
    "print(\"After deleting 20:\")\n",
    "cll.display()\n",
    "\n",
    "    "
   ]
  },
  {
   "cell_type": "code",
   "execution_count": null,
   "metadata": {},
   "outputs": [],
   "source": []
  }
 ],
 "metadata": {
  "kernelspec": {
   "display_name": "Python 3",
   "language": "python",
   "name": "python3"
  },
  "language_info": {
   "codemirror_mode": {
    "name": "ipython",
    "version": 3
   },
   "file_extension": ".py",
   "mimetype": "text/x-python",
   "name": "python",
   "nbconvert_exporter": "python",
   "pygments_lexer": "ipython3",
   "version": "3.11.2"
  }
 },
 "nbformat": 4,
 "nbformat_minor": 2
}
