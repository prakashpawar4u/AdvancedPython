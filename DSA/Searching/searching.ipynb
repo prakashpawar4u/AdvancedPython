{
 "cells": [
  {
   "cell_type": "markdown",
   "metadata": {},
   "source": [
    "### Binary search in python\n",
    "\n",
    "I/P : l = [10,20,30,40,50,60]\n",
    "\n",
    "      x = 20\n",
    "\n",
    "O/P : 1\n",
    "\n"
   ]
  },
  {
   "cell_type": "code",
   "execution_count": 1,
   "metadata": {},
   "outputs": [
    {
     "name": "stdout",
     "output_type": "stream",
     "text": [
      "-1\n"
     ]
    }
   ],
   "source": [
    "#Linear search\n",
    "#Time complexity = O(n)\n",
    "\n",
    "def Search(l, key):\n",
    "    if len(l)==1:\n",
    "        return 1\n",
    "\n",
    "    for i in range(len(l)):\n",
    "        if l[i]==key:\n",
    "            return i\n",
    "    else:\n",
    "        return -1\n",
    "\n",
    "\n",
    "l = [10,20,30,40,50,60]\n",
    "print(Search(l,80))\n"
   ]
  },
  {
   "cell_type": "code",
   "execution_count": 2,
   "metadata": {},
   "outputs": [
    {
     "name": "stdout",
     "output_type": "stream",
     "text": [
      "key 10 is in left side \n",
      "0\n"
     ]
    }
   ],
   "source": [
    "#Binary Searh assuming list is sorted\n",
    "#Time Complexity : Olog(n)\n",
    "\n",
    "def binSearch(l, key):\n",
    "    low = 0\n",
    "    high = len(l)-1\n",
    "\n",
    "    while low <=high:\n",
    "        mid = (low+high)//2\n",
    "        if l[mid]==key:\n",
    "            return mid\n",
    "        elif l[mid]<key:\n",
    "            low = mid + 1\n",
    "            print(f\"key {key} is in right side \")\n",
    "        else:\n",
    "            high = mid - 1\n",
    "            print(f\"key {key} is in left side \")\n",
    "    return -1\n",
    "\n",
    "\n",
    "l = [10,20,30,40,50,60]\n",
    "print(binSearch(l, key=10))\n",
    "\n",
    "\n"
   ]
  },
  {
   "cell_type": "code",
   "execution_count": 3,
   "metadata": {},
   "outputs": [
    {
     "name": "stdout",
     "output_type": "stream",
     "text": [
      "30 2\n",
      "20 1\n",
      "10 0\n",
      "60 5\n",
      "40 3\n",
      "55 -1\n",
      "-50 -1\n"
     ]
    }
   ],
   "source": [
    "#Recursive Binary Search\n",
    "\n",
    "def bSearch(l, x, low, high):\n",
    "    if low > high:\n",
    "        return -1\n",
    "\n",
    "    mid = (low + high) // 2\n",
    "    if l[mid] == x:\n",
    "        return mid\n",
    "\n",
    "    elif l[mid] > x:\n",
    "        return bSearch(l, x, low, mid - 1)\n",
    "\n",
    "    else:\n",
    "        return bSearch(l, x, mid + 1, high)\n",
    "\n",
    "\n",
    "def bSearchMain(l, x):\n",
    "    return bSearch(l, x, 0, len(l) - 1)\n",
    "\n",
    "\n",
    "l = [10, 20, 30, 40, 50, 60]\n",
    "\n",
    "print(30, bSearchMain(l, 30))\n",
    "print(20, bSearchMain(l, 20))\n",
    "print(10, bSearchMain(l, 10))\n",
    "print(60, bSearchMain(l, 60))\n",
    "print(40, bSearchMain(l, 40))\n",
    "print(55, bSearchMain(l, 55))\n",
    "print(-50, bSearchMain(l, -50))"
   ]
  },
  {
   "cell_type": "markdown",
   "metadata": {},
   "source": [
    "### Analysis of Binary Search"
   ]
  },
  {
   "cell_type": "code",
   "execution_count": 4,
   "metadata": {},
   "outputs": [
    {
     "name": "stdout",
     "output_type": "stream",
     "text": [
      "30 2\n",
      "20 1\n",
      "10 0\n",
      "60 5\n",
      "40 3\n",
      "55 -1\n",
      "-50 -1\n"
     ]
    }
   ],
   "source": [
    "def bSearch(l, x):\n",
    "    low = 0\n",
    "    high = len(l) - 1\n",
    "\n",
    "    while low <= high:\n",
    "\n",
    "        mid = (low + high) // 2\n",
    "        if l[mid] == x:\n",
    "            return mid\n",
    "        elif l[mid] < x:\n",
    "            low = mid + 1\n",
    "\n",
    "        else:\n",
    "            high = mid - 1\n",
    "\n",
    "    return -1\n",
    "\n",
    "\n",
    "l = [10, 20, 30, 40, 50, 60]\n",
    "\n",
    "print(30, bSearch(l, 30))\n",
    "print(20, bSearch(l, 20))\n",
    "print(10, bSearch(l, 10))\n",
    "print(60, bSearch(l, 60))\n",
    "print(40, bSearch(l, 40))\n",
    "print(55, bSearch(l, 55))\n",
    "print(-50, bSearch(l, -50))\n"
   ]
  },
  {
   "cell_type": "code",
   "execution_count": 12,
   "metadata": {},
   "outputs": [
    {
     "name": "stdout",
     "output_type": "stream",
     "text": [
      "4\n"
     ]
    }
   ],
   "source": [
    "# Index of first occurences\n",
    "#naive approach\n",
    "#Time = O(n)\n",
    "#Aux Space\n",
    "\n",
    "def firstOccurence(l, x):\n",
    "    for i in range(0,len(l)):\n",
    "        if arr[i]==x:\n",
    "            return i \n",
    "    return -1\n",
    "\n",
    "arr = [1,10,10,10,20,20,40]\n",
    "x = 20\n",
    "print(firstOccurence(l,x))\n"
   ]
  },
  {
   "cell_type": "code",
   "execution_count": 3,
   "metadata": {},
   "outputs": [
    {
     "name": "stdout",
     "output_type": "stream",
     "text": [
      "1\n"
     ]
    }
   ],
   "source": [
    "#optimized code\n",
    "def firstOccurence(l, n, x):\n",
    "    low = 0\n",
    "    high = n - 1\n",
    "    while(low<=high):\n",
    "        mid=(low+high)//2\n",
    "        if x > arr[mid]:\n",
    "            low = mid + 1\n",
    "        elif x < arr[mid]:\n",
    "            high = mid -1\n",
    "        else:\n",
    "            if mid==0 or arr[mid-1] != arr[mid]:\n",
    "                return mid\n",
    "            else:\n",
    "                high=mid-1\n",
    "    return -1\n",
    "\n",
    "\n",
    "arr = [1,10,10,10,20,20,40]\n",
    "x = 10\n",
    "print(firstOccurence(arr,len(arr),x))"
   ]
  },
  {
   "cell_type": "code",
   "execution_count": 14,
   "metadata": {},
   "outputs": [
    {
     "name": "stdout",
     "output_type": "stream",
     "text": [
      "value of i is 5\n",
      "value of i is 4\n",
      "value of i is 3\n",
      "20 3\n",
      "value of i is 5\n",
      "40 5\n"
     ]
    }
   ],
   "source": [
    "#Naive solution\n",
    "def lastOccur(l,x):\n",
    "\n",
    "    for i in reversed(range(len(l))):\n",
    "        print(f'value of i is {i}')\n",
    "\n",
    "        if l[i] == x:\n",
    "            return i\n",
    "    return -1\n",
    "\n",
    "l = [10,15,20,20,40,40]\n",
    "\n",
    "print(20,lastOccur(l, 20))\n",
    "print(40,lastOccur(l, 40))\n",
    "\n"
   ]
  },
  {
   "cell_type": "markdown",
   "metadata": {},
   "source": []
  },
  {
   "cell_type": "code",
   "execution_count": 21,
   "metadata": {},
   "outputs": [
    {
     "name": "stdout",
     "output_type": "stream",
     "text": [
      "10 4\n",
      "20 6\n",
      "25 -1\n"
     ]
    }
   ],
   "source": [
    "#Optimized Solution\n",
    "def lastOccur(l, x):\n",
    "\n",
    "    low = 0\n",
    "    high = len(l) - 1\n",
    "\n",
    "    while low <= high:\n",
    "\n",
    "        mid = (low + high) // 2\n",
    "\n",
    "        if l[mid] < x:\n",
    "            low = mid + 1\n",
    "\n",
    "        elif l[mid] > x:\n",
    "            high = mid - 1\n",
    "\n",
    "        else:\n",
    "\n",
    "            if mid == len(l) - 1 or l[mid] != l[mid + 1]:\n",
    "                return mid\n",
    "            else:\n",
    "                low = mid + 1\n",
    "    return -1\n",
    "\n",
    "\n",
    "l = [5, 10, 10, 10, 10, 20, 20]\n",
    "\n",
    "print(10,lastOccur(l, 10))\n",
    "print(20,lastOccur(l, 20))\n",
    "print(25,lastOccur(l, 25))\n"
   ]
  },
  {
   "cell_type": "code",
   "execution_count": 4,
   "metadata": {},
   "outputs": [
    {
     "name": "stdout",
     "output_type": "stream",
     "text": [
      "4\n"
     ]
    }
   ],
   "source": [
    "#Count of occurence Naive method\n",
    "\n",
    "def countOccurr(l, x):\n",
    "    con = 0\n",
    "    for i in l:\n",
    "        if i == x:\n",
    "            con+=1\n",
    "    return con\n",
    "l = [5, 10, 10, 10, 10, 20, 20]\n",
    "print(countOccurr(l, 10))\n",
    "\n",
    "        \n",
    "\n",
    "\n",
    "    "
   ]
  },
  {
   "cell_type": "code",
   "execution_count": 19,
   "metadata": {},
   "outputs": [
    {
     "name": "stdout",
     "output_type": "stream",
     "text": [
      "10 1\n",
      "20 3\n",
      "30 2\n",
      "25 0\n"
     ]
    }
   ],
   "source": [
    "#count of occurence\n",
    "def firstIndex(l, x):\n",
    "    low = 0\n",
    "\n",
    "    high = len(l) - 1\n",
    "\n",
    "    while low <= high:\n",
    "\n",
    "        mid = (low + high) // 2\n",
    "\n",
    "        if l[mid] > x:\n",
    "            high = mid - 1\n",
    "        elif l[mid] < x:\n",
    "            low = mid + 1\n",
    "\n",
    "        else:\n",
    "            if mid == 0 or l[mid - 1] != l[mid]:\n",
    "                return mid\n",
    "            else:\n",
    "                high = mid - 1\n",
    "    return -1\n",
    "\n",
    "\n",
    "def lastOccur(l, x):\n",
    "    low = 0\n",
    "    high = len(l) - 1\n",
    "\n",
    "    while low <= high:\n",
    "\n",
    "        mid = (low + high) // 2\n",
    "\n",
    "        if l[mid] < x:\n",
    "            low = mid + 1\n",
    "\n",
    "        elif l[mid] > x:\n",
    "            high = mid - 1\n",
    "\n",
    "        else:\n",
    "\n",
    "            if mid == len(l) - 1 or l[mid] != l[mid + 1]:\n",
    "                return mid\n",
    "            else:\n",
    "                low = mid + 1\n",
    "    return -1\n",
    "\n",
    "\n",
    "def countOccurr(l, x):\n",
    "    first = firstIndex(l, x)\n",
    "\n",
    "    if first == -1:\n",
    "        return 0\n",
    "\n",
    "    else:\n",
    "        return lastOccur(l, x) - first + 1\n",
    "\n",
    "\n",
    "l = [10, 20, 20, 20, 30, 30]\n",
    "\n",
    "print(10, countOccurr(l, 10))\n",
    "print(20, countOccurr(l, 20))\n",
    "print(30, countOccurr(l, 30))\n",
    "print(25, countOccurr(l, 25))\n"
   ]
  },
  {
   "cell_type": "code",
   "execution_count": 7,
   "metadata": {},
   "outputs": [
    {
     "name": "stdout",
     "output_type": "stream",
     "text": [
      "3\n"
     ]
    }
   ],
   "source": [
    "#count num of 1s\n",
    "binary = [0,0,1,0,1,1,2,0]\n",
    "setBits = [ones for ones in binary if ones==1]\n",
    "print (len(setBits))\n",
    "\n"
   ]
  },
  {
   "cell_type": "code",
   "execution_count": 9,
   "metadata": {},
   "outputs": [
    {
     "name": "stdout",
     "output_type": "stream",
     "text": [
      "Count of 1's in given array is 4\n"
     ]
    }
   ],
   "source": [
    "def countOnes(arr, low, high):\n",
    "    if high >=low:\n",
    "        mid = low+(high-low)//2\n",
    "        #mid = 0 + 6-0 //2\n",
    "        if ((mid == high or arr[mid+1]==0) and (arr[mid]==1)):\n",
    "            return mid + 1\n",
    "        if arr[mid]==1:\n",
    "            return countOnes(arr, mid+1, high)\n",
    "        \n",
    "\n",
    "        return countOnes(arr, low, mid-1)\n",
    "    return 0\n",
    "\n",
    "arr = [1, 1, 1, 1, 0, 0, 0]\n",
    "print(\"Count of 1's in given array is\", countOnes(arr, 0, len(arr)-1))\n",
    "\n"
   ]
  },
  {
   "cell_type": "code",
   "execution_count": 11,
   "metadata": {},
   "outputs": [
    {
     "name": "stdout",
     "output_type": "stream",
     "text": [
      "Count of 1's in given array is  4\n"
     ]
    }
   ],
   "source": [
    "def countOnes(arr, n):\n",
    "    low = 0\n",
    "    high = n - 1\n",
    "    while(low <= high):\n",
    "        mid = (low+high)//2\n",
    "        if (arr[mid] < 1):\n",
    "            high = mid -1 \n",
    "        \n",
    "        elif(arr[mid]>1):\n",
    "            low = mid +1\n",
    "        else:\n",
    "            if(mid == n -1 or arr[mid +1 ]!=1):\n",
    "                return mid + 1\n",
    "            else: \n",
    "                low = mid + 1\n",
    "    return 0\n",
    "\n",
    "if __name__ == \"__main__\":\n",
    "    arr = [1,1,1,1,0,0,0]\n",
    "    n = len(arr)\n",
    "    print(\"Count of 1's in given array is \", countOnes(arr, n))\n"
   ]
  },
  {
   "cell_type": "code",
   "execution_count": 12,
   "metadata": {},
   "outputs": [
    {
     "name": "stdout",
     "output_type": "stream",
     "text": [
      "5\n"
     ]
    }
   ],
   "source": [
    "#Square root \n",
    "#Naive Approach\n",
    "#time : O(sq(n))\n",
    "\n",
    "def squareRoot(x):\n",
    "    i = 1\n",
    "    while i*i <= x:\n",
    "        i+=1\n",
    "    return i -1\n",
    "\n",
    "print(squareRoot(35))"
   ]
  },
  {
   "cell_type": "code",
   "execution_count": 18,
   "metadata": {},
   "outputs": [
    {
     "name": "stdout",
     "output_type": "stream",
     "text": [
      "3\n"
     ]
    }
   ],
   "source": [
    "# binary Search\n",
    "\n",
    "def sqRootFloor(x):\n",
    "    low = 1\n",
    "    high = x\n",
    "    ans = -1\n",
    "\n",
    "    while low <= high:\n",
    "        mid = (low + high)//2\n",
    "        mSq = mid * mid \n",
    "        if mSq == x:\n",
    "            return mid\n",
    "\n",
    "        elif mSq > x:\n",
    "            high = mid -1\n",
    "        else:\n",
    "            low = mid + 1\n",
    "            ans = mid\n",
    "    return ans\n",
    "\n",
    "print(sqRootFloor(10))\n"
   ]
  },
  {
   "cell_type": "code",
   "execution_count": null,
   "metadata": {},
   "outputs": [],
   "source": []
  }
 ],
 "metadata": {
  "kernelspec": {
   "display_name": "Python 3",
   "language": "python",
   "name": "python3"
  },
  "language_info": {
   "codemirror_mode": {
    "name": "ipython",
    "version": 3
   },
   "file_extension": ".py",
   "mimetype": "text/x-python",
   "name": "python",
   "nbconvert_exporter": "python",
   "pygments_lexer": "ipython3",
   "version": "3.11.2"
  },
  "orig_nbformat": 4
 },
 "nbformat": 4,
 "nbformat_minor": 2
}
