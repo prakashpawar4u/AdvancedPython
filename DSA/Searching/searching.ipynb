{
 "cells": [
  {
   "cell_type": "markdown",
   "metadata": {},
   "source": [
    "### Binary search in python\n",
    "\n",
    "I/P : l = [10,20,30,40,50,60]\n",
    "\n",
    "      x = 20\n",
    "\n",
    "O/P : 1\n",
    "\n"
   ]
  },
  {
   "cell_type": "code",
   "execution_count": 4,
   "metadata": {},
   "outputs": [
    {
     "name": "stdout",
     "output_type": "stream",
     "text": [
      "-1\n"
     ]
    }
   ],
   "source": [
    "#Linear search\n",
    "#Time complexity = O(n)\n",
    "\n",
    "def Search(l, key):\n",
    "    if len(l)==1:\n",
    "        return 1\n",
    "\n",
    "    for i in range(len(l)):\n",
    "        if l[i]==key:\n",
    "            return i\n",
    "    else:\n",
    "        return -1\n",
    "\n",
    "\n",
    "l = [10,20,30,40,50,60]\n",
    "print(Search(l,80))\n"
   ]
  },
  {
   "cell_type": "code",
   "execution_count": 10,
   "metadata": {},
   "outputs": [
    {
     "name": "stdout",
     "output_type": "stream",
     "text": [
      "list is [10, 20, 30, 40, 50, 60] and length is 6\n",
      "3\n",
      "key 20 is in left side \n",
      "None\n"
     ]
    }
   ],
   "source": [
    "#Binary Searh assuming list is sorted\n",
    "#Time Complexity : Olog(n)\n",
    "\n",
    "def binSearch(l, key):\n",
    "    low = 0\n",
    "    high = len(l)-1\n",
    "\n",
    "    while low <=high:\n",
    "        mid = (low+high)//2\n",
    "        if l[mid]==key:\n",
    "            return mid\n",
    "        elif l[mid]<key:\n",
    "            low = mid + 1\n",
    "            print(f\"key {key} is in right side \")\n",
    "        else:\n",
    "            high = mid - 1\n",
    "            print(f\"key {key} is in left side \")\n",
    "    return -1\n",
    "\n",
    "    # print(f\"list is {l} and length is {len(l)}\")\n",
    "    # mid = len(l)//2\n",
    "    # print(mid)\n",
    "\n",
    "    # if l[mid]==key:\n",
    "    #     return mid\n",
    "    # elif l[mid] > key:\n",
    "    #     print(f\"key {key} is in left side \")\n",
    "    \n",
    "    # else:\n",
    "    #     # l[mid] < key:\n",
    "    #     \n",
    "\n",
    "\n",
    "\n",
    "l = [10,20,30,40,50,60]\n",
    "print(binSearch(l, key=20))\n",
    "\n",
    "\n"
   ]
  },
  {
   "cell_type": "code",
   "execution_count": null,
   "metadata": {},
   "outputs": [],
   "source": []
  }
 ],
 "metadata": {
  "interpreter": {
   "hash": "949777d72b0d2535278d3dc13498b2535136f6dfe0678499012e853ee9abcab1"
  },
  "kernelspec": {
   "display_name": "Python 3.11.2 64-bit",
   "language": "python",
   "name": "python3"
  },
  "language_info": {
   "codemirror_mode": {
    "name": "ipython",
    "version": 3
   },
   "file_extension": ".py",
   "mimetype": "text/x-python",
   "name": "python",
   "nbconvert_exporter": "python",
   "pygments_lexer": "ipython3",
   "version": "3.11.2"
  },
  "orig_nbformat": 4
 },
 "nbformat": 4,
 "nbformat_minor": 2
}
